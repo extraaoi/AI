{
 "cells": [
  {
   "cell_type": "markdown",
   "id": "519b7873",
   "metadata": {
    "_cell_guid": "b1076dfc-b9ad-4769-8c92-a6c4dae69d19",
    "_uuid": "8f2839f25d086af736a60e9eeb907d3b93b6e0e5",
    "execution": {
     "iopub.execute_input": "2022-10-20T03:31:14.780805Z",
     "iopub.status.busy": "2022-10-20T03:31:14.780368Z",
     "iopub.status.idle": "2022-10-20T03:31:14.797460Z",
     "shell.execute_reply": "2022-10-20T03:31:14.796162Z"
    },
    "papermill": {
     "duration": 0.030937,
     "end_time": "2022-10-20T03:31:14.800031",
     "exception": false,
     "start_time": "2022-10-20T03:31:14.769094",
     "status": "completed"
    },
    "tags": []
   },
   "source": [
    "### 本节课主要是池化层和全连接层"
   ]
  },
  {
   "cell_type": "code",
   "execution_count": 1,
   "id": "dc9a7747",
   "metadata": {
    "execution": {
     "iopub.execute_input": "2022-10-20T03:31:14.819689Z",
     "iopub.status.busy": "2022-10-20T03:31:14.819240Z",
     "iopub.status.idle": "2022-10-20T03:31:20.811601Z",
     "shell.execute_reply": "2022-10-20T03:31:20.810405Z"
    },
    "papermill": {
     "duration": 6.005859,
     "end_time": "2022-10-20T03:31:20.814694",
     "exception": false,
     "start_time": "2022-10-20T03:31:14.808835",
     "status": "completed"
    },
    "tags": []
   },
   "outputs": [],
   "source": [
    "import tensorflow as tf\n",
    "import numpy as np"
   ]
  },
  {
   "cell_type": "code",
   "execution_count": 2,
   "id": "4b2cb6ec",
   "metadata": {},
   "outputs": [],
   "source": [
    "from tensorflow.keras.layers import AveragePooling2D,Flatten,Dense"
   ]
  },
  {
   "cell_type": "code",
   "execution_count": 3,
   "id": "8ac1e18a",
   "metadata": {
    "execution": {
     "iopub.execute_input": "2022-10-20T03:31:20.833318Z",
     "iopub.status.busy": "2022-10-20T03:31:20.832371Z",
     "iopub.status.idle": "2022-10-20T03:31:20.838683Z",
     "shell.execute_reply": "2022-10-20T03:31:20.837487Z"
    },
    "papermill": {
     "duration": 0.018386,
     "end_time": "2022-10-20T03:31:20.841315",
     "exception": false,
     "start_time": "2022-10-20T03:31:20.822929",
     "status": "completed"
    },
    "tags": []
   },
   "outputs": [
    {
     "name": "stdout",
     "output_type": "stream",
     "text": [
      "2.11.0\n"
     ]
    }
   ],
   "source": [
    "print(tf.__version__)"
   ]
  },
  {
   "cell_type": "markdown",
   "id": "64c41bd8",
   "metadata": {
    "papermill": {
     "duration": 0.01103,
     "end_time": "2022-10-20T03:31:23.624433",
     "exception": false,
     "start_time": "2022-10-20T03:31:23.613403",
     "status": "completed"
    },
    "tags": []
   },
   "source": [
    "### 池化默认为无重叠池化,通过下面观察padding和strides的效果"
   ]
  },
  {
   "cell_type": "code",
   "execution_count": 4,
   "id": "f7466954",
   "metadata": {
    "execution": {
     "iopub.execute_input": "2022-10-20T03:31:23.684077Z",
     "iopub.status.busy": "2022-10-20T03:31:23.683671Z",
     "iopub.status.idle": "2022-10-20T03:31:23.711552Z",
     "shell.execute_reply": "2022-10-20T03:31:23.710263Z"
    },
    "papermill": {
     "duration": 0.043451,
     "end_time": "2022-10-20T03:31:23.714490",
     "exception": false,
     "start_time": "2022-10-20T03:31:23.671039",
     "status": "completed"
    },
    "tags": []
   },
   "outputs": [
    {
     "name": "stdout",
     "output_type": "stream",
     "text": [
      "(1, 1, 1, 1)\n"
     ]
    }
   ],
   "source": [
    "chihua = np.array([[0,1,2],[3,4,5],[6,7,8]],dtype='float32')\n",
    "chihua\n",
    "c = chihua.reshape(1,3,3,1)\n",
    "mo = AveragePooling2D((2,3),strides=None,padding='valid')\n",
    "result = mo(c)\n",
    "print(result.numpy().shape)\n",
    "## padding='same',当滑窗内元素尺寸比滑窗小的时候，自动补0以便于滑窗与图片大小一直\n",
    "## 取值为valid的时候表示没有图片填充，通常会舍弃一部分图片信息"
   ]
  },
  {
   "cell_type": "code",
   "execution_count": 5,
   "id": "85b7c570",
   "metadata": {
    "execution": {
     "iopub.execute_input": "2022-10-20T03:31:23.739842Z",
     "iopub.status.busy": "2022-10-20T03:31:23.739427Z",
     "iopub.status.idle": "2022-10-20T03:31:23.747028Z",
     "shell.execute_reply": "2022-10-20T03:31:23.746299Z"
    },
    "papermill": {
     "duration": 0.023915,
     "end_time": "2022-10-20T03:31:23.750171",
     "exception": false,
     "start_time": "2022-10-20T03:31:23.726256",
     "status": "completed"
    },
    "tags": []
   },
   "outputs": [
    {
     "name": "stdout",
     "output_type": "stream",
     "text": [
      "(1, 2, 2, 1)\n"
     ]
    }
   ],
   "source": [
    "mo = AveragePooling2D((2,3),strides=(2,2),padding='same')\n",
    "result = mo(c)\n",
    "print(result.numpy().shape)"
   ]
  },
  {
   "cell_type": "code",
   "execution_count": 6,
   "id": "1d723576",
   "metadata": {
    "execution": {
     "iopub.execute_input": "2022-10-20T03:31:23.776974Z",
     "iopub.status.busy": "2022-10-20T03:31:23.776552Z",
     "iopub.status.idle": "2022-10-20T03:31:23.786431Z",
     "shell.execute_reply": "2022-10-20T03:31:23.785106Z"
    },
    "papermill": {
     "duration": 0.025242,
     "end_time": "2022-10-20T03:31:23.788856",
     "exception": false,
     "start_time": "2022-10-20T03:31:23.763614",
     "status": "completed"
    },
    "tags": []
   },
   "outputs": [
    {
     "name": "stdout",
     "output_type": "stream",
     "text": [
      "(1, 1, 1, 3)\n"
     ]
    }
   ],
   "source": [
    "a = np.array([[0,1,2],[3,4,5],[6,7,8]],dtype='float32')\n",
    "a_n = a.repeat(3,axis=1)\n",
    "a_n = a_n.reshape((1,3,3,3))\n",
    "mo = AveragePooling2D((2,3),strides=(2,2),padding='valid')\n",
    "result = mo(a_n)\n",
    "print(result.numpy().shape)"
   ]
  },
  {
   "cell_type": "markdown",
   "id": "734d19ae",
   "metadata": {
    "papermill": {
     "duration": 0.011414,
     "end_time": "2022-10-20T03:31:23.812489",
     "exception": false,
     "start_time": "2022-10-20T03:31:23.801075",
     "status": "completed"
    },
    "tags": []
   },
   "source": [
    "### 压平层"
   ]
  },
  {
   "cell_type": "code",
   "execution_count": 7,
   "id": "b0c97b6a",
   "metadata": {
    "execution": {
     "iopub.execute_input": "2022-10-20T03:31:23.838858Z",
     "iopub.status.busy": "2022-10-20T03:31:23.837719Z",
     "iopub.status.idle": "2022-10-20T03:31:23.847909Z",
     "shell.execute_reply": "2022-10-20T03:31:23.846520Z"
    },
    "papermill": {
     "duration": 0.02606,
     "end_time": "2022-10-20T03:31:23.850428",
     "exception": false,
     "start_time": "2022-10-20T03:31:23.824368",
     "status": "completed"
    },
    "tags": []
   },
   "outputs": [
    {
     "name": "stdout",
     "output_type": "stream",
     "text": [
      "(1, 6)\n"
     ]
    }
   ],
   "source": [
    "a=np.array([[1,2],[3,4],[5,6]])\n",
    "a = a.reshape((1,2,3,1))\n",
    "mo = Flatten()\n",
    "re = mo(a)\n",
    "print(re.numpy().shape)"
   ]
  },
  {
   "cell_type": "markdown",
   "id": "acb95776",
   "metadata": {
    "execution": {
     "iopub.execute_input": "2022-10-20T03:28:50.519264Z",
     "iopub.status.busy": "2022-10-20T03:28:50.518858Z",
     "iopub.status.idle": "2022-10-20T03:28:50.523404Z",
     "shell.execute_reply": "2022-10-20T03:28:50.522598Z",
     "shell.execute_reply.started": "2022-10-20T03:28:50.519234Z"
    },
    "papermill": {
     "duration": 0.011359,
     "end_time": "2022-10-20T03:31:23.873688",
     "exception": false,
     "start_time": "2022-10-20T03:31:23.862329",
     "status": "completed"
    },
    "tags": []
   },
   "source": [
    "### 全连接Dense层,其中参数units表示需要的输出参数个数。"
   ]
  },
  {
   "cell_type": "code",
   "execution_count": 8,
   "id": "d97b1833",
   "metadata": {
    "execution": {
     "iopub.execute_input": "2022-10-20T03:31:23.899751Z",
     "iopub.status.busy": "2022-10-20T03:31:23.899056Z",
     "iopub.status.idle": "2022-10-20T03:31:23.944338Z",
     "shell.execute_reply": "2022-10-20T03:31:23.942930Z"
    },
    "papermill": {
     "duration": 0.061442,
     "end_time": "2022-10-20T03:31:23.946912",
     "exception": false,
     "start_time": "2022-10-20T03:31:23.885470",
     "status": "completed"
    },
    "tags": []
   },
   "outputs": [
    {
     "name": "stdout",
     "output_type": "stream",
     "text": [
      "[[-6.6079345 -5.788866 ]]\n",
      "(1, 2)\n"
     ]
    }
   ],
   "source": [
    "a=np.array([1,2,3,4,5,6,7,8])\n",
    "a = a.reshape((1,8))\n",
    "mo = Dense(units=2)\n",
    "re = mo(a)\n",
    "print(re.numpy())\n",
    "print(re.numpy().shape)"
   ]
  },
  {
   "cell_type": "markdown",
   "id": "cf482d96",
   "metadata": {
    "papermill": {
     "duration": 0.011428,
     "end_time": "2022-10-20T03:31:23.970694",
     "exception": false,
     "start_time": "2022-10-20T03:31:23.959266",
     "status": "completed"
    },
    "tags": []
   },
   "source": [
    "## 本节课没有对应的作业。"
   ]
  },
  {
   "cell_type": "code",
   "execution_count": null,
   "id": "8a3c4468",
   "metadata": {},
   "outputs": [],
   "source": []
  }
 ],
 "metadata": {
  "kernelspec": {
   "display_name": "Python 3 (ipykernel)",
   "language": "python",
   "name": "python3"
  },
  "language_info": {
   "codemirror_mode": {
    "name": "ipython",
    "version": 3
   },
   "file_extension": ".py",
   "mimetype": "text/x-python",
   "name": "python",
   "nbconvert_exporter": "python",
   "pygments_lexer": "ipython3",
   "version": "3.9.13"
  },
  "papermill": {
   "default_parameters": {},
   "duration": 22.20798,
   "end_time": "2022-10-20T03:31:26.902425",
   "environment_variables": {},
   "exception": null,
   "input_path": "__notebook__.ipynb",
   "output_path": "__notebook__.ipynb",
   "parameters": {},
   "start_time": "2022-10-20T03:31:04.694445",
   "version": "2.3.4"
  }
 },
 "nbformat": 4,
 "nbformat_minor": 5
}
