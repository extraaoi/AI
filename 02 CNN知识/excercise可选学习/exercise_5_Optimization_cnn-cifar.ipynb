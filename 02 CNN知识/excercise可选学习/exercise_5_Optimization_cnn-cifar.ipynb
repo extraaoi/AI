{
 "cells": [
  {
   "cell_type": "markdown",
   "id": "d0b3c4ff",
   "metadata": {},
   "source": [
    "## 作业包括两部分：1. mnist数据集，使用上一个作业中mnist的最佳模型预测test数据，并显示测试准确率。2. 构建CNN模型并优化，对猫狗图片进行分类处理。并再test数据中做测试，给出测试准确率。"
   ]
  },
  {
   "cell_type": "markdown",
   "id": "071e541f",
   "metadata": {},
   "source": [
    "### 数据集介绍。150x150的灰度图片，猫的图片14960张，狗的图片有14903张。测试集合猫狗各有100张（测试集没有提供给大家）。大家提交模型，预留测试口，我们测试我们的数据集获得每个人模型的测试准确率。"
   ]
  },
  {
   "cell_type": "code",
   "execution_count": null,
   "id": "4236d03a",
   "metadata": {},
   "outputs": [],
   "source": []
  }
 ],
 "metadata": {
  "kernelspec": {
   "display_name": "Python 3 (ipykernel)",
   "language": "python",
   "name": "python3"
  },
  "language_info": {
   "codemirror_mode": {
    "name": "ipython",
    "version": 3
   },
   "file_extension": ".py",
   "mimetype": "text/x-python",
   "name": "python",
   "nbconvert_exporter": "python",
   "pygments_lexer": "ipython3",
   "version": "3.9.13"
  }
 },
 "nbformat": 4,
 "nbformat_minor": 5
}
