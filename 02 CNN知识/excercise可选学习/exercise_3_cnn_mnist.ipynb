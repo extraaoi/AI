{
 "cells": [
  {
   "cell_type": "markdown",
   "id": "52f3cfd1",
   "metadata": {},
   "source": [
    "### MNIST数据集和CIFAT数据集一样，可以直接网络获取，本节课的作业是搭建一个CNN网络，对MNIST数据集进行分类的任务。\n",
    "### 请在下方补充代码和你搭建CNN网络的一些心得体会和有意思的事|"
   ]
  },
  {
   "cell_type": "code",
   "execution_count": null,
   "id": "baddea23",
   "metadata": {},
   "outputs": [],
   "source": []
  }
 ],
 "metadata": {
  "kernelspec": {
   "display_name": "Python 3 (ipykernel)",
   "language": "python",
   "name": "python3"
  },
  "language_info": {
   "codemirror_mode": {
    "name": "ipython",
    "version": 3
   },
   "file_extension": ".py",
   "mimetype": "text/x-python",
   "name": "python",
   "nbconvert_exporter": "python",
   "pygments_lexer": "ipython3",
   "version": "3.9.13"
  }
 },
 "nbformat": 4,
 "nbformat_minor": 5
}
