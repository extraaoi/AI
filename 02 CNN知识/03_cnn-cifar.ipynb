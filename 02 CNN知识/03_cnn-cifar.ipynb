{
 "cells": [
  {
   "cell_type": "markdown",
   "id": "35609e31",
   "metadata": {},
   "source": [
    "### 本节课重点内容，搭建CNN网络，并完成cifar数据据集的分类任务。"
   ]
  },
  {
   "cell_type": "markdown",
   "id": "48162b0c",
   "metadata": {
    "papermill": {
     "duration": 0.029873,
     "end_time": "2022-10-21T01:33:38.519732",
     "exception": false,
     "start_time": "2022-10-21T01:33:38.489859",
     "status": "completed"
    },
    "tags": []
   },
   "source": [
    "#### CIFAR是由Alex Krizhevsky、Vinod Nair和Geoffrey Hinton收集而来，起初的数据集共分10类，\n",
    "#### 分别为飞机、汽车、鸟、猫、鹿、狗、青蛙、马、船、卡车，所以CIFAR数据集常以CIFAR-10命名。\n",
    "#### 分为十个类别\"airplane\", \"automobile\", \"bird\", \"cat\",\"deer\", \"dog\", \"horse\", \"ship\", \"truck\"用0-9表示\n",
    "#### CIFAR共包含60000张32*32的彩色图像（包含50000张训练图片，10000张测试图片），\n",
    "#### 其中没有任何类型重叠的情况\n"
   ]
  },
  {
   "cell_type": "markdown",
   "id": "5c29da92",
   "metadata": {
    "papermill": {
     "duration": 0.029144,
     "end_time": "2022-10-21T01:33:38.675697",
     "exception": false,
     "start_time": "2022-10-21T01:33:38.646553",
     "status": "completed"
    },
    "tags": []
   },
   "source": [
    "### 准备数据集，本地路径下有data_batch_1——data_batch_5是训练数据，test_batch包含的是测试数据集。"
   ]
  },
  {
   "cell_type": "code",
   "execution_count": 2,
   "id": "8001e112",
   "metadata": {
    "execution": {
     "iopub.execute_input": "2022-10-21T01:33:38.734057Z",
     "iopub.status.busy": "2022-10-21T01:33:38.733605Z",
     "iopub.status.idle": "2022-10-21T01:33:47.959773Z",
     "shell.execute_reply": "2022-10-21T01:33:47.957611Z"
    },
    "papermill": {
     "duration": 9.259016,
     "end_time": "2022-10-21T01:33:47.962972",
     "exception": false,
     "start_time": "2022-10-21T01:33:38.703956",
     "status": "completed"
    },
    "tags": []
   },
   "outputs": [],
   "source": [
    "import os\n",
    "import tensorflow as tf\n",
    "from tensorflow.keras import datasets"
   ]
  },
  {
   "cell_type": "code",
   "execution_count": 3,
   "id": "16137fa2",
   "metadata": {
    "execution": {
     "iopub.execute_input": "2022-10-21T01:33:48.018839Z",
     "iopub.status.busy": "2022-10-21T01:33:48.018146Z",
     "iopub.status.idle": "2022-10-21T01:33:48.024961Z",
     "shell.execute_reply": "2022-10-21T01:33:48.023369Z"
    },
    "papermill": {
     "duration": 0.037412,
     "end_time": "2022-10-21T01:33:48.027869",
     "exception": false,
     "start_time": "2022-10-21T01:33:47.990457",
     "status": "completed"
    },
    "tags": []
   },
   "outputs": [
    {
     "name": "stdout",
     "output_type": "stream",
     "text": [
      "2.6.4\n"
     ]
    }
   ],
   "source": [
    "print(tf.__version__)"
   ]
  },
  {
   "cell_type": "code",
   "execution_count": 3,
   "id": "7e5eae38",
   "metadata": {
    "execution": {
     "iopub.execute_input": "2022-10-21T01:33:48.083836Z",
     "iopub.status.busy": "2022-10-21T01:33:48.083404Z",
     "iopub.status.idle": "2022-10-21T01:33:48.091565Z",
     "shell.execute_reply": "2022-10-21T01:33:48.090241Z"
    },
    "papermill": {
     "duration": 0.041268,
     "end_time": "2022-10-21T01:33:48.094573",
     "exception": false,
     "start_time": "2022-10-21T01:33:48.053305",
     "status": "completed"
    },
    "tags": []
   },
   "outputs": [],
   "source": [
    "from tensorflow import keras\n",
    "from tensorflow.keras import layers, optimizers\n",
    "from tensorflow.keras.layers import Dense, Dropout, Flatten\n",
    "from tensorflow.keras.layers import Conv2D, MaxPooling2D"
   ]
  },
  {
   "cell_type": "code",
   "execution_count": 4,
   "id": "1b691c8c",
   "metadata": {
    "execution": {
     "iopub.execute_input": "2022-10-21T01:33:48.151949Z",
     "iopub.status.busy": "2022-10-21T01:33:48.151151Z",
     "iopub.status.idle": "2022-10-21T01:33:48.157801Z",
     "shell.execute_reply": "2022-10-21T01:33:48.156390Z"
    },
    "papermill": {
     "duration": 0.039404,
     "end_time": "2022-10-21T01:33:48.160786",
     "exception": false,
     "start_time": "2022-10-21T01:33:48.121382",
     "status": "completed"
    },
    "tags": []
   },
   "outputs": [],
   "source": [
    "import matplotlib.pyplot as plt\n",
    "from tensorflow.keras import Sequential\n",
    "from PIL import Image\n",
    "import numpy as np"
   ]
  },
  {
   "cell_type": "markdown",
   "id": "871ca30f",
   "metadata": {},
   "source": [
    "### 数据集获取，通常可以网络获取（如下语句），也可以本地获取，为了保证可用，我们准备了本地数据，并给出了读取该数据集的方法。"
   ]
  },
  {
   "cell_type": "code",
   "execution_count": 6,
   "id": "83873fd8",
   "metadata": {
    "execution": {
     "iopub.execute_input": "2022-10-21T01:33:48.216573Z",
     "iopub.status.busy": "2022-10-21T01:33:48.216095Z",
     "iopub.status.idle": "2022-10-21T01:33:48.222095Z",
     "shell.execute_reply": "2022-10-21T01:33:48.220576Z"
    },
    "papermill": {
     "duration": 0.038244,
     "end_time": "2022-10-21T01:33:48.224912",
     "exception": false,
     "start_time": "2022-10-21T01:33:48.186668",
     "status": "completed"
    },
    "tags": []
   },
   "outputs": [],
   "source": [
    "#(x_train,y_train),(x_test,y_test) = datasets.cifar10.load_data()"
   ]
  },
  {
   "cell_type": "markdown",
   "id": "e2b498bf",
   "metadata": {
    "papermill": {
     "duration": 0.026282,
     "end_time": "2022-10-21T01:33:48.277023",
     "exception": false,
     "start_time": "2022-10-21T01:33:48.250741",
     "status": "completed"
    },
    "tags": []
   },
   "source": [
    "\n",
    "### 本地读取数据集http://www.cs.toronto.edu/~kriz/cifar.html"
   ]
  },
  {
   "cell_type": "code",
   "execution_count": 5,
   "id": "19964981",
   "metadata": {
    "execution": {
     "iopub.execute_input": "2022-10-21T01:33:48.334049Z",
     "iopub.status.busy": "2022-10-21T01:33:48.333030Z",
     "iopub.status.idle": "2022-10-21T01:33:48.338840Z",
     "shell.execute_reply": "2022-10-21T01:33:48.337835Z"
    },
    "papermill": {
     "duration": 0.037338,
     "end_time": "2022-10-21T01:33:48.341338",
     "exception": false,
     "start_time": "2022-10-21T01:33:48.304000",
     "status": "completed"
    },
    "tags": []
   },
   "outputs": [],
   "source": [
    "#在给定数据文件中读取图片数据出来。\n",
    "def unpickle(file):\n",
    "    import pickle\n",
    "    with open(file, 'rb') as fo:\n",
    "        dict = pickle.load(fo, encoding='bytes')\n",
    "    return dict"
   ]
  },
  {
   "cell_type": "markdown",
   "id": "887f2233",
   "metadata": {
    "papermill": {
     "duration": 0.024742,
     "end_time": "2022-10-21T01:33:48.392137",
     "exception": false,
     "start_time": "2022-10-21T01:33:48.367395",
     "status": "completed"
    },
    "tags": []
   },
   "source": [
    "#### 读取测试集一张图片认识存储方式"
   ]
  },
  {
   "cell_type": "code",
   "execution_count": 6,
   "id": "ec9cab33",
   "metadata": {
    "execution": {
     "iopub.execute_input": "2022-10-21T01:33:48.447559Z",
     "iopub.status.busy": "2022-10-21T01:33:48.446364Z",
     "iopub.status.idle": "2022-10-21T01:33:49.021965Z",
     "shell.execute_reply": "2022-10-21T01:33:49.020793Z"
    },
    "papermill": {
     "duration": 0.606255,
     "end_time": "2022-10-21T01:33:49.025466",
     "exception": false,
     "start_time": "2022-10-21T01:33:48.419211",
     "status": "completed"
    },
    "tags": []
   },
   "outputs": [],
   "source": [
    "batch_dict=unpickle('cifar-10-batches-py/data_batch_1')#'读取测试图片数据'"
   ]
  },
  {
   "cell_type": "code",
   "execution_count": 7,
   "id": "19371690",
   "metadata": {
    "execution": {
     "iopub.execute_input": "2022-10-21T01:33:49.082620Z",
     "iopub.status.busy": "2022-10-21T01:33:49.082066Z",
     "iopub.status.idle": "2022-10-21T01:33:49.120649Z",
     "shell.execute_reply": "2022-10-21T01:33:49.118509Z"
    },
    "papermill": {
     "duration": 0.07054,
     "end_time": "2022-10-21T01:33:49.123330",
     "exception": false,
     "start_time": "2022-10-21T01:33:49.052790",
     "status": "completed"
    },
    "tags": []
   },
   "outputs": [
    {
     "name": "stdout",
     "output_type": "stream",
     "text": [
      "255\n"
     ]
    },
    {
     "data": {
      "text/plain": [
       "(10000, 3072)"
      ]
     },
     "execution_count": 7,
     "metadata": {},
     "output_type": "execute_result"
    }
   ],
   "source": [
    "print(batch_dict[b'data'].max())\n",
    "test = batch_dict[b'data']#.astype('float')\n",
    "test.shape"
   ]
  },
  {
   "cell_type": "markdown",
   "id": "bd8665dc",
   "metadata": {
    "papermill": {
     "duration": 0.026984,
     "end_time": "2022-10-21T01:33:49.177400",
     "exception": false,
     "start_time": "2022-10-21T01:33:49.150416",
     "status": "completed"
    },
    "tags": []
   },
   "source": [
    "### 观察上面的结果发现，测试集数据是1D数据，并不适合显示，因为我们把1D图像数据变成32，32，3的3D彩色图像，以便于显示。\n",
    "### 由于我们观察到数据的值是整数，类型为uint8，可以使用imshow函数直接显示。"
   ]
  },
  {
   "cell_type": "code",
   "execution_count": 8,
   "id": "d5cebd5b",
   "metadata": {
    "execution": {
     "iopub.execute_input": "2022-10-21T01:33:49.234403Z",
     "iopub.status.busy": "2022-10-21T01:33:49.232957Z",
     "iopub.status.idle": "2022-10-21T01:33:49.240345Z",
     "shell.execute_reply": "2022-10-21T01:33:49.238361Z"
    },
    "papermill": {
     "duration": 0.040007,
     "end_time": "2022-10-21T01:33:49.243696",
     "exception": false,
     "start_time": "2022-10-21T01:33:49.203689",
     "status": "completed"
    },
    "tags": []
   },
   "outputs": [],
   "source": [
    "test_image = np.reshape(test[1], (3, 32, 32))\n",
    "test_image = np.transpose(test_image,(1, 2, 0)) # 读取image"
   ]
  },
  {
   "cell_type": "markdown",
   "id": "1eab0cb6",
   "metadata": {
    "papermill": {
     "duration": 0.025438,
     "end_time": "2022-10-21T01:33:49.296561",
     "exception": false,
     "start_time": "2022-10-21T01:33:49.271123",
     "status": "completed"
    },
    "tags": []
   },
   "source": [
    "#### imshow函数显示RGB图像需要注意数据格式。\n",
    "#### float类型数据，必须数据在0-1之间，int类型数据，必须数据在0-255之间\n",
    "#### https://blog.csdn.net/applebear1123/article/details/120421817,图片显示空白的解决方案"
   ]
  },
  {
   "cell_type": "code",
   "execution_count": 9,
   "id": "01552063",
   "metadata": {
    "execution": {
     "iopub.execute_input": "2022-10-21T01:33:49.351532Z",
     "iopub.status.busy": "2022-10-21T01:33:49.351059Z",
     "iopub.status.idle": "2022-10-21T01:33:49.359210Z",
     "shell.execute_reply": "2022-10-21T01:33:49.357105Z"
    },
    "papermill": {
     "duration": 0.039205,
     "end_time": "2022-10-21T01:33:49.362271",
     "exception": false,
     "start_time": "2022-10-21T01:33:49.323066",
     "status": "completed"
    },
    "tags": []
   },
   "outputs": [
    {
     "name": "stdout",
     "output_type": "stream",
     "text": [
      "254 5\n"
     ]
    }
   ],
   "source": [
    "print(test_image.max(),test_image.min())"
   ]
  },
  {
   "cell_type": "code",
   "execution_count": 10,
   "id": "e1319e8d",
   "metadata": {
    "execution": {
     "iopub.execute_input": "2022-10-21T01:33:49.417447Z",
     "iopub.status.busy": "2022-10-21T01:33:49.416715Z",
     "iopub.status.idle": "2022-10-21T01:33:49.887019Z",
     "shell.execute_reply": "2022-10-21T01:33:49.885661Z"
    },
    "papermill": {
     "duration": 0.501061,
     "end_time": "2022-10-21T01:33:49.889965",
     "exception": false,
     "start_time": "2022-10-21T01:33:49.388904",
     "status": "completed"
    },
    "tags": []
   },
   "outputs": [
    {
     "data": {
      "text/plain": [
       "(-0.5, 31.5, 31.5, -0.5)"
      ]
     },
     "execution_count": 10,
     "metadata": {},
     "output_type": "execute_result"
    },
    {
     "data": {
      "image/png": "[encoded data removed]",
      "text/plain": [
       "<Figure size 640x480 with 4 Axes>"
      ]
     },
     "metadata": {},
     "output_type": "display_data"
    }
   ],
   "source": [
    "#显示一副测试图像\n",
    "plt.figure()\n",
    "plt.subplot(2,2,1)\n",
    "plt.imshow(test_image.astype('uint8'))\n",
    "plt.axis('off')\n",
    "\n",
    "\n",
    "plt.subplot(2,2,2)\n",
    "plt.imshow(test_image.astype('uint8')[:,:,0])\n",
    "plt.axis('off')\n",
    "\n",
    "\n",
    "plt.subplot(2,2,3)\n",
    "plt.imshow(test_image.astype('uint8')[:,:,1])\n",
    "plt.axis('off')\n",
    "\n",
    "\n",
    "plt.subplot(2,2,4)\n",
    "plt.imshow(test_image.astype('uint8')[:,:,2])\n",
    "plt.axis('off')"
   ]
  },
  {
   "cell_type": "markdown",
   "id": "30a0fc0e",
   "metadata": {
    "papermill": {
     "duration": 0.027613,
     "end_time": "2022-10-21T01:33:49.945713",
     "exception": false,
     "start_time": "2022-10-21T01:33:49.918100",
     "status": "completed"
    },
    "tags": []
   },
   "source": [
    "#### 读取一张图片，认识RGB图像存储中，通常哪一个维度是R/G/B，观察可以看到在imshow函数中的数组存储格式为RGB---012的轴对应关系"
   ]
  },
  {
   "cell_type": "code",
   "execution_count": 12,
   "id": "8bc0771a",
   "metadata": {
    "execution": {
     "iopub.execute_input": "2022-10-21T01:33:50.004270Z",
     "iopub.status.busy": "2022-10-21T01:33:50.003765Z",
     "iopub.status.idle": "2022-10-21T01:33:50.036729Z",
     "shell.execute_reply": "2022-10-21T01:33:50.035690Z"
    },
    "papermill": {
     "duration": 0.066592,
     "end_time": "2022-10-21T01:33:50.039675",
     "exception": false,
     "start_time": "2022-10-21T01:33:49.973083",
     "status": "completed"
    },
    "tags": []
   },
   "outputs": [
    {
     "data": {
      "text/plain": [
       "(799, 1021, 3)"
      ]
     },
     "execution_count": 12,
     "metadata": {},
     "output_type": "execute_result"
    }
   ],
   "source": [
    "img = Image.open('R-C.jpg')\n",
    "re_img = np.array(img)\n",
    "re_img.shape"
   ]
  },
  {
   "cell_type": "code",
   "execution_count": 13,
   "id": "ae7e241b",
   "metadata": {
    "execution": {
     "iopub.execute_input": "2022-10-21T01:33:50.099244Z",
     "iopub.status.busy": "2022-10-21T01:33:50.098784Z",
     "iopub.status.idle": "2022-10-21T01:33:50.106939Z",
     "shell.execute_reply": "2022-10-21T01:33:50.105361Z"
    },
    "papermill": {
     "duration": 0.040401,
     "end_time": "2022-10-21T01:33:50.109854",
     "exception": false,
     "start_time": "2022-10-21T01:33:50.069453",
     "status": "completed"
    },
    "tags": []
   },
   "outputs": [
    {
     "name": "stdout",
     "output_type": "stream",
     "text": [
      "255\n"
     ]
    }
   ],
   "source": [
    "print(re_img.max())"
   ]
  },
  {
   "cell_type": "code",
   "execution_count": 14,
   "id": "679efd03",
   "metadata": {
    "execution": {
     "iopub.execute_input": "2022-10-21T01:33:50.167648Z",
     "iopub.status.busy": "2022-10-21T01:33:50.167218Z",
     "iopub.status.idle": "2022-10-21T01:33:51.031505Z",
     "shell.execute_reply": "2022-10-21T01:33:51.030073Z"
    },
    "papermill": {
     "duration": 0.897263,
     "end_time": "2022-10-21T01:33:51.034297",
     "exception": false,
     "start_time": "2022-10-21T01:33:50.137034",
     "status": "completed"
    },
    "tags": []
   },
   "outputs": [
    {
     "data": {
      "text/plain": [
       "(-0.5, 1020.5, 798.5, -0.5)"
      ]
     },
     "execution_count": 14,
     "metadata": {},
     "output_type": "execute_result"
    },
    {
     "data": {
      "image/png": "[encoded data removed]",
      "text/plain": [
       "<Figure size 640x480 with 4 Axes>"
      ]
     },
     "metadata": {},
     "output_type": "display_data"
    }
   ],
   "source": [
    "plt.figure()\n",
    "plt.subplot(2,2,1)\n",
    "plt.imshow(re_img)\n",
    "plt.axis('off')\n",
    "\n",
    "test_re_img1 = re_img.copy()#深度拷贝\n",
    "test_re_img1[:,:,0] = 0#第一个通道赋值为0，通过显示图片，可以知道该通道时R通道\n",
    "plt.subplot(2,2,2)\n",
    "plt.imshow(test_re_img1)\n",
    "plt.axis('off')\n",
    "\n",
    "test_re_img2 = re_img.copy()\n",
    "test_re_img2[:,:,1] = 0#第二个通道赋值为0，通过显示图片，可以知道该通道时G通道\n",
    "plt.subplot(2,2,3)\n",
    "plt.imshow(test_re_img2)\n",
    "plt.axis('off')\n",
    "\n",
    "test_re_img3 = re_img.copy()\n",
    "test_re_img3[:,:,2] = 0#第三个通道赋值为0，通过显示图片，可以知道该通道时B通道\n",
    "plt.subplot(2,2,4)\n",
    "plt.imshow(test_re_img3)\n",
    "plt.axis('off')"
   ]
  },
  {
   "cell_type": "markdown",
   "id": "782d3c18",
   "metadata": {
    "execution": {
     "iopub.execute_input": "2022-06-30T07:16:52.477052Z",
     "iopub.status.busy": "2022-06-30T07:16:52.476281Z",
     "iopub.status.idle": "2022-06-30T07:16:52.482193Z",
     "shell.execute_reply": "2022-06-30T07:16:52.480949Z",
     "shell.execute_reply.started": "2022-06-30T07:16:52.477Z"
    },
    "papermill": {
     "duration": 0.028134,
     "end_time": "2022-10-21T01:33:51.090675",
     "exception": false,
     "start_time": "2022-10-21T01:33:51.062541",
     "status": "completed"
    },
    "tags": []
   },
   "source": [
    "#### 总结：通过显示，我们可以看到一副图片通常o-r,1----g,2----b（通道---色彩通道）"
   ]
  },
  {
   "cell_type": "markdown",
   "id": "1fef292e",
   "metadata": {
    "papermill": {
     "duration": 0.027675,
     "end_time": "2022-10-21T01:33:51.148694",
     "exception": false,
     "start_time": "2022-10-21T01:33:51.121019",
     "status": "completed"
    },
    "tags": []
   },
   "source": [
    "#### 提示一下，我们上面代码，使用了copy函数，这是numpy的深度拷贝和浅拷贝。可以通过下面的代码查看两个变量是深度拷贝还是浅拷贝得到的"
   ]
  },
  {
   "cell_type": "code",
   "execution_count": 15,
   "id": "afea7358",
   "metadata": {
    "execution": {
     "iopub.execute_input": "2022-10-21T01:33:51.211096Z",
     "iopub.status.busy": "2022-10-21T01:33:51.209613Z",
     "iopub.status.idle": "2022-10-21T01:33:51.218100Z",
     "shell.execute_reply": "2022-10-21T01:33:51.216254Z"
    },
    "papermill": {
     "duration": 0.042857,
     "end_time": "2022-10-21T01:33:51.220969",
     "exception": false,
     "start_time": "2022-10-21T01:33:51.178112",
     "status": "completed"
    },
    "tags": []
   },
   "outputs": [
    {
     "name": "stdout",
     "output_type": "stream",
     "text": [
      "2512193254960 2512197383920\n"
     ]
    }
   ],
   "source": [
    "print(id(re_img),id(test_re_img3))#使用copy实现浅拷贝，没有copy是深度拷贝，两个变量存储id不一样，所以是深度拷贝。"
   ]
  },
  {
   "cell_type": "code",
   "execution_count": 17,
   "id": "7d11d895",
   "metadata": {
    "execution": {
     "iopub.execute_input": "2022-10-21T01:33:51.281246Z",
     "iopub.status.busy": "2022-10-21T01:33:51.280490Z",
     "iopub.status.idle": "2022-10-21T01:33:54.687911Z",
     "shell.execute_reply": "2022-10-21T01:33:54.686406Z"
    },
    "papermill": {
     "duration": 3.440556,
     "end_time": "2022-10-21T01:33:54.691059",
     "exception": false,
     "start_time": "2022-10-21T01:33:51.250503",
     "status": "completed"
    },
    "tags": []
   },
   "outputs": [
    {
     "name": "stdout",
     "output_type": "stream",
     "text": [
      "cifar-10-batches-py/data_batch_1\n",
      "unzip\n",
      "cifar-10-batches-py/data_batch_2\n",
      "unzip\n",
      "cifar-10-batches-py/data_batch_3\n",
      "unzip\n",
      "cifar-10-batches-py/data_batch_4\n",
      "unzip\n",
      "cifar-10-batches-py/data_batch_5\n",
      "unzip\n",
      "hello\n",
      "cifar-10-batches-py\\test_batch\n"
     ]
    }
   ],
   "source": [
    "#创建训练样本和测试样本\n",
    "def CreatData():\n",
    "    #创建训练样本\n",
    "    #依次加载batch_data_i,并合并到x,y\n",
    "    x=[]\n",
    "    y=[]\n",
    "    for i in range(1,6):\n",
    "        batch_path='cifar-10-batches-py/data_batch_%d'%(i)##/kaggle/input/cifar10batchespy/##'cifar_dataset/data_batch_%d'%(i)\n",
    "        print(batch_path)\n",
    "        batch_dict=unpickle(batch_path)\n",
    "        print(\"unzip\")\n",
    "        train_batch=batch_dict[b'data'].astype('float')\n",
    "        train_labels=np.array(batch_dict[b'labels'])\n",
    "        x.append(train_batch)\n",
    "        y.append(train_labels)\n",
    "    print(\"hello\")\n",
    "    #将5个训练样本batch合并为50000x3072，标签合并为50000x1\n",
    "    #np.concatenate默认axis=0，为纵向连接\n",
    "    traindata=np.concatenate(x)\n",
    "    trainlabels=np.concatenate(y)\n",
    "    \n",
    "    #创建测试样本\n",
    "    #直接写cifar-10-batches-py\\test_batch会报错，因此把/t当作制表符了，应用\\\\;\n",
    "    #    test_dict=unpickle(\"cifar-10-batches-py\\\\test_batch\")\n",
    "    \n",
    "    #建议使用os.path.join()函数\n",
    "    testpath=os.path.join('cifar-10-batches-py','test_batch')\n",
    "    print(testpath)\n",
    "    test_dict=unpickle(testpath)\n",
    "    testdata=test_dict[b'data'].astype('float')\n",
    "    testlabels=np.array(test_dict[b'labels'])\n",
    "\n",
    "    return traindata,trainlabels,testdata,testlabels\n",
    "traindata,trainlabels,testdata,testlabels = CreatData()"
   ]
  },
  {
   "cell_type": "code",
   "execution_count": 18,
   "id": "9afa6f29",
   "metadata": {
    "execution": {
     "iopub.execute_input": "2022-10-21T01:33:54.750186Z",
     "iopub.status.busy": "2022-10-21T01:33:54.748925Z",
     "iopub.status.idle": "2022-10-21T01:33:54.864772Z",
     "shell.execute_reply": "2022-10-21T01:33:54.863377Z"
    },
    "papermill": {
     "duration": 0.148973,
     "end_time": "2022-10-21T01:33:54.868475",
     "exception": false,
     "start_time": "2022-10-21T01:33:54.719502",
     "status": "completed"
    },
    "tags": []
   },
   "outputs": [
    {
     "name": "stdout",
     "output_type": "stream",
     "text": [
      "255.0\n",
      "train size is : (50000, 3072)\n",
      "train_labels size is : (50000,)\n",
      "test size is : (10000, 3072)\n",
      "test_labels size is : (10000,)\n"
     ]
    }
   ],
   "source": [
    "print(traindata.max())#通过最大值可以看到图片数据的格式和最大值。以便于调整使用imshow显示\n",
    "print('train size is :',traindata.shape)\n",
    "print('train_labels size is :',trainlabels.shape)\n",
    "print('test size is :',testdata.shape)\n",
    "print('test_labels size is :',testlabels.shape)"
   ]
  },
  {
   "cell_type": "markdown",
   "id": "d4dbeaac",
   "metadata": {},
   "source": [
    "### 提示：如果有数据超出内存的现象，可以考虑重新运行数据，很大可能是由于多次读取数据"
   ]
  },
  {
   "cell_type": "markdown",
   "id": "f06b4069",
   "metadata": {
    "papermill": {
     "duration": 0.02695,
     "end_time": "2022-10-21T01:33:54.923742",
     "exception": false,
     "start_time": "2022-10-21T01:33:54.896792",
     "status": "completed"
    },
    "tags": []
   },
   "source": [
    "#### 我们可以看到训练集里面有5万张，测试集有1万，大小是32x32x3.然后标签是一维数据"
   ]
  },
  {
   "cell_type": "code",
   "execution_count": 19,
   "id": "fee1defe",
   "metadata": {
    "execution": {
     "iopub.execute_input": "2022-10-21T01:33:54.982697Z",
     "iopub.status.busy": "2022-10-21T01:33:54.982260Z",
     "iopub.status.idle": "2022-10-21T01:33:55.590088Z",
     "shell.execute_reply": "2022-10-21T01:33:55.588536Z"
    },
    "papermill": {
     "duration": 0.640636,
     "end_time": "2022-10-21T01:33:55.592751",
     "exception": false,
     "start_time": "2022-10-21T01:33:54.952115",
     "status": "completed"
    },
    "tags": []
   },
   "outputs": [
    {
     "name": "stdout",
     "output_type": "stream",
     "text": [
      "(60000, 3072)\n"
     ]
    },
    {
     "data": {
      "text/plain": [
       "(60000,)"
      ]
     },
     "execution_count": 19,
     "metadata": {},
     "output_type": "execute_result"
    }
   ],
   "source": [
    "#合并数据集为了后面的乱序\n",
    "train_test = np.concatenate((traindata,testdata),axis=0)\n",
    "print(train_test.shape)\n",
    "train_test_label = np.concatenate((trainlabels,testlabels),axis=0)\n",
    "train_test_label.shape"
   ]
  },
  {
   "cell_type": "code",
   "execution_count": 21,
   "id": "6f92f651",
   "metadata": {
    "execution": {
     "iopub.execute_input": "2022-10-21T01:33:55.652481Z",
     "iopub.status.busy": "2022-10-21T01:33:55.651968Z",
     "iopub.status.idle": "2022-10-21T01:33:56.985501Z",
     "shell.execute_reply": "2022-10-21T01:33:56.984210Z"
    },
    "papermill": {
     "duration": 1.366526,
     "end_time": "2022-10-21T01:33:56.988176",
     "exception": false,
     "start_time": "2022-10-21T01:33:55.621650",
     "status": "completed"
    },
    "tags": []
   },
   "outputs": [],
   "source": [
    "import sklearn as sk#打乱数组和标签的顺序\n",
    "x,y = sk.utils.shuffle(train_test,train_test_label,random_state=1)"
   ]
  },
  {
   "cell_type": "code",
   "execution_count": 21,
   "id": "01943292",
   "metadata": {
    "execution": {
     "iopub.execute_input": "2022-10-21T01:33:57.047223Z",
     "iopub.status.busy": "2022-10-21T01:33:57.046335Z",
     "iopub.status.idle": "2022-10-21T01:33:57.051937Z",
     "shell.execute_reply": "2022-10-21T01:33:57.050700Z"
    },
    "papermill": {
     "duration": 0.037491,
     "end_time": "2022-10-21T01:33:57.054457",
     "exception": false,
     "start_time": "2022-10-21T01:33:57.016966",
     "status": "completed"
    },
    "tags": []
   },
   "outputs": [],
   "source": [
    "#停用下面的方法打乱数组顺序\n",
    "#train_test_index = np.array(range(train_test.shape[0]))\n",
    "#np.random.shuffle(train_test_index)\n",
    "#train_test_shuffle = train_test.copy()\n",
    "##train_test_label_shuffle = train_test_label.copy()\n",
    "#for i in range(train_test.shape[0]):\n",
    "   # temp_index = train_test_index[i]\n",
    "    #train_test_shuffle[i] = train_test[temp_index]\n",
    "    #train_test_label_shuffle[i] = train_test_label[temp_index]"
   ]
  },
  {
   "cell_type": "markdown",
   "id": "1b82d25b",
   "metadata": {
    "papermill": {
     "duration": 0.027239,
     "end_time": "2022-10-21T01:33:57.117052",
     "exception": false,
     "start_time": "2022-10-21T01:33:57.089813",
     "status": "completed"
    },
    "tags": []
   },
   "source": [
    "#### 数据处理：1）归一化  2）one hot encoding"
   ]
  },
  {
   "cell_type": "code",
   "execution_count": 22,
   "id": "e27a5d3a",
   "metadata": {
    "execution": {
     "iopub.execute_input": "2022-10-21T01:33:57.183907Z",
     "iopub.status.busy": "2022-10-21T01:33:57.183513Z",
     "iopub.status.idle": "2022-10-21T01:33:57.651937Z",
     "shell.execute_reply": "2022-10-21T01:33:57.650702Z"
    },
    "papermill": {
     "duration": 0.504905,
     "end_time": "2022-10-21T01:33:57.654745",
     "exception": false,
     "start_time": "2022-10-21T01:33:57.149840",
     "status": "completed"
    },
    "tags": []
   },
   "outputs": [],
   "source": [
    "#数据归一化\n",
    "x_guiyi = x.astype('float32')/255\n",
    "#做one hot encoding\n",
    "y_onehot = tf.keras.utils.to_categorical(y)"
   ]
  },
  {
   "cell_type": "markdown",
   "id": "79cefac5",
   "metadata": {
    "papermill": {
     "duration": 0.027292,
     "end_time": "2022-10-21T01:33:57.709537",
     "exception": false,
     "start_time": "2022-10-21T01:33:57.682245",
     "status": "completed"
    },
    "tags": []
   },
   "source": [
    "#### 在上面的test集读取，reshshape和显示的时候，我们注意到了:\n",
    "#### 1.数据的存储矩阵为【3，32，32】，所以我们根据上面的操作，重新操作训练集。"
   ]
  },
  {
   "cell_type": "code",
   "execution_count": 23,
   "id": "252b8646",
   "metadata": {
    "execution": {
     "iopub.execute_input": "2022-10-21T01:33:57.766587Z",
     "iopub.status.busy": "2022-10-21T01:33:57.766164Z",
     "iopub.status.idle": "2022-10-21T01:33:57.772130Z",
     "shell.execute_reply": "2022-10-21T01:33:57.770907Z"
    },
    "papermill": {
     "duration": 0.037746,
     "end_time": "2022-10-21T01:33:57.774849",
     "exception": false,
     "start_time": "2022-10-21T01:33:57.737103",
     "status": "completed"
    },
    "tags": []
   },
   "outputs": [],
   "source": [
    "x_images = np.reshape(x_guiyi, (x_guiyi.shape[0],3, 32, 32))"
   ]
  },
  {
   "cell_type": "markdown",
   "id": "6a817214",
   "metadata": {
    "papermill": {
     "duration": 0.027479,
     "end_time": "2022-10-21T01:33:57.830122",
     "exception": false,
     "start_time": "2022-10-21T01:33:57.802643",
     "status": "completed"
    },
    "tags": []
   },
   "source": [
    "### 调整数组格式为50000，32，32，3.使用transpose函数，参考test数据集时候的矩阵转置方法。"
   ]
  },
  {
   "cell_type": "code",
   "execution_count": 24,
   "id": "fe488b13",
   "metadata": {
    "execution": {
     "iopub.execute_input": "2022-10-21T01:33:57.887579Z",
     "iopub.status.busy": "2022-10-21T01:33:57.887160Z",
     "iopub.status.idle": "2022-10-21T01:33:57.892653Z",
     "shell.execute_reply": "2022-10-21T01:33:57.891331Z"
    },
    "papermill": {
     "duration": 0.037194,
     "end_time": "2022-10-21T01:33:57.895160",
     "exception": false,
     "start_time": "2022-10-21T01:33:57.857966",
     "status": "completed"
    },
    "tags": []
   },
   "outputs": [],
   "source": [
    "x_images_images = np.transpose(x_images,(0,2,3,1)) # 读取image"
   ]
  },
  {
   "cell_type": "code",
   "execution_count": 25,
   "id": "19410c49",
   "metadata": {
    "execution": {
     "iopub.execute_input": "2022-10-21T01:33:57.955052Z",
     "iopub.status.busy": "2022-10-21T01:33:57.954629Z",
     "iopub.status.idle": "2022-10-21T01:33:58.204449Z",
     "shell.execute_reply": "2022-10-21T01:33:58.202676Z"
    },
    "papermill": {
     "duration": 0.282932,
     "end_time": "2022-10-21T01:33:58.207380",
     "exception": false,
     "start_time": "2022-10-21T01:33:57.924448",
     "status": "completed"
    },
    "tags": []
   },
   "outputs": [
    {
     "name": "stdout",
     "output_type": "stream",
     "text": [
      "[0. 0. 0. 0. 0. 0. 1. 0. 0. 0.]\n"
     ]
    },
    {
     "data": {
      "image/png": "[encoded data removed]",
      "text/plain": [
       "<Figure size 640x480 with 4 Axes>"
      ]
     },
     "metadata": {},
     "output_type": "display_data"
    }
   ],
   "source": [
    "plt.figure()\n",
    "plt.subplot(2,2,1)\n",
    "plt.imshow(x_images_images[1])\n",
    "plt.axis('off')\n",
    "\n",
    "\n",
    "plt.subplot(2,2,2)\n",
    "plt.imshow(x_images_images[1][:,:,0])\n",
    "plt.axis('off')\n",
    "\n",
    "\n",
    "plt.subplot(2,2,3)\n",
    "plt.imshow(x_images_images[1][:,:,1])#(x_train_images[1].astype('uint8')[:,:,1])\n",
    "plt.axis('off')\n",
    "\n",
    "\n",
    "plt.subplot(2,2,4)\n",
    "plt.imshow(x_images_images[1][:,:,2])\n",
    "plt.axis('off')\n",
    "print(y_onehot[1])"
   ]
  },
  {
   "cell_type": "code",
   "execution_count": 26,
   "id": "d52ecf4b",
   "metadata": {
    "execution": {
     "iopub.execute_input": "2022-10-21T01:33:58.266703Z",
     "iopub.status.busy": "2022-10-21T01:33:58.266262Z",
     "iopub.status.idle": "2022-10-21T01:33:58.272622Z",
     "shell.execute_reply": "2022-10-21T01:33:58.271221Z"
    },
    "papermill": {
     "duration": 0.039535,
     "end_time": "2022-10-21T01:33:58.275769",
     "exception": false,
     "start_time": "2022-10-21T01:33:58.236234",
     "status": "completed"
    },
    "tags": []
   },
   "outputs": [
    {
     "name": "stdout",
     "output_type": "stream",
     "text": [
      "(60000, 32, 32, 3) (60000, 10)\n"
     ]
    }
   ],
   "source": [
    "print(x_images_images.shape,y_onehot.shape)"
   ]
  },
  {
   "cell_type": "markdown",
   "id": "220c41d3",
   "metadata": {
    "papermill": {
     "duration": 0.028369,
     "end_time": "2022-10-21T01:33:58.333263",
     "exception": false,
     "start_time": "2022-10-21T01:33:58.304894",
     "status": "completed"
    },
    "tags": []
   },
   "source": [
    "## 至此，我们的数据集如下：\n",
    "### x_images_images----(60000, 32, 32, 3),取值范围0-1.\n",
    "###        y_onehot----(60000,10)\n",
    "### 为了减少模型运行时间以观察效果，我们做了两个事情，1）我们缩减了数据集，每个类别里面抽取300张图片。最终数据集为3000张图片。2）3D变2D灰度图像（可以不做）"
   ]
  },
  {
   "cell_type": "code",
   "execution_count": 27,
   "id": "290c28b2",
   "metadata": {
    "execution": {
     "iopub.execute_input": "2022-10-21T01:33:58.394783Z",
     "iopub.status.busy": "2022-10-21T01:33:58.394370Z",
     "iopub.status.idle": "2022-10-21T01:33:58.403941Z",
     "shell.execute_reply": "2022-10-21T01:33:58.402258Z"
    },
    "papermill": {
     "duration": 0.044722,
     "end_time": "2022-10-21T01:33:58.407642",
     "exception": false,
     "start_time": "2022-10-21T01:33:58.362920",
     "status": "completed"
    },
    "tags": []
   },
   "outputs": [
    {
     "name": "stdout",
     "output_type": "stream",
     "text": [
      "[[0], [0], [0], [0], [0], [0], [0], [0], [0], [0]]\n",
      "----------------\n",
      "[[0, 1], [0], [0], [0], [0], [0], [0], [0], [0], [0]]\n",
      "----------------\n",
      "[[0], [0], [0], [0], [0], [0], [0], [0], [0], [0]]\n",
      "----------------\n",
      "[[], [0], [0], [0], [0], [0], [0], [0], [0], [0]]\n",
      "----------------\n"
     ]
    }
   ],
   "source": [
    "## 学习list的基本操作\n",
    "test_list = [[j for j in range(1)] for i in range(10)]\n",
    "print(test_list)\n",
    "print(\"----------------\")\n",
    "test_list[0].append(1)\n",
    "print(test_list)\n",
    "print(\"----------------\")\n",
    "test_list[0].pop()\n",
    "print(test_list)\n",
    "print(\"----------------\")\n",
    "test_list[0].pop()\n",
    "print(test_list)\n",
    "print(\"----------------\")"
   ]
  },
  {
   "cell_type": "code",
   "execution_count": 28,
   "id": "05d00dae",
   "metadata": {
    "execution": {
     "iopub.execute_input": "2022-10-21T01:33:58.470110Z",
     "iopub.status.busy": "2022-10-21T01:33:58.469676Z",
     "iopub.status.idle": "2022-10-21T01:33:58.479829Z",
     "shell.execute_reply": "2022-10-21T01:33:58.478316Z"
    },
    "papermill": {
     "duration": 0.044829,
     "end_time": "2022-10-21T01:33:58.482937",
     "exception": false,
     "start_time": "2022-10-21T01:33:58.438108",
     "status": "completed"
    },
    "tags": []
   },
   "outputs": [],
   "source": [
    "def suojian(data,label, num):#data是需要被缩减的数据，label是对应data的标签，num是每个列别需要保留的个数\n",
    "    class_label = [[j for j in range(1)] for i in range(10)]\n",
    "    for i in range(10):\n",
    "       # print(i)\n",
    "        class_label[i].pop()#存储每个类别的索引\n",
    "    for i in range(label.shape[0]):\n",
    "        class_label[np.argmax(label[i])].append(i)\n",
    "    #print(class_label)二维list，一维表示10个分类，一个维度记录着每个分类的图片所在下标\n",
    "    #print(class_label[0][0:10])\n",
    "    baoliu = []\n",
    "    for i in range(10):\n",
    "        temp = class_label[i][num:]\n",
    "        #print(len(temp))\n",
    "        baoliu.extend(temp)\n",
    "    print(len(baoliu))\n",
    "    #print(baoliu,len(baoliu))\n",
    "    label1 =  np.delete(label,baoliu,axis=0)\n",
    "    data1 = np.delete(data,baoliu,axis=0)\n",
    "    x,y = sk.utils.shuffle(data1,label1,random_state=1)\n",
    "    #print(data.shape,data1.shape)\n",
    "    #print(label.shape,label1.shape)\n",
    "    return x,y"
   ]
  },
  {
   "cell_type": "code",
   "execution_count": 29,
   "id": "ae13afef",
   "metadata": {
    "execution": {
     "iopub.execute_input": "2022-10-21T01:33:58.544317Z",
     "iopub.status.busy": "2022-10-21T01:33:58.543899Z",
     "iopub.status.idle": "2022-10-21T01:33:58.727293Z",
     "shell.execute_reply": "2022-10-21T01:33:58.725432Z"
    },
    "papermill": {
     "duration": 0.217459,
     "end_time": "2022-10-21T01:33:58.730315",
     "exception": false,
     "start_time": "2022-10-21T01:33:58.512856",
     "status": "completed"
    },
    "tags": []
   },
   "outputs": [
    {
     "name": "stdout",
     "output_type": "stream",
     "text": [
      "57000\n",
      "suojian totol images is : (3000, 32, 32, 3)\n",
      "suojian totol labels size is : (3000, 10)\n"
     ]
    }
   ],
   "source": [
    "suojian_x_images_images,suojian_y_onehot = suojian(x_images_images,y_onehot, 300)  #x_test_images,y_test #suojian(x_test_images,y_test, 5)\n",
    "print('suojian totol images is :',suojian_x_images_images.shape)\n",
    "print('suojian totol labels size is :',suojian_y_onehot.shape)"
   ]
  },
  {
   "cell_type": "markdown",
   "id": "33fd7df1",
   "metadata": {
    "papermill": {
     "duration": 0.029588,
     "end_time": "2022-10-21T01:33:58.788260",
     "exception": false,
     "start_time": "2022-10-21T01:33:58.758672",
     "status": "completed"
    },
    "tags": []
   },
   "source": [
    "### 拆分训练集/验证机/测试集，比例为8：1：1，也就是2400/300/300个。"
   ]
  },
  {
   "cell_type": "code",
   "execution_count": 30,
   "id": "dbc27390",
   "metadata": {
    "execution": {
     "iopub.execute_input": "2022-10-21T01:33:58.850545Z",
     "iopub.status.busy": "2022-10-21T01:33:58.849086Z",
     "iopub.status.idle": "2022-10-21T01:33:58.856821Z",
     "shell.execute_reply": "2022-10-21T01:33:58.855869Z"
    },
    "papermill": {
     "duration": 0.040794,
     "end_time": "2022-10-21T01:33:58.859480",
     "exception": false,
     "start_time": "2022-10-21T01:33:58.818686",
     "status": "completed"
    },
    "tags": []
   },
   "outputs": [],
   "source": [
    "# 观察过拟合现象.1)拆分数据集\n",
    "def train_val_test(train_images,train_labels,ratio):\n",
    "    num = train_images.shape[0] #总的数据集个数\n",
    "    split_num_train = num - 2*round(num*ratio)\n",
    "    split_num_val = num - round(num*ratio)\n",
    "#拆分数据集和验证集\n",
    "    train = train_images[:split_num_train]\n",
    "    val = train_images[split_num_train:split_num_val]\n",
    "    test = train_images[split_num_val:]\n",
    "#拆分数据集和验证集标签    \n",
    "    train_label = train_labels[:split_num_train]\n",
    "    val_label = train_labels[split_num_train:split_num_val]\n",
    "    test_label = train_labels[split_num_val:]\n",
    "\n",
    "    return (train,train_label,val,val_label,test,test_label)"
   ]
  },
  {
   "cell_type": "code",
   "execution_count": 31,
   "id": "4f9979d8",
   "metadata": {
    "execution": {
     "iopub.execute_input": "2022-10-21T01:33:58.922923Z",
     "iopub.status.busy": "2022-10-21T01:33:58.920149Z",
     "iopub.status.idle": "2022-10-21T01:33:58.931869Z",
     "shell.execute_reply": "2022-10-21T01:33:58.929577Z"
    },
    "papermill": {
     "duration": 0.046329,
     "end_time": "2022-10-21T01:33:58.934786",
     "exception": false,
     "start_time": "2022-10-21T01:33:58.888457",
     "status": "completed"
    },
    "tags": []
   },
   "outputs": [
    {
     "name": "stdout",
     "output_type": "stream",
     "text": [
      "suojian train images is : (2400, 32, 32, 3)\n",
      "suojian train labels size is : (2400, 10)\n",
      "suojian val images is : (300, 32, 32, 3)\n",
      "suojian val labels size is : (300, 10)\n",
      "suojian test images is : (300, 32, 32, 3)\n",
      "suojian test labels size is : (300, 10)\n"
     ]
    }
   ],
   "source": [
    "\n",
    "(sj_train,sj_train_label,sj_val,sj_val_label,sj_test,sj_test_label) = train_val_test(suojian_x_images_images,suojian_y_onehot,0.1)\n",
    "print('suojian train images is :',sj_train.shape)\n",
    "print('suojian train labels size is :',sj_train_label.shape)\n",
    "print('suojian val images is :',sj_val.shape)\n",
    "print('suojian val labels size is :',sj_val_label.shape)\n",
    "print('suojian test images is :',sj_test.shape)\n",
    "print('suojian test labels size is :',sj_test_label.shape)"
   ]
  },
  {
   "cell_type": "markdown",
   "id": "9233ed9c",
   "metadata": {
    "execution": {
     "iopub.execute_input": "2022-06-29T08:38:49.997623Z",
     "iopub.status.busy": "2022-06-29T08:38:49.997218Z",
     "iopub.status.idle": "2022-06-29T08:38:50.002268Z",
     "shell.execute_reply": "2022-06-29T08:38:50.001223Z",
     "shell.execute_reply.started": "2022-06-29T08:38:49.997591Z"
    },
    "papermill": {
     "duration": 0.0289,
     "end_time": "2022-10-21T01:33:58.992760",
     "exception": false,
     "start_time": "2022-10-21T01:33:58.963860",
     "status": "completed"
    },
    "tags": []
   },
   "source": [
    "### 彩色图像变灰度图像 L = R * 299/1000 + G * 587/1000+ B * 114/1000"
   ]
  },
  {
   "cell_type": "code",
   "execution_count": 32,
   "id": "4062a5a0",
   "metadata": {
    "execution": {
     "iopub.execute_input": "2022-10-21T01:33:59.054639Z",
     "iopub.status.busy": "2022-10-21T01:33:59.053814Z",
     "iopub.status.idle": "2022-10-21T01:33:59.058726Z",
     "shell.execute_reply": "2022-10-21T01:33:59.057666Z"
    },
    "papermill": {
     "duration": 0.040271,
     "end_time": "2022-10-21T01:33:59.061839",
     "exception": false,
     "start_time": "2022-10-21T01:33:59.021568",
     "status": "completed"
    },
    "tags": []
   },
   "outputs": [],
   "source": [
    "### 为了提升运行速度，我们把数据集的唯彩色图像变成2d的灰度图像。\n",
    "#def colorto2d(data):\n",
    "    #data2d = np.zeros((data.shape[0],data.shape[1],data.shape[2]))\n",
    "    ##print(data2d.shape)\n",
    "    ##print(data.shape)\n",
    "    #for i in range(data.shape[0]):\n",
    "        #data2d[i] = data[i][:,:,0]*0.299 + data[i][:,:,1]*0.587 + data[i][:,:,2]*0.114\n",
    "    #return data2d"
   ]
  },
  {
   "cell_type": "code",
   "execution_count": 33,
   "id": "02d3a415",
   "metadata": {
    "execution": {
     "iopub.execute_input": "2022-10-21T01:33:59.123254Z",
     "iopub.status.busy": "2022-10-21T01:33:59.122356Z",
     "iopub.status.idle": "2022-10-21T01:33:59.128235Z",
     "shell.execute_reply": "2022-10-21T01:33:59.126667Z"
    },
    "papermill": {
     "duration": 0.039782,
     "end_time": "2022-10-21T01:33:59.130993",
     "exception": false,
     "start_time": "2022-10-21T01:33:59.091211",
     "status": "completed"
    },
    "tags": []
   },
   "outputs": [],
   "source": [
    "#3d - --2d 转换函数调用代码，注释掉，可不用\n",
    "#suojian_x_train_images_2d = colorto2d(suojian_x_train_images)\n",
    "#suojian_x_test_images_2d = colorto2d(suojian_x_test_images)\n",
    "#print('suojian 2d test size is :',suojian_x_train_images_2d.shape)\n",
    "#print('suojian 2d test_labels size is :',suojian_x_test_images_2d.shape)"
   ]
  },
  {
   "cell_type": "markdown",
   "id": "0b8089a9",
   "metadata": {
    "papermill": {
     "duration": 0.029167,
     "end_time": "2022-10-21T01:33:59.189923",
     "exception": false,
     "start_time": "2022-10-21T01:33:59.160756",
     "status": "completed"
    },
    "tags": []
   },
   "source": [
    "#### 数据处理：扩充3D数据以试用model输入，仅在3d--2d的时候使用"
   ]
  },
  {
   "cell_type": "code",
   "execution_count": 34,
   "id": "2ce86d06",
   "metadata": {
    "execution": {
     "iopub.execute_input": "2022-10-21T01:33:59.249622Z",
     "iopub.status.busy": "2022-10-21T01:33:59.248819Z",
     "iopub.status.idle": "2022-10-21T01:33:59.253836Z",
     "shell.execute_reply": "2022-10-21T01:33:59.252396Z"
    },
    "papermill": {
     "duration": 0.037549,
     "end_time": "2022-10-21T01:33:59.256418",
     "exception": false,
     "start_time": "2022-10-21T01:33:59.218869",
     "status": "completed"
    },
    "tags": []
   },
   "outputs": [],
   "source": [
    "#扩维,以试用模型输入,彩色转换为2d以后需要此段代码扩维，如果是彩色图片，不需要此段代码扩围。可以临时注释掉\n",
    "#suojian_x_train_images = np.expand_dims(suojian_x_train_images_2d,axis=3)\n",
    "#suojian_x_test_images = np.expand_dims(suojian_x_test_images_2d,axis=3)\n",
    "#print('suojian train size is :',suojian_x_train_images_2d.shape)\n",
    "#print('suojian test size is :',suojian_x_test_images_2d.shape)\n",
    "#print('suojian train label size is :',suojian_y_train.shape)\n",
    "#print('suojian test_labels size is :',suojian_y_test.shape)"
   ]
  },
  {
   "cell_type": "markdown",
   "id": "5e23e26a",
   "metadata": {
    "execution": {
     "iopub.execute_input": "2022-10-21T01:33:59.315800Z",
     "iopub.status.busy": "2022-10-21T01:33:59.315383Z",
     "iopub.status.idle": "2022-10-21T01:33:59.320641Z",
     "shell.execute_reply": "2022-10-21T01:33:59.319448Z"
    },
    "papermill": {
     "duration": 0.038187,
     "end_time": "2022-10-21T01:33:59.323017",
     "exception": false,
     "start_time": "2022-10-21T01:33:59.284830",
     "status": "completed"
    },
    "tags": []
   },
   "source": [
    "#### 搭建第一个CNN模型"
   ]
  },
  {
   "cell_type": "code",
   "execution_count": 34,
   "id": "23f1c771",
   "metadata": {
    "execution": {
     "iopub.execute_input": "2022-10-21T01:33:59.382217Z",
     "iopub.status.busy": "2022-10-21T01:33:59.381449Z",
     "iopub.status.idle": "2022-10-21T01:33:59.561374Z",
     "shell.execute_reply": "2022-10-21T01:33:59.559841Z"
    },
    "papermill": {
     "duration": 0.212518,
     "end_time": "2022-10-21T01:33:59.564061",
     "exception": false,
     "start_time": "2022-10-21T01:33:59.351543",
     "status": "completed"
    },
    "tags": []
   },
   "outputs": [
    {
     "name": "stdout",
     "output_type": "stream",
     "text": [
      "Model: \"sequential\"\n",
      "_________________________________________________________________\n",
      " Layer (type)                Output Shape              Param #   \n",
      "=================================================================\n",
      " conv2d (Conv2D)             (None, 32, 32, 8)         608       \n",
      "                                                                 \n",
      " max_pooling2d (MaxPooling2D  (None, 16, 16, 8)        0         \n",
      " )                                                               \n",
      "                                                                 \n",
      " conv2d_1 (Conv2D)           (None, 16, 16, 16)        3216      \n",
      "                                                                 \n",
      " max_pooling2d_1 (MaxPooling  (None, 8, 8, 16)         0         \n",
      " 2D)                                                             \n",
      "                                                                 \n",
      " flatten (Flatten)           (None, 1024)              0         \n",
      "                                                                 \n",
      " dense (Dense)               (None, 10)                10250     \n",
      "                                                                 \n",
      "=================================================================\n",
      "Total params: 14,074\n",
      "Trainable params: 14,074\n",
      "Non-trainable params: 0\n",
      "_________________________________________________________________\n"
     ]
    }
   ],
   "source": [
    "input_shape = (32,32,3)\n",
    "model = Sequential()\n",
    "model.add(Conv2D(8, kernel_size=(5,5),activation='sigmoid',padding='same', input_shape=input_shape))\n",
    "model.add(MaxPooling2D(pool_size=(2,2), strides=2))\n",
    "model.add(Conv2D(16,kernel_size=(5,5),activation='sigmoid',padding='same'))\n",
    "model.add(MaxPooling2D(pool_size=(2,2), strides=2))\n",
    "model.add(Flatten())\n",
    "model.add(Dense(units=10,activation='sigmoid'))\n",
    "model.summary()"
   ]
  },
  {
   "cell_type": "code",
   "execution_count": 35,
   "id": "d2882225",
   "metadata": {
    "execution": {
     "iopub.execute_input": "2022-10-21T01:33:59.624146Z",
     "iopub.status.busy": "2022-10-21T01:33:59.623741Z",
     "iopub.status.idle": "2022-10-21T01:33:59.638217Z",
     "shell.execute_reply": "2022-10-21T01:33:59.636922Z"
    },
    "papermill": {
     "duration": 0.047362,
     "end_time": "2022-10-21T01:33:59.641141",
     "exception": false,
     "start_time": "2022-10-21T01:33:59.593779",
     "status": "completed"
    },
    "tags": []
   },
   "outputs": [],
   "source": [
    "model.compile(loss = 'mse', optimizer = optimizers.SGD(),metrics = ['accuracy'])  "
   ]
  },
  {
   "cell_type": "code",
   "execution_count": 36,
   "id": "2fa9393d",
   "metadata": {
    "execution": {
     "iopub.execute_input": "2022-10-21T01:33:59.701101Z",
     "iopub.status.busy": "2022-10-21T01:33:59.700653Z",
     "iopub.status.idle": "2022-10-21T01:33:59.707402Z",
     "shell.execute_reply": "2022-10-21T01:33:59.705715Z"
    },
    "papermill": {
     "duration": 0.04049,
     "end_time": "2022-10-21T01:33:59.710620",
     "exception": false,
     "start_time": "2022-10-21T01:33:59.670130",
     "status": "completed"
    },
    "tags": []
   },
   "outputs": [
    {
     "name": "stdout",
     "output_type": "stream",
     "text": [
      "(2400, 32, 32, 3) (2400, 10)\n"
     ]
    }
   ],
   "source": [
    "print(sj_train.shape,sj_train_label.shape)"
   ]
  },
  {
   "cell_type": "code",
   "execution_count": 37,
   "id": "1e6c33f2",
   "metadata": {
    "execution": {
     "iopub.execute_input": "2022-10-21T01:33:59.771375Z",
     "iopub.status.busy": "2022-10-21T01:33:59.770806Z",
     "iopub.status.idle": "2022-10-21T01:34:28.019903Z",
     "shell.execute_reply": "2022-10-21T01:34:28.018508Z"
    },
    "papermill": {
     "duration": 28.282652,
     "end_time": "2022-10-21T01:34:28.022845",
     "exception": false,
     "start_time": "2022-10-21T01:33:59.740193",
     "status": "completed"
    },
    "tags": []
   },
   "outputs": [
    {
     "name": "stdout",
     "output_type": "stream",
     "text": [
      "Epoch 1/10\n",
      "600/600 [==============================] - 3s 3ms/step - loss: 0.0961 - accuracy: 0.0896\n",
      "Epoch 2/10\n",
      "600/600 [==============================] - 2s 3ms/step - loss: 0.0901 - accuracy: 0.0967\n",
      "Epoch 3/10\n",
      "600/600 [==============================] - 2s 3ms/step - loss: 0.0901 - accuracy: 0.0933\n",
      "Epoch 4/10\n",
      "600/600 [==============================] - 2s 3ms/step - loss: 0.0901 - accuracy: 0.0921\n",
      "Epoch 5/10\n",
      "600/600 [==============================] - 2s 3ms/step - loss: 0.0901 - accuracy: 0.0913\n",
      "Epoch 6/10\n",
      "600/600 [==============================] - 2s 3ms/step - loss: 0.0901 - accuracy: 0.0892\n",
      "Epoch 7/10\n",
      "600/600 [==============================] - 2s 3ms/step - loss: 0.0901 - accuracy: 0.1029\n",
      "Epoch 8/10\n",
      "600/600 [==============================] - 2s 3ms/step - loss: 0.0901 - accuracy: 0.0954\n",
      "Epoch 9/10\n",
      "600/600 [==============================] - 2s 3ms/step - loss: 0.0901 - accuracy: 0.0896\n",
      "Epoch 10/10\n",
      "600/600 [==============================] - 2s 3ms/step - loss: 0.0901 - accuracy: 0.0933\n"
     ]
    },
    {
     "data": {
      "text/plain": [
       "<keras.callbacks.History at 0x248ef66cee0>"
      ]
     },
     "execution_count": 37,
     "metadata": {},
     "output_type": "execute_result"
    }
   ],
   "source": [
    "model.fit(sj_train,sj_train_label,batch_size=4,epochs=10,verbose=1)"
   ]
  },
  {
   "cell_type": "code",
   "execution_count": 38,
   "id": "cb94320a",
   "metadata": {
    "execution": {
     "iopub.execute_input": "2022-10-21T01:34:28.155700Z",
     "iopub.status.busy": "2022-10-21T01:34:28.155304Z",
     "iopub.status.idle": "2022-10-21T01:34:28.448797Z",
     "shell.execute_reply": "2022-10-21T01:34:28.447561Z"
    },
    "papermill": {
     "duration": 0.362855,
     "end_time": "2022-10-21T01:34:28.451617",
     "exception": false,
     "start_time": "2022-10-21T01:34:28.088762",
     "status": "completed"
    },
    "tags": []
   },
   "outputs": [
    {
     "name": "stdout",
     "output_type": "stream",
     "text": [
      "10/10 [==============================] - 0s 3ms/step - loss: 0.0901 - accuracy: 0.0833\n"
     ]
    },
    {
     "data": {
      "text/plain": [
       "[0.09013103693723679, 0.0833333358168602]"
      ]
     },
     "execution_count": 38,
     "metadata": {},
     "output_type": "execute_result"
    }
   ],
   "source": [
    "model.evaluate(sj_test,sj_test_label) #其实该函数第一个返回值是损失（loss)，第二个返回值是准确率(acc)"
   ]
  },
  {
   "cell_type": "markdown",
   "id": "4958331a",
   "metadata": {},
   "source": [
    "### 可能他的效果并不好，但是我们还可以提升，现在你已经学会了搭建CNN网络，并把它训练，然后使用训练的模型预测结果。接下来搭建可以尝试完成作业了"
   ]
  },
  {
   "cell_type": "code",
   "execution_count": null,
   "id": "af4197ef",
   "metadata": {
    "papermill": {
     "duration": 1.44704,
     "end_time": "2022-10-21T03:28:55.061826",
     "exception": false,
     "start_time": "2022-10-21T03:28:53.614786",
     "status": "completed"
    },
    "tags": []
   },
   "outputs": [],
   "source": []
  }
 ],
 "metadata": {
  "kernelspec": {
   "display_name": "Python 3 (ipykernel)",
   "language": "python",
   "name": "python3"
  },
  "language_info": {
   "codemirror_mode": {
    "name": "ipython",
    "version": 3
   },
   "file_extension": ".py",
   "mimetype": "text/x-python",
   "name": "python",
   "nbconvert_exporter": "python",
   "pygments_lexer": "ipython3",
   "version": "3.9.13"
  },
  "papermill": {
   "default_parameters": {},
   "duration": 6932.322941,
   "end_time": "2022-10-21T03:28:59.377318",
   "environment_variables": {},
   "exception": null,
   "input_path": "__notebook__.ipynb",
   "output_path": "__notebook__.ipynb",
   "parameters": {},
   "start_time": "2022-10-21T01:33:27.054377",
   "version": "2.3.4"
  }
 },
 "nbformat": 4,
 "nbformat_minor": 5
}
