{
 "cells": [
  {
   "cell_type": "markdown",
   "id": "48162b0c",
   "metadata": {
    "papermill": {
     "duration": 0.029873,
     "end_time": "2022-10-21T01:33:38.519732",
     "exception": false,
     "start_time": "2022-10-21T01:33:38.489859",
     "status": "completed"
    },
    "tags": []
   },
   "source": [
    "### 上一节课我们搭建CNN网络对CIFAR数据集进行分类任务，得到了初步的效果，很可惜，不太好。本节课，我们看一下我们还能做什么？"
   ]
  },
  {
   "cell_type": "markdown",
   "id": "5c29da92",
   "metadata": {
    "papermill": {
     "duration": 0.029144,
     "end_time": "2022-10-21T01:33:38.675697",
     "exception": false,
     "start_time": "2022-10-21T01:33:38.646553",
     "status": "completed"
    },
    "tags": []
   },
   "source": [
    "### 准备数据集"
   ]
  },
  {
   "cell_type": "code",
   "execution_count": 1,
   "id": "8001e112",
   "metadata": {
    "execution": {
     "iopub.execute_input": "2022-10-21T01:33:38.734057Z",
     "iopub.status.busy": "2022-10-21T01:33:38.733605Z",
     "iopub.status.idle": "2022-10-21T01:33:47.959773Z",
     "shell.execute_reply": "2022-10-21T01:33:47.957611Z"
    },
    "papermill": {
     "duration": 9.259016,
     "end_time": "2022-10-21T01:33:47.962972",
     "exception": false,
     "start_time": "2022-10-21T01:33:38.703956",
     "status": "completed"
    },
    "tags": []
   },
   "outputs": [],
   "source": [
    "import os\n",
    "import tensorflow as tf\n",
    "from tensorflow.keras import datasets"
   ]
  },
  {
   "cell_type": "code",
   "execution_count": 2,
   "id": "16137fa2",
   "metadata": {
    "execution": {
     "iopub.execute_input": "2022-10-21T01:33:48.018839Z",
     "iopub.status.busy": "2022-10-21T01:33:48.018146Z",
     "iopub.status.idle": "2022-10-21T01:33:48.024961Z",
     "shell.execute_reply": "2022-10-21T01:33:48.023369Z"
    },
    "papermill": {
     "duration": 0.037412,
     "end_time": "2022-10-21T01:33:48.027869",
     "exception": false,
     "start_time": "2022-10-21T01:33:47.990457",
     "status": "completed"
    },
    "tags": []
   },
   "outputs": [
    {
     "name": "stdout",
     "output_type": "stream",
     "text": [
      "2.11.0\n"
     ]
    }
   ],
   "source": [
    "print(tf.__version__)"
   ]
  },
  {
   "cell_type": "code",
   "execution_count": 3,
   "id": "7e5eae38",
   "metadata": {
    "execution": {
     "iopub.execute_input": "2022-10-21T01:33:48.083836Z",
     "iopub.status.busy": "2022-10-21T01:33:48.083404Z",
     "iopub.status.idle": "2022-10-21T01:33:48.091565Z",
     "shell.execute_reply": "2022-10-21T01:33:48.090241Z"
    },
    "papermill": {
     "duration": 0.041268,
     "end_time": "2022-10-21T01:33:48.094573",
     "exception": false,
     "start_time": "2022-10-21T01:33:48.053305",
     "status": "completed"
    },
    "tags": []
   },
   "outputs": [],
   "source": [
    "from tensorflow import keras\n",
    "from tensorflow.keras import layers, optimizers\n",
    "from tensorflow.keras.layers import Dense, Dropout, Flatten\n",
    "from tensorflow.keras.layers import Conv2D, MaxPooling2D"
   ]
  },
  {
   "cell_type": "code",
   "execution_count": 4,
   "id": "1b691c8c",
   "metadata": {
    "execution": {
     "iopub.execute_input": "2022-10-21T01:33:48.151949Z",
     "iopub.status.busy": "2022-10-21T01:33:48.151151Z",
     "iopub.status.idle": "2022-10-21T01:33:48.157801Z",
     "shell.execute_reply": "2022-10-21T01:33:48.156390Z"
    },
    "papermill": {
     "duration": 0.039404,
     "end_time": "2022-10-21T01:33:48.160786",
     "exception": false,
     "start_time": "2022-10-21T01:33:48.121382",
     "status": "completed"
    },
    "tags": []
   },
   "outputs": [],
   "source": [
    "import matplotlib.pyplot as plt\n",
    "from tensorflow.keras import Sequential\n",
    "from PIL import Image\n",
    "import numpy as np"
   ]
  },
  {
   "cell_type": "code",
   "execution_count": 5,
   "id": "83873fd8",
   "metadata": {
    "execution": {
     "iopub.execute_input": "2022-10-21T01:33:48.216573Z",
     "iopub.status.busy": "2022-10-21T01:33:48.216095Z",
     "iopub.status.idle": "2022-10-21T01:33:48.222095Z",
     "shell.execute_reply": "2022-10-21T01:33:48.220576Z"
    },
    "papermill": {
     "duration": 0.038244,
     "end_time": "2022-10-21T01:33:48.224912",
     "exception": false,
     "start_time": "2022-10-21T01:33:48.186668",
     "status": "completed"
    },
    "tags": []
   },
   "outputs": [],
   "source": [
    "#(x_train,y_train),(x_test,y_test) = datasets.cifar10.load_data()"
   ]
  },
  {
   "cell_type": "markdown",
   "id": "e2b498bf",
   "metadata": {
    "papermill": {
     "duration": 0.026282,
     "end_time": "2022-10-21T01:33:48.277023",
     "exception": false,
     "start_time": "2022-10-21T01:33:48.250741",
     "status": "completed"
    },
    "tags": []
   },
   "source": [
    "\n",
    "### 本地读取数据集http://www.cs.toronto.edu/~kriz/cifar.html"
   ]
  },
  {
   "cell_type": "code",
   "execution_count": 6,
   "id": "19964981",
   "metadata": {
    "execution": {
     "iopub.execute_input": "2022-10-21T01:33:48.334049Z",
     "iopub.status.busy": "2022-10-21T01:33:48.333030Z",
     "iopub.status.idle": "2022-10-21T01:33:48.338840Z",
     "shell.execute_reply": "2022-10-21T01:33:48.337835Z"
    },
    "papermill": {
     "duration": 0.037338,
     "end_time": "2022-10-21T01:33:48.341338",
     "exception": false,
     "start_time": "2022-10-21T01:33:48.304000",
     "status": "completed"
    },
    "tags": []
   },
   "outputs": [],
   "source": [
    "#在给定数据文件中读取图片数据出来。\n",
    "def unpickle(file):\n",
    "    import pickle\n",
    "    with open(file, 'rb') as fo:\n",
    "        dict = pickle.load(fo, encoding='bytes')\n",
    "    return dict"
   ]
  },
  {
   "cell_type": "code",
   "execution_count": 7,
   "id": "7d11d895",
   "metadata": {
    "execution": {
     "iopub.execute_input": "2022-10-21T01:33:51.281246Z",
     "iopub.status.busy": "2022-10-21T01:33:51.280490Z",
     "iopub.status.idle": "2022-10-21T01:33:54.687911Z",
     "shell.execute_reply": "2022-10-21T01:33:54.686406Z"
    },
    "papermill": {
     "duration": 3.440556,
     "end_time": "2022-10-21T01:33:54.691059",
     "exception": false,
     "start_time": "2022-10-21T01:33:51.250503",
     "status": "completed"
    },
    "tags": []
   },
   "outputs": [
    {
     "name": "stdout",
     "output_type": "stream",
     "text": [
      "cifar-10-batches-py/data_batch_1\n",
      "unzip\n",
      "cifar-10-batches-py/data_batch_2\n",
      "unzip\n",
      "cifar-10-batches-py/data_batch_3\n",
      "unzip\n",
      "cifar-10-batches-py/data_batch_4\n",
      "unzip\n",
      "cifar-10-batches-py/data_batch_5\n",
      "unzip\n",
      "hello\n",
      "cifar-10-batches-py\\test_batch\n"
     ]
    }
   ],
   "source": [
    "#创建训练样本和测试样本\n",
    "def CreatData():\n",
    "    #创建训练样本\n",
    "    #依次加载batch_data_i,并合并到x,y\n",
    "    x=[]\n",
    "    y=[]\n",
    "    for i in range(1,6):\n",
    "        batch_path='cifar-10-batches-py/data_batch_%d'%(i)##/kaggle/input/cifar10batchespy/##'cifar_dataset/data_batch_%d'%(i)\n",
    "        print(batch_path)\n",
    "        batch_dict=unpickle(batch_path)\n",
    "        print(\"unzip\")\n",
    "        train_batch=batch_dict[b'data'].astype('float')\n",
    "        train_labels=np.array(batch_dict[b'labels'])\n",
    "        x.append(train_batch)\n",
    "        y.append(train_labels)\n",
    "    print(\"hello\")\n",
    "    #将5个训练样本batch合并为50000x3072，标签合并为50000x1\n",
    "    #np.concatenate默认axis=0，为纵向连接\n",
    "    traindata=np.concatenate(x)\n",
    "    trainlabels=np.concatenate(y)\n",
    "    \n",
    "    #创建测试样本\n",
    "    #直接写cifar-10-batches-py\\test_batch会报错，因此把/t当作制表符了，应用\\\\;\n",
    "    #    test_dict=unpickle(\"cifar-10-batches-py\\\\test_batch\")\n",
    "    \n",
    "    #建议使用os.path.join()函数\n",
    "    testpath=os.path.join('cifar-10-batches-py','test_batch')\n",
    "    print(testpath)\n",
    "    test_dict=unpickle(testpath)\n",
    "    testdata=test_dict[b'data'].astype('float')\n",
    "    testlabels=np.array(test_dict[b'labels'])\n",
    "\n",
    "    return traindata,trainlabels,testdata,testlabels\n",
    "traindata,trainlabels,testdata,testlabels = CreatData()"
   ]
  },
  {
   "cell_type": "code",
   "execution_count": 8,
   "id": "9afa6f29",
   "metadata": {
    "execution": {
     "iopub.execute_input": "2022-10-21T01:33:54.750186Z",
     "iopub.status.busy": "2022-10-21T01:33:54.748925Z",
     "iopub.status.idle": "2022-10-21T01:33:54.864772Z",
     "shell.execute_reply": "2022-10-21T01:33:54.863377Z"
    },
    "papermill": {
     "duration": 0.148973,
     "end_time": "2022-10-21T01:33:54.868475",
     "exception": false,
     "start_time": "2022-10-21T01:33:54.719502",
     "status": "completed"
    },
    "tags": []
   },
   "outputs": [
    {
     "name": "stdout",
     "output_type": "stream",
     "text": [
      "255.0\n",
      "train size is : (50000, 3072)\n",
      "train_labels size is : (50000,)\n",
      "test size is : (10000, 3072)\n",
      "test_labels size is : (10000,)\n"
     ]
    }
   ],
   "source": [
    "print(traindata.max())#通过最大值可以看到图片数据的格式和最大值。以便于调整使用imshow显示\n",
    "print('train size is :',traindata.shape)\n",
    "print('train_labels size is :',trainlabels.shape)\n",
    "print('test size is :',testdata.shape)\n",
    "print('test_labels size is :',testlabels.shape)"
   ]
  },
  {
   "cell_type": "markdown",
   "id": "f06b4069",
   "metadata": {
    "papermill": {
     "duration": 0.02695,
     "end_time": "2022-10-21T01:33:54.923742",
     "exception": false,
     "start_time": "2022-10-21T01:33:54.896792",
     "status": "completed"
    },
    "tags": []
   },
   "source": [
    "#### 我们可以看到训练集里面有5万张，测试集有1万，大小是32x32x3.然后标签是一维数据"
   ]
  },
  {
   "cell_type": "code",
   "execution_count": 9,
   "id": "fee1defe",
   "metadata": {
    "execution": {
     "iopub.execute_input": "2022-10-21T01:33:54.982697Z",
     "iopub.status.busy": "2022-10-21T01:33:54.982260Z",
     "iopub.status.idle": "2022-10-21T01:33:55.590088Z",
     "shell.execute_reply": "2022-10-21T01:33:55.588536Z"
    },
    "papermill": {
     "duration": 0.640636,
     "end_time": "2022-10-21T01:33:55.592751",
     "exception": false,
     "start_time": "2022-10-21T01:33:54.952115",
     "status": "completed"
    },
    "tags": []
   },
   "outputs": [
    {
     "name": "stdout",
     "output_type": "stream",
     "text": [
      "(60000, 3072)\n"
     ]
    },
    {
     "data": {
      "text/plain": [
       "(60000,)"
      ]
     },
     "execution_count": 9,
     "metadata": {},
     "output_type": "execute_result"
    }
   ],
   "source": [
    "#合并数据集为了后面的乱序\n",
    "train_test = np.concatenate((traindata,testdata),axis=0)\n",
    "print(train_test.shape)\n",
    "train_test_label = np.concatenate((trainlabels,testlabels),axis=0)\n",
    "train_test_label.shape"
   ]
  },
  {
   "cell_type": "code",
   "execution_count": 10,
   "id": "6f92f651",
   "metadata": {
    "execution": {
     "iopub.execute_input": "2022-10-21T01:33:55.652481Z",
     "iopub.status.busy": "2022-10-21T01:33:55.651968Z",
     "iopub.status.idle": "2022-10-21T01:33:56.985501Z",
     "shell.execute_reply": "2022-10-21T01:33:56.984210Z"
    },
    "papermill": {
     "duration": 1.366526,
     "end_time": "2022-10-21T01:33:56.988176",
     "exception": false,
     "start_time": "2022-10-21T01:33:55.621650",
     "status": "completed"
    },
    "tags": []
   },
   "outputs": [],
   "source": [
    "import sklearn as sk#打乱数组和标签的顺序\n",
    "x,y = sk.utils.shuffle(train_test,train_test_label,random_state=1)"
   ]
  },
  {
   "cell_type": "markdown",
   "id": "1b82d25b",
   "metadata": {
    "papermill": {
     "duration": 0.027239,
     "end_time": "2022-10-21T01:33:57.117052",
     "exception": false,
     "start_time": "2022-10-21T01:33:57.089813",
     "status": "completed"
    },
    "tags": []
   },
   "source": [
    "#### 数据处理：1）归一化  2）one hot encoding"
   ]
  },
  {
   "cell_type": "code",
   "execution_count": 11,
   "id": "e27a5d3a",
   "metadata": {
    "execution": {
     "iopub.execute_input": "2022-10-21T01:33:57.183907Z",
     "iopub.status.busy": "2022-10-21T01:33:57.183513Z",
     "iopub.status.idle": "2022-10-21T01:33:57.651937Z",
     "shell.execute_reply": "2022-10-21T01:33:57.650702Z"
    },
    "papermill": {
     "duration": 0.504905,
     "end_time": "2022-10-21T01:33:57.654745",
     "exception": false,
     "start_time": "2022-10-21T01:33:57.149840",
     "status": "completed"
    },
    "tags": []
   },
   "outputs": [],
   "source": [
    "#数据归一化\n",
    "x_guiyi = x.astype('float32')/255\n",
    "#做one hot encoding\n",
    "y_onehot = tf.keras.utils.to_categorical(y)"
   ]
  },
  {
   "cell_type": "markdown",
   "id": "79cefac5",
   "metadata": {
    "papermill": {
     "duration": 0.027292,
     "end_time": "2022-10-21T01:33:57.709537",
     "exception": false,
     "start_time": "2022-10-21T01:33:57.682245",
     "status": "completed"
    },
    "tags": []
   },
   "source": [
    "#### 在上面的test集读取，reshshape和显示的时候，我们注意到了:\n",
    "#### 1.数据的存储矩阵为【3，32，32】，所以我们根据上面的操作，重新操作训练集。"
   ]
  },
  {
   "cell_type": "code",
   "execution_count": 12,
   "id": "252b8646",
   "metadata": {
    "execution": {
     "iopub.execute_input": "2022-10-21T01:33:57.766587Z",
     "iopub.status.busy": "2022-10-21T01:33:57.766164Z",
     "iopub.status.idle": "2022-10-21T01:33:57.772130Z",
     "shell.execute_reply": "2022-10-21T01:33:57.770907Z"
    },
    "papermill": {
     "duration": 0.037746,
     "end_time": "2022-10-21T01:33:57.774849",
     "exception": false,
     "start_time": "2022-10-21T01:33:57.737103",
     "status": "completed"
    },
    "tags": []
   },
   "outputs": [],
   "source": [
    "x_images = np.reshape(x_guiyi, (x_guiyi.shape[0],3, 32, 32))"
   ]
  },
  {
   "cell_type": "markdown",
   "id": "6a817214",
   "metadata": {
    "papermill": {
     "duration": 0.027479,
     "end_time": "2022-10-21T01:33:57.830122",
     "exception": false,
     "start_time": "2022-10-21T01:33:57.802643",
     "status": "completed"
    },
    "tags": []
   },
   "source": [
    "### 调整数组格式为50000，32，32，3.使用transpose函数，参考test数据集时候的矩阵转置方法。"
   ]
  },
  {
   "cell_type": "code",
   "execution_count": 13,
   "id": "fe488b13",
   "metadata": {
    "execution": {
     "iopub.execute_input": "2022-10-21T01:33:57.887579Z",
     "iopub.status.busy": "2022-10-21T01:33:57.887160Z",
     "iopub.status.idle": "2022-10-21T01:33:57.892653Z",
     "shell.execute_reply": "2022-10-21T01:33:57.891331Z"
    },
    "papermill": {
     "duration": 0.037194,
     "end_time": "2022-10-21T01:33:57.895160",
     "exception": false,
     "start_time": "2022-10-21T01:33:57.857966",
     "status": "completed"
    },
    "tags": []
   },
   "outputs": [],
   "source": [
    "x_images_images = np.transpose(x_images,(0,2,3,1)) # 读取image"
   ]
  },
  {
   "cell_type": "code",
   "execution_count": 14,
   "id": "19410c49",
   "metadata": {
    "execution": {
     "iopub.execute_input": "2022-10-21T01:33:57.955052Z",
     "iopub.status.busy": "2022-10-21T01:33:57.954629Z",
     "iopub.status.idle": "2022-10-21T01:33:58.204449Z",
     "shell.execute_reply": "2022-10-21T01:33:58.202676Z"
    },
    "papermill": {
     "duration": 0.282932,
     "end_time": "2022-10-21T01:33:58.207380",
     "exception": false,
     "start_time": "2022-10-21T01:33:57.924448",
     "status": "completed"
    },
    "tags": []
   },
   "outputs": [
    {
     "name": "stdout",
     "output_type": "stream",
     "text": [
      "[0. 0. 0. 0. 0. 0. 1. 0. 0. 0.]\n"
     ]
    },
    {
     "data": {
      "image/png": "[encoded data removed]",
      "text/plain": [
       "<Figure size 640x480 with 4 Axes>"
      ]
     },
     "metadata": {},
     "output_type": "display_data"
    }
   ],
   "source": [
    "plt.figure()\n",
    "plt.subplot(2,2,1)\n",
    "plt.imshow(x_images_images[1])\n",
    "plt.axis('off')\n",
    "\n",
    "\n",
    "plt.subplot(2,2,2)\n",
    "plt.imshow(x_images_images[1][:,:,0])\n",
    "plt.axis('off')\n",
    "\n",
    "\n",
    "plt.subplot(2,2,3)\n",
    "plt.imshow(x_images_images[1][:,:,1])#(x_train_images[1].astype('uint8')[:,:,1])\n",
    "plt.axis('off')\n",
    "\n",
    "\n",
    "plt.subplot(2,2,4)\n",
    "plt.imshow(x_images_images[1][:,:,2])\n",
    "plt.axis('off')\n",
    "print(y_onehot[1])"
   ]
  },
  {
   "cell_type": "code",
   "execution_count": 15,
   "id": "d52ecf4b",
   "metadata": {
    "execution": {
     "iopub.execute_input": "2022-10-21T01:33:58.266703Z",
     "iopub.status.busy": "2022-10-21T01:33:58.266262Z",
     "iopub.status.idle": "2022-10-21T01:33:58.272622Z",
     "shell.execute_reply": "2022-10-21T01:33:58.271221Z"
    },
    "papermill": {
     "duration": 0.039535,
     "end_time": "2022-10-21T01:33:58.275769",
     "exception": false,
     "start_time": "2022-10-21T01:33:58.236234",
     "status": "completed"
    },
    "tags": []
   },
   "outputs": [
    {
     "name": "stdout",
     "output_type": "stream",
     "text": [
      "(60000, 32, 32, 3) (60000, 10)\n"
     ]
    }
   ],
   "source": [
    "print(x_images_images.shape,y_onehot.shape)"
   ]
  },
  {
   "cell_type": "markdown",
   "id": "220c41d3",
   "metadata": {
    "papermill": {
     "duration": 0.028369,
     "end_time": "2022-10-21T01:33:58.333263",
     "exception": false,
     "start_time": "2022-10-21T01:33:58.304894",
     "status": "completed"
    },
    "tags": []
   },
   "source": [
    "## 至此，我们的数据集如下：\n",
    "### x_images_images----(60000, 32, 32, 3),取值范围0-1.\n",
    "###        y_onehot----(60000,10)\n",
    "### 为了减少模型运行时间以观察效果，我们做了两个事情，1）我们缩减了数据集，每个类别里面抽取300张图片。最终数据集为3000张图片。2）3D变2D灰度图像（可以不做）"
   ]
  },
  {
   "cell_type": "code",
   "execution_count": 16,
   "id": "290c28b2",
   "metadata": {
    "execution": {
     "iopub.execute_input": "2022-10-21T01:33:58.394783Z",
     "iopub.status.busy": "2022-10-21T01:33:58.394370Z",
     "iopub.status.idle": "2022-10-21T01:33:58.403941Z",
     "shell.execute_reply": "2022-10-21T01:33:58.402258Z"
    },
    "papermill": {
     "duration": 0.044722,
     "end_time": "2022-10-21T01:33:58.407642",
     "exception": false,
     "start_time": "2022-10-21T01:33:58.362920",
     "status": "completed"
    },
    "tags": []
   },
   "outputs": [
    {
     "name": "stdout",
     "output_type": "stream",
     "text": [
      "[[0], [0], [0], [0], [0], [0], [0], [0], [0], [0]]\n",
      "----------------\n",
      "[[0, 1], [0], [0], [0], [0], [0], [0], [0], [0], [0]]\n",
      "----------------\n",
      "[[0], [0], [0], [0], [0], [0], [0], [0], [0], [0]]\n",
      "----------------\n",
      "[[], [0], [0], [0], [0], [0], [0], [0], [0], [0]]\n",
      "----------------\n"
     ]
    }
   ],
   "source": [
    "## 学习list的基本操作\n",
    "test_list = [[j for j in range(1)] for i in range(10)]\n",
    "print(test_list)\n",
    "print(\"----------------\")\n",
    "test_list[0].append(1)\n",
    "print(test_list)\n",
    "print(\"----------------\")\n",
    "test_list[0].pop()\n",
    "print(test_list)\n",
    "print(\"----------------\")\n",
    "test_list[0].pop()\n",
    "print(test_list)\n",
    "print(\"----------------\")"
   ]
  },
  {
   "cell_type": "code",
   "execution_count": 17,
   "id": "05d00dae",
   "metadata": {
    "execution": {
     "iopub.execute_input": "2022-10-21T01:33:58.470110Z",
     "iopub.status.busy": "2022-10-21T01:33:58.469676Z",
     "iopub.status.idle": "2022-10-21T01:33:58.479829Z",
     "shell.execute_reply": "2022-10-21T01:33:58.478316Z"
    },
    "papermill": {
     "duration": 0.044829,
     "end_time": "2022-10-21T01:33:58.482937",
     "exception": false,
     "start_time": "2022-10-21T01:33:58.438108",
     "status": "completed"
    },
    "tags": []
   },
   "outputs": [],
   "source": [
    "def suojian(data,label, num):#data是需要被缩减的数据，label是对应data的标签，num是每个列别需要保留的个数\n",
    "    class_label = [[j for j in range(1)] for i in range(10)]\n",
    "    for i in range(10):\n",
    "       # print(i)\n",
    "        class_label[i].pop()#存储每个类别的索引\n",
    "    for i in range(label.shape[0]):\n",
    "        class_label[np.argmax(label[i])].append(i)\n",
    "    #print(class_label)二维list，一维表示10个分类，一个维度记录着每个分类的图片所在下标\n",
    "    #print(class_label[0][0:10])\n",
    "    baoliu = []\n",
    "    for i in range(10):\n",
    "        temp = class_label[i][num:]\n",
    "        #print(len(temp))\n",
    "        baoliu.extend(temp)\n",
    "    print(len(baoliu))\n",
    "    #print(baoliu,len(baoliu))\n",
    "    label1 =  np.delete(label,baoliu,axis=0)\n",
    "    data1 = np.delete(data,baoliu,axis=0)\n",
    "    x,y = sk.utils.shuffle(data1,label1,random_state=1)\n",
    "    #print(data.shape,data1.shape)\n",
    "    #print(label.shape,label1.shape)\n",
    "    return x,y"
   ]
  },
  {
   "cell_type": "code",
   "execution_count": 18,
   "id": "ae13afef",
   "metadata": {
    "execution": {
     "iopub.execute_input": "2022-10-21T01:33:58.544317Z",
     "iopub.status.busy": "2022-10-21T01:33:58.543899Z",
     "iopub.status.idle": "2022-10-21T01:33:58.727293Z",
     "shell.execute_reply": "2022-10-21T01:33:58.725432Z"
    },
    "papermill": {
     "duration": 0.217459,
     "end_time": "2022-10-21T01:33:58.730315",
     "exception": false,
     "start_time": "2022-10-21T01:33:58.512856",
     "status": "completed"
    },
    "tags": []
   },
   "outputs": [
    {
     "name": "stdout",
     "output_type": "stream",
     "text": [
      "57000\n",
      "suojian totol images is : (3000, 32, 32, 3)\n",
      "suojian totol labels size is : (3000, 10)\n"
     ]
    }
   ],
   "source": [
    "suojian_x_images_images,suojian_y_onehot = suojian(x_images_images,y_onehot, 300)  #x_test_images,y_test #suojian(x_test_images,y_test, 5)\n",
    "print('suojian totol images is :',suojian_x_images_images.shape)\n",
    "print('suojian totol labels size is :',suojian_y_onehot.shape)"
   ]
  },
  {
   "cell_type": "markdown",
   "id": "33fd7df1",
   "metadata": {
    "papermill": {
     "duration": 0.029588,
     "end_time": "2022-10-21T01:33:58.788260",
     "exception": false,
     "start_time": "2022-10-21T01:33:58.758672",
     "status": "completed"
    },
    "tags": []
   },
   "source": [
    "### 拆分训练集/验证机/测试集，比例为8：1：1，也就是2400/300/300个。"
   ]
  },
  {
   "cell_type": "code",
   "execution_count": 19,
   "id": "dbc27390",
   "metadata": {
    "execution": {
     "iopub.execute_input": "2022-10-21T01:33:58.850545Z",
     "iopub.status.busy": "2022-10-21T01:33:58.849086Z",
     "iopub.status.idle": "2022-10-21T01:33:58.856821Z",
     "shell.execute_reply": "2022-10-21T01:33:58.855869Z"
    },
    "papermill": {
     "duration": 0.040794,
     "end_time": "2022-10-21T01:33:58.859480",
     "exception": false,
     "start_time": "2022-10-21T01:33:58.818686",
     "status": "completed"
    },
    "tags": []
   },
   "outputs": [],
   "source": [
    "# 观察过拟合现象.1)拆分数据集\n",
    "def train_val_test(train_images,train_labels,ratio):\n",
    "    num = train_images.shape[0] #总的数据集个数\n",
    "    split_num_train = num - 2*round(num*ratio)\n",
    "    split_num_val = num - round(num*ratio)\n",
    "#拆分数据集和验证集\n",
    "    train = train_images[:split_num_train]\n",
    "    val = train_images[split_num_train:split_num_val]\n",
    "    test = train_images[split_num_val:]\n",
    "#拆分数据集和验证集标签    \n",
    "    train_label = train_labels[:split_num_train]\n",
    "    val_label = train_labels[split_num_train:split_num_val]\n",
    "    test_label = train_labels[split_num_val:]\n",
    "\n",
    "    return (train,train_label,val,val_label,test,test_label)"
   ]
  },
  {
   "cell_type": "code",
   "execution_count": 20,
   "id": "4f9979d8",
   "metadata": {
    "execution": {
     "iopub.execute_input": "2022-10-21T01:33:58.922923Z",
     "iopub.status.busy": "2022-10-21T01:33:58.920149Z",
     "iopub.status.idle": "2022-10-21T01:33:58.931869Z",
     "shell.execute_reply": "2022-10-21T01:33:58.929577Z"
    },
    "papermill": {
     "duration": 0.046329,
     "end_time": "2022-10-21T01:33:58.934786",
     "exception": false,
     "start_time": "2022-10-21T01:33:58.888457",
     "status": "completed"
    },
    "tags": []
   },
   "outputs": [
    {
     "name": "stdout",
     "output_type": "stream",
     "text": [
      "suojian train images is : (2400, 32, 32, 3)\n",
      "suojian train labels size is : (2400, 10)\n",
      "suojian val images is : (300, 32, 32, 3)\n",
      "suojian val labels size is : (300, 10)\n",
      "suojian test images is : (300, 32, 32, 3)\n",
      "suojian test labels size is : (300, 10)\n"
     ]
    }
   ],
   "source": [
    "\n",
    "(sj_train,sj_train_label,sj_val,sj_val_label,sj_test,sj_test_label) = train_val_test(suojian_x_images_images,suojian_y_onehot,0.1)\n",
    "print('suojian train images is :',sj_train.shape)\n",
    "print('suojian train labels size is :',sj_train_label.shape)\n",
    "print('suojian val images is :',sj_val.shape)\n",
    "print('suojian val labels size is :',sj_val_label.shape)\n",
    "print('suojian test images is :',sj_test.shape)\n",
    "print('suojian test labels size is :',sj_test_label.shape)"
   ]
  },
  {
   "cell_type": "code",
   "execution_count": 21,
   "id": "bc760ce8",
   "metadata": {
    "execution": {
     "iopub.execute_input": "2022-10-21T01:33:59.315800Z",
     "iopub.status.busy": "2022-10-21T01:33:59.315383Z",
     "iopub.status.idle": "2022-10-21T01:33:59.320641Z",
     "shell.execute_reply": "2022-10-21T01:33:59.319448Z"
    },
    "papermill": {
     "duration": 0.038187,
     "end_time": "2022-10-21T01:33:59.323017",
     "exception": false,
     "start_time": "2022-10-21T01:33:59.284830",
     "status": "completed"
    },
    "tags": []
   },
   "outputs": [],
   "source": [
    "#### 搭建模型"
   ]
  },
  {
   "cell_type": "code",
   "execution_count": 22,
   "id": "23f1c771",
   "metadata": {
    "execution": {
     "iopub.execute_input": "2022-10-21T01:33:59.382217Z",
     "iopub.status.busy": "2022-10-21T01:33:59.381449Z",
     "iopub.status.idle": "2022-10-21T01:33:59.561374Z",
     "shell.execute_reply": "2022-10-21T01:33:59.559841Z"
    },
    "papermill": {
     "duration": 0.212518,
     "end_time": "2022-10-21T01:33:59.564061",
     "exception": false,
     "start_time": "2022-10-21T01:33:59.351543",
     "status": "completed"
    },
    "tags": []
   },
   "outputs": [
    {
     "name": "stdout",
     "output_type": "stream",
     "text": [
      "Model: \"sequential\"\n",
      "_________________________________________________________________\n",
      " Layer (type)                Output Shape              Param #   \n",
      "=================================================================\n",
      " conv2d (Conv2D)             (None, 32, 32, 8)         608       \n",
      "                                                                 \n",
      " max_pooling2d (MaxPooling2D  (None, 16, 16, 8)        0         \n",
      " )                                                               \n",
      "                                                                 \n",
      " conv2d_1 (Conv2D)           (None, 16, 16, 16)        3216      \n",
      "                                                                 \n",
      " max_pooling2d_1 (MaxPooling  (None, 8, 8, 16)         0         \n",
      " 2D)                                                             \n",
      "                                                                 \n",
      " flatten (Flatten)           (None, 1024)              0         \n",
      "                                                                 \n",
      " dense (Dense)               (None, 10)                10250     \n",
      "                                                                 \n",
      "=================================================================\n",
      "Total params: 14,074\n",
      "Trainable params: 14,074\n",
      "Non-trainable params: 0\n",
      "_________________________________________________________________\n"
     ]
    }
   ],
   "source": [
    "input_shape = (32,32,3)\n",
    "model = Sequential()\n",
    "model.add(Conv2D(8, kernel_size=(5,5),activation='sigmoid',padding='same', input_shape=input_shape))\n",
    "model.add(MaxPooling2D(pool_size=(2,2), strides=2))\n",
    "model.add(Conv2D(16,kernel_size=(5,5),activation='sigmoid',padding='same'))\n",
    "model.add(MaxPooling2D(pool_size=(2,2), strides=2))\n",
    "model.add(Flatten())\n",
    "model.add(Dense(units=10,activation='sigmoid'))\n",
    "model.summary()"
   ]
  },
  {
   "cell_type": "code",
   "execution_count": 23,
   "id": "d2882225",
   "metadata": {
    "execution": {
     "iopub.execute_input": "2022-10-21T01:33:59.624146Z",
     "iopub.status.busy": "2022-10-21T01:33:59.623741Z",
     "iopub.status.idle": "2022-10-21T01:33:59.638217Z",
     "shell.execute_reply": "2022-10-21T01:33:59.636922Z"
    },
    "papermill": {
     "duration": 0.047362,
     "end_time": "2022-10-21T01:33:59.641141",
     "exception": false,
     "start_time": "2022-10-21T01:33:59.593779",
     "status": "completed"
    },
    "tags": []
   },
   "outputs": [],
   "source": [
    "model.compile(loss = 'mse', optimizer = optimizers.SGD(),metrics = ['accuracy'])  "
   ]
  },
  {
   "cell_type": "code",
   "execution_count": 24,
   "id": "2fa9393d",
   "metadata": {
    "execution": {
     "iopub.execute_input": "2022-10-21T01:33:59.701101Z",
     "iopub.status.busy": "2022-10-21T01:33:59.700653Z",
     "iopub.status.idle": "2022-10-21T01:33:59.707402Z",
     "shell.execute_reply": "2022-10-21T01:33:59.705715Z"
    },
    "papermill": {
     "duration": 0.04049,
     "end_time": "2022-10-21T01:33:59.710620",
     "exception": false,
     "start_time": "2022-10-21T01:33:59.670130",
     "status": "completed"
    },
    "tags": []
   },
   "outputs": [
    {
     "name": "stdout",
     "output_type": "stream",
     "text": [
      "(2400, 32, 32, 3) (2400, 10)\n"
     ]
    }
   ],
   "source": [
    "print(sj_train.shape,sj_train_label.shape)"
   ]
  },
  {
   "cell_type": "code",
   "execution_count": 25,
   "id": "1e6c33f2",
   "metadata": {
    "execution": {
     "iopub.execute_input": "2022-10-21T01:33:59.771375Z",
     "iopub.status.busy": "2022-10-21T01:33:59.770806Z",
     "iopub.status.idle": "2022-10-21T01:34:28.019903Z",
     "shell.execute_reply": "2022-10-21T01:34:28.018508Z"
    },
    "papermill": {
     "duration": 28.282652,
     "end_time": "2022-10-21T01:34:28.022845",
     "exception": false,
     "start_time": "2022-10-21T01:33:59.740193",
     "status": "completed"
    },
    "tags": []
   },
   "outputs": [
    {
     "name": "stdout",
     "output_type": "stream",
     "text": [
      "Epoch 1/10\n",
      "600/600 [==============================] - 2s 3ms/step - loss: 0.0964 - accuracy: 0.0958\n",
      "Epoch 2/10\n",
      "600/600 [==============================] - 2s 3ms/step - loss: 0.0901 - accuracy: 0.0875\n",
      "Epoch 3/10\n",
      "600/600 [==============================] - 2s 3ms/step - loss: 0.0901 - accuracy: 0.0846\n",
      "Epoch 4/10\n",
      "600/600 [==============================] - 2s 3ms/step - loss: 0.0901 - accuracy: 0.0954\n",
      "Epoch 5/10\n",
      "600/600 [==============================] - 2s 3ms/step - loss: 0.0901 - accuracy: 0.0971\n",
      "Epoch 6/10\n",
      "600/600 [==============================] - 2s 3ms/step - loss: 0.0901 - accuracy: 0.0958\n",
      "Epoch 7/10\n",
      "600/600 [==============================] - 2s 3ms/step - loss: 0.0901 - accuracy: 0.0925\n",
      "Epoch 8/10\n",
      "600/600 [==============================] - 2s 3ms/step - loss: 0.0901 - accuracy: 0.0867\n",
      "Epoch 9/10\n",
      "600/600 [==============================] - 2s 3ms/step - loss: 0.0901 - accuracy: 0.0929\n",
      "Epoch 10/10\n",
      "600/600 [==============================] - 2s 3ms/step - loss: 0.0901 - accuracy: 0.0958\n"
     ]
    },
    {
     "data": {
      "text/plain": [
       "<keras.callbacks.History at 0x26e2343a130>"
      ]
     },
     "execution_count": 25,
     "metadata": {},
     "output_type": "execute_result"
    }
   ],
   "source": [
    "model.fit(sj_train,sj_train_label,batch_size=4,epochs=10,verbose=1)"
   ]
  },
  {
   "cell_type": "code",
   "execution_count": 26,
   "id": "cb94320a",
   "metadata": {
    "execution": {
     "iopub.execute_input": "2022-10-21T01:34:28.155700Z",
     "iopub.status.busy": "2022-10-21T01:34:28.155304Z",
     "iopub.status.idle": "2022-10-21T01:34:28.448797Z",
     "shell.execute_reply": "2022-10-21T01:34:28.447561Z"
    },
    "papermill": {
     "duration": 0.362855,
     "end_time": "2022-10-21T01:34:28.451617",
     "exception": false,
     "start_time": "2022-10-21T01:34:28.088762",
     "status": "completed"
    },
    "tags": []
   },
   "outputs": [
    {
     "name": "stdout",
     "output_type": "stream",
     "text": [
      "10/10 [==============================] - 0s 3ms/step - loss: 0.0901 - accuracy: 0.0933\n"
     ]
    },
    {
     "data": {
      "text/plain": [
       "[0.0901045948266983, 0.09333333373069763]"
      ]
     },
     "execution_count": 26,
     "metadata": {},
     "output_type": "execute_result"
    }
   ],
   "source": [
    "model.evaluate(sj_test,sj_test_label) #其实该函数第一个返回值是损失（loss)，第二个返回值是准确率(acc)"
   ]
  },
  {
   "cell_type": "markdown",
   "id": "41a71a84",
   "metadata": {
    "papermill": {
     "duration": 0.063374,
     "end_time": "2022-10-21T01:34:28.578226",
     "exception": false,
     "start_time": "2022-10-21T01:34:28.514852",
     "status": "completed"
    },
    "tags": []
   },
   "source": [
    "### 模型性能提升：1）优化器。2）激活函数。3）损失函数.4）过拟合。5）数据增强。"
   ]
  },
  {
   "cell_type": "markdown",
   "id": "8a3205ee",
   "metadata": {
    "papermill": {
     "duration": 0.062429,
     "end_time": "2022-10-21T01:34:28.704569",
     "exception": false,
     "start_time": "2022-10-21T01:34:28.642140",
     "status": "completed"
    },
    "tags": []
   },
   "source": [
    "####  1)优化器 Adam虽然可以自动调整学习率，可是初始学习率过大，很可能直接收敛到很差的局部最小值点，而后面的学习因为学习率已经被降低，就再也跳不出去了。所以不宜过大。一般的框架中，默认学习率1e-3。"
   ]
  },
  {
   "cell_type": "code",
   "execution_count": 27,
   "id": "070025ec",
   "metadata": {
    "execution": {
     "iopub.execute_input": "2022-10-21T01:34:28.832402Z",
     "iopub.status.busy": "2022-10-21T01:34:28.831600Z",
     "iopub.status.idle": "2022-10-21T01:34:55.332562Z",
     "shell.execute_reply": "2022-10-21T01:34:55.331553Z"
    },
    "papermill": {
     "duration": 26.567688,
     "end_time": "2022-10-21T01:34:55.335049",
     "exception": false,
     "start_time": "2022-10-21T01:34:28.767361",
     "status": "completed"
    },
    "tags": []
   },
   "outputs": [
    {
     "name": "stdout",
     "output_type": "stream",
     "text": [
      "Model: \"sequential_1\"\n",
      "_________________________________________________________________\n",
      " Layer (type)                Output Shape              Param #   \n",
      "=================================================================\n",
      " conv2d_2 (Conv2D)           (None, 32, 32, 8)         608       \n",
      "                                                                 \n",
      " max_pooling2d_2 (MaxPooling  (None, 16, 16, 8)        0         \n",
      " 2D)                                                             \n",
      "                                                                 \n",
      " conv2d_3 (Conv2D)           (None, 16, 16, 16)        3216      \n",
      "                                                                 \n",
      " max_pooling2d_3 (MaxPooling  (None, 8, 8, 16)         0         \n",
      " 2D)                                                             \n",
      "                                                                 \n",
      " flatten_1 (Flatten)         (None, 1024)              0         \n",
      "                                                                 \n",
      " dense_1 (Dense)             (None, 10)                10250     \n",
      "                                                                 \n",
      "=================================================================\n",
      "Total params: 14,074\n",
      "Trainable params: 14,074\n",
      "Non-trainable params: 0\n",
      "_________________________________________________________________\n",
      "Epoch 1/10\n",
      "600/600 - 2s - loss: 0.0919 - accuracy: 0.1129 - 2s/epoch - 3ms/step\n",
      "Epoch 2/10\n",
      "600/600 - 2s - loss: 0.0873 - accuracy: 0.1992 - 2s/epoch - 3ms/step\n",
      "Epoch 3/10\n",
      "600/600 - 2s - loss: 0.0845 - accuracy: 0.2471 - 2s/epoch - 3ms/step\n",
      "Epoch 4/10\n",
      "600/600 - 2s - loss: 0.0836 - accuracy: 0.2700 - 2s/epoch - 3ms/step\n",
      "Epoch 5/10\n",
      "600/600 - 2s - loss: 0.0827 - accuracy: 0.2854 - 2s/epoch - 3ms/step\n",
      "Epoch 6/10\n",
      "600/600 - 2s - loss: 0.0817 - accuracy: 0.3046 - 2s/epoch - 3ms/step\n",
      "Epoch 7/10\n",
      "600/600 - 2s - loss: 0.0806 - accuracy: 0.3237 - 2s/epoch - 3ms/step\n",
      "Epoch 8/10\n",
      "600/600 - 2s - loss: 0.0789 - accuracy: 0.3492 - 2s/epoch - 3ms/step\n",
      "Epoch 9/10\n",
      "600/600 - 2s - loss: 0.0771 - accuracy: 0.3638 - 2s/epoch - 3ms/step\n",
      "Epoch 10/10\n",
      "600/600 - 2s - loss: 0.0760 - accuracy: 0.3754 - 2s/epoch - 3ms/step\n"
     ]
    },
    {
     "data": {
      "text/plain": [
       "<keras.callbacks.History at 0x26e23196550>"
      ]
     },
     "execution_count": 27,
     "metadata": {},
     "output_type": "execute_result"
    }
   ],
   "source": [
    "#优化器,参考链接https://zhuanlan.zhihu.com/p/378629475优化器不同,收敛速度和效果会有不同,具体模型表现不一样,是一个尝试调参的过程.\n",
    "model2 = Sequential()\n",
    "model2.add(Conv2D(8, kernel_size=(5,5),activation='sigmoid',padding='same', input_shape=input_shape))\n",
    "model2.add(MaxPooling2D(pool_size=(2,2), strides=2))\n",
    "model2.add(Conv2D(16,kernel_size=(5,5),activation='sigmoid',padding='same'))\n",
    "model2.add(MaxPooling2D(pool_size=(2,2), strides=2))\n",
    "model2.add(Flatten())\n",
    "model2.add(Dense(units=10,activation='sigmoid'))\n",
    "model2.summary()\n",
    "#优化器改为ADAM\n",
    "model2.compile(loss = 'mse', optimizer = optimizers.Adam(0.001),metrics = ['accuracy'])  \n",
    "model2.fit(sj_train,sj_train_label,batch_size=4,epochs=10,verbose=2)"
   ]
  },
  {
   "cell_type": "code",
   "execution_count": 28,
   "id": "c4374358",
   "metadata": {
    "execution": {
     "iopub.execute_input": "2022-10-21T01:34:55.471669Z",
     "iopub.status.busy": "2022-10-21T01:34:55.470345Z",
     "iopub.status.idle": "2022-10-21T01:34:55.720701Z",
     "shell.execute_reply": "2022-10-21T01:34:55.719129Z"
    },
    "papermill": {
     "duration": 0.324775,
     "end_time": "2022-10-21T01:34:55.723459",
     "exception": false,
     "start_time": "2022-10-21T01:34:55.398684",
     "status": "completed"
    },
    "tags": []
   },
   "outputs": [
    {
     "name": "stdout",
     "output_type": "stream",
     "text": [
      "10/10 [==============================] - 0s 3ms/step - loss: 0.0805 - accuracy: 0.3367\n"
     ]
    },
    {
     "data": {
      "text/plain": [
       "[0.08050853759050369, 0.33666667342185974]"
      ]
     },
     "execution_count": 28,
     "metadata": {},
     "output_type": "execute_result"
    }
   ],
   "source": [
    "model2.evaluate(sj_test,sj_test_label) #其实该函数第一个返回值是损失（loss)，第二个返回值是准确率(acc)"
   ]
  },
  {
   "cell_type": "markdown",
   "id": "70811b5e",
   "metadata": {
    "papermill": {
     "duration": 0.064362,
     "end_time": "2022-10-21T01:34:55.852795",
     "exception": false,
     "start_time": "2022-10-21T01:34:55.788433",
     "status": "completed"
    },
    "tags": []
   },
   "source": [
    "#### 2)激活函数 之sigmoid--softmax"
   ]
  },
  {
   "cell_type": "code",
   "execution_count": 29,
   "id": "0c9329fe",
   "metadata": {
    "execution": {
     "iopub.execute_input": "2022-10-21T01:34:55.985150Z",
     "iopub.status.busy": "2022-10-21T01:34:55.984009Z",
     "iopub.status.idle": "2022-10-21T01:35:26.481347Z",
     "shell.execute_reply": "2022-10-21T01:35:26.479712Z"
    },
    "papermill": {
     "duration": 30.626937,
     "end_time": "2022-10-21T01:35:26.544477",
     "exception": false,
     "start_time": "2022-10-21T01:34:55.917540",
     "status": "completed"
    },
    "tags": []
   },
   "outputs": [
    {
     "name": "stdout",
     "output_type": "stream",
     "text": [
      "Model: \"sequential_2\"\n",
      "_________________________________________________________________\n",
      " Layer (type)                Output Shape              Param #   \n",
      "=================================================================\n",
      " conv2d_4 (Conv2D)           (None, 32, 32, 8)         608       \n",
      "                                                                 \n",
      " max_pooling2d_4 (MaxPooling  (None, 16, 16, 8)        0         \n",
      " 2D)                                                             \n",
      "                                                                 \n",
      " conv2d_5 (Conv2D)           (None, 16, 16, 16)        3216      \n",
      "                                                                 \n",
      " max_pooling2d_5 (MaxPooling  (None, 8, 8, 16)         0         \n",
      " 2D)                                                             \n",
      "                                                                 \n",
      " flatten_2 (Flatten)         (None, 1024)              0         \n",
      "                                                                 \n",
      " dense_2 (Dense)             (None, 10)                10250     \n",
      "                                                                 \n",
      "=================================================================\n",
      "Total params: 14,074\n",
      "Trainable params: 14,074\n",
      "Non-trainable params: 0\n",
      "_________________________________________________________________\n",
      "Epoch 1/10\n",
      "600/600 - 2s - loss: 0.0904 - accuracy: 0.1054 - 2s/epoch - 4ms/step\n",
      "Epoch 2/10\n",
      "600/600 - 2s - loss: 0.0853 - accuracy: 0.2321 - 2s/epoch - 3ms/step\n",
      "Epoch 3/10\n",
      "600/600 - 2s - loss: 0.0835 - accuracy: 0.2833 - 2s/epoch - 3ms/step\n",
      "Epoch 4/10\n",
      "600/600 - 2s - loss: 0.0825 - accuracy: 0.2892 - 2s/epoch - 3ms/step\n",
      "Epoch 5/10\n",
      "600/600 - 2s - loss: 0.0804 - accuracy: 0.3217 - 2s/epoch - 3ms/step\n",
      "Epoch 6/10\n",
      "600/600 - 2s - loss: 0.0788 - accuracy: 0.3462 - 2s/epoch - 3ms/step\n",
      "Epoch 7/10\n",
      "600/600 - 2s - loss: 0.0768 - accuracy: 0.3604 - 2s/epoch - 3ms/step\n",
      "Epoch 8/10\n",
      "600/600 - 2s - loss: 0.0756 - accuracy: 0.3775 - 2s/epoch - 3ms/step\n",
      "Epoch 9/10\n",
      "600/600 - 2s - loss: 0.0743 - accuracy: 0.3900 - 2s/epoch - 3ms/step\n",
      "Epoch 10/10\n",
      "600/600 - 2s - loss: 0.0733 - accuracy: 0.4087 - 2s/epoch - 3ms/step\n"
     ]
    },
    {
     "data": {
      "text/plain": [
       "<keras.callbacks.History at 0x26e2ae0c160>"
      ]
     },
     "execution_count": 29,
     "metadata": {},
     "output_type": "execute_result"
    }
   ],
   "source": [
    "#sigmoid ---- softmax\n",
    "model3 = Sequential()\n",
    "model3.add(Conv2D(8, kernel_size=(5,5),activation='softmax',padding='same', input_shape=input_shape))\n",
    "model3.add(MaxPooling2D(pool_size=(2,2), strides=2))\n",
    "model3.add(Conv2D(16,kernel_size=(5,5),activation='softmax',padding='same'))\n",
    "model3.add(MaxPooling2D(pool_size=(2,2), strides=2))\n",
    "model3.add(Flatten())\n",
    "model3.add(Dense(units=10,activation='softmax'))\n",
    "model3.summary()\n",
    "#优化器改为ADAM\n",
    "model3.compile(loss = 'mse', optimizer = optimizers.Adam(),metrics = ['accuracy'])  \n",
    "model3.fit(sj_train,sj_train_label,batch_size=4,epochs=10,verbose=2)"
   ]
  },
  {
   "cell_type": "code",
   "execution_count": 30,
   "id": "9540d0c5",
   "metadata": {
    "execution": {
     "iopub.execute_input": "2022-10-21T01:35:26.685901Z",
     "iopub.status.busy": "2022-10-21T01:35:26.685504Z",
     "iopub.status.idle": "2022-10-21T01:35:26.971328Z",
     "shell.execute_reply": "2022-10-21T01:35:26.969801Z"
    },
    "papermill": {
     "duration": 0.358878,
     "end_time": "2022-10-21T01:35:26.974425",
     "exception": false,
     "start_time": "2022-10-21T01:35:26.615547",
     "status": "completed"
    },
    "tags": []
   },
   "outputs": [
    {
     "name": "stdout",
     "output_type": "stream",
     "text": [
      "10/10 [==============================] - 0s 4ms/step - loss: 0.0752 - accuracy: 0.3933\n"
     ]
    },
    {
     "data": {
      "text/plain": [
       "[0.07521618902683258, 0.3933333456516266]"
      ]
     },
     "execution_count": 30,
     "metadata": {},
     "output_type": "execute_result"
    }
   ],
   "source": [
    "model3.evaluate(sj_test,sj_test_label) #其实该函数第一个返回值是损失（loss)，第二个返回值是准确率(acc)"
   ]
  },
  {
   "cell_type": "code",
   "execution_count": 31,
   "id": "b836a372",
   "metadata": {
    "execution": {
     "iopub.execute_input": "2022-10-21T01:35:27.121111Z",
     "iopub.status.busy": "2022-10-21T01:35:27.120120Z",
     "iopub.status.idle": "2022-10-21T01:35:27.126570Z",
     "shell.execute_reply": "2022-10-21T01:35:27.125135Z"
    },
    "papermill": {
     "duration": 0.082021,
     "end_time": "2022-10-21T01:35:27.129675",
     "exception": false,
     "start_time": "2022-10-21T01:35:27.047654",
     "status": "completed"
    },
    "tags": []
   },
   "outputs": [],
   "source": [
    "##softmax 函数返回值测试验证代码。可省略\n",
    "#xp = model3.predict(suojian_x_test_images_2d)\n",
    "#j=0\n",
    "#for i in range(len(suojian_x_test_images_2d)):\n",
    "    #tem = np.argmax(xp[i])\n",
    "    #print(tem)\n",
    "    #if (tem == np.argmax(suojian_y_test[i])): \n",
    "       # j = j+1\n",
    "#print(j/len(suojian_x_test_images_2d))  "
   ]
  },
  {
   "cell_type": "markdown",
   "id": "819929c7",
   "metadata": {
    "papermill": {
     "duration": 0.06995,
     "end_time": "2022-10-21T01:35:27.269696",
     "exception": false,
     "start_time": "2022-10-21T01:35:27.199746",
     "status": "completed"
    },
    "tags": []
   },
   "source": [
    "### 2)激活函数之 relu,该函数解决部分梯度弥散问题,收敛速度更快"
   ]
  },
  {
   "cell_type": "code",
   "execution_count": 32,
   "id": "3c89a4de",
   "metadata": {
    "execution": {
     "iopub.execute_input": "2022-10-21T01:35:27.411663Z",
     "iopub.status.busy": "2022-10-21T01:35:27.410876Z",
     "iopub.status.idle": "2022-10-21T01:35:55.493499Z",
     "shell.execute_reply": "2022-10-21T01:35:55.492125Z"
    },
    "papermill": {
     "duration": 28.154658,
     "end_time": "2022-10-21T01:35:55.496093",
     "exception": false,
     "start_time": "2022-10-21T01:35:27.341435",
     "status": "completed"
    },
    "tags": []
   },
   "outputs": [
    {
     "name": "stdout",
     "output_type": "stream",
     "text": [
      "Model: \"sequential_3\"\n",
      "_________________________________________________________________\n",
      " Layer (type)                Output Shape              Param #   \n",
      "=================================================================\n",
      " conv2d_6 (Conv2D)           (None, 32, 32, 8)         608       \n",
      "                                                                 \n",
      " max_pooling2d_6 (MaxPooling  (None, 16, 16, 8)        0         \n",
      " 2D)                                                             \n",
      "                                                                 \n",
      " conv2d_7 (Conv2D)           (None, 16, 16, 16)        3216      \n",
      "                                                                 \n",
      " max_pooling2d_7 (MaxPooling  (None, 8, 8, 16)         0         \n",
      " 2D)                                                             \n",
      "                                                                 \n",
      " flatten_3 (Flatten)         (None, 1024)              0         \n",
      "                                                                 \n",
      " dense_3 (Dense)             (None, 10)                10250     \n",
      "                                                                 \n",
      "=================================================================\n",
      "Total params: 14,074\n",
      "Trainable params: 14,074\n",
      "Non-trainable params: 0\n",
      "_________________________________________________________________\n",
      "Epoch 1/10\n",
      "600/600 - 2s - loss: 0.0850 - accuracy: 0.2429 - 2s/epoch - 3ms/step\n",
      "Epoch 2/10\n",
      "600/600 - 2s - loss: 0.0768 - accuracy: 0.3717 - 2s/epoch - 3ms/step\n",
      "Epoch 3/10\n",
      "600/600 - 2s - loss: 0.0712 - accuracy: 0.4288 - 2s/epoch - 3ms/step\n",
      "Epoch 4/10\n",
      "600/600 - 2s - loss: 0.0658 - accuracy: 0.4933 - 2s/epoch - 3ms/step\n",
      "Epoch 5/10\n",
      "600/600 - 1s - loss: 0.0605 - accuracy: 0.5467 - 1s/epoch - 2ms/step\n",
      "Epoch 6/10\n",
      "600/600 - 2s - loss: 0.0557 - accuracy: 0.5854 - 2s/epoch - 3ms/step\n",
      "Epoch 7/10\n",
      "600/600 - 1s - loss: 0.0510 - accuracy: 0.6321 - 1s/epoch - 2ms/step\n",
      "Epoch 8/10\n",
      "600/600 - 2s - loss: 0.0466 - accuracy: 0.6604 - 2s/epoch - 3ms/step\n",
      "Epoch 9/10\n",
      "600/600 - 2s - loss: 0.0436 - accuracy: 0.6979 - 2s/epoch - 3ms/step\n",
      "Epoch 10/10\n",
      "600/600 - 2s - loss: 0.0394 - accuracy: 0.7300 - 2s/epoch - 3ms/step\n"
     ]
    },
    {
     "data": {
      "text/plain": [
       "<keras.callbacks.History at 0x26e2abb38e0>"
      ]
     },
     "execution_count": 32,
     "metadata": {},
     "output_type": "execute_result"
    }
   ],
   "source": [
    "#激活函数,relu使用,解决部分梯度弥散问题,收敛速度更快\n",
    "model4 = Sequential()\n",
    "model4.add(Conv2D(8, kernel_size=(5,5),activation='relu',padding='same', input_shape=input_shape))\n",
    "model4.add(MaxPooling2D(pool_size=(2,2), strides=2))\n",
    "model4.add(Conv2D(16,kernel_size=(5,5),activation='relu',padding='same'))\n",
    "model4.add(MaxPooling2D(pool_size=(2,2), strides=2))\n",
    "model4.add(Flatten())\n",
    "model4.add(Dense(units=10,activation='softmax'))\n",
    "model4.summary()\n",
    "#优化器改为ADAM\n",
    "model4.compile(loss = 'mse', optimizer = optimizers.Adam(),metrics = ['accuracy'])  \n",
    "model4.fit(sj_train,sj_train_label,batch_size=4,epochs=10,verbose=2)"
   ]
  },
  {
   "cell_type": "code",
   "execution_count": 33,
   "id": "0cbb316b",
   "metadata": {
    "execution": {
     "iopub.execute_input": "2022-10-21T01:35:55.640573Z",
     "iopub.status.busy": "2022-10-21T01:35:55.639860Z",
     "iopub.status.idle": "2022-10-21T01:35:55.910310Z",
     "shell.execute_reply": "2022-10-21T01:35:55.908754Z"
    },
    "papermill": {
     "duration": 0.345076,
     "end_time": "2022-10-21T01:35:55.913756",
     "exception": false,
     "start_time": "2022-10-21T01:35:55.568680",
     "status": "completed"
    },
    "tags": []
   },
   "outputs": [
    {
     "name": "stdout",
     "output_type": "stream",
     "text": [
      "10/10 [==============================] - 0s 3ms/step - loss: 0.0795 - accuracy: 0.4167\n"
     ]
    },
    {
     "data": {
      "text/plain": [
       "[0.07953457534313202, 0.4166666567325592]"
      ]
     },
     "execution_count": 33,
     "metadata": {},
     "output_type": "execute_result"
    }
   ],
   "source": [
    "model4.evaluate(sj_test,sj_test_label) #其实该函数第一个返回值是损失（loss)，第二个返回值是准确率(acc)"
   ]
  },
  {
   "cell_type": "markdown",
   "id": "8af6b5a8",
   "metadata": {
    "papermill": {
     "duration": 0.072046,
     "end_time": "2022-10-21T01:35:56.137204",
     "exception": false,
     "start_time": "2022-10-21T01:35:56.065158",
     "status": "completed"
    },
    "tags": []
   },
   "source": [
    "### 2)激活函数之 tanh,该函数解决原点对称问题"
   ]
  },
  {
   "cell_type": "code",
   "execution_count": 34,
   "id": "598d8142",
   "metadata": {
    "execution": {
     "iopub.execute_input": "2022-10-21T01:35:56.280116Z",
     "iopub.status.busy": "2022-10-21T01:35:56.279378Z",
     "iopub.status.idle": "2022-10-21T01:36:24.479077Z",
     "shell.execute_reply": "2022-10-21T01:36:24.477666Z"
    },
    "papermill": {
     "duration": 28.274706,
     "end_time": "2022-10-21T01:36:24.481966",
     "exception": false,
     "start_time": "2022-10-21T01:35:56.207260",
     "status": "completed"
    },
    "tags": []
   },
   "outputs": [
    {
     "name": "stdout",
     "output_type": "stream",
     "text": [
      "Model: \"sequential_4\"\n",
      "_________________________________________________________________\n",
      " Layer (type)                Output Shape              Param #   \n",
      "=================================================================\n",
      " conv2d_8 (Conv2D)           (None, 32, 32, 8)         608       \n",
      "                                                                 \n",
      " max_pooling2d_8 (MaxPooling  (None, 16, 16, 8)        0         \n",
      " 2D)                                                             \n",
      "                                                                 \n",
      " conv2d_9 (Conv2D)           (None, 16, 16, 16)        3216      \n",
      "                                                                 \n",
      " max_pooling2d_9 (MaxPooling  (None, 8, 8, 16)         0         \n",
      " 2D)                                                             \n",
      "                                                                 \n",
      " flatten_4 (Flatten)         (None, 1024)              0         \n",
      "                                                                 \n",
      " dense_4 (Dense)             (None, 10)                10250     \n",
      "                                                                 \n",
      "=================================================================\n",
      "Total params: 14,074\n",
      "Trainable params: 14,074\n",
      "Non-trainable params: 0\n",
      "_________________________________________________________________\n",
      "Epoch 1/10\n",
      "600/600 - 2s - loss: 0.0872 - accuracy: 0.2150 - 2s/epoch - 3ms/step\n",
      "Epoch 2/10\n",
      "600/600 - 2s - loss: 0.0803 - accuracy: 0.3546 - 2s/epoch - 3ms/step\n",
      "Epoch 3/10\n",
      "600/600 - 1s - loss: 0.0757 - accuracy: 0.4496 - 1s/epoch - 2ms/step\n",
      "Epoch 4/10\n",
      "600/600 - 2s - loss: 0.0723 - accuracy: 0.4988 - 2s/epoch - 3ms/step\n",
      "Epoch 5/10\n",
      "600/600 - 1s - loss: 0.0689 - accuracy: 0.5475 - 1s/epoch - 2ms/step\n",
      "Epoch 6/10\n",
      "600/600 - 1s - loss: 0.0657 - accuracy: 0.6067 - 1s/epoch - 2ms/step\n",
      "Epoch 7/10\n",
      "600/600 - 1s - loss: 0.0631 - accuracy: 0.6421 - 1s/epoch - 2ms/step\n",
      "Epoch 8/10\n",
      "600/600 - 1s - loss: 0.0606 - accuracy: 0.6867 - 1s/epoch - 2ms/step\n",
      "Epoch 9/10\n",
      "600/600 - 1s - loss: 0.0581 - accuracy: 0.7125 - 1s/epoch - 2ms/step\n",
      "Epoch 10/10\n",
      "600/600 - 1s - loss: 0.0563 - accuracy: 0.7462 - 1s/epoch - 2ms/step\n"
     ]
    },
    {
     "data": {
      "text/plain": [
       "<keras.callbacks.History at 0x26e2ad26820>"
      ]
     },
     "execution_count": 34,
     "metadata": {},
     "output_type": "execute_result"
    }
   ],
   "source": [
    "#激活函数,换成tanh,我们观察到底是tanh还是relu对当前情况来说,更为合适?\n",
    "model5 = Sequential()\n",
    "model5.add(Conv2D(8, kernel_size=(5,5),activation='relu',padding='same', input_shape=input_shape))\n",
    "model5.add(MaxPooling2D(pool_size=(2,2), strides=2))\n",
    "model5.add(Conv2D(16,kernel_size=(5,5),activation='relu',padding='same'))\n",
    "model5.add(MaxPooling2D(pool_size=(2,2), strides=2))\n",
    "model5.add(Flatten())\n",
    "model5.add(Dense(units=10,activation='tanh'))\n",
    "model5.summary()\n",
    "#优化器改为ADAM\n",
    "model5.compile(loss = 'mse', optimizer = optimizers.Adam(),metrics = ['accuracy'])  \n",
    "model5.fit(sj_train,sj_train_label,batch_size=4,epochs=10,verbose=2)"
   ]
  },
  {
   "cell_type": "code",
   "execution_count": 35,
   "id": "891b203c",
   "metadata": {
    "execution": {
     "iopub.execute_input": "2022-10-21T01:36:24.626625Z",
     "iopub.status.busy": "2022-10-21T01:36:24.626172Z",
     "iopub.status.idle": "2022-10-21T01:36:24.897211Z",
     "shell.execute_reply": "2022-10-21T01:36:24.896093Z"
    },
    "papermill": {
     "duration": 0.347886,
     "end_time": "2022-10-21T01:36:24.899794",
     "exception": false,
     "start_time": "2022-10-21T01:36:24.551908",
     "status": "completed"
    },
    "tags": []
   },
   "outputs": [
    {
     "name": "stdout",
     "output_type": "stream",
     "text": [
      "10/10 [==============================] - 0s 3ms/step - loss: 0.0843 - accuracy: 0.3967\n"
     ]
    },
    {
     "data": {
      "text/plain": [
       "[0.08428946137428284, 0.39666667580604553]"
      ]
     },
     "execution_count": 35,
     "metadata": {},
     "output_type": "execute_result"
    }
   ],
   "source": [
    "model5.evaluate(sj_test,sj_test_label) #其实该函数第一个返回值是损失（loss)，第二个返回值是准确率(acc)"
   ]
  },
  {
   "cell_type": "markdown",
   "id": "3d4c0ca5",
   "metadata": {
    "papermill": {
     "duration": 0.071628,
     "end_time": "2022-10-21T01:36:25.042672",
     "exception": false,
     "start_time": "2022-10-21T01:36:24.971044",
     "status": "completed"
    },
    "tags": []
   },
   "source": [
    "### 总结,我们发现relu加tanh，要比relu+softmax更适合我们当前的场景.\n",
    "## 请尝试一下所有激活函数是tanh的情况，会更好吗？"
   ]
  },
  {
   "cell_type": "markdown",
   "id": "69cb4032",
   "metadata": {
    "execution": {
     "iopub.execute_input": "2022-06-29T02:05:34.00166Z",
     "iopub.status.busy": "2022-06-29T02:05:34.001262Z",
     "iopub.status.idle": "2022-06-29T02:05:34.006507Z",
     "shell.execute_reply": "2022-06-29T02:05:34.005601Z",
     "shell.execute_reply.started": "2022-06-29T02:05:34.001626Z"
    },
    "papermill": {
     "duration": 0.075598,
     "end_time": "2022-10-21T01:36:25.190334",
     "exception": false,
     "start_time": "2022-10-21T01:36:25.114736",
     "status": "completed"
    },
    "tags": []
   },
   "source": [
    "### 3)损失函数---交叉熵"
   ]
  },
  {
   "cell_type": "code",
   "execution_count": 36,
   "id": "2c889261",
   "metadata": {
    "execution": {
     "iopub.execute_input": "2022-10-21T01:36:25.340123Z",
     "iopub.status.busy": "2022-10-21T01:36:25.338186Z",
     "iopub.status.idle": "2022-10-21T01:36:55.058952Z",
     "shell.execute_reply": "2022-10-21T01:36:55.057627Z"
    },
    "papermill": {
     "duration": 29.796532,
     "end_time": "2022-10-21T01:36:55.061994",
     "exception": false,
     "start_time": "2022-10-21T01:36:25.265462",
     "status": "completed"
    },
    "tags": []
   },
   "outputs": [
    {
     "name": "stdout",
     "output_type": "stream",
     "text": [
      "Model: \"sequential_5\"\n",
      "_________________________________________________________________\n",
      " Layer (type)                Output Shape              Param #   \n",
      "=================================================================\n",
      " conv2d_10 (Conv2D)          (None, 32, 32, 8)         608       \n",
      "                                                                 \n",
      " max_pooling2d_10 (MaxPoolin  (None, 16, 16, 8)        0         \n",
      " g2D)                                                            \n",
      "                                                                 \n",
      " conv2d_11 (Conv2D)          (None, 16, 16, 16)        3216      \n",
      "                                                                 \n",
      " max_pooling2d_11 (MaxPoolin  (None, 8, 8, 16)         0         \n",
      " g2D)                                                            \n",
      "                                                                 \n",
      " flatten_5 (Flatten)         (None, 1024)              0         \n",
      "                                                                 \n",
      " dense_5 (Dense)             (None, 10)                10250     \n",
      "                                                                 \n",
      "=================================================================\n",
      "Total params: 14,074\n",
      "Trainable params: 14,074\n",
      "Non-trainable params: 0\n",
      "_________________________________________________________________\n",
      "Epoch 1/10\n",
      "600/600 - 2s - loss: 2.1213 - accuracy: 0.2188 - 2s/epoch - 3ms/step\n",
      "Epoch 2/10\n",
      "600/600 - 2s - loss: 1.7864 - accuracy: 0.3554 - 2s/epoch - 3ms/step\n",
      "Epoch 3/10\n",
      "600/600 - 1s - loss: 1.6247 - accuracy: 0.4200 - 1s/epoch - 2ms/step\n",
      "Epoch 4/10\n",
      "600/600 - 2s - loss: 1.4900 - accuracy: 0.4717 - 2s/epoch - 3ms/step\n",
      "Epoch 5/10\n",
      "600/600 - 2s - loss: 1.3599 - accuracy: 0.5175 - 2s/epoch - 3ms/step\n",
      "Epoch 6/10\n",
      "600/600 - 2s - loss: 1.2608 - accuracy: 0.5558 - 2s/epoch - 3ms/step\n",
      "Epoch 7/10\n",
      "600/600 - 1s - loss: 1.1648 - accuracy: 0.5979 - 1s/epoch - 2ms/step\n",
      "Epoch 8/10\n",
      "600/600 - 1s - loss: 1.0605 - accuracy: 0.6304 - 1s/epoch - 2ms/step\n",
      "Epoch 9/10\n",
      "600/600 - 2s - loss: 0.9692 - accuracy: 0.6679 - 2s/epoch - 3ms/step\n",
      "Epoch 10/10\n",
      "600/600 - 2s - loss: 0.8878 - accuracy: 0.6933 - 2s/epoch - 3ms/step\n"
     ]
    },
    {
     "data": {
      "text/plain": [
       "<keras.callbacks.History at 0x26e2dc84a60>"
      ]
     },
     "execution_count": 36,
     "metadata": {},
     "output_type": "execute_result"
    }
   ],
   "source": [
    "#使用当前表变现优秀的relu激活函数，调整损失函数为交叉熵函数。\n",
    "model6 = Sequential()\n",
    "model6.add(Conv2D(8, kernel_size=(5,5),activation='relu',padding='same', input_shape=input_shape))\n",
    "model6.add(MaxPooling2D(pool_size=(2,2), strides=2))\n",
    "model6.add(Conv2D(16,kernel_size=(5,5),activation='relu',padding='same'))\n",
    "model6.add(MaxPooling2D(pool_size=(2,2), strides=2))\n",
    "model6.add(Flatten())\n",
    "model6.add(Dense(units=10,activation='softmax'))\n",
    "model6.summary()\n",
    "#优化器改为ADAM\n",
    "model6.compile(loss = 'categorical_crossentropy', optimizer = optimizers.Adam(),metrics = ['accuracy'])  \n",
    "model6.fit(sj_train,sj_train_label,batch_size=4,epochs=10,verbose=2)"
   ]
  },
  {
   "cell_type": "code",
   "execution_count": 37,
   "id": "5563869f",
   "metadata": {
    "execution": {
     "iopub.execute_input": "2022-10-21T01:36:55.212795Z",
     "iopub.status.busy": "2022-10-21T01:36:55.212337Z",
     "iopub.status.idle": "2022-10-21T01:36:55.600889Z",
     "shell.execute_reply": "2022-10-21T01:36:55.599442Z"
    },
    "papermill": {
     "duration": 0.467663,
     "end_time": "2022-10-21T01:36:55.603782",
     "exception": false,
     "start_time": "2022-10-21T01:36:55.136119",
     "status": "completed"
    },
    "tags": []
   },
   "outputs": [
    {
     "name": "stdout",
     "output_type": "stream",
     "text": [
      "10/10 [==============================] - 0s 3ms/step - loss: 1.7788 - accuracy: 0.4733\n"
     ]
    },
    {
     "data": {
      "text/plain": [
       "[1.7787870168685913, 0.47333332896232605]"
      ]
     },
     "execution_count": 37,
     "metadata": {},
     "output_type": "execute_result"
    }
   ],
   "source": [
    "model6.evaluate(sj_test,sj_test_label) #其实该函数第一个返回值是损失（loss)，第二个返回值是准确率(acc)"
   ]
  },
  {
   "cell_type": "markdown",
   "id": "cc65d3f3",
   "metadata": {
    "papermill": {
     "duration": 0.075901,
     "end_time": "2022-10-21T01:36:55.758966",
     "exception": false,
     "start_time": "2022-10-21T01:36:55.683065",
     "status": "completed"
    },
    "tags": []
   },
   "source": [
    "### 交叉熵于mse好，relu是目前表现比较好的激活函数，另外relu+tanh+mse的方式也还不错。"
   ]
  },
  {
   "cell_type": "markdown",
   "id": "951259d4",
   "metadata": {
    "papermill": {
     "duration": 0.075125,
     "end_time": "2022-10-21T01:36:55.909459",
     "exception": false,
     "start_time": "2022-10-21T01:36:55.834334",
     "status": "completed"
    },
    "tags": []
   },
   "source": [
    "### 另外我们注意到,训练结果一直上升,但是为什么模型评估函数输出的结果不仅人意呢?此时我们应该关注过拟合或者欠拟合现象.\n",
    "### 过拟合或者欠拟合现象的发现需要在fit的时候设置验证集合,也就是需要把训练集的一部分(通常20%)设置为验证集.\n",
    "### 过拟合的解决,有三种方法1)正则.2)dropout.3)增强数据集。欠拟合需要增加训练次数，同样可以通过解决过拟合来缓解模型的欠拟合"
   ]
  },
  {
   "cell_type": "markdown",
   "id": "ba66bba0",
   "metadata": {
    "papermill": {
     "duration": 0.075397,
     "end_time": "2022-10-21T01:36:56.060310",
     "exception": false,
     "start_time": "2022-10-21T01:36:55.984913",
     "status": "completed"
    },
    "tags": []
   },
   "source": [
    "### 4）观察过拟合现象,利用曲线绘制epoch和train和val数据集的关系"
   ]
  },
  {
   "cell_type": "code",
   "execution_count": 38,
   "id": "ff43660f",
   "metadata": {
    "execution": {
     "iopub.execute_input": "2022-10-21T01:36:56.216376Z",
     "iopub.status.busy": "2022-10-21T01:36:56.215861Z",
     "iopub.status.idle": "2022-10-21T01:36:56.226277Z",
     "shell.execute_reply": "2022-10-21T01:36:56.224200Z"
    },
    "papermill": {
     "duration": 0.093667,
     "end_time": "2022-10-21T01:36:56.229702",
     "exception": false,
     "start_time": "2022-10-21T01:36:56.136035",
     "status": "completed"
    },
    "tags": []
   },
   "outputs": [],
   "source": [
    "#########画图,用来显示每个epoch，训练集和验证集的走向\n",
    "def loss_acc_curve(history):\n",
    "    print(history.history.keys())\n",
    "    acc = history.history['accuracy']  #获取训练集准确性数据\n",
    "    val_acc = history.history['val_accuracy'] #获取验证集准确性数据\n",
    "    loss = history.history['loss']   #获取训练集错误值数据\n",
    "    val_loss = history.history['val_loss'] #获取验证集错误值数据\n",
    "    epochs = range(1,len(acc)+1)\n",
    "    #plt.subplot(121)\n",
    "    plt.plot(epochs,acc,'bo',label='Trainning acc')  #以epochs为横坐标，以训练集准确性为纵坐标\n",
    "    plt.plot(epochs,val_acc,'b',label='Vaildation acc') #以epochs为横坐标，以验证集准确性为纵坐标\n",
    "    plt.legend() #绘制图例，即标明图中的线段代表何种含义\n",
    "\n",
    "   # plt.subplot(122)\n",
    "    plt.figure()\n",
    "    plt.plot(epochs,loss,'bo',label='Trainning loss')\n",
    "    plt.plot(epochs,val_loss,'b',label='Vaildation loss')\n",
    "    plt.legend() ##绘制图例，即标明图中的线段代表何种含义"
   ]
  },
  {
   "cell_type": "code",
   "execution_count": 39,
   "id": "7bf8e532",
   "metadata": {
    "execution": {
     "iopub.execute_input": "2022-10-21T01:36:56.381517Z",
     "iopub.status.busy": "2022-10-21T01:36:56.380208Z",
     "iopub.status.idle": "2022-10-21T01:38:03.271463Z",
     "shell.execute_reply": "2022-10-21T01:38:03.269402Z"
    },
    "papermill": {
     "duration": 66.968167,
     "end_time": "2022-10-21T01:38:03.274743",
     "exception": false,
     "start_time": "2022-10-21T01:36:56.306576",
     "status": "completed"
    },
    "tags": []
   },
   "outputs": [
    {
     "name": "stdout",
     "output_type": "stream",
     "text": [
      "Model: \"sequential_6\"\n",
      "_________________________________________________________________\n",
      " Layer (type)                Output Shape              Param #   \n",
      "=================================================================\n",
      " conv2d_12 (Conv2D)          (None, 32, 32, 8)         608       \n",
      "                                                                 \n",
      " max_pooling2d_12 (MaxPoolin  (None, 16, 16, 8)        0         \n",
      " g2D)                                                            \n",
      "                                                                 \n",
      " conv2d_13 (Conv2D)          (None, 16, 16, 16)        3216      \n",
      "                                                                 \n",
      " max_pooling2d_13 (MaxPoolin  (None, 8, 8, 16)         0         \n",
      " g2D)                                                            \n",
      "                                                                 \n",
      " flatten_6 (Flatten)         (None, 1024)              0         \n",
      "                                                                 \n",
      " dense_6 (Dense)             (None, 10)                10250     \n",
      "                                                                 \n",
      "=================================================================\n",
      "Total params: 14,074\n",
      "Trainable params: 14,074\n",
      "Non-trainable params: 0\n",
      "_________________________________________________________________\n",
      "Epoch 1/20\n",
      "600/600 [==============================] - 2s 3ms/step - loss: 2.1274 - accuracy: 0.2150 - val_loss: 1.8346 - val_accuracy: 0.2933\n",
      "Epoch 2/20\n",
      "600/600 [==============================] - 2s 3ms/step - loss: 1.7366 - accuracy: 0.3775 - val_loss: 1.6358 - val_accuracy: 0.4133\n",
      "Epoch 3/20\n",
      "600/600 [==============================] - 2s 3ms/step - loss: 1.5514 - accuracy: 0.4421 - val_loss: 1.5649 - val_accuracy: 0.4667\n",
      "Epoch 4/20\n",
      "600/600 [==============================] - 2s 3ms/step - loss: 1.4076 - accuracy: 0.4975 - val_loss: 1.5408 - val_accuracy: 0.4567\n",
      "Epoch 5/20\n",
      "600/600 [==============================] - 2s 3ms/step - loss: 1.2926 - accuracy: 0.5504 - val_loss: 1.5476 - val_accuracy: 0.4433\n",
      "Epoch 6/20\n",
      "600/600 [==============================] - 2s 3ms/step - loss: 1.1796 - accuracy: 0.5854 - val_loss: 1.6901 - val_accuracy: 0.4167\n",
      "Epoch 7/20\n",
      "600/600 [==============================] - 2s 3ms/step - loss: 1.0797 - accuracy: 0.6367 - val_loss: 1.5601 - val_accuracy: 0.4600\n",
      "Epoch 8/20\n",
      "600/600 [==============================] - 2s 3ms/step - loss: 0.9977 - accuracy: 0.6558 - val_loss: 1.6358 - val_accuracy: 0.4333\n",
      "Epoch 9/20\n",
      "600/600 [==============================] - 2s 3ms/step - loss: 0.8798 - accuracy: 0.7021 - val_loss: 1.6603 - val_accuracy: 0.4767\n",
      "Epoch 10/20\n",
      "600/600 [==============================] - 2s 3ms/step - loss: 0.8061 - accuracy: 0.7254 - val_loss: 1.6629 - val_accuracy: 0.4533\n",
      "Epoch 11/20\n",
      "600/600 [==============================] - 2s 3ms/step - loss: 0.7238 - accuracy: 0.7479 - val_loss: 1.7544 - val_accuracy: 0.4433\n",
      "Epoch 12/20\n",
      "600/600 [==============================] - 2s 3ms/step - loss: 0.6414 - accuracy: 0.7812 - val_loss: 1.8781 - val_accuracy: 0.4400\n",
      "Epoch 13/20\n",
      "600/600 [==============================] - 2s 3ms/step - loss: 0.5631 - accuracy: 0.8021 - val_loss: 2.0134 - val_accuracy: 0.4100\n",
      "Epoch 14/20\n",
      "600/600 [==============================] - 2s 3ms/step - loss: 0.4974 - accuracy: 0.8367 - val_loss: 2.1940 - val_accuracy: 0.4567\n",
      "Epoch 15/20\n",
      "600/600 [==============================] - 2s 3ms/step - loss: 0.4446 - accuracy: 0.8492 - val_loss: 2.2421 - val_accuracy: 0.4700\n",
      "Epoch 16/20\n",
      "600/600 [==============================] - 2s 3ms/step - loss: 0.3850 - accuracy: 0.8733 - val_loss: 2.4421 - val_accuracy: 0.4000\n",
      "Epoch 17/20\n",
      "600/600 [==============================] - 2s 3ms/step - loss: 0.3499 - accuracy: 0.8808 - val_loss: 2.3529 - val_accuracy: 0.4700\n",
      "Epoch 18/20\n",
      "600/600 [==============================] - 2s 3ms/step - loss: 0.2906 - accuracy: 0.9121 - val_loss: 2.4592 - val_accuracy: 0.4300\n",
      "Epoch 19/20\n",
      "600/600 [==============================] - 2s 3ms/step - loss: 0.2662 - accuracy: 0.9133 - val_loss: 2.6481 - val_accuracy: 0.4300\n",
      "Epoch 20/20\n",
      "600/600 [==============================] - 2s 3ms/step - loss: 0.2239 - accuracy: 0.9350 - val_loss: 2.7923 - val_accuracy: 0.4367\n"
     ]
    }
   ],
   "source": [
    "# 添加验证集，绘制曲线，观察过拟合现象\n",
    "model7 = Sequential()\n",
    "model7.add(Conv2D(8, kernel_size=(5,5),activation='relu',padding='same', input_shape=input_shape))\n",
    "model7.add(MaxPooling2D(pool_size=(2,2), strides=2))\n",
    "model7.add(Conv2D(16,kernel_size=(5,5),activation='relu',padding='same'))\n",
    "model7.add(MaxPooling2D(pool_size=(2,2), strides=2))\n",
    "model7.add(Flatten())\n",
    "model7.add(Dense(units=10,activation='softmax'))\n",
    "model7.summary()\n",
    "#优化器改为ADAM\n",
    "model7.compile(loss = 'categorical_crossentropy', optimizer = optimizers.Adam(),metrics = ['accuracy'])  \n",
    "history7 = model7.fit(sj_train,sj_train_label,validation_data=(sj_val,sj_val_label),batch_size=4,epochs=20,verbose=1)\n",
    "#model.fit 中的 verbose\n",
    "#verbose：日志显示\n",
    "#verbose = 0 为不在标准输出流输出日志信息\n",
    "#verbose = 1 为输出进度条记录\n",
    "#verbose = 2 为每个epoch输出一行记录\n",
    "#注意： 默认为 1"
   ]
  },
  {
   "cell_type": "code",
   "execution_count": 40,
   "id": "24527b5c",
   "metadata": {
    "execution": {
     "iopub.execute_input": "2022-10-21T01:38:03.577563Z",
     "iopub.status.busy": "2022-10-21T01:38:03.576265Z",
     "iopub.status.idle": "2022-10-21T01:38:04.115104Z",
     "shell.execute_reply": "2022-10-21T01:38:04.113723Z"
    },
    "papermill": {
     "duration": 0.691621,
     "end_time": "2022-10-21T01:38:04.117925",
     "exception": false,
     "start_time": "2022-10-21T01:38:03.426304",
     "status": "completed"
    },
    "tags": []
   },
   "outputs": [
    {
     "name": "stdout",
     "output_type": "stream",
     "text": [
      "dict_keys(['loss', 'accuracy', 'val_loss', 'val_accuracy'])\n"
     ]
    },
    {
     "data": {
      "image/png": "[encoded data removed]",
      "text/plain": [
       "<Figure size 640x480 with 1 Axes>"
      ]
     },
     "metadata": {},
     "output_type": "display_data"
    },
    {
     "data": {
      "image/png": "[encoded data removed]",
      "text/plain": [
       "<Figure size 640x480 with 1 Axes>"
      ]
     },
     "metadata": {},
     "output_type": "display_data"
    }
   ],
   "source": [
    "loss_acc_curve(history7)"
   ]
  },
  {
   "cell_type": "code",
   "execution_count": 41,
   "id": "d2909212",
   "metadata": {
    "execution": {
     "iopub.execute_input": "2022-10-21T01:38:04.417837Z",
     "iopub.status.busy": "2022-10-21T01:38:04.417412Z",
     "iopub.status.idle": "2022-10-21T01:38:04.696585Z",
     "shell.execute_reply": "2022-10-21T01:38:04.695039Z"
    },
    "papermill": {
     "duration": 0.432269,
     "end_time": "2022-10-21T01:38:04.699394",
     "exception": false,
     "start_time": "2022-10-21T01:38:04.267125",
     "status": "completed"
    },
    "tags": []
   },
   "outputs": [
    {
     "name": "stdout",
     "output_type": "stream",
     "text": [
      "10/10 [==============================] - 0s 3ms/step - loss: 3.2763 - accuracy: 0.4067\n"
     ]
    },
    {
     "data": {
      "text/plain": [
       "[3.2762556076049805, 0.40666666626930237]"
      ]
     },
     "execution_count": 41,
     "metadata": {},
     "output_type": "execute_result"
    }
   ],
   "source": [
    "model7.evaluate(sj_test,sj_test_label) #其实该函数第一个返回值是损失（loss)，第二个返回值是准确率(acc)"
   ]
  },
  {
   "cell_type": "markdown",
   "id": "5dcee3f3",
   "metadata": {
    "papermill": {
     "duration": 0.151836,
     "end_time": "2022-10-21T01:38:05.003401",
     "exception": false,
     "start_time": "2022-10-21T01:38:04.851565",
     "status": "completed"
    },
    "tags": []
   },
   "source": [
    "## 总结：大概第8次左右出现过拟合现象"
   ]
  },
  {
   "cell_type": "markdown",
   "id": "e8e378cf",
   "metadata": {
    "execution": {
     "iopub.execute_input": "2022-06-29T02:26:06.282475Z",
     "iopub.status.busy": "2022-06-29T02:26:06.2821Z",
     "iopub.status.idle": "2022-06-29T02:26:06.289053Z",
     "shell.execute_reply": "2022-06-29T02:26:06.288226Z",
     "shell.execute_reply.started": "2022-06-29T02:26:06.282445Z"
    },
    "papermill": {
     "duration": 0.152169,
     "end_time": "2022-10-21T01:38:05.304346",
     "exception": false,
     "start_time": "2022-10-21T01:38:05.152177",
     "status": "completed"
    },
    "tags": []
   },
   "source": [
    "### 在图上我们看到验证集loss曲线在第7次的时候立马上升，我们发现模型对于数据集来说存在严重的过拟合现象。\n",
    "### 过拟合的解决,有三种方法1)正则.2)dropout.3)增强数据集.4)简单化模型结构"
   ]
  },
  {
   "cell_type": "code",
   "execution_count": 42,
   "id": "1c81385e",
   "metadata": {
    "execution": {
     "iopub.execute_input": "2022-10-21T01:38:05.615139Z",
     "iopub.status.busy": "2022-10-21T01:38:05.614695Z",
     "iopub.status.idle": "2022-10-21T01:39:21.151567Z",
     "shell.execute_reply": "2022-10-21T01:39:21.150221Z"
    },
    "papermill": {
     "duration": 75.699799,
     "end_time": "2022-10-21T01:39:21.154371",
     "exception": false,
     "start_time": "2022-10-21T01:38:05.454572",
     "status": "completed"
    },
    "tags": []
   },
   "outputs": [
    {
     "name": "stdout",
     "output_type": "stream",
     "text": [
      "Model: \"sequential_7\"\n",
      "_________________________________________________________________\n",
      " Layer (type)                Output Shape              Param #   \n",
      "=================================================================\n",
      " conv2d_14 (Conv2D)          (None, 32, 32, 8)         608       \n",
      "                                                                 \n",
      " max_pooling2d_14 (MaxPoolin  (None, 16, 16, 8)        0         \n",
      " g2D)                                                            \n",
      "                                                                 \n",
      " conv2d_15 (Conv2D)          (None, 16, 16, 16)        3216      \n",
      "                                                                 \n",
      " max_pooling2d_15 (MaxPoolin  (None, 8, 8, 16)         0         \n",
      " g2D)                                                            \n",
      "                                                                 \n",
      " dropout (Dropout)           (None, 8, 8, 16)          0         \n",
      "                                                                 \n",
      " flatten_7 (Flatten)         (None, 1024)              0         \n",
      "                                                                 \n",
      " dense_7 (Dense)             (None, 10)                10250     \n",
      "                                                                 \n",
      "=================================================================\n",
      "Total params: 14,074\n",
      "Trainable params: 14,074\n",
      "Non-trainable params: 0\n",
      "_________________________________________________________________\n",
      "Epoch 1/20\n",
      "600/600 [==============================] - 2s 3ms/step - loss: 2.1551 - accuracy: 0.2133 - val_loss: 2.0027 - val_accuracy: 0.3033\n",
      "Epoch 2/20\n",
      "600/600 [==============================] - 2s 3ms/step - loss: 1.8823 - accuracy: 0.3250 - val_loss: 1.7261 - val_accuracy: 0.3833\n",
      "Epoch 3/20\n",
      "600/600 [==============================] - 2s 3ms/step - loss: 1.6604 - accuracy: 0.4104 - val_loss: 1.6675 - val_accuracy: 0.4000\n",
      "Epoch 4/20\n",
      "600/600 [==============================] - 2s 3ms/step - loss: 1.5105 - accuracy: 0.4563 - val_loss: 1.5910 - val_accuracy: 0.4333\n",
      "Epoch 5/20\n",
      "600/600 [==============================] - 2s 3ms/step - loss: 1.4067 - accuracy: 0.5046 - val_loss: 1.5545 - val_accuracy: 0.4467\n",
      "Epoch 6/20\n",
      "600/600 [==============================] - 2s 3ms/step - loss: 1.3058 - accuracy: 0.5404 - val_loss: 1.5208 - val_accuracy: 0.4667\n",
      "Epoch 7/20\n",
      "600/600 [==============================] - 2s 3ms/step - loss: 1.2265 - accuracy: 0.5646 - val_loss: 1.5714 - val_accuracy: 0.4267\n",
      "Epoch 8/20\n",
      "600/600 [==============================] - 2s 3ms/step - loss: 1.1424 - accuracy: 0.5975 - val_loss: 1.6218 - val_accuracy: 0.4133\n",
      "Epoch 9/20\n",
      "600/600 [==============================] - 2s 3ms/step - loss: 1.0875 - accuracy: 0.6146 - val_loss: 1.6103 - val_accuracy: 0.4700\n",
      "Epoch 10/20\n",
      "600/600 [==============================] - 2s 3ms/step - loss: 1.0042 - accuracy: 0.6467 - val_loss: 1.6777 - val_accuracy: 0.4367\n",
      "Epoch 11/20\n",
      "600/600 [==============================] - 2s 3ms/step - loss: 0.9604 - accuracy: 0.6617 - val_loss: 1.7071 - val_accuracy: 0.4133\n",
      "Epoch 12/20\n",
      "600/600 [==============================] - 2s 3ms/step - loss: 0.9043 - accuracy: 0.6746 - val_loss: 1.6820 - val_accuracy: 0.4800\n",
      "Epoch 13/20\n",
      "600/600 [==============================] - 2s 3ms/step - loss: 0.8600 - accuracy: 0.6992 - val_loss: 1.7735 - val_accuracy: 0.4567\n",
      "Epoch 14/20\n",
      "600/600 [==============================] - 2s 3ms/step - loss: 0.8068 - accuracy: 0.7117 - val_loss: 1.8185 - val_accuracy: 0.4333\n",
      "Epoch 15/20\n",
      "600/600 [==============================] - 2s 3ms/step - loss: 0.7687 - accuracy: 0.7304 - val_loss: 1.7239 - val_accuracy: 0.4433\n",
      "Epoch 16/20\n",
      "600/600 [==============================] - 2s 3ms/step - loss: 0.7177 - accuracy: 0.7483 - val_loss: 1.8467 - val_accuracy: 0.4467\n",
      "Epoch 17/20\n",
      "600/600 [==============================] - 2s 3ms/step - loss: 0.6743 - accuracy: 0.7550 - val_loss: 1.9270 - val_accuracy: 0.4367\n",
      "Epoch 18/20\n",
      "600/600 [==============================] - 2s 3ms/step - loss: 0.6585 - accuracy: 0.7621 - val_loss: 1.8774 - val_accuracy: 0.4300\n",
      "Epoch 19/20\n",
      "600/600 [==============================] - 2s 3ms/step - loss: 0.6338 - accuracy: 0.7717 - val_loss: 1.9908 - val_accuracy: 0.4633\n",
      "Epoch 20/20\n",
      "600/600 [==============================] - 2s 3ms/step - loss: 0.5901 - accuracy: 0.7892 - val_loss: 2.0995 - val_accuracy: 0.4200\n"
     ]
    }
   ],
   "source": [
    "# 添加dropout\n",
    "model8 = Sequential()\n",
    "model8.add(Conv2D(8, kernel_size=(5,5),activation='relu',padding='same', input_shape=input_shape))\n",
    "model8.add(MaxPooling2D(pool_size=(2,2), strides=2))\n",
    "#model8.add(Dropout(0.2))\n",
    "model8.add(Conv2D(16,kernel_size=(5,5),activation='relu',padding='same'))\n",
    "model8.add(MaxPooling2D(pool_size=(2,2), strides=2))\n",
    "model8.add(Dropout(0.2))\n",
    "model8.add(Flatten())\n",
    "model8.add(Dense(units=10,activation='softmax'))\n",
    "model8.summary()\n",
    "#优化器改为ADAM\n",
    "model8.compile(loss = 'categorical_crossentropy', optimizer = optimizers.Adam(),metrics = ['accuracy'])  \n",
    "history8 = model8.fit(sj_train,sj_train_label,validation_data=(sj_val,sj_val_label),batch_size=4,epochs=20,verbose=1)"
   ]
  },
  {
   "cell_type": "code",
   "execution_count": 43,
   "id": "0aa93f30",
   "metadata": {
    "execution": {
     "iopub.execute_input": "2022-10-21T01:39:21.643432Z",
     "iopub.status.busy": "2022-10-21T01:39:21.641855Z",
     "iopub.status.idle": "2022-10-21T01:39:22.472517Z",
     "shell.execute_reply": "2022-10-21T01:39:22.470874Z"
    },
    "papermill": {
     "duration": 1.076141,
     "end_time": "2022-10-21T01:39:22.475650",
     "exception": false,
     "start_time": "2022-10-21T01:39:21.399509",
     "status": "completed"
    },
    "tags": []
   },
   "outputs": [
    {
     "name": "stdout",
     "output_type": "stream",
     "text": [
      "dict_keys(['loss', 'accuracy', 'val_loss', 'val_accuracy'])\n",
      "10/10 [==============================] - 0s 3ms/step - loss: 2.0620 - accuracy: 0.4333\n"
     ]
    },
    {
     "data": {
      "text/plain": [
       "[2.062006950378418, 0.4333333373069763]"
      ]
     },
     "execution_count": 43,
     "metadata": {},
     "output_type": "execute_result"
    },
    {
     "data": {
      "image/png": "[encoded data removed]",
      "text/plain": [
       "<Figure size 640x480 with 1 Axes>"
      ]
     },
     "metadata": {},
     "output_type": "display_data"
    },
    {
     "data": {
      "image/png": "[encoded data removed]",
      "text/plain": [
       "<Figure size 640x480 with 1 Axes>"
      ]
     },
     "metadata": {},
     "output_type": "display_data"
    }
   ],
   "source": [
    "loss_acc_curve(history8)\n",
    "model8.evaluate(sj_test,sj_test_label) #其实该函数第一个返回值是损失（loss)，第二个返回值是准确率(acc)"
   ]
  },
  {
   "cell_type": "markdown",
   "id": "98100399",
   "metadata": {
    "papermill": {
     "duration": 0.253104,
     "end_time": "2022-10-21T01:39:22.970399",
     "exception": false,
     "start_time": "2022-10-21T01:39:22.717295",
     "status": "completed"
    },
    "tags": []
   },
   "source": [
    "### 总结：添加Dropout以后，模型的过拟合现象有所减轻，验证loss大概在12次左右产生"
   ]
  },
  {
   "cell_type": "code",
   "execution_count": 44,
   "id": "a42355a3",
   "metadata": {
    "execution": {
     "iopub.execute_input": "2022-10-21T01:39:23.464988Z",
     "iopub.status.busy": "2022-10-21T01:39:23.464535Z",
     "iopub.status.idle": "2022-10-21T01:40:14.056004Z",
     "shell.execute_reply": "2022-10-21T01:40:14.054395Z"
    },
    "papermill": {
     "duration": 50.846239,
     "end_time": "2022-10-21T01:40:14.059732",
     "exception": false,
     "start_time": "2022-10-21T01:39:23.213493",
     "status": "completed"
    },
    "tags": []
   },
   "outputs": [
    {
     "name": "stdout",
     "output_type": "stream",
     "text": [
      "Model: \"sequential_8\"\n",
      "_________________________________________________________________\n",
      " Layer (type)                Output Shape              Param #   \n",
      "=================================================================\n",
      " conv2d_16 (Conv2D)          (None, 32, 32, 8)         608       \n",
      "                                                                 \n",
      " max_pooling2d_16 (MaxPoolin  (None, 16, 16, 8)        0         \n",
      " g2D)                                                            \n",
      "                                                                 \n",
      " conv2d_17 (Conv2D)          (None, 16, 16, 16)        3216      \n",
      "                                                                 \n",
      " max_pooling2d_17 (MaxPoolin  (None, 8, 8, 16)         0         \n",
      " g2D)                                                            \n",
      "                                                                 \n",
      " flatten_8 (Flatten)         (None, 1024)              0         \n",
      "                                                                 \n",
      " dense_8 (Dense)             (None, 10)                10250     \n",
      "                                                                 \n",
      "=================================================================\n",
      "Total params: 14,074\n",
      "Trainable params: 14,074\n",
      "Non-trainable params: 0\n",
      "_________________________________________________________________\n",
      "Epoch 1/15\n",
      "600/600 [==============================] - 2s 3ms/step - loss: 2.2152 - accuracy: 0.2146 - val_loss: 2.0281 - val_accuracy: 0.2867\n",
      "Epoch 2/15\n",
      "600/600 [==============================] - 2s 3ms/step - loss: 1.9389 - accuracy: 0.3296 - val_loss: 1.8391 - val_accuracy: 0.3500\n",
      "Epoch 3/15\n",
      "600/600 [==============================] - 2s 3ms/step - loss: 1.7648 - accuracy: 0.3929 - val_loss: 1.9645 - val_accuracy: 0.3333\n",
      "Epoch 4/15\n",
      "600/600 [==============================] - 2s 3ms/step - loss: 1.6514 - accuracy: 0.4229 - val_loss: 1.7259 - val_accuracy: 0.3767\n",
      "Epoch 5/15\n",
      "600/600 [==============================] - 2s 3ms/step - loss: 1.5343 - accuracy: 0.4700 - val_loss: 1.6183 - val_accuracy: 0.4633\n",
      "Epoch 6/15\n",
      "600/600 [==============================] - 2s 3ms/step - loss: 1.4411 - accuracy: 0.5125 - val_loss: 1.5745 - val_accuracy: 0.4567\n",
      "Epoch 7/15\n",
      "600/600 [==============================] - 2s 3ms/step - loss: 1.3816 - accuracy: 0.5392 - val_loss: 1.6605 - val_accuracy: 0.4333\n",
      "Epoch 8/15\n",
      "600/600 [==============================] - 2s 3ms/step - loss: 1.3036 - accuracy: 0.5533 - val_loss: 1.8605 - val_accuracy: 0.4200\n",
      "Epoch 9/15\n",
      "600/600 [==============================] - 2s 3ms/step - loss: 1.2427 - accuracy: 0.5929 - val_loss: 1.6151 - val_accuracy: 0.4400\n",
      "Epoch 10/15\n",
      "600/600 [==============================] - 2s 3ms/step - loss: 1.1896 - accuracy: 0.6167 - val_loss: 1.6352 - val_accuracy: 0.4533\n",
      "Epoch 11/15\n",
      "600/600 [==============================] - 2s 3ms/step - loss: 1.1338 - accuracy: 0.6229 - val_loss: 1.7578 - val_accuracy: 0.4833\n",
      "Epoch 12/15\n",
      "600/600 [==============================] - 2s 3ms/step - loss: 1.0854 - accuracy: 0.6592 - val_loss: 1.7081 - val_accuracy: 0.4700\n",
      "Epoch 13/15\n",
      "600/600 [==============================] - 2s 3ms/step - loss: 1.0262 - accuracy: 0.6675 - val_loss: 1.6378 - val_accuracy: 0.4900\n",
      "Epoch 14/15\n",
      "600/600 [==============================] - 2s 3ms/step - loss: 0.9613 - accuracy: 0.7046 - val_loss: 1.7521 - val_accuracy: 0.4733\n",
      "Epoch 15/15\n",
      "600/600 [==============================] - 2s 3ms/step - loss: 0.9423 - accuracy: 0.7008 - val_loss: 1.6838 - val_accuracy: 0.4800\n"
     ]
    }
   ],
   "source": [
    "# 添加正则,还可以使用tf.keras.regularizers.L1()来查看模型的效果\n",
    "model9 = Sequential()\n",
    "model9.add(Conv2D(8, kernel_size=(5,5),activation='relu',padding='same', input_shape=input_shape))\n",
    "model9.add(MaxPooling2D(pool_size=(2,2), strides=2))\n",
    "#model9.add(Dropout(0.2))\n",
    "model9.add(Conv2D(16,kernel_size=(5,5),activation='relu',kernel_regularizer = tf.keras.regularizers.L2(),padding='same'))\n",
    "model9.add(MaxPooling2D(pool_size=(2,2), strides=2))\n",
    "#model8.add(Dropout(0.2))\n",
    "model9.add(Flatten())\n",
    "model9.add(Dense(units=10,activation='softmax'))\n",
    "model9.summary()\n",
    "#优化器改为ADAM\n",
    "model9.compile(loss = 'categorical_crossentropy', optimizer = optimizers.Adam(),metrics = ['accuracy'])  #categorical_crossentropy\n",
    "history9 = model9.fit(sj_train,sj_train_label,validation_data=(sj_val,sj_val_label),batch_size=4,epochs=15,verbose=1)"
   ]
  },
  {
   "cell_type": "code",
   "execution_count": 45,
   "id": "139d8852",
   "metadata": {
    "execution": {
     "iopub.execute_input": "2022-10-21T01:40:14.651990Z",
     "iopub.status.busy": "2022-10-21T01:40:14.651532Z",
     "iopub.status.idle": "2022-10-21T01:40:15.435701Z",
     "shell.execute_reply": "2022-10-21T01:40:15.434408Z"
    },
    "papermill": {
     "duration": 1.081295,
     "end_time": "2022-10-21T01:40:15.438739",
     "exception": false,
     "start_time": "2022-10-21T01:40:14.357444",
     "status": "completed"
    },
    "tags": []
   },
   "outputs": [
    {
     "name": "stdout",
     "output_type": "stream",
     "text": [
      "dict_keys(['loss', 'accuracy', 'val_loss', 'val_accuracy'])\n",
      "10/10 [==============================] - 0s 3ms/step - loss: 1.8055 - accuracy: 0.4600\n"
     ]
    },
    {
     "data": {
      "text/plain": [
       "[1.8055305480957031, 0.46000000834465027]"
      ]
     },
     "execution_count": 45,
     "metadata": {},
     "output_type": "execute_result"
    },
    {
     "data": {
      "image/png": "[encoded data removed]",
      "text/plain": [
       "<Figure size 640x480 with 1 Axes>"
      ]
     },
     "metadata": {},
     "output_type": "display_data"
    },
    {
     "data": {
      "image/png": "[encoded data removed]",
      "text/plain": [
       "<Figure size 640x480 with 1 Axes>"
      ]
     },
     "metadata": {},
     "output_type": "display_data"
    }
   ],
   "source": [
    "loss_acc_curve(history9)\n",
    "model9.evaluate(sj_test,sj_test_label) #其实该函数第一个返回值是损失（loss)，第二个返回值是准确率(acc)"
   ]
  },
  {
   "cell_type": "code",
   "execution_count": 46,
   "id": "05735b4e",
   "metadata": {
    "execution": {
     "iopub.execute_input": "2022-10-21T01:40:16.029572Z",
     "iopub.status.busy": "2022-10-21T01:40:16.029113Z",
     "iopub.status.idle": "2022-10-21T01:41:28.232263Z",
     "shell.execute_reply": "2022-10-21T01:41:28.230589Z"
    },
    "papermill": {
     "duration": 72.501957,
     "end_time": "2022-10-21T01:41:28.235381",
     "exception": false,
     "start_time": "2022-10-21T01:40:15.733424",
     "status": "completed"
    },
    "tags": []
   },
   "outputs": [
    {
     "name": "stdout",
     "output_type": "stream",
     "text": [
      "Model: \"sequential_9\"\n",
      "_________________________________________________________________\n",
      " Layer (type)                Output Shape              Param #   \n",
      "=================================================================\n",
      " conv2d_18 (Conv2D)          (None, 32, 32, 8)         608       \n",
      "                                                                 \n",
      " max_pooling2d_18 (MaxPoolin  (None, 16, 16, 8)        0         \n",
      " g2D)                                                            \n",
      "                                                                 \n",
      " conv2d_19 (Conv2D)          (None, 16, 16, 16)        3216      \n",
      "                                                                 \n",
      " max_pooling2d_19 (MaxPoolin  (None, 8, 8, 16)         0         \n",
      " g2D)                                                            \n",
      "                                                                 \n",
      " flatten_9 (Flatten)         (None, 1024)              0         \n",
      "                                                                 \n",
      " dense_9 (Dense)             (None, 10)                10250     \n",
      "                                                                 \n",
      "=================================================================\n",
      "Total params: 14,074\n",
      "Trainable params: 14,074\n",
      "Non-trainable params: 0\n",
      "_________________________________________________________________\n",
      "Epoch 1/20\n",
      "600/600 [==============================] - 2s 3ms/step - loss: 2.3383 - accuracy: 0.1762 - val_loss: 2.0919 - val_accuracy: 0.2233\n",
      "Epoch 2/20\n",
      "600/600 [==============================] - 2s 3ms/step - loss: 2.0725 - accuracy: 0.2633 - val_loss: 2.0752 - val_accuracy: 0.2600\n",
      "Epoch 3/20\n",
      "600/600 [==============================] - 2s 3ms/step - loss: 2.0402 - accuracy: 0.2738 - val_loss: 2.0626 - val_accuracy: 0.2633\n",
      "Epoch 4/20\n",
      "600/600 [==============================] - 2s 3ms/step - loss: 2.0208 - accuracy: 0.2817 - val_loss: 2.0617 - val_accuracy: 0.2500\n",
      "Epoch 5/20\n",
      "600/600 [==============================] - 2s 3ms/step - loss: 2.0042 - accuracy: 0.2833 - val_loss: 2.1783 - val_accuracy: 0.2067\n",
      "Epoch 6/20\n",
      "600/600 [==============================] - 2s 3ms/step - loss: 1.9931 - accuracy: 0.2950 - val_loss: 2.0624 - val_accuracy: 0.2600\n",
      "Epoch 7/20\n",
      "600/600 [==============================] - 2s 3ms/step - loss: 1.9804 - accuracy: 0.2983 - val_loss: 2.0467 - val_accuracy: 0.2667\n",
      "Epoch 8/20\n",
      "600/600 [==============================] - 2s 3ms/step - loss: 1.9714 - accuracy: 0.3025 - val_loss: 2.0293 - val_accuracy: 0.2733\n",
      "Epoch 9/20\n",
      "600/600 [==============================] - 2s 3ms/step - loss: 1.9608 - accuracy: 0.3092 - val_loss: 2.0296 - val_accuracy: 0.2867\n",
      "Epoch 10/20\n",
      "600/600 [==============================] - 2s 3ms/step - loss: 1.9432 - accuracy: 0.3104 - val_loss: 2.0401 - val_accuracy: 0.2967\n",
      "Epoch 11/20\n",
      "600/600 [==============================] - 2s 3ms/step - loss: 1.9294 - accuracy: 0.3167 - val_loss: 2.0236 - val_accuracy: 0.2900\n",
      "Epoch 12/20\n",
      "600/600 [==============================] - 2s 3ms/step - loss: 1.9120 - accuracy: 0.3292 - val_loss: 2.0296 - val_accuracy: 0.2767\n",
      "Epoch 13/20\n",
      "600/600 [==============================] - 2s 3ms/step - loss: 1.8900 - accuracy: 0.3367 - val_loss: 1.9865 - val_accuracy: 0.3200\n",
      "Epoch 14/20\n",
      "600/600 [==============================] - 2s 3ms/step - loss: 1.8697 - accuracy: 0.3525 - val_loss: 2.0402 - val_accuracy: 0.2633\n",
      "Epoch 15/20\n",
      "600/600 [==============================] - 2s 3ms/step - loss: 1.8437 - accuracy: 0.3562 - val_loss: 1.9304 - val_accuracy: 0.3300\n",
      "Epoch 16/20\n",
      "600/600 [==============================] - 2s 3ms/step - loss: 1.8175 - accuracy: 0.3804 - val_loss: 1.9569 - val_accuracy: 0.3033\n",
      "Epoch 17/20\n",
      "600/600 [==============================] - 2s 3ms/step - loss: 1.7659 - accuracy: 0.3963 - val_loss: 1.8885 - val_accuracy: 0.3700\n",
      "Epoch 18/20\n",
      "600/600 [==============================] - 2s 3ms/step - loss: 1.7120 - accuracy: 0.4271 - val_loss: 1.8465 - val_accuracy: 0.3900\n",
      "Epoch 19/20\n",
      "600/600 [==============================] - 2s 3ms/step - loss: 1.6614 - accuracy: 0.4396 - val_loss: 1.8276 - val_accuracy: 0.4067\n",
      "Epoch 20/20\n",
      "600/600 [==============================] - 2s 3ms/step - loss: 1.6250 - accuracy: 0.4621 - val_loss: 1.8156 - val_accuracy: 0.4067\n"
     ]
    }
   ],
   "source": [
    "# 添加正则,还可以使用tf.keras.regularizers.L1()来查看模型的效果\n",
    "model9_1 = Sequential()\n",
    "model9_1.add(Conv2D(8, kernel_size=(5,5),activation='relu',padding='same', input_shape=input_shape))\n",
    "model9_1.add(MaxPooling2D(pool_size=(2,2), strides=2))\n",
    "#model9.add(Dropout(0.2))\n",
    "model9_1.add(Conv2D(16,kernel_size=(5,5),activation='relu',kernel_regularizer = tf.keras.regularizers.L1(),padding='same'))\n",
    "model9_1.add(MaxPooling2D(pool_size=(2,2), strides=2))\n",
    "#model8.add(Dropout(0.2))\n",
    "model9_1.add(Flatten())\n",
    "model9_1.add(Dense(units=10,activation='softmax'))\n",
    "model9_1.summary()\n",
    "#优化器改为ADAM\n",
    "model9_1.compile(loss = 'categorical_crossentropy', optimizer = optimizers.Adam(),metrics = ['accuracy'])  \n",
    "history9_1 = model9_1.fit(sj_train,sj_train_label,validation_data=(sj_val,sj_val_label),batch_size=4,epochs=20,verbose=1)"
   ]
  },
  {
   "cell_type": "code",
   "execution_count": 47,
   "id": "9b9342e2",
   "metadata": {
    "execution": {
     "iopub.execute_input": "2022-10-21T01:41:28.982981Z",
     "iopub.status.busy": "2022-10-21T01:41:28.982207Z",
     "iopub.status.idle": "2022-10-21T01:41:29.766156Z",
     "shell.execute_reply": "2022-10-21T01:41:29.764994Z"
    },
    "papermill": {
     "duration": 1.159814,
     "end_time": "2022-10-21T01:41:29.768752",
     "exception": false,
     "start_time": "2022-10-21T01:41:28.608938",
     "status": "completed"
    },
    "tags": []
   },
   "outputs": [
    {
     "name": "stdout",
     "output_type": "stream",
     "text": [
      "dict_keys(['loss', 'accuracy', 'val_loss', 'val_accuracy'])\n",
      "10/10 [==============================] - 0s 3ms/step - loss: 1.8752 - accuracy: 0.3733\n"
     ]
    },
    {
     "data": {
      "text/plain": [
       "[1.875247597694397, 0.3733333349227905]"
      ]
     },
     "execution_count": 47,
     "metadata": {},
     "output_type": "execute_result"
    },
    {
     "data": {
      "image/png": "[encoded data removed]",
      "text/plain": [
       "<Figure size 640x480 with 1 Axes>"
      ]
     },
     "metadata": {},
     "output_type": "display_data"
    },
    {
     "data": {
      "image/png": "[encoded data removed]",
      "text/plain": [
       "<Figure size 640x480 with 1 Axes>"
      ]
     },
     "metadata": {},
     "output_type": "display_data"
    }
   ],
   "source": [
    "loss_acc_curve(history9_1)\n",
    "model9_1.evaluate(sj_test,sj_test_label) #其实该函数第一个返回值是损失（loss)，第二个返回值是准确率(acc)"
   ]
  },
  {
   "cell_type": "markdown",
   "id": "8da52101",
   "metadata": {
    "papermill": {
     "duration": 0.464694,
     "end_time": "2022-10-21T01:41:30.611746",
     "exception": false,
     "start_time": "2022-10-21T01:41:30.147052",
     "status": "completed"
    },
    "tags": []
   },
   "source": [
    "### L2正则，过拟合在10次左右。使用L1正则，大概在20次左右，下面我们来验证下，联合使用正则和Dropout的效果"
   ]
  },
  {
   "cell_type": "code",
   "execution_count": 48,
   "id": "b65eb2ca",
   "metadata": {
    "execution": {
     "iopub.execute_input": "2022-10-21T01:41:31.381231Z",
     "iopub.status.busy": "2022-10-21T01:41:31.380495Z",
     "iopub.status.idle": "2022-10-21T01:43:48.664779Z",
     "shell.execute_reply": "2022-10-21T01:43:48.663003Z"
    },
    "papermill": {
     "duration": 137.675985,
     "end_time": "2022-10-21T01:43:48.668098",
     "exception": false,
     "start_time": "2022-10-21T01:41:30.992113",
     "status": "completed"
    },
    "tags": []
   },
   "outputs": [
    {
     "name": "stdout",
     "output_type": "stream",
     "text": [
      "Model: \"sequential_10\"\n",
      "_________________________________________________________________\n",
      " Layer (type)                Output Shape              Param #   \n",
      "=================================================================\n",
      " conv2d_20 (Conv2D)          (None, 32, 32, 8)         608       \n",
      "                                                                 \n",
      " max_pooling2d_20 (MaxPoolin  (None, 16, 16, 8)        0         \n",
      " g2D)                                                            \n",
      "                                                                 \n",
      " conv2d_21 (Conv2D)          (None, 16, 16, 16)        3216      \n",
      "                                                                 \n",
      " max_pooling2d_21 (MaxPoolin  (None, 8, 8, 16)         0         \n",
      " g2D)                                                            \n",
      "                                                                 \n",
      " dropout_1 (Dropout)         (None, 8, 8, 16)          0         \n",
      "                                                                 \n",
      " flatten_10 (Flatten)        (None, 1024)              0         \n",
      "                                                                 \n",
      " dense_10 (Dense)            (None, 10)                10250     \n",
      "                                                                 \n",
      "=================================================================\n",
      "Total params: 14,074\n",
      "Trainable params: 14,074\n",
      "Non-trainable params: 0\n",
      "_________________________________________________________________\n",
      "Epoch 1/40\n",
      "600/600 [==============================] - 2s 3ms/step - loss: 2.3488 - accuracy: 0.2033 - val_loss: 1.9873 - val_accuracy: 0.3333\n",
      "Epoch 2/40\n",
      "600/600 [==============================] - 2s 3ms/step - loss: 1.9717 - accuracy: 0.3367 - val_loss: 1.8962 - val_accuracy: 0.3400\n",
      "Epoch 3/40\n",
      "600/600 [==============================] - 2s 3ms/step - loss: 1.8254 - accuracy: 0.3783 - val_loss: 1.7075 - val_accuracy: 0.4633\n",
      "Epoch 4/40\n",
      "600/600 [==============================] - 2s 3ms/step - loss: 1.7611 - accuracy: 0.3996 - val_loss: 1.7044 - val_accuracy: 0.4200\n",
      "Epoch 5/40\n",
      "600/600 [==============================] - 2s 3ms/step - loss: 1.6834 - accuracy: 0.4183 - val_loss: 1.6885 - val_accuracy: 0.4167\n",
      "Epoch 6/40\n",
      "600/600 [==============================] - 2s 3ms/step - loss: 1.6192 - accuracy: 0.4533 - val_loss: 1.6540 - val_accuracy: 0.4567\n",
      "Epoch 7/40\n",
      "600/600 [==============================] - 2s 3ms/step - loss: 1.5770 - accuracy: 0.4658 - val_loss: 1.6610 - val_accuracy: 0.4167\n",
      "Epoch 8/40\n",
      "600/600 [==============================] - 2s 3ms/step - loss: 1.5196 - accuracy: 0.4896 - val_loss: 1.6946 - val_accuracy: 0.4533\n",
      "Epoch 9/40\n",
      "600/600 [==============================] - 2s 3ms/step - loss: 1.4777 - accuracy: 0.5000 - val_loss: 1.6329 - val_accuracy: 0.4567\n",
      "Epoch 10/40\n",
      "600/600 [==============================] - 2s 3ms/step - loss: 1.4327 - accuracy: 0.5308 - val_loss: 1.6796 - val_accuracy: 0.4767\n",
      "Epoch 11/40\n",
      "600/600 [==============================] - 2s 3ms/step - loss: 1.4039 - accuracy: 0.5321 - val_loss: 1.6385 - val_accuracy: 0.4500\n",
      "Epoch 12/40\n",
      "600/600 [==============================] - 2s 3ms/step - loss: 1.3668 - accuracy: 0.5429 - val_loss: 1.6707 - val_accuracy: 0.4600\n",
      "Epoch 13/40\n",
      "600/600 [==============================] - 2s 3ms/step - loss: 1.3301 - accuracy: 0.5621 - val_loss: 1.6403 - val_accuracy: 0.4400\n",
      "Epoch 14/40\n",
      "600/600 [==============================] - 2s 4ms/step - loss: 1.2776 - accuracy: 0.5833 - val_loss: 1.7274 - val_accuracy: 0.4200\n",
      "Epoch 15/40\n",
      "600/600 [==============================] - 2s 3ms/step - loss: 1.2718 - accuracy: 0.5888 - val_loss: 1.6377 - val_accuracy: 0.4400\n",
      "Epoch 16/40\n",
      "600/600 [==============================] - 2s 3ms/step - loss: 1.1986 - accuracy: 0.6167 - val_loss: 1.7156 - val_accuracy: 0.4433\n",
      "Epoch 17/40\n",
      "600/600 [==============================] - 2s 3ms/step - loss: 1.2149 - accuracy: 0.6108 - val_loss: 1.6541 - val_accuracy: 0.4733\n",
      "Epoch 18/40\n",
      "600/600 [==============================] - 2s 3ms/step - loss: 1.1679 - accuracy: 0.6179 - val_loss: 1.7115 - val_accuracy: 0.4233\n",
      "Epoch 19/40\n",
      "600/600 [==============================] - 2s 3ms/step - loss: 1.1255 - accuracy: 0.6333 - val_loss: 1.7288 - val_accuracy: 0.4500\n",
      "Epoch 20/40\n",
      "600/600 [==============================] - 2s 3ms/step - loss: 1.0805 - accuracy: 0.6583 - val_loss: 1.8362 - val_accuracy: 0.4333\n",
      "Epoch 21/40\n",
      "600/600 [==============================] - 2s 3ms/step - loss: 1.0617 - accuracy: 0.6629 - val_loss: 1.7551 - val_accuracy: 0.4833\n",
      "Epoch 22/40\n",
      "600/600 [==============================] - 2s 3ms/step - loss: 1.0173 - accuracy: 0.6750 - val_loss: 1.7436 - val_accuracy: 0.4933\n",
      "Epoch 23/40\n",
      "600/600 [==============================] - 2s 3ms/step - loss: 1.0292 - accuracy: 0.6650 - val_loss: 1.8050 - val_accuracy: 0.4700\n",
      "Epoch 24/40\n",
      "600/600 [==============================] - 2s 3ms/step - loss: 0.9974 - accuracy: 0.6967 - val_loss: 1.8111 - val_accuracy: 0.4800\n",
      "Epoch 25/40\n",
      "600/600 [==============================] - 2s 3ms/step - loss: 0.9553 - accuracy: 0.6954 - val_loss: 1.9101 - val_accuracy: 0.4333\n",
      "Epoch 26/40\n",
      "600/600 [==============================] - 2s 3ms/step - loss: 0.9430 - accuracy: 0.7083 - val_loss: 1.7106 - val_accuracy: 0.4667\n",
      "Epoch 27/40\n",
      "600/600 [==============================] - 2s 3ms/step - loss: 0.9246 - accuracy: 0.7179 - val_loss: 1.8488 - val_accuracy: 0.4667\n",
      "Epoch 28/40\n",
      "600/600 [==============================] - 2s 3ms/step - loss: 0.8942 - accuracy: 0.7371 - val_loss: 1.8584 - val_accuracy: 0.4767\n",
      "Epoch 29/40\n",
      "600/600 [==============================] - 2s 3ms/step - loss: 0.9056 - accuracy: 0.7225 - val_loss: 1.9370 - val_accuracy: 0.4467\n",
      "Epoch 30/40\n",
      "600/600 [==============================] - 2s 3ms/step - loss: 0.8776 - accuracy: 0.7358 - val_loss: 1.8508 - val_accuracy: 0.4767\n",
      "Epoch 31/40\n",
      "600/600 [==============================] - 2s 3ms/step - loss: 0.8458 - accuracy: 0.7471 - val_loss: 1.9059 - val_accuracy: 0.4633\n",
      "Epoch 32/40\n",
      "600/600 [==============================] - 2s 3ms/step - loss: 0.8249 - accuracy: 0.7425 - val_loss: 1.9885 - val_accuracy: 0.4500\n",
      "Epoch 33/40\n",
      "600/600 [==============================] - 2s 3ms/step - loss: 0.8106 - accuracy: 0.7588 - val_loss: 2.0436 - val_accuracy: 0.4033\n",
      "Epoch 34/40\n",
      "600/600 [==============================] - 2s 3ms/step - loss: 0.8191 - accuracy: 0.7608 - val_loss: 1.9420 - val_accuracy: 0.4567\n",
      "Epoch 35/40\n",
      "600/600 [==============================] - 2s 4ms/step - loss: 0.8048 - accuracy: 0.7633 - val_loss: 1.9351 - val_accuracy: 0.4333\n",
      "Epoch 36/40\n",
      "600/600 [==============================] - 2s 3ms/step - loss: 0.7807 - accuracy: 0.7700 - val_loss: 2.0540 - val_accuracy: 0.4400\n",
      "Epoch 37/40\n",
      "600/600 [==============================] - 2s 3ms/step - loss: 0.7638 - accuracy: 0.7900 - val_loss: 2.1056 - val_accuracy: 0.4500\n",
      "Epoch 38/40\n",
      "600/600 [==============================] - 2s 4ms/step - loss: 0.7609 - accuracy: 0.7796 - val_loss: 2.1594 - val_accuracy: 0.4133\n",
      "Epoch 39/40\n",
      "600/600 [==============================] - 2s 3ms/step - loss: 0.7361 - accuracy: 0.7875 - val_loss: 2.0649 - val_accuracy: 0.4167\n",
      "Epoch 40/40\n",
      "600/600 [==============================] - 2s 3ms/step - loss: 0.7311 - accuracy: 0.7887 - val_loss: 2.0523 - val_accuracy: 0.4500\n"
     ]
    }
   ],
   "source": [
    "# 添加正则和dropout\n",
    "model10 = Sequential()\n",
    "model10.add(Conv2D(8, kernel_size=(5,5),activation='relu',kernel_regularizer = tf.keras.regularizers.L1(),padding='same', input_shape=input_shape))\n",
    "model10.add(MaxPooling2D(pool_size=(2,2), strides=2))\n",
    "#model9.add(Dropout(0.2))\n",
    "model10.add(Conv2D(16,kernel_size=(5,5),activation='relu',padding='same'))\n",
    "model10.add(MaxPooling2D(pool_size=(2,2), strides=2))\n",
    "model10.add(Dropout(0.2))\n",
    "model10.add(Flatten())\n",
    "model10.add(Dense(units=10,activation='softmax'))\n",
    "model10.summary()\n",
    "#优化器改为ADAM\n",
    "model10.compile(loss = 'categorical_crossentropy', optimizer = optimizers.Adam(),metrics = ['accuracy'])  \n",
    "history10 = model10.fit(sj_train,sj_train_label,validation_data=(sj_val,sj_val_label),batch_size=4,epochs=40,verbose=1)"
   ]
  },
  {
   "cell_type": "code",
   "execution_count": 49,
   "id": "68b6a86e",
   "metadata": {
    "execution": {
     "iopub.execute_input": "2022-10-21T01:43:49.850070Z",
     "iopub.status.busy": "2022-10-21T01:43:49.849556Z",
     "iopub.status.idle": "2022-10-21T01:43:50.720748Z",
     "shell.execute_reply": "2022-10-21T01:43:50.719446Z"
    },
    "papermill": {
     "duration": 1.496644,
     "end_time": "2022-10-21T01:43:50.723645",
     "exception": false,
     "start_time": "2022-10-21T01:43:49.227001",
     "status": "completed"
    },
    "tags": []
   },
   "outputs": [
    {
     "name": "stdout",
     "output_type": "stream",
     "text": [
      "dict_keys(['loss', 'accuracy', 'val_loss', 'val_accuracy'])\n",
      "10/10 [==============================] - 0s 3ms/step - loss: 2.0886 - accuracy: 0.4667\n"
     ]
    },
    {
     "data": {
      "text/plain": [
       "[2.0885579586029053, 0.46666666865348816]"
      ]
     },
     "execution_count": 49,
     "metadata": {},
     "output_type": "execute_result"
    },
    {
     "data": {
      "image/png": "[encoded data removed]",
      "text/plain": [
       "<Figure size 640x480 with 1 Axes>"
      ]
     },
     "metadata": {},
     "output_type": "display_data"
    },
    {
     "data": {
      "image/png": "[encoded data removed]",
      "text/plain": [
       "<Figure size 640x480 with 1 Axes>"
      ]
     },
     "metadata": {},
     "output_type": "display_data"
    }
   ],
   "source": [
    "loss_acc_curve(history10)\n",
    "model10.evaluate(sj_test,sj_test_label) #其实该函数第一个返回值是损失（loss)，第二个返回值是准确率(acc)"
   ]
  },
  {
   "cell_type": "code",
   "execution_count": 50,
   "id": "a45889fe",
   "metadata": {
    "execution": {
     "iopub.execute_input": "2022-10-21T01:43:51.847505Z",
     "iopub.status.busy": "2022-10-21T01:43:51.846385Z",
     "iopub.status.idle": "2022-10-21T01:46:13.362097Z",
     "shell.execute_reply": "2022-10-21T01:46:13.360765Z"
    },
    "papermill": {
     "duration": 142.081492,
     "end_time": "2022-10-21T01:46:13.365214",
     "exception": false,
     "start_time": "2022-10-21T01:43:51.283722",
     "status": "completed"
    },
    "tags": []
   },
   "outputs": [
    {
     "name": "stdout",
     "output_type": "stream",
     "text": [
      "Model: \"sequential_11\"\n",
      "_________________________________________________________________\n",
      " Layer (type)                Output Shape              Param #   \n",
      "=================================================================\n",
      " conv2d_22 (Conv2D)          (None, 32, 32, 8)         608       \n",
      "                                                                 \n",
      " max_pooling2d_22 (MaxPoolin  (None, 16, 16, 8)        0         \n",
      " g2D)                                                            \n",
      "                                                                 \n",
      " dropout_2 (Dropout)         (None, 16, 16, 8)         0         \n",
      "                                                                 \n",
      " conv2d_23 (Conv2D)          (None, 16, 16, 16)        3216      \n",
      "                                                                 \n",
      " max_pooling2d_23 (MaxPoolin  (None, 8, 8, 16)         0         \n",
      " g2D)                                                            \n",
      "                                                                 \n",
      " dropout_3 (Dropout)         (None, 8, 8, 16)          0         \n",
      "                                                                 \n",
      " flatten_11 (Flatten)        (None, 1024)              0         \n",
      "                                                                 \n",
      " dense_11 (Dense)            (None, 10)                10250     \n",
      "                                                                 \n",
      "=================================================================\n",
      "Total params: 14,074\n",
      "Trainable params: 14,074\n",
      "Non-trainable params: 0\n",
      "_________________________________________________________________\n",
      "Epoch 1/40\n",
      "600/600 [==============================] - 2s 3ms/step - loss: 2.4509 - accuracy: 0.1612 - val_loss: 2.1636 - val_accuracy: 0.2500\n",
      "Epoch 2/40\n",
      "600/600 [==============================] - 2s 3ms/step - loss: 2.1001 - accuracy: 0.2454 - val_loss: 2.1312 - val_accuracy: 0.2367\n",
      "Epoch 3/40\n",
      "600/600 [==============================] - 2s 3ms/step - loss: 2.0570 - accuracy: 0.2571 - val_loss: 2.0475 - val_accuracy: 0.3000\n",
      "Epoch 4/40\n",
      "600/600 [==============================] - 2s 3ms/step - loss: 2.0441 - accuracy: 0.2746 - val_loss: 2.0848 - val_accuracy: 0.2667\n",
      "Epoch 5/40\n",
      "600/600 [==============================] - 2s 3ms/step - loss: 2.0219 - accuracy: 0.2875 - val_loss: 2.0560 - val_accuracy: 0.2733\n",
      "Epoch 6/40\n",
      "600/600 [==============================] - 2s 3ms/step - loss: 2.0065 - accuracy: 0.2917 - val_loss: 2.0319 - val_accuracy: 0.2867\n",
      "Epoch 7/40\n",
      "600/600 [==============================] - 2s 3ms/step - loss: 1.9989 - accuracy: 0.2908 - val_loss: 2.0300 - val_accuracy: 0.2900\n",
      "Epoch 8/40\n",
      "600/600 [==============================] - 2s 3ms/step - loss: 1.9880 - accuracy: 0.2950 - val_loss: 2.0201 - val_accuracy: 0.2800\n",
      "Epoch 9/40\n",
      "600/600 [==============================] - 2s 3ms/step - loss: 1.9722 - accuracy: 0.2988 - val_loss: 2.0531 - val_accuracy: 0.2567\n",
      "Epoch 10/40\n",
      "600/600 [==============================] - 2s 3ms/step - loss: 1.9646 - accuracy: 0.2958 - val_loss: 2.0254 - val_accuracy: 0.2833\n",
      "Epoch 11/40\n",
      "600/600 [==============================] - 2s 3ms/step - loss: 1.9629 - accuracy: 0.3088 - val_loss: 2.0171 - val_accuracy: 0.2967\n",
      "Epoch 12/40\n",
      "600/600 [==============================] - 2s 3ms/step - loss: 1.9615 - accuracy: 0.3187 - val_loss: 2.0564 - val_accuracy: 0.2800\n",
      "Epoch 13/40\n",
      "600/600 [==============================] - 2s 3ms/step - loss: 1.9305 - accuracy: 0.3304 - val_loss: 1.9598 - val_accuracy: 0.3400\n",
      "Epoch 14/40\n",
      "600/600 [==============================] - 2s 3ms/step - loss: 1.9199 - accuracy: 0.3429 - val_loss: 1.9915 - val_accuracy: 0.3200\n",
      "Epoch 15/40\n",
      "600/600 [==============================] - 2s 3ms/step - loss: 1.8962 - accuracy: 0.3358 - val_loss: 1.9142 - val_accuracy: 0.3500\n",
      "Epoch 16/40\n",
      "600/600 [==============================] - 2s 3ms/step - loss: 1.8757 - accuracy: 0.3533 - val_loss: 1.9223 - val_accuracy: 0.3567\n",
      "Epoch 17/40\n",
      "600/600 [==============================] - 2s 3ms/step - loss: 1.8712 - accuracy: 0.3592 - val_loss: 1.9205 - val_accuracy: 0.3200\n",
      "Epoch 18/40\n",
      "600/600 [==============================] - 2s 3ms/step - loss: 1.8521 - accuracy: 0.3742 - val_loss: 1.9109 - val_accuracy: 0.3500\n",
      "Epoch 19/40\n",
      "600/600 [==============================] - 2s 3ms/step - loss: 1.8278 - accuracy: 0.3738 - val_loss: 1.9294 - val_accuracy: 0.3267\n",
      "Epoch 20/40\n",
      "600/600 [==============================] - 2s 3ms/step - loss: 1.8007 - accuracy: 0.3883 - val_loss: 1.8550 - val_accuracy: 0.3567\n",
      "Epoch 21/40\n",
      "600/600 [==============================] - 2s 3ms/step - loss: 1.7968 - accuracy: 0.3758 - val_loss: 1.8634 - val_accuracy: 0.3433\n",
      "Epoch 22/40\n",
      "600/600 [==============================] - 2s 3ms/step - loss: 1.7721 - accuracy: 0.3967 - val_loss: 1.8327 - val_accuracy: 0.3800\n",
      "Epoch 23/40\n",
      "600/600 [==============================] - 2s 3ms/step - loss: 1.7482 - accuracy: 0.4050 - val_loss: 1.8167 - val_accuracy: 0.3833\n",
      "Epoch 24/40\n",
      "600/600 [==============================] - 2s 3ms/step - loss: 1.7425 - accuracy: 0.4079 - val_loss: 1.8494 - val_accuracy: 0.3600\n",
      "Epoch 25/40\n",
      "600/600 [==============================] - 2s 3ms/step - loss: 1.7249 - accuracy: 0.4075 - val_loss: 1.7882 - val_accuracy: 0.3767\n",
      "Epoch 26/40\n",
      "600/600 [==============================] - 2s 3ms/step - loss: 1.7152 - accuracy: 0.4167 - val_loss: 1.7906 - val_accuracy: 0.3933\n",
      "Epoch 27/40\n",
      "600/600 [==============================] - 2s 3ms/step - loss: 1.6973 - accuracy: 0.4283 - val_loss: 1.7832 - val_accuracy: 0.3800\n",
      "Epoch 28/40\n",
      "600/600 [==============================] - 2s 3ms/step - loss: 1.6906 - accuracy: 0.4258 - val_loss: 1.8284 - val_accuracy: 0.3500\n",
      "Epoch 29/40\n",
      "600/600 [==============================] - 2s 3ms/step - loss: 1.6723 - accuracy: 0.4217 - val_loss: 1.8178 - val_accuracy: 0.3700\n",
      "Epoch 30/40\n",
      "600/600 [==============================] - 2s 3ms/step - loss: 1.6769 - accuracy: 0.4425 - val_loss: 1.7827 - val_accuracy: 0.4033\n",
      "Epoch 31/40\n",
      "600/600 [==============================] - 2s 3ms/step - loss: 1.6812 - accuracy: 0.4325 - val_loss: 1.7673 - val_accuracy: 0.4100\n",
      "Epoch 32/40\n",
      "600/600 [==============================] - 2s 3ms/step - loss: 1.6555 - accuracy: 0.4371 - val_loss: 1.8473 - val_accuracy: 0.3533\n",
      "Epoch 33/40\n",
      "600/600 [==============================] - 2s 3ms/step - loss: 1.6487 - accuracy: 0.4342 - val_loss: 1.7749 - val_accuracy: 0.3733\n",
      "Epoch 34/40\n",
      "600/600 [==============================] - 2s 3ms/step - loss: 1.6532 - accuracy: 0.4521 - val_loss: 1.7801 - val_accuracy: 0.3767\n",
      "Epoch 35/40\n",
      "600/600 [==============================] - 2s 3ms/step - loss: 1.6402 - accuracy: 0.4442 - val_loss: 1.7471 - val_accuracy: 0.3867\n",
      "Epoch 36/40\n",
      "600/600 [==============================] - 2s 3ms/step - loss: 1.6303 - accuracy: 0.4533 - val_loss: 1.7462 - val_accuracy: 0.4000\n",
      "Epoch 37/40\n",
      "600/600 [==============================] - 2s 3ms/step - loss: 1.6158 - accuracy: 0.4525 - val_loss: 1.7681 - val_accuracy: 0.3900\n",
      "Epoch 38/40\n",
      "600/600 [==============================] - 2s 3ms/step - loss: 1.6293 - accuracy: 0.4471 - val_loss: 1.7678 - val_accuracy: 0.4000\n",
      "Epoch 39/40\n",
      "600/600 [==============================] - 2s 3ms/step - loss: 1.6267 - accuracy: 0.4575 - val_loss: 1.7560 - val_accuracy: 0.3767\n",
      "Epoch 40/40\n",
      "600/600 [==============================] - 2s 3ms/step - loss: 1.6144 - accuracy: 0.4525 - val_loss: 1.7966 - val_accuracy: 0.3633\n"
     ]
    }
   ],
   "source": [
    "# 添加正则和dropout\n",
    "model11 = Sequential()\n",
    "model11.add(Conv2D(8, kernel_size=(5,5),activation='relu',padding='same', input_shape=input_shape))\n",
    "model11.add(MaxPooling2D(pool_size=(2,2), strides=2))\n",
    "model11.add(Dropout(0.2))\n",
    "model11.add(Conv2D(16,kernel_size=(5,5),activation='relu',kernel_regularizer = tf.keras.regularizers.L1(),padding='same'))\n",
    "model11.add(MaxPooling2D(pool_size=(2,2), strides=2))\n",
    "model11.add(Dropout(0.2))\n",
    "model11.add(Flatten())\n",
    "model11.add(Dense(units=10,activation='softmax'))\n",
    "model11.summary()\n",
    "#优化器改为ADAM\n",
    "model11.compile(loss = 'categorical_crossentropy', optimizer = optimizers.Adam(),metrics = ['accuracy'])  \n",
    "history11 = model11.fit(sj_train,sj_train_label,validation_data=(sj_val,sj_val_label),batch_size=4,epochs=40,verbose=1)"
   ]
  },
  {
   "cell_type": "code",
   "execution_count": 51,
   "id": "6deb419a",
   "metadata": {
    "execution": {
     "iopub.execute_input": "2022-10-21T01:46:14.839635Z",
     "iopub.status.busy": "2022-10-21T01:46:14.838727Z",
     "iopub.status.idle": "2022-10-21T01:46:15.667528Z",
     "shell.execute_reply": "2022-10-21T01:46:15.666229Z"
    },
    "papermill": {
     "duration": 1.527663,
     "end_time": "2022-10-21T01:46:15.670443",
     "exception": false,
     "start_time": "2022-10-21T01:46:14.142780",
     "status": "completed"
    },
    "tags": []
   },
   "outputs": [
    {
     "name": "stdout",
     "output_type": "stream",
     "text": [
      "dict_keys(['loss', 'accuracy', 'val_loss', 'val_accuracy'])\n",
      "10/10 [==============================] - 0s 3ms/step - loss: 1.7723 - accuracy: 0.4100\n"
     ]
    },
    {
     "data": {
      "text/plain": [
       "[1.772274374961853, 0.4099999964237213]"
      ]
     },
     "execution_count": 51,
     "metadata": {},
     "output_type": "execute_result"
    },
    {
     "data": {
      "image/png": "[encoded data removed]",
      "text/plain": [
       "<Figure size 640x480 with 1 Axes>"
      ]
     },
     "metadata": {},
     "output_type": "display_data"
    },
    {
     "data": {
      "image/png": "[encoded data removed]",
      "text/plain": [
       "<Figure size 640x480 with 1 Axes>"
      ]
     },
     "metadata": {},
     "output_type": "display_data"
    }
   ],
   "source": [
    "loss_acc_curve(history11)\n",
    "model11.evaluate(sj_test,sj_test_label) #其实该函数第一个返回值是损失（loss)，第二个返回值是准确率(acc)"
   ]
  },
  {
   "cell_type": "markdown",
   "id": "10d815e7",
   "metadata": {
    "papermill": {
     "duration": 0.794171,
     "end_time": "2022-10-21T01:46:17.165321",
     "exception": false,
     "start_time": "2022-10-21T01:46:16.371150",
     "status": "completed"
    },
    "tags": []
   },
   "source": [
    "### 太多的降低参数个数，模型过拟合会降低，但是对应的是模型准确率的震荡和下降"
   ]
  },
  {
   "cell_type": "code",
   "execution_count": 52,
   "id": "48161a0a",
   "metadata": {
    "execution": {
     "iopub.execute_input": "2022-10-21T01:46:18.636484Z",
     "iopub.status.busy": "2022-10-21T01:46:18.635985Z",
     "iopub.status.idle": "2022-10-21T01:48:25.173783Z",
     "shell.execute_reply": "2022-10-21T01:48:25.172698Z"
    },
    "papermill": {
     "duration": 127.315596,
     "end_time": "2022-10-21T01:48:25.176573",
     "exception": false,
     "start_time": "2022-10-21T01:46:17.860977",
     "status": "completed"
    },
    "tags": []
   },
   "outputs": [
    {
     "name": "stdout",
     "output_type": "stream",
     "text": [
      "Model: \"sequential_12\"\n",
      "_________________________________________________________________\n",
      " Layer (type)                Output Shape              Param #   \n",
      "=================================================================\n",
      " conv2d_24 (Conv2D)          (None, 32, 32, 8)         608       \n",
      "                                                                 \n",
      " max_pooling2d_24 (MaxPoolin  (None, 16, 16, 8)        0         \n",
      " g2D)                                                            \n",
      "                                                                 \n",
      " dropout_4 (Dropout)         (None, 16, 16, 8)         0         \n",
      "                                                                 \n",
      " conv2d_25 (Conv2D)          (None, 16, 16, 16)        3216      \n",
      "                                                                 \n",
      " max_pooling2d_25 (MaxPoolin  (None, 8, 8, 16)         0         \n",
      " g2D)                                                            \n",
      "                                                                 \n",
      " dropout_5 (Dropout)         (None, 8, 8, 16)          0         \n",
      "                                                                 \n",
      " flatten_12 (Flatten)        (None, 1024)              0         \n",
      "                                                                 \n",
      " dense_12 (Dense)            (None, 10)                10250     \n",
      "                                                                 \n",
      "=================================================================\n",
      "Total params: 14,074\n",
      "Trainable params: 14,074\n",
      "Non-trainable params: 0\n",
      "_________________________________________________________________\n",
      "Epoch 1/35\n",
      "600/600 [==============================] - 2s 3ms/step - loss: 2.2240 - accuracy: 0.1696 - val_loss: 2.1922 - val_accuracy: 0.1867\n",
      "Epoch 2/35\n",
      "600/600 [==============================] - 2s 3ms/step - loss: 1.9318 - accuracy: 0.3058 - val_loss: 1.9447 - val_accuracy: 0.2767\n",
      "Epoch 3/35\n",
      "600/600 [==============================] - 2s 3ms/step - loss: 1.7559 - accuracy: 0.3663 - val_loss: 1.9336 - val_accuracy: 0.2933\n",
      "Epoch 4/35\n",
      "600/600 [==============================] - 2s 3ms/step - loss: 1.6308 - accuracy: 0.3979 - val_loss: 1.6903 - val_accuracy: 0.3667\n",
      "Epoch 5/35\n",
      "600/600 [==============================] - 2s 3ms/step - loss: 1.5578 - accuracy: 0.4496 - val_loss: 1.6916 - val_accuracy: 0.4000\n",
      "Epoch 6/35\n",
      "600/600 [==============================] - 2s 3ms/step - loss: 1.4714 - accuracy: 0.4638 - val_loss: 1.7131 - val_accuracy: 0.3600\n",
      "Epoch 7/35\n",
      "600/600 [==============================] - 2s 3ms/step - loss: 1.4058 - accuracy: 0.4988 - val_loss: 1.6377 - val_accuracy: 0.4067\n",
      "Epoch 8/35\n",
      "600/600 [==============================] - 2s 3ms/step - loss: 1.3612 - accuracy: 0.5117 - val_loss: 1.5912 - val_accuracy: 0.4467\n",
      "Epoch 9/35\n",
      "600/600 [==============================] - 2s 3ms/step - loss: 1.2912 - accuracy: 0.5454 - val_loss: 1.6068 - val_accuracy: 0.4467\n",
      "Epoch 10/35\n",
      "600/600 [==============================] - 2s 3ms/step - loss: 1.2527 - accuracy: 0.5400 - val_loss: 1.5682 - val_accuracy: 0.4433\n",
      "Epoch 11/35\n",
      "600/600 [==============================] - 2s 3ms/step - loss: 1.1956 - accuracy: 0.5804 - val_loss: 1.6008 - val_accuracy: 0.4400\n",
      "Epoch 12/35\n",
      "600/600 [==============================] - 2s 3ms/step - loss: 1.1589 - accuracy: 0.5875 - val_loss: 1.5967 - val_accuracy: 0.4333\n",
      "Epoch 13/35\n",
      "600/600 [==============================] - 2s 3ms/step - loss: 1.1044 - accuracy: 0.6096 - val_loss: 1.5440 - val_accuracy: 0.4533\n",
      "Epoch 14/35\n",
      "600/600 [==============================] - 2s 3ms/step - loss: 1.0584 - accuracy: 0.6237 - val_loss: 1.5874 - val_accuracy: 0.4767\n",
      "Epoch 15/35\n",
      "600/600 [==============================] - 2s 3ms/step - loss: 1.0510 - accuracy: 0.6250 - val_loss: 1.6347 - val_accuracy: 0.4400\n",
      "Epoch 16/35\n",
      "600/600 [==============================] - 2s 3ms/step - loss: 1.0023 - accuracy: 0.6375 - val_loss: 1.6417 - val_accuracy: 0.4500\n",
      "Epoch 17/35\n",
      "600/600 [==============================] - 2s 3ms/step - loss: 0.9969 - accuracy: 0.6379 - val_loss: 1.6639 - val_accuracy: 0.4400\n",
      "Epoch 18/35\n",
      "600/600 [==============================] - 2s 3ms/step - loss: 0.9448 - accuracy: 0.6592 - val_loss: 1.5669 - val_accuracy: 0.5067\n",
      "Epoch 19/35\n",
      "600/600 [==============================] - 2s 3ms/step - loss: 0.9404 - accuracy: 0.6733 - val_loss: 1.6665 - val_accuracy: 0.4433\n",
      "Epoch 20/35\n",
      "600/600 [==============================] - 2s 3ms/step - loss: 0.9077 - accuracy: 0.6658 - val_loss: 1.6821 - val_accuracy: 0.4667\n",
      "Epoch 21/35\n",
      "600/600 [==============================] - 2s 3ms/step - loss: 0.8462 - accuracy: 0.6971 - val_loss: 1.6564 - val_accuracy: 0.4333\n",
      "Epoch 22/35\n",
      "600/600 [==============================] - 2s 3ms/step - loss: 0.8763 - accuracy: 0.6850 - val_loss: 1.6406 - val_accuracy: 0.4600\n",
      "Epoch 23/35\n",
      "600/600 [==============================] - 2s 3ms/step - loss: 0.8079 - accuracy: 0.7058 - val_loss: 1.6844 - val_accuracy: 0.4500\n",
      "Epoch 24/35\n",
      "600/600 [==============================] - 2s 3ms/step - loss: 0.7658 - accuracy: 0.7287 - val_loss: 1.7380 - val_accuracy: 0.4433\n",
      "Epoch 25/35\n",
      "600/600 [==============================] - 2s 3ms/step - loss: 0.7885 - accuracy: 0.7158 - val_loss: 1.7040 - val_accuracy: 0.4400\n",
      "Epoch 26/35\n",
      "600/600 [==============================] - 2s 3ms/step - loss: 0.7652 - accuracy: 0.7275 - val_loss: 1.8153 - val_accuracy: 0.4133\n",
      "Epoch 27/35\n",
      "600/600 [==============================] - 2s 3ms/step - loss: 0.7585 - accuracy: 0.7179 - val_loss: 1.8160 - val_accuracy: 0.4300\n",
      "Epoch 28/35\n",
      "600/600 [==============================] - 2s 4ms/step - loss: 0.7401 - accuracy: 0.7337 - val_loss: 1.7876 - val_accuracy: 0.4067\n",
      "Epoch 29/35\n",
      "600/600 [==============================] - 2s 4ms/step - loss: 0.7001 - accuracy: 0.7433 - val_loss: 1.7783 - val_accuracy: 0.4200\n",
      "Epoch 30/35\n",
      "600/600 [==============================] - 2s 3ms/step - loss: 0.7146 - accuracy: 0.7433 - val_loss: 1.8006 - val_accuracy: 0.4100\n",
      "Epoch 31/35\n",
      "600/600 [==============================] - 2s 3ms/step - loss: 0.6957 - accuracy: 0.7513 - val_loss: 1.8313 - val_accuracy: 0.4267\n",
      "Epoch 32/35\n",
      "600/600 [==============================] - 2s 3ms/step - loss: 0.7119 - accuracy: 0.7475 - val_loss: 1.8634 - val_accuracy: 0.4133\n",
      "Epoch 33/35\n",
      "600/600 [==============================] - 2s 3ms/step - loss: 0.6935 - accuracy: 0.7383 - val_loss: 1.8533 - val_accuracy: 0.4400\n",
      "Epoch 34/35\n",
      "600/600 [==============================] - 2s 3ms/step - loss: 0.6843 - accuracy: 0.7487 - val_loss: 1.9025 - val_accuracy: 0.4300\n",
      "Epoch 35/35\n",
      "600/600 [==============================] - 2s 3ms/step - loss: 0.6417 - accuracy: 0.7658 - val_loss: 1.8887 - val_accuracy: 0.4267\n"
     ]
    }
   ],
   "source": [
    "#两个Dropout函数\n",
    "model12 = Sequential()\n",
    "model12.add(Conv2D(8, kernel_size=(5,5),activation='relu',padding='same', input_shape=input_shape))\n",
    "model12.add(MaxPooling2D(pool_size=(2,2), strides=2))\n",
    "model12.add(Dropout(0.2))\n",
    "model12.add(Conv2D(16,kernel_size=(5,5),activation='relu',padding='same'))\n",
    "model12.add(MaxPooling2D(pool_size=(2,2), strides=2))\n",
    "model12.add(Dropout(0.2))\n",
    "model12.add(Flatten())\n",
    "model12.add(Dense(units=10,activation='softmax'))\n",
    "model12.summary()\n",
    "#优化器改为ADAM\n",
    "model12.compile(loss = 'categorical_crossentropy', optimizer = optimizers.Adam(),metrics = ['accuracy'])  \n",
    "history12 = model12.fit(sj_train,sj_train_label,validation_data=(sj_val,sj_val_label),batch_size=4,epochs=35,verbose=1)"
   ]
  },
  {
   "cell_type": "code",
   "execution_count": 53,
   "id": "2bff90e3",
   "metadata": {
    "execution": {
     "iopub.execute_input": "2022-10-21T01:48:27.020855Z",
     "iopub.status.busy": "2022-10-21T01:48:27.020448Z",
     "iopub.status.idle": "2022-10-21T01:48:28.020100Z",
     "shell.execute_reply": "2022-10-21T01:48:28.018662Z"
    },
    "papermill": {
     "duration": 1.91341,
     "end_time": "2022-10-21T01:48:28.023440",
     "exception": false,
     "start_time": "2022-10-21T01:48:26.110030",
     "status": "completed"
    },
    "tags": []
   },
   "outputs": [
    {
     "name": "stdout",
     "output_type": "stream",
     "text": [
      "dict_keys(['loss', 'accuracy', 'val_loss', 'val_accuracy'])\n",
      "10/10 [==============================] - 0s 3ms/step - loss: 1.9517 - accuracy: 0.4433\n"
     ]
    },
    {
     "data": {
      "text/plain": [
       "[1.9516812562942505, 0.44333332777023315]"
      ]
     },
     "execution_count": 53,
     "metadata": {},
     "output_type": "execute_result"
    },
    {
     "data": {
      "image/png": "[encoded data removed]",
      "text/plain": [
       "<Figure size 640x480 with 1 Axes>"
      ]
     },
     "metadata": {},
     "output_type": "display_data"
    },
    {
     "data": {
      "image/png": "[encoded data removed]",
      "text/plain": [
       "<Figure size 640x480 with 1 Axes>"
      ]
     },
     "metadata": {},
     "output_type": "display_data"
    }
   ],
   "source": [
    "loss_acc_curve(history12)\n",
    "model12.evaluate(sj_test,sj_test_label) #其实该函数第一个返回值是损失（loss)，第二个返回值是准确率(acc)"
   ]
  },
  {
   "cell_type": "markdown",
   "id": "c61f5389",
   "metadata": {
    "papermill": {
     "duration": 0.850595,
     "end_time": "2022-10-21T01:48:29.856063",
     "exception": false,
     "start_time": "2022-10-21T01:48:29.005468",
     "status": "completed"
    },
    "tags": []
   },
   "source": [
    "### 总结：第一个卷积添加L1正则，在之后添加dropout，是当前环境下，准确率和抑制过拟合比较合适的选择。\n",
    "### 扩增数据集能减轻过拟合现象,表现为验证集和训练集的曲线更为接近，我们利用缩减函数得到我们想要的3000个数据集，然后利用分割函数分为训练/测试/验证三个集合\n",
    "### suojian_x_images_images,suojian_y_onehot = suojian(x_images_images,y_onehot, 300)  #x_test_images,y_test #### \n",
    "### suojian(x_test_images,y_test, 5)\n",
    "### print('suojian totol images is :',suojian_x_images_images.shape)\n",
    "### print('suojian totol labels size is :',suojian_y_onehot.shape)"
   ]
  },
  {
   "cell_type": "code",
   "execution_count": 54,
   "id": "7a321e49",
   "metadata": {
    "execution": {
     "iopub.execute_input": "2022-10-21T01:48:31.661163Z",
     "iopub.status.busy": "2022-10-21T01:48:31.660681Z",
     "iopub.status.idle": "2022-10-21T01:48:31.893529Z",
     "shell.execute_reply": "2022-10-21T01:48:31.891375Z"
    },
    "papermill": {
     "duration": 1.099401,
     "end_time": "2022-10-21T01:48:31.896334",
     "exception": false,
     "start_time": "2022-10-21T01:48:30.796933",
     "status": "completed"
    },
    "tags": []
   },
   "outputs": [
    {
     "name": "stdout",
     "output_type": "stream",
     "text": [
      "54000\n",
      "suojian totol images is : (6000, 32, 32, 3)\n",
      "suojian totol labels size is : (6000, 10)\n"
     ]
    }
   ],
   "source": [
    "suojian_x_images_images_v2,suojian_y_onehot_v2 = suojian(x_images_images,y_onehot, 600)  #x_test_images,y_test #suojian(x_test_images,y_test, 5)\n",
    "print('suojian totol images is :',suojian_x_images_images_v2.shape)\n",
    "print('suojian totol labels size is :',suojian_y_onehot_v2.shape)"
   ]
  },
  {
   "cell_type": "code",
   "execution_count": 55,
   "id": "6f3017af",
   "metadata": {
    "execution": {
     "iopub.execute_input": "2022-10-21T01:48:33.650916Z",
     "iopub.status.busy": "2022-10-21T01:48:33.650534Z",
     "iopub.status.idle": "2022-10-21T01:48:33.657535Z",
     "shell.execute_reply": "2022-10-21T01:48:33.656539Z"
    },
    "papermill": {
     "duration": 0.853914,
     "end_time": "2022-10-21T01:48:33.661012",
     "exception": false,
     "start_time": "2022-10-21T01:48:32.807098",
     "status": "completed"
    },
    "tags": []
   },
   "outputs": [
    {
     "name": "stdout",
     "output_type": "stream",
     "text": [
      "suojian train images is : (4800, 32, 32, 3)\n",
      "suojian train labels size is : (4800, 10)\n",
      "suojian val images is : (600, 32, 32, 3)\n",
      "suojian val labels size is : (600, 10)\n",
      "suojian test images is : (600, 32, 32, 3)\n",
      "suojian test labels size is : (600, 10)\n"
     ]
    }
   ],
   "source": [
    "(sj_train_2,sj_train_label_2,sj_val_2,sj_val_label_2,sj_test_2,sj_test_label_2) = train_val_test(suojian_x_images_images_v2,suojian_y_onehot_v2,0.1)\n",
    "print('suojian train images is :',sj_train_2.shape)\n",
    "print('suojian train labels size is :',sj_train_label_2.shape)\n",
    "print('suojian val images is :',sj_val_2.shape)\n",
    "print('suojian val labels size is :',sj_val_label_2.shape)\n",
    "print('suojian test images is :',sj_test_2.shape)\n",
    "print('suojian test labels size is :',sj_test_label_2.shape)"
   ]
  },
  {
   "cell_type": "code",
   "execution_count": 56,
   "id": "3449c55f",
   "metadata": {
    "execution": {
     "iopub.execute_input": "2022-10-21T01:48:35.555350Z",
     "iopub.status.busy": "2022-10-21T01:48:35.554854Z",
     "iopub.status.idle": "2022-10-21T01:53:14.914379Z",
     "shell.execute_reply": "2022-10-21T01:53:14.912692Z"
    },
    "papermill": {
     "duration": 280.323613,
     "end_time": "2022-10-21T01:53:14.917972",
     "exception": false,
     "start_time": "2022-10-21T01:48:34.594359",
     "status": "completed"
    },
    "tags": []
   },
   "outputs": [
    {
     "name": "stdout",
     "output_type": "stream",
     "text": [
      "Model: \"sequential_13\"\n",
      "_________________________________________________________________\n",
      " Layer (type)                Output Shape              Param #   \n",
      "=================================================================\n",
      " conv2d_26 (Conv2D)          (None, 32, 32, 8)         608       \n",
      "                                                                 \n",
      " max_pooling2d_26 (MaxPoolin  (None, 16, 16, 8)        0         \n",
      " g2D)                                                            \n",
      "                                                                 \n",
      " conv2d_27 (Conv2D)          (None, 16, 16, 16)        3216      \n",
      "                                                                 \n",
      " max_pooling2d_27 (MaxPoolin  (None, 8, 8, 16)         0         \n",
      " g2D)                                                            \n",
      "                                                                 \n",
      " dropout_6 (Dropout)         (None, 8, 8, 16)          0         \n",
      "                                                                 \n",
      " flatten_13 (Flatten)        (None, 1024)              0         \n",
      "                                                                 \n",
      " dense_13 (Dense)            (None, 10)                10250     \n",
      "                                                                 \n",
      "=================================================================\n",
      "Total params: 14,074\n",
      "Trainable params: 14,074\n",
      "Non-trainable params: 0\n",
      "_________________________________________________________________\n",
      "Epoch 1/40\n",
      "1200/1200 [==============================] - 4s 3ms/step - loss: 2.1729 - accuracy: 0.2694 - val_loss: 1.8656 - val_accuracy: 0.3550\n",
      "Epoch 2/40\n",
      "1200/1200 [==============================] - 4s 3ms/step - loss: 1.8224 - accuracy: 0.3871 - val_loss: 1.8136 - val_accuracy: 0.4033\n",
      "Epoch 3/40\n",
      "1200/1200 [==============================] - 4s 3ms/step - loss: 1.7011 - accuracy: 0.4283 - val_loss: 1.6631 - val_accuracy: 0.4450\n",
      "Epoch 4/40\n",
      "1200/1200 [==============================] - 4s 3ms/step - loss: 1.6211 - accuracy: 0.4535 - val_loss: 1.6274 - val_accuracy: 0.4583\n",
      "Epoch 5/40\n",
      "1200/1200 [==============================] - 3s 3ms/step - loss: 1.5670 - accuracy: 0.4742 - val_loss: 1.6533 - val_accuracy: 0.4400\n",
      "Epoch 6/40\n",
      "1200/1200 [==============================] - 4s 3ms/step - loss: 1.5350 - accuracy: 0.4760 - val_loss: 1.5856 - val_accuracy: 0.4583\n",
      "Epoch 7/40\n",
      "1200/1200 [==============================] - 4s 3ms/step - loss: 1.4899 - accuracy: 0.4917 - val_loss: 1.6522 - val_accuracy: 0.4283\n",
      "Epoch 8/40\n",
      "1200/1200 [==============================] - 3s 3ms/step - loss: 1.4513 - accuracy: 0.5102 - val_loss: 1.6150 - val_accuracy: 0.4700\n",
      "Epoch 9/40\n",
      "1200/1200 [==============================] - 3s 3ms/step - loss: 1.4257 - accuracy: 0.5154 - val_loss: 1.5987 - val_accuracy: 0.4617\n",
      "Epoch 10/40\n",
      "1200/1200 [==============================] - 4s 3ms/step - loss: 1.3885 - accuracy: 0.5306 - val_loss: 1.5730 - val_accuracy: 0.4700\n",
      "Epoch 11/40\n",
      "1200/1200 [==============================] - 3s 3ms/step - loss: 1.3559 - accuracy: 0.5598 - val_loss: 1.5626 - val_accuracy: 0.4967\n",
      "Epoch 12/40\n",
      "1200/1200 [==============================] - 4s 3ms/step - loss: 1.3419 - accuracy: 0.5498 - val_loss: 1.5604 - val_accuracy: 0.4717\n",
      "Epoch 13/40\n",
      "1200/1200 [==============================] - 4s 3ms/step - loss: 1.3119 - accuracy: 0.5702 - val_loss: 1.7258 - val_accuracy: 0.4650\n",
      "Epoch 14/40\n",
      "1200/1200 [==============================] - 4s 3ms/step - loss: 1.2994 - accuracy: 0.5740 - val_loss: 1.6039 - val_accuracy: 0.4900\n",
      "Epoch 15/40\n",
      "1200/1200 [==============================] - 4s 3ms/step - loss: 1.2780 - accuracy: 0.5873 - val_loss: 1.5119 - val_accuracy: 0.4833\n",
      "Epoch 16/40\n",
      "1200/1200 [==============================] - 4s 3ms/step - loss: 1.2548 - accuracy: 0.5888 - val_loss: 1.5429 - val_accuracy: 0.4717\n",
      "Epoch 17/40\n",
      "1200/1200 [==============================] - 4s 3ms/step - loss: 1.2311 - accuracy: 0.5975 - val_loss: 1.5250 - val_accuracy: 0.4983\n",
      "Epoch 18/40\n",
      "1200/1200 [==============================] - 3s 3ms/step - loss: 1.2085 - accuracy: 0.6029 - val_loss: 1.6742 - val_accuracy: 0.4633\n",
      "Epoch 19/40\n",
      "1200/1200 [==============================] - 4s 3ms/step - loss: 1.1826 - accuracy: 0.6140 - val_loss: 1.6957 - val_accuracy: 0.4750\n",
      "Epoch 20/40\n",
      "1200/1200 [==============================] - 4s 3ms/step - loss: 1.1829 - accuracy: 0.6071 - val_loss: 1.6581 - val_accuracy: 0.4750\n",
      "Epoch 21/40\n",
      "1200/1200 [==============================] - 4s 3ms/step - loss: 1.1660 - accuracy: 0.6198 - val_loss: 1.6126 - val_accuracy: 0.4867\n",
      "Epoch 22/40\n",
      "1200/1200 [==============================] - 4s 3ms/step - loss: 1.1490 - accuracy: 0.6292 - val_loss: 1.6123 - val_accuracy: 0.4717\n",
      "Epoch 23/40\n",
      "1200/1200 [==============================] - 4s 3ms/step - loss: 1.1337 - accuracy: 0.6302 - val_loss: 1.5494 - val_accuracy: 0.4933\n",
      "Epoch 24/40\n",
      "1200/1200 [==============================] - 4s 3ms/step - loss: 1.1298 - accuracy: 0.6265 - val_loss: 1.5628 - val_accuracy: 0.5100\n",
      "Epoch 25/40\n",
      "1200/1200 [==============================] - 4s 3ms/step - loss: 1.1202 - accuracy: 0.6394 - val_loss: 1.5692 - val_accuracy: 0.5067\n",
      "Epoch 26/40\n",
      "1200/1200 [==============================] - 4s 3ms/step - loss: 1.1187 - accuracy: 0.6331 - val_loss: 1.5920 - val_accuracy: 0.5133\n",
      "Epoch 27/40\n",
      "1200/1200 [==============================] - 4s 3ms/step - loss: 1.1055 - accuracy: 0.6435 - val_loss: 1.5597 - val_accuracy: 0.5150\n",
      "Epoch 28/40\n",
      "1200/1200 [==============================] - 4s 3ms/step - loss: 1.0896 - accuracy: 0.6433 - val_loss: 1.5853 - val_accuracy: 0.5167\n",
      "Epoch 29/40\n",
      "1200/1200 [==============================] - 4s 3ms/step - loss: 1.0853 - accuracy: 0.6515 - val_loss: 1.5665 - val_accuracy: 0.5083\n",
      "Epoch 30/40\n",
      "1200/1200 [==============================] - 4s 3ms/step - loss: 1.0723 - accuracy: 0.6463 - val_loss: 1.6292 - val_accuracy: 0.4950\n",
      "Epoch 31/40\n",
      "1200/1200 [==============================] - 4s 3ms/step - loss: 1.0608 - accuracy: 0.6565 - val_loss: 1.6023 - val_accuracy: 0.5083\n",
      "Epoch 32/40\n",
      "1200/1200 [==============================] - 4s 3ms/step - loss: 1.0464 - accuracy: 0.6527 - val_loss: 1.6144 - val_accuracy: 0.4983\n",
      "Epoch 33/40\n",
      "1200/1200 [==============================] - 4s 3ms/step - loss: 1.0498 - accuracy: 0.6546 - val_loss: 1.6957 - val_accuracy: 0.4900\n",
      "Epoch 34/40\n",
      "1200/1200 [==============================] - 4s 3ms/step - loss: 1.0384 - accuracy: 0.6667 - val_loss: 1.7495 - val_accuracy: 0.4633\n",
      "Epoch 35/40\n",
      "1200/1200 [==============================] - 4s 3ms/step - loss: 1.0185 - accuracy: 0.6779 - val_loss: 1.6389 - val_accuracy: 0.5000\n",
      "Epoch 36/40\n",
      "1200/1200 [==============================] - 4s 3ms/step - loss: 1.0259 - accuracy: 0.6781 - val_loss: 1.6396 - val_accuracy: 0.5017\n",
      "Epoch 37/40\n",
      "1200/1200 [==============================] - 4s 3ms/step - loss: 1.0183 - accuracy: 0.6758 - val_loss: 1.6350 - val_accuracy: 0.5267\n",
      "Epoch 38/40\n",
      "1200/1200 [==============================] - 4s 3ms/step - loss: 1.0044 - accuracy: 0.6762 - val_loss: 1.6538 - val_accuracy: 0.5117\n",
      "Epoch 39/40\n",
      "1200/1200 [==============================] - 4s 3ms/step - loss: 1.0167 - accuracy: 0.6787 - val_loss: 1.7088 - val_accuracy: 0.5000\n",
      "Epoch 40/40\n",
      "1200/1200 [==============================] - 4s 3ms/step - loss: 0.9867 - accuracy: 0.6888 - val_loss: 1.6590 - val_accuracy: 0.5250\n"
     ]
    }
   ],
   "source": [
    "model13 = Sequential()\n",
    "model13.add(Conv2D(8, kernel_size=(5,5),activation='relu',kernel_regularizer = tf.keras.regularizers.L1(),padding='same', input_shape=input_shape))\n",
    "model13.add(MaxPooling2D(pool_size=(2,2), strides=2))\n",
    "#model13.add(Dropout(0.2))\n",
    "model13.add(Conv2D(16,kernel_size=(5,5),activation='relu',padding='same'))\n",
    "model13.add(MaxPooling2D(pool_size=(2,2), strides=2))\n",
    "model13.add(Dropout(0.2))\n",
    "model13.add(Flatten())\n",
    "model13.add(Dense(units=10,activation='softmax'))\n",
    "model13.summary()\n",
    "#优化器改为ADAM\n",
    "model13.compile(loss = 'categorical_crossentropy', optimizer = optimizers.Adam(),metrics = ['accuracy'])  \n",
    "history13 = model13.fit(sj_train_2,sj_train_label_2,validation_data=(sj_val_2,sj_val_label_2),batch_size=4,epochs=40,verbose=1)"
   ]
  },
  {
   "cell_type": "code",
   "execution_count": 57,
   "id": "f47ccfdf",
   "metadata": {
    "execution": {
     "iopub.execute_input": "2022-10-21T01:53:17.352537Z",
     "iopub.status.busy": "2022-10-21T01:53:17.351840Z",
     "iopub.status.idle": "2022-10-21T01:53:18.205947Z",
     "shell.execute_reply": "2022-10-21T01:53:18.204755Z"
    },
    "papermill": {
     "duration": 2.014212,
     "end_time": "2022-10-21T01:53:18.208597",
     "exception": false,
     "start_time": "2022-10-21T01:53:16.194385",
     "status": "completed"
    },
    "tags": []
   },
   "outputs": [
    {
     "name": "stdout",
     "output_type": "stream",
     "text": [
      "dict_keys(['loss', 'accuracy', 'val_loss', 'val_accuracy'])\n",
      "19/19 [==============================] - 0s 3ms/step - loss: 1.6137 - accuracy: 0.5383\n"
     ]
    },
    {
     "data": {
      "text/plain": [
       "[1.6136555671691895, 0.5383333563804626]"
      ]
     },
     "execution_count": 57,
     "metadata": {},
     "output_type": "execute_result"
    },
    {
     "data": {
      "image/png": "[encoded data removed]",
      "text/plain": [
       "<Figure size 640x480 with 1 Axes>"
      ]
     },
     "metadata": {},
     "output_type": "display_data"
    },
    {
     "data": {
      "image/png": "[encoded data removed]",
      "text/plain": [
       "<Figure size 640x480 with 1 Axes>"
      ]
     },
     "metadata": {},
     "output_type": "display_data"
    }
   ],
   "source": [
    "loss_acc_curve(history13)\n",
    "model13.evaluate(sj_test_2,sj_test_label_2) #其实该函数第一个返回值是损失（loss)，第二个返回值是准确率(acc)"
   ]
  },
  {
   "cell_type": "markdown",
   "id": "fab223bb",
   "metadata": {
    "papermill": {
     "duration": 1.236285,
     "end_time": "2022-10-21T01:53:20.663419",
     "exception": false,
     "start_time": "2022-10-21T01:53:19.427134",
     "status": "completed"
    },
    "tags": []
   },
   "source": [
    "### 总结，1）增加数据集，可以把在模型优化基础上,减轻过拟合现象，让模型准确率有轻微的提升。\n",
    "###   2）同时我们应该意识到，我们epoch=40并不是模型最佳点，也就是说训练到40次的时候，模型性能并不太好，看上图，也许在epoch=15左右的时候也许最佳。"
   ]
  },
  {
   "cell_type": "markdown",
   "id": "97e32db6",
   "metadata": {
    "papermill": {
     "duration": 1.158137,
     "end_time": "2022-10-21T01:53:23.043089",
     "exception": false,
     "start_time": "2022-10-21T01:53:21.884952",
     "status": "completed"
    },
    "tags": []
   },
   "source": [
    "### 4)简单化模型,过拟合现象可以降低"
   ]
  },
  {
   "cell_type": "code",
   "execution_count": 58,
   "id": "75ed65a5",
   "metadata": {
    "execution": {
     "iopub.execute_input": "2022-10-21T01:53:25.545022Z",
     "iopub.status.busy": "2022-10-21T01:53:25.544613Z",
     "iopub.status.idle": "2022-10-21T01:55:33.957124Z",
     "shell.execute_reply": "2022-10-21T01:55:33.955916Z"
    },
    "papermill": {
     "duration": 130.28934,
     "end_time": "2022-10-21T01:55:34.574753",
     "exception": false,
     "start_time": "2022-10-21T01:53:24.285413",
     "status": "completed"
    },
    "tags": []
   },
   "outputs": [
    {
     "name": "stdout",
     "output_type": "stream",
     "text": [
      "Model: \"sequential_14\"\n",
      "_________________________________________________________________\n",
      " Layer (type)                Output Shape              Param #   \n",
      "=================================================================\n",
      " conv2d_28 (Conv2D)          (None, 32, 32, 8)         224       \n",
      "                                                                 \n",
      " max_pooling2d_28 (MaxPoolin  (None, 16, 16, 8)        0         \n",
      " g2D)                                                            \n",
      "                                                                 \n",
      " conv2d_29 (Conv2D)          (None, 16, 16, 16)        1168      \n",
      "                                                                 \n",
      " max_pooling2d_29 (MaxPoolin  (None, 8, 8, 16)         0         \n",
      " g2D)                                                            \n",
      "                                                                 \n",
      " flatten_14 (Flatten)        (None, 1024)              0         \n",
      "                                                                 \n",
      " dense_14 (Dense)            (None, 10)                10250     \n",
      "                                                                 \n",
      "=================================================================\n",
      "Total params: 11,642\n",
      "Trainable params: 11,642\n",
      "Non-trainable params: 0\n",
      "_________________________________________________________________\n",
      "Epoch 1/20\n",
      "1200/1200 [==============================] - 3s 2ms/step - loss: 2.0919 - accuracy: 0.3027 - val_loss: 1.8889 - val_accuracy: 0.3967\n",
      "Epoch 2/20\n",
      "1200/1200 [==============================] - 3s 2ms/step - loss: 1.7690 - accuracy: 0.4219 - val_loss: 1.8893 - val_accuracy: 0.4200\n",
      "Epoch 3/20\n",
      "1200/1200 [==============================] - 3s 2ms/step - loss: 1.6209 - accuracy: 0.4744 - val_loss: 1.6209 - val_accuracy: 0.4600\n",
      "Epoch 4/20\n",
      "1200/1200 [==============================] - 3s 2ms/step - loss: 1.5261 - accuracy: 0.5085 - val_loss: 1.6507 - val_accuracy: 0.4667\n",
      "Epoch 5/20\n",
      "1200/1200 [==============================] - 3s 2ms/step - loss: 1.4434 - accuracy: 0.5385 - val_loss: 1.5590 - val_accuracy: 0.4633\n",
      "Epoch 6/20\n",
      "1200/1200 [==============================] - 3s 2ms/step - loss: 1.3844 - accuracy: 0.5544 - val_loss: 1.5299 - val_accuracy: 0.4850\n",
      "Epoch 7/20\n",
      "1200/1200 [==============================] - 3s 2ms/step - loss: 1.3276 - accuracy: 0.5746 - val_loss: 1.5516 - val_accuracy: 0.5050\n",
      "Epoch 8/20\n",
      "1200/1200 [==============================] - 3s 2ms/step - loss: 1.2810 - accuracy: 0.5942 - val_loss: 1.5343 - val_accuracy: 0.4933\n",
      "Epoch 9/20\n",
      "1200/1200 [==============================] - 3s 2ms/step - loss: 1.2417 - accuracy: 0.6052 - val_loss: 1.4955 - val_accuracy: 0.5083\n",
      "Epoch 10/20\n",
      "1200/1200 [==============================] - 3s 2ms/step - loss: 1.2043 - accuracy: 0.6215 - val_loss: 1.5480 - val_accuracy: 0.4767\n",
      "Epoch 11/20\n",
      "1200/1200 [==============================] - 3s 2ms/step - loss: 1.1627 - accuracy: 0.6369 - val_loss: 1.5140 - val_accuracy: 0.5000\n",
      "Epoch 12/20\n",
      "1200/1200 [==============================] - 3s 2ms/step - loss: 1.1242 - accuracy: 0.6579 - val_loss: 1.5557 - val_accuracy: 0.5150\n",
      "Epoch 13/20\n",
      "1200/1200 [==============================] - 3s 2ms/step - loss: 1.0891 - accuracy: 0.6637 - val_loss: 1.5678 - val_accuracy: 0.5100\n",
      "Epoch 14/20\n",
      "1200/1200 [==============================] - 3s 2ms/step - loss: 1.0644 - accuracy: 0.6727 - val_loss: 1.5343 - val_accuracy: 0.5150\n",
      "Epoch 15/20\n",
      "1200/1200 [==============================] - 3s 2ms/step - loss: 1.0241 - accuracy: 0.6819 - val_loss: 1.6100 - val_accuracy: 0.5017\n",
      "Epoch 16/20\n",
      "1200/1200 [==============================] - 3s 2ms/step - loss: 0.9935 - accuracy: 0.6915 - val_loss: 1.5438 - val_accuracy: 0.5033\n",
      "Epoch 17/20\n",
      "1200/1200 [==============================] - 3s 2ms/step - loss: 0.9690 - accuracy: 0.7123 - val_loss: 1.5722 - val_accuracy: 0.5233\n",
      "Epoch 18/20\n",
      "1200/1200 [==============================] - 3s 2ms/step - loss: 0.9292 - accuracy: 0.7200 - val_loss: 1.5861 - val_accuracy: 0.5050\n",
      "Epoch 19/20\n",
      "1200/1200 [==============================] - 3s 2ms/step - loss: 0.9129 - accuracy: 0.7265 - val_loss: 1.6529 - val_accuracy: 0.5017\n",
      "Epoch 20/20\n",
      "1200/1200 [==============================] - 3s 2ms/step - loss: 0.8867 - accuracy: 0.7400 - val_loss: 1.6542 - val_accuracy: 0.5400\n"
     ]
    }
   ],
   "source": [
    "#减少卷积核个数,缩小卷积核尺寸,减少模型复杂度,可以缓解过拟合现象,提高准确率\n",
    "#卷积核个数是提取特征,因此缩小尺寸比直接减少卷积核个数要更为合适一些,但是也需要实验才能根据自己的数据情况来决定\n",
    "model14 = Sequential()\n",
    "model14.add(Conv2D(8, kernel_size=(3,3),activation='relu',kernel_regularizer = tf.keras.regularizers.L1(),padding='same', input_shape=input_shape))\n",
    "model14.add(MaxPooling2D(pool_size=(2,2), strides=2))\n",
    "#model14.add(Dropout(0.2))\n",
    "model14.add(Conv2D(16,kernel_size=(3,3),activation='relu',padding='same'))\n",
    "model14.add(MaxPooling2D(pool_size=(2,2), strides=2))\n",
    "model13.add(Dropout(0.2))\n",
    "model14.add(Flatten())\n",
    "model14.add(Dense(units=10,activation='softmax'))\n",
    "model14.summary()\n",
    "#优化器改为ADAM\n",
    "model14.compile(loss = 'categorical_crossentropy', optimizer = optimizers.Adam(),metrics = ['accuracy'])  \n",
    "history14 = model14.fit(sj_train_2,sj_train_label_2,validation_data=(sj_val_2,sj_val_label_2),batch_size=4,epochs=20,verbose=1)"
   ]
  },
  {
   "cell_type": "code",
   "execution_count": 59,
   "id": "102bf862",
   "metadata": {
    "execution": {
     "iopub.execute_input": "2022-10-21T01:55:37.381548Z",
     "iopub.status.busy": "2022-10-21T01:55:37.381082Z",
     "iopub.status.idle": "2022-10-21T01:55:38.187007Z",
     "shell.execute_reply": "2022-10-21T01:55:38.185741Z"
    },
    "papermill": {
     "duration": 2.220974,
     "end_time": "2022-10-21T01:55:38.189503",
     "exception": false,
     "start_time": "2022-10-21T01:55:35.968529",
     "status": "completed"
    },
    "tags": []
   },
   "outputs": [
    {
     "name": "stdout",
     "output_type": "stream",
     "text": [
      "dict_keys(['loss', 'accuracy', 'val_loss', 'val_accuracy'])\n",
      "19/19 [==============================] - 0s 3ms/step - loss: 1.5776 - accuracy: 0.5533\n"
     ]
    },
    {
     "data": {
      "text/plain": [
       "[1.5776287317276, 0.5533333420753479]"
      ]
     },
     "execution_count": 59,
     "metadata": {},
     "output_type": "execute_result"
    },
    {
     "data": {
      "image/png": "[encoded data removed]",
      "text/plain": [
       "<Figure size 640x480 with 1 Axes>"
      ]
     },
     "metadata": {},
     "output_type": "display_data"
    },
    {
     "data": {
      "image/png": "[encoded data removed]",
      "text/plain": [
       "<Figure size 640x480 with 1 Axes>"
      ]
     },
     "metadata": {},
     "output_type": "display_data"
    }
   ],
   "source": [
    "loss_acc_curve(history14)\n",
    "model14.evaluate(sj_test_2,sj_test_label_2) #其实该函数第一个返回值是损失（loss)，第二个返回值是准确率(acc)"
   ]
  },
  {
   "cell_type": "markdown",
   "id": "f432cd42",
   "metadata": {
    "papermill": {
     "duration": 1.374525,
     "end_time": "2022-10-21T01:55:40.853454",
     "exception": false,
     "start_time": "2022-10-21T01:55:39.478929",
     "status": "completed"
    },
    "tags": []
   },
   "source": [
    " ### 我们在前面提到并不是epoch越大模型越好，那么什么时候模型最好呢？使用dropout+earlystopping,获取最佳模型\n",
    " ### 为了运行速度，我采用第一个版本的缩小数据集"
   ]
  },
  {
   "cell_type": "code",
   "execution_count": 60,
   "id": "f8f978c7",
   "metadata": {
    "execution": {
     "iopub.execute_input": "2022-10-21T01:55:43.607265Z",
     "iopub.status.busy": "2022-10-21T01:55:43.605577Z",
     "iopub.status.idle": "2022-10-21T01:55:43.611553Z",
     "shell.execute_reply": "2022-10-21T01:55:43.610513Z"
    },
    "papermill": {
     "duration": 1.383708,
     "end_time": "2022-10-21T01:55:43.614491",
     "exception": false,
     "start_time": "2022-10-21T01:55:42.230783",
     "status": "completed"
    },
    "tags": []
   },
   "outputs": [],
   "source": [
    "early_stop = tf.keras.callbacks.EarlyStopping(monitor='val_loss',patience=8)"
   ]
  },
  {
   "cell_type": "code",
   "execution_count": 61,
   "id": "259de96b",
   "metadata": {
    "execution": {
     "iopub.execute_input": "2022-10-21T01:55:46.397571Z",
     "iopub.status.busy": "2022-10-21T01:55:46.396619Z",
     "iopub.status.idle": "2022-10-21T01:56:35.044355Z",
     "shell.execute_reply": "2022-10-21T01:56:35.042679Z"
    },
    "papermill": {
     "duration": 50.062959,
     "end_time": "2022-10-21T01:56:35.048057",
     "exception": false,
     "start_time": "2022-10-21T01:55:44.985098",
     "status": "completed"
    },
    "tags": []
   },
   "outputs": [
    {
     "name": "stdout",
     "output_type": "stream",
     "text": [
      "Model: \"sequential_15\"\n",
      "_________________________________________________________________\n",
      " Layer (type)                Output Shape              Param #   \n",
      "=================================================================\n",
      " conv2d_30 (Conv2D)          (None, 32, 32, 8)         224       \n",
      "                                                                 \n",
      " max_pooling2d_30 (MaxPoolin  (None, 16, 16, 8)        0         \n",
      " g2D)                                                            \n",
      "                                                                 \n",
      " conv2d_31 (Conv2D)          (None, 16, 16, 16)        1168      \n",
      "                                                                 \n",
      " max_pooling2d_31 (MaxPoolin  (None, 8, 8, 16)         0         \n",
      " g2D)                                                            \n",
      "                                                                 \n",
      " flatten_15 (Flatten)        (None, 1024)              0         \n",
      "                                                                 \n",
      " dense_15 (Dense)            (None, 10)                10250     \n",
      "                                                                 \n",
      "=================================================================\n",
      "Total params: 11,642\n",
      "Trainable params: 11,642\n",
      "Non-trainable params: 0\n",
      "_________________________________________________________________\n",
      "Epoch 1/350\n",
      "600/600 [==============================] - 2s 2ms/step - loss: 2.2756 - accuracy: 0.2292 - val_loss: 2.0537 - val_accuracy: 0.3133\n",
      "Epoch 2/350\n",
      "600/600 [==============================] - 1s 2ms/step - loss: 1.8928 - accuracy: 0.3750 - val_loss: 1.8886 - val_accuracy: 0.3600\n",
      "Epoch 3/350\n",
      "600/600 [==============================] - 1s 2ms/step - loss: 1.7598 - accuracy: 0.4179 - val_loss: 2.0310 - val_accuracy: 0.3367\n",
      "Epoch 4/350\n",
      "600/600 [==============================] - 1s 2ms/step - loss: 1.6535 - accuracy: 0.4646 - val_loss: 1.8075 - val_accuracy: 0.4267\n",
      "Epoch 5/350\n",
      "600/600 [==============================] - 1s 2ms/step - loss: 1.5630 - accuracy: 0.4946 - val_loss: 1.7786 - val_accuracy: 0.3800\n",
      "Epoch 6/350\n",
      "600/600 [==============================] - 1s 2ms/step - loss: 1.4950 - accuracy: 0.5088 - val_loss: 1.7600 - val_accuracy: 0.4033\n",
      "Epoch 7/350\n",
      "600/600 [==============================] - 1s 2ms/step - loss: 1.4216 - accuracy: 0.5400 - val_loss: 1.7106 - val_accuracy: 0.4233\n",
      "Epoch 8/350\n",
      "600/600 [==============================] - 1s 2ms/step - loss: 1.3569 - accuracy: 0.5688 - val_loss: 1.7786 - val_accuracy: 0.4167\n",
      "Epoch 9/350\n",
      "600/600 [==============================] - 1s 2ms/step - loss: 1.2890 - accuracy: 0.5946 - val_loss: 1.7294 - val_accuracy: 0.4300\n",
      "Epoch 10/350\n",
      "600/600 [==============================] - 1s 2ms/step - loss: 1.2361 - accuracy: 0.6137 - val_loss: 1.8485 - val_accuracy: 0.4133\n",
      "Epoch 11/350\n",
      "600/600 [==============================] - 1s 2ms/step - loss: 1.1765 - accuracy: 0.6325 - val_loss: 1.8769 - val_accuracy: 0.4267\n",
      "Epoch 12/350\n",
      "600/600 [==============================] - 1s 2ms/step - loss: 1.1143 - accuracy: 0.6675 - val_loss: 1.9363 - val_accuracy: 0.3833\n",
      "Epoch 13/350\n",
      "600/600 [==============================] - 1s 2ms/step - loss: 1.0788 - accuracy: 0.6712 - val_loss: 1.9133 - val_accuracy: 0.4100\n",
      "Epoch 14/350\n",
      "600/600 [==============================] - 1s 2ms/step - loss: 1.0163 - accuracy: 0.7033 - val_loss: 1.8585 - val_accuracy: 0.4233\n",
      "Epoch 15/350\n",
      "600/600 [==============================] - 1s 2ms/step - loss: 0.9790 - accuracy: 0.7100 - val_loss: 1.9817 - val_accuracy: 0.4200\n"
     ]
    }
   ],
   "source": [
    "model15 = Sequential()\n",
    "model15.add(Conv2D(8, kernel_size=(3,3),activation='relu',kernel_regularizer = tf.keras.regularizers.L1(),padding='same', input_shape=input_shape))\n",
    "model15.add(MaxPooling2D(pool_size=(2,2), strides=2))\n",
    "#model15.add(Dropout(0.2))\n",
    "model15.add(Conv2D(16,kernel_size=(3,3),activation='relu',padding='same'))\n",
    "model15.add(MaxPooling2D(pool_size=(2,2), strides=2))\n",
    "model13.add(Dropout(0.2))\n",
    "model15.add(Flatten())\n",
    "model15.add(Dense(units=10,activation='softmax'))\n",
    "model15.summary()\n",
    "#优化器改为ADAM\n",
    "model15.compile(loss = 'categorical_crossentropy', optimizer = optimizers.Adam(),metrics = ['accuracy'])  \n",
    "history15 = model15.fit(sj_train,sj_train_label,callbacks=[early_stop],validation_data=(sj_val,sj_val_label),batch_size=4,epochs=350,verbose=1)"
   ]
  },
  {
   "cell_type": "code",
   "execution_count": 62,
   "id": "68a44f24",
   "metadata": {
    "execution": {
     "iopub.execute_input": "2022-10-21T01:56:37.992052Z",
     "iopub.status.busy": "2022-10-21T01:56:37.991624Z",
     "iopub.status.idle": "2022-10-21T01:57:09.730344Z",
     "shell.execute_reply": "2022-10-21T01:57:09.729305Z"
    },
    "papermill": {
     "duration": 34.385618,
     "end_time": "2022-10-21T01:57:10.881010",
     "exception": false,
     "start_time": "2022-10-21T01:56:36.495392",
     "status": "completed"
    },
    "tags": []
   },
   "outputs": [
    {
     "name": "stdout",
     "output_type": "stream",
     "text": [
      "dict_keys(['loss', 'accuracy', 'val_loss', 'val_accuracy'])\n",
      "10/10 [==============================] - 0s 3ms/step - loss: 2.0177 - accuracy: 0.4333\n"
     ]
    },
    {
     "data": {
      "text/plain": [
       "[2.0177314281463623, 0.4333333373069763]"
      ]
     },
     "execution_count": 62,
     "metadata": {},
     "output_type": "execute_result"
    },
    {
     "data": {
      "image/png": "[encoded data removed]",
      "text/plain": [
       "<Figure size 640x480 with 1 Axes>"
      ]
     },
     "metadata": {},
     "output_type": "display_data"
    },
    {
     "data": {
      "image/png": "[encoded data removed]",
      "text/plain": [
       "<Figure size 640x480 with 1 Axes>"
      ]
     },
     "metadata": {},
     "output_type": "display_data"
    }
   ],
   "source": [
    "loss_acc_curve(history15)\n",
    "model15.evaluate(sj_test,sj_test_label) #其实该函数第一个返回值是损失（loss)，第二个返回值是准确率(acc)"
   ]
  },
  {
   "cell_type": "markdown",
   "id": "bc107dd0",
   "metadata": {
    "execution": {
     "iopub.execute_input": "2022-06-30T10:11:32.733990Z",
     "iopub.status.busy": "2022-06-30T10:11:32.733244Z",
     "iopub.status.idle": "2022-06-30T10:11:32.739741Z",
     "shell.execute_reply": "2022-06-30T10:11:32.738284Z",
     "shell.execute_reply.started": "2022-06-30T10:11:32.733940Z"
    },
    "papermill": {
     "duration": 1.462212,
     "end_time": "2022-10-21T01:57:13.834652",
     "exception": false,
     "start_time": "2022-10-21T01:57:12.372440",
     "status": "completed"
    },
    "tags": []
   },
   "source": [
    "### 总结：模型选择epoch合适的时候，较少数据集就可以达到较大数据集刚才测试的效果，当然较大数据集也可以通过选择最佳模型进一步提高准确率"
   ]
  },
  {
   "cell_type": "markdown",
   "id": "a676c223",
   "metadata": {
    "papermill": {
     "duration": 1.500443,
     "end_time": "2022-10-21T01:57:16.705428",
     "exception": false,
     "start_time": "2022-10-21T01:57:15.204985",
     "status": "completed"
    },
    "tags": []
   },
   "source": [
    "### 全数据集参与训练，测试模型性能。"
   ]
  },
  {
   "cell_type": "code",
   "execution_count": 63,
   "id": "c7b96300",
   "metadata": {
    "execution": {
     "iopub.execute_input": "2022-10-21T01:57:19.579701Z",
     "iopub.status.busy": "2022-10-21T01:57:19.579262Z",
     "iopub.status.idle": "2022-10-21T01:57:19.585001Z",
     "shell.execute_reply": "2022-10-21T01:57:19.583988Z"
    },
    "papermill": {
     "duration": 1.442662,
     "end_time": "2022-10-21T01:57:19.587171",
     "exception": false,
     "start_time": "2022-10-21T01:57:18.144509",
     "status": "completed"
    },
    "tags": []
   },
   "outputs": [],
   "source": [
    "(sj_train_3,sj_train_label_3,sj_val_3,sj_val_label_3,sj_test_3,sj_test_label_3) = train_val_test(x_images_images,y_onehot,0.16)"
   ]
  },
  {
   "cell_type": "code",
   "execution_count": 64,
   "id": "e51047a8",
   "metadata": {
    "execution": {
     "iopub.execute_input": "2022-10-21T01:57:22.522145Z",
     "iopub.status.busy": "2022-10-21T01:57:22.521272Z",
     "iopub.status.idle": "2022-10-21T01:57:22.527668Z",
     "shell.execute_reply": "2022-10-21T01:57:22.526620Z"
    },
    "papermill": {
     "duration": 1.485971,
     "end_time": "2022-10-21T01:57:22.530402",
     "exception": false,
     "start_time": "2022-10-21T01:57:21.044431",
     "status": "completed"
    },
    "tags": []
   },
   "outputs": [
    {
     "name": "stdout",
     "output_type": "stream",
     "text": [
      "(40800, 32, 32, 3) (9600, 32, 32, 3) (9600, 32, 32, 3)\n",
      "(40800, 10) (9600, 10) (9600, 10)\n"
     ]
    }
   ],
   "source": [
    "print(sj_train_3.shape,sj_val_3.shape,sj_test_3.shape)\n",
    "print(sj_train_label_3.shape,sj_val_label_3.shape,sj_test_label_3.shape)"
   ]
  },
  {
   "cell_type": "code",
   "execution_count": 65,
   "id": "8852fc3d",
   "metadata": {
    "execution": {
     "iopub.execute_input": "2022-10-21T01:57:25.643927Z",
     "iopub.status.busy": "2022-10-21T01:57:25.643127Z",
     "iopub.status.idle": "2022-10-21T01:57:25.650079Z",
     "shell.execute_reply": "2022-10-21T01:57:25.649162Z"
    },
    "papermill": {
     "duration": 1.644955,
     "end_time": "2022-10-21T01:57:25.652537",
     "exception": false,
     "start_time": "2022-10-21T01:57:24.007582",
     "status": "completed"
    },
    "tags": []
   },
   "outputs": [
    {
     "data": {
      "text/plain": [
       "array([0., 0., 0., 1., 0., 0., 0., 0., 0., 0.], dtype=float32)"
      ]
     },
     "execution_count": 65,
     "metadata": {},
     "output_type": "execute_result"
    }
   ],
   "source": [
    "sj_train_label_3[3]"
   ]
  },
  {
   "cell_type": "code",
   "execution_count": 66,
   "id": "8d568283",
   "metadata": {
    "execution": {
     "iopub.execute_input": "2022-10-21T01:57:28.694174Z",
     "iopub.status.busy": "2022-10-21T01:57:28.692963Z",
     "iopub.status.idle": "2022-10-21T01:57:28.699332Z",
     "shell.execute_reply": "2022-10-21T01:57:28.698325Z"
    },
    "papermill": {
     "duration": 1.578451,
     "end_time": "2022-10-21T01:57:28.702660",
     "exception": false,
     "start_time": "2022-10-21T01:57:27.124209",
     "status": "completed"
    },
    "tags": []
   },
   "outputs": [],
   "source": [
    "early_stop = tf.keras.callbacks.EarlyStopping(monitor='val_loss',patience=15)"
   ]
  },
  {
   "cell_type": "code",
   "execution_count": 67,
   "id": "bad39f07",
   "metadata": {
    "execution": {
     "iopub.execute_input": "2022-10-21T01:57:31.700832Z",
     "iopub.status.busy": "2022-10-21T01:57:31.700423Z",
     "iopub.status.idle": "2022-10-21T02:23:03.729746Z",
     "shell.execute_reply": "2022-10-21T02:23:03.728375Z"
    },
    "papermill": {
     "duration": 1534.997164,
     "end_time": "2022-10-21T02:23:05.168592",
     "exception": false,
     "start_time": "2022-10-21T01:57:30.171428",
     "status": "completed"
    },
    "tags": []
   },
   "outputs": [
    {
     "name": "stdout",
     "output_type": "stream",
     "text": [
      "Model: \"sequential_16\"\n",
      "_________________________________________________________________\n",
      " Layer (type)                Output Shape              Param #   \n",
      "=================================================================\n",
      " conv2d_32 (Conv2D)          (None, 30, 30, 32)        896       \n",
      "                                                                 \n",
      " max_pooling2d_32 (MaxPoolin  (None, 15, 15, 32)       0         \n",
      " g2D)                                                            \n",
      "                                                                 \n",
      " conv2d_33 (Conv2D)          (None, 13, 13, 64)        18496     \n",
      "                                                                 \n",
      " max_pooling2d_33 (MaxPoolin  (None, 6, 6, 64)         0         \n",
      " g2D)                                                            \n",
      "                                                                 \n",
      " conv2d_34 (Conv2D)          (None, 4, 4, 64)          36928     \n",
      "                                                                 \n",
      " flatten_16 (Flatten)        (None, 1024)              0         \n",
      "                                                                 \n",
      " dense_16 (Dense)            (None, 64)                65600     \n",
      "                                                                 \n",
      " dense_17 (Dense)            (None, 10)                650       \n",
      "                                                                 \n",
      "=================================================================\n",
      "Total params: 122,570\n",
      "Trainable params: 122,570\n",
      "Non-trainable params: 0\n",
      "_________________________________________________________________\n",
      "Epoch 1/150\n",
      "10200/10200 - 32s - loss: 1.5496 - accuracy: 0.4334 - val_loss: 1.4074 - val_accuracy: 0.5035 - 32s/epoch - 3ms/step\n",
      "Epoch 2/150\n",
      "10200/10200 - 30s - loss: 1.1887 - accuracy: 0.5777 - val_loss: 1.2094 - val_accuracy: 0.5774 - 30s/epoch - 3ms/step\n",
      "Epoch 3/150\n",
      "10200/10200 - 31s - loss: 1.0619 - accuracy: 0.6271 - val_loss: 1.1055 - val_accuracy: 0.6136 - 31s/epoch - 3ms/step\n",
      "Epoch 4/150\n",
      "10200/10200 - 31s - loss: 0.9813 - accuracy: 0.6544 - val_loss: 1.0437 - val_accuracy: 0.6365 - 31s/epoch - 3ms/step\n",
      "Epoch 5/150\n",
      "10200/10200 - 31s - loss: 0.9213 - accuracy: 0.6767 - val_loss: 1.0900 - val_accuracy: 0.6317 - 31s/epoch - 3ms/step\n",
      "Epoch 6/150\n",
      "10200/10200 - 31s - loss: 0.8673 - accuracy: 0.6943 - val_loss: 1.0191 - val_accuracy: 0.6541 - 31s/epoch - 3ms/step\n",
      "Epoch 7/150\n",
      "10200/10200 - 31s - loss: 0.8253 - accuracy: 0.7104 - val_loss: 1.0969 - val_accuracy: 0.6364 - 31s/epoch - 3ms/step\n",
      "Epoch 8/150\n",
      "10200/10200 - 31s - loss: 0.7807 - accuracy: 0.7219 - val_loss: 1.0868 - val_accuracy: 0.6519 - 31s/epoch - 3ms/step\n",
      "Epoch 9/150\n",
      "10200/10200 - 31s - loss: 0.7404 - accuracy: 0.7393 - val_loss: 1.1239 - val_accuracy: 0.6384 - 31s/epoch - 3ms/step\n",
      "Epoch 10/150\n",
      "10200/10200 - 32s - loss: 0.7064 - accuracy: 0.7510 - val_loss: 1.1250 - val_accuracy: 0.6399 - 32s/epoch - 3ms/step\n",
      "Epoch 11/150\n",
      "10200/10200 - 32s - loss: 0.6748 - accuracy: 0.7613 - val_loss: 1.1403 - val_accuracy: 0.6519 - 32s/epoch - 3ms/step\n",
      "Epoch 12/150\n",
      "10200/10200 - 32s - loss: 0.6489 - accuracy: 0.7686 - val_loss: 1.1709 - val_accuracy: 0.6445 - 32s/epoch - 3ms/step\n",
      "Epoch 13/150\n",
      "10200/10200 - 32s - loss: 0.6175 - accuracy: 0.7819 - val_loss: 1.2499 - val_accuracy: 0.6447 - 32s/epoch - 3ms/step\n",
      "Epoch 14/150\n",
      "10200/10200 - 33s - loss: 0.5940 - accuracy: 0.7889 - val_loss: 1.2550 - val_accuracy: 0.6477 - 33s/epoch - 3ms/step\n",
      "Epoch 15/150\n",
      "10200/10200 - 33s - loss: 0.5654 - accuracy: 0.7999 - val_loss: 1.3036 - val_accuracy: 0.6442 - 33s/epoch - 3ms/step\n",
      "Epoch 16/150\n",
      "10200/10200 - 33s - loss: 0.5436 - accuracy: 0.8063 - val_loss: 1.3610 - val_accuracy: 0.6363 - 33s/epoch - 3ms/step\n",
      "Epoch 17/150\n",
      "10200/10200 - 33s - loss: 0.5275 - accuracy: 0.8138 - val_loss: 1.4550 - val_accuracy: 0.6384 - 33s/epoch - 3ms/step\n",
      "Epoch 18/150\n",
      "10200/10200 - 34s - loss: 0.5083 - accuracy: 0.8197 - val_loss: 1.4262 - val_accuracy: 0.6350 - 34s/epoch - 3ms/step\n",
      "Epoch 19/150\n",
      "10200/10200 - 34s - loss: 0.4964 - accuracy: 0.8232 - val_loss: 1.5040 - val_accuracy: 0.6422 - 34s/epoch - 3ms/step\n",
      "Epoch 20/150\n",
      "10200/10200 - 34s - loss: 0.4780 - accuracy: 0.8298 - val_loss: 1.5481 - val_accuracy: 0.6263 - 34s/epoch - 3ms/step\n",
      "Epoch 21/150\n",
      "10200/10200 - 34s - loss: 0.4629 - accuracy: 0.8379 - val_loss: 1.7089 - val_accuracy: 0.6255 - 34s/epoch - 3ms/step\n"
     ]
    }
   ],
   "source": [
    "#全部数据集参与训练\n",
    "model16 = Sequential()\n",
    "model16.add(Conv2D(32, kernel_size=(3,3),activation='relu', input_shape=input_shape))\n",
    "model16.add(MaxPooling2D(pool_size=(2,2), strides=2))\n",
    "model16.add(Conv2D(64,kernel_size=(3,3),activation='relu'))\n",
    "model16.add(MaxPooling2D(pool_size=(2,2), strides=2))\n",
    "model16.add(Conv2D(64,kernel_size=(3,3),activation='relu'))\n",
    "\n",
    "model16.add(Flatten())\n",
    "model16.add(Dense(units=64, activation='relu'))\n",
    "model16.add(Dense(units=10, activation='softmax'))\n",
    "model16.summary()\n",
    "#优化器改为ADAM\n",
    "model16.compile(loss = 'categorical_crossentropy', optimizer = optimizers.Adam(0.001),metrics = ['accuracy'])  \n",
    "history16 = model16.fit(sj_train_3,sj_train_label_3,callbacks=[early_stop],validation_data=(sj_val_3,sj_val_label_3),batch_size=4,epochs=150,verbose=2)"
   ]
  },
  {
   "cell_type": "code",
   "execution_count": 68,
   "id": "9b883bc4",
   "metadata": {
    "execution": {
     "iopub.execute_input": "2022-10-21T02:23:08.050941Z",
     "iopub.status.busy": "2022-10-21T02:23:08.050551Z",
     "iopub.status.idle": "2022-10-21T02:23:11.158446Z",
     "shell.execute_reply": "2022-10-21T02:23:11.157048Z"
    },
    "papermill": {
     "duration": 4.567718,
     "end_time": "2022-10-21T02:23:11.161346",
     "exception": false,
     "start_time": "2022-10-21T02:23:06.593628",
     "status": "completed"
    },
    "tags": []
   },
   "outputs": [
    {
     "name": "stdout",
     "output_type": "stream",
     "text": [
      "dict_keys(['loss', 'accuracy', 'val_loss', 'val_accuracy'])\n",
      "300/300 [==============================] - 1s 4ms/step - loss: 1.6719 - accuracy: 0.6196\n"
     ]
    },
    {
     "data": {
      "text/plain": [
       "[1.67192804813385, 0.6195833086967468]"
      ]
     },
     "execution_count": 68,
     "metadata": {},
     "output_type": "execute_result"
    },
    {
     "data": {
      "image/png": "[encoded data removed]",
      "text/plain": [
       "<Figure size 640x480 with 1 Axes>"
      ]
     },
     "metadata": {},
     "output_type": "display_data"
    },
    {
     "data": {
      "image/png": "[encoded data removed]",
      "text/plain": [
       "<Figure size 640x480 with 1 Axes>"
      ]
     },
     "metadata": {},
     "output_type": "display_data"
    }
   ],
   "source": [
    "loss_acc_curve(history16)\n",
    "model16.evaluate(sj_test_3,sj_test_label_3) #其实该函数第一个返回值是损失（loss)，第二个返回值是准确率(acc)"
   ]
  },
  {
   "cell_type": "code",
   "execution_count": 69,
   "id": "b27acf59",
   "metadata": {
    "execution": {
     "iopub.execute_input": "2022-10-21T02:23:13.960434Z",
     "iopub.status.busy": "2022-10-21T02:23:13.959606Z",
     "iopub.status.idle": "2022-10-21T02:23:13.965184Z",
     "shell.execute_reply": "2022-10-21T02:23:13.964344Z"
    },
    "papermill": {
     "duration": 1.358948,
     "end_time": "2022-10-21T02:23:13.967638",
     "exception": false,
     "start_time": "2022-10-21T02:23:12.608690",
     "status": "completed"
    },
    "tags": []
   },
   "outputs": [],
   "source": [
    "early_stop1 = tf.keras.callbacks.EarlyStopping(monitor='val_loss',patience=20)"
   ]
  },
  {
   "cell_type": "code",
   "execution_count": 70,
   "id": "d4fe8245",
   "metadata": {
    "execution": {
     "iopub.execute_input": "2022-10-21T02:23:16.929648Z",
     "iopub.status.busy": "2022-10-21T02:23:16.928889Z",
     "iopub.status.idle": "2022-10-21T03:28:36.159811Z",
     "shell.execute_reply": "2022-10-21T03:28:36.158181Z"
    },
    "papermill": {
     "duration": 3922.189844,
     "end_time": "2022-10-21T03:28:37.662432",
     "exception": false,
     "start_time": "2022-10-21T02:23:15.472588",
     "status": "completed"
    },
    "tags": []
   },
   "outputs": [
    {
     "name": "stdout",
     "output_type": "stream",
     "text": [
      "Model: \"sequential_17\"\n",
      "_________________________________________________________________\n",
      " Layer (type)                Output Shape              Param #   \n",
      "=================================================================\n",
      " conv2d_35 (Conv2D)          (None, 30, 30, 32)        896       \n",
      "                                                                 \n",
      " max_pooling2d_34 (MaxPoolin  (None, 15, 15, 32)       0         \n",
      " g2D)                                                            \n",
      "                                                                 \n",
      " conv2d_36 (Conv2D)          (None, 13, 13, 64)        18496     \n",
      "                                                                 \n",
      " max_pooling2d_35 (MaxPoolin  (None, 6, 6, 64)         0         \n",
      " g2D)                                                            \n",
      "                                                                 \n",
      " dropout_9 (Dropout)         (None, 6, 6, 64)          0         \n",
      "                                                                 \n",
      " conv2d_37 (Conv2D)          (None, 4, 4, 64)          36928     \n",
      "                                                                 \n",
      " dropout_10 (Dropout)        (None, 4, 4, 64)          0         \n",
      "                                                                 \n",
      " flatten_17 (Flatten)        (None, 1024)              0         \n",
      "                                                                 \n",
      " dense_18 (Dense)            (None, 64)                65600     \n",
      "                                                                 \n",
      " dense_19 (Dense)            (None, 10)                650       \n",
      "                                                                 \n",
      "=================================================================\n",
      "Total params: 122,570\n",
      "Trainable params: 122,570\n",
      "Non-trainable params: 0\n",
      "_________________________________________________________________\n",
      "Epoch 1/150\n",
      "10200/10200 - 36s - loss: 1.5838 - accuracy: 0.4214 - val_loss: 1.3463 - val_accuracy: 0.5199 - 36s/epoch - 4ms/step\n",
      "Epoch 2/150\n",
      "10200/10200 - 35s - loss: 1.2841 - accuracy: 0.5418 - val_loss: 1.2387 - val_accuracy: 0.5653 - 35s/epoch - 3ms/step\n",
      "Epoch 3/150\n",
      "10200/10200 - 35s - loss: 1.1740 - accuracy: 0.5833 - val_loss: 1.1166 - val_accuracy: 0.6054 - 35s/epoch - 3ms/step\n",
      "Epoch 4/150\n",
      "10200/10200 - 35s - loss: 1.1080 - accuracy: 0.6084 - val_loss: 1.0338 - val_accuracy: 0.6389 - 35s/epoch - 3ms/step\n",
      "Epoch 5/150\n",
      "10200/10200 - 35s - loss: 1.0550 - accuracy: 0.6261 - val_loss: 1.0488 - val_accuracy: 0.6358 - 35s/epoch - 3ms/step\n",
      "Epoch 6/150\n",
      "10200/10200 - 35s - loss: 1.0174 - accuracy: 0.6417 - val_loss: 1.0242 - val_accuracy: 0.6446 - 35s/epoch - 3ms/step\n",
      "Epoch 7/150\n",
      "10200/10200 - 36s - loss: 0.9903 - accuracy: 0.6501 - val_loss: 0.9891 - val_accuracy: 0.6556 - 36s/epoch - 4ms/step\n",
      "Epoch 8/150\n",
      "10200/10200 - 36s - loss: 0.9660 - accuracy: 0.6606 - val_loss: 1.0236 - val_accuracy: 0.6451 - 36s/epoch - 4ms/step\n",
      "Epoch 9/150\n",
      "10200/10200 - 37s - loss: 0.9463 - accuracy: 0.6695 - val_loss: 0.9840 - val_accuracy: 0.6630 - 37s/epoch - 4ms/step\n",
      "Epoch 10/150\n",
      "10200/10200 - 37s - loss: 0.9260 - accuracy: 0.6776 - val_loss: 0.9829 - val_accuracy: 0.6580 - 37s/epoch - 4ms/step\n",
      "Epoch 11/150\n",
      "10200/10200 - 38s - loss: 0.9133 - accuracy: 0.6810 - val_loss: 1.0133 - val_accuracy: 0.6533 - 38s/epoch - 4ms/step\n",
      "Epoch 12/150\n",
      "10200/10200 - 38s - loss: 0.8989 - accuracy: 0.6858 - val_loss: 0.9673 - val_accuracy: 0.6666 - 38s/epoch - 4ms/step\n",
      "Epoch 13/150\n",
      "10200/10200 - 39s - loss: 0.8841 - accuracy: 0.6905 - val_loss: 0.9397 - val_accuracy: 0.6779 - 39s/epoch - 4ms/step\n",
      "Epoch 14/150\n",
      "10200/10200 - 39s - loss: 0.8761 - accuracy: 0.6931 - val_loss: 0.9163 - val_accuracy: 0.6828 - 39s/epoch - 4ms/step\n",
      "Epoch 15/150\n",
      "10200/10200 - 39s - loss: 0.8680 - accuracy: 0.7008 - val_loss: 0.9320 - val_accuracy: 0.6842 - 39s/epoch - 4ms/step\n",
      "Epoch 16/150\n",
      "10200/10200 - 40s - loss: 0.8616 - accuracy: 0.7000 - val_loss: 0.9398 - val_accuracy: 0.6806 - 40s/epoch - 4ms/step\n",
      "Epoch 17/150\n",
      "10200/10200 - 40s - loss: 0.8545 - accuracy: 0.6991 - val_loss: 0.9122 - val_accuracy: 0.6868 - 40s/epoch - 4ms/step\n",
      "Epoch 18/150\n",
      "10200/10200 - 41s - loss: 0.8501 - accuracy: 0.7053 - val_loss: 0.9458 - val_accuracy: 0.6748 - 41s/epoch - 4ms/step\n",
      "Epoch 19/150\n",
      "10200/10200 - 42s - loss: 0.8431 - accuracy: 0.7078 - val_loss: 0.9443 - val_accuracy: 0.6809 - 42s/epoch - 4ms/step\n",
      "Epoch 20/150\n",
      "10200/10200 - 42s - loss: 0.8368 - accuracy: 0.7135 - val_loss: 0.9657 - val_accuracy: 0.6655 - 42s/epoch - 4ms/step\n",
      "Epoch 21/150\n",
      "10200/10200 - 42s - loss: 0.8342 - accuracy: 0.7117 - val_loss: 1.0092 - val_accuracy: 0.6608 - 42s/epoch - 4ms/step\n",
      "Epoch 22/150\n",
      "10200/10200 - 42s - loss: 0.8255 - accuracy: 0.7163 - val_loss: 0.9088 - val_accuracy: 0.6927 - 42s/epoch - 4ms/step\n",
      "Epoch 23/150\n",
      "10200/10200 - 42s - loss: 0.8241 - accuracy: 0.7178 - val_loss: 0.9412 - val_accuracy: 0.6799 - 42s/epoch - 4ms/step\n",
      "Epoch 24/150\n",
      "10200/10200 - 43s - loss: 0.8193 - accuracy: 0.7164 - val_loss: 0.9470 - val_accuracy: 0.6827 - 43s/epoch - 4ms/step\n",
      "Epoch 25/150\n",
      "10200/10200 - 44s - loss: 0.8140 - accuracy: 0.7192 - val_loss: 0.9098 - val_accuracy: 0.6866 - 44s/epoch - 4ms/step\n",
      "Epoch 26/150\n",
      "10200/10200 - 44s - loss: 0.8179 - accuracy: 0.7187 - val_loss: 0.9488 - val_accuracy: 0.6796 - 44s/epoch - 4ms/step\n",
      "Epoch 27/150\n",
      "10200/10200 - 44s - loss: 0.8118 - accuracy: 0.7208 - val_loss: 1.0306 - val_accuracy: 0.6582 - 44s/epoch - 4ms/step\n",
      "Epoch 28/150\n",
      "10200/10200 - 44s - loss: 0.8120 - accuracy: 0.7206 - val_loss: 0.9216 - val_accuracy: 0.6900 - 44s/epoch - 4ms/step\n",
      "Epoch 29/150\n",
      "10200/10200 - 45s - loss: 0.8102 - accuracy: 0.7247 - val_loss: 0.9679 - val_accuracy: 0.6676 - 45s/epoch - 4ms/step\n",
      "Epoch 30/150\n",
      "10200/10200 - 46s - loss: 0.8089 - accuracy: 0.7243 - val_loss: 0.9399 - val_accuracy: 0.6879 - 46s/epoch - 4ms/step\n",
      "Epoch 31/150\n",
      "10200/10200 - 46s - loss: 0.8021 - accuracy: 0.7279 - val_loss: 0.9300 - val_accuracy: 0.6942 - 46s/epoch - 4ms/step\n",
      "Epoch 32/150\n",
      "10200/10200 - 47s - loss: 0.7964 - accuracy: 0.7286 - val_loss: 0.9563 - val_accuracy: 0.6773 - 47s/epoch - 5ms/step\n",
      "Epoch 33/150\n",
      "10200/10200 - 47s - loss: 0.8031 - accuracy: 0.7285 - val_loss: 0.9605 - val_accuracy: 0.6847 - 47s/epoch - 5ms/step\n",
      "Epoch 34/150\n",
      "10200/10200 - 47s - loss: 0.7985 - accuracy: 0.7288 - val_loss: 0.9209 - val_accuracy: 0.6923 - 47s/epoch - 5ms/step\n",
      "Epoch 35/150\n",
      "10200/10200 - 47s - loss: 0.8055 - accuracy: 0.7286 - val_loss: 0.9637 - val_accuracy: 0.6754 - 47s/epoch - 5ms/step\n",
      "Epoch 36/150\n",
      "10200/10200 - 48s - loss: 0.8035 - accuracy: 0.7274 - val_loss: 0.9954 - val_accuracy: 0.6648 - 48s/epoch - 5ms/step\n",
      "Epoch 37/150\n",
      "10200/10200 - 48s - loss: 0.7919 - accuracy: 0.7304 - val_loss: 0.9561 - val_accuracy: 0.6783 - 48s/epoch - 5ms/step\n",
      "Epoch 38/150\n",
      "10200/10200 - 49s - loss: 0.7991 - accuracy: 0.7280 - val_loss: 0.9444 - val_accuracy: 0.6820 - 49s/epoch - 5ms/step\n",
      "Epoch 39/150\n",
      "10200/10200 - 49s - loss: 0.7916 - accuracy: 0.7338 - val_loss: 1.0029 - val_accuracy: 0.6747 - 49s/epoch - 5ms/step\n",
      "Epoch 40/150\n",
      "10200/10200 - 49s - loss: 0.7871 - accuracy: 0.7336 - val_loss: 0.9988 - val_accuracy: 0.6641 - 49s/epoch - 5ms/step\n",
      "Epoch 41/150\n",
      "10200/10200 - 49s - loss: 0.7878 - accuracy: 0.7338 - val_loss: 0.9372 - val_accuracy: 0.6910 - 49s/epoch - 5ms/step\n",
      "Epoch 42/150\n",
      "10200/10200 - 50s - loss: 0.7925 - accuracy: 0.7344 - val_loss: 0.9387 - val_accuracy: 0.6879 - 50s/epoch - 5ms/step\n"
     ]
    }
   ],
   "source": [
    "#在上一个版本上面增加dropout\n",
    "model17 = Sequential()\n",
    "model17.add(Conv2D(32, kernel_size=(3,3),activation='relu', input_shape=input_shape))\n",
    "model17.add(MaxPooling2D(pool_size=(2,2), strides=2))\n",
    "model17.add(Conv2D(64,kernel_size=(3,3),activation='relu'))\n",
    "model17.add(MaxPooling2D(pool_size=(2,2), strides=2))\n",
    "model17.add(Dropout(0.25))\n",
    "model17.add(Conv2D(64,kernel_size=(3,3),activation='relu'))\n",
    "model17.add(Dropout(0.2))\n",
    "model17.add(Flatten())\n",
    "model17.add(Dense(units=64, activation='relu'))\n",
    "model17.add(Dense(units=10, activation='softmax'))\n",
    "model17.summary()\n",
    "#优化器改为ADAM\n",
    "model17.compile(loss = 'categorical_crossentropy', optimizer = optimizers.Adam(0.001),metrics = ['accuracy'])  \n",
    "history17 = model17.fit(sj_train_3,sj_train_label_3,callbacks=[early_stop1],validation_data=(sj_val_3,sj_val_label_3),batch_size=4,epochs=150,verbose=2)"
   ]
  },
  {
   "cell_type": "code",
   "execution_count": 71,
   "id": "681a90de",
   "metadata": {
    "execution": {
     "iopub.execute_input": "2022-10-21T03:28:40.633125Z",
     "iopub.status.busy": "2022-10-21T03:28:40.632699Z",
     "iopub.status.idle": "2022-10-21T03:28:43.721719Z",
     "shell.execute_reply": "2022-10-21T03:28:43.720458Z"
    },
    "papermill": {
     "duration": 4.614317,
     "end_time": "2022-10-21T03:28:43.724582",
     "exception": false,
     "start_time": "2022-10-21T03:28:39.110265",
     "status": "completed"
    },
    "tags": []
   },
   "outputs": [
    {
     "name": "stdout",
     "output_type": "stream",
     "text": [
      "dict_keys(['loss', 'accuracy', 'val_loss', 'val_accuracy'])\n",
      "300/300 [==============================] - 1s 4ms/step - loss: 0.9045 - accuracy: 0.7066\n"
     ]
    },
    {
     "data": {
      "text/plain": [
       "[0.9045477509498596, 0.7065625190734863]"
      ]
     },
     "execution_count": 71,
     "metadata": {},
     "output_type": "execute_result"
    },
    {
     "data": {
      "image/png": "[encoded data removed]",
      "text/plain": [
       "<Figure size 640x480 with 1 Axes>"
      ]
     },
     "metadata": {},
     "output_type": "display_data"
    },
    {
     "data": {
      "image/png": "[encoded data removed]",
      "text/plain": [
       "<Figure size 640x480 with 1 Axes>"
      ]
     },
     "metadata": {},
     "output_type": "display_data"
    }
   ],
   "source": [
    "loss_acc_curve(history17)\n",
    "model17.evaluate(sj_test_3,sj_test_label_3) #其实该函数第一个返回值是损失（loss)，第二个返回值是准确率(acc)"
   ]
  },
  {
   "cell_type": "markdown",
   "id": "ea546790",
   "metadata": {
    "papermill": {
     "duration": 1.497364,
     "end_time": "2022-10-21T03:28:46.594688",
     "exception": false,
     "start_time": "2022-10-21T03:28:45.097324",
     "status": "completed"
    },
    "tags": []
   },
   "source": [
    "### 到此结束，你或许需要再仔细整理下思路。然后去完成作业吧"
   ]
  },
  {
   "cell_type": "code",
   "execution_count": null,
   "id": "4ff004a3",
   "metadata": {
    "papermill": {
     "duration": 1.345288,
     "end_time": "2022-10-21T03:28:49.384222",
     "exception": false,
     "start_time": "2022-10-21T03:28:48.038934",
     "status": "completed"
    },
    "tags": []
   },
   "outputs": [],
   "source": []
  },
  {
   "cell_type": "code",
   "execution_count": null,
   "id": "e51ad078",
   "metadata": {
    "papermill": {
     "duration": 1.441253,
     "end_time": "2022-10-21T03:28:52.251916",
     "exception": false,
     "start_time": "2022-10-21T03:28:50.810663",
     "status": "completed"
    },
    "tags": []
   },
   "outputs": [],
   "source": []
  },
  {
   "cell_type": "code",
   "execution_count": null,
   "id": "af4197ef",
   "metadata": {
    "papermill": {
     "duration": 1.44704,
     "end_time": "2022-10-21T03:28:55.061826",
     "exception": false,
     "start_time": "2022-10-21T03:28:53.614786",
     "status": "completed"
    },
    "tags": []
   },
   "outputs": [],
   "source": []
  }
 ],
 "metadata": {
  "kernelspec": {
   "display_name": "Python 3 (ipykernel)",
   "language": "python",
   "name": "python3"
  },
  "language_info": {
   "codemirror_mode": {
    "name": "ipython",
    "version": 3
   },
   "file_extension": ".py",
   "mimetype": "text/x-python",
   "name": "python",
   "nbconvert_exporter": "python",
   "pygments_lexer": "ipython3",
   "version": "3.9.13"
  },
  "papermill": {
   "default_parameters": {},
   "duration": 6932.322941,
   "end_time": "2022-10-21T03:28:59.377318",
   "environment_variables": {},
   "exception": null,
   "input_path": "__notebook__.ipynb",
   "output_path": "__notebook__.ipynb",
   "parameters": {},
   "start_time": "2022-10-21T01:33:27.054377",
   "version": "2.3.4"
  }
 },
 "nbformat": 4,
 "nbformat_minor": 5
}
