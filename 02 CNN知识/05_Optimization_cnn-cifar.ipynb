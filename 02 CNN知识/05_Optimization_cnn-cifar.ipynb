{
  "cells": [
    {
      "cell_type": "markdown",
      "id": "48162b0c",
      "metadata": {
        "papermill": {
          "duration": 0.029873,
          "end_time": "2022-10-21T01:33:38.519732",
          "exception": false,
          "start_time": "2022-10-21T01:33:38.489859",
          "status": "completed"
        },
        "tags": [],
        "id": "48162b0c"
      },
      "source": [
        "### 上一节课我们搭建CNN网络对CIFAR数据集进行分类任务，得到了初步的效果，很可惜，不太好。本节课，我们看一下我们还能做什么？"
      ]
    },
    {
      "cell_type": "code",
      "source": [
        "from google.colab import drive\n",
        "drive.mount('/content/drive')"
      ],
      "metadata": {
        "id": "yR32QVoKy6qq",
        "outputId": "e06eccb6-497e-46b6-b5ba-d907b604ac51",
        "colab": {
          "base_uri": "https://localhost:8080/"
        }
      },
      "id": "yR32QVoKy6qq",
      "execution_count": 17,
      "outputs": [
        {
          "output_type": "stream",
          "name": "stdout",
          "text": [
            "Drive already mounted at /content/drive; to attempt to forcibly remount, call drive.mount(\"/content/drive\", force_remount=True).\n"
          ]
        }
      ]
    },
    {
      "cell_type": "markdown",
      "id": "5c29da92",
      "metadata": {
        "papermill": {
          "duration": 0.029144,
          "end_time": "2022-10-21T01:33:38.675697",
          "exception": false,
          "start_time": "2022-10-21T01:33:38.646553",
          "status": "completed"
        },
        "tags": [],
        "id": "5c29da92"
      },
      "source": [
        "### 准备数据集"
      ]
    },
    {
      "cell_type": "code",
      "execution_count": 18,
      "id": "8001e112",
      "metadata": {
        "execution": {
          "iopub.execute_input": "2022-10-21T01:33:38.734057Z",
          "iopub.status.busy": "2022-10-21T01:33:38.733605Z",
          "iopub.status.idle": "2022-10-21T01:33:47.959773Z",
          "shell.execute_reply": "2022-10-21T01:33:47.957611Z"
        },
        "papermill": {
          "duration": 9.259016,
          "end_time": "2022-10-21T01:33:47.962972",
          "exception": false,
          "start_time": "2022-10-21T01:33:38.703956",
          "status": "completed"
        },
        "tags": [],
        "id": "8001e112"
      },
      "outputs": [],
      "source": [
        "import os\n",
        "import tensorflow as tf\n",
        "from tensorflow.keras import datasets"
      ]
    },
    {
      "cell_type": "code",
      "execution_count": 19,
      "id": "16137fa2",
      "metadata": {
        "execution": {
          "iopub.execute_input": "2022-10-21T01:33:48.018839Z",
          "iopub.status.busy": "2022-10-21T01:33:48.018146Z",
          "iopub.status.idle": "2022-10-21T01:33:48.024961Z",
          "shell.execute_reply": "2022-10-21T01:33:48.023369Z"
        },
        "papermill": {
          "duration": 0.037412,
          "end_time": "2022-10-21T01:33:48.027869",
          "exception": false,
          "start_time": "2022-10-21T01:33:47.990457",
          "status": "completed"
        },
        "tags": [],
        "id": "16137fa2",
        "outputId": "33dbc0e6-ad3d-49d2-aa96-ae4b97e976a7",
        "colab": {
          "base_uri": "https://localhost:8080/"
        }
      },
      "outputs": [
        {
          "output_type": "stream",
          "name": "stdout",
          "text": [
            "2.18.0\n"
          ]
        }
      ],
      "source": [
        "print(tf.__version__)"
      ]
    },
    {
      "cell_type": "code",
      "execution_count": 20,
      "id": "7e5eae38",
      "metadata": {
        "execution": {
          "iopub.execute_input": "2022-10-21T01:33:48.083836Z",
          "iopub.status.busy": "2022-10-21T01:33:48.083404Z",
          "iopub.status.idle": "2022-10-21T01:33:48.091565Z",
          "shell.execute_reply": "2022-10-21T01:33:48.090241Z"
        },
        "papermill": {
          "duration": 0.041268,
          "end_time": "2022-10-21T01:33:48.094573",
          "exception": false,
          "start_time": "2022-10-21T01:33:48.053305",
          "status": "completed"
        },
        "tags": [],
        "id": "7e5eae38"
      },
      "outputs": [],
      "source": [
        "from tensorflow import keras\n",
        "from tensorflow.keras import layers, optimizers\n",
        "from tensorflow.keras.layers import Dense, Dropout, Flatten\n",
        "from tensorflow.keras.layers import Conv2D, MaxPooling2D"
      ]
    },
    {
      "cell_type": "code",
      "execution_count": 21,
      "id": "1b691c8c",
      "metadata": {
        "execution": {
          "iopub.execute_input": "2022-10-21T01:33:48.151949Z",
          "iopub.status.busy": "2022-10-21T01:33:48.151151Z",
          "iopub.status.idle": "2022-10-21T01:33:48.157801Z",
          "shell.execute_reply": "2022-10-21T01:33:48.156390Z"
        },
        "papermill": {
          "duration": 0.039404,
          "end_time": "2022-10-21T01:33:48.160786",
          "exception": false,
          "start_time": "2022-10-21T01:33:48.121382",
          "status": "completed"
        },
        "tags": [],
        "id": "1b691c8c"
      },
      "outputs": [],
      "source": [
        "import matplotlib.pyplot as plt\n",
        "from tensorflow.keras import Sequential\n",
        "from PIL import Image\n",
        "import numpy as np"
      ]
    },
    {
      "cell_type": "code",
      "execution_count": 22,
      "id": "83873fd8",
      "metadata": {
        "execution": {
          "iopub.execute_input": "2022-10-21T01:33:48.216573Z",
          "iopub.status.busy": "2022-10-21T01:33:48.216095Z",
          "iopub.status.idle": "2022-10-21T01:33:48.222095Z",
          "shell.execute_reply": "2022-10-21T01:33:48.220576Z"
        },
        "papermill": {
          "duration": 0.038244,
          "end_time": "2022-10-21T01:33:48.224912",
          "exception": false,
          "start_time": "2022-10-21T01:33:48.186668",
          "status": "completed"
        },
        "tags": [],
        "id": "83873fd8"
      },
      "outputs": [],
      "source": [
        "#(x_train,y_train),(x_test,y_test) = datasets.cifar10.load_data()"
      ]
    },
    {
      "cell_type": "markdown",
      "id": "e2b498bf",
      "metadata": {
        "papermill": {
          "duration": 0.026282,
          "end_time": "2022-10-21T01:33:48.277023",
          "exception": false,
          "start_time": "2022-10-21T01:33:48.250741",
          "status": "completed"
        },
        "tags": [],
        "id": "e2b498bf"
      },
      "source": [
        "\n",
        "### 本地读取数据集http://www.cs.toronto.edu/~kriz/cifar.html"
      ]
    },
    {
      "cell_type": "code",
      "execution_count": 23,
      "id": "19964981",
      "metadata": {
        "execution": {
          "iopub.execute_input": "2022-10-21T01:33:48.334049Z",
          "iopub.status.busy": "2022-10-21T01:33:48.333030Z",
          "iopub.status.idle": "2022-10-21T01:33:48.338840Z",
          "shell.execute_reply": "2022-10-21T01:33:48.337835Z"
        },
        "papermill": {
          "duration": 0.037338,
          "end_time": "2022-10-21T01:33:48.341338",
          "exception": false,
          "start_time": "2022-10-21T01:33:48.304000",
          "status": "completed"
        },
        "tags": [],
        "id": "19964981"
      },
      "outputs": [],
      "source": [
        "#在给定数据文件中读取图片数据出来。\n",
        "def unpickle(file):\n",
        "    import pickle\n",
        "    with open(file, 'rb') as fo:\n",
        "        dict = pickle.load(fo, encoding='bytes')\n",
        "    return dict"
      ]
    },
    {
      "cell_type": "code",
      "execution_count": 24,
      "id": "7d11d895",
      "metadata": {
        "execution": {
          "iopub.execute_input": "2022-10-21T01:33:51.281246Z",
          "iopub.status.busy": "2022-10-21T01:33:51.280490Z",
          "iopub.status.idle": "2022-10-21T01:33:54.687911Z",
          "shell.execute_reply": "2022-10-21T01:33:54.686406Z"
        },
        "papermill": {
          "duration": 3.440556,
          "end_time": "2022-10-21T01:33:54.691059",
          "exception": false,
          "start_time": "2022-10-21T01:33:51.250503",
          "status": "completed"
        },
        "tags": [],
        "id": "7d11d895",
        "outputId": "be8c033d-d4e7-4bcb-b66f-736d40d724b4",
        "colab": {
          "base_uri": "https://localhost:8080/",
          "height": 339
        }
      },
      "outputs": [
        {
          "output_type": "stream",
          "name": "stdout",
          "text": [
            "cifar-10-batches-py/data_batch_1\n"
          ]
        },
        {
          "output_type": "error",
          "ename": "FileNotFoundError",
          "evalue": "[Errno 2] No such file or directory: 'cifar-10-batches-py/data_batch_1'",
          "traceback": [
            "\u001b[0;31m---------------------------------------------------------------------------\u001b[0m",
            "\u001b[0;31mFileNotFoundError\u001b[0m                         Traceback (most recent call last)",
            "\u001b[0;32m<ipython-input-24-26e11b2aa735>\u001b[0m in \u001b[0;36m<cell line: 0>\u001b[0;34m()\u001b[0m\n\u001b[1;32m     32\u001b[0m \u001b[0;34m\u001b[0m\u001b[0m\n\u001b[1;32m     33\u001b[0m     \u001b[0;32mreturn\u001b[0m \u001b[0mtraindata\u001b[0m\u001b[0;34m,\u001b[0m\u001b[0mtrainlabels\u001b[0m\u001b[0;34m,\u001b[0m\u001b[0mtestdata\u001b[0m\u001b[0;34m,\u001b[0m\u001b[0mtestlabels\u001b[0m\u001b[0;34m\u001b[0m\u001b[0;34m\u001b[0m\u001b[0m\n\u001b[0;32m---> 34\u001b[0;31m \u001b[0mtraindata\u001b[0m\u001b[0;34m,\u001b[0m\u001b[0mtrainlabels\u001b[0m\u001b[0;34m,\u001b[0m\u001b[0mtestdata\u001b[0m\u001b[0;34m,\u001b[0m\u001b[0mtestlabels\u001b[0m \u001b[0;34m=\u001b[0m \u001b[0mCreatData\u001b[0m\u001b[0;34m(\u001b[0m\u001b[0;34m)\u001b[0m\u001b[0;34m\u001b[0m\u001b[0;34m\u001b[0m\u001b[0m\n\u001b[0m",
            "\u001b[0;32m<ipython-input-24-26e11b2aa735>\u001b[0m in \u001b[0;36mCreatData\u001b[0;34m()\u001b[0m\n\u001b[1;32m      8\u001b[0m         \u001b[0mbatch_path\u001b[0m\u001b[0;34m=\u001b[0m\u001b[0;34m'cifar-10-batches-py/data_batch_%d'\u001b[0m\u001b[0;34m%\u001b[0m\u001b[0;34m(\u001b[0m\u001b[0mi\u001b[0m\u001b[0;34m)\u001b[0m\u001b[0;31m##/kaggle/input/cifar10batchespy/##'cifar_dataset/data_batch_%d'%(i)\u001b[0m\u001b[0;34m\u001b[0m\u001b[0;34m\u001b[0m\u001b[0m\n\u001b[1;32m      9\u001b[0m         \u001b[0mprint\u001b[0m\u001b[0;34m(\u001b[0m\u001b[0mbatch_path\u001b[0m\u001b[0;34m)\u001b[0m\u001b[0;34m\u001b[0m\u001b[0;34m\u001b[0m\u001b[0m\n\u001b[0;32m---> 10\u001b[0;31m         \u001b[0mbatch_dict\u001b[0m\u001b[0;34m=\u001b[0m\u001b[0munpickle\u001b[0m\u001b[0;34m(\u001b[0m\u001b[0mbatch_path\u001b[0m\u001b[0;34m)\u001b[0m\u001b[0;34m\u001b[0m\u001b[0;34m\u001b[0m\u001b[0m\n\u001b[0m\u001b[1;32m     11\u001b[0m         \u001b[0mprint\u001b[0m\u001b[0;34m(\u001b[0m\u001b[0;34m\"unzip\"\u001b[0m\u001b[0;34m)\u001b[0m\u001b[0;34m\u001b[0m\u001b[0;34m\u001b[0m\u001b[0m\n\u001b[1;32m     12\u001b[0m         \u001b[0mtrain_batch\u001b[0m\u001b[0;34m=\u001b[0m\u001b[0mbatch_dict\u001b[0m\u001b[0;34m[\u001b[0m\u001b[0;34mb'data'\u001b[0m\u001b[0;34m]\u001b[0m\u001b[0;34m.\u001b[0m\u001b[0mastype\u001b[0m\u001b[0;34m(\u001b[0m\u001b[0;34m'float'\u001b[0m\u001b[0;34m)\u001b[0m\u001b[0;34m\u001b[0m\u001b[0;34m\u001b[0m\u001b[0m\n",
            "\u001b[0;32m<ipython-input-23-4e28da561e25>\u001b[0m in \u001b[0;36munpickle\u001b[0;34m(file)\u001b[0m\n\u001b[1;32m      2\u001b[0m \u001b[0;32mdef\u001b[0m \u001b[0munpickle\u001b[0m\u001b[0;34m(\u001b[0m\u001b[0mfile\u001b[0m\u001b[0;34m)\u001b[0m\u001b[0;34m:\u001b[0m\u001b[0;34m\u001b[0m\u001b[0;34m\u001b[0m\u001b[0m\n\u001b[1;32m      3\u001b[0m     \u001b[0;32mimport\u001b[0m \u001b[0mpickle\u001b[0m\u001b[0;34m\u001b[0m\u001b[0;34m\u001b[0m\u001b[0m\n\u001b[0;32m----> 4\u001b[0;31m     \u001b[0;32mwith\u001b[0m \u001b[0mopen\u001b[0m\u001b[0;34m(\u001b[0m\u001b[0mfile\u001b[0m\u001b[0;34m,\u001b[0m \u001b[0;34m'rb'\u001b[0m\u001b[0;34m)\u001b[0m \u001b[0;32mas\u001b[0m \u001b[0mfo\u001b[0m\u001b[0;34m:\u001b[0m\u001b[0;34m\u001b[0m\u001b[0;34m\u001b[0m\u001b[0m\n\u001b[0m\u001b[1;32m      5\u001b[0m         \u001b[0mdict\u001b[0m \u001b[0;34m=\u001b[0m \u001b[0mpickle\u001b[0m\u001b[0;34m.\u001b[0m\u001b[0mload\u001b[0m\u001b[0;34m(\u001b[0m\u001b[0mfo\u001b[0m\u001b[0;34m,\u001b[0m \u001b[0mencoding\u001b[0m\u001b[0;34m=\u001b[0m\u001b[0;34m'bytes'\u001b[0m\u001b[0;34m)\u001b[0m\u001b[0;34m\u001b[0m\u001b[0;34m\u001b[0m\u001b[0m\n\u001b[1;32m      6\u001b[0m     \u001b[0;32mreturn\u001b[0m \u001b[0mdict\u001b[0m\u001b[0;34m\u001b[0m\u001b[0;34m\u001b[0m\u001b[0m\n",
            "\u001b[0;31mFileNotFoundError\u001b[0m: [Errno 2] No such file or directory: 'cifar-10-batches-py/data_batch_1'"
          ]
        }
      ],
      "source": [
        "#创建训练样本和测试样本\n",
        "def CreatData():\n",
        "    #创建训练样本\n",
        "    #依次加载batch_data_i,并合并到x,y\n",
        "    x=[]\n",
        "    y=[]\n",
        "    for i in range(1,6):\n",
        "        batch_path='/content/drive/MyDrive/gitClone/AI/02 CNN知识/cifar-10-batches-py/data_batch_%d'%(i)##/kaggle/input/cifar10batchespy/##'cifar_dataset/data_batch_%d'%(i)\n",
        "        print(batch_path)\n",
        "        batch_dict=unpickle(batch_path)\n",
        "        print(\"unzip\")\n",
        "        train_batch=batch_dict[b'data'].astype('float')\n",
        "        train_labels=np.array(batch_dict[b'labels'])\n",
        "        x.append(train_batch)\n",
        "        y.append(train_labels)\n",
        "    print(\"hello\")\n",
        "    #将5个训练样本batch合并为50000x3072，标签合并为50000x1\n",
        "    #np.concatenate默认axis=0，为纵向连接\n",
        "    traindata=np.concatenate(x)\n",
        "    trainlabels=np.concatenate(y)\n",
        "\n",
        "    #创建测试样本\n",
        "    #直接写cifar-10-batches-py\\test_batch会报错，因此把/t当作制表符了，应用\\\\;\n",
        "    #    test_dict=unpickle(\"cifar-10-batches-py\\\\test_batch\")\n",
        "\n",
        "    #建议使用os.path.join()函数\n",
        "    testpath=os.path.join('/content/drive/MyDrive/gitClone/AI/02 CNN知识/cifar-10-batches-py','test_batch')\n",
        "    print(testpath)\n",
        "    test_dict=unpickle(testpath)\n",
        "    testdata=test_dict[b'data'].astype('float')\n",
        "    testlabels=np.array(test_dict[b'labels'])\n",
        "\n",
        "    return traindata,trainlabels,testdata,testlabels\n",
        "traindata,trainlabels,testdata,testlabels = CreatData()"
      ]
    },
    {
      "cell_type": "code",
      "execution_count": null,
      "id": "9afa6f29",
      "metadata": {
        "execution": {
          "iopub.execute_input": "2022-10-21T01:33:54.750186Z",
          "iopub.status.busy": "2022-10-21T01:33:54.748925Z",
          "iopub.status.idle": "2022-10-21T01:33:54.864772Z",
          "shell.execute_reply": "2022-10-21T01:33:54.863377Z"
        },
        "papermill": {
          "duration": 0.148973,
          "end_time": "2022-10-21T01:33:54.868475",
          "exception": false,
          "start_time": "2022-10-21T01:33:54.719502",
          "status": "completed"
        },
        "tags": [],
        "id": "9afa6f29"
      },
      "outputs": [],
      "source": [
        "print(traindata.max())#通过最大值可以看到图片数据的格式和最大值。以便于调整使用imshow显示\n",
        "print('train size is :',traindata.shape)\n",
        "print('train_labels size is :',trainlabels.shape)\n",
        "print('test size is :',testdata.shape)\n",
        "print('test_labels size is :',testlabels.shape)"
      ]
    },
    {
      "cell_type": "markdown",
      "id": "f06b4069",
      "metadata": {
        "papermill": {
          "duration": 0.02695,
          "end_time": "2022-10-21T01:33:54.923742",
          "exception": false,
          "start_time": "2022-10-21T01:33:54.896792",
          "status": "completed"
        },
        "tags": [],
        "id": "f06b4069"
      },
      "source": [
        "#### 我们可以看到训练集里面有5万张，测试集有1万，大小是32x32x3.然后标签是一维数据"
      ]
    },
    {
      "cell_type": "code",
      "execution_count": null,
      "id": "fee1defe",
      "metadata": {
        "execution": {
          "iopub.execute_input": "2022-10-21T01:33:54.982697Z",
          "iopub.status.busy": "2022-10-21T01:33:54.982260Z",
          "iopub.status.idle": "2022-10-21T01:33:55.590088Z",
          "shell.execute_reply": "2022-10-21T01:33:55.588536Z"
        },
        "papermill": {
          "duration": 0.640636,
          "end_time": "2022-10-21T01:33:55.592751",
          "exception": false,
          "start_time": "2022-10-21T01:33:54.952115",
          "status": "completed"
        },
        "tags": [],
        "id": "fee1defe"
      },
      "outputs": [],
      "source": [
        "#合并数据集为了后面的乱序\n",
        "train_test = np.concatenate((traindata,testdata),axis=0)\n",
        "print(train_test.shape)\n",
        "train_test_label = np.concatenate((trainlabels,testlabels),axis=0)\n",
        "train_test_label.shape"
      ]
    },
    {
      "cell_type": "code",
      "execution_count": null,
      "id": "6f92f651",
      "metadata": {
        "execution": {
          "iopub.execute_input": "2022-10-21T01:33:55.652481Z",
          "iopub.status.busy": "2022-10-21T01:33:55.651968Z",
          "iopub.status.idle": "2022-10-21T01:33:56.985501Z",
          "shell.execute_reply": "2022-10-21T01:33:56.984210Z"
        },
        "papermill": {
          "duration": 1.366526,
          "end_time": "2022-10-21T01:33:56.988176",
          "exception": false,
          "start_time": "2022-10-21T01:33:55.621650",
          "status": "completed"
        },
        "tags": [],
        "id": "6f92f651"
      },
      "outputs": [],
      "source": [
        "import sklearn as sk#打乱数组和标签的顺序\n",
        "x,y = sk.utils.shuffle(train_test,train_test_label,random_state=1)"
      ]
    },
    {
      "cell_type": "markdown",
      "id": "1b82d25b",
      "metadata": {
        "papermill": {
          "duration": 0.027239,
          "end_time": "2022-10-21T01:33:57.117052",
          "exception": false,
          "start_time": "2022-10-21T01:33:57.089813",
          "status": "completed"
        },
        "tags": [],
        "id": "1b82d25b"
      },
      "source": [
        "#### 数据处理：1）归一化  2）one hot encoding"
      ]
    },
    {
      "cell_type": "code",
      "execution_count": null,
      "id": "e27a5d3a",
      "metadata": {
        "execution": {
          "iopub.execute_input": "2022-10-21T01:33:57.183907Z",
          "iopub.status.busy": "2022-10-21T01:33:57.183513Z",
          "iopub.status.idle": "2022-10-21T01:33:57.651937Z",
          "shell.execute_reply": "2022-10-21T01:33:57.650702Z"
        },
        "papermill": {
          "duration": 0.504905,
          "end_time": "2022-10-21T01:33:57.654745",
          "exception": false,
          "start_time": "2022-10-21T01:33:57.149840",
          "status": "completed"
        },
        "tags": [],
        "id": "e27a5d3a"
      },
      "outputs": [],
      "source": [
        "#数据归一化\n",
        "x_guiyi = x.astype('float32')/255\n",
        "#做one hot encoding\n",
        "y_onehot = tf.keras.utils.to_categorical(y)"
      ]
    },
    {
      "cell_type": "markdown",
      "id": "79cefac5",
      "metadata": {
        "papermill": {
          "duration": 0.027292,
          "end_time": "2022-10-21T01:33:57.709537",
          "exception": false,
          "start_time": "2022-10-21T01:33:57.682245",
          "status": "completed"
        },
        "tags": [],
        "id": "79cefac5"
      },
      "source": [
        "#### 在上面的test集读取，reshshape和显示的时候，我们注意到了:\n",
        "#### 1.数据的存储矩阵为【3，32，32】，所以我们根据上面的操作，重新操作训练集。"
      ]
    },
    {
      "cell_type": "code",
      "execution_count": null,
      "id": "252b8646",
      "metadata": {
        "execution": {
          "iopub.execute_input": "2022-10-21T01:33:57.766587Z",
          "iopub.status.busy": "2022-10-21T01:33:57.766164Z",
          "iopub.status.idle": "2022-10-21T01:33:57.772130Z",
          "shell.execute_reply": "2022-10-21T01:33:57.770907Z"
        },
        "papermill": {
          "duration": 0.037746,
          "end_time": "2022-10-21T01:33:57.774849",
          "exception": false,
          "start_time": "2022-10-21T01:33:57.737103",
          "status": "completed"
        },
        "tags": [],
        "id": "252b8646"
      },
      "outputs": [],
      "source": [
        "x_images = np.reshape(x_guiyi, (x_guiyi.shape[0],3, 32, 32))"
      ]
    },
    {
      "cell_type": "markdown",
      "id": "6a817214",
      "metadata": {
        "papermill": {
          "duration": 0.027479,
          "end_time": "2022-10-21T01:33:57.830122",
          "exception": false,
          "start_time": "2022-10-21T01:33:57.802643",
          "status": "completed"
        },
        "tags": [],
        "id": "6a817214"
      },
      "source": [
        "### 调整数组格式为50000，32，32，3.使用transpose函数，参考test数据集时候的矩阵转置方法。"
      ]
    },
    {
      "cell_type": "code",
      "execution_count": null,
      "id": "fe488b13",
      "metadata": {
        "execution": {
          "iopub.execute_input": "2022-10-21T01:33:57.887579Z",
          "iopub.status.busy": "2022-10-21T01:33:57.887160Z",
          "iopub.status.idle": "2022-10-21T01:33:57.892653Z",
          "shell.execute_reply": "2022-10-21T01:33:57.891331Z"
        },
        "papermill": {
          "duration": 0.037194,
          "end_time": "2022-10-21T01:33:57.895160",
          "exception": false,
          "start_time": "2022-10-21T01:33:57.857966",
          "status": "completed"
        },
        "tags": [],
        "id": "fe488b13"
      },
      "outputs": [],
      "source": [
        "x_images_images = np.transpose(x_images,(0,2,3,1)) # 读取image"
      ]
    },
    {
      "cell_type": "code",
      "execution_count": null,
      "id": "19410c49",
      "metadata": {
        "execution": {
          "iopub.execute_input": "2022-10-21T01:33:57.955052Z",
          "iopub.status.busy": "2022-10-21T01:33:57.954629Z",
          "iopub.status.idle": "2022-10-21T01:33:58.204449Z",
          "shell.execute_reply": "2022-10-21T01:33:58.202676Z"
        },
        "papermill": {
          "duration": 0.282932,
          "end_time": "2022-10-21T01:33:58.207380",
          "exception": false,
          "start_time": "2022-10-21T01:33:57.924448",
          "status": "completed"
        },
        "tags": [],
        "id": "19410c49"
      },
      "outputs": [],
      "source": [
        "plt.figure()\n",
        "plt.subplot(2,2,1)\n",
        "plt.imshow(x_images_images[1])\n",
        "plt.axis('off')\n",
        "\n",
        "\n",
        "plt.subplot(2,2,2)\n",
        "plt.imshow(x_images_images[1][:,:,0])\n",
        "plt.axis('off')\n",
        "\n",
        "\n",
        "plt.subplot(2,2,3)\n",
        "plt.imshow(x_images_images[1][:,:,1])#(x_train_images[1].astype('uint8')[:,:,1])\n",
        "plt.axis('off')\n",
        "\n",
        "\n",
        "plt.subplot(2,2,4)\n",
        "plt.imshow(x_images_images[1][:,:,2])\n",
        "plt.axis('off')\n",
        "print(y_onehot[1])"
      ]
    },
    {
      "cell_type": "code",
      "execution_count": null,
      "id": "d52ecf4b",
      "metadata": {
        "execution": {
          "iopub.execute_input": "2022-10-21T01:33:58.266703Z",
          "iopub.status.busy": "2022-10-21T01:33:58.266262Z",
          "iopub.status.idle": "2022-10-21T01:33:58.272622Z",
          "shell.execute_reply": "2022-10-21T01:33:58.271221Z"
        },
        "papermill": {
          "duration": 0.039535,
          "end_time": "2022-10-21T01:33:58.275769",
          "exception": false,
          "start_time": "2022-10-21T01:33:58.236234",
          "status": "completed"
        },
        "tags": [],
        "id": "d52ecf4b"
      },
      "outputs": [],
      "source": [
        "print(x_images_images.shape,y_onehot.shape)"
      ]
    },
    {
      "cell_type": "markdown",
      "id": "220c41d3",
      "metadata": {
        "papermill": {
          "duration": 0.028369,
          "end_time": "2022-10-21T01:33:58.333263",
          "exception": false,
          "start_time": "2022-10-21T01:33:58.304894",
          "status": "completed"
        },
        "tags": [],
        "id": "220c41d3"
      },
      "source": [
        "## 至此，我们的数据集如下：\n",
        "### x_images_images----(60000, 32, 32, 3),取值范围0-1.\n",
        "###        y_onehot----(60000,10)\n",
        "### 为了减少模型运行时间以观察效果，我们做了两个事情，1）我们缩减了数据集，每个类别里面抽取300张图片。最终数据集为3000张图片。2）3D变2D灰度图像（可以不做）"
      ]
    },
    {
      "cell_type": "code",
      "execution_count": null,
      "id": "290c28b2",
      "metadata": {
        "execution": {
          "iopub.execute_input": "2022-10-21T01:33:58.394783Z",
          "iopub.status.busy": "2022-10-21T01:33:58.394370Z",
          "iopub.status.idle": "2022-10-21T01:33:58.403941Z",
          "shell.execute_reply": "2022-10-21T01:33:58.402258Z"
        },
        "papermill": {
          "duration": 0.044722,
          "end_time": "2022-10-21T01:33:58.407642",
          "exception": false,
          "start_time": "2022-10-21T01:33:58.362920",
          "status": "completed"
        },
        "tags": [],
        "id": "290c28b2"
      },
      "outputs": [],
      "source": [
        "## 学习list的基本操作\n",
        "test_list = [[j for j in range(1)] for i in range(10)]\n",
        "print(test_list)\n",
        "print(\"----------------\")\n",
        "test_list[0].append(1)\n",
        "print(test_list)\n",
        "print(\"----------------\")\n",
        "test_list[0].pop()\n",
        "print(test_list)\n",
        "print(\"----------------\")\n",
        "test_list[0].pop()\n",
        "print(test_list)\n",
        "print(\"----------------\")"
      ]
    },
    {
      "cell_type": "code",
      "execution_count": null,
      "id": "05d00dae",
      "metadata": {
        "execution": {
          "iopub.execute_input": "2022-10-21T01:33:58.470110Z",
          "iopub.status.busy": "2022-10-21T01:33:58.469676Z",
          "iopub.status.idle": "2022-10-21T01:33:58.479829Z",
          "shell.execute_reply": "2022-10-21T01:33:58.478316Z"
        },
        "papermill": {
          "duration": 0.044829,
          "end_time": "2022-10-21T01:33:58.482937",
          "exception": false,
          "start_time": "2022-10-21T01:33:58.438108",
          "status": "completed"
        },
        "tags": [],
        "id": "05d00dae"
      },
      "outputs": [],
      "source": [
        "def suojian(data,label, num):#data是需要被缩减的数据，label是对应data的标签，num是每个列别需要保留的个数\n",
        "    class_label = [[j for j in range(1)] for i in range(10)]\n",
        "    for i in range(10):\n",
        "       # print(i)\n",
        "        class_label[i].pop()#存储每个类别的索引\n",
        "    for i in range(label.shape[0]):\n",
        "        class_label[np.argmax(label[i])].append(i)\n",
        "    #print(class_label)二维list，一维表示10个分类，一个维度记录着每个分类的图片所在下标\n",
        "    #print(class_label[0][0:10])\n",
        "    baoliu = []\n",
        "    for i in range(10):\n",
        "        temp = class_label[i][num:]\n",
        "        #print(len(temp))\n",
        "        baoliu.extend(temp)\n",
        "    print(len(baoliu))\n",
        "    #print(baoliu,len(baoliu))\n",
        "    label1 =  np.delete(label,baoliu,axis=0)\n",
        "    data1 = np.delete(data,baoliu,axis=0)\n",
        "    x,y = sk.utils.shuffle(data1,label1,random_state=1)\n",
        "    #print(data.shape,data1.shape)\n",
        "    #print(label.shape,label1.shape)\n",
        "    return x,y"
      ]
    },
    {
      "cell_type": "code",
      "execution_count": null,
      "id": "ae13afef",
      "metadata": {
        "execution": {
          "iopub.execute_input": "2022-10-21T01:33:58.544317Z",
          "iopub.status.busy": "2022-10-21T01:33:58.543899Z",
          "iopub.status.idle": "2022-10-21T01:33:58.727293Z",
          "shell.execute_reply": "2022-10-21T01:33:58.725432Z"
        },
        "papermill": {
          "duration": 0.217459,
          "end_time": "2022-10-21T01:33:58.730315",
          "exception": false,
          "start_time": "2022-10-21T01:33:58.512856",
          "status": "completed"
        },
        "tags": [],
        "id": "ae13afef"
      },
      "outputs": [],
      "source": [
        "suojian_x_images_images,suojian_y_onehot = suojian(x_images_images,y_onehot, 300)  #x_test_images,y_test #suojian(x_test_images,y_test, 5)\n",
        "print('suojian totol images is :',suojian_x_images_images.shape)\n",
        "print('suojian totol labels size is :',suojian_y_onehot.shape)"
      ]
    },
    {
      "cell_type": "markdown",
      "id": "33fd7df1",
      "metadata": {
        "papermill": {
          "duration": 0.029588,
          "end_time": "2022-10-21T01:33:58.788260",
          "exception": false,
          "start_time": "2022-10-21T01:33:58.758672",
          "status": "completed"
        },
        "tags": [],
        "id": "33fd7df1"
      },
      "source": [
        "### 拆分训练集/验证机/测试集，比例为8：1：1，也就是2400/300/300个。"
      ]
    },
    {
      "cell_type": "code",
      "execution_count": null,
      "id": "dbc27390",
      "metadata": {
        "execution": {
          "iopub.execute_input": "2022-10-21T01:33:58.850545Z",
          "iopub.status.busy": "2022-10-21T01:33:58.849086Z",
          "iopub.status.idle": "2022-10-21T01:33:58.856821Z",
          "shell.execute_reply": "2022-10-21T01:33:58.855869Z"
        },
        "papermill": {
          "duration": 0.040794,
          "end_time": "2022-10-21T01:33:58.859480",
          "exception": false,
          "start_time": "2022-10-21T01:33:58.818686",
          "status": "completed"
        },
        "tags": [],
        "id": "dbc27390"
      },
      "outputs": [],
      "source": [
        "# 观察过拟合现象.1)拆分数据集\n",
        "def train_val_test(train_images,train_labels,ratio):\n",
        "    num = train_images.shape[0] #总的数据集个数\n",
        "    split_num_train = num - 2*round(num*ratio)\n",
        "    split_num_val = num - round(num*ratio)\n",
        "#拆分数据集和验证集\n",
        "    train = train_images[:split_num_train]\n",
        "    val = train_images[split_num_train:split_num_val]\n",
        "    test = train_images[split_num_val:]\n",
        "#拆分数据集和验证集标签\n",
        "    train_label = train_labels[:split_num_train]\n",
        "    val_label = train_labels[split_num_train:split_num_val]\n",
        "    test_label = train_labels[split_num_val:]\n",
        "\n",
        "    return (train,train_label,val,val_label,test,test_label)"
      ]
    },
    {
      "cell_type": "code",
      "execution_count": null,
      "id": "4f9979d8",
      "metadata": {
        "execution": {
          "iopub.execute_input": "2022-10-21T01:33:58.922923Z",
          "iopub.status.busy": "2022-10-21T01:33:58.920149Z",
          "iopub.status.idle": "2022-10-21T01:33:58.931869Z",
          "shell.execute_reply": "2022-10-21T01:33:58.929577Z"
        },
        "papermill": {
          "duration": 0.046329,
          "end_time": "2022-10-21T01:33:58.934786",
          "exception": false,
          "start_time": "2022-10-21T01:33:58.888457",
          "status": "completed"
        },
        "tags": [],
        "id": "4f9979d8"
      },
      "outputs": [],
      "source": [
        "\n",
        "(sj_train,sj_train_label,sj_val,sj_val_label,sj_test,sj_test_label) = train_val_test(suojian_x_images_images,suojian_y_onehot,0.1)\n",
        "print('suojian train images is :',sj_train.shape)\n",
        "print('suojian train labels size is :',sj_train_label.shape)\n",
        "print('suojian val images is :',sj_val.shape)\n",
        "print('suojian val labels size is :',sj_val_label.shape)\n",
        "print('suojian test images is :',sj_test.shape)\n",
        "print('suojian test labels size is :',sj_test_label.shape)"
      ]
    },
    {
      "cell_type": "code",
      "execution_count": null,
      "id": "bc760ce8",
      "metadata": {
        "execution": {
          "iopub.execute_input": "2022-10-21T01:33:59.315800Z",
          "iopub.status.busy": "2022-10-21T01:33:59.315383Z",
          "iopub.status.idle": "2022-10-21T01:33:59.320641Z",
          "shell.execute_reply": "2022-10-21T01:33:59.319448Z"
        },
        "papermill": {
          "duration": 0.038187,
          "end_time": "2022-10-21T01:33:59.323017",
          "exception": false,
          "start_time": "2022-10-21T01:33:59.284830",
          "status": "completed"
        },
        "tags": [],
        "id": "bc760ce8"
      },
      "outputs": [],
      "source": [
        "#### 搭建模型"
      ]
    },
    {
      "cell_type": "code",
      "execution_count": null,
      "id": "23f1c771",
      "metadata": {
        "execution": {
          "iopub.execute_input": "2022-10-21T01:33:59.382217Z",
          "iopub.status.busy": "2022-10-21T01:33:59.381449Z",
          "iopub.status.idle": "2022-10-21T01:33:59.561374Z",
          "shell.execute_reply": "2022-10-21T01:33:59.559841Z"
        },
        "papermill": {
          "duration": 0.212518,
          "end_time": "2022-10-21T01:33:59.564061",
          "exception": false,
          "start_time": "2022-10-21T01:33:59.351543",
          "status": "completed"
        },
        "tags": [],
        "id": "23f1c771"
      },
      "outputs": [],
      "source": [
        "input_shape = (32,32,3)\n",
        "model = Sequential()\n",
        "model.add(Conv2D(8, kernel_size=(5,5),activation='sigmoid',padding='same', input_shape=input_shape))\n",
        "model.add(MaxPooling2D(pool_size=(2,2), strides=2))\n",
        "model.add(Conv2D(16,kernel_size=(5,5),activation='sigmoid',padding='same'))\n",
        "model.add(MaxPooling2D(pool_size=(2,2), strides=2))\n",
        "model.add(Flatten())\n",
        "model.add(Dense(units=10,activation='sigmoid'))\n",
        "model.summary()"
      ]
    },
    {
      "cell_type": "code",
      "execution_count": null,
      "id": "d2882225",
      "metadata": {
        "execution": {
          "iopub.execute_input": "2022-10-21T01:33:59.624146Z",
          "iopub.status.busy": "2022-10-21T01:33:59.623741Z",
          "iopub.status.idle": "2022-10-21T01:33:59.638217Z",
          "shell.execute_reply": "2022-10-21T01:33:59.636922Z"
        },
        "papermill": {
          "duration": 0.047362,
          "end_time": "2022-10-21T01:33:59.641141",
          "exception": false,
          "start_time": "2022-10-21T01:33:59.593779",
          "status": "completed"
        },
        "tags": [],
        "id": "d2882225"
      },
      "outputs": [],
      "source": [
        "model.compile(loss = 'mse', optimizer = optimizers.SGD(),metrics = ['accuracy'])"
      ]
    },
    {
      "cell_type": "code",
      "execution_count": null,
      "id": "2fa9393d",
      "metadata": {
        "execution": {
          "iopub.execute_input": "2022-10-21T01:33:59.701101Z",
          "iopub.status.busy": "2022-10-21T01:33:59.700653Z",
          "iopub.status.idle": "2022-10-21T01:33:59.707402Z",
          "shell.execute_reply": "2022-10-21T01:33:59.705715Z"
        },
        "papermill": {
          "duration": 0.04049,
          "end_time": "2022-10-21T01:33:59.710620",
          "exception": false,
          "start_time": "2022-10-21T01:33:59.670130",
          "status": "completed"
        },
        "tags": [],
        "id": "2fa9393d"
      },
      "outputs": [],
      "source": [
        "print(sj_train.shape,sj_train_label.shape)"
      ]
    },
    {
      "cell_type": "code",
      "execution_count": null,
      "id": "1e6c33f2",
      "metadata": {
        "execution": {
          "iopub.execute_input": "2022-10-21T01:33:59.771375Z",
          "iopub.status.busy": "2022-10-21T01:33:59.770806Z",
          "iopub.status.idle": "2022-10-21T01:34:28.019903Z",
          "shell.execute_reply": "2022-10-21T01:34:28.018508Z"
        },
        "papermill": {
          "duration": 28.282652,
          "end_time": "2022-10-21T01:34:28.022845",
          "exception": false,
          "start_time": "2022-10-21T01:33:59.740193",
          "status": "completed"
        },
        "tags": [],
        "id": "1e6c33f2"
      },
      "outputs": [],
      "source": [
        "model.fit(sj_train,sj_train_label,batch_size=4,epochs=10,verbose=1)"
      ]
    },
    {
      "cell_type": "code",
      "execution_count": null,
      "id": "cb94320a",
      "metadata": {
        "execution": {
          "iopub.execute_input": "2022-10-21T01:34:28.155700Z",
          "iopub.status.busy": "2022-10-21T01:34:28.155304Z",
          "iopub.status.idle": "2022-10-21T01:34:28.448797Z",
          "shell.execute_reply": "2022-10-21T01:34:28.447561Z"
        },
        "papermill": {
          "duration": 0.362855,
          "end_time": "2022-10-21T01:34:28.451617",
          "exception": false,
          "start_time": "2022-10-21T01:34:28.088762",
          "status": "completed"
        },
        "tags": [],
        "id": "cb94320a"
      },
      "outputs": [],
      "source": [
        "model.evaluate(sj_test,sj_test_label) #其实该函数第一个返回值是损失（loss)，第二个返回值是准确率(acc)"
      ]
    },
    {
      "cell_type": "markdown",
      "id": "41a71a84",
      "metadata": {
        "papermill": {
          "duration": 0.063374,
          "end_time": "2022-10-21T01:34:28.578226",
          "exception": false,
          "start_time": "2022-10-21T01:34:28.514852",
          "status": "completed"
        },
        "tags": [],
        "id": "41a71a84"
      },
      "source": [
        "### 模型性能提升：1）优化器。2）激活函数。3）损失函数.4）过拟合。5）数据增强。"
      ]
    },
    {
      "cell_type": "markdown",
      "id": "8a3205ee",
      "metadata": {
        "papermill": {
          "duration": 0.062429,
          "end_time": "2022-10-21T01:34:28.704569",
          "exception": false,
          "start_time": "2022-10-21T01:34:28.642140",
          "status": "completed"
        },
        "tags": [],
        "id": "8a3205ee"
      },
      "source": [
        "####  1)优化器 Adam虽然可以自动调整学习率，可是初始学习率过大，很可能直接收敛到很差的局部最小值点，而后面的学习因为学习率已经被降低，就再也跳不出去了。所以不宜过大。一般的框架中，默认学习率1e-3。"
      ]
    },
    {
      "cell_type": "code",
      "execution_count": null,
      "id": "070025ec",
      "metadata": {
        "execution": {
          "iopub.execute_input": "2022-10-21T01:34:28.832402Z",
          "iopub.status.busy": "2022-10-21T01:34:28.831600Z",
          "iopub.status.idle": "2022-10-21T01:34:55.332562Z",
          "shell.execute_reply": "2022-10-21T01:34:55.331553Z"
        },
        "papermill": {
          "duration": 26.567688,
          "end_time": "2022-10-21T01:34:55.335049",
          "exception": false,
          "start_time": "2022-10-21T01:34:28.767361",
          "status": "completed"
        },
        "tags": [],
        "id": "070025ec"
      },
      "outputs": [],
      "source": [
        "#优化器,参考链接https://zhuanlan.zhihu.com/p/378629475优化器不同,收敛速度和效果会有不同,具体模型表现不一样,是一个尝试调参的过程.\n",
        "model2 = Sequential()\n",
        "model2.add(Conv2D(8, kernel_size=(5,5),activation='sigmoid',padding='same', input_shape=input_shape))\n",
        "model2.add(MaxPooling2D(pool_size=(2,2), strides=2))\n",
        "model2.add(Conv2D(16,kernel_size=(5,5),activation='sigmoid',padding='same'))\n",
        "model2.add(MaxPooling2D(pool_size=(2,2), strides=2))\n",
        "model2.add(Flatten())\n",
        "model2.add(Dense(units=10,activation='sigmoid'))\n",
        "model2.summary()\n",
        "#优化器改为ADAM\n",
        "model2.compile(loss = 'mse', optimizer = optimizers.Adam(0.001),metrics = ['accuracy'])\n",
        "model2.fit(sj_train,sj_train_label,batch_size=4,epochs=10,verbose=2)"
      ]
    },
    {
      "cell_type": "code",
      "execution_count": null,
      "id": "c4374358",
      "metadata": {
        "execution": {
          "iopub.execute_input": "2022-10-21T01:34:55.471669Z",
          "iopub.status.busy": "2022-10-21T01:34:55.470345Z",
          "iopub.status.idle": "2022-10-21T01:34:55.720701Z",
          "shell.execute_reply": "2022-10-21T01:34:55.719129Z"
        },
        "papermill": {
          "duration": 0.324775,
          "end_time": "2022-10-21T01:34:55.723459",
          "exception": false,
          "start_time": "2022-10-21T01:34:55.398684",
          "status": "completed"
        },
        "tags": [],
        "id": "c4374358"
      },
      "outputs": [],
      "source": [
        "model2.evaluate(sj_test,sj_test_label) #其实该函数第一个返回值是损失（loss)，第二个返回值是准确率(acc)"
      ]
    },
    {
      "cell_type": "markdown",
      "id": "70811b5e",
      "metadata": {
        "papermill": {
          "duration": 0.064362,
          "end_time": "2022-10-21T01:34:55.852795",
          "exception": false,
          "start_time": "2022-10-21T01:34:55.788433",
          "status": "completed"
        },
        "tags": [],
        "id": "70811b5e"
      },
      "source": [
        "#### 2)激活函数 之sigmoid--softmax"
      ]
    },
    {
      "cell_type": "code",
      "execution_count": null,
      "id": "0c9329fe",
      "metadata": {
        "execution": {
          "iopub.execute_input": "2022-10-21T01:34:55.985150Z",
          "iopub.status.busy": "2022-10-21T01:34:55.984009Z",
          "iopub.status.idle": "2022-10-21T01:35:26.481347Z",
          "shell.execute_reply": "2022-10-21T01:35:26.479712Z"
        },
        "papermill": {
          "duration": 30.626937,
          "end_time": "2022-10-21T01:35:26.544477",
          "exception": false,
          "start_time": "2022-10-21T01:34:55.917540",
          "status": "completed"
        },
        "tags": [],
        "id": "0c9329fe"
      },
      "outputs": [],
      "source": [
        "#sigmoid ---- softmax\n",
        "model3 = Sequential()\n",
        "model3.add(Conv2D(8, kernel_size=(5,5),activation='softmax',padding='same', input_shape=input_shape))\n",
        "model3.add(MaxPooling2D(pool_size=(2,2), strides=2))\n",
        "model3.add(Conv2D(16,kernel_size=(5,5),activation='softmax',padding='same'))\n",
        "model3.add(MaxPooling2D(pool_size=(2,2), strides=2))\n",
        "model3.add(Flatten())\n",
        "model3.add(Dense(units=10,activation='softmax'))\n",
        "model3.summary()\n",
        "#优化器改为ADAM\n",
        "model3.compile(loss = 'mse', optimizer = optimizers.Adam(),metrics = ['accuracy'])\n",
        "model3.fit(sj_train,sj_train_label,batch_size=4,epochs=10,verbose=2)"
      ]
    },
    {
      "cell_type": "code",
      "execution_count": null,
      "id": "9540d0c5",
      "metadata": {
        "execution": {
          "iopub.execute_input": "2022-10-21T01:35:26.685901Z",
          "iopub.status.busy": "2022-10-21T01:35:26.685504Z",
          "iopub.status.idle": "2022-10-21T01:35:26.971328Z",
          "shell.execute_reply": "2022-10-21T01:35:26.969801Z"
        },
        "papermill": {
          "duration": 0.358878,
          "end_time": "2022-10-21T01:35:26.974425",
          "exception": false,
          "start_time": "2022-10-21T01:35:26.615547",
          "status": "completed"
        },
        "tags": [],
        "id": "9540d0c5"
      },
      "outputs": [],
      "source": [
        "model3.evaluate(sj_test,sj_test_label) #其实该函数第一个返回值是损失（loss)，第二个返回值是准确率(acc)"
      ]
    },
    {
      "cell_type": "code",
      "execution_count": null,
      "id": "b836a372",
      "metadata": {
        "execution": {
          "iopub.execute_input": "2022-10-21T01:35:27.121111Z",
          "iopub.status.busy": "2022-10-21T01:35:27.120120Z",
          "iopub.status.idle": "2022-10-21T01:35:27.126570Z",
          "shell.execute_reply": "2022-10-21T01:35:27.125135Z"
        },
        "papermill": {
          "duration": 0.082021,
          "end_time": "2022-10-21T01:35:27.129675",
          "exception": false,
          "start_time": "2022-10-21T01:35:27.047654",
          "status": "completed"
        },
        "tags": [],
        "id": "b836a372"
      },
      "outputs": [],
      "source": [
        "##softmax 函数返回值测试验证代码。可省略\n",
        "#xp = model3.predict(suojian_x_test_images_2d)\n",
        "#j=0\n",
        "#for i in range(len(suojian_x_test_images_2d)):\n",
        "    #tem = np.argmax(xp[i])\n",
        "    #print(tem)\n",
        "    #if (tem == np.argmax(suojian_y_test[i])):\n",
        "       # j = j+1\n",
        "#print(j/len(suojian_x_test_images_2d))"
      ]
    },
    {
      "cell_type": "markdown",
      "id": "819929c7",
      "metadata": {
        "papermill": {
          "duration": 0.06995,
          "end_time": "2022-10-21T01:35:27.269696",
          "exception": false,
          "start_time": "2022-10-21T01:35:27.199746",
          "status": "completed"
        },
        "tags": [],
        "id": "819929c7"
      },
      "source": [
        "### 2)激活函数之 relu,该函数解决部分梯度弥散问题,收敛速度更快"
      ]
    },
    {
      "cell_type": "code",
      "execution_count": null,
      "id": "3c89a4de",
      "metadata": {
        "execution": {
          "iopub.execute_input": "2022-10-21T01:35:27.411663Z",
          "iopub.status.busy": "2022-10-21T01:35:27.410876Z",
          "iopub.status.idle": "2022-10-21T01:35:55.493499Z",
          "shell.execute_reply": "2022-10-21T01:35:55.492125Z"
        },
        "papermill": {
          "duration": 28.154658,
          "end_time": "2022-10-21T01:35:55.496093",
          "exception": false,
          "start_time": "2022-10-21T01:35:27.341435",
          "status": "completed"
        },
        "tags": [],
        "id": "3c89a4de"
      },
      "outputs": [],
      "source": [
        "#激活函数,relu使用,解决部分梯度弥散问题,收敛速度更快\n",
        "model4 = Sequential()\n",
        "model4.add(Conv2D(8, kernel_size=(5,5),activation='relu',padding='same', input_shape=input_shape))\n",
        "model4.add(MaxPooling2D(pool_size=(2,2), strides=2))\n",
        "model4.add(Conv2D(16,kernel_size=(5,5),activation='relu',padding='same'))\n",
        "model4.add(MaxPooling2D(pool_size=(2,2), strides=2))\n",
        "model4.add(Flatten())\n",
        "model4.add(Dense(units=10,activation='softmax'))\n",
        "model4.summary()\n",
        "#优化器改为ADAM\n",
        "model4.compile(loss = 'mse', optimizer = optimizers.Adam(),metrics = ['accuracy'])\n",
        "model4.fit(sj_train,sj_train_label,batch_size=4,epochs=10,verbose=2)"
      ]
    },
    {
      "cell_type": "code",
      "execution_count": null,
      "id": "0cbb316b",
      "metadata": {
        "execution": {
          "iopub.execute_input": "2022-10-21T01:35:55.640573Z",
          "iopub.status.busy": "2022-10-21T01:35:55.639860Z",
          "iopub.status.idle": "2022-10-21T01:35:55.910310Z",
          "shell.execute_reply": "2022-10-21T01:35:55.908754Z"
        },
        "papermill": {
          "duration": 0.345076,
          "end_time": "2022-10-21T01:35:55.913756",
          "exception": false,
          "start_time": "2022-10-21T01:35:55.568680",
          "status": "completed"
        },
        "tags": [],
        "id": "0cbb316b"
      },
      "outputs": [],
      "source": [
        "model4.evaluate(sj_test,sj_test_label) #其实该函数第一个返回值是损失（loss)，第二个返回值是准确率(acc)"
      ]
    },
    {
      "cell_type": "markdown",
      "id": "8af6b5a8",
      "metadata": {
        "papermill": {
          "duration": 0.072046,
          "end_time": "2022-10-21T01:35:56.137204",
          "exception": false,
          "start_time": "2022-10-21T01:35:56.065158",
          "status": "completed"
        },
        "tags": [],
        "id": "8af6b5a8"
      },
      "source": [
        "### 2)激活函数之 tanh,该函数解决原点对称问题"
      ]
    },
    {
      "cell_type": "code",
      "execution_count": null,
      "id": "598d8142",
      "metadata": {
        "execution": {
          "iopub.execute_input": "2022-10-21T01:35:56.280116Z",
          "iopub.status.busy": "2022-10-21T01:35:56.279378Z",
          "iopub.status.idle": "2022-10-21T01:36:24.479077Z",
          "shell.execute_reply": "2022-10-21T01:36:24.477666Z"
        },
        "papermill": {
          "duration": 28.274706,
          "end_time": "2022-10-21T01:36:24.481966",
          "exception": false,
          "start_time": "2022-10-21T01:35:56.207260",
          "status": "completed"
        },
        "tags": [],
        "id": "598d8142"
      },
      "outputs": [],
      "source": [
        "#激活函数,换成tanh,我们观察到底是tanh还是relu对当前情况来说,更为合适?\n",
        "model5 = Sequential()\n",
        "model5.add(Conv2D(8, kernel_size=(5,5),activation='relu',padding='same', input_shape=input_shape))\n",
        "model5.add(MaxPooling2D(pool_size=(2,2), strides=2))\n",
        "model5.add(Conv2D(16,kernel_size=(5,5),activation='relu',padding='same'))\n",
        "model5.add(MaxPooling2D(pool_size=(2,2), strides=2))\n",
        "model5.add(Flatten())\n",
        "model5.add(Dense(units=10,activation='tanh'))\n",
        "model5.summary()\n",
        "#优化器改为ADAM\n",
        "model5.compile(loss = 'mse', optimizer = optimizers.Adam(),metrics = ['accuracy'])\n",
        "model5.fit(sj_train,sj_train_label,batch_size=4,epochs=10,verbose=2)"
      ]
    },
    {
      "cell_type": "code",
      "execution_count": null,
      "id": "891b203c",
      "metadata": {
        "execution": {
          "iopub.execute_input": "2022-10-21T01:36:24.626625Z",
          "iopub.status.busy": "2022-10-21T01:36:24.626172Z",
          "iopub.status.idle": "2022-10-21T01:36:24.897211Z",
          "shell.execute_reply": "2022-10-21T01:36:24.896093Z"
        },
        "papermill": {
          "duration": 0.347886,
          "end_time": "2022-10-21T01:36:24.899794",
          "exception": false,
          "start_time": "2022-10-21T01:36:24.551908",
          "status": "completed"
        },
        "tags": [],
        "id": "891b203c"
      },
      "outputs": [],
      "source": [
        "model5.evaluate(sj_test,sj_test_label) #其实该函数第一个返回值是损失（loss)，第二个返回值是准确率(acc)"
      ]
    },
    {
      "cell_type": "markdown",
      "id": "3d4c0ca5",
      "metadata": {
        "papermill": {
          "duration": 0.071628,
          "end_time": "2022-10-21T01:36:25.042672",
          "exception": false,
          "start_time": "2022-10-21T01:36:24.971044",
          "status": "completed"
        },
        "tags": [],
        "id": "3d4c0ca5"
      },
      "source": [
        "### 总结,我们发现relu加tanh，要比relu+softmax更适合我们当前的场景.\n",
        "## 请尝试一下所有激活函数是tanh的情况，会更好吗？"
      ]
    },
    {
      "cell_type": "markdown",
      "id": "69cb4032",
      "metadata": {
        "execution": {
          "iopub.execute_input": "2022-06-29T02:05:34.00166Z",
          "iopub.status.busy": "2022-06-29T02:05:34.001262Z",
          "iopub.status.idle": "2022-06-29T02:05:34.006507Z",
          "shell.execute_reply": "2022-06-29T02:05:34.005601Z",
          "shell.execute_reply.started": "2022-06-29T02:05:34.001626Z"
        },
        "papermill": {
          "duration": 0.075598,
          "end_time": "2022-10-21T01:36:25.190334",
          "exception": false,
          "start_time": "2022-10-21T01:36:25.114736",
          "status": "completed"
        },
        "tags": [],
        "id": "69cb4032"
      },
      "source": [
        "### 3)损失函数---交叉熵"
      ]
    },
    {
      "cell_type": "code",
      "execution_count": null,
      "id": "2c889261",
      "metadata": {
        "execution": {
          "iopub.execute_input": "2022-10-21T01:36:25.340123Z",
          "iopub.status.busy": "2022-10-21T01:36:25.338186Z",
          "iopub.status.idle": "2022-10-21T01:36:55.058952Z",
          "shell.execute_reply": "2022-10-21T01:36:55.057627Z"
        },
        "papermill": {
          "duration": 29.796532,
          "end_time": "2022-10-21T01:36:55.061994",
          "exception": false,
          "start_time": "2022-10-21T01:36:25.265462",
          "status": "completed"
        },
        "tags": [],
        "id": "2c889261"
      },
      "outputs": [],
      "source": [
        "#使用当前表变现优秀的relu激活函数，调整损失函数为交叉熵函数。\n",
        "model6 = Sequential()\n",
        "model6.add(Conv2D(8, kernel_size=(5,5),activation='relu',padding='same', input_shape=input_shape))\n",
        "model6.add(MaxPooling2D(pool_size=(2,2), strides=2))\n",
        "model6.add(Conv2D(16,kernel_size=(5,5),activation='relu',padding='same'))\n",
        "model6.add(MaxPooling2D(pool_size=(2,2), strides=2))\n",
        "model6.add(Flatten())\n",
        "model6.add(Dense(units=10,activation='softmax'))\n",
        "model6.summary()\n",
        "#优化器改为ADAM\n",
        "model6.compile(loss = 'categorical_crossentropy', optimizer = optimizers.Adam(),metrics = ['accuracy'])\n",
        "model6.fit(sj_train,sj_train_label,batch_size=4,epochs=10,verbose=2)"
      ]
    },
    {
      "cell_type": "code",
      "execution_count": null,
      "id": "5563869f",
      "metadata": {
        "execution": {
          "iopub.execute_input": "2022-10-21T01:36:55.212795Z",
          "iopub.status.busy": "2022-10-21T01:36:55.212337Z",
          "iopub.status.idle": "2022-10-21T01:36:55.600889Z",
          "shell.execute_reply": "2022-10-21T01:36:55.599442Z"
        },
        "papermill": {
          "duration": 0.467663,
          "end_time": "2022-10-21T01:36:55.603782",
          "exception": false,
          "start_time": "2022-10-21T01:36:55.136119",
          "status": "completed"
        },
        "tags": [],
        "id": "5563869f"
      },
      "outputs": [],
      "source": [
        "model6.evaluate(sj_test,sj_test_label) #其实该函数第一个返回值是损失（loss)，第二个返回值是准确率(acc)"
      ]
    },
    {
      "cell_type": "markdown",
      "id": "cc65d3f3",
      "metadata": {
        "papermill": {
          "duration": 0.075901,
          "end_time": "2022-10-21T01:36:55.758966",
          "exception": false,
          "start_time": "2022-10-21T01:36:55.683065",
          "status": "completed"
        },
        "tags": [],
        "id": "cc65d3f3"
      },
      "source": [
        "### 交叉熵于mse好，relu是目前表现比较好的激活函数，另外relu+tanh+mse的方式也还不错。"
      ]
    },
    {
      "cell_type": "markdown",
      "id": "951259d4",
      "metadata": {
        "papermill": {
          "duration": 0.075125,
          "end_time": "2022-10-21T01:36:55.909459",
          "exception": false,
          "start_time": "2022-10-21T01:36:55.834334",
          "status": "completed"
        },
        "tags": [],
        "id": "951259d4"
      },
      "source": [
        "### 另外我们注意到,训练结果一直上升,但是为什么模型评估函数输出的结果不仅人意呢?此时我们应该关注过拟合或者欠拟合现象.\n",
        "### 过拟合或者欠拟合现象的发现需要在fit的时候设置验证集合,也就是需要把训练集的一部分(通常20%)设置为验证集.\n",
        "### 过拟合的解决,有三种方法1)正则.2)dropout.3)增强数据集。欠拟合需要增加训练次数，同样可以通过解决过拟合来缓解模型的欠拟合"
      ]
    },
    {
      "cell_type": "markdown",
      "id": "ba66bba0",
      "metadata": {
        "papermill": {
          "duration": 0.075397,
          "end_time": "2022-10-21T01:36:56.060310",
          "exception": false,
          "start_time": "2022-10-21T01:36:55.984913",
          "status": "completed"
        },
        "tags": [],
        "id": "ba66bba0"
      },
      "source": [
        "### 4）观察过拟合现象,利用曲线绘制epoch和train和val数据集的关系"
      ]
    },
    {
      "cell_type": "code",
      "execution_count": null,
      "id": "ff43660f",
      "metadata": {
        "execution": {
          "iopub.execute_input": "2022-10-21T01:36:56.216376Z",
          "iopub.status.busy": "2022-10-21T01:36:56.215861Z",
          "iopub.status.idle": "2022-10-21T01:36:56.226277Z",
          "shell.execute_reply": "2022-10-21T01:36:56.224200Z"
        },
        "papermill": {
          "duration": 0.093667,
          "end_time": "2022-10-21T01:36:56.229702",
          "exception": false,
          "start_time": "2022-10-21T01:36:56.136035",
          "status": "completed"
        },
        "tags": [],
        "id": "ff43660f"
      },
      "outputs": [],
      "source": [
        "#########画图,用来显示每个epoch，训练集和验证集的走向\n",
        "def loss_acc_curve(history):\n",
        "    print(history.history.keys())\n",
        "    acc = history.history['accuracy']  #获取训练集准确性数据\n",
        "    val_acc = history.history['val_accuracy'] #获取验证集准确性数据\n",
        "    loss = history.history['loss']   #获取训练集错误值数据\n",
        "    val_loss = history.history['val_loss'] #获取验证集错误值数据\n",
        "    epochs = range(1,len(acc)+1)\n",
        "    #plt.subplot(121)\n",
        "    plt.plot(epochs,acc,'bo',label='Trainning acc')  #以epochs为横坐标，以训练集准确性为纵坐标\n",
        "    plt.plot(epochs,val_acc,'b',label='Vaildation acc') #以epochs为横坐标，以验证集准确性为纵坐标\n",
        "    plt.legend() #绘制图例，即标明图中的线段代表何种含义\n",
        "\n",
        "   # plt.subplot(122)\n",
        "    plt.figure()\n",
        "    plt.plot(epochs,loss,'bo',label='Trainning loss')\n",
        "    plt.plot(epochs,val_loss,'b',label='Vaildation loss')\n",
        "    plt.legend() ##绘制图例，即标明图中的线段代表何种含义"
      ]
    },
    {
      "cell_type": "code",
      "execution_count": null,
      "id": "7bf8e532",
      "metadata": {
        "execution": {
          "iopub.execute_input": "2022-10-21T01:36:56.381517Z",
          "iopub.status.busy": "2022-10-21T01:36:56.380208Z",
          "iopub.status.idle": "2022-10-21T01:38:03.271463Z",
          "shell.execute_reply": "2022-10-21T01:38:03.269402Z"
        },
        "papermill": {
          "duration": 66.968167,
          "end_time": "2022-10-21T01:38:03.274743",
          "exception": false,
          "start_time": "2022-10-21T01:36:56.306576",
          "status": "completed"
        },
        "tags": [],
        "id": "7bf8e532"
      },
      "outputs": [],
      "source": [
        "# 添加验证集，绘制曲线，观察过拟合现象\n",
        "model7 = Sequential()\n",
        "model7.add(Conv2D(8, kernel_size=(5,5),activation='relu',padding='same', input_shape=input_shape))\n",
        "model7.add(MaxPooling2D(pool_size=(2,2), strides=2))\n",
        "model7.add(Conv2D(16,kernel_size=(5,5),activation='relu',padding='same'))\n",
        "model7.add(MaxPooling2D(pool_size=(2,2), strides=2))\n",
        "model7.add(Flatten())\n",
        "model7.add(Dense(units=10,activation='softmax'))\n",
        "model7.summary()\n",
        "#优化器改为ADAM\n",
        "model7.compile(loss = 'categorical_crossentropy', optimizer = optimizers.Adam(),metrics = ['accuracy'])\n",
        "history7 = model7.fit(sj_train,sj_train_label,validation_data=(sj_val,sj_val_label),batch_size=4,epochs=20,verbose=1)\n",
        "#model.fit 中的 verbose\n",
        "#verbose：日志显示\n",
        "#verbose = 0 为不在标准输出流输出日志信息\n",
        "#verbose = 1 为输出进度条记录\n",
        "#verbose = 2 为每个epoch输出一行记录\n",
        "#注意： 默认为 1"
      ]
    },
    {
      "cell_type": "code",
      "execution_count": null,
      "id": "24527b5c",
      "metadata": {
        "execution": {
          "iopub.execute_input": "2022-10-21T01:38:03.577563Z",
          "iopub.status.busy": "2022-10-21T01:38:03.576265Z",
          "iopub.status.idle": "2022-10-21T01:38:04.115104Z",
          "shell.execute_reply": "2022-10-21T01:38:04.113723Z"
        },
        "papermill": {
          "duration": 0.691621,
          "end_time": "2022-10-21T01:38:04.117925",
          "exception": false,
          "start_time": "2022-10-21T01:38:03.426304",
          "status": "completed"
        },
        "tags": [],
        "id": "24527b5c"
      },
      "outputs": [],
      "source": [
        "loss_acc_curve(history7)"
      ]
    },
    {
      "cell_type": "code",
      "execution_count": null,
      "id": "d2909212",
      "metadata": {
        "execution": {
          "iopub.execute_input": "2022-10-21T01:38:04.417837Z",
          "iopub.status.busy": "2022-10-21T01:38:04.417412Z",
          "iopub.status.idle": "2022-10-21T01:38:04.696585Z",
          "shell.execute_reply": "2022-10-21T01:38:04.695039Z"
        },
        "papermill": {
          "duration": 0.432269,
          "end_time": "2022-10-21T01:38:04.699394",
          "exception": false,
          "start_time": "2022-10-21T01:38:04.267125",
          "status": "completed"
        },
        "tags": [],
        "id": "d2909212"
      },
      "outputs": [],
      "source": [
        "model7.evaluate(sj_test,sj_test_label) #其实该函数第一个返回值是损失（loss)，第二个返回值是准确率(acc)"
      ]
    },
    {
      "cell_type": "markdown",
      "id": "5dcee3f3",
      "metadata": {
        "papermill": {
          "duration": 0.151836,
          "end_time": "2022-10-21T01:38:05.003401",
          "exception": false,
          "start_time": "2022-10-21T01:38:04.851565",
          "status": "completed"
        },
        "tags": [],
        "id": "5dcee3f3"
      },
      "source": [
        "## 总结：大概第8次左右出现过拟合现象"
      ]
    },
    {
      "cell_type": "markdown",
      "id": "e8e378cf",
      "metadata": {
        "execution": {
          "iopub.execute_input": "2022-06-29T02:26:06.282475Z",
          "iopub.status.busy": "2022-06-29T02:26:06.2821Z",
          "iopub.status.idle": "2022-06-29T02:26:06.289053Z",
          "shell.execute_reply": "2022-06-29T02:26:06.288226Z",
          "shell.execute_reply.started": "2022-06-29T02:26:06.282445Z"
        },
        "papermill": {
          "duration": 0.152169,
          "end_time": "2022-10-21T01:38:05.304346",
          "exception": false,
          "start_time": "2022-10-21T01:38:05.152177",
          "status": "completed"
        },
        "tags": [],
        "id": "e8e378cf"
      },
      "source": [
        "### 在图上我们看到验证集loss曲线在第7次的时候立马上升，我们发现模型对于数据集来说存在严重的过拟合现象。\n",
        "### 过拟合的解决,有三种方法1)正则.2)dropout.3)增强数据集.4)简单化模型结构"
      ]
    },
    {
      "cell_type": "code",
      "execution_count": null,
      "id": "1c81385e",
      "metadata": {
        "execution": {
          "iopub.execute_input": "2022-10-21T01:38:05.615139Z",
          "iopub.status.busy": "2022-10-21T01:38:05.614695Z",
          "iopub.status.idle": "2022-10-21T01:39:21.151567Z",
          "shell.execute_reply": "2022-10-21T01:39:21.150221Z"
        },
        "papermill": {
          "duration": 75.699799,
          "end_time": "2022-10-21T01:39:21.154371",
          "exception": false,
          "start_time": "2022-10-21T01:38:05.454572",
          "status": "completed"
        },
        "tags": [],
        "id": "1c81385e"
      },
      "outputs": [],
      "source": [
        "# 添加dropout\n",
        "model8 = Sequential()\n",
        "model8.add(Conv2D(8, kernel_size=(5,5),activation='relu',padding='same', input_shape=input_shape))\n",
        "model8.add(MaxPooling2D(pool_size=(2,2), strides=2))\n",
        "#model8.add(Dropout(0.2))\n",
        "model8.add(Conv2D(16,kernel_size=(5,5),activation='relu',padding='same'))\n",
        "model8.add(MaxPooling2D(pool_size=(2,2), strides=2))\n",
        "model8.add(Dropout(0.2))\n",
        "model8.add(Flatten())\n",
        "model8.add(Dense(units=10,activation='softmax'))\n",
        "model8.summary()\n",
        "#优化器改为ADAM\n",
        "model8.compile(loss = 'categorical_crossentropy', optimizer = optimizers.Adam(),metrics = ['accuracy'])\n",
        "history8 = model8.fit(sj_train,sj_train_label,validation_data=(sj_val,sj_val_label),batch_size=4,epochs=20,verbose=1)"
      ]
    },
    {
      "cell_type": "code",
      "execution_count": null,
      "id": "0aa93f30",
      "metadata": {
        "execution": {
          "iopub.execute_input": "2022-10-21T01:39:21.643432Z",
          "iopub.status.busy": "2022-10-21T01:39:21.641855Z",
          "iopub.status.idle": "2022-10-21T01:39:22.472517Z",
          "shell.execute_reply": "2022-10-21T01:39:22.470874Z"
        },
        "papermill": {
          "duration": 1.076141,
          "end_time": "2022-10-21T01:39:22.475650",
          "exception": false,
          "start_time": "2022-10-21T01:39:21.399509",
          "status": "completed"
        },
        "tags": [],
        "id": "0aa93f30"
      },
      "outputs": [],
      "source": [
        "loss_acc_curve(history8)\n",
        "model8.evaluate(sj_test,sj_test_label) #其实该函数第一个返回值是损失（loss)，第二个返回值是准确率(acc)"
      ]
    },
    {
      "cell_type": "markdown",
      "id": "98100399",
      "metadata": {
        "papermill": {
          "duration": 0.253104,
          "end_time": "2022-10-21T01:39:22.970399",
          "exception": false,
          "start_time": "2022-10-21T01:39:22.717295",
          "status": "completed"
        },
        "tags": [],
        "id": "98100399"
      },
      "source": [
        "### 总结：添加Dropout以后，模型的过拟合现象有所减轻，验证loss大概在12次左右产生"
      ]
    },
    {
      "cell_type": "code",
      "execution_count": null,
      "id": "a42355a3",
      "metadata": {
        "execution": {
          "iopub.execute_input": "2022-10-21T01:39:23.464988Z",
          "iopub.status.busy": "2022-10-21T01:39:23.464535Z",
          "iopub.status.idle": "2022-10-21T01:40:14.056004Z",
          "shell.execute_reply": "2022-10-21T01:40:14.054395Z"
        },
        "papermill": {
          "duration": 50.846239,
          "end_time": "2022-10-21T01:40:14.059732",
          "exception": false,
          "start_time": "2022-10-21T01:39:23.213493",
          "status": "completed"
        },
        "tags": [],
        "id": "a42355a3"
      },
      "outputs": [],
      "source": [
        "# 添加正则,还可以使用tf.keras.regularizers.L1()来查看模型的效果\n",
        "model9 = Sequential()\n",
        "model9.add(Conv2D(8, kernel_size=(5,5),activation='relu',padding='same', input_shape=input_shape))\n",
        "model9.add(MaxPooling2D(pool_size=(2,2), strides=2))\n",
        "#model9.add(Dropout(0.2))\n",
        "model9.add(Conv2D(16,kernel_size=(5,5),activation='relu',kernel_regularizer = tf.keras.regularizers.L2(),padding='same'))\n",
        "model9.add(MaxPooling2D(pool_size=(2,2), strides=2))\n",
        "#model8.add(Dropout(0.2))\n",
        "model9.add(Flatten())\n",
        "model9.add(Dense(units=10,activation='softmax'))\n",
        "model9.summary()\n",
        "#优化器改为ADAM\n",
        "model9.compile(loss = 'categorical_crossentropy', optimizer = optimizers.Adam(),metrics = ['accuracy'])  #categorical_crossentropy\n",
        "history9 = model9.fit(sj_train,sj_train_label,validation_data=(sj_val,sj_val_label),batch_size=4,epochs=15,verbose=1)"
      ]
    },
    {
      "cell_type": "code",
      "execution_count": null,
      "id": "139d8852",
      "metadata": {
        "execution": {
          "iopub.execute_input": "2022-10-21T01:40:14.651990Z",
          "iopub.status.busy": "2022-10-21T01:40:14.651532Z",
          "iopub.status.idle": "2022-10-21T01:40:15.435701Z",
          "shell.execute_reply": "2022-10-21T01:40:15.434408Z"
        },
        "papermill": {
          "duration": 1.081295,
          "end_time": "2022-10-21T01:40:15.438739",
          "exception": false,
          "start_time": "2022-10-21T01:40:14.357444",
          "status": "completed"
        },
        "tags": [],
        "id": "139d8852"
      },
      "outputs": [],
      "source": [
        "loss_acc_curve(history9)\n",
        "model9.evaluate(sj_test,sj_test_label) #其实该函数第一个返回值是损失（loss)，第二个返回值是准确率(acc)"
      ]
    },
    {
      "cell_type": "code",
      "execution_count": null,
      "id": "05735b4e",
      "metadata": {
        "execution": {
          "iopub.execute_input": "2022-10-21T01:40:16.029572Z",
          "iopub.status.busy": "2022-10-21T01:40:16.029113Z",
          "iopub.status.idle": "2022-10-21T01:41:28.232263Z",
          "shell.execute_reply": "2022-10-21T01:41:28.230589Z"
        },
        "papermill": {
          "duration": 72.501957,
          "end_time": "2022-10-21T01:41:28.235381",
          "exception": false,
          "start_time": "2022-10-21T01:40:15.733424",
          "status": "completed"
        },
        "tags": [],
        "id": "05735b4e"
      },
      "outputs": [],
      "source": [
        "# 添加正则,还可以使用tf.keras.regularizers.L1()来查看模型的效果\n",
        "model9_1 = Sequential()\n",
        "model9_1.add(Conv2D(8, kernel_size=(5,5),activation='relu',padding='same', input_shape=input_shape))\n",
        "model9_1.add(MaxPooling2D(pool_size=(2,2), strides=2))\n",
        "#model9.add(Dropout(0.2))\n",
        "model9_1.add(Conv2D(16,kernel_size=(5,5),activation='relu',kernel_regularizer = tf.keras.regularizers.L1(),padding='same'))\n",
        "model9_1.add(MaxPooling2D(pool_size=(2,2), strides=2))\n",
        "#model8.add(Dropout(0.2))\n",
        "model9_1.add(Flatten())\n",
        "model9_1.add(Dense(units=10,activation='softmax'))\n",
        "model9_1.summary()\n",
        "#优化器改为ADAM\n",
        "model9_1.compile(loss = 'categorical_crossentropy', optimizer = optimizers.Adam(),metrics = ['accuracy'])\n",
        "history9_1 = model9_1.fit(sj_train,sj_train_label,validation_data=(sj_val,sj_val_label),batch_size=4,epochs=20,verbose=1)"
      ]
    },
    {
      "cell_type": "code",
      "execution_count": null,
      "id": "9b9342e2",
      "metadata": {
        "execution": {
          "iopub.execute_input": "2022-10-21T01:41:28.982981Z",
          "iopub.status.busy": "2022-10-21T01:41:28.982207Z",
          "iopub.status.idle": "2022-10-21T01:41:29.766156Z",
          "shell.execute_reply": "2022-10-21T01:41:29.764994Z"
        },
        "papermill": {
          "duration": 1.159814,
          "end_time": "2022-10-21T01:41:29.768752",
          "exception": false,
          "start_time": "2022-10-21T01:41:28.608938",
          "status": "completed"
        },
        "tags": [],
        "id": "9b9342e2"
      },
      "outputs": [],
      "source": [
        "loss_acc_curve(history9_1)\n",
        "model9_1.evaluate(sj_test,sj_test_label) #其实该函数第一个返回值是损失（loss)，第二个返回值是准确率(acc)"
      ]
    },
    {
      "cell_type": "markdown",
      "id": "8da52101",
      "metadata": {
        "papermill": {
          "duration": 0.464694,
          "end_time": "2022-10-21T01:41:30.611746",
          "exception": false,
          "start_time": "2022-10-21T01:41:30.147052",
          "status": "completed"
        },
        "tags": [],
        "id": "8da52101"
      },
      "source": [
        "### L2正则，过拟合在10次左右。使用L1正则，大概在20次左右，下面我们来验证下，联合使用正则和Dropout的效果"
      ]
    },
    {
      "cell_type": "code",
      "execution_count": null,
      "id": "b65eb2ca",
      "metadata": {
        "execution": {
          "iopub.execute_input": "2022-10-21T01:41:31.381231Z",
          "iopub.status.busy": "2022-10-21T01:41:31.380495Z",
          "iopub.status.idle": "2022-10-21T01:43:48.664779Z",
          "shell.execute_reply": "2022-10-21T01:43:48.663003Z"
        },
        "papermill": {
          "duration": 137.675985,
          "end_time": "2022-10-21T01:43:48.668098",
          "exception": false,
          "start_time": "2022-10-21T01:41:30.992113",
          "status": "completed"
        },
        "tags": [],
        "id": "b65eb2ca"
      },
      "outputs": [],
      "source": [
        "# 添加正则和dropout\n",
        "model10 = Sequential()\n",
        "model10.add(Conv2D(8, kernel_size=(5,5),activation='relu',kernel_regularizer = tf.keras.regularizers.L1(),padding='same', input_shape=input_shape))\n",
        "model10.add(MaxPooling2D(pool_size=(2,2), strides=2))\n",
        "#model9.add(Dropout(0.2))\n",
        "model10.add(Conv2D(16,kernel_size=(5,5),activation='relu',padding='same'))\n",
        "model10.add(MaxPooling2D(pool_size=(2,2), strides=2))\n",
        "model10.add(Dropout(0.2))\n",
        "model10.add(Flatten())\n",
        "model10.add(Dense(units=10,activation='softmax'))\n",
        "model10.summary()\n",
        "#优化器改为ADAM\n",
        "model10.compile(loss = 'categorical_crossentropy', optimizer = optimizers.Adam(),metrics = ['accuracy'])\n",
        "history10 = model10.fit(sj_train,sj_train_label,validation_data=(sj_val,sj_val_label),batch_size=4,epochs=40,verbose=1)"
      ]
    },
    {
      "cell_type": "code",
      "execution_count": null,
      "id": "68b6a86e",
      "metadata": {
        "execution": {
          "iopub.execute_input": "2022-10-21T01:43:49.850070Z",
          "iopub.status.busy": "2022-10-21T01:43:49.849556Z",
          "iopub.status.idle": "2022-10-21T01:43:50.720748Z",
          "shell.execute_reply": "2022-10-21T01:43:50.719446Z"
        },
        "papermill": {
          "duration": 1.496644,
          "end_time": "2022-10-21T01:43:50.723645",
          "exception": false,
          "start_time": "2022-10-21T01:43:49.227001",
          "status": "completed"
        },
        "tags": [],
        "id": "68b6a86e"
      },
      "outputs": [],
      "source": [
        "loss_acc_curve(history10)\n",
        "model10.evaluate(sj_test,sj_test_label) #其实该函数第一个返回值是损失（loss)，第二个返回值是准确率(acc)"
      ]
    },
    {
      "cell_type": "code",
      "execution_count": null,
      "id": "a45889fe",
      "metadata": {
        "execution": {
          "iopub.execute_input": "2022-10-21T01:43:51.847505Z",
          "iopub.status.busy": "2022-10-21T01:43:51.846385Z",
          "iopub.status.idle": "2022-10-21T01:46:13.362097Z",
          "shell.execute_reply": "2022-10-21T01:46:13.360765Z"
        },
        "papermill": {
          "duration": 142.081492,
          "end_time": "2022-10-21T01:46:13.365214",
          "exception": false,
          "start_time": "2022-10-21T01:43:51.283722",
          "status": "completed"
        },
        "tags": [],
        "id": "a45889fe"
      },
      "outputs": [],
      "source": [
        "# 添加正则和dropout\n",
        "model11 = Sequential()\n",
        "model11.add(Conv2D(8, kernel_size=(5,5),activation='relu',padding='same', input_shape=input_shape))\n",
        "model11.add(MaxPooling2D(pool_size=(2,2), strides=2))\n",
        "model11.add(Dropout(0.2))\n",
        "model11.add(Conv2D(16,kernel_size=(5,5),activation='relu',kernel_regularizer = tf.keras.regularizers.L1(),padding='same'))\n",
        "model11.add(MaxPooling2D(pool_size=(2,2), strides=2))\n",
        "model11.add(Dropout(0.2))\n",
        "model11.add(Flatten())\n",
        "model11.add(Dense(units=10,activation='softmax'))\n",
        "model11.summary()\n",
        "#优化器改为ADAM\n",
        "model11.compile(loss = 'categorical_crossentropy', optimizer = optimizers.Adam(),metrics = ['accuracy'])\n",
        "history11 = model11.fit(sj_train,sj_train_label,validation_data=(sj_val,sj_val_label),batch_size=4,epochs=40,verbose=1)"
      ]
    },
    {
      "cell_type": "code",
      "execution_count": null,
      "id": "6deb419a",
      "metadata": {
        "execution": {
          "iopub.execute_input": "2022-10-21T01:46:14.839635Z",
          "iopub.status.busy": "2022-10-21T01:46:14.838727Z",
          "iopub.status.idle": "2022-10-21T01:46:15.667528Z",
          "shell.execute_reply": "2022-10-21T01:46:15.666229Z"
        },
        "papermill": {
          "duration": 1.527663,
          "end_time": "2022-10-21T01:46:15.670443",
          "exception": false,
          "start_time": "2022-10-21T01:46:14.142780",
          "status": "completed"
        },
        "tags": [],
        "id": "6deb419a"
      },
      "outputs": [],
      "source": [
        "loss_acc_curve(history11)\n",
        "model11.evaluate(sj_test,sj_test_label) #其实该函数第一个返回值是损失（loss)，第二个返回值是准确率(acc)"
      ]
    },
    {
      "cell_type": "markdown",
      "id": "10d815e7",
      "metadata": {
        "papermill": {
          "duration": 0.794171,
          "end_time": "2022-10-21T01:46:17.165321",
          "exception": false,
          "start_time": "2022-10-21T01:46:16.371150",
          "status": "completed"
        },
        "tags": [],
        "id": "10d815e7"
      },
      "source": [
        "### 太多的降低参数个数，模型过拟合会降低，但是对应的是模型准确率的震荡和下降"
      ]
    },
    {
      "cell_type": "code",
      "execution_count": null,
      "id": "48161a0a",
      "metadata": {
        "execution": {
          "iopub.execute_input": "2022-10-21T01:46:18.636484Z",
          "iopub.status.busy": "2022-10-21T01:46:18.635985Z",
          "iopub.status.idle": "2022-10-21T01:48:25.173783Z",
          "shell.execute_reply": "2022-10-21T01:48:25.172698Z"
        },
        "papermill": {
          "duration": 127.315596,
          "end_time": "2022-10-21T01:48:25.176573",
          "exception": false,
          "start_time": "2022-10-21T01:46:17.860977",
          "status": "completed"
        },
        "tags": [],
        "id": "48161a0a"
      },
      "outputs": [],
      "source": [
        "#两个Dropout函数\n",
        "model12 = Sequential()\n",
        "model12.add(Conv2D(8, kernel_size=(5,5),activation='relu',padding='same', input_shape=input_shape))\n",
        "model12.add(MaxPooling2D(pool_size=(2,2), strides=2))\n",
        "model12.add(Dropout(0.2))\n",
        "model12.add(Conv2D(16,kernel_size=(5,5),activation='relu',padding='same'))\n",
        "model12.add(MaxPooling2D(pool_size=(2,2), strides=2))\n",
        "model12.add(Dropout(0.2))\n",
        "model12.add(Flatten())\n",
        "model12.add(Dense(units=10,activation='softmax'))\n",
        "model12.summary()\n",
        "#优化器改为ADAM\n",
        "model12.compile(loss = 'categorical_crossentropy', optimizer = optimizers.Adam(),metrics = ['accuracy'])\n",
        "history12 = model12.fit(sj_train,sj_train_label,validation_data=(sj_val,sj_val_label),batch_size=4,epochs=35,verbose=1)"
      ]
    },
    {
      "cell_type": "code",
      "execution_count": null,
      "id": "2bff90e3",
      "metadata": {
        "execution": {
          "iopub.execute_input": "2022-10-21T01:48:27.020855Z",
          "iopub.status.busy": "2022-10-21T01:48:27.020448Z",
          "iopub.status.idle": "2022-10-21T01:48:28.020100Z",
          "shell.execute_reply": "2022-10-21T01:48:28.018662Z"
        },
        "papermill": {
          "duration": 1.91341,
          "end_time": "2022-10-21T01:48:28.023440",
          "exception": false,
          "start_time": "2022-10-21T01:48:26.110030",
          "status": "completed"
        },
        "tags": [],
        "id": "2bff90e3"
      },
      "outputs": [],
      "source": [
        "loss_acc_curve(history12)\n",
        "model12.evaluate(sj_test,sj_test_label) #其实该函数第一个返回值是损失（loss)，第二个返回值是准确率(acc)"
      ]
    },
    {
      "cell_type": "markdown",
      "id": "c61f5389",
      "metadata": {
        "papermill": {
          "duration": 0.850595,
          "end_time": "2022-10-21T01:48:29.856063",
          "exception": false,
          "start_time": "2022-10-21T01:48:29.005468",
          "status": "completed"
        },
        "tags": [],
        "id": "c61f5389"
      },
      "source": [
        "### 总结：第一个卷积添加L1正则，在之后添加dropout，是当前环境下，准确率和抑制过拟合比较合适的选择。\n",
        "### 扩增数据集能减轻过拟合现象,表现为验证集和训练集的曲线更为接近，我们利用缩减函数得到我们想要的3000个数据集，然后利用分割函数分为训练/测试/验证三个集合\n",
        "### suojian_x_images_images,suojian_y_onehot = suojian(x_images_images,y_onehot, 300)  #x_test_images,y_test ####\n",
        "### suojian(x_test_images,y_test, 5)\n",
        "### print('suojian totol images is :',suojian_x_images_images.shape)\n",
        "### print('suojian totol labels size is :',suojian_y_onehot.shape)"
      ]
    },
    {
      "cell_type": "code",
      "execution_count": null,
      "id": "7a321e49",
      "metadata": {
        "execution": {
          "iopub.execute_input": "2022-10-21T01:48:31.661163Z",
          "iopub.status.busy": "2022-10-21T01:48:31.660681Z",
          "iopub.status.idle": "2022-10-21T01:48:31.893529Z",
          "shell.execute_reply": "2022-10-21T01:48:31.891375Z"
        },
        "papermill": {
          "duration": 1.099401,
          "end_time": "2022-10-21T01:48:31.896334",
          "exception": false,
          "start_time": "2022-10-21T01:48:30.796933",
          "status": "completed"
        },
        "tags": [],
        "id": "7a321e49"
      },
      "outputs": [],
      "source": [
        "suojian_x_images_images_v2,suojian_y_onehot_v2 = suojian(x_images_images,y_onehot, 600)  #x_test_images,y_test #suojian(x_test_images,y_test, 5)\n",
        "print('suojian totol images is :',suojian_x_images_images_v2.shape)\n",
        "print('suojian totol labels size is :',suojian_y_onehot_v2.shape)"
      ]
    },
    {
      "cell_type": "code",
      "execution_count": null,
      "id": "6f3017af",
      "metadata": {
        "execution": {
          "iopub.execute_input": "2022-10-21T01:48:33.650916Z",
          "iopub.status.busy": "2022-10-21T01:48:33.650534Z",
          "iopub.status.idle": "2022-10-21T01:48:33.657535Z",
          "shell.execute_reply": "2022-10-21T01:48:33.656539Z"
        },
        "papermill": {
          "duration": 0.853914,
          "end_time": "2022-10-21T01:48:33.661012",
          "exception": false,
          "start_time": "2022-10-21T01:48:32.807098",
          "status": "completed"
        },
        "tags": [],
        "id": "6f3017af"
      },
      "outputs": [],
      "source": [
        "(sj_train_2,sj_train_label_2,sj_val_2,sj_val_label_2,sj_test_2,sj_test_label_2) = train_val_test(suojian_x_images_images_v2,suojian_y_onehot_v2,0.1)\n",
        "print('suojian train images is :',sj_train_2.shape)\n",
        "print('suojian train labels size is :',sj_train_label_2.shape)\n",
        "print('suojian val images is :',sj_val_2.shape)\n",
        "print('suojian val labels size is :',sj_val_label_2.shape)\n",
        "print('suojian test images is :',sj_test_2.shape)\n",
        "print('suojian test labels size is :',sj_test_label_2.shape)"
      ]
    },
    {
      "cell_type": "code",
      "execution_count": null,
      "id": "3449c55f",
      "metadata": {
        "execution": {
          "iopub.execute_input": "2022-10-21T01:48:35.555350Z",
          "iopub.status.busy": "2022-10-21T01:48:35.554854Z",
          "iopub.status.idle": "2022-10-21T01:53:14.914379Z",
          "shell.execute_reply": "2022-10-21T01:53:14.912692Z"
        },
        "papermill": {
          "duration": 280.323613,
          "end_time": "2022-10-21T01:53:14.917972",
          "exception": false,
          "start_time": "2022-10-21T01:48:34.594359",
          "status": "completed"
        },
        "tags": [],
        "id": "3449c55f"
      },
      "outputs": [],
      "source": [
        "model13 = Sequential()\n",
        "model13.add(Conv2D(8, kernel_size=(5,5),activation='relu',kernel_regularizer = tf.keras.regularizers.L1(),padding='same', input_shape=input_shape))\n",
        "model13.add(MaxPooling2D(pool_size=(2,2), strides=2))\n",
        "#model13.add(Dropout(0.2))\n",
        "model13.add(Conv2D(16,kernel_size=(5,5),activation='relu',padding='same'))\n",
        "model13.add(MaxPooling2D(pool_size=(2,2), strides=2))\n",
        "model13.add(Dropout(0.2))\n",
        "model13.add(Flatten())\n",
        "model13.add(Dense(units=10,activation='softmax'))\n",
        "model13.summary()\n",
        "#优化器改为ADAM\n",
        "model13.compile(loss = 'categorical_crossentropy', optimizer = optimizers.Adam(),metrics = ['accuracy'])\n",
        "history13 = model13.fit(sj_train_2,sj_train_label_2,validation_data=(sj_val_2,sj_val_label_2),batch_size=4,epochs=40,verbose=1)"
      ]
    },
    {
      "cell_type": "code",
      "execution_count": null,
      "id": "f47ccfdf",
      "metadata": {
        "execution": {
          "iopub.execute_input": "2022-10-21T01:53:17.352537Z",
          "iopub.status.busy": "2022-10-21T01:53:17.351840Z",
          "iopub.status.idle": "2022-10-21T01:53:18.205947Z",
          "shell.execute_reply": "2022-10-21T01:53:18.204755Z"
        },
        "papermill": {
          "duration": 2.014212,
          "end_time": "2022-10-21T01:53:18.208597",
          "exception": false,
          "start_time": "2022-10-21T01:53:16.194385",
          "status": "completed"
        },
        "tags": [],
        "id": "f47ccfdf"
      },
      "outputs": [],
      "source": [
        "loss_acc_curve(history13)\n",
        "model13.evaluate(sj_test_2,sj_test_label_2) #其实该函数第一个返回值是损失（loss)，第二个返回值是准确率(acc)"
      ]
    },
    {
      "cell_type": "markdown",
      "id": "fab223bb",
      "metadata": {
        "papermill": {
          "duration": 1.236285,
          "end_time": "2022-10-21T01:53:20.663419",
          "exception": false,
          "start_time": "2022-10-21T01:53:19.427134",
          "status": "completed"
        },
        "tags": [],
        "id": "fab223bb"
      },
      "source": [
        "### 总结，1）增加数据集，可以把在模型优化基础上,减轻过拟合现象，让模型准确率有轻微的提升。\n",
        "###   2）同时我们应该意识到，我们epoch=40并不是模型最佳点，也就是说训练到40次的时候，模型性能并不太好，看上图，也许在epoch=15左右的时候也许最佳。"
      ]
    },
    {
      "cell_type": "markdown",
      "id": "97e32db6",
      "metadata": {
        "papermill": {
          "duration": 1.158137,
          "end_time": "2022-10-21T01:53:23.043089",
          "exception": false,
          "start_time": "2022-10-21T01:53:21.884952",
          "status": "completed"
        },
        "tags": [],
        "id": "97e32db6"
      },
      "source": [
        "### 4)简单化模型,过拟合现象可以降低"
      ]
    },
    {
      "cell_type": "code",
      "execution_count": null,
      "id": "75ed65a5",
      "metadata": {
        "execution": {
          "iopub.execute_input": "2022-10-21T01:53:25.545022Z",
          "iopub.status.busy": "2022-10-21T01:53:25.544613Z",
          "iopub.status.idle": "2022-10-21T01:55:33.957124Z",
          "shell.execute_reply": "2022-10-21T01:55:33.955916Z"
        },
        "papermill": {
          "duration": 130.28934,
          "end_time": "2022-10-21T01:55:34.574753",
          "exception": false,
          "start_time": "2022-10-21T01:53:24.285413",
          "status": "completed"
        },
        "tags": [],
        "id": "75ed65a5"
      },
      "outputs": [],
      "source": [
        "#减少卷积核个数,缩小卷积核尺寸,减少模型复杂度,可以缓解过拟合现象,提高准确率\n",
        "#卷积核个数是提取特征,因此缩小尺寸比直接减少卷积核个数要更为合适一些,但是也需要实验才能根据自己的数据情况来决定\n",
        "model14 = Sequential()\n",
        "model14.add(Conv2D(8, kernel_size=(3,3),activation='relu',kernel_regularizer = tf.keras.regularizers.L1(),padding='same', input_shape=input_shape))\n",
        "model14.add(MaxPooling2D(pool_size=(2,2), strides=2))\n",
        "#model14.add(Dropout(0.2))\n",
        "model14.add(Conv2D(16,kernel_size=(3,3),activation='relu',padding='same'))\n",
        "model14.add(MaxPooling2D(pool_size=(2,2), strides=2))\n",
        "model13.add(Dropout(0.2))\n",
        "model14.add(Flatten())\n",
        "model14.add(Dense(units=10,activation='softmax'))\n",
        "model14.summary()\n",
        "#优化器改为ADAM\n",
        "model14.compile(loss = 'categorical_crossentropy', optimizer = optimizers.Adam(),metrics = ['accuracy'])\n",
        "history14 = model14.fit(sj_train_2,sj_train_label_2,validation_data=(sj_val_2,sj_val_label_2),batch_size=4,epochs=20,verbose=1)"
      ]
    },
    {
      "cell_type": "code",
      "execution_count": null,
      "id": "102bf862",
      "metadata": {
        "execution": {
          "iopub.execute_input": "2022-10-21T01:55:37.381548Z",
          "iopub.status.busy": "2022-10-21T01:55:37.381082Z",
          "iopub.status.idle": "2022-10-21T01:55:38.187007Z",
          "shell.execute_reply": "2022-10-21T01:55:38.185741Z"
        },
        "papermill": {
          "duration": 2.220974,
          "end_time": "2022-10-21T01:55:38.189503",
          "exception": false,
          "start_time": "2022-10-21T01:55:35.968529",
          "status": "completed"
        },
        "tags": [],
        "id": "102bf862"
      },
      "outputs": [],
      "source": [
        "loss_acc_curve(history14)\n",
        "model14.evaluate(sj_test_2,sj_test_label_2) #其实该函数第一个返回值是损失（loss)，第二个返回值是准确率(acc)"
      ]
    },
    {
      "cell_type": "markdown",
      "id": "f432cd42",
      "metadata": {
        "papermill": {
          "duration": 1.374525,
          "end_time": "2022-10-21T01:55:40.853454",
          "exception": false,
          "start_time": "2022-10-21T01:55:39.478929",
          "status": "completed"
        },
        "tags": [],
        "id": "f432cd42"
      },
      "source": [
        " ### 我们在前面提到并不是epoch越大模型越好，那么什么时候模型最好呢？使用dropout+earlystopping,获取最佳模型\n",
        " ### 为了运行速度，我采用第一个版本的缩小数据集"
      ]
    },
    {
      "cell_type": "code",
      "execution_count": null,
      "id": "f8f978c7",
      "metadata": {
        "execution": {
          "iopub.execute_input": "2022-10-21T01:55:43.607265Z",
          "iopub.status.busy": "2022-10-21T01:55:43.605577Z",
          "iopub.status.idle": "2022-10-21T01:55:43.611553Z",
          "shell.execute_reply": "2022-10-21T01:55:43.610513Z"
        },
        "papermill": {
          "duration": 1.383708,
          "end_time": "2022-10-21T01:55:43.614491",
          "exception": false,
          "start_time": "2022-10-21T01:55:42.230783",
          "status": "completed"
        },
        "tags": [],
        "id": "f8f978c7"
      },
      "outputs": [],
      "source": [
        "early_stop = tf.keras.callbacks.EarlyStopping(monitor='val_loss',patience=8)"
      ]
    },
    {
      "cell_type": "code",
      "execution_count": null,
      "id": "259de96b",
      "metadata": {
        "execution": {
          "iopub.execute_input": "2022-10-21T01:55:46.397571Z",
          "iopub.status.busy": "2022-10-21T01:55:46.396619Z",
          "iopub.status.idle": "2022-10-21T01:56:35.044355Z",
          "shell.execute_reply": "2022-10-21T01:56:35.042679Z"
        },
        "papermill": {
          "duration": 50.062959,
          "end_time": "2022-10-21T01:56:35.048057",
          "exception": false,
          "start_time": "2022-10-21T01:55:44.985098",
          "status": "completed"
        },
        "tags": [],
        "id": "259de96b"
      },
      "outputs": [],
      "source": [
        "model15 = Sequential()\n",
        "model15.add(Conv2D(8, kernel_size=(3,3),activation='relu',kernel_regularizer = tf.keras.regularizers.L1(),padding='same', input_shape=input_shape))\n",
        "model15.add(MaxPooling2D(pool_size=(2,2), strides=2))\n",
        "#model15.add(Dropout(0.2))\n",
        "model15.add(Conv2D(16,kernel_size=(3,3),activation='relu',padding='same'))\n",
        "model15.add(MaxPooling2D(pool_size=(2,2), strides=2))\n",
        "model13.add(Dropout(0.2))\n",
        "model15.add(Flatten())\n",
        "model15.add(Dense(units=10,activation='softmax'))\n",
        "model15.summary()\n",
        "#优化器改为ADAM\n",
        "model15.compile(loss = 'categorical_crossentropy', optimizer = optimizers.Adam(),metrics = ['accuracy'])\n",
        "history15 = model15.fit(sj_train,sj_train_label,callbacks=[early_stop],validation_data=(sj_val,sj_val_label),batch_size=4,epochs=350,verbose=1)"
      ]
    },
    {
      "cell_type": "code",
      "execution_count": null,
      "id": "68a44f24",
      "metadata": {
        "execution": {
          "iopub.execute_input": "2022-10-21T01:56:37.992052Z",
          "iopub.status.busy": "2022-10-21T01:56:37.991624Z",
          "iopub.status.idle": "2022-10-21T01:57:09.730344Z",
          "shell.execute_reply": "2022-10-21T01:57:09.729305Z"
        },
        "papermill": {
          "duration": 34.385618,
          "end_time": "2022-10-21T01:57:10.881010",
          "exception": false,
          "start_time": "2022-10-21T01:56:36.495392",
          "status": "completed"
        },
        "tags": [],
        "id": "68a44f24"
      },
      "outputs": [],
      "source": [
        "loss_acc_curve(history15)\n",
        "model15.evaluate(sj_test,sj_test_label) #其实该函数第一个返回值是损失（loss)，第二个返回值是准确率(acc)"
      ]
    },
    {
      "cell_type": "markdown",
      "id": "bc107dd0",
      "metadata": {
        "execution": {
          "iopub.execute_input": "2022-06-30T10:11:32.733990Z",
          "iopub.status.busy": "2022-06-30T10:11:32.733244Z",
          "iopub.status.idle": "2022-06-30T10:11:32.739741Z",
          "shell.execute_reply": "2022-06-30T10:11:32.738284Z",
          "shell.execute_reply.started": "2022-06-30T10:11:32.733940Z"
        },
        "papermill": {
          "duration": 1.462212,
          "end_time": "2022-10-21T01:57:13.834652",
          "exception": false,
          "start_time": "2022-10-21T01:57:12.372440",
          "status": "completed"
        },
        "tags": [],
        "id": "bc107dd0"
      },
      "source": [
        "### 总结：模型选择epoch合适的时候，较少数据集就可以达到较大数据集刚才测试的效果，当然较大数据集也可以通过选择最佳模型进一步提高准确率"
      ]
    },
    {
      "cell_type": "markdown",
      "id": "a676c223",
      "metadata": {
        "papermill": {
          "duration": 1.500443,
          "end_time": "2022-10-21T01:57:16.705428",
          "exception": false,
          "start_time": "2022-10-21T01:57:15.204985",
          "status": "completed"
        },
        "tags": [],
        "id": "a676c223"
      },
      "source": [
        "### 全数据集参与训练，测试模型性能。"
      ]
    },
    {
      "cell_type": "code",
      "execution_count": null,
      "id": "c7b96300",
      "metadata": {
        "execution": {
          "iopub.execute_input": "2022-10-21T01:57:19.579701Z",
          "iopub.status.busy": "2022-10-21T01:57:19.579262Z",
          "iopub.status.idle": "2022-10-21T01:57:19.585001Z",
          "shell.execute_reply": "2022-10-21T01:57:19.583988Z"
        },
        "papermill": {
          "duration": 1.442662,
          "end_time": "2022-10-21T01:57:19.587171",
          "exception": false,
          "start_time": "2022-10-21T01:57:18.144509",
          "status": "completed"
        },
        "tags": [],
        "id": "c7b96300"
      },
      "outputs": [],
      "source": [
        "(sj_train_3,sj_train_label_3,sj_val_3,sj_val_label_3,sj_test_3,sj_test_label_3) = train_val_test(x_images_images,y_onehot,0.16)"
      ]
    },
    {
      "cell_type": "code",
      "execution_count": null,
      "id": "e51047a8",
      "metadata": {
        "execution": {
          "iopub.execute_input": "2022-10-21T01:57:22.522145Z",
          "iopub.status.busy": "2022-10-21T01:57:22.521272Z",
          "iopub.status.idle": "2022-10-21T01:57:22.527668Z",
          "shell.execute_reply": "2022-10-21T01:57:22.526620Z"
        },
        "papermill": {
          "duration": 1.485971,
          "end_time": "2022-10-21T01:57:22.530402",
          "exception": false,
          "start_time": "2022-10-21T01:57:21.044431",
          "status": "completed"
        },
        "tags": [],
        "id": "e51047a8"
      },
      "outputs": [],
      "source": [
        "print(sj_train_3.shape,sj_val_3.shape,sj_test_3.shape)\n",
        "print(sj_train_label_3.shape,sj_val_label_3.shape,sj_test_label_3.shape)"
      ]
    },
    {
      "cell_type": "code",
      "execution_count": null,
      "id": "8852fc3d",
      "metadata": {
        "execution": {
          "iopub.execute_input": "2022-10-21T01:57:25.643927Z",
          "iopub.status.busy": "2022-10-21T01:57:25.643127Z",
          "iopub.status.idle": "2022-10-21T01:57:25.650079Z",
          "shell.execute_reply": "2022-10-21T01:57:25.649162Z"
        },
        "papermill": {
          "duration": 1.644955,
          "end_time": "2022-10-21T01:57:25.652537",
          "exception": false,
          "start_time": "2022-10-21T01:57:24.007582",
          "status": "completed"
        },
        "tags": [],
        "id": "8852fc3d"
      },
      "outputs": [],
      "source": [
        "sj_train_label_3[3]"
      ]
    },
    {
      "cell_type": "code",
      "execution_count": null,
      "id": "8d568283",
      "metadata": {
        "execution": {
          "iopub.execute_input": "2022-10-21T01:57:28.694174Z",
          "iopub.status.busy": "2022-10-21T01:57:28.692963Z",
          "iopub.status.idle": "2022-10-21T01:57:28.699332Z",
          "shell.execute_reply": "2022-10-21T01:57:28.698325Z"
        },
        "papermill": {
          "duration": 1.578451,
          "end_time": "2022-10-21T01:57:28.702660",
          "exception": false,
          "start_time": "2022-10-21T01:57:27.124209",
          "status": "completed"
        },
        "tags": [],
        "id": "8d568283"
      },
      "outputs": [],
      "source": [
        "early_stop = tf.keras.callbacks.EarlyStopping(monitor='val_loss',patience=15)"
      ]
    },
    {
      "cell_type": "code",
      "execution_count": null,
      "id": "bad39f07",
      "metadata": {
        "execution": {
          "iopub.execute_input": "2022-10-21T01:57:31.700832Z",
          "iopub.status.busy": "2022-10-21T01:57:31.700423Z",
          "iopub.status.idle": "2022-10-21T02:23:03.729746Z",
          "shell.execute_reply": "2022-10-21T02:23:03.728375Z"
        },
        "papermill": {
          "duration": 1534.997164,
          "end_time": "2022-10-21T02:23:05.168592",
          "exception": false,
          "start_time": "2022-10-21T01:57:30.171428",
          "status": "completed"
        },
        "tags": [],
        "id": "bad39f07"
      },
      "outputs": [],
      "source": [
        "#全部数据集参与训练\n",
        "model16 = Sequential()\n",
        "model16.add(Conv2D(32, kernel_size=(3,3),activation='relu', input_shape=input_shape))\n",
        "model16.add(MaxPooling2D(pool_size=(2,2), strides=2))\n",
        "model16.add(Conv2D(64,kernel_size=(3,3),activation='relu'))\n",
        "model16.add(MaxPooling2D(pool_size=(2,2), strides=2))\n",
        "model16.add(Conv2D(64,kernel_size=(3,3),activation='relu'))\n",
        "\n",
        "model16.add(Flatten())\n",
        "model16.add(Dense(units=64, activation='relu'))\n",
        "model16.add(Dense(units=10, activation='softmax'))\n",
        "model16.summary()\n",
        "#优化器改为ADAM\n",
        "model16.compile(loss = 'categorical_crossentropy', optimizer = optimizers.Adam(0.001),metrics = ['accuracy'])\n",
        "history16 = model16.fit(sj_train_3,sj_train_label_3,callbacks=[early_stop],validation_data=(sj_val_3,sj_val_label_3),batch_size=4,epochs=150,verbose=2)"
      ]
    },
    {
      "cell_type": "code",
      "execution_count": null,
      "id": "9b883bc4",
      "metadata": {
        "execution": {
          "iopub.execute_input": "2022-10-21T02:23:08.050941Z",
          "iopub.status.busy": "2022-10-21T02:23:08.050551Z",
          "iopub.status.idle": "2022-10-21T02:23:11.158446Z",
          "shell.execute_reply": "2022-10-21T02:23:11.157048Z"
        },
        "papermill": {
          "duration": 4.567718,
          "end_time": "2022-10-21T02:23:11.161346",
          "exception": false,
          "start_time": "2022-10-21T02:23:06.593628",
          "status": "completed"
        },
        "tags": [],
        "id": "9b883bc4"
      },
      "outputs": [],
      "source": [
        "loss_acc_curve(history16)\n",
        "model16.evaluate(sj_test_3,sj_test_label_3) #其实该函数第一个返回值是损失（loss)，第二个返回值是准确率(acc)"
      ]
    },
    {
      "cell_type": "code",
      "execution_count": null,
      "id": "b27acf59",
      "metadata": {
        "execution": {
          "iopub.execute_input": "2022-10-21T02:23:13.960434Z",
          "iopub.status.busy": "2022-10-21T02:23:13.959606Z",
          "iopub.status.idle": "2022-10-21T02:23:13.965184Z",
          "shell.execute_reply": "2022-10-21T02:23:13.964344Z"
        },
        "papermill": {
          "duration": 1.358948,
          "end_time": "2022-10-21T02:23:13.967638",
          "exception": false,
          "start_time": "2022-10-21T02:23:12.608690",
          "status": "completed"
        },
        "tags": [],
        "id": "b27acf59"
      },
      "outputs": [],
      "source": [
        "early_stop1 = tf.keras.callbacks.EarlyStopping(monitor='val_loss',patience=20)"
      ]
    },
    {
      "cell_type": "code",
      "execution_count": null,
      "id": "d4fe8245",
      "metadata": {
        "execution": {
          "iopub.execute_input": "2022-10-21T02:23:16.929648Z",
          "iopub.status.busy": "2022-10-21T02:23:16.928889Z",
          "iopub.status.idle": "2022-10-21T03:28:36.159811Z",
          "shell.execute_reply": "2022-10-21T03:28:36.158181Z"
        },
        "papermill": {
          "duration": 3922.189844,
          "end_time": "2022-10-21T03:28:37.662432",
          "exception": false,
          "start_time": "2022-10-21T02:23:15.472588",
          "status": "completed"
        },
        "tags": [],
        "id": "d4fe8245"
      },
      "outputs": [],
      "source": [
        "#在上一个版本上面增加dropout\n",
        "model17 = Sequential()\n",
        "model17.add(Conv2D(32, kernel_size=(3,3),activation='relu', input_shape=input_shape))\n",
        "model17.add(MaxPooling2D(pool_size=(2,2), strides=2))\n",
        "model17.add(Conv2D(64,kernel_size=(3,3),activation='relu'))\n",
        "model17.add(MaxPooling2D(pool_size=(2,2), strides=2))\n",
        "model17.add(Dropout(0.25))\n",
        "model17.add(Conv2D(64,kernel_size=(3,3),activation='relu'))\n",
        "model17.add(Dropout(0.2))\n",
        "model17.add(Flatten())\n",
        "model17.add(Dense(units=64, activation='relu'))\n",
        "model17.add(Dense(units=10, activation='softmax'))\n",
        "model17.summary()\n",
        "#优化器改为ADAM\n",
        "model17.compile(loss = 'categorical_crossentropy', optimizer = optimizers.Adam(0.001),metrics = ['accuracy'])\n",
        "history17 = model17.fit(sj_train_3,sj_train_label_3,callbacks=[early_stop1],validation_data=(sj_val_3,sj_val_label_3),batch_size=4,epochs=150,verbose=2)"
      ]
    },
    {
      "cell_type": "code",
      "execution_count": null,
      "id": "681a90de",
      "metadata": {
        "execution": {
          "iopub.execute_input": "2022-10-21T03:28:40.633125Z",
          "iopub.status.busy": "2022-10-21T03:28:40.632699Z",
          "iopub.status.idle": "2022-10-21T03:28:43.721719Z",
          "shell.execute_reply": "2022-10-21T03:28:43.720458Z"
        },
        "papermill": {
          "duration": 4.614317,
          "end_time": "2022-10-21T03:28:43.724582",
          "exception": false,
          "start_time": "2022-10-21T03:28:39.110265",
          "status": "completed"
        },
        "tags": [],
        "id": "681a90de"
      },
      "outputs": [],
      "source": [
        "loss_acc_curve(history17)\n",
        "model17.evaluate(sj_test_3,sj_test_label_3) #其实该函数第一个返回值是损失（loss)，第二个返回值是准确率(acc)"
      ]
    },
    {
      "cell_type": "markdown",
      "id": "ea546790",
      "metadata": {
        "papermill": {
          "duration": 1.497364,
          "end_time": "2022-10-21T03:28:46.594688",
          "exception": false,
          "start_time": "2022-10-21T03:28:45.097324",
          "status": "completed"
        },
        "tags": [],
        "id": "ea546790"
      },
      "source": [
        "### 到此结束，你或许需要再仔细整理下思路。然后去完成作业吧"
      ]
    },
    {
      "cell_type": "code",
      "execution_count": null,
      "id": "4ff004a3",
      "metadata": {
        "papermill": {
          "duration": 1.345288,
          "end_time": "2022-10-21T03:28:49.384222",
          "exception": false,
          "start_time": "2022-10-21T03:28:48.038934",
          "status": "completed"
        },
        "tags": [],
        "id": "4ff004a3"
      },
      "outputs": [],
      "source": []
    },
    {
      "cell_type": "code",
      "execution_count": null,
      "id": "e51ad078",
      "metadata": {
        "papermill": {
          "duration": 1.441253,
          "end_time": "2022-10-21T03:28:52.251916",
          "exception": false,
          "start_time": "2022-10-21T03:28:50.810663",
          "status": "completed"
        },
        "tags": [],
        "id": "e51ad078"
      },
      "outputs": [],
      "source": []
    },
    {
      "cell_type": "code",
      "execution_count": null,
      "id": "af4197ef",
      "metadata": {
        "papermill": {
          "duration": 1.44704,
          "end_time": "2022-10-21T03:28:55.061826",
          "exception": false,
          "start_time": "2022-10-21T03:28:53.614786",
          "status": "completed"
        },
        "tags": [],
        "id": "af4197ef"
      },
      "outputs": [],
      "source": []
    }
  ],
  "metadata": {
    "kernelspec": {
      "display_name": "Python 3",
      "name": "python3"
    },
    "language_info": {
      "codemirror_mode": {
        "name": "ipython",
        "version": 3
      },
      "file_extension": ".py",
      "mimetype": "text/x-python",
      "name": "python",
      "nbconvert_exporter": "python",
      "pygments_lexer": "ipython3",
      "version": "3.9.13"
    },
    "papermill": {
      "default_parameters": {},
      "duration": 6932.322941,
      "end_time": "2022-10-21T03:28:59.377318",
      "environment_variables": {},
      "exception": null,
      "input_path": "__notebook__.ipynb",
      "output_path": "__notebook__.ipynb",
      "parameters": {},
      "start_time": "2022-10-21T01:33:27.054377",
      "version": "2.3.4"
    },
    "colab": {
      "provenance": [],
      "gpuType": "T4"
    },
    "accelerator": "GPU"
  },
  "nbformat": 4,
  "nbformat_minor": 5
}