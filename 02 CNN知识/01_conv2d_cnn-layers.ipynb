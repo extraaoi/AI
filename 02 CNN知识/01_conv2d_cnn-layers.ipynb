{
 "cells": [
  {
   "cell_type": "markdown",
   "id": "519b7873",
   "metadata": {
    "_cell_guid": "b1076dfc-b9ad-4769-8c92-a6c4dae69d19",
    "_uuid": "8f2839f25d086af736a60e9eeb907d3b93b6e0e5",
    "execution": {
     "iopub.execute_input": "2022-10-20T03:31:14.780805Z",
     "iopub.status.busy": "2022-10-20T03:31:14.780368Z",
     "iopub.status.idle": "2022-10-20T03:31:14.797460Z",
     "shell.execute_reply": "2022-10-20T03:31:14.796162Z"
    },
    "papermill": {
     "duration": 0.030937,
     "end_time": "2022-10-20T03:31:14.800031",
     "exception": false,
     "start_time": "2022-10-20T03:31:14.769094",
     "status": "completed"
    },
    "tags": []
   },
   "source": [
    "### 本节课主要是实际搭建和运用CNN网络中的各个层（卷积层、池化层和全连接层）。"
   ]
  },
  {
   "cell_type": "code",
   "execution_count": 1,
   "id": "dc9a7747",
   "metadata": {
    "execution": {
     "iopub.execute_input": "2022-10-20T03:31:14.819689Z",
     "iopub.status.busy": "2022-10-20T03:31:14.819240Z",
     "iopub.status.idle": "2022-10-20T03:31:20.811601Z",
     "shell.execute_reply": "2022-10-20T03:31:20.810405Z"
    },
    "papermill": {
     "duration": 6.005859,
     "end_time": "2022-10-20T03:31:20.814694",
     "exception": false,
     "start_time": "2022-10-20T03:31:14.808835",
     "status": "completed"
    },
    "tags": []
   },
   "outputs": [],
   "source": [
    "import tensorflow as tf\n",
    "import numpy as np"
   ]
  },
  {
   "cell_type": "code",
   "execution_count": 2,
   "id": "618946d1",
   "metadata": {},
   "outputs": [],
   "source": [
    "from PIL import Image\n",
    "import matplotlib.pyplot as plt"
   ]
  },
  {
   "cell_type": "code",
   "execution_count": 3,
   "id": "7201039b",
   "metadata": {},
   "outputs": [],
   "source": [
    "from tensorflow.keras.layers import Conv2D\n",
    "from tensorflow.keras.initializers import Constant"
   ]
  },
  {
   "cell_type": "code",
   "execution_count": 4,
   "id": "8ac1e18a",
   "metadata": {
    "execution": {
     "iopub.execute_input": "2022-10-20T03:31:20.833318Z",
     "iopub.status.busy": "2022-10-20T03:31:20.832371Z",
     "iopub.status.idle": "2022-10-20T03:31:20.838683Z",
     "shell.execute_reply": "2022-10-20T03:31:20.837487Z"
    },
    "papermill": {
     "duration": 0.018386,
     "end_time": "2022-10-20T03:31:20.841315",
     "exception": false,
     "start_time": "2022-10-20T03:31:20.822929",
     "status": "completed"
    },
    "tags": []
   },
   "outputs": [
    {
     "name": "stdout",
     "output_type": "stream",
     "text": [
      "2.11.0\n"
     ]
    }
   ],
   "source": [
    "print(tf.__version__)"
   ]
  },
  {
   "cell_type": "markdown",
   "id": "4d46a327",
   "metadata": {},
   "source": [
    "### 生成6x8的全1矩阵，然后赋值为中间0，边缘为1的矩阵，这就类似一个黑白分明的图片。然后搭建一个卷积层，用其对刚才生成的矩阵处理，观察结果"
   ]
  },
  {
   "cell_type": "code",
   "execution_count": 5,
   "id": "923420ec",
   "metadata": {
    "execution": {
     "iopub.execute_input": "2022-10-20T03:31:20.859503Z",
     "iopub.status.busy": "2022-10-20T03:31:20.858944Z",
     "iopub.status.idle": "2022-10-20T03:31:20.869067Z",
     "shell.execute_reply": "2022-10-20T03:31:20.867991Z"
    },
    "papermill": {
     "duration": 0.021848,
     "end_time": "2022-10-20T03:31:20.871376",
     "exception": false,
     "start_time": "2022-10-20T03:31:20.849528",
     "status": "completed"
    },
    "tags": []
   },
   "outputs": [
    {
     "data": {
      "text/plain": [
       "array([[1., 1., 1., 1., 1., 1., 1., 1.],\n",
       "       [1., 1., 1., 1., 1., 1., 1., 1.],\n",
       "       [1., 1., 1., 1., 1., 1., 1., 1.],\n",
       "       [1., 1., 1., 1., 1., 1., 1., 1.],\n",
       "       [1., 1., 1., 1., 1., 1., 1., 1.],\n",
       "       [1., 1., 1., 1., 1., 1., 1., 1.]], dtype=float32)"
      ]
     },
     "execution_count": 5,
     "metadata": {},
     "output_type": "execute_result"
    }
   ],
   "source": [
    "xx = np.ones((6,8),dtype = np.float32)\n",
    "xx"
   ]
  },
  {
   "cell_type": "code",
   "execution_count": 6,
   "id": "3f36191a",
   "metadata": {
    "execution": {
     "iopub.execute_input": "2022-10-20T03:31:20.890156Z",
     "iopub.status.busy": "2022-10-20T03:31:20.889714Z",
     "iopub.status.idle": "2022-10-20T03:31:20.899406Z",
     "shell.execute_reply": "2022-10-20T03:31:20.897734Z"
    },
    "papermill": {
     "duration": 0.022086,
     "end_time": "2022-10-20T03:31:20.901802",
     "exception": false,
     "start_time": "2022-10-20T03:31:20.879716",
     "status": "completed"
    },
    "tags": []
   },
   "outputs": [
    {
     "name": "stdout",
     "output_type": "stream",
     "text": [
      "[1. 1. 1.]\n"
     ]
    },
    {
     "data": {
      "text/plain": [
       "array([[1., 1., 0., 0., 0., 0., 1., 1.],\n",
       "       [1., 1., 0., 0., 0., 0., 1., 1.],\n",
       "       [1., 1., 0., 0., 0., 0., 1., 1.],\n",
       "       [1., 1., 0., 0., 0., 0., 1., 1.],\n",
       "       [1., 1., 0., 0., 0., 0., 1., 1.],\n",
       "       [1., 1., 0., 0., 0., 0., 1., 1.]], dtype=float32)"
      ]
     },
     "execution_count": 6,
     "metadata": {},
     "output_type": "execute_result"
    }
   ],
   "source": [
    "print(xx[1,2:5])\n",
    "xx[:,2:6] = 0\n",
    "xx"
   ]
  },
  {
   "cell_type": "code",
   "execution_count": 7,
   "id": "35badeea",
   "metadata": {
    "execution": {
     "iopub.execute_input": "2022-10-20T03:31:20.921989Z",
     "iopub.status.busy": "2022-10-20T03:31:20.921600Z",
     "iopub.status.idle": "2022-10-20T03:31:22.327032Z",
     "shell.execute_reply": "2022-10-20T03:31:22.325995Z"
    },
    "papermill": {
     "duration": 1.42055,
     "end_time": "2022-10-20T03:31:22.332457",
     "exception": false,
     "start_time": "2022-10-20T03:31:20.911907",
     "status": "completed"
    },
    "tags": []
   },
   "outputs": [
    {
     "name": "stdout",
     "output_type": "stream",
     "text": [
      "tf.Tensor(\n",
      "[[[[1.5662059 ]\n",
      "   [0.99143445]\n",
      "   [0.        ]\n",
      "   [0.        ]\n",
      "   [0.        ]\n",
      "   [0.5747714 ]\n",
      "   [1.5662059 ]]\n",
      "\n",
      "  [[1.5662059 ]\n",
      "   [0.99143445]\n",
      "   [0.        ]\n",
      "   [0.        ]\n",
      "   [0.        ]\n",
      "   [0.5747714 ]\n",
      "   [1.5662059 ]]\n",
      "\n",
      "  [[1.5662059 ]\n",
      "   [0.99143445]\n",
      "   [0.        ]\n",
      "   [0.        ]\n",
      "   [0.        ]\n",
      "   [0.5747714 ]\n",
      "   [1.5662059 ]]\n",
      "\n",
      "  [[1.5662059 ]\n",
      "   [0.99143445]\n",
      "   [0.        ]\n",
      "   [0.        ]\n",
      "   [0.        ]\n",
      "   [0.5747714 ]\n",
      "   [1.5662059 ]]\n",
      "\n",
      "  [[1.5662059 ]\n",
      "   [0.99143445]\n",
      "   [0.        ]\n",
      "   [0.        ]\n",
      "   [0.        ]\n",
      "   [0.5747714 ]\n",
      "   [1.5662059 ]]\n",
      "\n",
      "  [[1.5662059 ]\n",
      "   [0.99143445]\n",
      "   [0.        ]\n",
      "   [0.        ]\n",
      "   [0.        ]\n",
      "   [0.5747714 ]\n",
      "   [1.5662059 ]]]], shape=(1, 6, 7, 1), dtype=float32)\n",
      "[[[[1.5662059 ]\n",
      "   [0.99143445]\n",
      "   [0.        ]\n",
      "   [0.        ]\n",
      "   [0.        ]\n",
      "   [0.5747714 ]\n",
      "   [1.5662059 ]]\n",
      "\n",
      "  [[1.5662059 ]\n",
      "   [0.99143445]\n",
      "   [0.        ]\n",
      "   [0.        ]\n",
      "   [0.        ]\n",
      "   [0.5747714 ]\n",
      "   [1.5662059 ]]\n",
      "\n",
      "  [[1.5662059 ]\n",
      "   [0.99143445]\n",
      "   [0.        ]\n",
      "   [0.        ]\n",
      "   [0.        ]\n",
      "   [0.5747714 ]\n",
      "   [1.5662059 ]]\n",
      "\n",
      "  [[1.5662059 ]\n",
      "   [0.99143445]\n",
      "   [0.        ]\n",
      "   [0.        ]\n",
      "   [0.        ]\n",
      "   [0.5747714 ]\n",
      "   [1.5662059 ]]\n",
      "\n",
      "  [[1.5662059 ]\n",
      "   [0.99143445]\n",
      "   [0.        ]\n",
      "   [0.        ]\n",
      "   [0.        ]\n",
      "   [0.5747714 ]\n",
      "   [1.5662059 ]]\n",
      "\n",
      "  [[1.5662059 ]\n",
      "   [0.99143445]\n",
      "   [0.        ]\n",
      "   [0.        ]\n",
      "   [0.        ]\n",
      "   [0.5747714 ]\n",
      "   [1.5662059 ]]]]\n"
     ]
    }
   ],
   "source": [
    "input_shape = (1,6,8,1)\n",
    "x = xx.reshape(input_shape)\n",
    "mo = tf.keras.layers.Conv2D(1,(1,2))\n",
    "y = mo(x)\n",
    "print(y)\n",
    "data = y.numpy()\n",
    "print(data)"
   ]
  },
  {
   "cell_type": "markdown",
   "id": "01b4141c",
   "metadata": {},
   "source": [
    "### 刚才学习的卷积，并没有指定卷积核，卷积核是随机的。那么如果我们想指定卷积核为固定值该怎么办呢？学习卷积核为固定值。"
   ]
  },
  {
   "cell_type": "code",
   "execution_count": 8,
   "id": "72e7c98a",
   "metadata": {
    "execution": {
     "iopub.execute_input": "2022-10-20T03:31:22.352832Z",
     "iopub.status.busy": "2022-10-20T03:31:22.352053Z",
     "iopub.status.idle": "2022-10-20T03:31:22.360666Z",
     "shell.execute_reply": "2022-10-20T03:31:22.359282Z"
    },
    "papermill": {
     "duration": 0.021995,
     "end_time": "2022-10-20T03:31:22.363634",
     "exception": false,
     "start_time": "2022-10-20T03:31:22.341639",
     "status": "completed"
    },
    "tags": []
   },
   "outputs": [
    {
     "data": {
      "text/plain": [
       "<tf.Tensor: shape=(1, 2), dtype=float32, numpy=array([[3., 3.]], dtype=float32)>"
      ]
     },
     "execution_count": 8,
     "metadata": {},
     "output_type": "execute_result"
    }
   ],
   "source": [
    "ini = tf.keras.initializers.Constant(3.)\n",
    "val = ini(shape=(1,2))\n",
    "val"
   ]
  },
  {
   "cell_type": "code",
   "execution_count": 9,
   "id": "8cd8cea2",
   "metadata": {
    "execution": {
     "iopub.execute_input": "2022-10-20T03:31:22.383416Z",
     "iopub.status.busy": "2022-10-20T03:31:22.382978Z",
     "iopub.status.idle": "2022-10-20T03:31:22.394081Z",
     "shell.execute_reply": "2022-10-20T03:31:22.392875Z"
    },
    "papermill": {
     "duration": 0.024011,
     "end_time": "2022-10-20T03:31:22.396690",
     "exception": false,
     "start_time": "2022-10-20T03:31:22.372679",
     "status": "completed"
    },
    "tags": []
   },
   "outputs": [
    {
     "data": {
      "text/plain": [
       "<tf.Tensor: shape=(1, 2), dtype=float32, numpy=array([[ 1., -1.]], dtype=float32)>"
      ]
     },
     "execution_count": 9,
     "metadata": {},
     "output_type": "execute_result"
    }
   ],
   "source": [
    "ini = tf.keras.initializers.Constant([1.,-1.])\n",
    "val = ini(shape=(1,2))\n",
    "val"
   ]
  },
  {
   "cell_type": "markdown",
   "id": "7795febe",
   "metadata": {},
   "source": [
    "### 使用[1，-1]的卷积核，处理x矩阵。该卷积核可以提取图片的边缘信息。思考一下为什么？尝试一下查看效果"
   ]
  },
  {
   "cell_type": "code",
   "execution_count": 10,
   "id": "e7c41007",
   "metadata": {
    "execution": {
     "iopub.execute_input": "2022-10-20T03:31:22.416652Z",
     "iopub.status.busy": "2022-10-20T03:31:22.416227Z",
     "iopub.status.idle": "2022-10-20T03:31:22.443404Z",
     "shell.execute_reply": "2022-10-20T03:31:22.441884Z"
    },
    "papermill": {
     "duration": 0.040069,
     "end_time": "2022-10-20T03:31:22.445867",
     "exception": false,
     "start_time": "2022-10-20T03:31:22.405798",
     "status": "completed"
    },
    "tags": []
   },
   "outputs": [
    {
     "name": "stdout",
     "output_type": "stream",
     "text": [
      "[[ 0.  1.  0.  0.  0. -1.  0.]\n",
      " [ 0.  1.  0.  0.  0. -1.  0.]\n",
      " [ 0.  1.  0.  0.  0. -1.  0.]\n",
      " [ 0.  1.  0.  0.  0. -1.  0.]\n",
      " [ 0.  1.  0.  0.  0. -1.  0.]\n",
      " [ 0.  1.  0.  0.  0. -1.  0.]]\n"
     ]
    }
   ],
   "source": [
    "mo_ini = tf.keras.layers.Conv2D(1,(1,2),kernel_initializer = tf.initializers.Constant([1.,-1.]))\n",
    "y = mo_ini(x)\n",
    "print(y.numpy().reshape(6,7))"
   ]
  },
  {
   "cell_type": "markdown",
   "id": "bf32c0ef",
   "metadata": {},
   "source": [
    "### 观察padding的作用"
   ]
  },
  {
   "cell_type": "code",
   "execution_count": 11,
   "id": "3fc258a4",
   "metadata": {
    "execution": {
     "iopub.execute_input": "2022-10-20T03:31:22.466367Z",
     "iopub.status.busy": "2022-10-20T03:31:22.465961Z",
     "iopub.status.idle": "2022-10-20T03:31:22.480470Z",
     "shell.execute_reply": "2022-10-20T03:31:22.479171Z"
    },
    "papermill": {
     "duration": 0.02819,
     "end_time": "2022-10-20T03:31:22.483144",
     "exception": false,
     "start_time": "2022-10-20T03:31:22.454954",
     "status": "completed"
    },
    "tags": []
   },
   "outputs": [
    {
     "name": "stdout",
     "output_type": "stream",
     "text": [
      "[[ 0.  1.  0.  0.  0. -1.  0.  1.]\n",
      " [ 0.  1.  0.  0.  0. -1.  0.  1.]\n",
      " [ 0.  1.  0.  0.  0. -1.  0.  1.]\n",
      " [ 0.  1.  0.  0.  0. -1.  0.  1.]\n",
      " [ 0.  1.  0.  0.  0. -1.  0.  1.]\n",
      " [ 0.  1.  0.  0.  0. -1.  0.  1.]]\n"
     ]
    }
   ],
   "source": [
    "mo_ini = tf.keras.layers.Conv2D(1,(1,2),kernel_initializer = tf.keras.initializers.Constant([1.,-1.]),padding='same')\n",
    "y = mo_ini(x)\n",
    "print(y.numpy().reshape(6,8))"
   ]
  },
  {
   "cell_type": "code",
   "execution_count": 12,
   "id": "788cf812",
   "metadata": {
    "execution": {
     "iopub.execute_input": "2022-10-20T03:31:22.503613Z",
     "iopub.status.busy": "2022-10-20T03:31:22.503190Z",
     "iopub.status.idle": "2022-10-20T03:31:22.509971Z",
     "shell.execute_reply": "2022-10-20T03:31:22.508955Z"
    },
    "papermill": {
     "duration": 0.02005,
     "end_time": "2022-10-20T03:31:22.512618",
     "exception": false,
     "start_time": "2022-10-20T03:31:22.492568",
     "status": "completed"
    },
    "tags": []
   },
   "outputs": [],
   "source": [
    "from tensorflow.keras.layers import Conv2D\n",
    "from tensorflow.keras.initializers import Constant"
   ]
  },
  {
   "cell_type": "markdown",
   "id": "50b50679",
   "metadata": {},
   "source": [
    "### 观察strides的作用"
   ]
  },
  {
   "cell_type": "code",
   "execution_count": 13,
   "id": "cd9a4e6e",
   "metadata": {
    "execution": {
     "iopub.execute_input": "2022-10-20T03:31:22.532984Z",
     "iopub.status.busy": "2022-10-20T03:31:22.532615Z",
     "iopub.status.idle": "2022-10-20T03:31:22.546007Z",
     "shell.execute_reply": "2022-10-20T03:31:22.544865Z"
    },
    "papermill": {
     "duration": 0.026619,
     "end_time": "2022-10-20T03:31:22.548510",
     "exception": false,
     "start_time": "2022-10-20T03:31:22.521891",
     "status": "completed"
    },
    "tags": []
   },
   "outputs": [
    {
     "name": "stdout",
     "output_type": "stream",
     "text": [
      "[[0. 0. 0.]\n",
      " [0. 0. 0.]\n",
      " [0. 0. 0.]]\n"
     ]
    }
   ],
   "source": [
    "mo_ini = Conv2D(1,(1,2),kernel_initializer = Constant([1.,-1.]),padding='same',strides = (2,3))\n",
    "y = mo_ini(x)\n",
    "print(y.numpy().reshape(3,3))"
   ]
  },
  {
   "cell_type": "code",
   "execution_count": 14,
   "id": "ec23494e",
   "metadata": {
    "execution": {
     "iopub.execute_input": "2022-10-20T03:31:22.570059Z",
     "iopub.status.busy": "2022-10-20T03:31:22.569657Z",
     "iopub.status.idle": "2022-10-20T03:31:22.584552Z",
     "shell.execute_reply": "2022-10-20T03:31:22.582897Z"
    },
    "papermill": {
     "duration": 0.029923,
     "end_time": "2022-10-20T03:31:22.587943",
     "exception": false,
     "start_time": "2022-10-20T03:31:22.558020",
     "status": "completed"
    },
    "tags": []
   },
   "outputs": [
    {
     "name": "stdout",
     "output_type": "stream",
     "text": [
      "[[0. 0. 0. 0.]\n",
      " [0. 0. 0. 0.]\n",
      " [0. 0. 0. 0.]]\n"
     ]
    }
   ],
   "source": [
    "mo_ini = Conv2D(1,(1,2),kernel_initializer = Constant([1.,-1.]),padding='same',strides = 2)\n",
    "y = mo_ini(x)\n",
    "print(y.numpy().reshape(3,4))"
   ]
  },
  {
   "cell_type": "code",
   "execution_count": 15,
   "id": "d00abe31",
   "metadata": {
    "execution": {
     "iopub.execute_input": "2022-10-20T03:31:22.609370Z",
     "iopub.status.busy": "2022-10-20T03:31:22.608950Z",
     "iopub.status.idle": "2022-10-20T03:31:22.622334Z",
     "shell.execute_reply": "2022-10-20T03:31:22.620298Z"
    },
    "papermill": {
     "duration": 0.027054,
     "end_time": "2022-10-20T03:31:22.625197",
     "exception": false,
     "start_time": "2022-10-20T03:31:22.598143",
     "status": "completed"
    },
    "tags": []
   },
   "outputs": [
    {
     "name": "stdout",
     "output_type": "stream",
     "text": [
      "tf.Tensor(\n",
      "[[[[ 0.0868988  -0.02749014]\n",
      "   [ 0.95691776  0.6341076 ]\n",
      "   [ 0.          0.        ]\n",
      "   [ 0.          0.        ]\n",
      "   [ 0.          0.        ]\n",
      "   [-0.87001896 -0.6615977 ]\n",
      "   [ 0.0868988  -0.02749014]]\n",
      "\n",
      "  [[ 0.0868988  -0.02749014]\n",
      "   [ 0.95691776  0.6341076 ]\n",
      "   [ 0.          0.        ]\n",
      "   [ 0.          0.        ]\n",
      "   [ 0.          0.        ]\n",
      "   [-0.87001896 -0.6615977 ]\n",
      "   [ 0.0868988  -0.02749014]]\n",
      "\n",
      "  [[ 0.0868988  -0.02749014]\n",
      "   [ 0.95691776  0.6341076 ]\n",
      "   [ 0.          0.        ]\n",
      "   [ 0.          0.        ]\n",
      "   [ 0.          0.        ]\n",
      "   [-0.87001896 -0.6615977 ]\n",
      "   [ 0.0868988  -0.02749014]]\n",
      "\n",
      "  [[ 0.0868988  -0.02749014]\n",
      "   [ 0.95691776  0.6341076 ]\n",
      "   [ 0.          0.        ]\n",
      "   [ 0.          0.        ]\n",
      "   [ 0.          0.        ]\n",
      "   [-0.87001896 -0.6615977 ]\n",
      "   [ 0.0868988  -0.02749014]]\n",
      "\n",
      "  [[ 0.0868988  -0.02749014]\n",
      "   [ 0.95691776  0.6341076 ]\n",
      "   [ 0.          0.        ]\n",
      "   [ 0.          0.        ]\n",
      "   [ 0.          0.        ]\n",
      "   [-0.87001896 -0.6615977 ]\n",
      "   [ 0.0868988  -0.02749014]]\n",
      "\n",
      "  [[ 0.0868988  -0.02749014]\n",
      "   [ 0.95691776  0.6341076 ]\n",
      "   [ 0.          0.        ]\n",
      "   [ 0.          0.        ]\n",
      "   [ 0.          0.        ]\n",
      "   [-0.87001896 -0.6615977 ]\n",
      "   [ 0.0868988  -0.02749014]]]], shape=(1, 6, 7, 2), dtype=float32)\n"
     ]
    }
   ],
   "source": [
    "mo_ini = Conv2D(2,(1,2))\n",
    "y = mo_ini(x)\n",
    "print(y)"
   ]
  },
  {
   "cell_type": "code",
   "execution_count": 16,
   "id": "2cd2bc55",
   "metadata": {
    "execution": {
     "iopub.execute_input": "2022-10-20T03:31:22.646899Z",
     "iopub.status.busy": "2022-10-20T03:31:22.646409Z",
     "iopub.status.idle": "2022-10-20T03:31:22.659988Z",
     "shell.execute_reply": "2022-10-20T03:31:22.658279Z"
    },
    "papermill": {
     "duration": 0.028422,
     "end_time": "2022-10-20T03:31:22.663101",
     "exception": false,
     "start_time": "2022-10-20T03:31:22.634679",
     "status": "completed"
    },
    "tags": []
   },
   "outputs": [
    {
     "name": "stdout",
     "output_type": "stream",
     "text": [
      "tf.Tensor(\n",
      "[[[[-1.624929  -0.6761508]\n",
      "   [ 0.         0.       ]\n",
      "   [ 0.         0.       ]\n",
      "   [-1.624929  -0.6761508]]\n",
      "\n",
      "  [[-1.624929  -0.6761508]\n",
      "   [ 0.         0.       ]\n",
      "   [ 0.         0.       ]\n",
      "   [-1.624929  -0.6761508]]\n",
      "\n",
      "  [[-1.624929  -0.6761508]\n",
      "   [ 0.         0.       ]\n",
      "   [ 0.         0.       ]\n",
      "   [-1.624929  -0.6761508]]]], shape=(1, 3, 4, 2), dtype=float32)\n"
     ]
    }
   ],
   "source": [
    "mo_ini = Conv2D(2,(1,2),padding='same',strides = 2)\n",
    "y = mo_ini(x)\n",
    "print(y)"
   ]
  },
  {
   "cell_type": "markdown",
   "id": "2d902fef",
   "metadata": {
    "execution": {
     "iopub.execute_input": "2022-10-20T02:57:25.716201Z",
     "iopub.status.busy": "2022-10-20T02:57:25.715468Z",
     "iopub.status.idle": "2022-10-20T02:57:25.939187Z",
     "shell.execute_reply": "2022-10-20T02:57:25.938113Z",
     "shell.execute_reply.started": "2022-10-20T02:57:25.716152Z"
    },
    "papermill": {
     "duration": 0.009884,
     "end_time": "2022-10-20T03:31:23.146004",
     "exception": false,
     "start_time": "2022-10-20T03:31:23.136120",
     "status": "completed"
    },
    "tags": []
   },
   "source": [
    "## 彩色输入图片的2D卷积"
   ]
  },
  {
   "cell_type": "code",
   "execution_count": 17,
   "id": "aa9027d0",
   "metadata": {
    "execution": {
     "iopub.execute_input": "2022-10-20T03:31:23.168092Z",
     "iopub.status.busy": "2022-10-20T03:31:23.167669Z",
     "iopub.status.idle": "2022-10-20T03:31:23.388798Z",
     "shell.execute_reply": "2022-10-20T03:31:23.387762Z"
    },
    "papermill": {
     "duration": 0.235236,
     "end_time": "2022-10-20T03:31:23.391394",
     "exception": false,
     "start_time": "2022-10-20T03:31:23.156158",
     "status": "completed"
    },
    "tags": []
   },
   "outputs": [
    {
     "name": "stdout",
     "output_type": "stream",
     "text": [
      "(415, 420, 3)\n",
      "(28, 28, 3)\n"
     ]
    },
    {
     "data": {
      "image/png": "[encoded data removed]",
      "text/plain": [
       "<Figure size 640x480 with 1 Axes>"
      ]
     },
     "metadata": {},
     "output_type": "display_data"
    }
   ],
   "source": [
    "img = Image.open('te.jpg')\n",
    "plt.imshow(img)\n",
    "xx = np.array(img,dtype='float32')\n",
    "print(xx.shape)\n",
    "xx.resize((28,28,3))\n",
    "print(xx.shape)"
   ]
  },
  {
   "cell_type": "code",
   "execution_count": 18,
   "id": "38e8a82e",
   "metadata": {
    "execution": {
     "iopub.execute_input": "2022-10-20T03:31:23.415957Z",
     "iopub.status.busy": "2022-10-20T03:31:23.415556Z",
     "iopub.status.idle": "2022-10-20T03:31:23.430321Z",
     "shell.execute_reply": "2022-10-20T03:31:23.429098Z"
    },
    "papermill": {
     "duration": 0.030324,
     "end_time": "2022-10-20T03:31:23.433098",
     "exception": false,
     "start_time": "2022-10-20T03:31:23.402774",
     "status": "completed"
    },
    "tags": []
   },
   "outputs": [
    {
     "name": "stdout",
     "output_type": "stream",
     "text": [
      "(1, 28, 27, 1)\n"
     ]
    }
   ],
   "source": [
    "input_shape = (1,28,28,3)\n",
    "x = xx.reshape(input_shape)\n",
    "mo = Conv2D(1,(1,2))\n",
    "y = mo(x)\n",
    "print(y.numpy().shape)"
   ]
  },
  {
   "cell_type": "markdown",
   "id": "91cbf384",
   "metadata": {
    "papermill": {
     "duration": 0.010764,
     "end_time": "2022-10-20T03:31:23.454954",
     "exception": false,
     "start_time": "2022-10-20T03:31:23.444190",
     "status": "completed"
    },
    "tags": []
   },
   "source": [
    "### 多通道输入也可以使用padding和strides调整得到不同特征图，可以尝试"
   ]
  },
  {
   "cell_type": "markdown",
   "id": "3580e4a3",
   "metadata": {
    "papermill": {
     "duration": 0.010713,
     "end_time": "2022-10-20T03:31:23.476789",
     "exception": false,
     "start_time": "2022-10-20T03:31:23.466076",
     "status": "completed"
    },
    "tags": []
   },
   "source": [
    "### 批量输入（多个图片同时输入，比如我们在CNN模型中经常听到batchsize的设置。这个参数就是设置一次性送入模型训练的图片个数）"
   ]
  },
  {
   "cell_type": "code",
   "execution_count": 19,
   "id": "c56df426",
   "metadata": {
    "execution": {
     "iopub.execute_input": "2022-10-20T03:31:23.501197Z",
     "iopub.status.busy": "2022-10-20T03:31:23.500415Z",
     "iopub.status.idle": "2022-10-20T03:31:23.521732Z",
     "shell.execute_reply": "2022-10-20T03:31:23.520369Z"
    },
    "papermill": {
     "duration": 0.036732,
     "end_time": "2022-10-20T03:31:23.524597",
     "exception": false,
     "start_time": "2022-10-20T03:31:23.487865",
     "status": "completed"
    },
    "tags": []
   },
   "outputs": [
    {
     "name": "stdout",
     "output_type": "stream",
     "text": [
      "(1, 28, 28, 3)\n",
      "(1, 28, 28, 3)\n"
     ]
    }
   ],
   "source": [
    "img1 = Image.open('te.jpg')\n",
    "img2 = Image.open('te.jpg')\n",
    "#数据处理，格式统一，大小统一\n",
    "xx1 = np.array(img1,dtype='float32')\n",
    "xx1.resize((1,28,28,3))\n",
    "print(xx1.shape)\n",
    "xx2 = np.array(img2,dtype='float32')\n",
    "xx2.resize((1,28,28,3))\n",
    "print(xx2.shape)"
   ]
  },
  {
   "cell_type": "code",
   "execution_count": 20,
   "id": "b0b6aeb1",
   "metadata": {
    "execution": {
     "iopub.execute_input": "2022-10-20T03:31:23.550376Z",
     "iopub.status.busy": "2022-10-20T03:31:23.549950Z",
     "iopub.status.idle": "2022-10-20T03:31:23.557136Z",
     "shell.execute_reply": "2022-10-20T03:31:23.555874Z"
    },
    "papermill": {
     "duration": 0.022751,
     "end_time": "2022-10-20T03:31:23.559545",
     "exception": false,
     "start_time": "2022-10-20T03:31:23.536794",
     "status": "completed"
    },
    "tags": []
   },
   "outputs": [
    {
     "data": {
      "text/plain": [
       "(2, 28, 28, 3)"
      ]
     },
     "execution_count": 20,
     "metadata": {},
     "output_type": "execute_result"
    }
   ],
   "source": [
    "xxc = np.concatenate((xx1,xx2),axis = 0)\n",
    "xxc.shape"
   ]
  },
  {
   "cell_type": "code",
   "execution_count": 21,
   "id": "d42d5340",
   "metadata": {
    "execution": {
     "iopub.execute_input": "2022-10-20T03:31:23.584432Z",
     "iopub.status.busy": "2022-10-20T03:31:23.583999Z",
     "iopub.status.idle": "2022-10-20T03:31:23.598749Z",
     "shell.execute_reply": "2022-10-20T03:31:23.597365Z"
    },
    "papermill": {
     "duration": 0.030937,
     "end_time": "2022-10-20T03:31:23.601864",
     "exception": false,
     "start_time": "2022-10-20T03:31:23.570927",
     "status": "completed"
    },
    "tags": []
   },
   "outputs": [
    {
     "name": "stdout",
     "output_type": "stream",
     "text": [
      "(2, 28, 27, 1)\n"
     ]
    }
   ],
   "source": [
    "mo = Conv2D(1,(1,2))\n",
    "y = mo(xxc)\n",
    "print(y.numpy().shape)"
   ]
  }
 ],
 "metadata": {
  "kernelspec": {
   "display_name": "Python 3 (ipykernel)",
   "language": "python",
   "name": "python3"
  },
  "language_info": {
   "codemirror_mode": {
    "name": "ipython",
    "version": 3
   },
   "file_extension": ".py",
   "mimetype": "text/x-python",
   "name": "python",
   "nbconvert_exporter": "python",
   "pygments_lexer": "ipython3",
   "version": "3.9.13"
  },
  "papermill": {
   "default_parameters": {},
   "duration": 22.20798,
   "end_time": "2022-10-20T03:31:26.902425",
   "environment_variables": {},
   "exception": null,
   "input_path": "__notebook__.ipynb",
   "output_path": "__notebook__.ipynb",
   "parameters": {},
   "start_time": "2022-10-20T03:31:04.694445",
   "version": "2.3.4"
  }
 },
 "nbformat": 4,
 "nbformat_minor": 5
}
