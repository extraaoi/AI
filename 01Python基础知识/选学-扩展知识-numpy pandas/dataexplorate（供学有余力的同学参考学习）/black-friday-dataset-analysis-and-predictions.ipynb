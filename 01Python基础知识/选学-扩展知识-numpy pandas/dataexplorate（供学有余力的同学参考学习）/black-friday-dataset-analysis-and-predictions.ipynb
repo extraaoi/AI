{
 "cells": [
  {
   "cell_type": "code",
   "execution_count": 1,
   "metadata": {
    "_cell_guid": "b1076dfc-b9ad-4769-8c92-a6c4dae69d19",
    "_uuid": "8f2839f25d086af736a60e9eeb907d3b93b6e0e5"
   },
   "outputs": [
    {
     "name": "stdout",
     "output_type": "stream",
     "text": [
      "['.ipynb_checkpoints', 'apple.csv', 'bingganhe.png', 'course1_arithmetic-and-variables.ipynb', 'course2_data-types.ipynb', 'course3_conditions-and-conditional-statements.ipynb', 'course4_functions.ipynb', 'course5_intro-to-lists.ipynb', 'course7_working-with-external-libraries.ipynb', 'course8_pandas-numpy.ipynb', 'dataexplorate', 'intro_to_food.py', 'learntools', 'learntools-master.zip', 'my_array.npy', 'numpy-pandas125.ipynb', 'output.csv', 'practice1_arithmetic_and_variables.ipynb', 'practice2_data-types.ipynb', 'practice3_conditions-and-conditional-statements.ipynb', 'practice4_functions.ipynb', 'practice5_intro-to-lists.ipynb', 'practice6_strings-and-dictionaries.ipynb', 'practise7_assignment.ipynb', 'practise8_numpy-pandas.ipynb', 'train.csv', 'yuanboyuan.png', '__pycache__']\n"
     ]
    }
   ],
   "source": [
    "\n",
    "\n",
    "import numpy as np # linear algebra\n",
    "import pandas as pd # data processing, CSV file I/O (e.g. pd.read_csv)\n",
    "import matplotlib.pyplot as plt\n",
    "import seaborn as sns\n",
    "\n",
    "import os\n",
    "print(os.listdir(\"../\"))\n",
    "\n",
    "# 此处会列出当前文件下面所有的文件和文件夹的名字"
   ]
  },
  {
   "cell_type": "code",
   "execution_count": 25,
   "metadata": {
    "_cell_guid": "79c7e3d0-c299-4dcb-8224-4455121ee9b0",
    "_uuid": "d629ff2d2480ee46fbb7e2d37f6b5fab8052498a"
   },
   "outputs": [],
   "source": [
    "#importing the dataset\n",
    "data = pd.read_csv('BlackFriday.csv')"
   ]
  },
  {
   "cell_type": "code",
   "execution_count": 26,
   "metadata": {
    "_uuid": "0b86f0100aa3af68f23e463ecfeb736078989cf3"
   },
   "outputs": [
    {
     "data": {
      "text/html": [
       "<div>\n",
       "<style scoped>\n",
       "    .dataframe tbody tr th:only-of-type {\n",
       "        vertical-align: middle;\n",
       "    }\n",
       "\n",
       "    .dataframe tbody tr th {\n",
       "        vertical-align: top;\n",
       "    }\n",
       "\n",
       "    .dataframe thead th {\n",
       "        text-align: right;\n",
       "    }\n",
       "</style>\n",
       "<table border=\"1\" class=\"dataframe\">\n",
       "  <thead>\n",
       "    <tr style=\"text-align: right;\">\n",
       "      <th></th>\n",
       "      <th>User_ID</th>\n",
       "      <th>Product_ID</th>\n",
       "      <th>Gender</th>\n",
       "      <th>Age</th>\n",
       "      <th>Occupation</th>\n",
       "      <th>City_Category</th>\n",
       "      <th>Stay_In_Current_City_Years</th>\n",
       "      <th>Marital_Status</th>\n",
       "      <th>Product_Category_1</th>\n",
       "      <th>Product_Category_2</th>\n",
       "      <th>Product_Category_3</th>\n",
       "      <th>Purchase</th>\n",
       "    </tr>\n",
       "  </thead>\n",
       "  <tbody>\n",
       "    <tr>\n",
       "      <th>0</th>\n",
       "      <td>1000001</td>\n",
       "      <td>P00069042</td>\n",
       "      <td>F</td>\n",
       "      <td>0-17</td>\n",
       "      <td>10</td>\n",
       "      <td>A</td>\n",
       "      <td>2</td>\n",
       "      <td>0</td>\n",
       "      <td>3</td>\n",
       "      <td>NaN</td>\n",
       "      <td>NaN</td>\n",
       "      <td>8370</td>\n",
       "    </tr>\n",
       "    <tr>\n",
       "      <th>1</th>\n",
       "      <td>1000001</td>\n",
       "      <td>P00248942</td>\n",
       "      <td>F</td>\n",
       "      <td>0-17</td>\n",
       "      <td>10</td>\n",
       "      <td>A</td>\n",
       "      <td>2</td>\n",
       "      <td>0</td>\n",
       "      <td>1</td>\n",
       "      <td>6.0</td>\n",
       "      <td>14.0</td>\n",
       "      <td>15200</td>\n",
       "    </tr>\n",
       "    <tr>\n",
       "      <th>2</th>\n",
       "      <td>1000001</td>\n",
       "      <td>P00087842</td>\n",
       "      <td>F</td>\n",
       "      <td>0-17</td>\n",
       "      <td>10</td>\n",
       "      <td>A</td>\n",
       "      <td>2</td>\n",
       "      <td>0</td>\n",
       "      <td>12</td>\n",
       "      <td>NaN</td>\n",
       "      <td>NaN</td>\n",
       "      <td>1422</td>\n",
       "    </tr>\n",
       "    <tr>\n",
       "      <th>3</th>\n",
       "      <td>1000001</td>\n",
       "      <td>P00085442</td>\n",
       "      <td>F</td>\n",
       "      <td>0-17</td>\n",
       "      <td>10</td>\n",
       "      <td>A</td>\n",
       "      <td>2</td>\n",
       "      <td>0</td>\n",
       "      <td>12</td>\n",
       "      <td>14.0</td>\n",
       "      <td>NaN</td>\n",
       "      <td>1057</td>\n",
       "    </tr>\n",
       "    <tr>\n",
       "      <th>4</th>\n",
       "      <td>1000002</td>\n",
       "      <td>P00285442</td>\n",
       "      <td>M</td>\n",
       "      <td>55+</td>\n",
       "      <td>16</td>\n",
       "      <td>C</td>\n",
       "      <td>4+</td>\n",
       "      <td>0</td>\n",
       "      <td>8</td>\n",
       "      <td>NaN</td>\n",
       "      <td>NaN</td>\n",
       "      <td>7969</td>\n",
       "    </tr>\n",
       "  </tbody>\n",
       "</table>\n",
       "</div>"
      ],
      "text/plain": [
       "   User_ID Product_ID Gender   Age  Occupation City_Category  \\\n",
       "0  1000001  P00069042      F  0-17          10             A   \n",
       "1  1000001  P00248942      F  0-17          10             A   \n",
       "2  1000001  P00087842      F  0-17          10             A   \n",
       "3  1000001  P00085442      F  0-17          10             A   \n",
       "4  1000002  P00285442      M   55+          16             C   \n",
       "\n",
       "  Stay_In_Current_City_Years  Marital_Status  Product_Category_1  \\\n",
       "0                          2               0                   3   \n",
       "1                          2               0                   1   \n",
       "2                          2               0                  12   \n",
       "3                          2               0                  12   \n",
       "4                         4+               0                   8   \n",
       "\n",
       "   Product_Category_2  Product_Category_3  Purchase  \n",
       "0                 NaN                 NaN      8370  \n",
       "1                 6.0                14.0     15200  \n",
       "2                 NaN                 NaN      1422  \n",
       "3                14.0                 NaN      1057  \n",
       "4                 NaN                 NaN      7969  "
      ]
     },
     "execution_count": 26,
     "metadata": {},
     "output_type": "execute_result"
    }
   ],
   "source": [
    "#打印datafame的前5行数据\n",
    "------------------------"
   ]
  },
  {
   "cell_type": "markdown",
   "metadata": {
    "_uuid": "6ebfc68cddab3f0bcf9cae333f204a79796d5cac"
   },
   "source": [
    "# **数据清洗DATA CLEANING **"
   ]
  },
  {
   "cell_type": "code",
   "execution_count": 27,
   "metadata": {},
   "outputs": [
    {
     "data": {
      "text/plain": [
       "Product_Category_3            373299\n",
       "Product_Category_2            166986\n",
       "User_ID                            0\n",
       "Product_ID                         0\n",
       "Gender                             0\n",
       "Age                                0\n",
       "Occupation                         0\n",
       "City_Category                      0\n",
       "Stay_In_Current_City_Years         0\n",
       "Marital_Status                     0\n",
       "Product_Category_1                 0\n",
       "Purchase                           0\n",
       "dtype: int64"
      ]
     },
     "execution_count": 27,
     "metadata": {},
     "output_type": "execute_result"
    }
   ],
   "source": [
    "#查看数据中每个列为空值的个数,并从大到小排序\n",
    "missing_values = ---------------------------\n",
    "missing_values"
   ]
  },
  {
   "cell_type": "code",
   "execution_count": 4,
   "metadata": {
    "_uuid": "aeb931f477d8890769a8c007733ffef8b3cb09d1"
   },
   "outputs": [
    {
     "name": "stdout",
     "output_type": "stream",
     "text": [
      "Product_Category_3    69.441029\n",
      "Product_Category_2    31.062713\n",
      "dtype: float64 %\n"
     ]
    }
   ],
   "source": [
    "#计算该列空值出现的比例。\n",
    "missing_values = ---------------------------\n",
    "print(f'{missing_values *100} %')"
   ]
  },
  {
   "cell_type": "markdown",
   "metadata": {
    "_uuid": "a3344af790d5b21480e92a3cc7531beb7ddaea44"
   },
   "source": [
    "#### 从数据上我们可以看出这两个列空值比例非常高，说明人们普遍觉得这两个列 的选择并不在给定的选择中，因此都选择了Nan，因此，可以把这两个列的值全部用0代替。"
   ]
  },
  {
   "cell_type": "code",
   "execution_count": 28,
   "metadata": {
    "_uuid": "aa2d6b322c9869f6a094fb7735ef4837562b8348"
   },
   "outputs": [],
   "source": [
    "# 我们可以把数据中nan换成0.\n",
    "data = ---------------------------"
   ]
  },
  {
   "cell_type": "code",
   "execution_count": 31,
   "metadata": {
    "_uuid": "04acfc8707c2336d649b37f858ee531d9d558e09"
   },
   "outputs": [
    {
     "data": {
      "text/plain": [
       "User_ID                       0\n",
       "Product_ID                    0\n",
       "Gender                        0\n",
       "Age                           0\n",
       "Occupation                    0\n",
       "City_Category                 0\n",
       "Stay_In_Current_City_Years    0\n",
       "Marital_Status                0\n",
       "Product_Category_1            0\n",
       "Product_Category_2            0\n",
       "Product_Category_3            0\n",
       "Purchase                      0\n",
       "dtype: int64"
      ]
     },
     "execution_count": 31,
     "metadata": {},
     "output_type": "execute_result"
    }
   ],
   "source": [
    "missing_values = data.isnull().sum().sort_values(ascending = False)\n",
    "missing_values"
   ]
  },
  {
   "cell_type": "code",
   "execution_count": 32,
   "metadata": {},
   "outputs": [
    {
     "name": "stdout",
     "output_type": "stream",
     "text": [
      "Series([], dtype: float64) %\n"
     ]
    }
   ],
   "source": [
    "missing_values = ---------------------------\n",
    "print(f'{missing_values *100} %')"
   ]
  },
  {
   "cell_type": "markdown",
   "metadata": {
    "_uuid": "5d74a7c49c46af7160bb9fc9ee28a84b9c413130"
   },
   "source": [
    "#### 上面是对于丢失值的处理方法。接下来我们看一下每个列的类型"
   ]
  },
  {
   "cell_type": "code",
   "execution_count": 7,
   "metadata": {
    "_uuid": "70ca8b7d4162f73d0888f8095032a1eec315f464"
   },
   "outputs": [
    {
     "data": {
      "text/plain": [
       "User_ID                         int64\n",
       "Product_ID                     object\n",
       "Gender                         object\n",
       "Age                            object\n",
       "Occupation                      int64\n",
       "City_Category                  object\n",
       "Stay_In_Current_City_Years     object\n",
       "Marital_Status                  int64\n",
       "Product_Category_1              int64\n",
       "Product_Category_2            float64\n",
       "Product_Category_3            float64\n",
       "Purchase                        int64\n",
       "dtype: object"
      ]
     },
     "execution_count": 7,
     "metadata": {},
     "output_type": "execute_result"
    }
   ],
   "source": [
    "data.dtypes"
   ]
  },
  {
   "cell_type": "markdown",
   "metadata": {
    "_uuid": "d9f55ff07122fa28efb7803de0b7ffb342424eab"
   },
   "source": [
    "上面的object数据类型，是没办法直接用于机器学习的类型，我们应该对其进行处理。首先处理Gender列"
   ]
  },
  {
   "cell_type": "code",
   "execution_count": 33,
   "metadata": {
    "_uuid": "f01c785f31c9b7bdd6e3feab041ea87188547d62"
   },
   "outputs": [
    {
     "data": {
      "text/plain": [
       "array(['F', 'M'], dtype=object)"
      ]
     },
     "execution_count": 33,
     "metadata": {},
     "output_type": "execute_result"
    }
   ],
   "source": [
    "#查看一下该列的取值情况，就是有多少个取值类型\n",
    "gender = ---------------------------\n",
    "gender"
   ]
  },
  {
   "cell_type": "markdown",
   "metadata": {
    "_uuid": "f89948c9e4e811015430a08b215801a30ed4421d"
   },
   "source": [
    "考虑到性别只有2类，我们可以设置一个函数如下，使得  映射 M=1 和 F=0. "
   ]
  },
  {
   "cell_type": "code",
   "execution_count": 34,
   "metadata": {
    "_uuid": "05e9d6874b8a5cc9e3df324285d9e5c68dab11e8"
   },
   "outputs": [],
   "source": [
    "def map_gender(gender):\n",
    "   ---------------------------\n",
    "data['Gender'] = data['Gender'].apply(map_gender)"
   ]
  },
  {
   "cell_type": "markdown",
   "metadata": {
    "_uuid": "58629d16aef47d48d40905a7a9839e72cbc2d511"
   },
   "source": [
    "接下来我们看一下Age列"
   ]
  },
  {
   "cell_type": "code",
   "execution_count": 35,
   "metadata": {
    "_uuid": "a5a02da64b7e4d9fd2079487fb5e0060111549a8"
   },
   "outputs": [
    {
     "data": {
      "text/plain": [
       "array(['0-17', '18-25', '26-35', '36-45', '46-50', '51-55', '55+'],\n",
       "      dtype=object)"
      ]
     },
     "execution_count": 35,
     "metadata": {},
     "output_type": "execute_result"
    }
   ],
   "source": [
    "#首先看一下age列的取值种类\n",
    "age = ---------------------------\n",
    "age"
   ]
  },
  {
   "cell_type": "markdown",
   "metadata": {
    "_uuid": "9d51aa9e843839088dcbdb185b3204b96e0ecfa4"
   },
   "source": [
    "我们按着上面的种类，分别映射为0，1，2，3，4，5，6几个数字类型种类"
   ]
  },
  {
   "cell_type": "code",
   "execution_count": 36,
   "metadata": {
    "_uuid": "794c0d32069fd36c9f2dc55ba9397657d48108f8"
   },
   "outputs": [],
   "source": [
    "def map_age(age):\n",
    "    ---------------------------\n",
    "data['Age'] = data['Age'].apply(map_age)"
   ]
  },
  {
   "cell_type": "markdown",
   "metadata": {
    "_uuid": "d29f91b515f1add2557240f6cc1c6bc649a5a010"
   },
   "source": [
    "接下来考虑City_Category列"
   ]
  },
  {
   "cell_type": "code",
   "execution_count": 37,
   "metadata": {
    "_uuid": "bbde1e6b4a34e0e4e3ada10ec72020760e1beddc"
   },
   "outputs": [
    {
     "data": {
      "text/plain": [
       "array(['A', 'B', 'C'], dtype=object)"
      ]
     },
     "execution_count": 37,
     "metadata": {},
     "output_type": "execute_result"
    }
   ],
   "source": [
    "# 查看累的取值情况\n",
    "city_category = ---------------------------\n",
    "city_category"
   ]
  },
  {
   "cell_type": "markdown",
   "metadata": {
    "_uuid": "6f05cb3feff187eb22807bb8a0663ab5430fea4b"
   },
   "source": [
    "把A--2，B--1，C---0如此映射"
   ]
  },
  {
   "cell_type": "code",
   "execution_count": 38,
   "metadata": {
    "_uuid": "2f4eaea13b5f75c52b14dfd8b28d724e5761bea6"
   },
   "outputs": [],
   "source": [
    "def map_city_categories(city_category):\n",
    "    ---------------------------\n",
    "data['City_Category'] = data['City_Category'].apply(map_city_categories)"
   ]
  },
  {
   "cell_type": "markdown",
   "metadata": {
    "_uuid": "6eef7e553cbc42bb171a773ce3f774ec18e86a33"
   },
   "source": [
    "处理这个列: **Stay_In_Current_City_Years**"
   ]
  },
  {
   "cell_type": "code",
   "execution_count": 14,
   "metadata": {
    "_uuid": "8c8b2a16f8a6b35c6bdea1f404db5c568c7d0895"
   },
   "outputs": [
    {
     "data": {
      "text/plain": [
       "array(['0', '1', '2', '3', '4+'], dtype=object)"
      ]
     },
     "execution_count": 14,
     "metadata": {},
     "output_type": "execute_result"
    }
   ],
   "source": [
    "#查看取值情况\n",
    "city_stay = ---------------------------\n",
    "city_stay"
   ]
  },
  {
   "cell_type": "markdown",
   "metadata": {},
   "source": [
    "#### 进行映射4+映射为4，其他转换为int类型即可。"
   ]
  },
  {
   "cell_type": "code",
   "execution_count": 39,
   "metadata": {
    "_uuid": "e33ae9fa212ef4276c55a8e39772e4c3000558fa"
   },
   "outputs": [],
   "source": [
    "def map_stay(stay):\n",
    "        ---------------------------\n",
    "#             current_years = stay\n",
    "#             current_years = current_years.astype(int)\n",
    "#             return current_years\n",
    "data['Stay_In_Current_City_Years'] = data['Stay_In_Current_City_Years'].apply(map_stay)    "
   ]
  },
  {
   "cell_type": "markdown",
   "metadata": {
    "_uuid": "3c93972c768ef0929c4a84099c4796a202941fd0"
   },
   "source": [
    "删掉对于预测结果（预测一个人的黑五当天的购买力）不相关的用户id和商品id列  **User_ID** and **Product_ID** "
   ]
  },
  {
   "cell_type": "code",
   "execution_count": 40,
   "metadata": {
    "_uuid": "ac02f08abd059c0f4a43d4c770dc88075dabcf6d"
   },
   "outputs": [],
   "source": [
    "cols = ['User_ID','Product_ID']\n",
    "---------------------------"
   ]
  },
  {
   "cell_type": "markdown",
   "metadata": {
    "_uuid": "1f209954c8d429329a948f0cfa5d2590a9adac08"
   },
   "source": [
    "重新查看一下data的前5行数据，观察与之前的不同"
   ]
  },
  {
   "cell_type": "code",
   "execution_count": 41,
   "metadata": {
    "_uuid": "e123fb82364f11a5716b6af9965dc318a2ab2359"
   },
   "outputs": [
    {
     "data": {
      "text/html": [
       "<div>\n",
       "<style scoped>\n",
       "    .dataframe tbody tr th:only-of-type {\n",
       "        vertical-align: middle;\n",
       "    }\n",
       "\n",
       "    .dataframe tbody tr th {\n",
       "        vertical-align: top;\n",
       "    }\n",
       "\n",
       "    .dataframe thead th {\n",
       "        text-align: right;\n",
       "    }\n",
       "</style>\n",
       "<table border=\"1\" class=\"dataframe\">\n",
       "  <thead>\n",
       "    <tr style=\"text-align: right;\">\n",
       "      <th></th>\n",
       "      <th>Gender</th>\n",
       "      <th>Age</th>\n",
       "      <th>Occupation</th>\n",
       "      <th>City_Category</th>\n",
       "      <th>Stay_In_Current_City_Years</th>\n",
       "      <th>Marital_Status</th>\n",
       "      <th>Product_Category_1</th>\n",
       "      <th>Product_Category_2</th>\n",
       "      <th>Product_Category_3</th>\n",
       "      <th>Purchase</th>\n",
       "    </tr>\n",
       "  </thead>\n",
       "  <tbody>\n",
       "    <tr>\n",
       "      <th>0</th>\n",
       "      <td>0</td>\n",
       "      <td>0</td>\n",
       "      <td>10</td>\n",
       "      <td>2</td>\n",
       "      <td>2</td>\n",
       "      <td>0</td>\n",
       "      <td>3</td>\n",
       "      <td>0.0</td>\n",
       "      <td>0.0</td>\n",
       "      <td>8370</td>\n",
       "    </tr>\n",
       "    <tr>\n",
       "      <th>1</th>\n",
       "      <td>0</td>\n",
       "      <td>0</td>\n",
       "      <td>10</td>\n",
       "      <td>2</td>\n",
       "      <td>2</td>\n",
       "      <td>0</td>\n",
       "      <td>1</td>\n",
       "      <td>6.0</td>\n",
       "      <td>14.0</td>\n",
       "      <td>15200</td>\n",
       "    </tr>\n",
       "    <tr>\n",
       "      <th>2</th>\n",
       "      <td>0</td>\n",
       "      <td>0</td>\n",
       "      <td>10</td>\n",
       "      <td>2</td>\n",
       "      <td>2</td>\n",
       "      <td>0</td>\n",
       "      <td>12</td>\n",
       "      <td>0.0</td>\n",
       "      <td>0.0</td>\n",
       "      <td>1422</td>\n",
       "    </tr>\n",
       "    <tr>\n",
       "      <th>3</th>\n",
       "      <td>0</td>\n",
       "      <td>0</td>\n",
       "      <td>10</td>\n",
       "      <td>2</td>\n",
       "      <td>2</td>\n",
       "      <td>0</td>\n",
       "      <td>12</td>\n",
       "      <td>14.0</td>\n",
       "      <td>0.0</td>\n",
       "      <td>1057</td>\n",
       "    </tr>\n",
       "    <tr>\n",
       "      <th>4</th>\n",
       "      <td>1</td>\n",
       "      <td>6</td>\n",
       "      <td>16</td>\n",
       "      <td>0</td>\n",
       "      <td>4</td>\n",
       "      <td>0</td>\n",
       "      <td>8</td>\n",
       "      <td>0.0</td>\n",
       "      <td>0.0</td>\n",
       "      <td>7969</td>\n",
       "    </tr>\n",
       "  </tbody>\n",
       "</table>\n",
       "</div>"
      ],
      "text/plain": [
       "   Gender  Age  Occupation  City_Category  Stay_In_Current_City_Years  \\\n",
       "0       0    0          10              2                           2   \n",
       "1       0    0          10              2                           2   \n",
       "2       0    0          10              2                           2   \n",
       "3       0    0          10              2                           2   \n",
       "4       1    6          16              0                           4   \n",
       "\n",
       "   Marital_Status  Product_Category_1  Product_Category_2  Product_Category_3  \\\n",
       "0               0                   3                 0.0                 0.0   \n",
       "1               0                   1                 6.0                14.0   \n",
       "2               0                  12                 0.0                 0.0   \n",
       "3               0                  12                14.0                 0.0   \n",
       "4               0                   8                 0.0                 0.0   \n",
       "\n",
       "   Purchase  \n",
       "0      8370  \n",
       "1     15200  \n",
       "2      1422  \n",
       "3      1057  \n",
       "4      7969  "
      ]
     },
     "execution_count": 41,
     "metadata": {},
     "output_type": "execute_result"
    }
   ],
   "source": [
    "data.head()"
   ]
  },
  {
   "cell_type": "markdown",
   "metadata": {
    "_uuid": "ca2eb090742532f50ea9c285adc1d920c721d2e7"
   },
   "source": [
    "**做的不错!**\n",
    "这只是很小一部分的数据清洗知识的应用。它还可以更复杂"
   ]
  },
  {
   "cell_type": "markdown",
   "metadata": {
    "_uuid": "b7c3124b6df549ea28980f525aa4fb76d17b123c"
   },
   "source": [
    "# **数据挖掘-EDA(ExploratoryDataAnalysis)**\n",
    "### 展示非作业，可以学习观察对于一份数据，通常别人是如何作图处理的"
   ]
  },
  {
   "cell_type": "code",
   "execution_count": 18,
   "metadata": {
    "_uuid": "dfc16028b500896afc38bb9703e0e67c8ad79e7c"
   },
   "outputs": [
    {
     "name": "stderr",
     "output_type": "stream",
     "text": [
      "D:\\ProgramData\\Anaconda3\\lib\\site-packages\\seaborn\\_decorators.py:36: FutureWarning: Pass the following variables as keyword args: x, y. From version 0.12, the only valid positional argument will be `data`, and passing other arguments without an explicit keyword will result in an error or misinterpretation.\n",
      "  warnings.warn(\n"
     ]
    },
    {
     "data": {
      "image/png": "[encoded data removed]",
      "text/plain": [
       "<Figure size 640x480 with 1 Axes>"
      ]
     },
     "metadata": {},
     "output_type": "display_data"
    }
   ],
   "source": [
    "data[['Gender','Purchase']].groupby('Gender').mean().plot.bar()\n",
    "sns.barplot('Gender', 'Purchase', data = data)\n",
    "plt.show()"
   ]
  },
  {
   "cell_type": "markdown",
   "metadata": {
    "_uuid": "b15212501f4de353ea78fb5223e4545e0206b84d"
   },
   "source": [
    "在黑五这一天，虽然女性花了不少的钱，但是男性却是比女性还高"
   ]
  },
  {
   "cell_type": "markdown",
   "metadata": {
    "_uuid": "b48b548070544170f10ee89812339822c434d755"
   },
   "source": [
    "我们看一下年龄于购买了的关系通常情况下，当你年纪增大，工资加张的时候，你的购买了会更强。我们来看看数据把"
   ]
  },
  {
   "cell_type": "code",
   "execution_count": 42,
   "metadata": {
    "_uuid": "be0255fb4cd6eeaf98310055f7ecb46414a40d25"
   },
   "outputs": [
    {
     "name": "stderr",
     "output_type": "stream",
     "text": [
      "D:\\ProgramData\\Anaconda3\\lib\\site-packages\\seaborn\\_decorators.py:36: FutureWarning: Pass the following variables as keyword args: x, y. From version 0.12, the only valid positional argument will be `data`, and passing other arguments without an explicit keyword will result in an error or misinterpretation.\n",
      "  warnings.warn(\n"
     ]
    },
    {
     "data": {
      "image/png": "[encoded data removed]",
      "text/plain": [
       "<Figure size 640x480 with 1 Axes>"
      ]
     },
     "metadata": {},
     "output_type": "display_data"
    }
   ],
   "source": [
    "data[['Age','Purchase']].groupby('Age').mean().plot.bar()\n",
    "sns.barplot('Age', 'Purchase', data = data)\n",
    "plt.show()"
   ]
  },
  {
   "cell_type": "markdown",
   "metadata": {
    "_uuid": "bf9a32469d514345d92db67b344838cf8f5581c8"
   },
   "source": [
    "我们可以绘制一下箱图来分析下年龄和购买力的关系，可以检索这种绘图方式所传递出来的信息"
   ]
  },
  {
   "cell_type": "code",
   "execution_count": 20,
   "metadata": {
    "_uuid": "b0f42a3cc83e2b02a0836c65bc8379b1d4bb73d7"
   },
   "outputs": [
    {
     "name": "stderr",
     "output_type": "stream",
     "text": [
      "D:\\ProgramData\\Anaconda3\\lib\\site-packages\\seaborn\\_decorators.py:36: FutureWarning: Pass the following variables as keyword args: x, y. From version 0.12, the only valid positional argument will be `data`, and passing other arguments without an explicit keyword will result in an error or misinterpretation.\n",
      "  warnings.warn(\n"
     ]
    },
    {
     "data": {
      "image/png": "[encoded data removed]",
      "text/plain": [
       "<Figure size 640x480 with 1 Axes>"
      ]
     },
     "metadata": {},
     "output_type": "display_data"
    }
   ],
   "source": [
    "sns.boxplot('Age','Purchase', data = data)\n",
    "plt.show()"
   ]
  },
  {
   "cell_type": "markdown",
   "metadata": {
    "_uuid": "6da2721ce141f85f120434bd517cea416e284c3a"
   },
   "source": [
    "我们看出来，好像不同年龄段的人表现是一样的，这说明在这一天每个人都使出了自己的经济最大力量来购买，也有可能是这一天的物品实在是太便宜了。"
   ]
  },
  {
   "cell_type": "markdown",
   "metadata": {
    "_uuid": "c539ba383645fb2cbd29399e96c0c45b86f83ce1"
   },
   "source": [
    "看一下城市对购买力的影响。"
   ]
  },
  {
   "cell_type": "code",
   "execution_count": 21,
   "metadata": {
    "_uuid": "1d235ae1fcbf73d8345dac01ba7bfa433153fb82"
   },
   "outputs": [
    {
     "name": "stderr",
     "output_type": "stream",
     "text": [
      "D:\\ProgramData\\Anaconda3\\lib\\site-packages\\seaborn\\_decorators.py:36: FutureWarning: Pass the following variables as keyword args: x, y. From version 0.12, the only valid positional argument will be `data`, and passing other arguments without an explicit keyword will result in an error or misinterpretation.\n",
      "  warnings.warn(\n"
     ]
    },
    {
     "data": {
      "image/png": "[encoded data removed]",
      "text/plain": [
       "<Figure size 640x480 with 1 Axes>"
      ]
     },
     "metadata": {},
     "output_type": "display_data"
    }
   ],
   "source": [
    "data[['City_Category','Purchase']].groupby('City_Category').mean().plot.bar()\n",
    "sns.barplot('City_Category', 'Purchase', data = data)\n",
    "plt.show()"
   ]
  },
  {
   "cell_type": "markdown",
   "metadata": {
    "_uuid": "3784b12b735576fed8aa8727a7175749282122a3"
   },
   "source": [
    "城市 0分类的人们购买力弱一些。当然这有可能是我们调查的结果不够全面或者是这些地区发展不够快速。"
   ]
  },
  {
   "cell_type": "markdown",
   "metadata": {
    "_uuid": "063eaa716c296a5666fcd23add854764da13d3a3"
   },
   "source": [
    "绘制一个热图整体看一下相关性。可以检索热图所传递的信息"
   ]
  },
  {
   "cell_type": "code",
   "execution_count": 22,
   "metadata": {
    "_uuid": "3e95cb8f5639bb9bc073d77ba442a2e471ee9cb1"
   },
   "outputs": [
    {
     "data": {
      "text/plain": [
       "<AxesSubplot:>"
      ]
     },
     "execution_count": 22,
     "metadata": {},
     "output_type": "execute_result"
    },
    {
     "data": {
      "image/png": "[encoded data removed]",
      "text/plain": [
       "<Figure size 1200x900 with 2 Axes>"
      ]
     },
     "metadata": {},
     "output_type": "display_data"
    }
   ],
   "source": [
    "corrmat = data.corr()\n",
    "fig,ax = plt.subplots(figsize = (12,9))\n",
    "sns.heatmap(corrmat, vmax=.8, square=True)"
   ]
  },
  {
   "cell_type": "markdown",
   "metadata": {
    "_uuid": "d3ea6d89ec67e012b96a21bc7d3c47eb5bb84265"
   },
   "source": [
    "没有哪个列是于购买力强相关的。我们可以做出来一些总结。\n",
    "\n",
    "1. Product_Category_1 于 Purchase呈现负相关.\n",
    "2. Maritial_Status 和 Age 是强相关的。..\n",
    "3. Product_Category_3 和 Purchase强相关. 可能他比较便宜或许是其他的。截取部分数据显示如下。"
   ]
  },
  {
   "cell_type": "code",
   "execution_count": 23,
   "metadata": {
    "_uuid": "52462775d5133e25bcbeaffd69fee54041c67f3e"
   },
   "outputs": [
    {
     "name": "stdout",
     "output_type": "stream",
     "text": [
      "PC1: 5.295546498455105 \n",
      " PC2: 6.784907092379324 \n",
      " PC3 : 3.871772787898292\n"
     ]
    }
   ],
   "source": [
    "mean_cat_1 = data['Product_Category_1'].mean()\n",
    "mean_cat_2 = data['Product_Category_2'].mean()\n",
    "mean_cat_3= data['Product_Category_3'].mean()\n",
    "print(f\"PC1: {mean_cat_1} \\n PC2: {mean_cat_2} \\n PC3 : {mean_cat_3}\")"
   ]
  },
  {
   "cell_type": "markdown",
   "metadata": {
    "_uuid": "9f0ab7f67549de96ba3ae8ec01aca87083ee7ca4"
   },
   "source": [
    "我们发现 product category 3 于产品 1和 2. 相比，他的确比较便宜"
   ]
  },
  {
   "cell_type": "code",
   "execution_count": null,
   "metadata": {
    "_uuid": "25a3718e39d2dd4bc2a0a828ca62a0f39c120c9b"
   },
   "outputs": [],
   "source": []
  }
 ],
 "metadata": {
  "kernelspec": {
   "display_name": "Python 3 (ipykernel)",
   "language": "python",
   "name": "python3"
  },
  "language_info": {
   "codemirror_mode": {
    "name": "ipython",
    "version": 3
   },
   "file_extension": ".py",
   "mimetype": "text/x-python",
   "name": "python",
   "nbconvert_exporter": "python",
   "pygments_lexer": "ipython3",
   "version": "3.9.13"
  }
 },
 "nbformat": 4,
 "nbformat_minor": 1
}
