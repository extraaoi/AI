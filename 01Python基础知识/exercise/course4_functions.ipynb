{
 "cells": [
  {
   "cell_type": "markdown",
   "id": "d2c1a1a4",
   "metadata": {
    "papermill": {
     "duration": 0.007142,
     "end_time": "2022-06-06T19:02:34.800992",
     "exception": false,
     "start_time": "2022-06-06T19:02:34.793850",
     "status": "completed"
    },
    "tags": []
   },
   "source": [
    "# 实验介绍\n",
    "\n",
    "这一课介绍如何用函数组织代码。\n",
    "**函数**是设计用来执行特定任务的代码块。你将学习到函数可以帮助你多次执行大致相同的计算，而无需编写重复的代码。\n",
    "\n",
    "\n",
    "# 函数入门：一个简单的例子\n",
    "\n",
    "我们从一个简单的函数例子开始。下面的`add_three()`函数接受任何数字，将其加3，然后返回结果。"
   ]
  },
  {
   "cell_type": "code",
   "execution_count": 1,
   "id": "39f9725f",
   "metadata": {
    "execution": {
     "iopub.execute_input": "2022-06-06T19:02:34.815554Z",
     "iopub.status.busy": "2022-06-06T19:02:34.814840Z",
     "iopub.status.idle": "2022-06-06T19:02:34.825585Z",
     "shell.execute_reply": "2022-06-06T19:02:34.824573Z"
    },
    "papermill": {
     "duration": 0.020687,
     "end_time": "2022-06-06T19:02:34.828009",
     "exception": false,
     "start_time": "2022-06-06T19:02:34.807322",
     "status": "completed"
    },
    "tags": []
   },
   "outputs": [],
   "source": [
    "# 定义函数\n",
    "def add_three(input_var):\n",
    "    output_var = input_var + 3\n",
    "    return output_var"
   ]
  },
  {
   "cell_type": "markdown",
   "id": "80be8bd1",
   "metadata": {
    "papermill": {
     "duration": 0.006141,
     "end_time": "2022-06-06T19:02:34.842567",
     "exception": false,
     "start_time": "2022-06-06T19:02:34.836426",
     "status": "completed"
    },
    "tags": []
   },
   "source": [
    "每个函数都由两部分组成:**header**和**body**。\n",
    "\n",
    "## 函数头header\n",
    "函数的**header**定义了函数的名称及其参数。\n",
    "- 每个函数头都以`def`开头，标志着将要定义一个函数。\n",
    "- 在这个例子中，函数名是`add_three`。\n",
    "- 在这个例子中，参数是`input_var`。**参数**是将被用作函数输入的变量名。它总是包含在紧跟在函数名之后的圆括号中。(_注意，函数可以没有参数，也可以有多个参数。课后练习有一些例子。_)\n",
    "- 对于每个函数，包含函数参数的括号后面必须跟着一个冒号`:`。\n",
    "\n",
    "## 函数体body\n",
    "函数的**body**指定了函数要做的工作。\n",
    "- 函数体中的每一行代码都必须缩进4个空格。你可以按四次空格键，或者按一次键盘上的`Tab`键。(**随着你对Python的了解越来越多，你可能需要将代码缩进超过4个空格。**)\n",
    "- 函数通过从上到下，根据编译规则运行所有缩进的行来完成它的工作。\n",
    "- 它将参数作为输入，在这个例子中输入是`input_var`。\n",
    "- 该函数通过计算`output_var = input_var + 3`创建了一个新变量`output_var`。\n",
    "- 然后，最后一行代码，称为**return语句**，只返回`output_var`中的值作为函数的输出。\n",
    "\n",
    "上面的代码单元格只是定义了函数，但没有运行它。当我们真正运行函数时，body的细节将在下一个代码单元格之后变得更有意义。\n",
    "\n",
    "# 如何运行(或“调用”)函数\n",
    "\n",
    "当我们运行一个函数时，它也可以称为`函数调用`。\n",
    "\n",
    "在下面的代码单元中，我们以`10`作为输入值运行函数。我们定义了一个新变量`new_number`，它被设置为函数的输出。"
   ]
  },
  {
   "cell_type": "code",
   "execution_count": 2,
   "id": "d71f334f",
   "metadata": {
    "execution": {
     "iopub.execute_input": "2022-06-06T19:02:34.856729Z",
     "iopub.status.busy": "2022-06-06T19:02:34.856298Z",
     "iopub.status.idle": "2022-06-06T19:02:34.861444Z",
     "shell.execute_reply": "2022-06-06T19:02:34.860472Z"
    },
    "papermill": {
     "duration": 0.016595,
     "end_time": "2022-06-06T19:02:34.865292",
     "exception": false,
     "start_time": "2022-06-06T19:02:34.848697",
     "status": "completed"
    },
    "tags": []
   },
   "outputs": [
    {
     "name": "stdout",
     "output_type": "stream",
     "text": [
      "13\n"
     ]
    }
   ],
   "source": [
    "# 以10作为输入运行这个函数\n",
    "new_number = add_three(10)\n",
    "\n",
    "# 检查值是否如预期为13\n",
    "print(new_number)"
   ]
  },
  {
   "cell_type": "markdown",
   "id": "24678a2e",
   "metadata": {
    "papermill": {
     "duration": 0.006078,
     "end_time": "2022-06-06T19:02:34.877524",
     "exception": false,
     "start_time": "2022-06-06T19:02:34.871446",
     "status": "completed"
    },
    "tags": []
   },
   "source": [
    "更详细地说，\n",
    "- `add_three(10)`是我们将`10`作为`input_var`的值并调用`add_three()`函数得到的输出值。当函数运行时，它会从上到下运行函数体中的所有代码:\n",
    "- 它首先计算`output_var = input_var + 3`，这将使得`output_var = 13`。\n",
    "- 最后一行代码是return语句，它返回`output_var`的值`13`。\n",
    "- 通过设置`new_number = add_three(10)`，我们可以得到`new_number = 13`。\n",
    "\n",
    "**注意**:在本教程中，当我们随意引用`add_three()`函数时，我们在函数名称后使用了空的右括号。这与人们通常解释Python代码的方式是一致的，空括号只是表明我们引用的是一个函数，而不是变量或另一个Python对象。即使函数有参数，这些括号也应该始终为空。\n",
    "\n",
    "\n",
    "# 函数命名\n",
    "\n",
    "在上面的例子中，函数名已经为你选定。在为自己的函数命名时，应该只使用小写字母，单词之间用下划线分隔，而不是空格。\n",
    "\n",
    "随着时间的推移，给函数命名会感觉很自然，一开始感觉这样的命名不太习惯是正常的。最好的学习方法是阅读大量的Python代码。"
   ]
  },
  {
   "cell_type": "markdown",
   "id": "21c2defe",
   "metadata": {
    "papermill": {
     "duration": 0.006072,
     "end_time": "2022-06-06T19:02:34.889713",
     "exception": false,
     "start_time": "2022-06-06T19:02:34.883641",
     "status": "completed"
    },
    "tags": []
   },
   "source": [
    "# 一个更复杂的例子\n",
    "\n",
    "现在你已经了解了基础知识，我们可以继续看一个复杂一些的示例。\n",
    "\n",
    "假设你正在帮助一个朋友计算他每周税后的工资。\n",
    "- 他们属于12%的纳税等级(换句话说，他们工资的12%用于纳税，而他们只拿回家88%)\n",
    "- 他们按小时付费，每小时15美元。\n",
    "\n",
    "下面的函数根据工作小时数计算工资。这个函数比第一个例子更复杂，因为它有更多的代码行和注释。与上面的例子类似，该函数只有一个参数(`num hours`)。在函数体中，我们:\n",
    "- 使用`num_hours`的值来指定新变量`pay_pretax`的值。\n",
    "- 使用`pay_pretax`的值来指定新变量`pay_aftertax`的值。\n",
    "- 返回`pay_aftertax`变量的值。"
   ]
  },
  {
   "cell_type": "code",
   "execution_count": 3,
   "id": "8c94577a",
   "metadata": {
    "execution": {
     "iopub.execute_input": "2022-06-06T19:02:34.903458Z",
     "iopub.status.busy": "2022-06-06T19:02:34.903059Z",
     "iopub.status.idle": "2022-06-06T19:02:34.907553Z",
     "shell.execute_reply": "2022-06-06T19:02:34.906655Z"
    },
    "papermill": {
     "duration": 0.013831,
     "end_time": "2022-06-06T19:02:34.909552",
     "exception": false,
     "start_time": "2022-06-06T19:02:34.895721",
     "status": "completed"
    },
    "tags": []
   },
   "outputs": [],
   "source": [
    "def get_pay(num_hours):\n",
    "    # 税前工资，每小时15美元\n",
    "    pay_pretax = num_hours * 15\n",
    "    # 税后工资，根据在12%的税率等级计算\n",
    "    pay_aftertax = pay_pretax * (1 - .12)\n",
    "    return pay_aftertax"
   ]
  },
  {
   "cell_type": "markdown",
   "id": "40cb8e97",
   "metadata": {
    "papermill": {
     "duration": 0.006116,
     "end_time": "2022-06-06T19:02:34.921886",
     "exception": false,
     "start_time": "2022-06-06T19:02:34.915770",
     "status": "completed"
    },
    "tags": []
   },
   "source": [
    "调用这个函数的方式与调用第一个函数的方式相同。下一个代码单元格计算基于工作40小时的工资。(税后是528美元。)"
   ]
  },
  {
   "cell_type": "code",
   "execution_count": 4,
   "id": "a4caddfe",
   "metadata": {
    "execution": {
     "iopub.execute_input": "2022-06-06T19:02:34.936787Z",
     "iopub.status.busy": "2022-06-06T19:02:34.935852Z",
     "iopub.status.idle": "2022-06-06T19:02:34.941442Z",
     "shell.execute_reply": "2022-06-06T19:02:34.940133Z"
    },
    "papermill": {
     "duration": 0.014968,
     "end_time": "2022-06-06T19:02:34.943483",
     "exception": false,
     "start_time": "2022-06-06T19:02:34.928515",
     "status": "completed"
    },
    "tags": []
   },
   "outputs": [
    {
     "name": "stdout",
     "output_type": "stream",
     "text": [
      "528.0\n"
     ]
    }
   ],
   "source": [
    "# 按工作40小时计算工资\n",
    "pay_fulltime = get_pay(40)\n",
    "print(pay_fulltime)"
   ]
  },
  {
   "cell_type": "markdown",
   "id": "da3af12c",
   "metadata": {
    "papermill": {
     "duration": 0.006299,
     "end_time": "2022-06-06T19:02:34.956062",
     "exception": false,
     "start_time": "2022-06-06T19:02:34.949763",
     "status": "completed"
    },
    "tags": []
   },
   "source": [
    "要根据不同的工作小时数快速计算工资，你需要为该函数提供一个不同的数字。例如，假设你的朋友工作32小时。(然后，他们得到422.40美元。)"
   ]
  },
  {
   "cell_type": "code",
   "execution_count": 5,
   "id": "b7abf865",
   "metadata": {
    "execution": {
     "iopub.execute_input": "2022-06-06T19:02:34.970102Z",
     "iopub.status.busy": "2022-06-06T19:02:34.969742Z",
     "iopub.status.idle": "2022-06-06T19:02:34.974299Z",
     "shell.execute_reply": "2022-06-06T19:02:34.973329Z"
    },
    "papermill": {
     "duration": 0.014615,
     "end_time": "2022-06-06T19:02:34.976844",
     "exception": false,
     "start_time": "2022-06-06T19:02:34.962229",
     "status": "completed"
    },
    "tags": []
   },
   "outputs": [
    {
     "name": "stdout",
     "output_type": "stream",
     "text": [
      "422.4\n"
     ]
    }
   ],
   "source": [
    "pay_parttime = get_pay(32)\n",
    "print(pay_parttime)"
   ]
  },
  {
   "cell_type": "markdown",
   "id": "3c85d128",
   "metadata": {
    "papermill": {
     "duration": 0.005862,
     "end_time": "2022-06-06T19:02:34.988981",
     "exception": false,
     "start_time": "2022-06-06T19:02:34.983119",
     "status": "completed"
    },
    "tags": []
   },
   "source": [
    "因为你写了一个函数，所以你可以计算不同小时的付费，而不需要重新编写所有的代码。\n",
    "\n",
    "一般来说，编码时应该尽可能简单，因为每次你输入计算时，都有可能不小心出现拼写错误。函数可以帮助你避免代码中的错误，节省大量时间。\n",
    "\n",
    "\n",
    "# 变量“作用域”\n",
    "\n",
    "在函数体内定义的变量不能在函数外部使用。例如，下一个代码单元格错误，因为`pay_aftertax`只存在于函数内部。"
   ]
  },
  {
   "cell_type": "code",
   "execution_count": 6,
   "id": "8eddd394",
   "metadata": {
    "execution": {
     "iopub.execute_input": "2022-06-06T19:02:35.002748Z",
     "iopub.status.busy": "2022-06-06T19:02:35.002370Z",
     "iopub.status.idle": "2022-06-06T19:02:35.071893Z",
     "shell.execute_reply": "2022-06-06T19:02:35.070930Z"
    },
    "papermill": {
     "duration": 0.079054,
     "end_time": "2022-06-06T19:02:35.074112",
     "exception": false,
     "start_time": "2022-06-06T19:02:34.995058",
     "status": "completed"
    },
    "tags": []
   },
   "outputs": [
    {
     "ename": "NameError",
     "evalue": "name 'pay_aftertax' is not defined",
     "output_type": "error",
     "traceback": [
      "\u001b[1;31m---------------------------------------------------------------------------\u001b[0m",
      "\u001b[1;31mNameError\u001b[0m                                 Traceback (most recent call last)",
      "\u001b[1;32m~\\AppData\\Local\\Temp\\ipykernel_24096\\2991332200.py\u001b[0m in \u001b[0;36m<module>\u001b[1;34m\u001b[0m\n\u001b[1;32m----> 1\u001b[1;33m \u001b[0mprint\u001b[0m\u001b[1;33m(\u001b[0m\u001b[0mpay_aftertax\u001b[0m\u001b[1;33m)\u001b[0m\u001b[1;33m\u001b[0m\u001b[1;33m\u001b[0m\u001b[0m\n\u001b[0m",
      "\u001b[1;31mNameError\u001b[0m: name 'pay_aftertax' is not defined"
     ]
    }
   ],
   "source": [
    "print(pay_aftertax)"
   ]
  },
  {
   "cell_type": "markdown",
   "id": "d9d6135c",
   "metadata": {
    "papermill": {
     "duration": 0.006587,
     "end_time": "2022-06-06T19:02:35.087089",
     "exception": false,
     "start_time": "2022-06-06T19:02:35.080502",
     "status": "completed"
    },
    "tags": []
   },
   "source": [
    "如果你试图打印`pay_pretax`或`num_hours`，也会得到同样的错误。因此，如果需要从函数中获取任何信息，就需要确保这些信息出现在函数末尾的return语句中。\n",
    "\n",
    "我们将变量的**作用域**称为可访问变量的代码部分。在**函数内部**定义的变量(如`pay_aftertax`)只具有该函数的**局部作用域**。然而，正如你所看到的，**在所有函数之外**定义的变量(如`pay_parttime`)具有**全局作用域**，可以在任何部分访问。"
   ]
  },
  {
   "cell_type": "markdown",
   "id": "baa0bdec",
   "metadata": {
    "papermill": {
     "duration": 0.00612,
     "end_time": "2022-06-06T19:02:35.099623",
     "exception": false,
     "start_time": "2022-06-06T19:02:35.093503",
     "status": "completed"
    },
    "tags": []
   },
   "source": [
    "# 有多个参数的函数\n",
    "\n",
    "到目前为止，你已经学习了如何定义只有一个参数的函数。要定义一个有多个参数的函数，只需要在函数头的括号内添加更多参数，并用逗号分隔它们。\n",
    "\n",
    "我们使用下面的`get_pay_with_more_inputs()`函数来实现这一点，它根据三个参数来计算每周的工资:\n",
    "- `num_hours`—一周工作的小时数\n",
    "- `hourly_wage`—每小时的工资(以美元为单位)\n",
    "- `tax_bracket`—工资中被扣除的税款百分比"
   ]
  },
  {
   "cell_type": "code",
   "execution_count": 9,
   "id": "3f33046f",
   "metadata": {
    "execution": {
     "iopub.execute_input": "2022-06-06T19:02:35.114509Z",
     "iopub.status.busy": "2022-06-06T19:02:35.114083Z",
     "iopub.status.idle": "2022-06-06T19:02:35.118783Z",
     "shell.execute_reply": "2022-06-06T19:02:35.118044Z"
    },
    "papermill": {
     "duration": 0.014425,
     "end_time": "2022-06-06T19:02:35.120573",
     "exception": false,
     "start_time": "2022-06-06T19:02:35.106148",
     "status": "completed"
    },
    "tags": []
   },
   "outputs": [],
   "source": [
    "def get_pay_with_more_inputs(num_hours, hourly_wage, tax_bracket):\n",
    "    # 税前工资\n",
    "    pay_pretax = num_hours * hourly_wage\n",
    "    # 税后工资\n",
    "    pay_aftertax = pay_pretax * (1 - tax_bracket)\n",
    "    return pay_aftertax"
   ]
  },
  {
   "cell_type": "markdown",
   "id": "a39b021b",
   "metadata": {
    "papermill": {
     "duration": 0.006169,
     "end_time": "2022-06-06T19:02:35.133195",
     "exception": false,
     "start_time": "2022-06-06T19:02:35.127026",
     "status": "completed"
    },
    "tags": []
   },
   "source": [
    "调用这个函数的时候，我们需要为每个形参提供一个值，然后用逗号隔开。就像下面这个cell一样。\n",
    "下面这个cell中我们计算了一个工作40个小时，买个小时24美元并且需要缴纳 22% 的税."
   ]
  },
  {
   "cell_type": "code",
   "execution_count": null,
   "id": "6d598720",
   "metadata": {
    "execution": {
     "iopub.execute_input": "2022-06-06T19:02:35.148429Z",
     "iopub.status.busy": "2022-06-06T19:02:35.147472Z",
     "iopub.status.idle": "2022-06-06T19:02:35.152962Z",
     "shell.execute_reply": "2022-06-06T19:02:35.151939Z"
    },
    "papermill": {
     "duration": 0.015202,
     "end_time": "2022-06-06T19:02:35.154892",
     "exception": false,
     "start_time": "2022-06-06T19:02:35.139690",
     "status": "completed"
    },
    "tags": []
   },
   "outputs": [],
   "source": [
    "higher_pay_aftertax = get_pay_with_more_inputs(40, 24, .22)\n",
    "print(higher_pay_aftertax)"
   ]
  },
  {
   "cell_type": "markdown",
   "id": "caf522e8",
   "metadata": {},
   "source": [
    "下面的两个cell，get_pay(40)和get_pay_with_more_inputs(40, 15, .12)运行结果是一样的，为什么呢？请思考。"
   ]
  },
  {
   "cell_type": "code",
   "execution_count": 7,
   "id": "2bcbf408",
   "metadata": {},
   "outputs": [
    {
     "data": {
      "text/plain": [
       "528.0"
      ]
     },
     "execution_count": 7,
     "metadata": {},
     "output_type": "execute_result"
    }
   ],
   "source": [
    "get_pay(40)"
   ]
  },
  {
   "cell_type": "code",
   "execution_count": 10,
   "id": "97140500",
   "metadata": {
    "execution": {
     "iopub.execute_input": "2022-06-06T19:02:35.182471Z",
     "iopub.status.busy": "2022-06-06T19:02:35.181821Z",
     "iopub.status.idle": "2022-06-06T19:02:35.186862Z",
     "shell.execute_reply": "2022-06-06T19:02:35.185913Z"
    },
    "papermill": {
     "duration": 0.01475,
     "end_time": "2022-06-06T19:02:35.188915",
     "exception": false,
     "start_time": "2022-06-06T19:02:35.174165",
     "status": "completed"
    },
    "tags": []
   },
   "outputs": [
    {
     "name": "stdout",
     "output_type": "stream",
     "text": [
      "528.0\n"
     ]
    }
   ],
   "source": [
    "same_pay_fulltime = get_pay_with_more_inputs(40, 15, .12)\n",
    "print(same_pay_fulltime)"
   ]
  },
  {
   "cell_type": "markdown",
   "id": "d78eb3d7",
   "metadata": {
    "papermill": {
     "duration": 0.006461,
     "end_time": "2022-06-06T19:02:35.201847",
     "exception": false,
     "start_time": "2022-06-06T19:02:35.195386",
     "status": "completed"
    },
    "tags": []
   },
   "source": [
    "`get_pay_with_more_inputs()`可能比原始函数`get_pay()`更有用，取决于我们计划如何使用这个新函数，因为它可以处理更多的情况。新函数允许用户指定正确的值，而不是错误地假设小时工资和税收等级。但是，如果你确定小时工资和税率等级不需要改变，那么新函数就太复杂了。一般来说，在定义函数时，你需要根据你的用例考虑需要多大的**灵活性**。\n",
    "\n",
    "\n",
    "# 无参函数\n",
    "\n",
    "注意，可以定义不带参数的函数，也可以定义不带return语句的函数。下面代码单元中的`print_hello()`函数就是一个例子。 "
   ]
  },
  {
   "cell_type": "code",
   "execution_count": null,
   "id": "001c1524",
   "metadata": {
    "execution": {
     "iopub.execute_input": "2022-06-06T19:02:35.216547Z",
     "iopub.status.busy": "2022-06-06T19:02:35.215844Z",
     "iopub.status.idle": "2022-06-06T19:02:35.222131Z",
     "shell.execute_reply": "2022-06-06T19:02:35.221088Z"
    },
    "papermill": {
     "duration": 0.015604,
     "end_time": "2022-06-06T19:02:35.224037",
     "exception": false,
     "start_time": "2022-06-06T19:02:35.208433",
     "status": "completed"
    },
    "tags": []
   },
   "outputs": [],
   "source": [
    "# 定义一个没有参数也没有返回值的函数\n",
    "def print_hello():\n",
    "    print(\"Hello, you!\")\n",
    "    print(\"Good morning!\")\n",
    "    \n",
    "# 调用函数\n",
    "print_hello()"
   ]
  },
  {
   "cell_type": "markdown",
   "id": "72717122",
   "metadata": {
    "papermill": {
     "duration": 0.006206,
     "end_time": "2022-06-06T19:02:35.236775",
     "exception": false,
     "start_time": "2022-06-06T19:02:35.230569",
     "status": "completed"
    },
    "tags": []
   },
   "source": [
    "本课程很短，旨在介绍编程，所以无法涵盖关于函数的所有内容。你可以在[Python课程](https://m.runoob.com/python/python-functions.html)中了解更多关于函数的知识。\n",
    "\n",
    "\n",
    "# 课后练习\n",
    "\n",
    "**[使用Python编写自己的函数]practice4_functions.ipynb**。"
   ]
  },
  {
   "cell_type": "code",
   "execution_count": null,
   "id": "1d3da2c5",
   "metadata": {},
   "outputs": [],
   "source": []
  }
 ],
 "metadata": {
  "kernelspec": {
   "display_name": "Python 3 (ipykernel)",
   "language": "python",
   "name": "python3"
  },
  "language_info": {
   "codemirror_mode": {
    "name": "ipython",
    "version": 3
   },
   "file_extension": ".py",
   "mimetype": "text/x-python",
   "name": "python",
   "nbconvert_exporter": "python",
   "pygments_lexer": "ipython3",
   "version": "3.9.13"
  },
  "papermill": {
   "default_parameters": {},
   "duration": 11.419867,
   "end_time": "2022-06-06T19:02:35.876297",
   "environment_variables": {},
   "exception": null,
   "input_path": "__notebook__.ipynb",
   "output_path": "__notebook__.ipynb",
   "parameters": {},
   "start_time": "2022-06-06T19:02:24.456430",
   "version": "2.3.3"
  }
 },
 "nbformat": 4,
 "nbformat_minor": 5
}
