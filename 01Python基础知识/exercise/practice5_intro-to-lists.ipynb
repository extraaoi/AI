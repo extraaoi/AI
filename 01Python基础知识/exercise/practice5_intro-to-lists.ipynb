{
 "cells": [
  {
   "cell_type": "markdown",
   "metadata": {},
   "source": [
    "在本教程中，你学习了如何定义和修改Python列表。在这个练习中，你将使用你学到的新知识来解决几个问题。"
   ]
  },
  {
   "cell_type": "markdown",
   "metadata": {},
   "source": [
    "# Question 1\n",
    "\n",
    "你拥有一家餐厅，有五道菜，在下面的Python列表`menu`中组织。有一天，你决定:\n",
    "-从菜单中删除豆汤(` bean soup `)\n",
    "-在菜单中添加烤甜菜沙拉(`'roasted beet salad'`)。\n",
    "\n",
    "对下面的列表实现此更改。在完成这项任务的同时，\n",
    "- 不要更改创建`menu`列表的那行代码。\n",
    "- 你的答案应该使用`.remove()`和`.append()`函数\n",
    "\n",
    "如果你忘了，就回到课件去复习一下。当然，希望你能查一查相关函数的资料，详细了解他们的用法。\n",
    "\n"
   ]
  },
  {
   "cell_type": "code",
   "execution_count": 1,
   "metadata": {},
   "outputs": [
    {
     "ename": "NameError",
     "evalue": "name '____' is not defined",
     "output_type": "error",
     "traceback": [
      "\u001b[1;31m---------------------------------------------------------------------------\u001b[0m",
      "\u001b[1;31mNameError\u001b[0m                                 Traceback (most recent call last)",
      "\u001b[1;32m~\\AppData\\Local\\Temp\\ipykernel_32180\\1802774976.py\u001b[0m in \u001b[0;36m<module>\u001b[1;34m\u001b[0m\n\u001b[0;32m      4\u001b[0m \u001b[1;33m\u001b[0m\u001b[0m\n\u001b[0;32m      5\u001b[0m \u001b[1;31m# 把“豆汤”去掉，在菜单的最后加上“烤甜菜沙拉”\u001b[0m\u001b[1;33m\u001b[0m\u001b[1;33m\u001b[0m\u001b[0m\n\u001b[1;32m----> 6\u001b[1;33m \u001b[0m____\u001b[0m\u001b[1;33m\u001b[0m\u001b[1;33m\u001b[0m\u001b[0m\n\u001b[0m",
      "\u001b[1;31mNameError\u001b[0m: name '____' is not defined"
     ]
    }
   ],
   "source": [
    "# 下面的列表不允许改变:你的餐厅的初始菜单\n",
    "menu = ['stewed meat with onions', 'bean soup', 'risotto with trout and shrimp',\n",
    "       'fish soup with cream and onion', 'gyro']\n",
    "\n",
    "# 把“豆汤”去掉，在菜单的最后加上“烤甜菜沙拉”\n",
    "____"
   ]
  },
  {
   "cell_type": "markdown",
   "metadata": {},
   "source": [
    "# Question 2\n",
    "\n",
    "列表`num_customers`包含过去一个月(持续30天)每天到餐厅的顾客数量。为下面的每一项填写值\n",
    "- `avg_first_seven`—前7天内访问的平均客户数\n",
    "- `avg_last_seven`—过去7天内访问的平均客户数\n",
    "- `max_month`—上个月某一天拥有最多客户的客户数\n",
    "- `min_month`—上个月获得最少客户的那一天的客户数\n",
    "\n",
    "通过编写代码来回答这个问题。例如，如果你必须在列表中找到最小值，请使用`min()`，而不是扫描寻找最小值并直接填充数字。"
   ]
  },
  {
   "cell_type": "code",
   "execution_count": null,
   "metadata": {
    "execution": {
     "iopub.execute_input": "2022-03-22T15:58:15.688418Z",
     "iopub.status.busy": "2022-03-22T15:58:15.687551Z",
     "iopub.status.idle": "2022-03-22T15:58:15.703153Z",
     "shell.execute_reply": "2022-03-22T15:58:15.702395Z",
     "shell.execute_reply.started": "2022-03-22T15:58:15.688331Z"
    }
   },
   "outputs": [],
   "source": [
    "# 下面的列表不允许改变:上个月每天的客户数量\n",
    "num_customers = [137, 147, 135, 128, 170, 174, 165, 146, 126, 159,\n",
    "                 141, 148, 132, 147, 168, 153, 170, 161, 148, 152,\n",
    "                 141, 151, 131, 149, 164, 163, 143, 143, 166, 171]\n",
    "\n",
    "# 填写值\n",
    "avg_first_seven = ____ \n",
    "avg_last_seven = ____ \n",
    "max_month = ____\n",
    "min_month = ____"
   ]
  },
  {
   "cell_type": "markdown",
   "metadata": {},
   "source": [
    "# Question 3\n",
    "\n",
    "在本教程中，我们给出了一个Python字符串示例，其中包含的信息作为列表会更好些。"
   ]
  },
  {
   "cell_type": "code",
   "execution_count": null,
   "metadata": {},
   "outputs": [],
   "source": [
    "flowers = \"pink primrose,hard-leaved pocket orchid,canterbury bells,sweet pea,english marigold,tiger lily,moon orchid,bird of paradise,monkshood,globe thistle\""
   ]
  },
  {
   "cell_type": "markdown",
   "metadata": {},
   "source": [
    "实际上，你可以使用Python的`.split()`将这个字符串快速转换为一个列表。\n",
    "在括号中，我们需要提供字符should be用于标记一个列表项的结束和另一个列表项的开始，并将其括在引号中。在本例中，这个字符是逗号。"
   ]
  },
  {
   "cell_type": "code",
   "execution_count": null,
   "metadata": {},
   "outputs": [],
   "source": [
    " print(flowers.split(\",\"))"
   ]
  },
  {
   "cell_type": "markdown",
   "metadata": {},
   "source": [
    "现在轮到你试试了!创建两个Python列表:\n",
    "- `letters`应该是一个Python列表，其中每个条目都是英语字母表中的大写字母。例如，前两个元素应该是`\"A\"`和`\"B\"`，最后两个元素应该是`\"Y\"`和`\"Z\"`。使用字符串`alphabet`创建这个列表。\n",
    "- `address`应该是一个Python列表，其中`address`中的每一行都是列表中的不同项。目前，`address`中的每一行都由逗号分隔。"
   ]
  },
  {
   "cell_type": "code",
   "execution_count": null,
   "metadata": {},
   "outputs": [],
   "source": [
    "# 下面的列表不允许改变:定义两个Python字符串\n",
    "alphabet = \"A.B.C.D.E.F.G.H.I.J.K.L.M.N.O.P.Q.R.S.T.U.V.W.X.Y.Z\"\n",
    "address = \"Mr. H. Potter,The cupboard under the Stairs,4 Privet Drive,Little Whinging,Surrey\"\n",
    "\n",
    "# 将字符串转换为Python列表\n",
    "letters = ____\n",
    "formatted_address = ____"
   ]
  },
  {
   "cell_type": "markdown",
   "metadata": {},
   "source": [
    "# Question 4\n",
    "\n",
    "在Python课程中，你将学习关于**列表推导式**的内容，它允许你根据另一个列表中的值创建一个列表。在这个问题中，您将简要预览它们的工作原理。\n",
    "\n",
    "假设我们正在处理下面的列表。"
   ]
  },
  {
   "cell_type": "code",
   "execution_count": 2,
   "metadata": {},
   "outputs": [],
   "source": [
    "test_ratings = [1, 2, 3, 4, 5]"
   ]
  },
  {
   "cell_type": "markdown",
   "metadata": {},
   "source": [
    "然后，我们可以使用这个列表(`test_ratings`)来创建一个新列表(`test_liked`)，其中每个待办事项都被转换为布尔值，具体取决于待办事项是否大于或等于4。"
   ]
  },
  {
   "cell_type": "code",
   "execution_count": 3,
   "metadata": {},
   "outputs": [
    {
     "name": "stdout",
     "output_type": "stream",
     "text": [
      "[False, False, False, True, True]\n"
     ]
    }
   ],
   "source": [
    "test_liked = [i>=4 for i in test_ratings]\n",
    "print(test_liked)"
   ]
  },
  {
   "cell_type": "markdown",
   "metadata": {},
   "source": [
    "在这个问题中，你将使用这个列表推导式来定义一个接受一个参数的函数`percentage_liked()`:\n",
    "- ' ratings ':人们对一部电影的评分列表，每个评分都是1-5之间的数字，包括评分\n",
    "\n",
    "如果某人给了4分或5分，我们就说他喜欢这部电影。你的函数应该返回喜欢该电影的人的百分比。\n",
    "\n",
    "例如，如果我们提供一个值`[1,2,3,4,5,4,5,1]`，那么50%(4/8)的人喜欢这部电影，函数应该返回`0.5`。\n",
    "\n",
    "部分函数已经完成。你只需要使用`list_liked`来计算`percentage_liked`。"
   ]
  },
  {
   "cell_type": "code",
   "execution_count": null,
   "metadata": {},
   "outputs": [],
   "source": [
    "def percentage_liked(ratings):\n",
    "    list_liked = [i>=4 for i in ratings]\n",
    "    # 完善函数\n",
    "    percentage_liked = ____\n",
    "    return percentage_liked\n",
    "\n",
    "# 下面的列表不允许改变:人们对某部电影的评分，正确情况应该返回0.5\n",
    "percentage_liked([1, 2, 3, 4, 5, 4, 5, 1])"
   ]
  },
  {
   "cell_type": "markdown",
   "metadata": {},
   "source": [
    "# ☆ Question 5\n",
    " \n",
    "假设你正在为一个网站做分析。你需要编写一个函数，返回用户总数相对于指定年份的百分比增长。\n",
    "\n",
    "函数`percentage_growth()`应该接受两个参数作为输入:\n",
    "- `num_users` =每年用户总数的Python列表。因此`num_users[0]`是第一年的总用户数，`num_users[1]`是第二年的总用户数，以此类推。列表中的最后一个条目给出了最近完成的一年的总用户数。\n",
    "- `yrs_ago` =计算增长百分比时回溯的年份\n",
    "\n",
    "例如，说`num_users =[920344, 1043553, 1204334, 1458996, 1503323, 1593432, 1623463, 1843064, 193092,2001078]`。\n",
    "-如果`yrs_ago = 1`，我们希望函数返回一个大约`0.036`的值。这相当于大约3.6%的百分比增长，按(2001078 - 1930992)/1930992计算。\n",
    "-如果`years_ago = 7`，我们希望返回大约`0.66`。这相当于大约66%的百分比增长，按(2001078 - 1204334)/1204334计算。\n",
    "\n",
    "你的同学发给你一个函数的草稿，但它似乎没有进行正确的计算。你能找出哪里出了问题并做出必要的修改吗?"
   ]
  },
  {
   "cell_type": "code",
   "execution_count": null,
   "metadata": {},
   "outputs": [],
   "source": [
    "# 编辑函数\n",
    "def percentage_growth(num_users, yrs_ago):\n",
    "    growth = (num_users[len(num_users)-1] - num_users[len(num_users)-yrs_ago])/num_users[len(num_users)-2]\n",
    "    return growth\n",
    "\n",
    "# 不许改变: 变量，用于计算一些测试示例\n",
    "num_users_test = [920344, 1043553, 1204334, 1458996, 1503323, 1593432, 1623463, 1843064, 1930992, 2001078]\n",
    "\n",
    "# 不许改变: 应该返回0.36\n",
    "print(percentage_growth(num_users_test, 1))\n",
    "\n",
    "# 不许改变: 应该返回0.66\n",
    "print(percentage_growth(num_users_test, 7))"
   ]
  },
  {
   "cell_type": "markdown",
   "metadata": {},
   "source": [
    "# 恭喜你!你刚刚完成了编程入门课程的第五个练习!"
   ]
  },
  {
   "cell_type": "code",
   "execution_count": null,
   "metadata": {},
   "outputs": [],
   "source": []
  }
 ],
 "metadata": {
  "kernelspec": {
   "display_name": "Python 3 (ipykernel)",
   "language": "python",
   "name": "python3"
  },
  "language_info": {
   "codemirror_mode": {
    "name": "ipython",
    "version": 3
   },
   "file_extension": ".py",
   "mimetype": "text/x-python",
   "name": "python",
   "nbconvert_exporter": "python",
   "pygments_lexer": "ipython3",
   "version": "3.9.13"
  }
 },
 "nbformat": 4,
 "nbformat_minor": 4
}
