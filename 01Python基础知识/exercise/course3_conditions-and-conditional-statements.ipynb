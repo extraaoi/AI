{
 "cells": [
  {
   "cell_type": "markdown",
   "id": "a0bfffc3",
   "metadata": {
    "papermill": {
     "duration": 0.006745,
     "end_time": "2022-08-30T17:41:31.355890",
     "exception": false,
     "start_time": "2022-08-30T17:41:31.349145",
     "status": "completed"
    },
    "tags": []
   },
   "source": [
    "# 实验介绍\n",
    "\n",
    "我们可以看到，当改变函数的输入值时，通常会得到不同的输出。例如，考虑一个`add_five()`函数，它只是将输入的数字加5并返回结果。然后`add_five(7)`将返回12(=7+5)，而`add_five(8)`将返回13(=8+5)。注意，无论输入是什么，函数执行的操作总是相同的:它总是加5。\n",
    "\n",
    "但有时候可能需要一个函数来执行依赖于输入的操作。例如，可能需要一个`add_three_or_eight()`函数，如果输入小于10，则加3，如果输入大于或等于10，则加8。那么`add_three_or_eight(1)`将返回4(=1+3)，而`add_three_or_eight(11)`将返回19(=11+8)。在这种情况下，函数执行的操作随着输入的不同而变化。\n",
    "\n",
    "这一课将介绍如何使用条件和条件语句来修改函数的运行逻辑。\n",
    "\n",
    "\n",
    "# 条件\n",
    "\n",
    "在编程中，**条件**是输出结果为`True`或`False`的语句。在Python中，条件语句有很多不同的写法，但最常见的写法是比较两个不同的值。例如，你可以比较2是否大于3。"
   ]
  },
  {
   "cell_type": "code",
   "execution_count": null,
   "id": "6feaf9dd",
   "metadata": {
    "execution": {
     "iopub.execute_input": "2022-08-30T17:41:31.370974Z",
     "iopub.status.busy": "2022-08-30T17:41:31.370016Z",
     "iopub.status.idle": "2022-08-30T17:41:31.381982Z",
     "shell.execute_reply": "2022-08-30T17:41:31.381149Z"
    },
    "papermill": {
     "duration": 0.021734,
     "end_time": "2022-08-30T17:41:31.383877",
     "exception": false,
     "start_time": "2022-08-30T17:41:31.362143",
     "status": "completed"
    },
    "tags": []
   },
   "outputs": [
    {
     "name": "stdout",
     "output_type": "stream",
     "text": [
      "False\n",
      "False\n"
     ]
    }
   ],
   "source": [
    "print(2 > 3)"
   ]
  },
  {
   "cell_type": "markdown",
   "id": "16adb6dd",
   "metadata": {
    "papermill": {
     "duration": 0.005907,
     "end_time": "2022-08-30T17:41:31.395997",
     "exception": false,
     "start_time": "2022-08-30T17:41:31.390090",
     "status": "completed"
    },
    "tags": []
   },
   "source": [
    "通过输出结果可以看出，Python将其识别为False，因为2不大于3。\n",
    "\n",
    "我们还可以使用条件来比较变量的值。在下一个代码单元格中，`var_one`的值为1，`var_two`的值为2，检查`var_one`是否小于1(为`False`)，并且我们检查`var_two`是否大于或等于`var_one`(为`True`)。"
   ]
  },
  {
   "cell_type": "code",
   "execution_count": null,
   "id": "7a500a02",
   "metadata": {
    "execution": {
     "iopub.execute_input": "2022-08-30T17:41:31.410394Z",
     "iopub.status.busy": "2022-08-30T17:41:31.410035Z",
     "iopub.status.idle": "2022-08-30T17:41:31.416011Z",
     "shell.execute_reply": "2022-08-30T17:41:31.414728Z"
    },
    "papermill": {
     "duration": 0.015696,
     "end_time": "2022-08-30T17:41:31.417888",
     "exception": false,
     "start_time": "2022-08-30T17:41:31.402192",
     "status": "completed"
    },
    "tags": []
   },
   "outputs": [
    {
     "name": "stdout",
     "output_type": "stream",
     "text": [
      "False\n",
      "True\n",
      "False\n",
      "True\n"
     ]
    }
   ],
   "source": [
    "var_one = 1\n",
    "var_two = 2\n",
    "\n",
    "print(var_one < 1)\n",
    "print(var_two >= var_one)"
   ]
  },
  {
   "cell_type": "markdown",
   "id": "3f8b1edb",
   "metadata": {
    "papermill": {
     "duration": 0.005992,
     "end_time": "2022-08-30T17:41:31.430166",
     "exception": false,
     "start_time": "2022-08-30T17:41:31.424174",
     "status": "completed"
    },
    "tags": []
   },
   "source": [
    "有关可用于构造条件的常用符号列表，请查看下面的图表：\n",
    "\n",
    "<table style=\"width: 100%;\">\n",
    "<tbody>\n",
    "<tr><th><b><center>Symbol</center></b></th><th><b><center>Meaning</center></b></th></tr>\n",
    "<tr>\n",
    "<td><center>==</center></td>\n",
    "<td><center>equals</center></td>\n",
    "</tr>\n",
    "<tr>\n",
    "<td><center>!=</center></td>\n",
    "<td><center>does not equal</center></td>\n",
    "</tr>\n",
    "<tr>\n",
    "<td><center>&#60;</center></td>\n",
    "<td><center>less than</center></td>\n",
    "</tr>\n",
    "<tr>\n",
    "<td><center>&#60;=</center></td>\n",
    "<td><center>less than or equal to</center></td>\n",
    "</tr>\n",
    "<tr>\n",
    "<td><center>&#62;</center></td>\n",
    "<td><center>greater than</center></td>\n",
    "</tr>\n",
    "<tr>\n",
    "<td><center>&#62;=</center></td>\n",
    "<td><center>greater than or equal to</center></td>\n",
    "</tr>\n",
    "</tbody>\n",
    "</table>"
   ]
  },
  {
   "cell_type": "markdown",
   "id": "10d5fb8d",
   "metadata": {
    "papermill": {
     "duration": 0.005944,
     "end_time": "2022-08-30T17:41:31.442355",
     "exception": false,
     "start_time": "2022-08-30T17:41:31.436411",
     "status": "completed"
    },
    "tags": []
   },
   "source": [
    "**重要提示**:当你检查两个值是否相等时，请确保使用==符号，而不是=符号。\n",
    "\n",
    "- `var_one==1`含义是检查`var_one`的值是否为1\n",
    "\n",
    "- `var_one=1`含义是将`var_one`的值设置为1。"
   ]
  },
  {
   "cell_type": "markdown",
   "id": "2ddfbf5f",
   "metadata": {
    "papermill": {
     "duration": 0.006004,
     "end_time": "2022-08-30T17:41:31.454573",
     "exception": false,
     "start_time": "2022-08-30T17:41:31.448569",
     "status": "completed"
    },
    "tags": []
   },
   "source": [
    "# 条件语句\n",
    "\n",
    "**条件语句**通过使用条件来修改函数的运行方式。它们检查条件的值，如果条件求值为`True`，则执行特定的代码块；如果条件求值为`False`，也会执行特定的代码块。\n",
    "\n",
    "在接下来的章节中，你会看到几个这样的例子。\n",
    "\n",
    "## \"if\"语句\n",
    "\n",
    "最简单的条件语句是“if”语句，可以在下面的`evaluate_temp()`函数中看到这样的例子。这个函数以体温(摄氏度)作为输入。\n",
    "- `message`被设置为`\"Normal temperature\"`。\n",
    "- 如果`temp > 38`为`True`(例如，体温大于38°C)，则消息被更新为`“Fever!”`。否则，`temp > 38`为False，不会更新消息。\n",
    "- 函数返回`message`。"
   ]
  },
  {
   "cell_type": "code",
   "execution_count": null,
   "id": "3a59ae38",
   "metadata": {
    "execution": {
     "iopub.execute_input": "2022-08-30T17:41:31.469662Z",
     "iopub.status.busy": "2022-08-30T17:41:31.469039Z",
     "iopub.status.idle": "2022-08-30T17:41:31.473882Z",
     "shell.execute_reply": "2022-08-30T17:41:31.473155Z"
    },
    "papermill": {
     "duration": 0.014764,
     "end_time": "2022-08-30T17:41:31.475794",
     "exception": false,
     "start_time": "2022-08-30T17:41:31.461030",
     "status": "completed"
    },
    "tags": []
   },
   "outputs": [],
   "source": [
    "def evaluate_temp(temp):\n",
    "    # 设置初始消息\n",
    "    message = \"Normal temperature.\"\n",
    "    # 当温度大于38时更新消息值\n",
    "    if temp > 38:\n",
    "        message = \"Fever!\"\n",
    "    return message"
   ]
  },
  {
   "cell_type": "markdown",
   "id": "62916c6c",
   "metadata": {
    "papermill": {
     "duration": 0.005806,
     "end_time": "2022-08-30T17:41:31.487655",
     "exception": false,
     "start_time": "2022-08-30T17:41:31.481849",
     "status": "completed"
    },
    "tags": []
   },
   "source": [
    "在下一个码元格中，我们调用函数，并设定其中温度为37°C。消息是`\"Normal temperature\"`，因为在这种情况下温度小于38°C (`temp > 38`求值为`False`)。"
   ]
  },
  {
   "cell_type": "code",
   "execution_count": null,
   "id": "dccfe167",
   "metadata": {
    "execution": {
     "iopub.execute_input": "2022-08-30T17:41:31.501830Z",
     "iopub.status.busy": "2022-08-30T17:41:31.501536Z",
     "iopub.status.idle": "2022-08-30T17:41:31.505501Z",
     "shell.execute_reply": "2022-08-30T17:41:31.504716Z"
    },
    "papermill": {
     "duration": 0.013501,
     "end_time": "2022-08-30T17:41:31.507818",
     "exception": false,
     "start_time": "2022-08-30T17:41:31.494317",
     "status": "completed"
    },
    "tags": []
   },
   "outputs": [
    {
     "name": "stdout",
     "output_type": "stream",
     "text": [
      "Normal temperature.\n",
      "Normal temperature.\n"
     ]
    }
   ],
   "source": [
    "print(evaluate_temp(37))"
   ]
  },
  {
   "cell_type": "markdown",
   "id": "dbc74d9f",
   "metadata": {
    "papermill": {
     "duration": 0.006246,
     "end_time": "2022-08-30T17:41:31.520264",
     "exception": false,
     "start_time": "2022-08-30T17:41:31.514018",
     "status": "completed"
    },
    "tags": []
   },
   "source": [
    "如果温度是39°C，由于大于38°C，所以消息被更新为`\"Fever!\"`。"
   ]
  },
  {
   "cell_type": "code",
   "execution_count": null,
   "id": "6d717c4c",
   "metadata": {
    "execution": {
     "iopub.execute_input": "2022-08-30T17:41:31.533689Z",
     "iopub.status.busy": "2022-08-30T17:41:31.533406Z",
     "iopub.status.idle": "2022-08-30T17:41:31.537688Z",
     "shell.execute_reply": "2022-08-30T17:41:31.536864Z"
    },
    "papermill": {
     "duration": 0.013333,
     "end_time": "2022-08-30T17:41:31.539719",
     "exception": false,
     "start_time": "2022-08-30T17:41:31.526386",
     "status": "completed"
    },
    "scrolled": true,
    "tags": []
   },
   "outputs": [
    {
     "name": "stdout",
     "output_type": "stream",
     "text": [
      "Fever!\n",
      "Fever!\n"
     ]
    }
   ],
   "source": [
    "print(evaluate_temp(39))"
   ]
  },
  {
   "cell_type": "markdown",
   "id": "c35ccb5b",
   "metadata": {
    "papermill": {
     "duration": 0.005844,
     "end_time": "2022-08-30T17:41:31.551788",
     "exception": false,
     "start_time": "2022-08-30T17:41:31.545944",
     "status": "completed"
    },
    "tags": []
   },
   "source": [
    "注意，函数代码有两层缩进:\n",
    "- 第一级缩进是因为我们总是需要缩进函数内的代码块。\n",
    "- 第二级缩进是因为我们还需要缩进属于“if”语句的代码块。(“elif”和“else”语句的代码块还需要缩进。)\n",
    "\n",
    "return语句在“if”语句下没有缩进，所以无论`temp > 38`是`True`还是`False`，它都会被执行。"
   ]
  },
  {
   "cell_type": "markdown",
   "id": "cf9ade18",
   "metadata": {
    "papermill": {
     "duration": 0.006015,
     "end_time": "2022-08-30T17:41:31.564018",
     "exception": false,
     "start_time": "2022-08-30T17:41:31.558003",
     "status": "completed"
    },
    "tags": []
   },
   "source": [
    "## \"if ... else\"语句\n",
    "\n",
    "如果一个语句为False，我们可以使用else语句来运行特定代码。如果语句为`True`，则运行` if `语句下的代码，如果`False`，则运行` else `语句下的代码。"
   ]
  },
  {
   "cell_type": "code",
   "execution_count": null,
   "id": "da98b69b",
   "metadata": {
    "execution": {
     "iopub.execute_input": "2022-08-30T17:41:31.577675Z",
     "iopub.status.busy": "2022-08-30T17:41:31.577382Z",
     "iopub.status.idle": "2022-08-30T17:41:31.581567Z",
     "shell.execute_reply": "2022-08-30T17:41:31.580722Z"
    },
    "papermill": {
     "duration": 0.012882,
     "end_time": "2022-08-30T17:41:31.583231",
     "exception": false,
     "start_time": "2022-08-30T17:41:31.570349",
     "status": "completed"
    },
    "tags": []
   },
   "outputs": [],
   "source": [
    "def evaluate_temp_with_else(temp):\n",
    "    if temp > 38:\n",
    "        message = \"Fever!\"\n",
    "    else:\n",
    "        message = \"Normal temperature.\"\n",
    "    return message"
   ]
  },
  {
   "cell_type": "markdown",
   "id": "f4b480dc",
   "metadata": {
    "papermill": {
     "duration": 0.005664,
     "end_time": "2022-08-30T17:41:31.595114",
     "exception": false,
     "start_time": "2022-08-30T17:41:31.589450",
     "status": "completed"
    },
    "tags": []
   },
   "source": [
    "这个`evaluate_temp_with_else()`函数与`evaluate_temp()`函数具有相同的操作。\n",
    "\n",
    "在下一个码元格中，我们调用这个新函数，其中温度为37°C。在这种情况下，`temp > 38`的计算结果为`False`，因此代码会执行“else”语句下的代码，而`Normal temperature。`消息被返回。"
   ]
  },
  {
   "cell_type": "code",
   "execution_count": null,
   "id": "490f5570",
   "metadata": {
    "execution": {
     "iopub.execute_input": "2022-08-30T17:41:31.608860Z",
     "iopub.status.busy": "2022-08-30T17:41:31.608316Z",
     "iopub.status.idle": "2022-08-30T17:41:31.613099Z",
     "shell.execute_reply": "2022-08-30T17:41:31.612190Z"
    },
    "papermill": {
     "duration": 0.013618,
     "end_time": "2022-08-30T17:41:31.614766",
     "exception": false,
     "start_time": "2022-08-30T17:41:31.601148",
     "status": "completed"
    },
    "tags": []
   },
   "outputs": [
    {
     "name": "stdout",
     "output_type": "stream",
     "text": [
      "Normal temperature.\n",
      "Normal temperature.\n"
     ]
    }
   ],
   "source": [
    "print(evaluate_temp_with_else(37))"
   ]
  },
  {
   "cell_type": "markdown",
   "id": "727a6b64",
   "metadata": {
    "papermill": {
     "duration": 0.00612,
     "end_time": "2022-08-30T17:41:31.627175",
     "exception": false,
     "start_time": "2022-08-30T17:41:31.621055",
     "status": "completed"
    },
    "tags": []
   },
   "source": [
    "和前面的函数一样，我们缩进了if和else语句后面的代码。 \n",
    "\n",
    "## \"if ... elif ... else\"语句\n",
    "\n",
    "我们可以使用“elif”(else if的缩写)来检查多个条件是否为真。函数如下:\n",
    "\n",
    "- 首先检查是否`temp > 38`。如果True，那么输出被设置为`\"Fever!\"`。\n",
    "\n",
    "- 如果输出还没有被设置，函数就会检查是否`temp > 35`。如果判定为True，那么输出被设置为`\"Normal temperature.\"`。\n",
    "\n",
    "- 然后，如果仍然没有输出消息，“else”语句确保消息被设置为`\"Low temperature\"`。消息就会被打印出来。\n",
    "\n",
    "你可以把“elif”想象成“前面的条件(`temp > 38`)为假，所以让我们检查这个新条件(`temp > 35`)是否可能为真!”"
   ]
  },
  {
   "cell_type": "code",
   "execution_count": null,
   "id": "259cb0e1",
   "metadata": {
    "execution": {
     "iopub.execute_input": "2022-08-30T17:41:31.642696Z",
     "iopub.status.busy": "2022-08-30T17:41:31.640930Z",
     "iopub.status.idle": "2022-08-30T17:41:31.646866Z",
     "shell.execute_reply": "2022-08-30T17:41:31.646075Z"
    },
    "papermill": {
     "duration": 0.015095,
     "end_time": "2022-08-30T17:41:31.648663",
     "exception": false,
     "start_time": "2022-08-30T17:41:31.633568",
     "status": "completed"
    },
    "tags": []
   },
   "outputs": [],
   "source": [
    "def evaluate_temp_with_elif(temp):\n",
    "    if temp > 38:\n",
    "        message = \"Fever!\"\n",
    "    elif temp > 35:\n",
    "        message = \"Normal temperature.\"\n",
    "    else:\n",
    "        message = \"Low temperature.\"\n",
    "    return message"
   ]
  },
  {
   "cell_type": "markdown",
   "id": "9b5b2cd5",
   "metadata": {
    "papermill": {
     "duration": 0.005853,
     "end_time": "2022-08-30T17:41:31.660876",
     "exception": false,
     "start_time": "2022-08-30T17:41:31.655023",
     "status": "completed"
    },
    "tags": []
   },
   "source": [
    "在下面的码元格中，计算机运行“elif”语句下的代码，因为`temp > 38`是`False`， `temp > 35`是`True`。这段代码运行后，函数会跳过“else”语句并返回消息。"
   ]
  },
  {
   "cell_type": "code",
   "execution_count": null,
   "id": "ab35488c",
   "metadata": {
    "execution": {
     "iopub.execute_input": "2022-08-30T17:41:31.675280Z",
     "iopub.status.busy": "2022-08-30T17:41:31.674273Z",
     "iopub.status.idle": "2022-08-30T17:41:31.681982Z",
     "shell.execute_reply": "2022-08-30T17:41:31.681266Z"
    },
    "papermill": {
     "duration": 0.016756,
     "end_time": "2022-08-30T17:41:31.683580",
     "exception": false,
     "start_time": "2022-08-30T17:41:31.666824",
     "status": "completed"
    },
    "tags": []
   },
   "outputs": [
    {
     "data": {
      "text/plain": [
       "'Normal temperature.'"
      ]
     },
     "execution_count": 39,
     "metadata": {},
     "output_type": "execute_result"
    },
    {
     "data": {
      "text/plain": [
       "'Normal temperature.'"
      ]
     },
     "execution_count": 39,
     "metadata": {},
     "output_type": "execute_result"
    }
   ],
   "source": [
    "evaluate_temp_with_elif(36)"
   ]
  },
  {
   "cell_type": "markdown",
   "id": "dce82845",
   "metadata": {
    "papermill": {
     "duration": 0.005776,
     "end_time": "2022-08-30T17:41:31.695715",
     "exception": false,
     "start_time": "2022-08-30T17:41:31.689939",
     "status": "completed"
    },
    "tags": []
   },
   "source": [
    "最后，我们尝试输入温度小于35°C的情况。因为“if”和“elif”语句中的条件都求值为`False`，所以“else”语句中的代码块会被执行。"
   ]
  },
  {
   "cell_type": "code",
   "execution_count": null,
   "id": "384e0316",
   "metadata": {
    "execution": {
     "iopub.execute_input": "2022-08-30T17:41:31.712209Z",
     "iopub.status.busy": "2022-08-30T17:41:31.710819Z",
     "iopub.status.idle": "2022-08-30T17:41:31.716573Z",
     "shell.execute_reply": "2022-08-30T17:41:31.715964Z"
    },
    "papermill": {
     "duration": 0.015851,
     "end_time": "2022-08-30T17:41:31.718267",
     "exception": false,
     "start_time": "2022-08-30T17:41:31.702416",
     "status": "completed"
    },
    "tags": []
   },
   "outputs": [
    {
     "data": {
      "text/plain": [
       "'Low temperature.'"
      ]
     },
     "execution_count": 40,
     "metadata": {},
     "output_type": "execute_result"
    },
    {
     "data": {
      "text/plain": [
       "'Low temperature.'"
      ]
     },
     "execution_count": 40,
     "metadata": {},
     "output_type": "execute_result"
    }
   ],
   "source": [
    "evaluate_temp_with_elif(34)"
   ]
  },
  {
   "cell_type": "markdown",
   "id": "e70fb8eb",
   "metadata": {
    "papermill": {
     "duration": 0.006473,
     "end_time": "2022-08-30T17:41:31.731573",
     "exception": false,
     "start_time": "2022-08-30T17:41:31.725100",
     "status": "completed"
    },
    "tags": []
   },
   "source": [
    "# 示例 - 计算\n",
    "\n",
    "在前面的例子中，条件语句用于决定如何设置变量的值。但你也可以使用条件语句来执行不同的计算。\n",
    "\n",
    "在下例中，假设你生活在一个只有两个税级的国家。收入低于12000美元的人缴纳25%的税，收入12000美元或更多的人缴纳30%的税。下面的函数将会帮助你计算应交多少税。."
   ]
  },
  {
   "cell_type": "code",
   "execution_count": null,
   "id": "0e75d1d3",
   "metadata": {
    "execution": {
     "iopub.execute_input": "2022-08-30T17:41:31.746474Z",
     "iopub.status.busy": "2022-08-30T17:41:31.745962Z",
     "iopub.status.idle": "2022-08-30T17:41:31.749760Z",
     "shell.execute_reply": "2022-08-30T17:41:31.749128Z"
    },
    "papermill": {
     "duration": 0.013768,
     "end_time": "2022-08-30T17:41:31.752074",
     "exception": false,
     "start_time": "2022-08-30T17:41:31.738306",
     "status": "completed"
    },
    "tags": []
   },
   "outputs": [],
   "source": [
    "def get_taxes(earnings):\n",
    "    if earnings < 12000:\n",
    "        tax_owed = .25 * earnings\n",
    "    else:\n",
    "        tax_owed = .30 * earnings\n",
    "    return tax_owed"
   ]
  },
  {
   "cell_type": "markdown",
   "id": "0ad90474",
   "metadata": {
    "papermill": {
     "duration": 0.006147,
     "end_time": "2022-08-30T17:41:31.764707",
     "exception": false,
     "start_time": "2022-08-30T17:41:31.758560",
     "status": "completed"
    },
    "tags": []
   },
   "source": [
    "下一个代码单元使用这个函数。"
   ]
  },
  {
   "cell_type": "code",
   "execution_count": null,
   "id": "81380360",
   "metadata": {
    "execution": {
     "iopub.execute_input": "2022-08-30T17:41:31.779521Z",
     "iopub.status.busy": "2022-08-30T17:41:31.778494Z",
     "iopub.status.idle": "2022-08-30T17:41:31.784308Z",
     "shell.execute_reply": "2022-08-30T17:41:31.783230Z"
    },
    "papermill": {
     "duration": 0.015219,
     "end_time": "2022-08-30T17:41:31.786158",
     "exception": false,
     "start_time": "2022-08-30T17:41:31.770939",
     "status": "completed"
    },
    "tags": []
   },
   "outputs": [
    {
     "name": "stdout",
     "output_type": "stream",
     "text": [
      "2250.0\n",
      "4500.0\n",
      "2250.0\n",
      "4500.0\n"
     ]
    }
   ],
   "source": [
    "ana_taxes = get_taxes(9000)\n",
    "bob_taxes = get_taxes(15000)\n",
    "\n",
    "print(ana_taxes)\n",
    "print(bob_taxes)"
   ]
  },
  {
   "cell_type": "markdown",
   "id": "7a3329a9",
   "metadata": {
    "papermill": {
     "duration": 0.006657,
     "end_time": "2022-08-30T17:41:31.800062",
     "exception": false,
     "start_time": "2022-08-30T17:41:31.793405",
     "status": "completed"
    },
    "tags": []
   },
   "source": [
    "在不同的情况下，我们调用`get_taxes()`函数并使用返回的值来设置变量的值。\n",
    "\n",
    "- 对于`ana_taxes`，我们计算一个收入为9000的人所需缴纳的税款。在这个例子中，我们调用`get_taxes()`函数，将`earnings`设置为`9000`。因此，`earnings < 12000`的值为`True`， `tax_owe `的值为`。25 * 9000 `。然后我们返回`tax_owe `的值。\n",
    "\n",
    "- 对于`bob_taxes`，我们计算一个收入为1.5万的人所需缴纳的税款。在这个例子中，我们调用`get_taxes()`函数，将`earnings`设置为`15000`。因此，`earnings < 12000`的值为`False`， `tax_owe `的值为`。30 * 15000 `。然后我们返回`tax_owe `的值。\n",
    "\n",
    "在我们继续看下一个例子之前——还记得课程介绍中的`add_three_or_eight()`函数吗?它接受一个数字作为输入，如果输入小于10，则加3，否则加8。你能想出如何编写这个函数吗?一旦你有了答案，可以将你的代码和下面的参考代码作比较。"
   ]
  },
  {
   "cell_type": "code",
   "execution_count": null,
   "id": "56e1825d",
   "metadata": {
    "_kg_hide-input": true,
    "execution": {
     "iopub.execute_input": "2022-08-30T17:41:31.814997Z",
     "iopub.status.busy": "2022-08-30T17:41:31.814601Z",
     "iopub.status.idle": "2022-08-30T17:41:31.819164Z",
     "shell.execute_reply": "2022-08-30T17:41:31.818098Z"
    },
    "papermill": {
     "duration": 0.014194,
     "end_time": "2022-08-30T17:41:31.820818",
     "exception": false,
     "start_time": "2022-08-30T17:41:31.806624",
     "status": "completed"
    },
    "tags": []
   },
   "outputs": [],
   "source": [
    "def add_three_or_eight(number):\n",
    "    if number < 10:\n",
    "        result = number + 3\n",
    "    else:\n",
    "        result = number + 8\n",
    "    return result"
   ]
  },
  {
   "cell_type": "markdown",
   "id": "e3c473eb",
   "metadata": {
    "papermill": {
     "duration": 0.006755,
     "end_time": "2022-08-30T17:41:31.834602",
     "exception": false,
     "start_time": "2022-08-30T17:41:31.827847",
     "status": "completed"
    },
    "tags": []
   },
   "source": [
    "# 示例 - 多条\"elif\"语句\n",
    "\n",
    "到目前为止，我们只在函数中见过一次“elif”。但是使用“elif”语句的数量没有限制。例如，下一个代码块根据体重(公斤)计算给孩子的药物剂量(毫升)。\n",
    "\n",
    "注:此功能不应作为医嘱使用，只是根据实验需要虚构的例子。"
   ]
  },
  {
   "cell_type": "code",
   "execution_count": null,
   "id": "022df8c6",
   "metadata": {
    "execution": {
     "iopub.execute_input": "2022-08-30T17:41:31.852116Z",
     "iopub.status.busy": "2022-08-30T17:41:31.851507Z",
     "iopub.status.idle": "2022-08-30T17:41:31.856756Z",
     "shell.execute_reply": "2022-08-30T17:41:31.855666Z"
    },
    "papermill": {
     "duration": 0.015779,
     "end_time": "2022-08-30T17:41:31.858977",
     "exception": false,
     "start_time": "2022-08-30T17:41:31.843198",
     "status": "completed"
    },
    "tags": []
   },
   "outputs": [],
   "source": [
    "def get_dose(weight):\n",
    "    # 体重低于5.2kg及以下者为1.25 ml\n",
    "    if weight < 5.2:\n",
    "        dose = 1.25\n",
    "    elif weight < 7.9:\n",
    "        dose = 2.5\n",
    "    elif weight < 10.4:\n",
    "        dose = 3.75\n",
    "    elif weight < 15.9:\n",
    "        dose = 5\n",
    "    elif weight < 21.2:\n",
    "        dose = 7.5\n",
    "    # 体重高于21.2 kg及以上者为10ml\n",
    "    else:\n",
    "        dose = 10\n",
    "    return dose"
   ]
  },
  {
   "cell_type": "markdown",
   "id": "f7f82949",
   "metadata": {
    "papermill": {
     "duration": 0.006558,
     "end_time": "2022-08-30T17:41:31.872728",
     "exception": false,
     "start_time": "2022-08-30T17:41:31.866170",
     "status": "completed"
    },
    "tags": []
   },
   "source": [
    "下一个码元格运行这个函数。确保输出对你来说是有意义的!\n",
    "\n",
    "- 在这个例子中，` if `语句为`False`，所有的` elif `语句都计算为`False`，直到我们得到`weight < 15.9`，也就是`True`，则`dose`被设置为5。\n",
    "\n",
    "- 一旦“elif”语句求值为`True`并运行代码块，该函数将跳过所有剩余的“elif”和“else”语句。跳过这些不符合条件的语句之后，剩下的就是return语句，它返回`dose`的值。\n",
    "\n",
    "- `elif`语句的顺序很重要!重新排序这些语句将返回非常不同的结果。"
   ]
  },
  {
   "cell_type": "code",
   "execution_count": null,
   "id": "827db5c4",
   "metadata": {
    "execution": {
     "iopub.execute_input": "2022-08-30T17:41:31.888194Z",
     "iopub.status.busy": "2022-08-30T17:41:31.887633Z",
     "iopub.status.idle": "2022-08-30T17:41:31.892814Z",
     "shell.execute_reply": "2022-08-30T17:41:31.891967Z"
    },
    "papermill": {
     "duration": 0.015109,
     "end_time": "2022-08-30T17:41:31.894601",
     "exception": false,
     "start_time": "2022-08-30T17:41:31.879492",
     "status": "completed"
    },
    "tags": []
   },
   "outputs": [
    {
     "name": "stdout",
     "output_type": "stream",
     "text": [
      "5\n",
      "5\n"
     ]
    }
   ],
   "source": [
    "print(get_dose(12))"
   ]
  },
  {
   "cell_type": "markdown",
   "id": "1a801859",
   "metadata": {
    "papermill": {
     "duration": 0.006578,
     "end_time": "2022-08-30T17:41:31.908659",
     "exception": false,
     "start_time": "2022-08-30T17:41:31.902081",
     "status": "completed"
    },
    "tags": []
   },
   "source": [
    "学习上面的例子后相信你一定有所收获！\n",
    "如果你觉得完成了学习，可以在下面的链接中完成课后练习。\n",
    "\n",
    "# 课后练习\n",
    "\n",
    "使用你所学的知识条件和条件语句完成作业.practice3_conditions-and-conditional-statements.ipynb"
   ]
  },
  {
   "cell_type": "code",
   "execution_count": null,
   "id": "f78e67be",
   "metadata": {},
   "outputs": [],
   "source": []
  }
 ],
 "metadata": {
  "kernelspec": {
   "display_name": "Python 3 (ipykernel)",
   "language": "python",
   "name": "python3"
  },
  "language_info": {
   "codemirror_mode": {
    "name": "ipython",
    "version": 3
   },
   "file_extension": ".py",
   "mimetype": "text/x-python",
   "name": "python",
   "nbconvert_exporter": "python",
   "pygments_lexer": "ipython3",
   "version": "3.9.13"
  },
  "papermill": {
   "default_parameters": {},
   "duration": 8.987323,
   "end_time": "2022-08-30T17:41:32.549328",
   "environment_variables": {},
   "exception": null,
   "input_path": "__notebook__.ipynb",
   "output_path": "__notebook__.ipynb",
   "parameters": {},
   "start_time": "2022-08-30T17:41:23.562005",
   "version": "2.3.4"
  }
 },
 "nbformat": 4,
 "nbformat_minor": 5
}
