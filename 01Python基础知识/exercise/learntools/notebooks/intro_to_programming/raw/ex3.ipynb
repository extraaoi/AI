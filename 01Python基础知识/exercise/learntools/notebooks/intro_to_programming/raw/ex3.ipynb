{
 "cells": [
  {
   "cell_type": "markdown",
   "metadata": {
    "papermill": {
     "duration": 0.024307,
     "end_time": "2022-02-15T23:56:51.875254",
     "exception": false,
     "start_time": "2022-02-15T23:56:51.850947",
     "status": "completed"
    },
    "tags": []
   },
   "source": [
    "In the tutorial, you learned about four different data types: floats, integers, strings, and booleans.  In this exercise, you'll experiment with them.\n",
    "\n",
    "# Set up the notebook\n",
    "\n",
    "Run the next code cell without changes to set up the notebook."
   ]
  },
  {
   "cell_type": "code",
   "execution_count": null,
   "metadata": {
    "execution": {
     "iopub.execute_input": "2022-02-15T23:56:51.927593Z",
     "iopub.status.busy": "2022-02-15T23:56:51.926290Z",
     "iopub.status.idle": "2022-02-15T23:56:51.939207Z",
     "shell.execute_reply": "2022-02-15T23:56:51.939841Z",
     "shell.execute_reply.started": "2022-02-03T22:09:44.861849Z"
    },
    "papermill": {
     "duration": 0.041266,
     "end_time": "2022-02-15T23:56:51.940173",
     "exception": false,
     "start_time": "2022-02-15T23:56:51.898907",
     "status": "completed"
    },
    "tags": []
   },
   "outputs": [],
   "source": [
    "# Set up the exercise\n",
    "from learntools.core import binder\n",
    "binder.bind(globals())\n",
    "from learntools.intro_to_programming.ex3 import *\n",
    "print('Setup complete.')"
   ]
  },
  {
   "cell_type": "markdown",
   "metadata": {
    "papermill": {
     "duration": 0.024941,
     "end_time": "2022-02-15T23:56:51.990804",
     "exception": false,
     "start_time": "2022-02-15T23:56:51.965863",
     "status": "completed"
    },
    "tags": []
   },
   "source": [
    "# Question 1\n",
    "\n",
    "You have seen how to convert a float to an integer with the `int` function.  Try this out yourself by running the code cell below."
   ]
  },
  {
   "cell_type": "code",
   "execution_count": null,
   "metadata": {
    "execution": {
     "iopub.execute_input": "2022-02-15T23:56:52.042953Z",
     "iopub.status.busy": "2022-02-15T23:56:52.041922Z",
     "iopub.status.idle": "2022-02-15T23:56:52.050442Z",
     "shell.execute_reply": "2022-02-15T23:56:52.049852Z",
     "shell.execute_reply.started": "2022-02-03T22:16:24.931367Z"
    },
    "papermill": {
     "duration": 0.036351,
     "end_time": "2022-02-15T23:56:52.050571",
     "exception": false,
     "start_time": "2022-02-15T23:56:52.014220",
     "status": "completed"
    },
    "tags": []
   },
   "outputs": [],
   "source": [
    "# Define a float\n",
    "y = 1.\n",
    "print(y)\n",
    "print(type(y))\n",
    "\n",
    "# Convert float to integer with the int function\n",
    "z = int(y)\n",
    "print(z)\n",
    "print(type(z))"
   ]
  },
  {
   "cell_type": "markdown",
   "metadata": {
    "papermill": {
     "duration": 0.015746,
     "end_time": "2022-02-15T23:56:52.082635",
     "exception": false,
     "start_time": "2022-02-15T23:56:52.066889",
     "status": "completed"
    },
    "tags": []
   },
   "source": [
    "In this case, the float you are using has no numbers after the decimal.  \n",
    "- But what happens when you try to convert a float with a fractional part to an integer?  \n",
    "- How does the outcome of the `int` function change for positive and negative numbers?\n",
    "\n",
    "Use the next code cell to investigate and answer these questions.  Feel free to add or remove any lines of code -- it is your workspace!"
   ]
  },
  {
   "cell_type": "code",
   "execution_count": null,
   "metadata": {
    "execution": {
     "iopub.execute_input": "2022-02-15T23:56:52.118225Z",
     "iopub.status.busy": "2022-02-15T23:56:52.117674Z",
     "iopub.status.idle": "2022-02-15T23:56:52.120471Z",
     "shell.execute_reply": "2022-02-15T23:56:52.121010Z",
     "shell.execute_reply.started": "2022-02-03T22:22:45.029379Z"
    },
    "papermill": {
     "duration": 0.023189,
     "end_time": "2022-02-15T23:56:52.121169",
     "exception": false,
     "start_time": "2022-02-15T23:56:52.097980",
     "status": "completed"
    },
    "tags": []
   },
   "outputs": [],
   "source": [
    "# Uncomment and run this code to get started!\n",
    "#print(int(1.2321))\n",
    "#print(int(1.747))\n",
    "#print(int(-3.94535))\n",
    "#print(int(-2.19774))"
   ]
  },
  {
   "cell_type": "markdown",
   "metadata": {
    "papermill": {
     "duration": 0.015044,
     "end_time": "2022-02-15T23:56:52.153268",
     "exception": false,
     "start_time": "2022-02-15T23:56:52.138224",
     "status": "completed"
    },
    "tags": []
   },
   "source": [
    "Once you have an answer, run the code cell below to see the solution.  Viewing the solution will give you credit for answering the problem."
   ]
  },
  {
   "cell_type": "code",
   "execution_count": null,
   "metadata": {
    "execution": {
     "iopub.execute_input": "2022-02-15T23:56:52.188723Z",
     "iopub.status.busy": "2022-02-15T23:56:52.188047Z",
     "iopub.status.idle": "2022-02-15T23:56:52.189984Z",
     "shell.execute_reply": "2022-02-15T23:56:52.190492Z",
     "shell.execute_reply.started": "2022-02-03T22:29:05.513044Z"
    },
    "papermill": {
     "duration": 0.022309,
     "end_time": "2022-02-15T23:56:52.190680",
     "exception": false,
     "start_time": "2022-02-15T23:56:52.168371",
     "status": "completed"
    },
    "tags": []
   },
   "outputs": [],
   "source": [
    "# Check your answer (Run this code cell to receive credit!)\n",
    "q1.check()"
   ]
  },
  {
   "cell_type": "markdown",
   "metadata": {
    "papermill": {
     "duration": 0.015624,
     "end_time": "2022-02-15T23:56:52.222102",
     "exception": false,
     "start_time": "2022-02-15T23:56:52.206478",
     "status": "completed"
    },
    "tags": []
   },
   "source": [
    "# Question 2\n",
    "\n",
    "In the tutorial, you learned about booleans (which can take a value of `True` or `False`), in addition to integers, floats, and strings.  For this question, your goal is to determine what happens when you multiply a boolean by any of these data types.  Specifically, \n",
    "- What happens when you multiply an integer or float by `True`?  What happens when you multiply them by `False`?  How does the answer change if the numbers are positive or negative?\n",
    "- What happens when you multiply a string by `True`?  By `False`?\n",
    "\n",
    "Use the next code cell for your investigation. "
   ]
  },
  {
   "cell_type": "code",
   "execution_count": null,
   "metadata": {
    "execution": {
     "iopub.execute_input": "2022-02-15T23:56:52.258128Z",
     "iopub.status.busy": "2022-02-15T23:56:52.256537Z",
     "iopub.status.idle": "2022-02-15T23:56:52.262930Z",
     "shell.execute_reply": "2022-02-15T23:56:52.263951Z",
     "shell.execute_reply.started": "2022-02-07T14:49:29.48822Z"
    },
    "papermill": {
     "duration": 0.026529,
     "end_time": "2022-02-15T23:56:52.264360",
     "exception": false,
     "start_time": "2022-02-15T23:56:52.237831",
     "status": "completed"
    },
    "tags": []
   },
   "outputs": [],
   "source": [
    "# Uncomment and run this code to get started!\n",
    "print(3 * True)\n",
    "print(-3.1 * True)\n",
    "print(type(\"abc\" * False))\n",
    "print(len(\"abc\" * False))"
   ]
  },
  {
   "cell_type": "markdown",
   "metadata": {
    "papermill": {
     "duration": 0.024547,
     "end_time": "2022-02-15T23:56:52.314813",
     "exception": false,
     "start_time": "2022-02-15T23:56:52.290266",
     "status": "completed"
    },
    "tags": []
   },
   "source": [
    "Once you have an answer, run the code cell below to see the solution.  Viewing the solution will give you credit for answering the problem."
   ]
  },
  {
   "cell_type": "code",
   "execution_count": null,
   "metadata": {
    "execution": {
     "iopub.execute_input": "2022-02-15T23:56:52.369021Z",
     "iopub.status.busy": "2022-02-15T23:56:52.367407Z",
     "iopub.status.idle": "2022-02-15T23:56:52.372618Z",
     "shell.execute_reply": "2022-02-15T23:56:52.371819Z"
    },
    "papermill": {
     "duration": 0.033338,
     "end_time": "2022-02-15T23:56:52.372842",
     "exception": false,
     "start_time": "2022-02-15T23:56:52.339504",
     "status": "completed"
    },
    "tags": []
   },
   "outputs": [],
   "source": [
    "# Check your answer (Run this code cell to receive credit!)\n",
    "q2.check()"
   ]
  },
  {
   "cell_type": "markdown",
   "metadata": {
    "papermill": {
     "duration": 0.024657,
     "end_time": "2022-02-15T23:56:52.423541",
     "exception": false,
     "start_time": "2022-02-15T23:56:52.398884",
     "status": "completed"
    },
    "tags": []
   },
   "source": [
    "# Question 3\n",
    "\n",
    "In this question, you will build off your work from the previous exercise to write a function that estimates the value of a house.\n",
    "\n",
    "Use the next code cell to create a function `get_expected_cost` that takes as input three variables:\n",
    "- `beds` - number of bedrooms (data type float)\n",
    "- `baths` - number of bathrooms (data type float)\n",
    "- `has_basement` - whether or not the house has a basement (data type boolean)\n",
    "\n",
    "It should return the expected cost of a house with those characteristics. Assume that:\n",
    "- the expected cost for a house with 0 bedrooms and 0 bathrooms, and no basement is 80000, \n",
    "- each bedroom adds 30000 to the expected cost,\n",
    "- each bathroom adds 10000 to the expected cost, and\n",
    "- a basement adds 40000 to the expected cost.\n",
    "\n",
    "For instance,\n",
    "- a house with 1 bedroom, 1 bathroom, and no basement has an expected cost of 80000 + 30000 + 10000 = 120000.  This value will be calculated with `get_expected_cost(1, 1, False)`.\n",
    "- a house with 2 bedrooms, 1 bathroom, and a basement has an expected cost of 80000 + 2*30000 + 10000 + 40000 = 190000.  This value will be calculated with `get_expected_cost(2, 1, True)`.\n",
    "\n",
    "Remember you can always get a hint by uncommenting `q3.hint()` in the code cell following the next!"
   ]
  },
  {
   "cell_type": "code",
   "execution_count": null,
   "metadata": {
    "execution": {
     "iopub.execute_input": "2022-02-15T23:56:52.478801Z",
     "iopub.status.busy": "2022-02-15T23:56:52.476309Z",
     "iopub.status.idle": "2022-02-15T23:56:52.480428Z",
     "shell.execute_reply": "2022-02-15T23:56:52.481088Z",
     "shell.execute_reply.started": "2022-02-03T22:52:03.974262Z"
    },
    "papermill": {
     "duration": 0.033124,
     "end_time": "2022-02-15T23:56:52.481290",
     "exception": false,
     "start_time": "2022-02-15T23:56:52.448166",
     "status": "completed"
    },
    "tags": []
   },
   "outputs": [],
   "source": [
    "# TODO: Complete the function\n",
    "def get_expected_cost(beds, baths, has_basement):\n",
    "    value = ____\n",
    "    return value\n",
    "\n",
    "# Check your answer \n",
    "q3.check()"
   ]
  },
  {
   "cell_type": "code",
   "execution_count": null,
   "metadata": {},
   "outputs": [],
   "source": [
    "#%%RM_IF(PROD)%%\n",
    "def get_expected_cost(beds, baths, has_basement):\n",
    "    value = 80000 + 30000 * beds + 10000 * baths + 40000 * has_basement\n",
    "    return value\n",
    "\n",
    "q3.assert_check_passed()"
   ]
  },
  {
   "cell_type": "code",
   "execution_count": null,
   "metadata": {
    "execution": {
     "iopub.execute_input": "2022-02-15T23:56:52.536091Z",
     "iopub.status.busy": "2022-02-15T23:56:52.533986Z",
     "iopub.status.idle": "2022-02-15T23:56:52.538793Z",
     "shell.execute_reply": "2022-02-15T23:56:52.538089Z"
    },
    "papermill": {
     "duration": 0.032803,
     "end_time": "2022-02-15T23:56:52.538960",
     "exception": false,
     "start_time": "2022-02-15T23:56:52.506157",
     "status": "completed"
    },
    "tags": []
   },
   "outputs": [],
   "source": [
    "# Uncomment to see a hint\n",
    "#_COMMENT_IF(PROD)_\n",
    "q3.hint()\n",
    "\n",
    "# Uncomment to view the solution\n",
    "#_COMMENT_IF(PROD)_\n",
    "q3.solution()"
   ]
  },
  {
   "cell_type": "markdown",
   "metadata": {
    "papermill": {
     "duration": 0.02506,
     "end_time": "2022-02-15T23:56:52.588859",
     "exception": false,
     "start_time": "2022-02-15T23:56:52.563799",
     "status": "completed"
    },
    "tags": []
   },
   "source": [
    "# Question 4\n",
    "\n",
    "We'll continue our study of boolean arithmetic.  For this question, your task is to provide a description of what happpens when you add booleans. \n",
    "\n",
    "Use the next code cell for your investigation.  Feel free to add or remove any lines of code - use it as your workspace!"
   ]
  },
  {
   "cell_type": "code",
   "execution_count": null,
   "metadata": {
    "execution": {
     "iopub.execute_input": "2022-02-15T23:56:52.645742Z",
     "iopub.status.busy": "2022-02-15T23:56:52.644793Z",
     "iopub.status.idle": "2022-02-15T23:56:52.649131Z",
     "shell.execute_reply": "2022-02-15T23:56:52.648404Z",
     "shell.execute_reply.started": "2022-02-07T14:34:27.967409Z"
    },
    "papermill": {
     "duration": 0.034215,
     "end_time": "2022-02-15T23:56:52.649292",
     "exception": false,
     "start_time": "2022-02-15T23:56:52.615077",
     "status": "completed"
    },
    "tags": []
   },
   "outputs": [],
   "source": [
    "print(False + False)\n",
    "print(True + False)\n",
    "print(False + True)\n",
    "print(True + True)\n",
    "print(False + True + True + True)"
   ]
  },
  {
   "cell_type": "markdown",
   "metadata": {
    "papermill": {
     "duration": 0.025079,
     "end_time": "2022-02-15T23:56:52.700169",
     "exception": false,
     "start_time": "2022-02-15T23:56:52.675090",
     "status": "completed"
    },
    "tags": []
   },
   "source": [
    "Once you have an answer, run the code cell below to see the solution.  Viewing the solution will give you credit for answering the problem."
   ]
  },
  {
   "cell_type": "code",
   "execution_count": null,
   "metadata": {
    "execution": {
     "iopub.execute_input": "2022-02-15T23:56:52.760119Z",
     "iopub.status.busy": "2022-02-15T23:56:52.759322Z",
     "iopub.status.idle": "2022-02-15T23:56:52.761527Z",
     "shell.execute_reply": "2022-02-15T23:56:52.760871Z",
     "shell.execute_reply.started": "2022-02-07T14:31:45.105891Z"
    },
    "papermill": {
     "duration": 0.031532,
     "end_time": "2022-02-15T23:56:52.761705",
     "exception": false,
     "start_time": "2022-02-15T23:56:52.730173",
     "status": "completed"
    },
    "tags": []
   },
   "outputs": [],
   "source": [
    "# Check your answer (Run this code cell to receive credit!)\n",
    "q4.check()"
   ]
  },
  {
   "cell_type": "markdown",
   "metadata": {
    "papermill": {
     "duration": 0.024396,
     "end_time": "2022-02-15T23:56:52.811140",
     "exception": false,
     "start_time": "2022-02-15T23:56:52.786744",
     "status": "completed"
    },
    "tags": []
   },
   "source": [
    "# 🌶️ Question 5\n",
    "\n",
    "You own an online shop where you sell rings with custom engravings.  You offer both gold plated and solid gold rings.\n",
    "- Gold plated rings have a base cost of \\\\$50, and you charge \\\\$7 per engraved unit.  \n",
    "- Solid gold rings have a base cost of \\\\$100, and you charge \\\\$10 per engraved unit.\n",
    "- Spaces and punctuation are counted as engraved units.\n",
    "\n",
    "Write a function `cost_of_project()` that takes two arguments:\n",
    "- `engraving` - a Python string with the text of the engraving\n",
    "- `solid_gold` - a Boolean that indicates whether the ring is solid gold\n",
    "\n",
    "It should return the cost of the project.  This question should be fairly challenging, and you may need a hint."
   ]
  },
  {
   "cell_type": "code",
   "execution_count": null,
   "metadata": {
    "execution": {
     "iopub.execute_input": "2022-02-15T23:56:52.868950Z",
     "iopub.status.busy": "2022-02-15T23:56:52.867881Z",
     "iopub.status.idle": "2022-02-15T23:56:52.870834Z",
     "shell.execute_reply": "2022-02-15T23:56:52.870153Z",
     "shell.execute_reply.started": "2022-02-15T23:31:54.827145Z"
    },
    "papermill": {
     "duration": 0.034931,
     "end_time": "2022-02-15T23:56:52.871015",
     "exception": false,
     "start_time": "2022-02-15T23:56:52.836084",
     "status": "completed"
    },
    "tags": []
   },
   "outputs": [],
   "source": [
    "def cost_of_project(engraving, solid_gold):\n",
    "    cost = ____\n",
    "    return cost\n",
    "\n",
    "# Check your answer\n",
    "q5.check()"
   ]
  },
  {
   "cell_type": "code",
   "execution_count": null,
   "metadata": {},
   "outputs": [],
   "source": [
    "#%%RM_IF(PROD)%%\n",
    "def cost_of_project(engraving, solid_gold):\n",
    "    cost = solid_gold * (100 + 10 * len(engraving)) + (not solid_gold) * (50 + 7 * len(engraving))\n",
    "    return cost\n",
    "\n",
    "q5.assert_check_passed()"
   ]
  },
  {
   "cell_type": "code",
   "execution_count": null,
   "metadata": {
    "execution": {
     "iopub.execute_input": "2022-02-15T23:56:52.927471Z",
     "iopub.status.busy": "2022-02-15T23:56:52.926644Z",
     "iopub.status.idle": "2022-02-15T23:56:52.929009Z",
     "shell.execute_reply": "2022-02-15T23:56:52.928331Z"
    },
    "papermill": {
     "duration": 0.032387,
     "end_time": "2022-02-15T23:56:52.929176",
     "exception": false,
     "start_time": "2022-02-15T23:56:52.896789",
     "status": "completed"
    },
    "tags": []
   },
   "outputs": [],
   "source": [
    "# Uncomment to see a hint\n",
    "#_COMMENT_IF(PROD)_\n",
    "q5.hint()\n",
    "\n",
    "# Uncomment to view the solution\n",
    "#_COMMENT_IF(PROD)_\n",
    "q5.solution()"
   ]
  },
  {
   "cell_type": "markdown",
   "metadata": {
    "papermill": {
     "duration": 0.025442,
     "end_time": "2022-02-15T23:56:52.981178",
     "exception": false,
     "start_time": "2022-02-15T23:56:52.955736",
     "status": "completed"
    },
    "tags": []
   },
   "source": [
    "Run the next code cell to calculate the cost of engraving `Charlie+Denver` on a solid gold ring."
   ]
  },
  {
   "cell_type": "code",
   "execution_count": null,
   "metadata": {
    "execution": {
     "iopub.execute_input": "2022-02-15T23:56:53.038462Z",
     "iopub.status.busy": "2022-02-15T23:56:53.037566Z",
     "iopub.status.idle": "2022-02-15T23:56:53.041150Z",
     "shell.execute_reply": "2022-02-15T23:56:53.040512Z",
     "shell.execute_reply.started": "2022-02-15T23:30:27.426417Z"
    },
    "papermill": {
     "duration": 0.033363,
     "end_time": "2022-02-15T23:56:53.041309",
     "exception": false,
     "start_time": "2022-02-15T23:56:53.007946",
     "status": "completed"
    },
    "tags": []
   },
   "outputs": [],
   "source": [
    "project_one = cost_of_project(\"Charlie+Denver\", True)\n",
    "print(project_one)"
   ]
  },
  {
   "cell_type": "markdown",
   "metadata": {
    "papermill": {
     "duration": 0.025504,
     "end_time": "2022-02-15T23:56:53.093394",
     "exception": false,
     "start_time": "2022-02-15T23:56:53.067890",
     "status": "completed"
    },
    "tags": []
   },
   "source": [
    "Use the next code cell to calculate the cost of engraving `08/10/2000` on a gold plated ring."
   ]
  },
  {
   "cell_type": "code",
   "execution_count": null,
   "metadata": {
    "execution": {
     "iopub.execute_input": "2022-02-15T23:56:53.150257Z",
     "iopub.status.busy": "2022-02-15T23:56:53.149375Z",
     "iopub.status.idle": "2022-02-15T23:56:53.154415Z",
     "shell.execute_reply": "2022-02-15T23:56:53.153758Z",
     "shell.execute_reply.started": "2022-02-15T23:29:10.617644Z"
    },
    "papermill": {
     "duration": 0.03374,
     "end_time": "2022-02-15T23:56:53.154559",
     "exception": false,
     "start_time": "2022-02-15T23:56:53.120819",
     "status": "completed"
    },
    "tags": []
   },
   "outputs": [],
   "source": [
    "project_two = cost_of_project(\"08/10/2000\", False)\n",
    "print(project_two)"
   ]
  },
  {
   "cell_type": "markdown",
   "metadata": {
    "papermill": {
     "duration": 0.016828,
     "end_time": "2022-02-15T23:56:53.189102",
     "exception": false,
     "start_time": "2022-02-15T23:56:53.172274",
     "status": "completed"
    },
    "tags": []
   },
   "source": [
    "# Keep going\n",
    "\n",
    "Continue to the next lesson to **[learn about conditions and conditional statements](#$NEXT_NOTEBOOK_URL$)**."
   ]
  }
 ],
 "metadata": {
  "kernelspec": {
   "display_name": "Python 3",
   "language": "python",
   "name": "python3"
  },
  "language_info": {
   "codemirror_mode": {
    "name": "ipython",
    "version": 3
   },
   "file_extension": ".py",
   "mimetype": "text/x-python",
   "name": "python",
   "nbconvert_exporter": "python",
   "pygments_lexer": "ipython3",
   "version": "3.6.5"
  },
  "papermill": {
   "default_parameters": {},
   "duration": 15.996115,
   "end_time": "2022-02-15T23:56:55.998786",
   "environment_variables": {},
   "exception": null,
   "input_path": "__notebook__.ipynb",
   "output_path": "__notebook__.ipynb",
   "parameters": {},
   "start_time": "2022-02-15T23:56:40.002671",
   "version": "2.3.3"
  }
 },
 "nbformat": 4,
 "nbformat_minor": 5
}
