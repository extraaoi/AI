{
 "cells": [
  {
   "cell_type": "markdown",
   "metadata": {},
   "source": [
    "In the tutorial, you learned about conditions and conditional statements. In this exercise, you will use what you learned to answer several questions.\n",
    "\n",
    "# Set up the notebook\n",
    "\n",
    "Run the next code cell without changes to set up the notebook."
   ]
  },
  {
   "cell_type": "code",
   "execution_count": null,
   "metadata": {
    "execution": {
     "iopub.execute_input": "2022-03-04T20:34:33.008955Z",
     "iopub.status.busy": "2022-03-04T20:34:33.008212Z",
     "iopub.status.idle": "2022-03-04T20:34:33.039554Z",
     "shell.execute_reply": "2022-03-04T20:34:33.039006Z",
     "shell.execute_reply.started": "2022-03-04T20:34:33.008832Z"
    }
   },
   "outputs": [],
   "source": [
    "from learntools.core import binder\n",
    "binder.bind(globals())\n",
    "from learntools.intro_to_programming.ex4 import *\n",
    "print('Setup complete.')"
   ]
  },
  {
   "cell_type": "markdown",
   "metadata": {},
   "source": [
    "# Introduction\n",
    "\n",
    "In Mexico, foods and beverages that are high in saturated fat, trans fat, sugar, sodium, and/or calories appear with warning labels that are designed to help consumers make healthy food choices.\n",
    "\n",
    "<center><img src=\"https://i.imgur.com/VXYKHnM.png\" alt=\"drawing\" width=\"500\"/></center>\n",
    "\n",
    "For instance, the [box of cookies](https://world.openfoodfacts.org/product/7501000673209/florentinas-gamesa) in the image above appears with two labels (in the upper right corner):\n",
    "- EXCESO CALORÍAS (in English, EXCESS CALORIES)\n",
    "- EXCESO AZÚCARES (in English, EXCESS SUGAR)\n",
    "\n",
    "# Example: Saturated Fat\n",
    "\n",
    "In this exercise, we'll write functions to determine whether or not foods should have warning labels, beginning with the “EXCESO GRASAS SATURADAS / EXCESS SATURATED FAT” label.\n",
    "\n",
    "A product is labeled as having “EXCESO GRASAS SATURADAS / EXCESS SATURATED FAT” if the product’s saturated fat content is 10% or more of the total calories.  \n",
    "\n",
    "The `excess_saturated_fat()` function below takes two arguments:\n",
    "- `saturated_fat_g` = grams of saturated fat in one serving\n",
    "- `calories_per_serving` = calories in one serving\n",
    "\n",
    "It returns:\n",
    "- `True` if the percentage of calories from saturated fat is at least 10%, and\n",
    "- `False` otherwise.\n",
    "\n",
    "For all foods and drinks, there are approximately 9 calories per gram of fat.  In the calcuation below, we use this approximation to calculate the number of calories from saturated fat in one serving of a food product."
   ]
  },
  {
   "cell_type": "code",
   "execution_count": null,
   "metadata": {
    "execution": {
     "iopub.execute_input": "2022-03-04T20:34:33.041806Z",
     "iopub.status.busy": "2022-03-04T20:34:33.041354Z",
     "iopub.status.idle": "2022-03-04T20:34:33.046378Z",
     "shell.execute_reply": "2022-03-04T20:34:33.045486Z",
     "shell.execute_reply.started": "2022-03-04T20:34:33.041765Z"
    }
   },
   "outputs": [],
   "source": [
    "def excess_saturated_fat(saturated_fat_g, calories_per_serving):\n",
    "    return (saturated_fat_g * 9 / calories_per_serving >= .1)"
   ]
  },
  {
   "cell_type": "markdown",
   "metadata": {},
   "source": [
    "Let's take a closer look at this function by calling it with a few example foods.  Consider:\n",
    "- a food product where each serving is 300 calories and has 2 grams of saturated fat.  Then since `2 * 9 / 300 = 0.06`, which is less than 10%, and the `excess_saturated_fat()` function returns `False`.  The product does not have the label.\n",
    "- a food product where each serving is 400 calories and has 5 grams of saturated fat.  Then since `5 * 9 / 400 = 0.1125`, which is greater than 10%, and the `excess_saturated_fat()` function returns `True`.  The product has the label.\n",
    "\n",
    "Check this for yourself by running the code cell below."
   ]
  },
  {
   "cell_type": "code",
   "execution_count": null,
   "metadata": {
    "execution": {
     "iopub.execute_input": "2022-03-04T20:34:33.048349Z",
     "iopub.status.busy": "2022-03-04T20:34:33.04762Z",
     "iopub.status.idle": "2022-03-04T20:34:33.058924Z",
     "shell.execute_reply": "2022-03-04T20:34:33.0581Z",
     "shell.execute_reply.started": "2022-03-04T20:34:33.048305Z"
    }
   },
   "outputs": [],
   "source": [
    "# Returns False: each serving with 300 calories and 2 grams of saturated fat\n",
    "print(excess_saturated_fat(2, 300))\n",
    "# Returns True: each serving with 400 calories and 5 grams of saturated fat\n",
    "print(excess_saturated_fat(5, 400))"
   ]
  },
  {
   "cell_type": "markdown",
   "metadata": {},
   "source": [
    "Next, you'll define similar functions to decide whether a label should be added to a food or beverage product.\n",
    "\n",
    "# Question 1\n",
    "\n",
    "A product is labeled as having \"EXCESO GRASAS TRANS / EXCESS TRANS FAT\" if the product's trans fat content is 1% or more of the total calories. \n",
    "\n",
    "Write a function `excess_trans_fat()` that takes two arguments:\n",
    "- `trans_fat_g` = grams of trans fat in one serving\n",
    "- `calories_per_serving` = calories in one serving\n",
    "\n",
    "It returns:\n",
    "- `True` if the percentage of calories from trans fat is at least 1%, and\n",
    "- `False` otherwise.\n",
    "\n",
    "To write the function, you will need to use the fact that there are approximately 9 calories per 1 gram of fat."
   ]
  },
  {
   "cell_type": "code",
   "execution_count": null,
   "metadata": {
    "execution": {
     "iopub.execute_input": "2022-03-04T20:34:33.071427Z",
     "iopub.status.busy": "2022-03-04T20:34:33.070925Z",
     "iopub.status.idle": "2022-03-04T20:34:33.080441Z",
     "shell.execute_reply": "2022-03-04T20:34:33.079501Z",
     "shell.execute_reply.started": "2022-03-04T20:34:33.071383Z"
    }
   },
   "outputs": [],
   "source": [
    "def excess_trans_fat(trans_fat_g, calories_per_serving):\n",
    "    return ____ \n",
    "\n",
    "# Check your answer\n",
    "q1.check()"
   ]
  },
  {
   "cell_type": "code",
   "execution_count": null,
   "metadata": {},
   "outputs": [],
   "source": [
    "#%%RM_IF(PROD)%%\n",
    "def excess_trans_fat(trans_fat_g, calories_per_serving):\n",
    "    return (trans_fat_g * 9 / calories_per_serving >= .01) \n",
    "\n",
    "q1.assert_check_passed()"
   ]
  },
  {
   "cell_type": "code",
   "execution_count": null,
   "metadata": {
    "execution": {
     "iopub.execute_input": "2022-03-04T20:34:33.082422Z",
     "iopub.status.busy": "2022-03-04T20:34:33.081561Z",
     "iopub.status.idle": "2022-03-04T20:34:33.090585Z",
     "shell.execute_reply": "2022-03-04T20:34:33.089714Z",
     "shell.execute_reply.started": "2022-03-04T20:34:33.082378Z"
    }
   },
   "outputs": [],
   "source": [
    "# Uncomment to see a hint\n",
    "#_COMMENT_IF(PROD)_\n",
    "q1.hint()\n",
    "\n",
    "# Uncomment to see the solution\n",
    "#_COMMENT_IF(PROD)_\n",
    "q1.solution()"
   ]
  },
  {
   "cell_type": "markdown",
   "metadata": {},
   "source": [
    "# Question 2\n",
    "\n",
    "A product is labeled as having \"EXCESO AZÚCARES / EXCESS SUGAR\" if its sugar content is 10% or more of the total calories.\n",
    "\n",
    "Write a function `excess_sugar()` that takes two arguments:\n",
    "- `sugars_g` = grams of sugar in one serving\n",
    "- `calories_per_serving` = calories in one serving\n",
    "\n",
    "It should return:\n",
    "- `True` if the percentage of calories from sugar is at least 10%, and\n",
    "- `False` otherwise.\n",
    "\n",
    "To write the function, you will need to use the fact that there are approximately 4 calories per 1 gram of sugar."
   ]
  },
  {
   "cell_type": "code",
   "execution_count": null,
   "metadata": {
    "execution": {
     "iopub.execute_input": "2022-03-04T20:34:33.092101Z",
     "iopub.status.busy": "2022-03-04T20:34:33.091745Z",
     "iopub.status.idle": "2022-03-04T20:34:33.101817Z",
     "shell.execute_reply": "2022-03-04T20:34:33.100994Z",
     "shell.execute_reply.started": "2022-03-04T20:34:33.092066Z"
    }
   },
   "outputs": [],
   "source": [
    "def excess_sugar(sugars_g, calories_per_serving):\n",
    "    return ____\n",
    "\n",
    "# Check your answer\n",
    "q2.check()"
   ]
  },
  {
   "cell_type": "code",
   "execution_count": null,
   "metadata": {},
   "outputs": [],
   "source": [
    "#%%RM_IF(PROD)%%\n",
    "def excess_sugar(sugars_g, calories_per_serving):\n",
    "    return (sugars_g * 4 / calories_per_serving >= .1)\n",
    "\n",
    "q2.assert_check_passed()"
   ]
  },
  {
   "cell_type": "code",
   "execution_count": null,
   "metadata": {
    "execution": {
     "iopub.execute_input": "2022-03-04T20:34:33.103212Z",
     "iopub.status.busy": "2022-03-04T20:34:33.102859Z",
     "iopub.status.idle": "2022-03-04T20:34:33.113856Z",
     "shell.execute_reply": "2022-03-04T20:34:33.113164Z",
     "shell.execute_reply.started": "2022-03-04T20:34:33.103179Z"
    }
   },
   "outputs": [],
   "source": [
    "# Uncomment to see a hint\n",
    "#_COMMENT_IF(PROD)_\n",
    "q2.hint()\n",
    "\n",
    "# Uncomment to see the solution\n",
    "#_COMMENT_IF(PROD)_\n",
    "q2.solution()"
   ]
  },
  {
   "cell_type": "markdown",
   "metadata": {},
   "source": [
    "Note that 4 calories per gram of sugar is just an estimate.  As another example, consider [Coca-Cola](https://world.openfoodfacts.org/product/8888002076009/coke-coca-cola) soda, which has\n",
    "- 33.9 grams of sugar per serving, and\n",
    "- 134 calories per serving.\n",
    "\n",
    "If you calculate the percentage of calories from sugar as (4 * 33.9) / 134, you get 1.012 or 101.2%!  It is impossible for the number of calories to be greater than 100%, so you might think that an error was made here.  The issue is that 4 calories/gram is just an estimate and the accuracy varies with the type of sugar.  While the Coca-Cola estimate is close to the real value (many sodas have 100% calories from sugar), it is not perfect."
   ]
  },
  {
   "cell_type": "markdown",
   "metadata": {},
   "source": [
    "# Question 3\n",
    "\n",
    "We will label a product as having \"EXCESO SODIO / EXCESS SODIUM\" if it has:\n",
    "- (for beverages and packaged foods) 1 milligram (mg) or more of sodium per calorie \n",
    "- (for non-caloric beverages) 45 mg or more of sodium. \n",
    "\n",
    "(Note that this rule is a slightly simplified version of how foods are actually labeled.)\n",
    "\n",
    "Write a function `excess_sodium()` that takes two arguments:\n",
    "- `calories_per_serving` = calories in one serving\n",
    "- `sodium_mg` = mg of sodium in one serving\n",
    "\n",
    "It should return:\n",
    "- `True` if the product should be labeled as having excess sodium, and\n",
    "- `False` otherwise."
   ]
  },
  {
   "cell_type": "code",
   "execution_count": null,
   "metadata": {
    "execution": {
     "iopub.execute_input": "2022-03-04T20:34:33.115633Z",
     "iopub.status.busy": "2022-03-04T20:34:33.115229Z",
     "iopub.status.idle": "2022-03-04T20:34:33.123557Z",
     "shell.execute_reply": "2022-03-04T20:34:33.122848Z",
     "shell.execute_reply.started": "2022-03-04T20:34:33.115602Z"
    }
   },
   "outputs": [],
   "source": [
    "def excess_sodium(calories_per_serving, sodium_mg):\n",
    "    if ____:\n",
    "        return ____\n",
    "    else:\n",
    "        return ____\n",
    "    \n",
    "# Check your answer\n",
    "q3.check()"
   ]
  },
  {
   "cell_type": "code",
   "execution_count": null,
   "metadata": {},
   "outputs": [],
   "source": [
    "#%%RM_IF(PROD)%%\n",
    "def excess_sodium(calories_per_serving, sodium_mg):\n",
    "    if calories_per_serving == 0:\n",
    "        return (sodium_mg >= 45)\n",
    "    else:\n",
    "        return (sodium_mg / calories_per_serving >= 1)\n",
    "    \n",
    "q3.assert_check_passed()"
   ]
  },
  {
   "cell_type": "code",
   "execution_count": null,
   "metadata": {
    "execution": {
     "iopub.execute_input": "2022-03-04T20:34:33.125369Z",
     "iopub.status.busy": "2022-03-04T20:34:33.124607Z",
     "iopub.status.idle": "2022-03-04T20:34:33.13636Z",
     "shell.execute_reply": "2022-03-04T20:34:33.135556Z",
     "shell.execute_reply.started": "2022-03-04T20:34:33.125336Z"
    }
   },
   "outputs": [],
   "source": [
    "# Uncomment to see a hint\n",
    "#_COMMENT_IF(PROD)_\n",
    "q3.hint()\n",
    "\n",
    "# Uncomment to see the solution\n",
    "#_COMMENT_IF(PROD)_\n",
    "q3.solution()"
   ]
  },
  {
   "cell_type": "markdown",
   "metadata": {},
   "source": [
    "# Question 4\n",
    "\n",
    "A product is labeled as having \"EXCESO CALORÍAS / EXCESS CALORIES\" if it has:\n",
    "- (for solids) 275 calories or more per 100 g\n",
    "- (for liquids) 70 calories or more per 100 ml \n",
    "\n",
    "The function `excess_sodium()` takes three arguments:\n",
    "- `food_type` = one of `\"solid\"` or `\"liquid\"`\n",
    "- `calories_per_serving` = calories in one serving\n",
    "- `serving_size` = size of one serving (if solid, in grams; if liquid, in milliliters)\n",
    "\n",
    "It returns:\n",
    "- `True` if the product should be labeled as having excess calories, and\n",
    "- `False` otherwise.\n",
    "\n",
    "Run the next code cell without changes to define this function."
   ]
  },
  {
   "cell_type": "code",
   "execution_count": null,
   "metadata": {},
   "outputs": [],
   "source": [
    "def excess_calories(food_type, calories_per_serving, serving_size):\n",
    "    if food_type == \"solid\":\n",
    "        return (calories_per_serving / serving_size * 100 >= 275)\n",
    "    elif food_type == \"liquid\":\n",
    "        return (calories_per_serving / serving_size * 100 >= 70)\n",
    "    else:\n",
    "        raise ValueError(\"food_type must be 'solid' or 'liquid'\")"
   ]
  },
  {
   "cell_type": "markdown",
   "metadata": {},
   "source": [
    "The code line `raise ValueError(\"food_type must be 'solid' or 'liquid'\")` is likely unfamiliar to you.  Use the next code cell to figure out what it does."
   ]
  },
  {
   "cell_type": "code",
   "execution_count": null,
   "metadata": {},
   "outputs": [],
   "source": [
    "# To answer the question, feel free to use these lines of code, or write your own!\n",
    "#excess_calories(\"solid\", 68, 21)\n",
    "#excess_calories(\"liquid\", 68, 21)\n",
    "#excess_calories(\"gas\", 68, 21)\n",
    "#excess_calories(\"marshmallow\", 68, 21)"
   ]
  },
  {
   "cell_type": "markdown",
   "metadata": {},
   "source": [
    "Once you have an answer for how `raise ValueError(...)` works, run the code cell to see the solution and get credit for answering this problem."
   ]
  },
  {
   "cell_type": "code",
   "execution_count": null,
   "metadata": {},
   "outputs": [],
   "source": [
    "# Check your answer (and get credit for completing the problem)\n",
    "q4.check()"
   ]
  },
  {
   "cell_type": "code",
   "execution_count": null,
   "metadata": {
    "execution": {
     "iopub.execute_input": "2022-03-04T20:34:33.149292Z",
     "iopub.status.busy": "2022-03-04T20:34:33.148904Z",
     "iopub.status.idle": "2022-03-04T20:34:33.15757Z",
     "shell.execute_reply": "2022-03-04T20:34:33.156845Z",
     "shell.execute_reply.started": "2022-03-04T20:34:33.149252Z"
    }
   },
   "outputs": [],
   "source": [
    "# Uncomment to see a hint\n",
    "#_COMMENT_IF(PROD)_\n",
    "q4.hint()"
   ]
  },
  {
   "cell_type": "markdown",
   "metadata": {},
   "source": [
    "# 🌶️ Question 5\n",
    "\n",
    "In this question, you'll put it all together!  The `get_labels()` function uses all of the functions that you have defined so far.  It takes the nutritional details about a food item and prints the needed warning labels.  \n",
    "\n",
    "Run the next code cell without changes."
   ]
  },
  {
   "cell_type": "code",
   "execution_count": null,
   "metadata": {
    "execution": {
     "iopub.execute_input": "2022-03-04T20:34:33.158921Z",
     "iopub.status.busy": "2022-03-04T20:34:33.158584Z",
     "iopub.status.idle": "2022-03-04T20:34:33.170324Z",
     "shell.execute_reply": "2022-03-04T20:34:33.169459Z",
     "shell.execute_reply.started": "2022-03-04T20:34:33.158885Z"
    }
   },
   "outputs": [],
   "source": [
    "def get_labels(food_type, serving_size, calories_per_serving, saturated_fat_g, trans_fat_g, sodium_mg, sugars_g):\n",
    "    # Print messages based on findings\n",
    "    if excess_sugar(sugars_g, calories_per_serving) == True:\n",
    "        print(\"EXCESO AZÚCARES / EXCESS SUGAR\")\n",
    "    if excess_saturated_fat(saturated_fat_g, calories_per_serving) == True:\n",
    "        print(\"EXCESO GRASAS SATURADAS / EXCESS SATURATED FAT\")\n",
    "    if excess_trans_fat(trans_fat_g, calories_per_serving) == True:\n",
    "        print(\"EXCESO GRASAS TRANS / EXCESS TRANS FAT\")\n",
    "    if excess_sodium(calories_per_serving, sodium_mg) == True:\n",
    "        print(\"EXCESO SODIO / EXCESS SODIUM\")\n",
    "    if excess_calories(food_type, calories_per_serving, serving_size) == True:\n",
    "        print(\"EXCESO CALORÍAS / EXCESS CALORIES\")"
   ]
  },
  {
   "cell_type": "markdown",
   "metadata": {},
   "source": [
    "The next code cell demonstrates how to use `get_labels()` to get the warning labels that the food item should contain.  We begin with [bologna](https://world.openfoodfacts.org/product/4099100179378/bologna).  Here is [an image](https://imgur.com/Cfcx72e) with all of the nutritional information.  Note that for this food,\n",
    "- `food_type = \"solid\"` (because bologna is a solid and not a liquid)\n",
    "- `serving_size = 32` (the serving size is 32 grams)\n",
    "- `calories_per_serving = 110` (there are 110 calories per serving)\n",
    "- `saturated_fat_g = 2.5` (there are 2.5 grams of saturated fat per serving)\n",
    "- `trans_fat_g = 0` (there are 0 grams of trans fat per serving)\n",
    "- `sodium_mg = 400` (there are 400 mg of sodium per serving)\n",
    "- `sugars_g = 1` (the nutrition facts say <1g, but we will round it up to 1 gram per serving to be safe)\n",
    "\n",
    "By supplying all of these values to the function, we can print the warning labels."
   ]
  },
  {
   "cell_type": "code",
   "execution_count": null,
   "metadata": {
    "execution": {
     "iopub.execute_input": "2022-03-04T20:34:33.183777Z",
     "iopub.status.busy": "2022-03-04T20:34:33.182839Z",
     "iopub.status.idle": "2022-03-04T20:34:33.192537Z",
     "shell.execute_reply": "2022-03-04T20:34:33.191709Z",
     "shell.execute_reply.started": "2022-03-04T20:34:33.18373Z"
    }
   },
   "outputs": [],
   "source": [
    "# bologna https://world.openfoodfacts.org/product/4099100179378/bologna\n",
    "get_labels(\"solid\", 32, 110, 2.5, 0, 400, 1)"
   ]
  },
  {
   "cell_type": "markdown",
   "metadata": {},
   "source": [
    "This bologna has three labels, printed in the output above.\n",
    "\n",
    "Now it's your turn to determine the labels from more foods.  In the next code cell, fill in the values for [this cereal](https://world.openfoodfacts.org/product/7501008023624/zucaritas-kellogg-s).  Here is [an image](https://imgur.com/a/MUxzHVU) with all of the nutritional information.\n",
    "\n",
    "**Note**: running the line of code below as-is will return an error.  You have to fill in the nutritional values first."
   ]
  },
  {
   "cell_type": "code",
   "execution_count": null,
   "metadata": {
    "execution": {
     "iopub.execute_input": "2022-03-04T20:34:33.172866Z",
     "iopub.status.busy": "2022-03-04T20:34:33.172546Z",
     "iopub.status.idle": "2022-03-04T20:34:33.181281Z",
     "shell.execute_reply": "2022-03-04T20:34:33.180468Z",
     "shell.execute_reply.started": "2022-03-04T20:34:33.172839Z"
    }
   },
   "outputs": [],
   "source": [
    "# zucaritas cereal https://world.openfoodfacts.org/product/7501008023624/zucaritas-kellogg-s\n",
    "# TODO: Uncomment the line below, fill in the values, and run the function\n",
    "#get_labels()"
   ]
  },
  {
   "cell_type": "markdown",
   "metadata": {},
   "source": [
    "Next, try [these mozzarella sticks](https://world-es.openfoodfacts.org/producto/0062325540104/mozzarella-cheese-sticks).  Here is [an image](https://imgur.com/rcdB7VH) with all of the nutritional information."
   ]
  },
  {
   "cell_type": "code",
   "execution_count": null,
   "metadata": {
    "execution": {
     "iopub.execute_input": "2022-03-04T20:34:33.195521Z",
     "iopub.status.busy": "2022-03-04T20:34:33.194973Z",
     "iopub.status.idle": "2022-03-04T20:34:33.202652Z",
     "shell.execute_reply": "2022-03-04T20:34:33.20187Z",
     "shell.execute_reply.started": "2022-03-04T20:34:33.195486Z"
    }
   },
   "outputs": [],
   "source": [
    "# mozzarella sticks https://world-es.openfoodfacts.org/producto/0062325540104/mozzarella-cheese-sticks\n",
    "# TODO: Uncomment the line below, fill in the values, and run the function\n",
    "#get_labels()"
   ]
  },
  {
   "cell_type": "markdown",
   "metadata": {},
   "source": [
    "Next, try [these cookies](https://world.openfoodfacts.org/product/0069700118545/biscuits-au-sucre-pretraches).  Here is [an image](https://imgur.com/2Bc271o) with all of the nutritional information."
   ]
  },
  {
   "cell_type": "code",
   "execution_count": null,
   "metadata": {
    "execution": {
     "iopub.execute_input": "2022-03-04T20:34:33.204198Z",
     "iopub.status.busy": "2022-03-04T20:34:33.203725Z",
     "iopub.status.idle": "2022-03-04T20:34:33.21352Z",
     "shell.execute_reply": "2022-03-04T20:34:33.212498Z",
     "shell.execute_reply.started": "2022-03-04T20:34:33.204154Z"
    }
   },
   "outputs": [],
   "source": [
    "# pillsbury cookies https://world.openfoodfacts.org/product/0069700118545/biscuits-au-sucre-pretraches\n",
    "# TODO: Uncomment the line below, fill in the values, and run the function\n",
    "#get_labels()"
   ]
  },
  {
   "cell_type": "markdown",
   "metadata": {},
   "source": [
    "Finally, try [this soda](https://world-es.openfoodfacts.org/producto/0078000113464/orange-soda-sunkist).  Here is [an image](https://imgur.com/RsBYa8E) with all of the nutritional information."
   ]
  },
  {
   "cell_type": "code",
   "execution_count": null,
   "metadata": {
    "execution": {
     "iopub.execute_input": "2022-03-04T20:34:33.216655Z",
     "iopub.status.busy": "2022-03-04T20:34:33.21632Z",
     "iopub.status.idle": "2022-03-04T20:34:33.223222Z",
     "shell.execute_reply": "2022-03-04T20:34:33.222331Z",
     "shell.execute_reply.started": "2022-03-04T20:34:33.216625Z"
    }
   },
   "outputs": [],
   "source": [
    "# sunkist orange soda https://world-es.openfoodfacts.org/producto/0078000113464/orange-soda-sunkist\n",
    "# TODO: Uncomment the line below, fill in the values, and run the function\n",
    "#get_labels()"
   ]
  },
  {
   "cell_type": "markdown",
   "metadata": {},
   "source": [
    "Once you have finished investigating the food items in this question, run the final code cell to get credit for completing this problem."
   ]
  },
  {
   "cell_type": "code",
   "execution_count": null,
   "metadata": {},
   "outputs": [],
   "source": [
    "# Get credit for completing the problem\n",
    "q5.check()"
   ]
  },
  {
   "cell_type": "markdown",
   "metadata": {},
   "source": [
    "# Keep going\n",
    "\n",
    "Continue to the next lesson to **[learn about Python lists](#$NEXT_NOTEBOOK_URL$)**."
   ]
  }
 ],
 "metadata": {
  "kernelspec": {
   "display_name": "Python 3",
   "language": "python",
   "name": "python3"
  },
  "language_info": {
   "codemirror_mode": {
    "name": "ipython",
    "version": 3
   },
   "file_extension": ".py",
   "mimetype": "text/x-python",
   "name": "python",
   "nbconvert_exporter": "python",
   "pygments_lexer": "ipython3",
   "version": "3.6.12"
  }
 },
 "nbformat": 4,
 "nbformat_minor": 4
}
