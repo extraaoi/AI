{
 "cells": [
  {
   "cell_type": "markdown",
   "metadata": {},
   "source": [
    "# Introduction\n",
    "\n",
    "In this tutorial, you'll learn about two common manipulations for geospatial data: **geocoding** and **table joins**."
   ]
  },
  {
   "cell_type": "code",
   "execution_count": null,
   "metadata": {},
   "outputs": [],
   "source": [
    "#$HIDE$\n",
    "import pandas as pd\n",
    "import geopandas as gpd\n",
    "import numpy as np\n",
    "import folium\n",
    "from folium import Marker\n",
    "import warnings \n",
    "warnings.filterwarnings('ignore')"
   ]
  },
  {
   "cell_type": "markdown",
   "metadata": {},
   "source": [
    "# Geocoding\n",
    "\n",
    "**Geocoding** is the process of converting the name of a place or an address to a location on a map.  If you have ever looked up a geographic location based on a landmark description with [Google Maps](https://www.google.com/maps), [Bing Maps](https://www.bing.com/maps), or [Baidu Maps](https://map.baidu.com/), for instance, then you have used a geocoder!\n",
    "\n",
    "![](https://i.imgur.com/1IrgZQq.png)\n",
    "\n",
    "We'll use geopy to do all of our geocoding."
   ]
  },
  {
   "cell_type": "code",
   "execution_count": null,
   "metadata": {},
   "outputs": [],
   "source": [
    "from geopy.geocoders import Nominatim"
   ]
  },
  {
   "cell_type": "markdown",
   "metadata": {},
   "source": [
    "In the code cell above, [`Nominatim`](https://nominatim.openstreetmap.org/) refers to the geocoding software that will be used to generate locations. \n",
    "\n",
    "We begin by instantiating the geocoder.  Then, we need only apply the name or address as a Python string. (In this case, we supply `\"Pyramid of Khufu\"`, also known as the Great Pyramid of Giza.)\n",
    "\n",
    "If the geocoding is successful, it returns a `geopy.location.Location` object with two important attributes:\n",
    "- the \"point\" attribute contains the (latitude, longitude) location, and\n",
    "- the \"address\" attribute contains the full address."
   ]
  },
  {
   "cell_type": "code",
   "execution_count": null,
   "metadata": {},
   "outputs": [],
   "source": [
    "geolocator = Nominatim(user_agent=\"kaggle_learn\")\n",
    "location = geolocator.geocode(\"Pyramid of Khufu\")\n",
    "\n",
    "print(location.point)\n",
    "print(location.address)"
   ]
  },
  {
   "cell_type": "markdown",
   "metadata": {},
   "source": [
    "The value for the \"point\" attribute is a `geopy.point.Point` object, and we can get the latitude and longitude from the `latitude` and `longitude` attributes, respectively."
   ]
  },
  {
   "cell_type": "code",
   "execution_count": null,
   "metadata": {},
   "outputs": [],
   "source": [
    "point = location.point\n",
    "print(\"Latitude:\", point.latitude)\n",
    "print(\"Longitude:\", point.longitude)"
   ]
  },
  {
   "cell_type": "markdown",
   "metadata": {},
   "source": [
    "It's often the case that we'll need to geocode many different addresses.  For instance, say we want to obtain the locations of 100 top universities in Europe."
   ]
  },
  {
   "cell_type": "code",
   "execution_count": null,
   "metadata": {},
   "outputs": [],
   "source": [
    "universities = pd.read_csv(\"../input/geospatial-learn-course-data/top_universities.csv\")\n",
    "universities.head()"
   ]
  },
  {
   "cell_type": "markdown",
   "metadata": {},
   "source": [
    "Then we can use a lambda function to apply the geocoder to every row in the DataFrame.  (We use a try/except statement to account for the case that the geocoding is unsuccessful.)"
   ]
  },
  {
   "cell_type": "code",
   "execution_count": null,
   "metadata": {},
   "outputs": [],
   "source": [
    "def my_geocoder(row):\n",
    "    try:\n",
    "        point = geolocator.geocode(row).point\n",
    "        return pd.Series({'Latitude': point.latitude, 'Longitude': point.longitude})\n",
    "    except:\n",
    "        return None\n",
    "\n",
    "universities[['Latitude', 'Longitude']] = universities.apply(lambda x: my_geocoder(x['Name']), axis=1)\n",
    "\n",
    "print(\"{}% of addresses were geocoded!\".format(\n",
    "    (1 - sum(np.isnan(universities[\"Latitude\"])) / len(universities)) * 100))\n",
    "\n",
    "# Drop universities that were not successfully geocoded\n",
    "universities = universities.loc[~np.isnan(universities[\"Latitude\"])]\n",
    "universities = gpd.GeoDataFrame(\n",
    "    universities, geometry=gpd.points_from_xy(universities.Longitude, universities.Latitude))\n",
    "universities.crs = {'init': 'epsg:4326'}\n",
    "universities.head()"
   ]
  },
  {
   "cell_type": "markdown",
   "metadata": {},
   "source": [
    "Next, we visualize all of the locations that were returned by the geocoder.  Notice that a few of the locations are certainly inaccurate, as they're not in Europe!"
   ]
  },
  {
   "cell_type": "code",
   "execution_count": null,
   "metadata": {},
   "outputs": [],
   "source": [
    "# Create a map\n",
    "m = folium.Map(location=[54, 15], tiles='openstreetmap', zoom_start=2)\n",
    "\n",
    "# Add points to the map\n",
    "for idx, row in universities.iterrows():\n",
    "    Marker([row['Latitude'], row['Longitude']], popup=row['Name']).add_to(m)\n",
    "\n",
    "# Display the map\n",
    "m"
   ]
  },
  {
   "cell_type": "markdown",
   "metadata": {},
   "source": [
    "# Table joins\n",
    "\n",
    "Now, we'll switch topics and think about how to combine data from different sources.  \n",
    "\n",
    "### Attribute join\n",
    "\n",
    "[You already know](https://www.kaggle.com/residentmario/renaming-and-combining) how to use `pd.DataFrame.join()` to combine information from multiple DataFrames with a shared index.  We refer to this way of joining data (by simpling matching values in the index) as an **attribute join**.\n",
    "\n",
    "When performing an attribute join with a GeoDataFrame, it's best to use the `gpd.GeoDataFrame.merge()`.  To illustrate this, we'll work with a GeoDataFrame `europe_boundaries` containing the boundaries for every country in Europe.  The first five rows of this GeoDataFrame are printed below."
   ]
  },
  {
   "cell_type": "code",
   "execution_count": null,
   "metadata": {},
   "outputs": [],
   "source": [
    "#$HIDE_INPUT$\n",
    "world = gpd.read_file(gpd.datasets.get_path('naturalearth_lowres'))\n",
    "europe = world.loc[world.continent == 'Europe'].reset_index(drop=True)\n",
    "\n",
    "europe_stats = europe[[\"name\", \"pop_est\", \"gdp_md_est\"]]\n",
    "europe_boundaries = europe[[\"name\", \"geometry\"]]"
   ]
  },
  {
   "cell_type": "code",
   "execution_count": null,
   "metadata": {},
   "outputs": [],
   "source": [
    "europe_boundaries.head()"
   ]
  },
  {
   "cell_type": "markdown",
   "metadata": {},
   "source": [
    "We'll join it with a DataFrame `europe_stats` containing the estimated population and gross domestic product (GDP) for each country."
   ]
  },
  {
   "cell_type": "code",
   "execution_count": null,
   "metadata": {},
   "outputs": [],
   "source": [
    "europe_stats.head()"
   ]
  },
  {
   "cell_type": "markdown",
   "metadata": {},
   "source": [
    "We do the attribute join in the code cell below.  The `on` argument is set to the column name that is used to match rows in `europe_boundaries` to rows in `europe_stats`."
   ]
  },
  {
   "cell_type": "code",
   "execution_count": null,
   "metadata": {},
   "outputs": [],
   "source": [
    "# Use an attribute join to merge data about countries in Europe\n",
    "europe = europe_boundaries.merge(europe_stats, on=\"name\")\n",
    "europe.head()"
   ]
  },
  {
   "cell_type": "markdown",
   "metadata": {},
   "source": [
    "### Spatial join\n",
    "\n",
    "Another type of join is a **spatial join**.  With a spatial join, we combine GeoDataFrames based on the spatial relationship between the objects in the \"geometry\" columns.  For instance, we already have a GeoDataFrame `universities` containing geocoded addresses of European universities.  \n",
    "\n",
    "Then we can use a spatial join to match each university to its corresponding country.  We do this with `gpd.sjoin()`."
   ]
  },
  {
   "cell_type": "code",
   "execution_count": null,
   "metadata": {},
   "outputs": [],
   "source": [
    "# Use spatial join to match universities to countries in Europe\n",
    "european_universities = gpd.sjoin(universities, europe)\n",
    "\n",
    "# Investigate the result\n",
    "print(\"We located {} universities.\".format(len(universities)))\n",
    "print(\"Only {} of the universities were located in Europe (in {} different countries).\".format(\n",
    "    len(european_universities), len(european_universities.name.unique())))\n",
    "\n",
    "european_universities.head()"
   ]
  },
  {
   "cell_type": "markdown",
   "metadata": {},
   "source": [
    "The spatial join above looks at the \"geometry\" columns in both GeoDataFrames.  If a Point object from the `universities` GeoDataFrame intersects a Polygon object from the `europe` DataFrame, the corresponding rows are combined and added as a single row of the `european_universities` DataFrame.  Otherwise, countries without a matching university (and universities without a matching country) are omitted from the results.\n",
    "\n",
    "The `gpd.sjoin()` method is customizable for different types of joins, through the `how` and `op` arguments.  For instance, you can do the equivalent of a SQL left (or right) join by setting `how='left'` (or `how='right'`).  We won't go into the details in this course, but you can learn more in [the documentation](https://geopandas.org/en/stable/docs/reference/api/geopandas.sjoin.html).\n",
    "\n",
    "# Your turn\n",
    "\n",
    "**[Use geocoding and table joins](#$NEXT_NOTEBOOK_URL$)** to identify suitable locations for the next Starbucks Reserve Roastery."
   ]
  }
 ],
 "metadata": {
  "kernelspec": {
   "display_name": "Python 3",
   "language": "python",
   "name": "python3"
  },
  "language_info": {
   "codemirror_mode": {
    "name": "ipython",
    "version": 3
   },
   "file_extension": ".py",
   "mimetype": "text/x-python",
   "name": "python",
   "nbconvert_exporter": "python",
   "pygments_lexer": "ipython3",
   "version": "3.6.12"
  }
 },
 "nbformat": 4,
 "nbformat_minor": 2
}
