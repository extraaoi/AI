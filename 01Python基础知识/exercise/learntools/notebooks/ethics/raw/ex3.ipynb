{
 "cells": [
  {
   "cell_type": "markdown",
   "metadata": {
    "papermill": {
     "duration": 0.014195,
     "end_time": "2020-10-30T19:06:15.040067",
     "exception": false,
     "start_time": "2020-10-30T19:06:15.025872",
     "status": "completed"
    },
    "tags": []
   },
   "source": [
    "In the tutorial, you learned about six different types of bias.  In this exercise, you'll train a model with **real data** and get practice with identifying bias.  Don't worry if you're new to coding: you'll still be able to complete the exercise!\n",
    "\n",
    "# Introduction\n",
    "\n",
    "At the end of 2017, the [Civil Comments](https://medium.com/@aja_15265/saying-goodbye-to-civil-comments-41859d3a2b1d) platform shut down and released their ~2 million public comments in a lasting open archive. Jigsaw sponsored this effort and helped to comprehensively annotate the data.  In 2019, Kaggle held the [Jigsaw Unintended Bias in Toxicity Classification](https://www.kaggle.com/c/jigsaw-unintended-bias-in-toxicity-classification/overview) competition so that data scientists worldwide could work together to investigate ways to mitigate bias.\n",
    "\n",
    "The code cell below loads some of the data from the competition.  We'll work with thousands of comments, where each comment is labeled as either \"toxic\" or \"not toxic\".\n",
    "\n",
    "Begin by running the next code cell.  \n",
    "- Clicking inside the code cell.\n",
    "- Click on the triangle (in the shape of a \"Play button\") that appears to the left of the code cell.\n",
    "\n",
    "The code will run for approximately 30 seconds.  When it finishes, you should see as output a message saying that the data was successfully loaded, along with two examples of comments: one is toxic, and the other is not."
   ]
  },
  {
   "cell_type": "code",
   "execution_count": null,
   "metadata": {
    "execution": {
     "iopub.execute_input": "2020-10-30T19:06:15.082181Z",
     "iopub.status.busy": "2020-10-30T19:06:15.081291Z",
     "iopub.status.idle": "2020-10-30T19:06:45.746367Z",
     "shell.execute_reply": "2020-10-30T19:06:45.747005Z"
    },
    "papermill": {
     "duration": 30.692706,
     "end_time": "2020-10-30T19:06:45.747191",
     "exception": false,
     "start_time": "2020-10-30T19:06:15.054485",
     "status": "completed"
    },
    "tags": []
   },
   "outputs": [],
   "source": [
    "# Set up feedback system\n",
    "from learntools.core import binder\n",
    "binder.bind(globals())\n",
    "from learntools.ethics.ex3 import *\n",
    "\n",
    "import numpy as np\n",
    "import pandas as pd\n",
    "from sklearn.model_selection import train_test_split\n",
    "from sklearn.feature_extraction.text import CountVectorizer\n",
    "\n",
    "# Get the same results each time\n",
    "np.random.seed(0)\n",
    "\n",
    "# Load the training data\n",
    "data = pd.read_csv(\"../input/jigsaw-snapshot/data.csv\")\n",
    "comments = data[\"comment_text\"]\n",
    "target = (data[\"target\"]>0.7).astype(int)\n",
    "\n",
    "# Break into training and test sets\n",
    "comments_train, comments_test, y_train, y_test = train_test_split(comments, target, test_size=0.30, stratify=target)\n",
    "\n",
    "# Get vocabulary from training data\n",
    "vectorizer = CountVectorizer()\n",
    "vectorizer.fit(comments_train)\n",
    "\n",
    "# Get word counts for training and test sets\n",
    "X_train = vectorizer.transform(comments_train)\n",
    "X_test = vectorizer.transform(comments_test)\n",
    "\n",
    "# Preview the dataset\n",
    "print(\"Data successfully loaded!\\n\")\n",
    "print(\"Sample toxic comment:\", comments_train.iloc[22])\n",
    "print(\"Sample not-toxic comment:\", comments_train.iloc[17])"
   ]
  },
  {
   "cell_type": "markdown",
   "metadata": {
    "papermill": {
     "duration": 0.012727,
     "end_time": "2020-10-30T19:06:45.774334",
     "exception": false,
     "start_time": "2020-10-30T19:06:45.761607",
     "status": "completed"
    },
    "tags": []
   },
   "source": [
    "Run the next code cell without changes to use the data to train a simple model.  The output shows the accuracy of the model on some test data."
   ]
  },
  {
   "cell_type": "code",
   "execution_count": null,
   "metadata": {
    "execution": {
     "iopub.execute_input": "2020-10-30T19:06:45.812366Z",
     "iopub.status.busy": "2020-10-30T19:06:45.811417Z",
     "iopub.status.idle": "2020-10-30T19:06:56.836497Z",
     "shell.execute_reply": "2020-10-30T19:06:56.835257Z"
    },
    "papermill": {
     "duration": 11.047454,
     "end_time": "2020-10-30T19:06:56.836704",
     "exception": false,
     "start_time": "2020-10-30T19:06:45.789250",
     "status": "completed"
    },
    "tags": []
   },
   "outputs": [],
   "source": [
    "from sklearn.linear_model import LogisticRegression\n",
    "\n",
    "# Train a model and evaluate performance on test dataset\n",
    "classifier = LogisticRegression(max_iter=2000)\n",
    "classifier.fit(X_train, y_train)\n",
    "score = classifier.score(X_test, y_test)\n",
    "print(\"Accuracy:\", score)\n",
    "\n",
    "# Function to classify any string\n",
    "def classify_string(string, investigate=False):\n",
    "    prediction = classifier.predict(vectorizer.transform([string]))[0]\n",
    "    if prediction == 0:\n",
    "        print(\"NOT TOXIC:\", string)\n",
    "    else:\n",
    "        print(\"TOXIC:\", string)"
   ]
  },
  {
   "cell_type": "markdown",
   "metadata": {
    "papermill": {
     "duration": 0.014849,
     "end_time": "2020-10-30T19:06:56.868884",
     "exception": false,
     "start_time": "2020-10-30T19:06:56.854035",
     "status": "completed"
    },
    "tags": []
   },
   "source": [
    "Roughly 93% of the comments in the test data are classified correctly!\n",
    "\n",
    "# 1) Try out the model\n",
    "\n",
    "You'll use the next code cell to write your own comments and supply them to the model: does the model classify them as toxic?  \n",
    "\n",
    "1. Begin by running the code cell as-is to classify the comment `\"I love apples\"`.  You should see that was classified as \"NOT TOXIC\".\n",
    "\n",
    "2. Then, try out another comment: `\"Apples are stupid\"`.  To do this, change only `\"I love apples\"` and leaving the rest of the code as-is.  Make sure that your comment is enclosed in quotes, as below.\n",
    "```python\n",
    "my_comment = \"Apples are stupid\"\n",
    "```\n",
    "3. Try out several comments (not necessarily about apples!), to see how the model performs: does it perform as suspected?"
   ]
  },
  {
   "cell_type": "code",
   "execution_count": null,
   "metadata": {
    "execution": {
     "iopub.execute_input": "2020-10-30T19:06:56.903202Z",
     "iopub.status.busy": "2020-10-30T19:06:56.902197Z",
     "iopub.status.idle": "2020-10-30T19:06:56.908224Z",
     "shell.execute_reply": "2020-10-30T19:06:56.908826Z"
    },
    "papermill": {
     "duration": 0.026189,
     "end_time": "2020-10-30T19:06:56.909010",
     "exception": false,
     "start_time": "2020-10-30T19:06:56.882821",
     "status": "completed"
    },
    "tags": []
   },
   "outputs": [],
   "source": [
    "# Comment to pass through the model\n",
    "my_comment = \"I love apples\"\n",
    "\n",
    "# Do not change the code below\n",
    "classify_string(my_comment)\n",
    "q_1.check()"
   ]
  },
  {
   "cell_type": "markdown",
   "metadata": {
    "papermill": {
     "duration": 0.018539,
     "end_time": "2020-10-30T19:06:56.942426",
     "exception": false,
     "start_time": "2020-10-30T19:06:56.923887",
     "status": "completed"
    },
    "tags": []
   },
   "source": [
    "Once you're done with testing comments, we'll move on to understand how the model makes decisions.  Run the next code cell without changes.\n",
    "\n",
    "The model assigns each of roughly 58,000 words a coefficient, where higher coefficients denote words that the model thinks are more toxic.  The code cell outputs the ten words that are considered most toxic, along with their coefficients.  "
   ]
  },
  {
   "cell_type": "code",
   "execution_count": null,
   "metadata": {
    "execution": {
     "iopub.execute_input": "2020-10-30T19:06:57.046892Z",
     "iopub.status.busy": "2020-10-30T19:06:57.037102Z",
     "iopub.status.idle": "2020-10-30T19:06:57.076223Z",
     "shell.execute_reply": "2020-10-30T19:06:57.075432Z"
    },
    "papermill": {
     "duration": 0.115908,
     "end_time": "2020-10-30T19:06:57.076370",
     "exception": false,
     "start_time": "2020-10-30T19:06:56.960462",
     "status": "completed"
    },
    "tags": []
   },
   "outputs": [],
   "source": [
    "coefficients = pd.DataFrame({\"word\": sorted(list(vectorizer.vocabulary_.keys())), \"coeff\": classifier.coef_[0]})\n",
    "coefficients.sort_values(by=['coeff']).tail(10)"
   ]
  },
  {
   "cell_type": "markdown",
   "metadata": {
    "papermill": {
     "duration": 0.015335,
     "end_time": "2020-10-30T19:06:57.106908",
     "exception": false,
     "start_time": "2020-10-30T19:06:57.091573",
     "status": "completed"
    },
    "tags": []
   },
   "source": [
    "# 2) Most toxic words\n",
    "\n",
    "Take a look at the most toxic words from the code cell above.  Are you surprised to see any of them?  Are there any words that seem like they should not be in the list?"
   ]
  },
  {
   "cell_type": "code",
   "execution_count": null,
   "metadata": {
    "execution": {
     "iopub.execute_input": "2020-10-30T19:06:57.142615Z",
     "iopub.status.busy": "2020-10-30T19:06:57.141543Z",
     "iopub.status.idle": "2020-10-30T19:06:57.145073Z",
     "shell.execute_reply": "2020-10-30T19:06:57.144311Z"
    },
    "papermill": {
     "duration": 0.022976,
     "end_time": "2020-10-30T19:06:57.145202",
     "exception": false,
     "start_time": "2020-10-30T19:06:57.122226",
     "status": "completed"
    },
    "tags": []
   },
   "outputs": [],
   "source": [
    "# Check your answer (Run this code cell to get credit!)\n",
    "q_2.check()"
   ]
  },
  {
   "cell_type": "markdown",
   "metadata": {
    "papermill": {
     "duration": 0.015333,
     "end_time": "2020-10-30T19:06:57.175887",
     "exception": false,
     "start_time": "2020-10-30T19:06:57.160554",
     "status": "completed"
    },
    "tags": []
   },
   "source": [
    "# 3) A closer investigation\n",
    "\n",
    "We'll take a closer look at how the model classifies comments.\n",
    "1. Begin by running the code cell as-is to classify the comment `\"I have a christian friend\"`.  You should see that was classified as \"NOT TOXIC\".  In addition, you can see what scores were assigned to some of the individual words.  Note that all words in the comment likely won't appear.\n",
    "2. Next, try out another comment: `\"I have a muslim friend\"`.  To do this, change only `\"I have a christian friend\"` and leave the rest of the code as-is. Make sure that your comment is enclosed in quotes, as below.\n",
    "```python\n",
    "new_comment = \"I have a muslim friend\"\n",
    "```\n",
    "3. Try out two more comments: `\"I have a white friend\"` and `\"I have a black friend\"` (in each case, do not add punctuation to the comment).\n",
    "4. Feel free to try out more comments, to see how the model classifies them."
   ]
  },
  {
   "cell_type": "code",
   "execution_count": null,
   "metadata": {
    "execution": {
     "iopub.execute_input": "2020-10-30T19:06:57.230782Z",
     "iopub.status.busy": "2020-10-30T19:06:57.229963Z",
     "iopub.status.idle": "2020-10-30T19:06:57.235775Z",
     "shell.execute_reply": "2020-10-30T19:06:57.236398Z"
    },
    "papermill": {
     "duration": 0.044861,
     "end_time": "2020-10-30T19:06:57.236559",
     "exception": false,
     "start_time": "2020-10-30T19:06:57.191698",
     "status": "completed"
    },
    "tags": []
   },
   "outputs": [],
   "source": [
    "# Set the value of new_comment\n",
    "new_comment = \"I have a christian friend\"\n",
    "\n",
    "# Do not change the code below\n",
    "classify_string(new_comment)\n",
    "coefficients[coefficients.word.isin(new_comment.split())]\n",
    "q_3.check()"
   ]
  },
  {
   "cell_type": "markdown",
   "metadata": {
    "papermill": {
     "duration": 0.016152,
     "end_time": "2020-10-30T19:06:57.269160",
     "exception": false,
     "start_time": "2020-10-30T19:06:57.253008",
     "status": "completed"
    },
    "tags": []
   },
   "source": [
    "# 4) Identify bias\n",
    "\n",
    "Do you see any signs of potential bias in the model?  In the code cell above,\n",
    "- How did the model classify `\"I have a christian friend\"` and `\"I have a muslim friend\"`?  \n",
    "- How did it classify `\"I have a white friend\"` and `\"I have a black friend\"`?    \n",
    "\n",
    "Once you have an answer, run the next code cell."
   ]
  },
  {
   "cell_type": "code",
   "execution_count": null,
   "metadata": {
    "execution": {
     "iopub.execute_input": "2020-10-30T19:06:57.307909Z",
     "iopub.status.busy": "2020-10-30T19:06:57.306868Z",
     "iopub.status.idle": "2020-10-30T19:06:57.310018Z",
     "shell.execute_reply": "2020-10-30T19:06:57.309235Z"
    },
    "papermill": {
     "duration": 0.024534,
     "end_time": "2020-10-30T19:06:57.310158",
     "exception": false,
     "start_time": "2020-10-30T19:06:57.285624",
     "status": "completed"
    },
    "tags": []
   },
   "outputs": [],
   "source": [
    "# Check your answer (Run this code cell to get credit!)\n",
    "q_4.check()"
   ]
  },
  {
   "cell_type": "markdown",
   "metadata": {
    "papermill": {
     "duration": 0.016002,
     "end_time": "2020-10-30T19:06:57.342755",
     "exception": false,
     "start_time": "2020-10-30T19:06:57.326753",
     "status": "completed"
    },
    "tags": []
   },
   "source": [
    "# 5) Test your understanding\n",
    "\n",
    "We'll step away from the Jigsaw competition data and consider a similar (but hypothetical!) scenario where you're working with a dataset of online comments to train a model to classify comments as toxic.\n",
    "\n",
    "You notice that comments that refer to Islam are more likely to be toxic than comments that refer to other religions, because the online community is islamophobic.  What type of bias can this introduce to your model?\n",
    "\n",
    "Once you have answered the question, run the next code cell to see the official answer."
   ]
  },
  {
   "cell_type": "code",
   "execution_count": null,
   "metadata": {
    "execution": {
     "iopub.execute_input": "2020-10-30T19:06:57.381807Z",
     "iopub.status.busy": "2020-10-30T19:06:57.380906Z",
     "iopub.status.idle": "2020-10-30T19:06:57.384681Z",
     "shell.execute_reply": "2020-10-30T19:06:57.383897Z"
    },
    "papermill": {
     "duration": 0.025022,
     "end_time": "2020-10-30T19:06:57.384809",
     "exception": false,
     "start_time": "2020-10-30T19:06:57.359787",
     "status": "completed"
    },
    "tags": []
   },
   "outputs": [],
   "source": [
    "# Check your answer (Run this code cell to get credit!)\n",
    "q_5.check()"
   ]
  },
  {
   "cell_type": "markdown",
   "metadata": {},
   "source": [
    "# 6) Test your understanding, part 2\n",
    "\n",
    "We'll continue with the same hypothetical scenario, where you're trying to train a model to classify online comments as toxic.\n",
    "\n",
    "You take any comments that are not already in English and translate them to English with a separate tool.  Then, you treat all posts as if they were originally expressed in English.  What type of bias will your model suffer from?\n",
    "\n",
    "Once you have answered the question, run the next code cell to see the official answer."
   ]
  },
  {
   "cell_type": "code",
   "execution_count": null,
   "metadata": {},
   "outputs": [],
   "source": [
    "# Check your answer (Run this code cell to get credit!)\n",
    "q_6.check()"
   ]
  },
  {
   "cell_type": "markdown",
   "metadata": {},
   "source": [
    "# 7) Test your understanding, part 3\n",
    "\n",
    "We'll continue with the same hypothetical scenario, where you're trying to train a model to classify online comments as toxic.\n",
    "\n",
    "The dataset you're using to train the model contains comments primarily from users based in the United Kingdom.  \n",
    "\n",
    "After training a model, you evaluate its performance with another dataset of comments, also primarily from users based in the United Kingdom -- and it gets great performance!  You deploy it for a company based in Australia, and it does not perform well, because of differences between British and Australian English.  What types of bias does the model suffer from?\n",
    "\n",
    "Once you have answered the question, run the next code cell to see the official answer."
   ]
  },
  {
   "cell_type": "code",
   "execution_count": null,
   "metadata": {},
   "outputs": [],
   "source": [
    "# Check your answer (Run this code cell to get credit!)\n",
    "q_7.check()"
   ]
  },
  {
   "cell_type": "markdown",
   "metadata": {
    "papermill": {
     "duration": 0.016326,
     "end_time": "2020-10-30T19:06:57.417832",
     "exception": false,
     "start_time": "2020-10-30T19:06:57.401506",
     "status": "completed"
    },
    "tags": []
   },
   "source": [
    "# Learn more\n",
    "\n",
    "To continue learning about bias, check out the [Jigsaw Unintended Bias in Toxicity Classification](https://www.kaggle.com/c/jigsaw-unintended-bias-in-toxicity-classification/overview) competition that was introduced in this exercise.  \n",
    "- Kaggler [Dieter](https://www.kaggle.com/christofhenkel) has written a helpful two-part series that teaches you how to preprocess the data and train a neural network to make a competition submission.  [Get started here](https://www.kaggle.com/christofhenkel/how-to-preprocessing-for-glove-part1-eda).\n",
    "- Many Kagglers have written helpful notebooks that you can use to get started.  [Check them out](https://www.kaggle.com/c/jigsaw-unintended-bias-in-toxicity-classification/notebooks?sortBy=voteCount&group=everyone&pageSize=20&competitionId=12500) on the competition page.\n",
    "\n",
    "Another Kaggle competition that you can use to learn about bias is the [Inclusive Images Challenge](https://www.kaggle.com/c/inclusive-images-challenge), which you can read more about in [this blog post](https://ai.googleblog.com/2018/09/introducing-inclusive-images-competition.html).  The competition focuses on **evaluation bias** in computer vision.\n",
    "\n",
    "# Keep going\n",
    "\n",
    "How can you quantify bias in machine learning applications?  Continue to **[learn how to measure fairness](#$NEXT_NOTEBOOK_URL$)**."
   ]
  }
 ],
 "metadata": {
  "kernelspec": {
   "display_name": "Python 3",
   "language": "python",
   "name": "python3"
  },
  "language_info": {
   "codemirror_mode": {
    "name": "ipython",
    "version": 3
   },
   "file_extension": ".py",
   "mimetype": "text/x-python",
   "name": "python",
   "nbconvert_exporter": "python",
   "pygments_lexer": "ipython3",
   "version": "3.6.5"
  },
  "papermill": {
   "duration": 47.674669,
   "end_time": "2020-10-30T19:06:57.543721",
   "environment_variables": {},
   "exception": null,
   "input_path": "__notebook__.ipynb",
   "output_path": "__notebook__.ipynb",
   "parameters": {},
   "start_time": "2020-10-30T19:06:09.869052",
   "version": "2.1.0"
  }
 },
 "nbformat": 4,
 "nbformat_minor": 4
}
