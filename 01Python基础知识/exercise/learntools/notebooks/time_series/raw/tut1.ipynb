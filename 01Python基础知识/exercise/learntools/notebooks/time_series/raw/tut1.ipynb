{
 "cells": [
  {
   "cell_type": "markdown",
   "id": "broke-bosnia",
   "metadata": {},
   "source": [
    "# Welcome to Time Series! #\n",
    "\n",
    "**Forecasting** is perhaps the most common application of machine learning in the real world. Businesses forecast product demand, governments forecast economic and population growth, meteorologists forecast the weather. The understanding of things to come is a pressing need across science, government, and industry (not to mention our personal lives!), and practitioners in these fields are increasingly applying machine learning to address this need.\n",
    "\n",
    "Time series forecasting is a broad field with a long history. This course focuses on the application of modern machine learning methods to time series data with the goal of producing the most accurate predictions. The lessons in this course were inspired by winning solutions from past Kaggle forecasting competitions but will be applicable whenever accurate forecasts are a priority.\n",
    "\n",
    "After finishing this course, you'll know how to:\n",
    "- engineer features to model the major time series components (*trends*, *seasons*, and *cycles*),\n",
    "- visualize time series with many kinds of *time series plots*,\n",
    "- create forecasting *hybrids* that combine the strengths of complementary models, and\n",
    "- adapt machine learning methods to a variety of forecasting tasks.\n",
    "\n",
    "As part of the exercises, you'll get a chance to participate in our [Store Sales - Time Series Forecasting](https://www.kaggle.com/c/29781) Getting Started competition. In this competition, you're tasked with forecasting sales for *Corporación Favorita* (a large Ecuadorian-based grocery retailer) in almost 1800 product categories.\n",
    "\n",
    "# What is a Time Series? #\n",
    "\n",
    "The basic object of forecasting is the **time series**, which is a set of observations recorded over time. In forecasting applications, the observations are typically recorded with a regular frequency, like daily or monthly."
   ]
  },
  {
   "cell_type": "code",
   "execution_count": null,
   "id": "respected-metropolitan",
   "metadata": {},
   "outputs": [],
   "source": [
    "#$HIDE_INPUT$\n",
    "import pandas as pd\n",
    "\n",
    "df = pd.read_csv(\n",
    "    \"../input/ts-course-data/book_sales.csv\",\n",
    "    index_col='Date',\n",
    "    parse_dates=['Date'],\n",
    ").drop('Paperback', axis=1)\n",
    "\n",
    "df.head()"
   ]
  },
  {
   "cell_type": "markdown",
   "id": "invisible-aging",
   "metadata": {},
   "source": [
    "This series records the number of hardcover book sales at a retail store over 30 days. Notice that we have a single column of observations `Hardcover` with a time index `Date`.\n",
    "\n",
    "# Linear Regression with Time Series #\n",
    "\n",
    "For the first part of this course, we'll use the linear regression algorithm to construct forecasting models. Linear regression is widely used in practice and adapts naturally to even complex forecasting tasks.\n",
    "\n",
    "The **linear regression** algorithm learns how to make a weighted sum from its input features. For two features, we would have:\n",
    "\n",
    "```\n",
    "target = weight_1 * feature_1 + weight_2 * feature_2 + bias\n",
    "```\n",
    "\n",
    "During training, the regression algorithm learns values for the parameters `weight_1`, `weight_2`, and `bias` that best fit the `target`. (This algorithm is often called *ordinary least squares* since it chooses values that minimize the squared error between the target and the predictions.) The weights are also called *regression coefficients* and the `bias` is also called the *intercept* because it tells you where the graph of this function crosses the y-axis.\n",
    "\n",
    "### Time-step features\n",
    "\n",
    "There are two kinds of features unique to time series: time-step features and lag features.\n",
    "\n",
    "Time-step features are features we can derive directly from the time index. The most basic time-step feature is the **time dummy**, which counts off time steps in the series from beginning to end."
   ]
  },
  {
   "cell_type": "code",
   "execution_count": null,
   "id": "numeric-fairy",
   "metadata": {},
   "outputs": [],
   "source": [
    "#$HIDE_INPUT$\n",
    "import numpy as np\n",
    "\n",
    "df['Time'] = np.arange(len(df.index))\n",
    "\n",
    "df.head()"
   ]
  },
  {
   "cell_type": "markdown",
   "id": "ambient-conjunction",
   "metadata": {},
   "source": [
    "Linear regression with the time dummy produces the model:\n",
    "\n",
    "```\n",
    "target = weight * time + bias\n",
    "```\n",
    "\n",
    "The time dummy then lets us fit curves to time series in a *time plot*, where `Time` forms the x-axis."
   ]
  },
  {
   "cell_type": "code",
   "execution_count": null,
   "id": "novel-coordinator",
   "metadata": {},
   "outputs": [],
   "source": [
    "#$HIDE_INPUT$\n",
    "import matplotlib.pyplot as plt\n",
    "import seaborn as sns\n",
    "plt.style.use(\"seaborn-whitegrid\")\n",
    "plt.rc(\n",
    "    \"figure\",\n",
    "    autolayout=True,\n",
    "    figsize=(11, 4),\n",
    "    titlesize=18,\n",
    "    titleweight='bold',\n",
    ")\n",
    "plt.rc(\n",
    "    \"axes\",\n",
    "    labelweight=\"bold\",\n",
    "    labelsize=\"large\",\n",
    "    titleweight=\"bold\",\n",
    "    titlesize=16,\n",
    "    titlepad=10,\n",
    ")\n",
    "%config InlineBackend.figure_format = 'retina'\n",
    "\n",
    "fig, ax = plt.subplots()\n",
    "ax.plot('Time', 'Hardcover', data=df, color='0.75')\n",
    "ax = sns.regplot(x='Time', y='Hardcover', data=df, ci=None, scatter_kws=dict(color='0.25'))\n",
    "ax.set_title('Time Plot of Hardcover Sales');"
   ]
  },
  {
   "cell_type": "markdown",
   "id": "caring-frequency",
   "metadata": {},
   "source": [
    "Time-step features let you model **time dependence**. A series is time dependent if its values can be predicted from the time they occured. In the *Hardcover Sales* series, we can predict that sales later in the month are generally higher than sales earlier in the month.\n",
    "\n",
    "### Lag features\n",
    "\n",
    "To make a **lag feature** we shift the observations of the target series so that they appear to have occured later in time. Here we've created a 1-step lag feature, though shifting by multiple steps is possible too."
   ]
  },
  {
   "cell_type": "code",
   "execution_count": null,
   "id": "boolean-native",
   "metadata": {},
   "outputs": [],
   "source": [
    "#$HIDE_INPUT$\n",
    "df['Lag_1'] = df['Hardcover'].shift(1)\n",
    "df = df.reindex(columns=['Hardcover', 'Lag_1'])\n",
    "\n",
    "df.head()"
   ]
  },
  {
   "cell_type": "markdown",
   "id": "everyday-botswana",
   "metadata": {},
   "source": [
    "Linear regression with a lag feature produces the model:\n",
    "\n",
    "```\n",
    "target = weight * lag + bias\n",
    "```\n",
    "\n",
    "So lag features let us fit curves to *lag plots* where each observation in a series is plotted against the previous observation."
   ]
  },
  {
   "cell_type": "code",
   "execution_count": null,
   "id": "integral-victor",
   "metadata": {},
   "outputs": [],
   "source": [
    "#$HIDE_INPUT$\n",
    "fig, ax = plt.subplots()\n",
    "ax = sns.regplot(x='Lag_1', y='Hardcover', data=df, ci=None, scatter_kws=dict(color='0.25'))\n",
    "ax.set_aspect('equal')\n",
    "ax.set_title('Lag Plot of Hardcover Sales');"
   ]
  },
  {
   "cell_type": "markdown",
   "id": "italian-window",
   "metadata": {},
   "source": [
    "You can see from the lag plot that sales on one day (`Hardcover`) are correlated with sales from the previous day (`Lag_1`). When you see a relationship like this, you know a lag feature will be useful.\n",
    "\n",
    "More generally, lag features let you model **serial dependence**. A time series has serial dependence when an observation can be predicted from previous observations. In *Hardcover Sales*, we can predict that high sales on one day usually mean high sales the next day.\n",
    "\n",
    "---\n",
    "\n",
    "Adapting machine learning algorithms to time series problems is largely about feature engineering with the time index and lags. For most of the course, we use linear regression for its simplicity, but these features will be useful whichever algorithm you choose for your forecasting task.\n",
    "\n",
    "# Example - Tunnel Traffic #\n",
    "\n",
    "*Tunnel Traffic* is a time series describing the number of vehicles traveling through the Baregg Tunnel in Switzerland each day from November 2003 to November 2005. In this example, we'll get some practice applying linear regression to time-step features and lag features.\n",
    "\n",
    "The hidden cell sets everything up."
   ]
  },
  {
   "cell_type": "code",
   "execution_count": null,
   "id": "extra-assets",
   "metadata": {},
   "outputs": [],
   "source": [
    "#$HIDE_INPUT$\n",
    "from pathlib import Path\n",
    "from warnings import simplefilter\n",
    "\n",
    "import matplotlib.pyplot as plt\n",
    "import numpy as np\n",
    "import pandas as pd\n",
    "\n",
    "simplefilter(\"ignore\")  # ignore warnings to clean up output cells\n",
    "\n",
    "# Set Matplotlib defaults\n",
    "plt.style.use(\"seaborn-whitegrid\")\n",
    "plt.rc(\"figure\", autolayout=True, figsize=(11, 4))\n",
    "plt.rc(\n",
    "    \"axes\",\n",
    "    labelweight=\"bold\",\n",
    "    labelsize=\"large\",\n",
    "    titleweight=\"bold\",\n",
    "    titlesize=14,\n",
    "    titlepad=10,\n",
    ")\n",
    "plot_params = dict(\n",
    "    color=\"0.75\",\n",
    "    style=\".-\",\n",
    "    markeredgecolor=\"0.25\",\n",
    "    markerfacecolor=\"0.25\",\n",
    "    legend=False,\n",
    ")\n",
    "%config InlineBackend.figure_format = 'retina'\n",
    "\n",
    "\n",
    "# Load Tunnel Traffic dataset\n",
    "data_dir = Path(\"../input/ts-course-data\")\n",
    "tunnel = pd.read_csv(data_dir / \"tunnel.csv\", parse_dates=[\"Day\"])\n",
    "\n",
    "# Create a time series in Pandas by setting the index to a date\n",
    "# column. We parsed \"Day\" as a date type by using `parse_dates` when\n",
    "# loading the data.\n",
    "tunnel = tunnel.set_index(\"Day\")\n",
    "\n",
    "# By default, Pandas creates a `DatetimeIndex` with dtype `Timestamp`\n",
    "# (equivalent to `np.datetime64`, representing a time series as a\n",
    "# sequence of measurements taken at single moments. A `PeriodIndex`,\n",
    "# on the other hand, represents a time series as a sequence of\n",
    "# quantities accumulated over periods of time. Periods are often\n",
    "# easier to work with, so that's what we'll use in this course.\n",
    "tunnel = tunnel.to_period()\n",
    "\n",
    "tunnel.head()"
   ]
  },
  {
   "cell_type": "markdown",
   "id": "lonely-valuation",
   "metadata": {},
   "source": [
    "### Time-step feature\n",
    "\n",
    "Provided the time series doesn't have any missing dates, we can create a time dummy by counting out the length of the series."
   ]
  },
  {
   "cell_type": "code",
   "execution_count": null,
   "id": "indirect-label",
   "metadata": {},
   "outputs": [],
   "source": [
    "df = tunnel.copy()\n",
    "\n",
    "df['Time'] = np.arange(len(tunnel.index))\n",
    "\n",
    "df.head()"
   ]
  },
  {
   "cell_type": "markdown",
   "id": "incorporated-fight",
   "metadata": {},
   "source": [
    "The procedure for fitting a linear regression model follows the standard steps for scikit-learn."
   ]
  },
  {
   "cell_type": "code",
   "execution_count": null,
   "id": "medieval-endorsement",
   "metadata": {},
   "outputs": [],
   "source": [
    "from sklearn.linear_model import LinearRegression\n",
    "\n",
    "# Training data\n",
    "X = df.loc[:, ['Time']]  # features\n",
    "y = df.loc[:, 'NumVehicles']  # target\n",
    "\n",
    "# Train the model\n",
    "model = LinearRegression()\n",
    "model.fit(X, y)\n",
    "\n",
    "# Store the fitted values as a time series with the same time index as\n",
    "# the training data\n",
    "y_pred = pd.Series(model.predict(X), index=X.index)"
   ]
  },
  {
   "cell_type": "markdown",
   "id": "brazilian-defense",
   "metadata": {},
   "source": [
    "The model actually created is (approximately): `Vehicles = 22.5 * Time + 98176`. Plotting the fitted values over time shows us how fitting linear regression to the time dummy creates the trend line defined by this equation."
   ]
  },
  {
   "cell_type": "code",
   "execution_count": null,
   "id": "sophisticated-prediction",
   "metadata": {},
   "outputs": [],
   "source": [
    "#$HIDE_INPUT$\n",
    "ax = y.plot(**plot_params)\n",
    "ax = y_pred.plot(ax=ax, linewidth=3)\n",
    "ax.set_title('Time Plot of Tunnel Traffic');"
   ]
  },
  {
   "cell_type": "markdown",
   "id": "expired-equipment",
   "metadata": {},
   "source": [
    "### Lag feature\n",
    "\n",
    "Pandas provides us a simple method to lag a series, the `shift` method."
   ]
  },
  {
   "cell_type": "code",
   "execution_count": null,
   "id": "excessive-hormone",
   "metadata": {},
   "outputs": [],
   "source": [
    "df['Lag_1'] = df['NumVehicles'].shift(1)\n",
    "df.head()"
   ]
  },
  {
   "cell_type": "markdown",
   "id": "varying-birthday",
   "metadata": {},
   "source": [
    "When creating lag features, we need to decide what to do with the missing values produced. Filling them in is one option, maybe with 0.0 or \"backfilling\" with the first known value. Instead, we'll just drop the missing values, making sure to also drop values in the target from corresponding dates."
   ]
  },
  {
   "cell_type": "code",
   "execution_count": null,
   "id": "prostate-fruit",
   "metadata": {},
   "outputs": [],
   "source": [
    "from sklearn.linear_model import LinearRegression\n",
    "\n",
    "X = df.loc[:, ['Lag_1']]\n",
    "X.dropna(inplace=True)  # drop missing values in the feature set\n",
    "y = df.loc[:, 'NumVehicles']  # create the target\n",
    "y, X = y.align(X, join='inner')  # drop corresponding values in target\n",
    "\n",
    "model = LinearRegression()\n",
    "model.fit(X, y)\n",
    "\n",
    "y_pred = pd.Series(model.predict(X), index=X.index)"
   ]
  },
  {
   "cell_type": "markdown",
   "id": "adult-artwork",
   "metadata": {},
   "source": [
    "The lag plot shows us how well we were able to fit the relationship between the number of vehicles one day and the number the previous day."
   ]
  },
  {
   "cell_type": "code",
   "execution_count": null,
   "id": "unusual-pledge",
   "metadata": {},
   "outputs": [],
   "source": [
    "#$HIDE_INPUT$\n",
    "fig, ax = plt.subplots()\n",
    "ax.plot(X['Lag_1'], y, '.', color='0.25')\n",
    "ax.plot(X['Lag_1'], y_pred)\n",
    "ax.set_aspect('equal')\n",
    "ax.set_ylabel('NumVehicles')\n",
    "ax.set_xlabel('Lag_1')\n",
    "ax.set_title('Lag Plot of Tunnel Traffic');"
   ]
  },
  {
   "cell_type": "markdown",
   "id": "comparable-karma",
   "metadata": {},
   "source": [
    "What does this prediction from a lag feature mean about how well we can predict the series across time? The following time plot shows us how our forecasts now respond to the behavior of the series in the recent past."
   ]
  },
  {
   "cell_type": "code",
   "execution_count": null,
   "id": "established-aircraft",
   "metadata": {},
   "outputs": [],
   "source": [
    "#$HIDE_INPUT$\n",
    "ax = y.plot(**plot_params)\n",
    "ax = y_pred.plot()"
   ]
  },
  {
   "cell_type": "markdown",
   "id": "indirect-graduate",
   "metadata": {},
   "source": [
    "The best time series models will usually include some combination of time-step features and lag features. Over the next few lessons, we'll learn how to engineer features modeling the most common patterns in time series using the features from this lesson as a starting point.\n",
    "\n",
    "# Your Turn #\n",
    "\n",
    "Move on to the Exercise, where you'll begin [**forecasting Store Sales**](#$NEXT_NOTEBOOK_URL$) using the techniques you learned in this tutorial."
   ]
  }
 ],
 "metadata": {
  "jupytext": {
   "formats": "ipynb,md"
  },
  "kernelspec": {
   "display_name": "Python 3",
   "language": "python",
   "name": "python3"
  },
  "language_info": {
   "codemirror_mode": {
    "name": "ipython",
    "version": 3
   },
   "file_extension": ".py",
   "mimetype": "text/x-python",
   "name": "python",
   "nbconvert_exporter": "python",
   "pygments_lexer": "ipython3",
   "version": "3.6.5"
  }
 },
 "nbformat": 4,
 "nbformat_minor": 5
}
