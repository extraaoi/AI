{
 "cells": [
  {
   "cell_type": "markdown",
   "id": "electric-documentary",
   "metadata": {},
   "source": [
    "# What is Trend? #\n",
    "\n",
    "The **trend** component of a time series represents a persistent, long-term change in the mean of the series. The trend is the slowest-moving part of a series, the part representing the largest time scale of importance. In a time series of product sales, an increasing trend might be the effect of a market expansion as more people become aware of the product year by year.\n",
    "\n",
    "<figure style=\"padding: 1em;\">\n",
    "<img src=\"https://i.imgur.com/ZdS4ZoJ.png\" width=800, alt=\"\">\n",
    "<figcaption style=\"textalign: center; font-style: italic\"><center>Trend patterns in four time series.</center></figcaption>\n",
    "</figure>\n",
    "\n",
    "In this course, we'll focus on trends in the mean. More generally though, any persistent and slow-moving change in a series could constitute a trend -- time series commonly have trends in their variation for instance.\n",
    "\n",
    "# Moving Average Plots #\n",
    "\n",
    "To see what kind of trend a time series might have, we can use a **moving average plot**. To compute a moving average of a time series, we compute the average of the values within a sliding window of some defined width. Each point on the graph represents the average of all the values in the series that fall within the window on either side. The idea is to smooth out any short-term fluctuations in the series so that only long-term changes remain.\n",
    "\n",
    "<figure style=\"padding: 1em;\">\n",
    "<img src=\"https://i.imgur.com/EZOXiPs.gif\" width=800, alt=\"An animated plot showing an undulating curve slowly increasing with a moving average line developing from left to right within a window of 12 points (in red).\">\n",
    "<figcaption style=\"textalign: center; font-style: italic\"><center>A moving average plot illustrating a linear trend. Each point on the curve (blue) is the average of the points (red) within a window of size 12.\n",
    "</center></figcaption>\n",
    "</figure>\n",
    "\n",
    "Notice how the *Mauna Loa* series above has a repeating up and down movement year after year -- a short-term, *seasonal* change. For a change to be a part of the trend, it should occur over a longer period than any seasonal changes. To visualize a trend, therefore, we take an average over a period longer than any seasonal period in the series. For the *Mauna Loa* series, we chose a window of size 12 to smooth over the season within each year."
   ]
  },
  {
   "cell_type": "markdown",
   "id": "grave-wireless",
   "metadata": {},
   "source": [
    "# Engineering Trend #\n",
    "\n",
    "Once we've identified the shape of the trend, we can attempt to model it using a time-step feature. We've already seen how using the time dummy itself will model a linear trend:\n",
    "\n",
    "```\n",
    "target = a * time + b\n",
    "```\n",
    "\n",
    "We can fit many other kinds of trend through transformations of the time dummy. If the trend appears to be quadratic (a parabola), we just need to add the square of the time dummy to the feature set, giving us:\n",
    "```\n",
    "target = a * time ** 2 + b * time + c\n",
    "```\n",
    "Linear regression will learn the coefficients `a`, `b,` and `c`.\n",
    "\n",
    "The trend curves in the figure below were both fit using these kinds of features and scikit-learn's `LinearRegression`:\n",
    "\n",
    "<figure style=\"padding: 1em;\">\n",
    "<img src=\"https://i.imgur.com/KFYlgGm.png\" width=*00, alt=\"Above, Cars Sold in Quebec: an undulating plot gradually increasing from 1960-01 to 1968-12 with a linear trend-line superimposed. Below, Plastics Production in Australia: an undulating plot with a concave-up quadratic trend-line superimposed.\">\n",
    "<figcaption style=\"textalign: center; font-style: italic\"><center><strong>Top:</strong> Series with a linear trend. <strong>Below:</strong> Series with a quadratic trend.\n",
    "</center></figcaption>\n",
    "</figure>\n",
    "\n",
    "If you haven't seen the trick before, you may not have realized that linear regression can fit curves other than lines. The idea is that if you can provide curves of the appropriate shape as features, then linear regression can learn how to combine them in the way that best fits the target.\n",
    "\n",
    "# Example - Tunnel Traffic #\n",
    "\n",
    "In this example we'll create a trend model for the *Tunnel Traffic* dataset."
   ]
  },
  {
   "cell_type": "code",
   "execution_count": null,
   "id": "animated-basic",
   "metadata": {},
   "outputs": [],
   "source": [
    "#$HIDE_INPUT$\n",
    "from pathlib import Path\n",
    "from warnings import simplefilter\n",
    "\n",
    "import matplotlib.pyplot as plt\n",
    "import numpy as np\n",
    "import pandas as pd\n",
    "\n",
    "simplefilter(\"ignore\")  # ignore warnings to clean up output cells\n",
    "\n",
    "# Set Matplotlib defaults\n",
    "plt.style.use(\"seaborn-whitegrid\")\n",
    "plt.rc(\"figure\", autolayout=True, figsize=(11, 5))\n",
    "plt.rc(\n",
    "    \"axes\",\n",
    "    labelweight=\"bold\",\n",
    "    labelsize=\"large\",\n",
    "    titleweight=\"bold\",\n",
    "    titlesize=14,\n",
    "    titlepad=10,\n",
    ")\n",
    "plot_params = dict(\n",
    "    color=\"0.75\",\n",
    "    style=\".-\",\n",
    "    markeredgecolor=\"0.25\",\n",
    "    markerfacecolor=\"0.25\",\n",
    "    legend=False,\n",
    ")\n",
    "%config InlineBackend.figure_format = 'retina'\n",
    "\n",
    "\n",
    "# Load Tunnel Traffic dataset\n",
    "data_dir = Path(\"../input/ts-course-data\")\n",
    "tunnel = pd.read_csv(data_dir / \"tunnel.csv\", parse_dates=[\"Day\"])\n",
    "tunnel = tunnel.set_index(\"Day\").to_period()"
   ]
  },
  {
   "cell_type": "markdown",
   "id": "greek-brunei",
   "metadata": {},
   "source": [
    "Let's make a moving average plot to see what kind of trend this series has. Since this series has daily observations, let's choose a window of 365 days to smooth over any short-term changes within the year.\n",
    "\n",
    "To create a moving average, first use the `rolling` method to begin a windowed computation. Follow this by the `mean` method to compute the average over the window. As we can see, the trend of *Tunnel Traffic* appears to be about linear."
   ]
  },
  {
   "cell_type": "code",
   "execution_count": null,
   "id": "affiliated-photography",
   "metadata": {},
   "outputs": [],
   "source": [
    "moving_average = tunnel.rolling(\n",
    "    window=365,       # 365-day window\n",
    "    center=True,      # puts the average at the center of the window\n",
    "    min_periods=183,  # choose about half the window size\n",
    ").mean()              # compute the mean (could also do median, std, min, max, ...)\n",
    "\n",
    "ax = tunnel.plot(style=\".\", color=\"0.5\")\n",
    "moving_average.plot(\n",
    "    ax=ax, linewidth=3, title=\"Tunnel Traffic - 365-Day Moving Average\", legend=False,\n",
    ");"
   ]
  },
  {
   "cell_type": "markdown",
   "id": "reduced-estimate",
   "metadata": {},
   "source": [
    "In Lesson 1, we engineered our time dummy in Pandas directly. From now on, however, we'll use a function from the `statsmodels` library called `DeterministicProcess`. Using this function will help us avoid some tricky failure cases that can arise with time series and linear regression. The `order` argument refers to polynomial order: `1` for linear, `2` for quadratic, `3` for cubic, and so on."
   ]
  },
  {
   "cell_type": "code",
   "execution_count": null,
   "id": "separated-hearts",
   "metadata": {},
   "outputs": [],
   "source": [
    "from statsmodels.tsa.deterministic import DeterministicProcess\n",
    "\n",
    "dp = DeterministicProcess(\n",
    "    index=tunnel.index,  # dates from the training data\n",
    "    constant=True,       # dummy feature for the bias (y_intercept)\n",
    "    order=1,             # the time dummy (trend)\n",
    "    drop=True,           # drop terms if necessary to avoid collinearity\n",
    ")\n",
    "# `in_sample` creates features for the dates given in the `index` argument\n",
    "X = dp.in_sample()\n",
    "\n",
    "X.head()"
   ]
  },
  {
   "cell_type": "markdown",
   "id": "coordinated-making",
   "metadata": {},
   "source": [
    "(A *deterministic process*, by the way, is a technical term for a time series that is non-random or completely *determined*, like the `const` and `trend` series are. Features derived from the time index will generally be deterministic.)\n",
    "\n",
    "We create our trend model basically as before, though note the addition of the `fit_intercept=False` argument."
   ]
  },
  {
   "cell_type": "code",
   "execution_count": null,
   "id": "allied-orlando",
   "metadata": {},
   "outputs": [],
   "source": [
    "from sklearn.linear_model import LinearRegression\n",
    "\n",
    "y = tunnel[\"NumVehicles\"]  # the target\n",
    "\n",
    "# The intercept is the same as the `const` feature from\n",
    "# DeterministicProcess. LinearRegression behaves badly with duplicated\n",
    "# features, so we need to be sure to exclude it here.\n",
    "model = LinearRegression(fit_intercept=False)\n",
    "model.fit(X, y)\n",
    "\n",
    "y_pred = pd.Series(model.predict(X), index=X.index)"
   ]
  },
  {
   "cell_type": "markdown",
   "id": "cutting-runner",
   "metadata": {},
   "source": [
    "The trend discovered by our `LinearRegression` model is almost identical to the moving average plot, which suggests that a linear trend was the right decision in this case."
   ]
  },
  {
   "cell_type": "code",
   "execution_count": null,
   "id": "portable-compact",
   "metadata": {},
   "outputs": [],
   "source": [
    "#$HIDE_INPUT$\n",
    "ax = tunnel.plot(style=\".\", color=\"0.5\", title=\"Tunnel Traffic - Linear Trend\")\n",
    "_ = y_pred.plot(ax=ax, linewidth=3, label=\"Trend\")"
   ]
  },
  {
   "cell_type": "markdown",
   "id": "interpreted-hopkins",
   "metadata": {},
   "source": [
    "To make a forecast, we apply our model to \"out of sample\" features. \"Out of sample\" refers to times outside of the observation period of the training data. Here's how we could make a 30-day forecast:"
   ]
  },
  {
   "cell_type": "code",
   "execution_count": null,
   "id": "behind-characteristic",
   "metadata": {},
   "outputs": [],
   "source": [
    "X = dp.out_of_sample(steps=30)\n",
    "\n",
    "y_fore = pd.Series(model.predict(X), index=X.index)\n",
    "\n",
    "y_fore.head()"
   ]
  },
  {
   "cell_type": "markdown",
   "id": "fatal-dominican",
   "metadata": {},
   "source": [
    "Let's plot a portion of the series to see the trend forecast for the next 30 days:"
   ]
  },
  {
   "cell_type": "code",
   "execution_count": null,
   "id": "located-latter",
   "metadata": {},
   "outputs": [],
   "source": [
    "#$HIDE_INPUT$\n",
    "ax = tunnel[\"2005-05\":].plot(title=\"Tunnel Traffic - Linear Trend Forecast\", **plot_params)\n",
    "ax = y_pred[\"2005-05\":].plot(ax=ax, linewidth=3, label=\"Trend\")\n",
    "ax = y_fore.plot(ax=ax, linewidth=3, label=\"Trend Forecast\", color=\"C3\")\n",
    "_ = ax.legend()"
   ]
  },
  {
   "cell_type": "markdown",
   "id": "mature-shaft",
   "metadata": {},
   "source": [
    "---\n",
    "\n",
    "The trend models we learned about in this lesson turn out to be useful for a number of reasons. Besides acting as a baseline or starting point for more sophisticated models, we can also use them as a component in a \"hybrid model\" with algorithms unable to learn trends (like XGBoost and random forests). We'll learn more about this technique in Lesson 5.\n",
    "\n",
    "# Your Turn #\n",
    "\n",
    "[**Model trend in Store Sales**](#$NEXT_NOTEBOOK_URL$) and understand the risks of forecasting with high-order polynomials."
   ]
  }
 ],
 "metadata": {
  "jupytext": {
   "formats": "ipynb,md"
  },
  "kernelspec": {
   "display_name": "Python 3",
   "language": "python",
   "name": "python3"
  },
  "language_info": {
   "codemirror_mode": {
    "name": "ipython",
    "version": 3
   },
   "file_extension": ".py",
   "mimetype": "text/x-python",
   "name": "python",
   "nbconvert_exporter": "python",
   "pygments_lexer": "ipython3",
   "version": "3.6.5"
  }
 },
 "nbformat": 4,
 "nbformat_minor": 5
}
