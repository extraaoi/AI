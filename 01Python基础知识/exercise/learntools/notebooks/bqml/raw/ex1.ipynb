{
 "cells": [
  {
   "cell_type": "markdown",
   "metadata": {},
   "source": [
    "# Stocking rental bikes\n",
    "\n",
    "![bike rentals](https://upload.wikimedia.org/wikipedia/commons/thumb/a/a0/Bay_Area_Bike_Share_launch_in_San_Jose_CA.jpg/640px-Bay_Area_Bike_Share_launch_in_San_Jose_CA.jpg)\n",
    "\n",
    "You stock bikes for a bike rental company in Austin, ensuring stations have enough bikes for all their riders. You decide to build a model to predict how many riders will start from each station during each hour, capturing patterns in seasonality, time of day, day of the week, etc.\n",
    "\n",
    "To get started, create a project in GCP and connect to it by running the code cell below. Make sure you have connected the kernel to your GCP account in Settings."
   ]
  },
  {
   "cell_type": "code",
   "execution_count": null,
   "metadata": {},
   "outputs": [],
   "source": [
    "# Set up code checking\n",
    "from learntools.core import binder\n",
    "binder.bind(globals())\n",
    "from learntools.bqml.ex1 import *"
   ]
  },
  {
   "cell_type": "code",
   "execution_count": null,
   "metadata": {},
   "outputs": [],
   "source": [
    "# Set your own project id here\n",
    "PROJECT_ID = ____ # a string, like 'kaggle-bigquery-240818'\n",
    "\n",
    "from google.cloud import bigquery\n",
    "client = bigquery.Client(project=PROJECT_ID, location=\"US\")\n",
    "dataset = client.create_dataset('model_dataset', exists_ok=True)\n",
    "\n",
    "from google.cloud.bigquery import magics\n",
    "from kaggle.gcp import KaggleKernelCredentials\n",
    "magics.context.credentials = KaggleKernelCredentials()\n",
    "magics.context.project = PROJECT_ID"
   ]
  },
  {
   "cell_type": "markdown",
   "metadata": {},
   "source": [
    "## Linear Regression\n",
    "\n",
    "Your dataset is quite large. BigQuery is especially efficient with large datasets, so you'll use BigQuery-ML (called BQML) to build your model. BQML uses a \"linear regression\" model when predicting numeric outcomes, like the number of riders.\n",
    "\n",
    "## 1) Training vs testing\n",
    "\n",
    "You'll want to test your model on data it hasn't seen before (for reasons described in the [Intro to Machine Learning Micro-Course](https://www.kaggle.com/learn/intro-to-machine-learning). What do you think is a good approach to splitting the data? What data should we use to train, what data should we use for test the model?"
   ]
  },
  {
   "cell_type": "code",
   "execution_count": null,
   "metadata": {},
   "outputs": [],
   "source": [
    "# Uncomment the following line to check the solution once you've thought about the answer\n",
    "# q_1.solution()"
   ]
  },
  {
   "cell_type": "markdown",
   "metadata": {},
   "source": [
    "## Training data\n",
    "\n",
    "First, you'll write a query to get the data for model-building. You can use the public Austin bike share dataset from the `bigquery-public-data.austin_bikeshare.bikeshare_trips` table. You predict the number of rides based on the station where the trip starts and the hour when the trip started. Use the `TIMESTAMP_TRUNC` function to truncate the start time to the hour."
   ]
  },
  {
   "cell_type": "markdown",
   "metadata": {},
   "source": [
    "## 2) Exercise: Query the training data\n",
    "\n",
    "Write the query to retrieve your training data. The fields should be:\n",
    "1. The start_station_name\n",
    "2. A time trips start, to the nearest hour. Get this with `TIMESTAMP_TRUNC(start_time, HOUR) as start_hour`\n",
    "3. The number of rides starting at the station during the hour. Call this `num_rides`.\n",
    "Select only the data before 2018-01-01 (so we can save data from 2018 as testing data.)"
   ]
  },
  {
   "cell_type": "code",
   "execution_count": null,
   "metadata": {},
   "outputs": [],
   "source": [
    "# Write your query to retrieve the training data\n",
    "query = ____\n",
    "\n",
    "# Create the query job. No changes needed below this line\n",
    "query_job = client.query(query) \n",
    "\n",
    "# API request - run the query, and return DataFrame. No changes needed\n",
    "model_data = query_job.to_dataframe() \n",
    "\n",
    "q_2.check()"
   ]
  },
  {
   "cell_type": "code",
   "execution_count": null,
   "metadata": {},
   "outputs": [],
   "source": [
    "# uncomment the lines below to get a hint or solution\n",
    "# q_2.hint()\n",
    "# q_2.solution()"
   ]
  },
  {
   "cell_type": "code",
   "execution_count": null,
   "metadata": {},
   "outputs": [],
   "source": [
    "## My solution code\n",
    "query = \"\"\"\n",
    "        SELECT start_station_name, \n",
    "               TIMESTAMP_TRUNC(start_time, HOUR) as start_hour,\n",
    "               COUNT(bikeid) as num_rides\n",
    "        FROM `bigquery-public-data.austin_bikeshare.bikeshare_trips`\n",
    "        WHERE start_time < \"2018-01-01\"\n",
    "        GROUP BY start_station_name, start_hour\n",
    "        \"\"\"\n",
    "\n",
    "query_job = client.query(query)\n",
    "model_data = query_job.to_dataframe()"
   ]
  },
  {
   "cell_type": "markdown",
   "metadata": {},
   "source": [
    "You'll want to inspect your data to ensure it looks like what you expect. Run the line below to get a quick view of the data, and feel free to explore it more if you'd like (if you don't know hot to do that, the [Pandas micro-course](https://www.kaggle.com/learn/pandas)) might be helpful."
   ]
  },
  {
   "cell_type": "code",
   "execution_count": null,
   "metadata": {},
   "outputs": [],
   "source": [
    "model_data.head(20)"
   ]
  },
  {
   "cell_type": "markdown",
   "metadata": {},
   "source": [
    "## Model creation\n",
    "\n",
    "Now it's time to turn this data into a model. You'll use the `CREATE MODEL` statement that has a structure like: \n",
    "\n",
    "```sql\n",
    "CREATE OR REPLACE MODEL`model_dataset.bike_trips`\n",
    "OPTIONS(model_type='linear_reg', \n",
    "        input_label_cols=['label_col'],\n",
    "        optimize_strategy='batch_gradient_descent') AS \n",
    "-- training data query goes here\n",
    "SELECT ...\n",
    "FROM ... \n",
    "WHERE ...\n",
    "GROUP BY ...\n",
    "```\n",
    "\n",
    "The `model_type` and `optimize_strategy` shown here are good parameters to use in general for predicting numeric outcomes with BQML.\n",
    "\n",
    "**Tip:** Using ```CREATE OR REPLACE MODEL``` rather than just ```CREATE MODEL``` ensures you don't get an error if you want to run this command again without first deleting the model you've created."
   ]
  },
  {
   "cell_type": "markdown",
   "metadata": {},
   "source": [
    "## 3) Exercise: Create and train the model\n",
    "\n",
    "Below, write your query to create and train a linear regression model on the training data."
   ]
  },
  {
   "cell_type": "code",
   "execution_count": null,
   "metadata": {},
   "outputs": [],
   "source": [
    "# Write your query to create and train the model\n",
    "query = ____\n",
    "\n",
    "# Create the query job. No changes needed below this line\n",
    "query_job = client.query(query) \n",
    "\n",
    "# API request - run the query. Models return an empty table. No changes needed\n",
    "query_job.result()"
   ]
  },
  {
   "cell_type": "code",
   "execution_count": null,
   "metadata": {},
   "outputs": [],
   "source": [
    "## My solution\n",
    "\n",
    "query = \"\"\"\n",
    "        CREATE OR REPLACE MODEL `model_dataset.bike_trips`\n",
    "        OPTIONS(model_type='linear_reg', \n",
    "                input_label_cols=['num_rides'],\n",
    "                optimize_strategy='batch_gradient_descent') AS\n",
    "        SELECT COUNT(bikeid) as num_rides, \n",
    "               start_station_name, \n",
    "               TIMESTAMP_TRUNC(start_time, HOUR) as start_hour\n",
    "        FROM `bigquery-public-data.austin_bikeshare.bikeshare_trips`\n",
    "        WHERE start_time < \"2018-01-01\"\n",
    "        GROUP BY start_station_name, start_hour\n",
    "        \"\"\"\n",
    "\n",
    "query_job = client.query(query)\n",
    "\n",
    "# API request - run the query. Models return an empty table\n",
    "query_job.result()\n",
    "\n",
    "q_3.check()"
   ]
  },
  {
   "cell_type": "code",
   "execution_count": null,
   "metadata": {},
   "outputs": [],
   "source": [
    "# q_3.solution()"
   ]
  },
  {
   "cell_type": "markdown",
   "metadata": {},
   "source": [
    "## 4) Exercise: Model evaluation\n",
    "\n",
    "Now that you have a model, evaluate it's performance on data from 2018. If you need help with "
   ]
  },
  {
   "cell_type": "code",
   "execution_count": null,
   "metadata": {},
   "outputs": [],
   "source": [
    "# Write your query to evaluate the model\n",
    "query = \"____\"\n",
    "\n",
    "query_job = client.query(query)\n",
    "\n",
    "# API request - run the query\n",
    "evaluation_results = query_job.to_dataframe()\n",
    "evaluation_results\n",
    "\n",
    "q_4.check()"
   ]
  },
  {
   "cell_type": "code",
   "execution_count": null,
   "metadata": {},
   "outputs": [],
   "source": [
    "## My solution\n",
    "\n",
    "query = \"\"\"\n",
    "        SELECT *\n",
    "        FROM\n",
    "        ML.EVALUATE(MODEL `model_dataset.bike_trips`, (\n",
    "        SELECT COUNT(bikeid) as num_rides, \n",
    "               start_station_name, \n",
    "               TIMESTAMP_TRUNC(start_time, HOUR) as start_hour\n",
    "        FROM `bigquery-public-data.austin_bikeshare.bikeshare_trips`\n",
    "        WHERE start_time >= \"2018-01-01\"\n",
    "        GROUP BY start_station_name, start_hour\n",
    "        ))\n",
    "        \"\"\"\n",
    "\n",
    "query_job = client.query(query)\n",
    "\n",
    "# API request - run the query\n",
    "evaluation_results = query_job.to_dataframe()\n",
    "evaluation_results"
   ]
  },
  {
   "cell_type": "markdown",
   "metadata": {},
   "source": [
    "You should see that the r^2 score here is negative. Negative values indicate that the model is worse than just predicting the mean rides for each example.\n",
    "\n",
    "## 5) Theories for poor performance\n",
    "\n",
    "Why would your model be doing worse than making the most simple prediction?\n",
    "\n",
    "**Answer:** It's possible there's something broken in the model algorithm. Or the data for 2018 is much different than the historical data before it."
   ]
  },
  {
   "cell_type": "code",
   "execution_count": null,
   "metadata": {},
   "outputs": [],
   "source": [
    "## Thought question answer here"
   ]
  },
  {
   "cell_type": "markdown",
   "metadata": {},
   "source": [
    "## 6) Exercise: Looking at predictions\n",
    "\n",
    "A good way to figure out where your model is going wrong is to look closer at a small set of predictions. Use your model to predict the number of rides for the 22nd & Pearl station in 2018. Compare the mean values of predicted vs actual riders."
   ]
  },
  {
   "cell_type": "code",
   "execution_count": null,
   "metadata": {},
   "outputs": [],
   "source": [
    "# Write the query here\n",
    "query = \"____\"\n",
    "\n",
    "query_job = client.query(query)\n",
    "\n",
    "# API request - run the query\n",
    "evaluation_results = query_job.to_dataframe()\n",
    "evaluation_results"
   ]
  },
  {
   "cell_type": "code",
   "execution_count": null,
   "metadata": {},
   "outputs": [],
   "source": [
    "## My solution\n",
    "\n",
    "query = \"\"\"\n",
    "        SELECT AVG(ROUND(predicted_num_rides)) as predicted_avg_riders, \n",
    "               AVG(num_rides) as true_avg_riders\n",
    "        FROM\n",
    "        ML.PREDICT(MODEL `model_dataset.bike_trips`, (\n",
    "        SELECT COUNT(bikeid) as num_rides,\n",
    "               start_station_name,\n",
    "               TIMESTAMP_TRUNC(start_time, HOUR) as start_hour\n",
    "        FROM `bigquery-public-data.austin_bikeshare.bikeshare_trips`\n",
    "        WHERE start_time >= \"2018-01-01\"\n",
    "          AND start_station_name = \"22nd & Pearl\"\n",
    "        GROUP BY start_station_name, start_hour\n",
    "        ))\n",
    "        -- ORDER BY start_hour\n",
    "        \"\"\"\n",
    "\n",
    "query_job = client.query(query)\n",
    "\n",
    "# API request - run the query\n",
    "evaluation_results = query_job.to_dataframe()\n",
    "evaluation_results"
   ]
  },
  {
   "cell_type": "markdown",
   "metadata": {},
   "source": [
    "What you should see here is that the model is underestimating the number of rides by quite a bit. \n",
    "\n",
    "## 7) Exercise: Average daily rides per station\n",
    "\n",
    "Either something is wrong with the model or something surprising is happening in the 2018 data. \n",
    "\n",
    "What could be happening in the data? Write a query to get the average number of riders per station for each year in the dataset and order by the year so you can see the trend. You can use the `EXTRACT` method to get the day and year from the start time timestamp."
   ]
  },
  {
   "cell_type": "code",
   "execution_count": null,
   "metadata": {},
   "outputs": [],
   "source": [
    "# Write the query here\n",
    "query = \"____\"\n",
    "\n",
    "# Create the query job\n",
    "query_job = ____\n",
    "\n",
    "# API request - run the query and return a pandas DataFrame\n",
    "evaluation_results = ____\n",
    "evaluation_results"
   ]
  },
  {
   "cell_type": "code",
   "execution_count": null,
   "metadata": {},
   "outputs": [],
   "source": [
    "## My solution\n",
    "\n",
    "query = \"\"\"\n",
    "        WITH daily_rides AS (\n",
    "            SELECT COUNT(bikeid) AS num_rides,\n",
    "                   start_station_name,\n",
    "                   EXTRACT(DAYOFYEAR from start_time) AS doy,\n",
    "                   EXTRACT(YEAR from start_time) AS year\n",
    "            FROM `bigquery-public-data.austin_bikeshare.bikeshare_trips`\n",
    "            GROUP BY start_station_name, doy, year\n",
    "            ORDER BY year\n",
    "        ), \n",
    "        station_averages AS (\n",
    "            SELECT avg(num_rides) AS avg_riders, start_station_name, year\n",
    "            FROM daily_rides\n",
    "            GROUP BY start_station_name, year)\n",
    "        \n",
    "        SELECT avg(avg_riders) AS daily_rides_per_station, year\n",
    "        FROM station_averages\n",
    "        GROUP BY year\n",
    "        ORDER BY year\n",
    "        \"\"\"\n",
    "\n",
    "query_job = client.query(query)\n",
    "\n",
    "# API request - run the query\n",
    "evaluation_results = query_job.to_dataframe()\n",
    "evaluation_results"
   ]
  },
  {
   "cell_type": "markdown",
   "metadata": {},
   "source": [
    "## 8) What do your results tell you?\n",
    "\n",
    "Given the daily average riders per station over the years, does it make sense that the model is failing?\n",
    "\n",
    "**Answer:** The daily average riders went from around 10 in 2017 to over 16 in 2018. This change in the bikesharing program caused your model to underestimate the number of riders in 2018. Unexpected things can happen when you predict the future in an ever-changing area. Knowledge of a topic can be helpful here, and if you knew enough about the program, you might be able to predict (or at least explain) these types of changes over time."
   ]
  },
  {
   "cell_type": "code",
   "execution_count": null,
   "metadata": {},
   "outputs": [],
   "source": [
    "## Thought question answer here"
   ]
  },
  {
   "cell_type": "markdown",
   "metadata": {},
   "source": [
    "## 9) A Better Scenario\n",
    "\n",
    "It's disappointing that your model was so inaccurate on 2018 data. Fortunately, this issue of the world changing over time is the exception rather than the rule. \n",
    "\n",
    "Your model was built on data that went through the end of 2016. So you can also see how the model performs on data from 2017. First, create a model"
   ]
  },
  {
   "cell_type": "code",
   "execution_count": null,
   "metadata": {},
   "outputs": [],
   "source": [
    "# Write your query to create and train the model\n",
    "query = \"____\"\n",
    "\n",
    "# Create the query job\n",
    "query_job = ____ # Your code goes here\n",
    "\n",
    "# API request - run the query. Models return an empty table\n",
    "____ # Your code goes here"
   ]
  },
  {
   "cell_type": "code",
   "execution_count": null,
   "metadata": {},
   "outputs": [],
   "source": [
    "## My solution\n",
    "\n",
    "query = \"\"\"\n",
    "        CREATE OR REPLACE MODEL `model_dataset.bike_trips_2017`\n",
    "        OPTIONS(model_type='linear_reg', \n",
    "                input_label_cols=['num_rides'],\n",
    "                optimize_strategy='batch_gradient_descent') AS\n",
    "        SELECT COUNT(bikeid) as num_rides, \n",
    "               start_station_name, \n",
    "               TIMESTAMP_TRUNC(start_time, HOUR) as start_hour\n",
    "        FROM `bigquery-public-data.austin_bikeshare.bikeshare_trips`\n",
    "        WHERE start_time < \"2017-01-01\"\n",
    "        GROUP BY start_station_name, start_hour\n",
    "        \"\"\"\n",
    "\n",
    "query_job = client.query(query)\n",
    "\n",
    "# API request - run the query. Models return an empty table\n",
    "query_job.result()"
   ]
  },
  {
   "cell_type": "markdown",
   "metadata": {},
   "source": [
    "Now write the query to evaluate your model using data from 2017"
   ]
  },
  {
   "cell_type": "code",
   "execution_count": null,
   "metadata": {},
   "outputs": [],
   "source": [
    "# Write your query to evaluate the model\n",
    "query = \"____\"\n",
    "\n",
    "query_job = client.query(query)\n",
    "\n",
    "# API request - run the query. Models return an empty table\n",
    "query_job.result()"
   ]
  },
  {
   "cell_type": "code",
   "execution_count": null,
   "metadata": {},
   "outputs": [],
   "source": [
    "query = \"\"\"\n",
    "        SELECT *\n",
    "        FROM\n",
    "        ML.EVALUATE(MODEL `model_dataset.bike_trips_2017`, (\n",
    "        SELECT COUNT(bikeid) as num_rides, \n",
    "               start_station_name, \n",
    "               TIMESTAMP_TRUNC(start_time, HOUR) as start_hour\n",
    "        FROM `bigquery-public-data.austin_bikeshare.bikeshare_trips`\n",
    "        WHERE start_time >= \"2017-01-01\" AND start_time < \"2018-01-01\"\n",
    "        GROUP BY start_station_name, start_hour\n",
    "        ))\n",
    "        \"\"\"\n",
    "\n",
    "query_job = client.query(query)\n",
    "\n",
    "# API request - run the query\n",
    "evaluation_results = query_job.to_dataframe()\n",
    "evaluation_results"
   ]
  }
 ],
 "metadata": {
  "kernelspec": {
   "display_name": "Python 3",
   "language": "python",
   "name": "python3"
  },
  "language_info": {
   "codemirror_mode": {
    "name": "ipython",
    "version": 3
   },
   "file_extension": ".py",
   "mimetype": "text/x-python",
   "name": "python",
   "nbconvert_exporter": "python",
   "pygments_lexer": "ipython3",
   "version": "3.6.8"
  }
 },
 "nbformat": 4,
 "nbformat_minor": 2
}
