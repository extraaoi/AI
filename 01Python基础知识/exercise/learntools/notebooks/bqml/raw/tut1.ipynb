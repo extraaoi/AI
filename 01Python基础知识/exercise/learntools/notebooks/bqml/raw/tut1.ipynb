{
 "cells": [
  {
   "cell_type": "markdown",
   "metadata": {},
   "source": [
    "This tutorial introduces data scientists to BigQuery ML. It is based\n",
    "on the [official documentation tutorial](https://cloud.google.com/bigquery/docs/bigqueryml-scientist-start). BigQuery ML enables you create and execute machine learning models in BigQuery using SQL queries. The goal is to democratize machine learning by enabling SQL practitioners to build models using their existing tools.\n",
    "\n",
    "In this tutorial, you use the sample\n",
    "[Google Analytics sample dataset for BigQuery](https://support.google.com/analytics/answer/7586738?hl=en&ref_topic=3416089) to create a model that predicts whether a website visitor will make a transaction. For information on the schema of the Analytics dataset, see [BigQuery export schema](https://support.google.com/analytics/answer/3437719).\n"
   ]
  },
  {
   "cell_type": "markdown",
   "metadata": {},
   "source": [
    "## Objectives\n",
    "\n",
    "In this tutorial, you will use:\n",
    "\n",
    "+ BQML to create a binary logistic regression model using the\n",
    "  `CREATE MODEL` statement\n",
    "+ The `ML.EVALUATE` function to evaluate the ML model\n",
    "+ The `ML.PREDICT` function to make predictions using the ML model"
   ]
  },
  {
   "cell_type": "markdown",
   "metadata": {},
   "source": [
    "## Costs\n",
    "\n",
    "This tutorial uses billable components of Cloud Platform,\n",
    "including:\n",
    "\n",
    "+ BigQuery\n",
    "+ BigQuery ML\n",
    "\n",
    "\n",
    "For more information on BigQuery costs, see the [Pricing](https://cloud.google.com/bigquery/pricing)\n",
    "page.\n",
    "\n",
    "For more information on BigQuery ML costs, see the [BQML pricing](https://cloud.google.com/bigquery/bqml-pricing)\n",
    "section of the pricing page."
   ]
  },
  {
   "cell_type": "markdown",
   "metadata": {},
   "source": [
    "## Step one: Setup and create your dataset\n",
    "\n",
    "Next, you create a BigQuery dataset to store your\n",
    "ML model."
   ]
  },
  {
   "cell_type": "code",
   "execution_count": null,
   "metadata": {},
   "outputs": [],
   "source": [
    "# Set your own project id here\n",
    "PROJECT_ID = 'bigquerytestdefault'\n",
    "\n",
    "from google.cloud import bigquery\n",
    "client = bigquery.Client(project=PROJECT_ID, location=\"US\")\n",
    "dataset = client.create_dataset('bqml_tutorial', exists_ok=True)\n",
    "\n",
    "from google.cloud.bigquery import magics\n",
    "from kaggle.gcp import KaggleKernelCredentials\n",
    "magics.context.credentials = KaggleKernelCredentials()\n",
    "magics.context.project = PROJECT_ID\n"
   ]
  },
  {
   "cell_type": "markdown",
   "metadata": {},
   "source": [
    "## Step two: Create your model\n",
    "\n",
    "Next, we will create a logistic regression model for classification. We will use the Google Analytics sample\n",
    "dataset to predict whether a website visitor will make a transaction. \n",
    "\n",
    "The standard SQL query uses a `CREATE MODEL` statement to create and train the model."
   ]
  },
  {
   "cell_type": "markdown",
   "metadata": {},
   "source": [
    "The BigQuery Python client library provides a magic command that\n",
    "allows you to run queries with minimal code. To load the magic commands from the\n",
    "client library, enter the following code."
   ]
  },
  {
   "cell_type": "code",
   "execution_count": null,
   "metadata": {},
   "outputs": [],
   "source": [
    "%load_ext google.cloud.bigquery"
   ]
  },
  {
   "cell_type": "markdown",
   "metadata": {},
   "source": [
    "Note: `%load_ext` is one of the many Jupyter built-in magic commands. See the\n",
    "[Jupyter documentation](https://ipython.readthedocs.io/en/stable/interactive/magics.html) for more\n",
    "information about `%load_ext` and other magic commands.\n",
    "\n",
    "The BigQuery client library provides a cell magic,\n",
    "`%%bigquery`, which runs a SQL query and returns the results as a Pandas\n",
    "DataFrame. Enter the following standard SQL query in the cell. The `#standardSQL`\n",
    "prefix is not required for the client library. Standard SQL is the default\n",
    "query syntax."
   ]
  },
  {
   "cell_type": "code",
   "execution_count": null,
   "metadata": {},
   "outputs": [],
   "source": [
    "%%bigquery\n",
    "CREATE MODEL IF NOT EXISTS `bqml_tutorial.sample_model`\n",
    "OPTIONS(model_type='logistic_reg') AS\n",
    "SELECT\n",
    "  IF(totals.transactions IS NULL, 0, 1) AS label,\n",
    "  IFNULL(device.operatingSystem, \"\") AS os,\n",
    "  device.isMobile AS is_mobile,\n",
    "  IFNULL(geoNetwork.country, \"\") AS country,\n",
    "  IFNULL(totals.pageviews, 0) AS pageviews\n",
    "FROM\n",
    "  `bigquery-public-data.google_analytics_sample.ga_sessions_*`\n",
    "WHERE\n",
    "  _TABLE_SUFFIX BETWEEN '20160801' AND '20170630'"
   ]
  },
  {
   "cell_type": "markdown",
   "metadata": {},
   "source": [
    "The query takes several minutes to complete. After the first iteration is\n",
    "    complete, your model (`sample_model`) appears in the navigation panel of the\n",
    "    BigQuery UI. Because the query uses a `CREATE MODEL` statement to create a\n",
    "    table, you do not see query results. The output is an empty string."
   ]
  },
  {
   "cell_type": "markdown",
   "metadata": {},
   "source": [
    "## Step three: Get training statistics\n",
    "\n",
    "To see the results of the model training, you can use the\n",
    "[`ML.TRAINING_INFO`](/bigquery/docs/reference/standard-sql/bigqueryml-syntax-train)\n",
    "function, or you can view the statistics in the BigQuery UI.\n",
    "In this tutorial, you use the `ML.TRAINING_INFO` function.\n",
    "\n",
    "A machine learning algorithm builds a model by examining many examples and\n",
    "attempting to find a model that minimizes loss. This process is called empirical\n",
    "risk minimization.\n",
    "\n",
    "Loss is the penalty for a bad prediction &mdash; a number indicating\n",
    "how bad the model's prediction was on a single example. If the model's\n",
    "prediction is perfect, the loss is zero; otherwise, the loss is greater. The\n",
    "goal of training a model is to find a set of weights that have low\n",
    "loss, on average, across all examples.\n",
    "\n",
    "To see the model training statistics that were generated when you ran the\n",
    "`CREATE MODEL` query, run the following:"
   ]
  },
  {
   "cell_type": "code",
   "execution_count": null,
   "metadata": {},
   "outputs": [],
   "source": [
    "%%bigquery\n",
    "SELECT\n",
    "  *\n",
    "FROM\n",
    "  ML.TRAINING_INFO(MODEL `bqml_tutorial.sample_model`)"
   ]
  },
  {
   "cell_type": "markdown",
   "metadata": {},
   "source": [
    "Note: Typically, it is not a best practice to use a `SELECT *` query. Because the model output is a small table, this query does not process a large amount of data. As a result, the cost is minimal.\n",
    "\n",
    "The `loss` column represents the loss metric calculated after the given iteration\n",
    "    on the training dataset. Since you performed a logistic regression, this column\n",
    "    is the [log loss](https://en.wikipedia.org/wiki/Cross_entropy#Cross-entropy_error_function_and_logistic_regression).\n",
    "    The `eval_loss` column is the same loss metric calculated on\n",
    "    the holdout dataset (data that is held back from training to validate the model).\n",
    "\n",
    "For more details on the `ML.TRAINING_INFO` function, see the\n",
    "    [BQML syntax reference](https://cloud.google.com/bigquery/docs/reference/standard-sql/bigqueryml-syntax-train)."
   ]
  },
  {
   "cell_type": "markdown",
   "metadata": {},
   "source": [
    "## Step four: Evaluate your model\n",
    "\n",
    "After creating your model, you evaluate the performance of the classifier using\n",
    "the [`ML.EVALUATE`](/bigquery/docs/reference/standard-sql/bigqueryml-syntax-evaluate)\n",
    "function. You can also use the [`ML.ROC_CURVE`](/bigquery/docs/reference/standard-sql/bigqueryml-syntax-roc)\n",
    "function for logistic regression specific metrics.\n",
    "\n",
    "A classifier is one of a set of enumerated target values for a label. For\n",
    "example, in this tutorial you are using a binary classification model that\n",
    "detects transactions. The two classes are the values in the `label` column:\n",
    "`0` (no transactions) and not `1` (transaction made).\n",
    "\n",
    "To run the `ML.EVALUATE` query that evaluates the model, run the following:"
   ]
  },
  {
   "cell_type": "code",
   "execution_count": null,
   "metadata": {},
   "outputs": [],
   "source": [
    "%%bigquery\n",
    "SELECT\n",
    "  *\n",
    "FROM ML.EVALUATE(MODEL `bqml_tutorial.sample_model`, (\n",
    "  SELECT\n",
    "    IF(totals.transactions IS NULL, 0, 1) AS label,\n",
    "    IFNULL(device.operatingSystem, \"\") AS os,\n",
    "    device.isMobile AS is_mobile,\n",
    "    IFNULL(geoNetwork.country, \"\") AS country,\n",
    "    IFNULL(totals.pageviews, 0) AS pageviews\n",
    "  FROM\n",
    "    `bigquery-public-data.google_analytics_sample.ga_sessions_*`\n",
    "  WHERE\n",
    "    _TABLE_SUFFIX BETWEEN '20170701' AND '20170801'))"
   ]
  },
  {
   "cell_type": "markdown",
   "metadata": {},
   "source": [
    "The output shows some model metrics which may be unfamiliar. \n",
    "\n",
    "Specifically, the output with logistic regression includes:\n",
    "\n",
    "+ [`accuracy`](https://developers.google.com/machine-learning/glossary/#accuracy)\n",
    "+ [`precision`](https://developers.google.com/machine-learning/glossary/#precision)\n",
    "+ [`recall`](https://developers.google.com/machine-learning/glossary/#recall)\n",
    "+ [`f1_score`](https://en.wikipedia.org/wiki/F1_score)\n",
    "+ [`log_loss`](https://developers.google.com/machine-learning/glossary/#Log_Loss)\n",
    "+ [`roc_auc`](https://developers.google.com/machine-learning/glossary/#AUC)\n",
    "\n",
    "The first metric, `accuracy` is the most straightforward. It reports what fraction of predictions are correct. Understanding these metrics isn't critical for building your first models, and many successful data scientists look the definitions up on the rare occasion they need to know them."
   ]
  },
  {
   "cell_type": "markdown",
   "metadata": {},
   "source": [
    "## Step five: Use your model to predict outcomes\n",
    "\n",
    "Now that you have evaluated your model, the next step is to use it to predict\n",
    "outcomes. You use your model to predict the number of transactions made by\n",
    "website visitors from each country. And you use it to predict purchases per user.\n",
    "\n",
    "To run the query that uses the model to predict the number of transactions:"
   ]
  },
  {
   "cell_type": "code",
   "execution_count": null,
   "metadata": {},
   "outputs": [],
   "source": [
    "%%bigquery\n",
    "SELECT\n",
    "  country,\n",
    "  SUM(predicted_label) as total_predicted_purchases\n",
    "FROM ML.PREDICT(MODEL `bqml_tutorial.sample_model`, (\n",
    "  SELECT\n",
    "    IFNULL(device.operatingSystem, \"\") AS os,\n",
    "    device.isMobile AS is_mobile,\n",
    "    IFNULL(totals.pageviews, 0) AS pageviews,\n",
    "    IFNULL(geoNetwork.country, \"\") AS country\n",
    "  FROM\n",
    "    `bigquery-public-data.google_analytics_sample.ga_sessions_*`\n",
    "  WHERE\n",
    "    _TABLE_SUFFIX BETWEEN '20170701' AND '20170801'))\n",
    "  GROUP BY country\n",
    "  ORDER BY total_predicted_purchases DESC\n",
    "  LIMIT 10"
   ]
  },
  {
   "cell_type": "markdown",
   "metadata": {},
   "source": [
    "In the next example, you try to predict the number of transactions each website\n",
    "visitor will make. This query is identical to the previous query except for the\n",
    "`GROUP BY` clause. Here the `GROUP BY` clause &mdash; `GROUP BY fullVisitorId`\n",
    "&mdash; is used to group the results by visitor ID.\n",
    "\n",
    "To run the query that predicts purchases per user:"
   ]
  },
  {
   "cell_type": "code",
   "execution_count": null,
   "metadata": {},
   "outputs": [],
   "source": [
    "%%bigquery\n",
    "SELECT\n",
    "  fullVisitorId,\n",
    "  SUM(predicted_label) as total_predicted_purchases\n",
    "FROM ML.PREDICT(MODEL `bqml_tutorial.sample_model`, (\n",
    "  SELECT\n",
    "    IFNULL(device.operatingSystem, \"\") AS os,\n",
    "    device.isMobile AS is_mobile,\n",
    "    IFNULL(totals.pageviews, 0) AS pageviews,\n",
    "    IFNULL(geoNetwork.country, \"\") AS country,\n",
    "    fullVisitorId\n",
    "  FROM\n",
    "    `bigquery-public-data.google_analytics_sample.ga_sessions_*`\n",
    "  WHERE\n",
    "    _TABLE_SUFFIX BETWEEN '20170701' AND '20170801'))\n",
    "  GROUP BY fullVisitorId\n",
    "  ORDER BY total_predicted_purchases DESC\n",
    "  LIMIT 10"
   ]
  },
  {
   "cell_type": "markdown",
   "metadata": {},
   "source": [
    "## Cleanup\n",
    "To avoid incurring charges to your Google Cloud Platform account for the resources used in this tutorial:\n",
    "\n",
    "+ You can delete the project you created.\n",
    "+ Or you can keep the project and delete the dataset."
   ]
  },
  {
   "cell_type": "markdown",
   "metadata": {},
   "source": [
    "## Your Turn\n",
    "\n",
    "You've seen how to use Bigquery ML to quickly build a model on a large dataset. Now it's your turn to build a model yourself."
   ]
  }
 ],
 "metadata": {
  "kernelspec": {
   "display_name": "Python 3",
   "language": "python",
   "name": "python3"
  },
  "language_info": {
   "codemirror_mode": {
    "name": "ipython",
    "version": 3
   },
   "file_extension": ".py",
   "mimetype": "text/x-python",
   "name": "python",
   "nbconvert_exporter": "python",
   "pygments_lexer": "ipython3",
   "version": "3.6.5"
  }
 },
 "nbformat": 4,
 "nbformat_minor": 2
}
