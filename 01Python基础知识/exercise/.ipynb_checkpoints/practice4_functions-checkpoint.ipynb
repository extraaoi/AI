{
 "cells": [
  {
   "cell_type": "markdown",
   "metadata": {},
   "source": [
    "**在教程中，你学习了函数。在这个练习中，你将自己编写一些函数代码!**\n",
    "\n",
    "\n",
    "# notebook设置\n",
    "这一章我们需要进行notebook的设置，因为我们将要使用到一些较为复杂的数学运算，math库函数能够帮助我们省去编写数学逻辑运算的代码，因此在下面的码元格中，我们调用了math库。\n",
    "\n",
    "在未来的学习中，如果我们需要用到某些特定的功能（例如卷积、相关、拟合等），希望你学会先查询是否有相关的库函数能够帮助你简化编程过程。\n",
    "\n",
    "运行下面的码元框，当出现`notebook设置已完成。`后，再继续开始练习。"
   ]
  },
  {
   "cell_type": "code",
   "execution_count": 1,
   "metadata": {},
   "outputs": [
    {
     "name": "stdout",
     "output_type": "stream",
     "text": [
      "notebook设置已完成。\n"
     ]
    }
   ],
   "source": [
    "# notebook设置\n",
    "import math\n",
    "print('notebook设置已完成。')"
   ]
  },
  {
   "cell_type": "markdown",
   "metadata": {},
   "source": [
    "# Question 1\n",
    "\n",
    "\n",
    "在[房价-回归技术竞赛](https://www.kaggle.com/c/house-prices-advanced-regression-techniques/overview)中，你需要使用像卧室和浴室数量这样的信息来预测房子的价格。受这个竞赛的启发，你将编写自己的函数来完成这项工作。\n",
    "\n",
    "在下一个代码单元格中，创建一个具有两个参数的函数`get_expected_cost()`:\n",
    "- `beds` -卧室的数量\n",
    "- `baths` -浴室的数量\n",
    "\n",
    "它应该返回具有该数量卧室和浴室的房子的预期成本。假设:\n",
    "- 一套没有卧室和浴室的房子的预期成本是`80000`。\n",
    "- 每间卧室的预期成本增加`30000`\n",
    "- 每个浴室增加`10000`的预期成本。\n",
    "\n",
    "例如,\n",
    "- 1卧室1浴室的房子预期成本为`12万英镑`\n",
    "- 2卧室1浴室的房子预期成本为`15万英镑`"
   ]
  },
  {
   "cell_type": "code",
   "execution_count": null,
   "metadata": {
    "execution": {
     "iopub.execute_input": "2022-01-28T19:32:29.981041Z",
     "iopub.status.busy": "2022-01-28T19:32:29.979554Z",
     "iopub.status.idle": "2022-01-28T19:32:29.988906Z",
     "shell.execute_reply": "2022-01-28T19:32:29.987958Z",
     "shell.execute_reply.started": "2022-01-28T19:32:29.980942Z"
    }
   },
   "outputs": [],
   "source": [
    "# 完善函数\n",
    "def get_expected_cost(beds, baths):\n",
    "    value = ____\n",
    "    return value"
   ]
  },
  {
   "cell_type": "markdown",
   "metadata": {},
   "source": [
    "# Question 2\n",
    "\n",
    "你正在考虑买一套房子，想要根据卧室和浴室的数量来了解你将花多少钱。你正试图在四个不同的选项中做出选择:\n",
    "- option_1:有两间卧室和三间浴室的房子\n",
    "- option_2:有三间卧室和两间浴室的房子\n",
    "- option_3:有三间卧室和三间浴室的房子\n",
    "- option_4:有三间卧室和四间浴室的房子\n",
    "\n",
    "使用你在问题1中定义的`get_expected_cost()`函数将`option_1`、`option_2`、`option_3`和`option_4`设置为每个选项的期望成本。"
   ]
  },
  {
   "cell_type": "code",
   "execution_count": null,
   "metadata": {
    "execution": {
     "iopub.execute_input": "2022-01-28T19:32:31.138955Z",
     "iopub.status.busy": "2022-01-28T19:32:31.138346Z",
     "iopub.status.idle": "2022-01-28T19:32:31.147079Z",
     "shell.execute_reply": "2022-01-28T19:32:31.146137Z",
     "shell.execute_reply.started": "2022-01-28T19:32:31.138897Z"
    }
   },
   "outputs": [],
   "source": [
    "# 使用get_expected_cost函数填充每个值\n",
    "option_one = ____\n",
    "option_two = ____\n",
    "option_three = ____\n",
    "option_four = ____\n",
    "\n",
    "print(option_one)\n",
    "print(option_two)\n",
    "print(option_three)\n",
    "print(option_four)"
   ]
  },
  {
   "cell_type": "markdown",
   "metadata": {},
   "source": [
    "# Question 3\n",
    "\n",
    "你是一个家庭装饰师，你想使用Python来简化一些工作。具体来说，您正在创建一个函数，打算使用它来计算粉刷房间的成本。\n",
    "\n",
    "第一步，定义一个函数`get_cost()`作为输入:\n",
    "- `sqft_walls` =需要粉刷的墙壁的总平方英尺\n",
    "- `sqft_ceiling` =要粉刷的天花板的平方英尺\n",
    "- ` sqft_per_加仑` =一加仑油漆可以覆盖的平方英尺数\n",
    "- ` cost_per_加仑` =一加仑油漆的成本(美元)\n",
    "\n",
    "函数应该返回在所有墙壁和天花板上涂一层油漆的成本(美元)。假设你可以购买你所需要的油漆的确切数量，所以你可以购买部分加仑(例如，如果你需要7.523加仑，你可以购买正好数量的油漆，而不是需要购买8加仑，浪费一些油漆)。\n",
    "\n",
    "**不要四舍五入**"
   ]
  },
  {
   "cell_type": "code",
   "execution_count": 2,
   "metadata": {
    "execution": {
     "iopub.execute_input": "2022-01-28T19:20:51.698164Z",
     "iopub.status.busy": "2022-01-28T19:20:51.697538Z",
     "iopub.status.idle": "2022-01-28T19:20:51.727027Z",
     "shell.execute_reply": "2022-01-28T19:20:51.726324Z",
     "shell.execute_reply.started": "2022-01-28T19:20:51.698035Z"
    }
   },
   "outputs": [],
   "source": [
    "# 完善函数\n",
    "def get_cost(sqft_walls, sqft_ceiling, sqft_per_gallon, cost_per_gallon):\n",
    "    cost = ____\n",
    "    return cost"
   ]
  },
  {
   "cell_type": "markdown",
   "metadata": {},
   "source": [
    "# Question 4\n",
    "\n",
    "使用你在Question 3中定义的`get_cost()`函数来计算在房间上一层油漆的成本:\n",
    "- 432平方英尺的墙\n",
    "- 144平方英尺的天花板\n",
    "\n",
    "假设一加仑油漆覆盖400平方英尺，价格为15美元。和Question 3一样，假设你可以买到部分加仑的油漆。\n",
    "\n",
    "**不要四舍五入**"
   ]
  },
  {
   "cell_type": "code",
   "execution_count": null,
   "metadata": {
    "execution": {
     "iopub.execute_input": "2022-01-11T15:46:32.597864Z",
     "iopub.status.busy": "2022-01-11T15:46:32.597427Z",
     "iopub.status.idle": "2022-01-11T15:46:32.604147Z",
     "shell.execute_reply": "2022-01-11T15:46:32.603249Z",
     "shell.execute_reply.started": "2022-01-11T15:46:32.59781Z"
    }
   },
   "outputs": [],
   "source": [
    "# 设置project_cost变量为项目的成本\n",
    "project_cost = ____"
   ]
  },
  {
   "cell_type": "markdown",
   "metadata": {},
   "source": [
    "# ☆ Question 5\n",
    "\n",
    "现在你不能再买一加仑的零头了。(例如，如果你需要4.3加仑来做一个项目，那么你必须购买5加仑的油漆。)\n",
    "\n",
    "在这个新的场景中，你将创建一个新的函数`get_actual_cost`，它使用相同的输入来计算项目的成本。\n",
    "你需要使用的一个函数是`math.ceil()`。我们将在下面的代码单元中演示该函数的用法。它接受一个数字作为输入，并将该数字向上舍入到最接近的整数。\n",
    "运行下一个代码单元格，自己测试这个函数。可以随意更改`test_value`的值，并确保`math.ceil()`返回你期望的数字。"
   ]
  },
  {
   "cell_type": "code",
   "execution_count": null,
   "metadata": {
    "execution": {
     "iopub.execute_input": "2022-01-11T16:20:02.068358Z",
     "iopub.status.busy": "2022-01-11T16:20:02.06753Z",
     "iopub.status.idle": "2022-01-11T16:20:02.073477Z",
     "shell.execute_reply": "2022-01-11T16:20:02.072705Z",
     "shell.execute_reply.started": "2022-01-11T16:20:02.06831Z"
    }
   },
   "outputs": [],
   "source": [
    "test_value = 2.17\n",
    "\n",
    "rounded_value = math.ceil(test_value)\n",
    "print(rounded_value)"
   ]
  },
  {
   "cell_type": "markdown",
   "metadata": {},
   "source": [
    "使用下面的码元格来定义函数`get_actual_cost()`。你需要使用`math.ceil()`函数来实现。\n",
    "\n",
    "在回答这个问题时，请注意，定义一个函数时使用另一个函数是完全合法的。例如，我们可以定义一个`round_up_and_divide_by_three`函数，它使用`math.ceil `函数:\n",
    "\n",
    "```\n",
    "def round_up_and_divide_by_three(num):\n",
    "    new_value = math.ceil(num)\n",
    "    final_value = new_value / 3\n",
    "    return final_value\n",
    "```"
   ]
  },
  {
   "cell_type": "code",
   "execution_count": null,
   "metadata": {
    "execution": {
     "iopub.execute_input": "2022-01-28T22:17:36.984577Z",
     "iopub.status.busy": "2022-01-28T22:17:36.98411Z",
     "iopub.status.idle": "2022-01-28T22:17:37.013757Z",
     "shell.execute_reply": "2022-01-28T22:17:37.012864Z",
     "shell.execute_reply.started": "2022-01-28T22:17:36.984455Z"
    }
   },
   "outputs": [],
   "source": [
    "def get_actual_cost(sqft_walls, sqft_ceiling, sqft_per_gallon, cost_per_gallon):\n",
    "    cost = ____\n",
    "    return cost"
   ]
  },
  {
   "cell_type": "markdown",
   "metadata": {},
   "source": [
    "运行下一个码元格来计算项目的更新成本。"
   ]
  },
  {
   "cell_type": "code",
   "execution_count": null,
   "metadata": {
    "execution": {
     "iopub.execute_input": "2022-01-11T15:49:59.472436Z",
     "iopub.status.busy": "2022-01-11T15:49:59.472141Z",
     "iopub.status.idle": "2022-01-11T15:49:59.479131Z",
     "shell.execute_reply": "2022-01-11T15:49:59.477864Z",
     "shell.execute_reply.started": "2022-01-11T15:49:59.472406Z"
    }
   },
   "outputs": [],
   "source": [
    "get_actual_cost(432, 144, 400, 15) "
   ]
  },
  {
   "cell_type": "markdown",
   "metadata": {},
   "source": [
    "假设你有一个稍微大一点的房间。运行下一个码元格来计算项目的成本。"
   ]
  },
  {
   "cell_type": "code",
   "execution_count": null,
   "metadata": {
    "execution": {
     "iopub.execute_input": "2022-01-11T16:04:36.645519Z",
     "iopub.status.busy": "2022-01-11T16:04:36.644695Z",
     "iopub.status.idle": "2022-01-11T16:04:36.650348Z",
     "shell.execute_reply": "2022-01-11T16:04:36.649731Z",
     "shell.execute_reply.started": "2022-01-11T16:04:36.64547Z"
    }
   },
   "outputs": [],
   "source": [
    "get_actual_cost(594, 288, 400, 15) "
   ]
  },
  {
   "cell_type": "markdown",
   "metadata": {},
   "source": [
    "# 恭喜你!你刚刚完成了编程入门课程的第四个练习!"
   ]
  }
 ],
 "metadata": {
  "kernelspec": {
   "display_name": "Python 3 (ipykernel)",
   "language": "python",
   "name": "python3"
  },
  "language_info": {
   "codemirror_mode": {
    "name": "ipython",
    "version": 3
   },
   "file_extension": ".py",
   "mimetype": "text/x-python",
   "name": "python",
   "nbconvert_exporter": "python",
   "pygments_lexer": "ipython3",
   "version": "3.9.13"
  }
 },
 "nbformat": 4,
 "nbformat_minor": 4
}
