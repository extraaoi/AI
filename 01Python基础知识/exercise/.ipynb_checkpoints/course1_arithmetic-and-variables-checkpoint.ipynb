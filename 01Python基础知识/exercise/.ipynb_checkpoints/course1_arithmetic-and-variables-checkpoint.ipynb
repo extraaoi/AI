{
 "cells": [
  {
   "cell_type": "markdown",
   "id": "f414f965",
   "metadata": {
    "papermill": {
     "duration": 0.012175,
     "end_time": "2022-06-06T19:02:49.482723",
     "exception": false,
     "start_time": "2022-06-06T19:02:49.470548",
     "status": "completed"
    },
    "tags": []
   },
   "source": [
    "# Python基础知识入门\n",
    "\n",
    "本门课程是为没有编程基础，但有意向学习数据科学和机器学习的本科生开设。当然，如果你已经有丰富的编程基础，那么python的学习将为你的编程能力锦上添花。\n",
    "\n",
    "本门课程的学习内容，是如何使用代码让计算机执行某些特定任务。Python是数据科学中应用范围最广、最流行的编程语言之一，因此本门课程的学习我们选用Python语言，为机器学习的学习和功能实现提供支持\n",
    "\n",
    "课程教程中的Python Demo是比较经典的示例，课程后的练习中，你可以根据这些Demo自己尝试编写代码。"
   ]
  },
  {
   "cell_type": "markdown",
   "id": "2effaa8a",
   "metadata": {
    "papermill": {
     "duration": 0.007615,
     "end_time": "2022-06-06T19:02:49.498445",
     "exception": false,
     "start_time": "2022-06-06T19:02:49.490830",
     "status": "completed"
    },
    "tags": []
   },
   "source": [
    "# 打印输出\n",
    "\n",
    "计算机最简单同时也是最重要的操作之一，就是讲我们所需的内容显示出来，因此我们首先学习“打印输出”。\n",
    "\n",
    "在Python中，我们通过 `print()`指令让计算机打印输出我们所需要的内容。打印的内容要用双引号\"\"来进行界定，然后将其放入括号中。\n",
    "请注意：不要使用中文双引号“”，这是编程中很容易犯的错误。\n",
    "\n",
    "下面的指令可以让计算机打印消息' Hello, world! '。"
   ]
  },
  {
   "cell_type": "code",
   "execution_count": 1,
   "id": "2a6432cd",
   "metadata": {
    "execution": {
     "iopub.execute_input": "2022-06-06T19:02:49.516100Z",
     "iopub.status.busy": "2022-06-06T19:02:49.515589Z",
     "iopub.status.idle": "2022-06-06T19:02:49.526317Z",
     "shell.execute_reply": "2022-06-06T19:02:49.525578Z"
    },
    "papermill": {
     "duration": 0.022325,
     "end_time": "2022-06-06T19:02:49.528543",
     "exception": false,
     "start_time": "2022-06-06T19:02:49.506218",
     "status": "completed"
    },
    "tags": []
   },
   "outputs": [
    {
     "name": "stdout",
     "output_type": "stream",
     "text": [
      "Hello, world!\n"
     ]
    }
   ],
   "source": [
    "print(\"Hello, world!\")"
   ]
  },
  {
   "cell_type": "markdown",
   "id": "15586193",
   "metadata": {
    "papermill": {
     "duration": 0.007567,
     "end_time": "2022-06-06T19:02:49.544075",
     "exception": false,
     "start_time": "2022-06-06T19:02:49.536508",
     "status": "completed"
    },
    "tags": []
   },
   "source": [
    "上面的实验我们可以在代码运行框（称为**码元格**）下，看到计算机的响应（成为代码的**输出**）显示。显示结果表明，计算机打印输出了我们想要的信息。\n",
    "\n",
    "\n",
    "\n",
    "# 算术运算\n",
    "\n",
    "同样的，我们可以利用计算机来打印算数运算（包括但不限于加、减、乘、除）的值。\n",
    "\n",
    "例如，在下一个码元格中计算机将帮助我们计算2+1，并将打印出结果3，但是与单纯打印文本不同，这里**不要引号**。"
   ]
  },
  {
   "cell_type": "code",
   "execution_count": 2,
   "id": "2f580351",
   "metadata": {
    "execution": {
     "iopub.execute_input": "2022-06-06T19:02:49.561799Z",
     "iopub.status.busy": "2022-06-06T19:02:49.561253Z",
     "iopub.status.idle": "2022-06-06T19:02:49.565929Z",
     "shell.execute_reply": "2022-06-06T19:02:49.564823Z"
    },
    "papermill": {
     "duration": 0.015997,
     "end_time": "2022-06-06T19:02:49.567927",
     "exception": false,
     "start_time": "2022-06-06T19:02:49.551930",
     "status": "completed"
    },
    "tags": []
   },
   "outputs": [
    {
     "name": "stdout",
     "output_type": "stream",
     "text": [
      "3\n"
     ]
    }
   ],
   "source": [
    "print(1 + 2)"
   ]
  },
  {
   "cell_type": "markdown",
   "id": "56022893",
   "metadata": {
    "papermill": {
     "duration": 0.007757,
     "end_time": "2022-06-06T19:02:49.583862",
     "exception": false,
     "start_time": "2022-06-06T19:02:49.576105",
     "status": "completed"
    },
    "tags": []
   },
   "source": [
    "再举一个减法运算的例子。"
   ]
  },
  {
   "cell_type": "code",
   "execution_count": 3,
   "id": "83f13eba",
   "metadata": {
    "execution": {
     "iopub.execute_input": "2022-06-06T19:02:49.602098Z",
     "iopub.status.busy": "2022-06-06T19:02:49.601576Z",
     "iopub.status.idle": "2022-06-06T19:02:49.605960Z",
     "shell.execute_reply": "2022-06-06T19:02:49.604835Z"
    },
    "papermill": {
     "duration": 0.01615,
     "end_time": "2022-06-06T19:02:49.608109",
     "exception": false,
     "start_time": "2022-06-06T19:02:49.591959",
     "status": "completed"
    },
    "tags": []
   },
   "outputs": [
    {
     "name": "stdout",
     "output_type": "stream",
     "text": [
      "4\n"
     ]
    }
   ],
   "source": [
    "print(9 - 5)"
   ]
  },
  {
   "cell_type": "markdown",
   "id": "0cd94c49",
   "metadata": {
    "papermill": {
     "duration": 0.008304,
     "end_time": "2022-06-06T19:02:49.624731",
     "exception": false,
     "start_time": "2022-06-06T19:02:49.616427",
     "status": "completed"
    },
    "tags": []
   },
   "source": [
    "Python还可以做各种各样的运算，下标给出一些例子：\n",
    "\n",
    "<table style=\"width: 100%;\">\n",
    "<tbody>\n",
    "<tr><th><b><center>运算</center></b></th><th><b><center>运算符</center></b></th><th><b><center>示例</center></b></th></tr>\n",
    "<tr>\n",
    "<td><center>加</center></td>\n",
    "<td><center>+</center></td>\n",
    "<td><center>1 + 2 = 3</center></td>\n",
    "</tr>\n",
    "<tr>\n",
    "<td><center>减</center></td>\n",
    "<td><center>-</center></td>\n",
    "<td><center>5 - 4 = 1</center></td>\n",
    "</tr>\n",
    "<tr>\n",
    "<td><center>乘</center></td>\n",
    "<td><center>*</center></td>\n",
    "<td><center>2 * 4 = 8</center></td>\n",
    "</tr>\n",
    "<tr>\n",
    "<td><center>除</center></td>\n",
    "<td><center>/</center></td>\n",
    "<td><center>6 / 3 = 2</center></td>\n",
    "</tr>\n",
    "<tr>\n",
    "<td><center>幂</center></td>\n",
    "<td><center>**</center></td>\n",
    "<td><center>3 ** 2 = 9</center></td>\n",
    "</tr>\n",
    "</tbody>\n",
    "</table>"
   ]
  },
  {
   "cell_type": "markdown",
   "id": "beb970e7",
   "metadata": {
    "papermill": {
     "duration": 0.007676,
     "end_time": "2022-06-06T19:02:49.640930",
     "exception": false,
     "start_time": "2022-06-06T19:02:49.633254",
     "status": "completed"
    },
    "tags": []
   },
   "source": [
    "在长计算中，括号可以控制运算顺序"
   ]
  },
  {
   "cell_type": "code",
   "execution_count": 4,
   "id": "11d97a29",
   "metadata": {
    "execution": {
     "iopub.execute_input": "2022-06-06T19:02:49.659462Z",
     "iopub.status.busy": "2022-06-06T19:02:49.659039Z",
     "iopub.status.idle": "2022-06-06T19:02:49.664325Z",
     "shell.execute_reply": "2022-06-06T19:02:49.663235Z"
    },
    "papermill": {
     "duration": 0.017542,
     "end_time": "2022-06-06T19:02:49.666714",
     "exception": false,
     "start_time": "2022-06-06T19:02:49.649172",
     "status": "completed"
    },
    "tags": []
   },
   "outputs": [
    {
     "name": "stdout",
     "output_type": "stream",
     "text": [
      "196.0\n"
     ]
    }
   ],
   "source": [
    "print(((1 + 3) * (9 - 2) / 2) ** 2)"
   ]
  },
  {
   "cell_type": "markdown",
   "id": "b0cac063",
   "metadata": {
    "papermill": {
     "duration": 0.008264,
     "end_time": "2022-06-06T19:02:49.683423",
     "exception": false,
     "start_time": "2022-06-06T19:02:49.675159",
     "status": "completed"
    },
    "tags": []
   },
   "source": [
    "一般情况下，Python在决定操作顺序时遵循 [PEMDAS规则](https://www.mathsisfun.com/operation-order-pemdas.html)。\n",
    "\n",
    "\n",
    "# 注释\n",
    "\n",
    "我们使用**注释**来解释我们的代码的作用，帮助他人理解你的代码，当你一段时间没有看自己的代码时，注释也可以帮你快速回忆。到目前为止，我们边写的代码还比较短，但当你编写大量代码时，注释就变得非常重要。\n",
    "\n",
    "下面的码元格中，我们将运行3×2，并为其添加注释 (`#3×2`)来描述代码的作用。"
   ]
  },
  {
   "cell_type": "code",
   "execution_count": 5,
   "id": "aebb1b06",
   "metadata": {
    "execution": {
     "iopub.execute_input": "2022-06-06T19:02:49.701956Z",
     "iopub.status.busy": "2022-06-06T19:02:49.701578Z",
     "iopub.status.idle": "2022-06-06T19:02:49.706362Z",
     "shell.execute_reply": "2022-06-06T19:02:49.705442Z"
    },
    "papermill": {
     "duration": 0.016798,
     "end_time": "2022-06-06T19:02:49.708611",
     "exception": false,
     "start_time": "2022-06-06T19:02:49.691813",
     "status": "completed"
    },
    "tags": []
   },
   "outputs": [
    {
     "name": "stdout",
     "output_type": "stream",
     "text": [
      "6\n"
     ]
    }
   ],
   "source": [
    "#3×2\n",
    "print(3 * 2)"
   ]
  },
  {
   "cell_type": "markdown",
   "id": "8f1bcfa3",
   "metadata": {
    "papermill": {
     "duration": 0.008558,
     "end_time": "2022-06-06T19:02:49.725507",
     "exception": false,
     "start_time": "2022-06-06T19:02:49.716949",
     "status": "completed"
    },
    "tags": []
   },
   "source": [
    "注释的标志是 `#`。  \n",
    "\n",
    "Python编译的过程中看到`#`就知道这一行是注释，则这一行在编译过程中就会被计算机完全忽略。这很重要，因为就像我们交流的自然语言一样，Python是一种需要遵守非常严格规则的语言。不过，Python比自然语言更严格，如果编译器不能理解代码，就会报错。\n",
    "\n",
    "请看下面的例子，由于没有加上`#`，导致这段代码不是有效的代码，Python不能理解这一段代码的操作，就会报错。"
   ]
  },
  {
   "cell_type": "code",
   "execution_count": 6,
   "id": "58c93dc4",
   "metadata": {
    "execution": {
     "iopub.execute_input": "2022-06-06T19:02:49.744222Z",
     "iopub.status.busy": "2022-06-06T19:02:49.743316Z",
     "iopub.status.idle": "2022-06-06T19:02:49.749689Z",
     "shell.execute_reply": "2022-06-06T19:02:49.748890Z"
    },
    "papermill": {
     "duration": 0.017812,
     "end_time": "2022-06-06T19:02:49.751698",
     "exception": false,
     "start_time": "2022-06-06T19:02:49.733886",
     "status": "completed"
    },
    "tags": []
   },
   "outputs": [
    {
     "ename": "SyntaxError",
     "evalue": "invalid syntax (3750420471.py, line 1)",
     "output_type": "error",
     "traceback": [
      "\u001b[1;36m  File \u001b[1;32m\"C:\\Users\\97396\\AppData\\Local\\Temp\\ipykernel_19716\\3750420471.py\"\u001b[1;36m, line \u001b[1;32m1\u001b[0m\n\u001b[1;33m    Multiply 3 by 2\u001b[0m\n\u001b[1;37m             ^\u001b[0m\n\u001b[1;31mSyntaxError\u001b[0m\u001b[1;31m:\u001b[0m invalid syntax\n"
     ]
    }
   ],
   "source": [
    "Multiply 3 by 2"
   ]
  },
  {
   "cell_type": "markdown",
   "id": "4b35eab9",
   "metadata": {
    "papermill": {
     "duration": 0.008029,
     "end_time": "2022-06-06T19:02:49.768037",
     "exception": false,
     "start_time": "2022-06-06T19:02:49.760008",
     "status": "completed"
    },
    "tags": []
   },
   "source": [
    "# 变量\n",
    "\n",
    "到目前为止，我们使用代码进行了计算并打印了结果，但是结果没有保存在任何地方。为此，需要使用变量**变量**来帮助我们保存运算结果，便于后面编程的过程中使用。\n",
    "\n",
    "## 创建变量\n",
    "\n",
    "下面的码元格中床架进了一个名为`test_var`变量，并将5+4的结果值赋给了这个变量。\n",
    "我们打印输出这个变量的值，可以发现它帮我们记住了9。"
   ]
  },
  {
   "cell_type": "code",
   "execution_count": null,
   "id": "2f4d7800",
   "metadata": {
    "execution": {
     "iopub.execute_input": "2022-06-06T19:02:49.786981Z",
     "iopub.status.busy": "2022-06-06T19:02:49.785992Z",
     "iopub.status.idle": "2022-06-06T19:02:49.792038Z",
     "shell.execute_reply": "2022-06-06T19:02:49.790992Z"
    },
    "papermill": {
     "duration": 0.01761,
     "end_time": "2022-06-06T19:02:49.794001",
     "exception": false,
     "start_time": "2022-06-06T19:02:49.776391",
     "status": "completed"
    },
    "tags": []
   },
   "outputs": [],
   "source": [
    "# 创建一个名为called test_var的变量并将其赋值为5+4\n",
    "test_var = 4 + 5\n",
    "\n",
    "# 打印变量test_var的值\n",
    "print(test_var)"
   ]
  },
  {
   "cell_type": "markdown",
   "id": "c24b4fb5",
   "metadata": {
    "papermill": {
     "duration": 0.008488,
     "end_time": "2022-06-06T19:02:49.811061",
     "exception": false,
     "start_time": "2022-06-06T19:02:49.802573",
     "status": "completed"
    },
    "tags": []
   },
   "source": [
    "一般来说，要使用变量，首先要选择要使用的名称。理想情况下，变量名应该简短且具有描述性。它们还需要满足以下几个要求:\n",
    "- 变两个间不可以有空格 (例如`test var`是不合法的变量)\n",
    "- 只能包含字母、数字和下划线 (例如`test_var!`是不合法的变量)\n",
    "- 必须以字母或下划线开头 (例如`1_var`是不合法的变量)\n",
    "要创建变量，需要使用=来给它赋值。\n",
    "\n",
    "使用`print()`并将变量名放在括号中，可以查看赋给变量的值。\n",
    "\n",
    "之后你将学习如何为Python变量选择合适的名称。现在不太适应是正常的，学习编程的最好方法就是查看大量的代码!"
   ]
  },
  {
   "cell_type": "markdown",
   "id": "76cdf68e",
   "metadata": {
    "papermill": {
     "duration": 0.008102,
     "end_time": "2022-06-06T19:02:49.827886",
     "exception": false,
     "start_time": "2022-06-06T19:02:49.819784",
     "status": "completed"
    },
    "tags": []
   },
   "source": [
    "## 操控变量\n",
    "\n",
    "我们可以通过覆盖之前的值来改变赋给变量的值。在下面的码元格中，我们将`my_var`的值从3改为100。"
   ]
  },
  {
   "cell_type": "code",
   "execution_count": null,
   "id": "b170db3e",
   "metadata": {
    "execution": {
     "iopub.execute_input": "2022-06-06T19:02:49.846911Z",
     "iopub.status.busy": "2022-06-06T19:02:49.846531Z",
     "iopub.status.idle": "2022-06-06T19:02:49.851720Z",
     "shell.execute_reply": "2022-06-06T19:02:49.850723Z"
    },
    "papermill": {
     "duration": 0.017683,
     "end_time": "2022-06-06T19:02:49.854245",
     "exception": false,
     "start_time": "2022-06-06T19:02:49.836562",
     "status": "completed"
    },
    "tags": []
   },
   "outputs": [],
   "source": [
    "# 将新变量的值设置为3\n",
    "my_var = 3\n",
    "\n",
    "# 打印var的值\n",
    "print(my_var)\n",
    "\n",
    "# 将变量的值改为100\n",
    "my_var = 100\n",
    "\n",
    "# 打印var的值\n",
    "print(my_var)"
   ]
  },
  {
   "cell_type": "markdown",
   "id": "a6508d2f",
   "metadata": {
    "papermill": {
     "duration": 0.008282,
     "end_time": "2022-06-06T19:02:49.870999",
     "exception": false,
     "start_time": "2022-06-06T19:02:49.862717",
     "status": "completed"
    },
    "tags": []
   },
   "source": [
    "注意，通常情况下，只要在码元格中定义变量，接下来的所有代码单元格都可以访问该变量。例如，我们使用下一个代码单元来访问`my_var`(上面的代码单元)和`test_var`(本教程前面的代码单元)的值。"
   ]
  },
  {
   "cell_type": "code",
   "execution_count": null,
   "id": "20031e89",
   "metadata": {
    "execution": {
     "iopub.execute_input": "2022-06-06T19:02:49.889506Z",
     "iopub.status.busy": "2022-06-06T19:02:49.888863Z",
     "iopub.status.idle": "2022-06-06T19:02:49.893644Z",
     "shell.execute_reply": "2022-06-06T19:02:49.892717Z"
    },
    "papermill": {
     "duration": 0.016048,
     "end_time": "2022-06-06T19:02:49.895527",
     "exception": false,
     "start_time": "2022-06-06T19:02:49.879479",
     "status": "completed"
    },
    "tags": []
   },
   "outputs": [],
   "source": [
    "print(my_var)\n",
    "print(test_var)"
   ]
  },
  {
   "cell_type": "markdown",
   "id": "9de8f088",
   "metadata": {
    "papermill": {
     "duration": 0.008358,
     "end_time": "2022-06-06T19:02:49.912535",
     "exception": false,
     "start_time": "2022-06-06T19:02:49.904177",
     "status": "completed"
    },
    "tags": []
   },
   "source": [
    "下一个代码单元格让Python将`my_var`的当前值增加3。\n",
    "\n",
    "为了实现这一操作，我们仍然需要像以前一样使用`my_var =`。和之前操作类似，我们想赋给变量的新值在`=`符号的右边。"
   ]
  },
  {
   "cell_type": "code",
   "execution_count": null,
   "id": "8c4f2d59",
   "metadata": {
    "execution": {
     "iopub.execute_input": "2022-06-06T19:02:49.932018Z",
     "iopub.status.busy": "2022-06-06T19:02:49.931155Z",
     "iopub.status.idle": "2022-06-06T19:02:49.936761Z",
     "shell.execute_reply": "2022-06-06T19:02:49.935784Z"
    },
    "papermill": {
     "duration": 0.017809,
     "end_time": "2022-06-06T19:02:49.938881",
     "exception": false,
     "start_time": "2022-06-06T19:02:49.921072",
     "status": "completed"
    },
    "tags": []
   },
   "outputs": [],
   "source": [
    "# 将`my_var`的当前值增加3\n",
    "my_var = my_var + 3\n",
    "\n",
    "# 打印my_var的值\n",
    "print(my_var)"
   ]
  },
  {
   "cell_type": "markdown",
   "id": "0ea7656e",
   "metadata": {
    "papermill": {
     "duration": 0.008436,
     "end_time": "2022-06-06T19:02:49.956115",
     "exception": false,
     "start_time": "2022-06-06T19:02:49.947679",
     "status": "completed"
    },
    "tags": []
   },
   "source": [
    "## 使用多个变量\n",
    "\n",
    "代码中使用多个变量是很常见的。尤其是当我们必须对多个输入进行长时间计算。\n",
    "\n",
    "在下一个代码单元中，我们计算四年中的秒数。我们将使用5个输入作为参数。"
   ]
  },
  {
   "cell_type": "code",
   "execution_count": null,
   "id": "9ba4ac9b",
   "metadata": {
    "execution": {
     "iopub.execute_input": "2022-06-06T19:02:49.975829Z",
     "iopub.status.busy": "2022-06-06T19:02:49.975254Z",
     "iopub.status.idle": "2022-06-06T19:02:49.980850Z",
     "shell.execute_reply": "2022-06-06T19:02:49.979812Z"
    },
    "papermill": {
     "duration": 0.01814,
     "end_time": "2022-06-06T19:02:49.982938",
     "exception": false,
     "start_time": "2022-06-06T19:02:49.964798",
     "status": "completed"
    },
    "tags": []
   },
   "outputs": [],
   "source": [
    "# 创建变量\n",
    "num_years = 4\n",
    "days_per_year = 365 \n",
    "hours_per_day = 24\n",
    "mins_per_hour = 60\n",
    "secs_per_min = 60\n",
    "\n",
    "# 计算四年中的秒数\n",
    "total_secs = secs_per_min * mins_per_hour * hours_per_day * days_per_year * num_years\n",
    "print(total_secs)"
   ]
  },
  {
   "cell_type": "markdown",
   "id": "406b07da",
   "metadata": {
    "papermill": {
     "duration": 0.008941,
     "end_time": "2022-06-06T19:02:50.000917",
     "exception": false,
     "start_time": "2022-06-06T19:02:49.991976",
     "status": "completed"
    },
    "tags": []
   },
   "source": [
    "根据上面的计算，4年有126144000秒。 \n",
    "\n",
    "如果没有变量，也可以像`60 * 60 * 24 * 365 * 4`这样进行计算，但是要检查长公式计算是否有错误困难得多，因为它的可读性不高。当我们使用变量(例如`num_years`、`days_per_year`等)时，我们可以更好地跟踪计算的每个部分，更容易检查和纠正任何错误。\n",
    "\n",
    "另外，当输入的值可以改变时，使用变量特别有用。假设我们想稍微改进估计值，将一年中的天数从365更新为365.25，以考虑闰年。我们可以改变赋值给`days_per_year`的值，而不改变任何其他变量，并重新计算。"
   ]
  },
  {
   "cell_type": "code",
   "execution_count": null,
   "id": "4412b050",
   "metadata": {
    "execution": {
     "iopub.execute_input": "2022-06-06T19:02:50.020482Z",
     "iopub.status.busy": "2022-06-06T19:02:50.020029Z",
     "iopub.status.idle": "2022-06-06T19:02:50.025747Z",
     "shell.execute_reply": "2022-06-06T19:02:50.024479Z"
    },
    "papermill": {
     "duration": 0.017906,
     "end_time": "2022-06-06T19:02:50.027794",
     "exception": false,
     "start_time": "2022-06-06T19:02:50.009888",
     "status": "completed"
    },
    "tags": []
   },
   "outputs": [],
   "source": [
    "# 更新以包括闰年\n",
    "days_per_year = 365.25\n",
    "\n",
    "# 计算四年中的秒数\n",
    "total_secs = secs_per_min * mins_per_hour * hours_per_day * days_per_year * num_years\n",
    "print(total_secs)"
   ]
  },
  {
   "cell_type": "markdown",
   "id": "d259e435",
   "metadata": {
    "papermill": {
     "duration": 0.008639,
     "end_time": "2022-06-06T19:02:50.045323",
     "exception": false,
     "start_time": "2022-06-06T19:02:50.036684",
     "status": "completed"
    },
    "tags": []
   },
   "source": [
    "**注意**:你可能已经发现在输出数字的末尾添加了.0。这是因为在第二次计算中，我们使用了一个有小数部分的数(365.25)。而第一次计算中，我们只将没有小数部分的数相乘。\n",
    "\n",
    "在第3课介绍数据类型时，会进一步了解。"
   ]
  },
  {
   "cell_type": "markdown",
   "id": "0c17c247",
   "metadata": {
    "papermill": {
     "duration": 0.008491,
     "end_time": "2022-06-06T19:02:50.062707",
     "exception": false,
     "start_time": "2022-06-06T19:02:50.054216",
     "status": "completed"
    },
    "tags": []
   },
   "source": [
    "## 调试\n",
    "\n",
    "使用变量时的一个常见错误是不小心输入错误。例如，如果我们将`hours_per_day`拼写为`hours_per_dy`， Python将显示错误消息`NameError: name 'hours_per_dy' is not defined`。"
   ]
  },
  {
   "cell_type": "code",
   "execution_count": null,
   "id": "b3b017a8",
   "metadata": {
    "execution": {
     "iopub.execute_input": "2022-06-06T19:02:50.082707Z",
     "iopub.status.busy": "2022-06-06T19:02:50.081840Z",
     "iopub.status.idle": "2022-06-06T19:02:50.153810Z",
     "shell.execute_reply": "2022-06-06T19:02:50.152807Z"
    },
    "papermill": {
     "duration": 0.08423,
     "end_time": "2022-06-06T19:02:50.156019",
     "exception": false,
     "start_time": "2022-06-06T19:02:50.071789",
     "status": "completed"
    },
    "tags": []
   },
   "outputs": [],
   "source": [
    "print(hours_per_dy)"
   ]
  },
  {
   "cell_type": "markdown",
   "id": "4633d839",
   "metadata": {
    "papermill": {
     "duration": 0.008779,
     "end_time": "2022-06-06T19:02:50.173893",
     "exception": false,
     "start_time": "2022-06-06T19:02:50.165114",
     "status": "completed"
    },
    "tags": []
   },
   "source": [
    "当你看到`NameError`时，这表明你应该检查它引用的变量是被判定为“未定义变量”的。然后，要修正错误，修改拼写即可。"
   ]
  },
  {
   "cell_type": "code",
   "execution_count": 1,
   "id": "fdf7ee07",
   "metadata": {
    "execution": {
     "iopub.execute_input": "2022-06-06T19:02:50.193815Z",
     "iopub.status.busy": "2022-06-06T19:02:50.193414Z",
     "iopub.status.idle": "2022-06-06T19:02:50.198536Z",
     "shell.execute_reply": "2022-06-06T19:02:50.197247Z"
    },
    "papermill": {
     "duration": 0.017849,
     "end_time": "2022-06-06T19:02:50.200835",
     "exception": false,
     "start_time": "2022-06-06T19:02:50.182986",
     "status": "completed"
    },
    "tags": []
   },
   "outputs": [
    {
     "ename": "NameError",
     "evalue": "name 'hours_per_day' is not defined",
     "output_type": "error",
     "traceback": [
      "\u001b[1;31m---------------------------------------------------------------------------\u001b[0m",
      "\u001b[1;31mNameError\u001b[0m                                 Traceback (most recent call last)",
      "\u001b[1;32m~\\AppData\\Local\\Temp\\ipykernel_5068\\598627376.py\u001b[0m in \u001b[0;36m<module>\u001b[1;34m\u001b[0m\n\u001b[1;32m----> 1\u001b[1;33m \u001b[0mprint\u001b[0m\u001b[1;33m(\u001b[0m\u001b[0mhours_per_day\u001b[0m\u001b[1;33m)\u001b[0m\u001b[1;33m\u001b[0m\u001b[1;33m\u001b[0m\u001b[0m\n\u001b[0m",
      "\u001b[1;31mNameError\u001b[0m: name 'hours_per_day' is not defined"
     ]
    }
   ],
   "source": [
    "print(hours_per_day)"
   ]
  },
  {
   "cell_type": "markdown",
   "id": "5f89cc77",
   "metadata": {
    "papermill": {
     "duration": 0.008639,
     "end_time": "2022-06-06T19:02:50.045323",
     "exception": false,
     "start_time": "2022-06-06T19:02:50.036684",
     "status": "completed"
    },
    "tags": []
   },
   "source": [
    "# 课后练习\n",
    "\n",
    "请独立完成该课程对应的自主练习部分practice1_arithmetic_and_variables.ipynb文件。"
   ]
  }
 ],
 "metadata": {
  "kernelspec": {
   "display_name": "Python 3 (ipykernel)",
   "language": "python",
   "name": "python3"
  },
  "language_info": {
   "codemirror_mode": {
    "name": "ipython",
    "version": 3
   },
   "file_extension": ".py",
   "mimetype": "text/x-python",
   "name": "python",
   "nbconvert_exporter": "python",
   "pygments_lexer": "ipython3",
   "version": "3.9.13"
  },
  "papermill": {
   "default_parameters": {},
   "duration": 11.934503,
   "end_time": "2022-06-06T19:02:50.868611",
   "environment_variables": {},
   "exception": null,
   "input_path": "__notebook__.ipynb",
   "output_path": "__notebook__.ipynb",
   "parameters": {},
   "start_time": "2022-06-06T19:02:38.934108",
   "version": "2.3.3"
  }
 },
 "nbformat": 4,
 "nbformat_minor": 5
}
