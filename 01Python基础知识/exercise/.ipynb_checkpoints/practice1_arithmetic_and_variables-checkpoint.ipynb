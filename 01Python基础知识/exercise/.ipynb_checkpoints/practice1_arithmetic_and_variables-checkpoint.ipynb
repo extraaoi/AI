{
 "cells": [
  {
   "cell_type": "markdown",
   "metadata": {},
   "source": [
    "**这个练习将让你开始学会编辑并运行自己的代码。**\n",
    "\n",
    "\n",
    "# 设置notebook\n",
    "\n",
    "首先，运行下一个码元格中的代码。\n",
    "- 从点击代码单元开始\n",
    "- 点击代码单元格左侧的三角形(Play button形状)\n",
    "\n",
    "除了点击三角形（运行），你还可以通过按下键盘上的Shift + Enter来运行代码。\n",
    "自己试试吧，学习总是有益的不是嘛~"
   ]
  },
  {
   "cell_type": "markdown",
   "metadata": {},
   "source": [
    "# Question 1\n",
    "\n",
    "接下来，您将运行教程中的一些代码，以便您可以了解它是如何工作的。运行下一个码元格，无需更改。"
   ]
  },
  {
   "cell_type": "code",
   "execution_count": 2,
   "metadata": {
    "execution": {
     "iopub.execute_input": "2022-03-07T16:28:06.239649Z",
     "iopub.status.busy": "2022-03-07T16:28:06.238972Z",
     "iopub.status.idle": "2022-03-07T16:28:06.255178Z",
     "shell.execute_reply": "2022-03-07T16:28:06.254152Z",
     "shell.execute_reply.started": "2022-03-07T16:28:06.239613Z"
    }
   },
   "outputs": [
    {
     "name": "stdout",
     "output_type": "stream",
     "text": [
      "Hello, world!\n"
     ]
    }
   ],
   "source": [
    "print(\"Hello, world!\")"
   ]
  },
  {
   "cell_type": "markdown",
   "metadata": {},
   "source": [
    "你刚刚运行了代码来打印`Hello world!`，可以在上面的输出中看到。\n",
    "\n",
    "\n",
    "# Question 2\n",
    "\n",
    "现在，将打印你选择的另一条消息。要做到这一点，需要修改`print(\"Your message here!\")`来使用不同的消息。例如，你可能想把它改成下面这样:\n",
    "- `print(\"Good morning!\")`\n",
    "- `print(“I am learning how to code:D”)`\n",
    "\n",
    "或者，你可能想看看如果你写`print(\"3+4\")`会发生什么。它返回的是7，还是仅仅把`\"3+4\"`当作另一条消息?\n",
    "\n",
    "请确保您的内容是用引号括起来的(' \" ')，并且内容本身不使用引号。例如，这将抛出一个错误：` print(\"She said \"great job\" and gave me a high-five!\") `，因为消息中包含引号。如果感情兴趣相关错误规避的方法，将在第6课中了解有关如何避免此错误的更多信息。\n",
    "\n",
    "请随意尝试多条不同内容!"
   ]
  },
  {
   "cell_type": "code",
   "execution_count": null,
   "metadata": {
    "execution": {
     "iopub.execute_input": "2022-03-07T16:28:06.256864Z",
     "iopub.status.busy": "2022-03-07T16:28:06.256639Z",
     "iopub.status.idle": "2022-03-07T16:28:06.269714Z",
     "shell.execute_reply": "2022-03-07T16:28:06.268692Z",
     "shell.execute_reply.started": "2022-03-07T16:28:06.256837Z"
    }
   },
   "outputs": [],
   "source": [
    "# 修改你想打印的信息\n",
    "print(\"Your message here!\")"
   ]
  },
  {
   "cell_type": "markdown",
   "metadata": {},
   "source": [
    "# Question 3\n",
    "\n",
    "正如你在教程中所学到的，Python中的注释前面有一个井号(' # ')，它让Python忽略注释后面的文本。\n",
    "\n",
    "在代码行前面加一个井号，Python会忽略这行代码。例如，Python会忽略这一行，输出中也不会出现任何内容:\n",
    "```python\n",
    "#print(1+2)\n",
    "```\n",
    "\n",
    "删除`#`可以再次运行代码。当我们删除一行代码前的`#`时，我们称之为**取消注释**。\n",
    "\n",
    "在这个问题中，你将取消下面代码单元格中的任意一行或者多行的`#`注释，并查看输出。"
   ]
  },
  {
   "cell_type": "code",
   "execution_count": null,
   "metadata": {
    "execution": {
     "iopub.execute_input": "2022-03-07T16:28:06.271757Z",
     "iopub.status.busy": "2022-03-07T16:28:06.27099Z",
     "iopub.status.idle": "2022-03-07T16:28:06.283354Z",
     "shell.execute_reply": "2022-03-07T16:28:06.282642Z",
     "shell.execute_reply.started": "2022-03-07T16:28:06.271713Z"
    }
   },
   "outputs": [],
   "source": [
    "a=3\n",
    "#a=5\n",
    "#a=a+5\n",
    "#a=a+a+5\n",
    "print(a)"
   ]
  },
  {
   "cell_type": "markdown",
   "metadata": {},
   "source": [
    "# Question 4\n",
    "\n",
    "在本问题中，定义了几个变量来计算一年中的总秒数。运行下一个代码单元格在这里进行计算。"
   ]
  },
  {
   "cell_type": "code",
   "execution_count": null,
   "metadata": {
    "execution": {
     "iopub.execute_input": "2022-03-07T16:37:38.513786Z",
     "iopub.status.busy": "2022-03-07T16:37:38.512582Z",
     "iopub.status.idle": "2022-03-07T16:37:38.521019Z",
     "shell.execute_reply": "2022-03-07T16:37:38.519417Z",
     "shell.execute_reply.started": "2022-03-07T16:37:38.513735Z"
    }
   },
   "outputs": [],
   "source": [
    "# 建立参量\n",
    "num_years = 4\n",
    "days_per_year = 365 \n",
    "hours_per_day = 24\n",
    "mins_per_hour = 60\n",
    "secs_per_min = 60\n",
    "\n",
    "# 计算一年中的总秒数\n",
    "total_secs = secs_per_min * mins_per_hour * hours_per_day * days_per_year * num_years\n",
    "print(total_secs)"
   ]
  },
  {
   "cell_type": "markdown",
   "metadata": {},
   "source": [
    "使用下面的代码单元格:\n",
    "- 定义一个变量`births_per_min`并将其设置为250。(平均每分钟有250个婴儿出生。)\n",
    "- 定义一个变量`births_per_day`，它包含每天出生的婴儿的平均数量。(要设置这个变量的值，你应该使用`births_per_min`和前面代码单元中的一些变量。)"
   ]
  },
  {
   "cell_type": "code",
   "execution_count": null,
   "metadata": {},
   "outputs": [],
   "source": [
    "# 设置births_per_min变量的值\n",
    "births_per_min = ______\n",
    "# 设置births_per_day变量的值，不允许使用准确的数字，只允许使用参量\n",
    "births_per_day = ______\n",
    "\n",
    "print(births_per_day)"
   ]
  },
  {
   "cell_type": "markdown",
   "metadata": {},
   "source": [
    "正确的答案应是360000，你可以看看打印结果是否正确。"
   ]
  },
  {
   "cell_type": "markdown",
   "metadata": {},
   "source": [
    "# ☆Question 5\n",
    "\n",
    "(以☆标记的问题将比其他问题更具挑战性!愿你不畏困难，有所收获！)\n",
    "\n",
    "[Titanic竞赛](https://www.kaggle.com/c/titanic)是Kaggle最著名的数据科学竞赛。在这项比赛中，参赛者需要建立一个机器学习模型，根据年龄、性别、家庭规模和船票号码等信息，预测乘客是否在泰坦尼克号海难中幸存。\n",
    "\n",
    "运行下一个码元格，不做任何更改，以加载和预览titanic数据。\n",
    "\n",
    "现在不要担心代码的细节，最终结果只是所有titanic数据都已加载到名为`titanic_data`的变量中。"
   ]
  },
  {
   "cell_type": "code",
   "execution_count": null,
   "metadata": {},
   "outputs": [],
   "source": [
    "# 加载泰坦尼克号比赛的数据\n",
    "import pandas as pd\n",
    "titanic_data = pd.read_csv(\"train.csv\")\n",
    "\n",
    "# 显示数据的前5行\n",
    "titanic_data.head()"
   ]
  },
  {
   "cell_type": "markdown",
   "metadata": {},
   "source": [
    "每个乘客的数据都占据了一行。\n",
    "\n",
    "下一个代码单元格定义并打印了三个变量的值:\n",
    "- `total` =上船的乘客总数\n",
    "- `survived` = 在船难中幸存的乘客数量\n",
    "- `minor` = 18岁以下的乘客人数\n",
    "\n",
    "无需更改即可运行码元格。(现在暂时不用担心这些变量是如何计算的细节。要是感兴趣，也可以在[Pandas课程](https://www.kaggle.com/learn/pandas)中了解有关如何计算这些值的更多信息。"
   ]
  },
  {
   "cell_type": "code",
   "execution_count": null,
   "metadata": {},
   "outputs": [],
   "source": [
    "# 乘客总数\n",
    "total = len(titanic_data)\n",
    "print(total)\n",
    "\n",
    "# 幸存的乘客数量\n",
    "survived = (titanic_data.Survived == 1).sum()\n",
    "print(survived)\n",
    "\n",
    "# 18岁以下的乘客数量\n",
    "minors = (titanic_data.Age < 18).sum()\n",
    "print(minors)"
   ]
  },
  {
   "cell_type": "markdown",
   "metadata": {},
   "source": [
    "所以,\n",
    "- `total = 891 `(泰坦尼克号上有891名乘客)，\n",
    "- `survivor = 342`(342名乘客幸存)\n",
    "- `minors = 113`(113名乘客不满18岁)。\n",
    "\n",
    "在下面的代码单元格中，将下划线(`____`)替换为计算另外两个变量值的代码:\n",
    "- `survived_fraction` 应该设置为泰坦尼克号灾难中幸存乘客的比例。\n",
    "- `minors_fraction` 应为未成年人(18岁以下)所占比例。\n",
    "\n",
    "对于每个变量，答案应该是0到1之间的数字。"
   ]
  },
  {
   "cell_type": "code",
   "execution_count": null,
   "metadata": {},
   "outputs": [],
   "source": [
    "# 填充survived_fraction变量的值\n",
    "survived_fraction = ____ \n",
    "\n",
    "# 打印变量的值\n",
    "print(survived_fraction)\n",
    "\n",
    "# 填充minors_fraction变量的值\n",
    "minors_fraction = ____ \n",
    "\n",
    "# 打印变量的值\n",
    "print(minors_fraction)"
   ]
  },
  {
   "cell_type": "markdown",
   "metadata": {},
   "source": [
    "# 恭喜你!你刚刚完成了编程入门课程的第一个练习!"
   ]
  }
 ],
 "metadata": {
  "kernelspec": {
   "display_name": "Python 3 (ipykernel)",
   "language": "python",
   "name": "python3"
  },
  "language_info": {
   "codemirror_mode": {
    "name": "ipython",
    "version": 3
   },
   "file_extension": ".py",
   "mimetype": "text/x-python",
   "name": "python",
   "nbconvert_exporter": "python",
   "pygments_lexer": "ipython3",
   "version": "3.9.13"
  }
 },
 "nbformat": 4,
 "nbformat_minor": 4
}
