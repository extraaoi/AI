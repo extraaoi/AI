{
 "cells": [
  {
   "cell_type": "code",
   "execution_count": null,
   "id": "afa92688",
   "metadata": {},
   "outputs": [],
   "source": [
    "def excess_saturated_fat(saturated_fat_g, calories_per_serving):\n",
    "    return (saturated_fat_g * 9 / calories_per_serving >= .1)\n",
    "\n",
    "def excess_trans_fat(trans_fat_g, calories_per_serving):\n",
    "    return (trans_fat_g * 9 / calories_per_serving >= .01) \n",
    "\n",
    "def excess_sugar(sugars_g, calories_per_serving):\n",
    "    return (sugars_g * 4 / calories_per_serving >= .1)\n",
    "\n",
    "\n",
    "def excess_sodium(calories_per_serving, sodium_mg):\n",
    "    if calories_per_serving == 0:\n",
    "        return (sodium_mg >= 45)\n",
    "    else:\n",
    "        return (sodium_mg / calories_per_serving >= 1)\n",
    "    \n",
    "def excess_calories(food_type, calories_per_serving, serving_size):\n",
    "    if food_type == \"solid\":\n",
    "        return (calories_per_serving / serving_size * 100 >= 275)\n",
    "    elif food_type == \"liquid\":\n",
    "        return (calories_per_serving / serving_size * 100 >= 70)\n",
    "    else:\n",
    "        raise ValueError(\"food_type must be 'solid' or 'liquid'\")"
   ]
  }
 ],
 "metadata": {
  "kernelspec": {
   "display_name": "Python 3 (ipykernel)",
   "language": "python",
   "name": "python3"
  },
  "language_info": {
   "codemirror_mode": {
    "name": "ipython",
    "version": 3
   },
   "file_extension": ".py",
   "mimetype": "text/x-python",
   "name": "python",
   "nbconvert_exporter": "python",
   "pygments_lexer": "ipython3",
   "version": "3.9.13"
  }
 },
 "nbformat": 4,
 "nbformat_minor": 5
}
