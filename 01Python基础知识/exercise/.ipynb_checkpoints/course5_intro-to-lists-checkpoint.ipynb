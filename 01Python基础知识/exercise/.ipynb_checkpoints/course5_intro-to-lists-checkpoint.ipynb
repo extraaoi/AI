{
 "cells": [
  {
   "cell_type": "markdown",
   "id": "307deda3",
   "metadata": {
    "papermill": {
     "duration": 0.011374,
     "end_time": "2022-06-06T19:02:41.320180",
     "exception": false,
     "start_time": "2022-06-06T19:02:41.308806",
     "status": "completed"
    },
    "tags": []
   },
   "source": [
    "# 介绍\n",
    "\n",
    "在做数据科学研究时，你需要一种方法来组织数据，以便能够有效地使用它。Python有许多数据结构可用来保存数据，例如列表、集合、字典和元组。在本教程中，将学习如何使用Python列表。\n",
    "\n",
    "\n",
    "# 学习动机\n",
    "\n",
    "在[花瓣到金属](https://www.kaggle.com/c/tpu-getting-started)赛事中，目标是根据它的图像来分类一朵花的种类。(这是计算机视觉中的一个常见任务，称为图像分类。)为了实现这一目标，需要组织数据中花卉物种的名称。\n",
    "\n",
    "一种方法是将名称组织在Python字符串中。"
   ]
  },
  {
   "cell_type": "code",
   "execution_count": 1,
   "id": "1d2da96f",
   "metadata": {
    "execution": {
     "iopub.execute_input": "2022-06-06T19:02:41.336399Z",
     "iopub.status.busy": "2022-06-06T19:02:41.335518Z",
     "iopub.status.idle": "2022-06-06T19:02:41.347522Z",
     "shell.execute_reply": "2022-06-06T19:02:41.346339Z"
    },
    "papermill": {
     "duration": 0.022509,
     "end_time": "2022-06-06T19:02:41.349918",
     "exception": false,
     "start_time": "2022-06-06T19:02:41.327409",
     "status": "completed"
    },
    "tags": []
   },
   "outputs": [
    {
     "name": "stdout",
     "output_type": "stream",
     "text": [
      "<class 'str'>\n",
      "pink primrose,hard-leaved pocket orchid,canterbury bells,sweet pea,english marigold,tiger lily,moon orchid,bird of paradise,monkshood,globe thistle\n"
     ]
    }
   ],
   "source": [
    "flowers = \"pink primrose,hard-leaved pocket orchid,canterbury bells,sweet pea,english marigold,tiger lily,moon orchid,bird of paradise,monkshood,globe thistle\"\n",
    "\n",
    "print(type(flowers))\n",
    "print(flowers)"
   ]
  },
  {
   "cell_type": "markdown",
   "id": "1882fa62",
   "metadata": {
    "papermill": {
     "duration": 0.006136,
     "end_time": "2022-06-06T19:02:41.362721",
     "exception": false,
     "start_time": "2022-06-06T19:02:41.356585",
     "status": "completed"
    },
    "tags": []
   },
   "source": [
    "更好的方法是用Python列表表示相同的数据。要创建列表，需要使用方括号(`[`，`]`)，并用逗号分隔每一项。列表中的每一项都是Python字符串，因此都用引号括起来。"
   ]
  },
  {
   "cell_type": "code",
   "execution_count": 2,
   "id": "1630c6c3",
   "metadata": {
    "execution": {
     "iopub.execute_input": "2022-06-06T19:02:41.378288Z",
     "iopub.status.busy": "2022-06-06T19:02:41.376999Z",
     "iopub.status.idle": "2022-06-06T19:02:41.383986Z",
     "shell.execute_reply": "2022-06-06T19:02:41.382937Z"
    },
    "papermill": {
     "duration": 0.017184,
     "end_time": "2022-06-06T19:02:41.386421",
     "exception": false,
     "start_time": "2022-06-06T19:02:41.369237",
     "status": "completed"
    },
    "tags": []
   },
   "outputs": [
    {
     "name": "stdout",
     "output_type": "stream",
     "text": [
      "<class 'list'>\n",
      "['pink primrose', 'hard-leaved pocket orchid', 'canterbury bells', 'sweet pea', 'english marigold', 'tiger lily', 'moon orchid', 'bird of paradise', 'monkshood', 'globe thistle']\n"
     ]
    }
   ],
   "source": [
    "flowers_list = [\"pink primrose\", \"hard-leaved pocket orchid\", \"canterbury bells\", \"sweet pea\", \"english marigold\", \"tiger lily\", \"moon orchid\", \"bird of paradise\", \"monkshood\", \"globe thistle\"]\n",
    "\n",
    "print(type(flowers_list))\n",
    "print(flowers_list)"
   ]
  },
  {
   "cell_type": "markdown",
   "id": "924d4878",
   "metadata": {
    "papermill": {
     "duration": 0.007362,
     "end_time": "2022-06-06T19:02:41.401266",
     "exception": false,
     "start_time": "2022-06-06T19:02:41.393904",
     "status": "completed"
    },
    "tags": []
   },
   "source": [
    "看上去用Python字符串还是用列表表示信息没有太大区别。但正如你将看到的，使用列表可以更容易地完成很多任务。例如，列表可以让你更容易：\n",
    "- 在指定位置(first, second, third, 等等)获取一个元素\n",
    "- 检查项数\n",
    "- 添加和删除项目。\n",
    "\n",
    "\n",
    "# 列表\n",
    "\n",
    "## 长度 Length\n",
    "我们可以用`len()`来计算任何列表中元素的数量，`len()`是`length`的缩写。你只需要提供括号中的列表名。"
   ]
  },
  {
   "cell_type": "code",
   "execution_count": 4,
   "id": "fbad2f78",
   "metadata": {
    "execution": {
     "iopub.execute_input": "2022-06-06T19:02:41.417637Z",
     "iopub.status.busy": "2022-06-06T19:02:41.416748Z",
     "iopub.status.idle": "2022-06-06T19:02:41.421693Z",
     "shell.execute_reply": "2022-06-06T19:02:41.420847Z"
    },
    "papermill": {
     "duration": 0.014942,
     "end_time": "2022-06-06T19:02:41.423660",
     "exception": false,
     "start_time": "2022-06-06T19:02:41.408718",
     "status": "completed"
    },
    "tags": []
   },
   "outputs": [
    {
     "name": "stdout",
     "output_type": "stream",
     "text": [
      "10\n"
     ]
    }
   ],
   "source": [
    "# 该列表有10个元素\n",
    "print(len(flowers_list))"
   ]
  },
  {
   "cell_type": "markdown",
   "id": "ce351269",
   "metadata": {
    "papermill": {
     "duration": 0.007193,
     "end_time": "2022-06-06T19:02:41.438087",
     "exception": false,
     "start_time": "2022-06-06T19:02:41.430894",
     "status": "completed"
    },
    "tags": []
   },
   "source": [
    "## 索引 Indexing\n",
    "\n",
    "我们可以根据列表中的任何元素在列表中的位置(first, second, third, 等等)来引用它。这称为**索引**。\n",
    "\n",
    "请注意，Python索引是从0开始的，这意味着:\n",
    "- 要提取列表中的第一个元素，使用0\n",
    "- 要提取列表中的第二个元素，使用1\n",
    "- 要提取列表中的最后一个元素，需要使用比列表长度小1的值"
   ]
  },
  {
   "cell_type": "code",
   "execution_count": 5,
   "id": "4309a4fd",
   "metadata": {
    "execution": {
     "iopub.execute_input": "2022-06-06T19:02:41.454593Z",
     "iopub.status.busy": "2022-06-06T19:02:41.454146Z",
     "iopub.status.idle": "2022-06-06T19:02:41.459939Z",
     "shell.execute_reply": "2022-06-06T19:02:41.458970Z"
    },
    "papermill": {
     "duration": 0.016765,
     "end_time": "2022-06-06T19:02:41.462018",
     "exception": false,
     "start_time": "2022-06-06T19:02:41.445253",
     "status": "completed"
    },
    "tags": []
   },
   "outputs": [
    {
     "name": "stdout",
     "output_type": "stream",
     "text": [
      "First entry: pink primrose\n",
      "Second entry: hard-leaved pocket orchid\n",
      "Last entry: globe thistle\n"
     ]
    }
   ],
   "source": [
    "print(\"First entry:\", flowers_list[0])\n",
    "print(\"Second entry:\", flowers_list[1])\n",
    "\n",
    "# 该列表的长度为10，可引用的最后一个元素为9\n",
    "print(\"Last entry:\", flowers_list[9])"
   ]
  },
  {
   "cell_type": "markdown",
   "id": "34fbdf47",
   "metadata": {
    "papermill": {
     "duration": 0.007048,
     "end_time": "2022-06-06T19:02:41.476750",
     "exception": false,
     "start_time": "2022-06-06T19:02:41.469702",
     "status": "completed"
    },
    "tags": []
   },
   "source": [
    "**注**：你可能已经注意到，在上面的代码单元格中，我们使用单个`print()`来打印多个项目(包括Python字符串(如`\"First entry:\"`)和列表中的值(如`flowers_list[0]`)。要在Python中使用一个命令打印多个内容，只需用逗号分隔它们就可以。\n",
    "\n",
    "\n",
    "## 切片 Slicing\n",
    "\n",
    "你也可以提取列表的一部分(例如，前3个元素或后2个元素)。这称为**切片**。例如:\n",
    "- 要提取第一个`x`条目，你可以使用`[:x]`\n",
    "- 要提取最后的`y`条目，你可以使用`[-y:]`"
   ]
  },
  {
   "cell_type": "code",
   "execution_count": 6,
   "id": "33a30756",
   "metadata": {
    "execution": {
     "iopub.execute_input": "2022-06-06T19:02:41.493161Z",
     "iopub.status.busy": "2022-06-06T19:02:41.492388Z",
     "iopub.status.idle": "2022-06-06T19:02:41.497992Z",
     "shell.execute_reply": "2022-06-06T19:02:41.496977Z"
    },
    "papermill": {
     "duration": 0.016594,
     "end_time": "2022-06-06T19:02:41.500177",
     "exception": false,
     "start_time": "2022-06-06T19:02:41.483583",
     "status": "completed"
    },
    "tags": []
   },
   "outputs": [
    {
     "name": "stdout",
     "output_type": "stream",
     "text": [
      "First three entries: ['pink primrose', 'hard-leaved pocket orchid', 'canterbury bells']\n",
      "Final two entries: ['monkshood', 'globe thistle']\n"
     ]
    }
   ],
   "source": [
    "print(\"First three entries:\", flowers_list[:3])\n",
    "print(\"Final two entries:\", flowers_list[-2:])"
   ]
  },
  {
   "cell_type": "markdown",
   "id": "d91fedb1",
   "metadata": {
    "papermill": {
     "duration": 0.00685,
     "end_time": "2022-06-06T19:02:41.514299",
     "exception": false,
     "start_time": "2022-06-06T19:02:41.507449",
     "status": "completed"
    },
    "tags": []
   },
   "source": [
    "正如上面代码运行的结果，当我们对列表进行切片时，它返回一个新的、缩短的列表。\n",
    "\n",
    "\n",
    "## 删除 Remove\n",
    "使用`.remove()`从列表中删除一个元素，并将你想要删除的元素放在括号中。"
   ]
  },
  {
   "cell_type": "code",
   "execution_count": 7,
   "id": "b919fe60",
   "metadata": {
    "execution": {
     "iopub.execute_input": "2022-06-06T19:02:41.531972Z",
     "iopub.status.busy": "2022-06-06T19:02:41.531313Z",
     "iopub.status.idle": "2022-06-06T19:02:41.536850Z",
     "shell.execute_reply": "2022-06-06T19:02:41.535570Z"
    },
    "papermill": {
     "duration": 0.017303,
     "end_time": "2022-06-06T19:02:41.539153",
     "exception": false,
     "start_time": "2022-06-06T19:02:41.521850",
     "status": "completed"
    },
    "tags": []
   },
   "outputs": [
    {
     "name": "stdout",
     "output_type": "stream",
     "text": [
      "['pink primrose', 'hard-leaved pocket orchid', 'canterbury bells', 'sweet pea', 'english marigold', 'tiger lily', 'moon orchid', 'bird of paradise', 'monkshood']\n"
     ]
    }
   ],
   "source": [
    "flowers_list.remove(\"globe thistle\")\n",
    "print(flowers_list)"
   ]
  },
  {
   "cell_type": "markdown",
   "id": "e5ecb794",
   "metadata": {
    "papermill": {
     "duration": 0.006924,
     "end_time": "2022-06-06T19:02:41.553317",
     "exception": false,
     "start_time": "2022-06-06T19:02:41.546393",
     "status": "completed"
    },
    "tags": []
   },
   "source": [
    "## 添加项目 Adding items\n",
    "\n",
    "使用`.append()`可以将元素添加到列表中，并将你想添加的元素放在括号中。"
   ]
  },
  {
   "cell_type": "code",
   "execution_count": 8,
   "id": "a56c87fe",
   "metadata": {
    "execution": {
     "iopub.execute_input": "2022-06-06T19:02:41.569693Z",
     "iopub.status.busy": "2022-06-06T19:02:41.568817Z",
     "iopub.status.idle": "2022-06-06T19:02:41.574032Z",
     "shell.execute_reply": "2022-06-06T19:02:41.573012Z"
    },
    "papermill": {
     "duration": 0.015552,
     "end_time": "2022-06-06T19:02:41.576069",
     "exception": false,
     "start_time": "2022-06-06T19:02:41.560517",
     "status": "completed"
    },
    "tags": []
   },
   "outputs": [
    {
     "name": "stdout",
     "output_type": "stream",
     "text": [
      "['pink primrose', 'hard-leaved pocket orchid', 'canterbury bells', 'sweet pea', 'english marigold', 'tiger lily', 'moon orchid', 'bird of paradise', 'monkshood', 'snapdragon']\n"
     ]
    }
   ],
   "source": [
    "flowers_list.append(\"snapdragon\")\n",
    "print(flowers_list)"
   ]
  },
  {
   "cell_type": "markdown",
   "id": "77744381",
   "metadata": {
    "papermill": {
     "duration": 0.006939,
     "end_time": "2022-06-06T19:02:41.590724",
     "exception": false,
     "start_time": "2022-06-06T19:02:41.583785",
     "status": "completed"
    },
    "tags": []
   },
   "source": [
    "## 列表不仅仅用于字符串\n",
    "\n",
    "到目前为止，我们只处理过每个元素都是字符串的列表。但列表可以包含任何数据类型的元素，包括布尔值、整数和浮点数。\n",
    "\n",
    "例如，考虑2000年4月第一周一家零售商店的精装书销售情况。"
   ]
  },
  {
   "cell_type": "code",
   "execution_count": 9,
   "id": "8763f4f1",
   "metadata": {
    "execution": {
     "iopub.execute_input": "2022-06-06T19:02:41.607408Z",
     "iopub.status.busy": "2022-06-06T19:02:41.606787Z",
     "iopub.status.idle": "2022-06-06T19:02:41.611610Z",
     "shell.execute_reply": "2022-06-06T19:02:41.610653Z"
    },
    "papermill": {
     "duration": 0.015818,
     "end_time": "2022-06-06T19:02:41.613847",
     "exception": false,
     "start_time": "2022-06-06T19:02:41.598029",
     "status": "completed"
    },
    "tags": []
   },
   "outputs": [],
   "source": [
    "hardcover_sales = [139, 128, 172, 139, 191, 168, 170]"
   ]
  },
  {
   "cell_type": "markdown",
   "id": "818bf9c8",
   "metadata": {
    "papermill": {
     "duration": 0.007318,
     "end_time": "2022-06-06T19:02:41.628944",
     "exception": false,
     "start_time": "2022-06-06T19:02:41.621626",
     "status": "completed"
    },
    "tags": []
   },
   "source": [
    "在这里，`hardcover_sales`是一个整数列表。与处理字符串时类似，你仍然可以做一些操作，如获取长度、提取单个元素和扩展列表。"
   ]
  },
  {
   "cell_type": "code",
   "execution_count": 10,
   "id": "934e840a",
   "metadata": {
    "execution": {
     "iopub.execute_input": "2022-06-06T19:02:41.646363Z",
     "iopub.status.busy": "2022-06-06T19:02:41.645628Z",
     "iopub.status.idle": "2022-06-06T19:02:41.650567Z",
     "shell.execute_reply": "2022-06-06T19:02:41.649889Z"
    },
    "papermill": {
     "duration": 0.016384,
     "end_time": "2022-06-06T19:02:41.652920",
     "exception": false,
     "start_time": "2022-06-06T19:02:41.636536",
     "status": "completed"
    },
    "tags": []
   },
   "outputs": [
    {
     "name": "stdout",
     "output_type": "stream",
     "text": [
      "Length of the list: 7\n",
      "Entry at index 2: 172\n"
     ]
    }
   ],
   "source": [
    "print(\"Length of the list:\", len(hardcover_sales))\n",
    "print(\"Entry at index 2:\", hardcover_sales[2])"
   ]
  },
  {
   "cell_type": "markdown",
   "id": "9397f051",
   "metadata": {
    "papermill": {
     "duration": 0.007382,
     "end_time": "2022-06-06T19:02:41.667730",
     "exception": false,
     "start_time": "2022-06-06T19:02:41.660348",
     "status": "completed"
    },
    "tags": []
   },
   "source": [
    "你也可以用`min()`得到最小值，用`max()`得到最大值。"
   ]
  },
  {
   "cell_type": "code",
   "execution_count": 11,
   "id": "e3a99a99",
   "metadata": {
    "execution": {
     "iopub.execute_input": "2022-06-06T19:02:41.685753Z",
     "iopub.status.busy": "2022-06-06T19:02:41.684863Z",
     "iopub.status.idle": "2022-06-06T19:02:41.690792Z",
     "shell.execute_reply": "2022-06-06T19:02:41.689631Z"
    },
    "papermill": {
     "duration": 0.017681,
     "end_time": "2022-06-06T19:02:41.693320",
     "exception": false,
     "start_time": "2022-06-06T19:02:41.675639",
     "status": "completed"
    },
    "tags": []
   },
   "outputs": [
    {
     "name": "stdout",
     "output_type": "stream",
     "text": [
      "Minimum: 128\n",
      "Maximum: 191\n"
     ]
    }
   ],
   "source": [
    "print(\"Minimum:\", min(hardcover_sales))\n",
    "print(\"Maximum:\", max(hardcover_sales))"
   ]
  },
  {
   "cell_type": "markdown",
   "id": "392f3c68",
   "metadata": {
    "papermill": {
     "duration": 0.007163,
     "end_time": "2022-06-06T19:02:41.708186",
     "exception": false,
     "start_time": "2022-06-06T19:02:41.701023",
     "status": "completed"
    },
    "tags": []
   },
   "source": [
    "要将列表中的每一项全部相加，使用`sum()`。"
   ]
  },
  {
   "cell_type": "code",
   "execution_count": 12,
   "id": "78cfd6a5",
   "metadata": {
    "execution": {
     "iopub.execute_input": "2022-06-06T19:02:41.724880Z",
     "iopub.status.busy": "2022-06-06T19:02:41.724268Z",
     "iopub.status.idle": "2022-06-06T19:02:41.730104Z",
     "shell.execute_reply": "2022-06-06T19:02:41.729153Z"
    },
    "papermill": {
     "duration": 0.016323,
     "end_time": "2022-06-06T19:02:41.732175",
     "exception": false,
     "start_time": "2022-06-06T19:02:41.715852",
     "status": "completed"
    },
    "tags": []
   },
   "outputs": [
    {
     "name": "stdout",
     "output_type": "stream",
     "text": [
      "Total books sold in one week: 1107\n"
     ]
    }
   ],
   "source": [
    "print(\"Total books sold in one week:\", sum(hardcover_sales))"
   ]
  },
  {
   "cell_type": "markdown",
   "id": "b5dd5a66",
   "metadata": {
    "papermill": {
     "duration": 0.007568,
     "end_time": "2022-06-06T19:02:41.747431",
     "exception": false,
     "start_time": "2022-06-06T19:02:41.739863",
     "status": "completed"
    },
    "tags": []
   },
   "source": [
    "我们也可以对列表的切片进行类似的计算。在下一个码元格中，我们取前五天的总和(`sum(hardcover_sales[:5])`)，然后除以5得到前五天的平均图书销量。"
   ]
  },
  {
   "cell_type": "code",
   "execution_count": 13,
   "id": "196bc743",
   "metadata": {
    "execution": {
     "iopub.execute_input": "2022-06-06T19:02:41.764100Z",
     "iopub.status.busy": "2022-06-06T19:02:41.763352Z",
     "iopub.status.idle": "2022-06-06T19:02:41.769860Z",
     "shell.execute_reply": "2022-06-06T19:02:41.768537Z"
    },
    "papermill": {
     "duration": 0.017434,
     "end_time": "2022-06-06T19:02:41.772316",
     "exception": false,
     "start_time": "2022-06-06T19:02:41.754882",
     "status": "completed"
    },
    "tags": []
   },
   "outputs": [
    {
     "name": "stdout",
     "output_type": "stream",
     "text": [
      "Average books sold in first five days: 153.8\n"
     ]
    }
   ],
   "source": [
    "print(\"Average books sold in first five days:\", sum(hardcover_sales[:5])/5)"
   ]
  },
  {
   "cell_type": "markdown",
   "id": "c5969566",
   "metadata": {
    "papermill": {
     "duration": 0.007456,
     "end_time": "2022-06-06T19:02:41.787655",
     "exception": false,
     "start_time": "2022-06-06T19:02:41.780199",
     "status": "completed"
    },
    "tags": []
   },
   "source": [
    "# 课后练习\n",
    "\n",
    "**练习创建和修改列表practice5_intro-to-lists.ipynb**。"
   ]
  },
  {
   "cell_type": "code",
   "execution_count": null,
   "id": "b658d497",
   "metadata": {},
   "outputs": [],
   "source": []
  }
 ],
 "metadata": {
  "kernelspec": {
   "display_name": "Python 3 (ipykernel)",
   "language": "python",
   "name": "python3"
  },
  "language_info": {
   "codemirror_mode": {
    "name": "ipython",
    "version": 3
   },
   "file_extension": ".py",
   "mimetype": "text/x-python",
   "name": "python",
   "nbconvert_exporter": "python",
   "pygments_lexer": "ipython3",
   "version": "3.9.13"
  },
  "papermill": {
   "default_parameters": {},
   "duration": 12.047339,
   "end_time": "2022-06-06T19:02:42.533386",
   "environment_variables": {},
   "exception": null,
   "input_path": "__notebook__.ipynb",
   "output_path": "__notebook__.ipynb",
   "parameters": {},
   "start_time": "2022-06-06T19:02:30.486047",
   "version": "2.3.4"
  }
 },
 "nbformat": 4,
 "nbformat_minor": 5
}
