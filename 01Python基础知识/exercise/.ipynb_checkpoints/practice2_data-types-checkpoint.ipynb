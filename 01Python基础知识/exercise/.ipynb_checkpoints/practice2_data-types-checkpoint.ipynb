{
 "cells": [
  {
   "cell_type": "markdown",
   "id": "8038c5c2",
   "metadata": {
    "papermill": {
     "duration": 0.024307,
     "end_time": "2022-02-15T23:56:51.875254",
     "exception": false,
     "start_time": "2022-02-15T23:56:51.850947",
     "status": "completed"
    },
    "tags": []
   },
   "source": [
    "**在教程中，你学习过了四种不同的数据类型:浮点数、整数、字符串和布尔值。在这个练习中，你将尝试使用它们。**"
   ]
  },
  {
   "cell_type": "markdown",
   "id": "27a1ab79",
   "metadata": {
    "papermill": {
     "duration": 0.024941,
     "end_time": "2022-02-15T23:56:51.990804",
     "exception": false,
     "start_time": "2022-02-15T23:56:51.965863",
     "status": "completed"
    },
    "tags": []
   },
   "source": [
    "# Question 1\n",
    "\n",
    "你已经学习过了如何使用`int`函数将浮点数转换为整数。你可以通过运行下面的代码来尝试一下。"
   ]
  },
  {
   "cell_type": "code",
   "execution_count": 1,
   "id": "fcdcb620",
   "metadata": {
    "execution": {
     "iopub.execute_input": "2022-02-15T23:56:52.042953Z",
     "iopub.status.busy": "2022-02-15T23:56:52.041922Z",
     "iopub.status.idle": "2022-02-15T23:56:52.050442Z",
     "shell.execute_reply": "2022-02-15T23:56:52.049852Z",
     "shell.execute_reply.started": "2022-02-03T22:16:24.931367Z"
    },
    "papermill": {
     "duration": 0.036351,
     "end_time": "2022-02-15T23:56:52.050571",
     "exception": false,
     "start_time": "2022-02-15T23:56:52.01422",
     "status": "completed"
    },
    "tags": []
   },
   "outputs": [
    {
     "name": "stdout",
     "output_type": "stream",
     "text": [
      "1.0\n",
      "<class 'float'>\n",
      "1\n",
      "<class 'int'>\n"
     ]
    }
   ],
   "source": [
    "# 定义一个浮点数\n",
    "y = 1.\n",
    "print(y)\n",
    "print(type(y))\n",
    "\n",
    "# 用int函数将浮点数转换为整数\n",
    "z = int(y)\n",
    "print(z)\n",
    "print(type(z))"
   ]
  },
  {
   "cell_type": "markdown",
   "id": "6dca121b",
   "metadata": {
    "papermill": {
     "duration": 0.015746,
     "end_time": "2022-02-15T23:56:52.082635",
     "exception": false,
     "start_time": "2022-02-15T23:56:52.066889",
     "status": "completed"
    },
    "tags": []
   },
   "source": [
    "在这个例子中，你使用的浮点数在小数点后没有数字。\n",
    "- 但是当你尝试将带有小数部分的浮点数转换为整数时会发生什么?\n",
    "- 对于正数和负数，`int`函数的结果如何变化?\n",
    "\n",
    "请使用下一个代码单元格来实验并回答这些问题。当然，请随意添加或删除任何代码行独立完成，也可参考注释代码。"
   ]
  },
  {
   "cell_type": "code",
   "execution_count": 2,
   "id": "5e2ae5b4",
   "metadata": {
    "execution": {
     "iopub.execute_input": "2022-02-15T23:56:52.118225Z",
     "iopub.status.busy": "2022-02-15T23:56:52.117674Z",
     "iopub.status.idle": "2022-02-15T23:56:52.120471Z",
     "shell.execute_reply": "2022-02-15T23:56:52.12101Z",
     "shell.execute_reply.started": "2022-02-03T22:22:45.029379Z"
    },
    "papermill": {
     "duration": 0.023189,
     "end_time": "2022-02-15T23:56:52.121169",
     "exception": false,
     "start_time": "2022-02-15T23:56:52.09798",
     "status": "completed"
    },
    "tags": []
   },
   "outputs": [],
   "source": [
    "# 取消下面行的注释并运行代码\n",
    "#print(int(1.2321))\n",
    "#print(int(1.747))\n",
    "#print(int(-3.94535))\n",
    "#print(int(-2.19774))"
   ]
  },
  {
   "cell_type": "markdown",
   "id": "cc7faf6d",
   "metadata": {
    "papermill": {
     "duration": 0.015624,
     "end_time": "2022-02-15T23:56:52.222102",
     "exception": false,
     "start_time": "2022-02-15T23:56:52.206478",
     "status": "completed"
    },
    "tags": []
   },
   "source": [
    "# Question 2\n",
    "\n",
    "在本教程中，你学习了布尔值(可以取值为`True`或`False`)，以及整数、浮点数和字符串。对于这个问题，你的目标是确定当你将一个布尔值乘以这些数据类型时会发生什么。具体地说,\n",
    "- 当你将一个整数或浮点数乘以`True`时会发生什么?当你将它们乘以`False`时会发生什么?如果数字是正数或负数，答案会发生什么变化?\n",
    "- 当你将一个字符串乘以`True`时会发生什么?乘以`False`呢?\n",
    "\n",
    "使用下一个代码单元进行实验。"
   ]
  },
  {
   "cell_type": "code",
   "execution_count": 3,
   "id": "d548245e",
   "metadata": {
    "execution": {
     "iopub.execute_input": "2022-02-15T23:56:52.258128Z",
     "iopub.status.busy": "2022-02-15T23:56:52.256537Z",
     "iopub.status.idle": "2022-02-15T23:56:52.26293Z",
     "shell.execute_reply": "2022-02-15T23:56:52.263951Z",
     "shell.execute_reply.started": "2022-02-07T14:49:29.48822Z"
    },
    "papermill": {
     "duration": 0.026529,
     "end_time": "2022-02-15T23:56:52.26436",
     "exception": false,
     "start_time": "2022-02-15T23:56:52.237831",
     "status": "completed"
    },
    "tags": []
   },
   "outputs": [],
   "source": [
    "# 取消下面行的注释并运行代码\n",
    "#print(3 * True)\n",
    "#print(-3.1 * True)\n",
    "#print(type(\"abc\" * False))\n",
    "#print(len(\"abc\" * False))"
   ]
  },
  {
   "cell_type": "markdown",
   "id": "dd8cd0e6",
   "metadata": {
    "papermill": {
     "duration": 0.024657,
     "end_time": "2022-02-15T23:56:52.423541",
     "exception": false,
     "start_time": "2022-02-15T23:56:52.398884",
     "status": "completed"
    },
    "tags": []
   },
   "source": [
    "# Question 3\n",
    "\n",
    "在这个问题中，你将在前一个练习的基础上编写一个估算房屋价值的函数。\n",
    "使用下面的代码单元格创建一个函数`get_expected_cost`，它接受三个变量作为输入:\n",
    "- `beds` -卧室的数量(数据类型为float)\n",
    "- `baths` -浴室的数量(数据类型为float)\n",
    "- `has_basement`-房子是否有地下室(数据类型为布尔值)\n",
    "\n",
    "它应该返回具有这些特征的房子的预期成本。假设:\n",
    "- 一套没有卧室、没有浴室、没有地下室的房子的预期成本是80000\n",
    "- 每间卧室增加30000的预期成本\n",
    "- 每个浴室增加10000美元的预期成本\n",
    "- 地下室增加40000的预期成本\n",
    "\n",
    "例如,\n",
    "- 一间1卧室，1浴室，没有地下室的房子，预期成本为80000 + 30000 + 10000 = 120000。这个值将通过`get_expected_cost(1,1, False)`计算出来。\n",
    "- 带有2间卧室、1间浴室和地下室的房子，预期成本为80000 + 2*30000 + 10000 + 40000 = 190000。这个值将通过`get_expected_cost(2,1, True)`计算出来。\n",
    "\n",
    "这道题需要你对Question2中的问题进行理解，请好好思考一下。并尝试用你所写的函数进行计算验证。"
   ]
  },
  {
   "cell_type": "code",
   "execution_count": 4,
   "id": "861beefb",
   "metadata": {
    "execution": {
     "iopub.execute_input": "2022-02-15T23:56:52.478801Z",
     "iopub.status.busy": "2022-02-15T23:56:52.476309Z",
     "iopub.status.idle": "2022-02-15T23:56:52.480428Z",
     "shell.execute_reply": "2022-02-15T23:56:52.481088Z",
     "shell.execute_reply.started": "2022-02-03T22:52:03.974262Z"
    },
    "papermill": {
     "duration": 0.033124,
     "end_time": "2022-02-15T23:56:52.48129",
     "exception": false,
     "start_time": "2022-02-15T23:56:52.448166",
     "status": "completed"
    },
    "tags": []
   },
   "outputs": [],
   "source": [
    "# 完善函数功能\n",
    "def get_expected_cost(beds, baths, has_basement):\n",
    "    value = ____\n",
    "    return value"
   ]
  },
  {
   "cell_type": "markdown",
   "id": "4d4c8f4a",
   "metadata": {
    "papermill": {
     "duration": 0.02506,
     "end_time": "2022-02-15T23:56:52.588859",
     "exception": false,
     "start_time": "2022-02-15T23:56:52.563799",
     "status": "completed"
    },
    "tags": []
   },
   "source": [
    "# Question 4\n",
    "\n",
    "我们将继续学习布尔运算。对于这个问题，你的学习任务是描述添加布尔值时会发生什么。\n",
    "\n",
    "使用下一个代码单元进行实验。"
   ]
  },
  {
   "cell_type": "code",
   "execution_count": 5,
   "id": "9b1668b7",
   "metadata": {
    "execution": {
     "iopub.execute_input": "2022-02-15T23:56:52.645742Z",
     "iopub.status.busy": "2022-02-15T23:56:52.644793Z",
     "iopub.status.idle": "2022-02-15T23:56:52.649131Z",
     "shell.execute_reply": "2022-02-15T23:56:52.648404Z",
     "shell.execute_reply.started": "2022-02-07T14:34:27.967409Z"
    },
    "papermill": {
     "duration": 0.034215,
     "end_time": "2022-02-15T23:56:52.649292",
     "exception": false,
     "start_time": "2022-02-15T23:56:52.615077",
     "status": "completed"
    },
    "tags": []
   },
   "outputs": [
    {
     "name": "stdout",
     "output_type": "stream",
     "text": [
      "0\n",
      "1\n",
      "1\n",
      "2\n",
      "3\n"
     ]
    }
   ],
   "source": [
    "print(False + False)\n",
    "print(True + False)\n",
    "print(False + True)\n",
    "print(True + True)\n",
    "print(False + True + True + True)"
   ]
  },
  {
   "cell_type": "markdown",
   "id": "1e9b7b63",
   "metadata": {
    "papermill": {
     "duration": 0.024396,
     "end_time": "2022-02-15T23:56:52.81114",
     "exception": false,
     "start_time": "2022-02-15T23:56:52.786744",
     "status": "completed"
    },
    "tags": []
   },
   "source": [
    "# ☆ Question 5\n",
    "\n",
    "你拥有一家网上商店，在那里你可以出售带有定制雕刻的戒指。你们提供镀金和纯金的戒指。\n",
    "- 镀金戒指的基本成本是\\\\$50，戒指每刻一个字收费\\\\$7。\n",
    "- 纯金戒指的基本成本是\\\\$100，戒指每刻一个字收费\\\\$10。\n",
    "- 空格和标点符号被视为刻字单位。\n",
    "\n",
    "写一个函数`cost_of_project()`，它接受两个参数:\n",
    "- `engraving` 是一个Python字符串，包含雕刻作品的文本\n",
    "- `solid_gold` 是布尔值，表示戒指是否为纯金\n",
    "\n",
    "它应该返回戒指的成本。这个问题应该相当具有挑战性。"
   ]
  },
  {
   "cell_type": "code",
   "execution_count": 6,
   "id": "5105f830",
   "metadata": {
    "execution": {
     "iopub.execute_input": "2022-02-15T23:56:52.86895Z",
     "iopub.status.busy": "2022-02-15T23:56:52.867881Z",
     "iopub.status.idle": "2022-02-15T23:56:52.870834Z",
     "shell.execute_reply": "2022-02-15T23:56:52.870153Z",
     "shell.execute_reply.started": "2022-02-15T23:31:54.827145Z"
    },
    "papermill": {
     "duration": 0.034931,
     "end_time": "2022-02-15T23:56:52.871015",
     "exception": false,
     "start_time": "2022-02-15T23:56:52.836084",
     "status": "completed"
    },
    "tags": []
   },
   "outputs": [],
   "source": [
    "def cost_of_project(engraving, solid_gold):\n",
    "    cost = ____\n",
    "    return cost"
   ]
  },
  {
   "cell_type": "markdown",
   "id": "8b3cd6ba",
   "metadata": {
    "papermill": {
     "duration": 0.025442,
     "end_time": "2022-02-15T23:56:52.981178",
     "exception": false,
     "start_time": "2022-02-15T23:56:52.955736",
     "status": "completed"
    },
    "tags": []
   },
   "source": [
    "运行下一个代码单元格，计算在纯金戒指上雕刻`Charlie+Denver`的成本。"
   ]
  },
  {
   "cell_type": "code",
   "execution_count": 7,
   "id": "7e9442f7",
   "metadata": {
    "execution": {
     "iopub.execute_input": "2022-02-15T23:56:53.038462Z",
     "iopub.status.busy": "2022-02-15T23:56:53.037566Z",
     "iopub.status.idle": "2022-02-15T23:56:53.04115Z",
     "shell.execute_reply": "2022-02-15T23:56:53.040512Z",
     "shell.execute_reply.started": "2022-02-15T23:30:27.426417Z"
    },
    "papermill": {
     "duration": 0.033363,
     "end_time": "2022-02-15T23:56:53.041309",
     "exception": false,
     "start_time": "2022-02-15T23:56:53.007946",
     "status": "completed"
    },
    "tags": []
   },
   "outputs": [
    {
     "ename": "NameError",
     "evalue": "name '____' is not defined",
     "output_type": "error",
     "traceback": [
      "\u001b[1;31m---------------------------------------------------------------------------\u001b[0m",
      "\u001b[1;31mNameError\u001b[0m                                 Traceback (most recent call last)",
      "\u001b[1;32m~\\AppData\\Local\\Temp\\ipykernel_10060\\592521163.py\u001b[0m in \u001b[0;36m<module>\u001b[1;34m\u001b[0m\n\u001b[1;32m----> 1\u001b[1;33m \u001b[0mproject_one\u001b[0m \u001b[1;33m=\u001b[0m \u001b[0mcost_of_project\u001b[0m\u001b[1;33m(\u001b[0m\u001b[1;34m\"Charlie+Denver\"\u001b[0m\u001b[1;33m,\u001b[0m \u001b[1;32mTrue\u001b[0m\u001b[1;33m)\u001b[0m\u001b[1;33m\u001b[0m\u001b[1;33m\u001b[0m\u001b[0m\n\u001b[0m\u001b[0;32m      2\u001b[0m \u001b[0mprint\u001b[0m\u001b[1;33m(\u001b[0m\u001b[0mproject_one\u001b[0m\u001b[1;33m)\u001b[0m\u001b[1;33m\u001b[0m\u001b[1;33m\u001b[0m\u001b[0m\n",
      "\u001b[1;32m~\\AppData\\Local\\Temp\\ipykernel_10060\\2576480197.py\u001b[0m in \u001b[0;36mcost_of_project\u001b[1;34m(engraving, solid_gold)\u001b[0m\n\u001b[0;32m      1\u001b[0m \u001b[1;32mdef\u001b[0m \u001b[0mcost_of_project\u001b[0m\u001b[1;33m(\u001b[0m\u001b[0mengraving\u001b[0m\u001b[1;33m,\u001b[0m \u001b[0msolid_gold\u001b[0m\u001b[1;33m)\u001b[0m\u001b[1;33m:\u001b[0m\u001b[1;33m\u001b[0m\u001b[1;33m\u001b[0m\u001b[0m\n\u001b[1;32m----> 2\u001b[1;33m     \u001b[0mcost\u001b[0m \u001b[1;33m=\u001b[0m \u001b[0m____\u001b[0m\u001b[1;33m\u001b[0m\u001b[1;33m\u001b[0m\u001b[0m\n\u001b[0m\u001b[0;32m      3\u001b[0m     \u001b[1;32mreturn\u001b[0m \u001b[0mcost\u001b[0m\u001b[1;33m\u001b[0m\u001b[1;33m\u001b[0m\u001b[0m\n",
      "\u001b[1;31mNameError\u001b[0m: name '____' is not defined"
     ]
    }
   ],
   "source": [
    "project_one = cost_of_project(\"Charlie+Denver\", True)\n",
    "print(project_one)"
   ]
  },
  {
   "cell_type": "markdown",
   "id": "c6d8bd9f",
   "metadata": {
    "papermill": {
     "duration": 0.025504,
     "end_time": "2022-02-15T23:56:53.093394",
     "exception": false,
     "start_time": "2022-02-15T23:56:53.06789",
     "status": "completed"
    },
    "tags": []
   },
   "source": [
    "使用下一个代码单元来计算在镀金戒指雕刻`08/10/2000`的成本。"
   ]
  },
  {
   "cell_type": "code",
   "execution_count": null,
   "id": "c80e7460",
   "metadata": {
    "execution": {
     "iopub.execute_input": "2022-02-15T23:56:53.150257Z",
     "iopub.status.busy": "2022-02-15T23:56:53.149375Z",
     "iopub.status.idle": "2022-02-15T23:56:53.154415Z",
     "shell.execute_reply": "2022-02-15T23:56:53.153758Z",
     "shell.execute_reply.started": "2022-02-15T23:29:10.617644Z"
    },
    "papermill": {
     "duration": 0.03374,
     "end_time": "2022-02-15T23:56:53.154559",
     "exception": false,
     "start_time": "2022-02-15T23:56:53.120819",
     "status": "completed"
    },
    "tags": []
   },
   "outputs": [],
   "source": [
    "project_two = cost_of_project(\"08/10/2000\", False)\n",
    "print(project_two)"
   ]
  },
  {
   "cell_type": "markdown",
   "id": "e0a752ef",
   "metadata": {
    "papermill": {
     "duration": 0.016828,
     "end_time": "2022-02-15T23:56:53.189102",
     "exception": false,
     "start_time": "2022-02-15T23:56:53.172274",
     "status": "completed"
    },
    "tags": []
   },
   "source": [
    "# 恭喜你!你刚刚完成了编程入门课程的第二个练习!"
   ]
  }
 ],
 "metadata": {
  "kernelspec": {
   "display_name": "Python 3 (ipykernel)",
   "language": "python",
   "name": "python3"
  },
  "language_info": {
   "codemirror_mode": {
    "name": "ipython",
    "version": 3
   },
   "file_extension": ".py",
   "mimetype": "text/x-python",
   "name": "python",
   "nbconvert_exporter": "python",
   "pygments_lexer": "ipython3",
   "version": "3.9.13"
  },
  "papermill": {
   "default_parameters": {},
   "duration": 15.996115,
   "end_time": "2022-02-15T23:56:55.998786",
   "environment_variables": {},
   "exception": null,
   "input_path": "__notebook__.ipynb",
   "output_path": "__notebook__.ipynb",
   "parameters": {},
   "start_time": "2022-02-15T23:56:40.002671",
   "version": "2.3.3"
  }
 },
 "nbformat": 4,
 "nbformat_minor": 5
}
