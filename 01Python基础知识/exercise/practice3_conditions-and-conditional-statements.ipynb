{
 "cells": [
  {
   "cell_type": "markdown",
   "metadata": {},
   "source": [
    "**在本教程中，将要学习条件和条件语句。在这个练习中，你将运用所学的知识来回答几个问题。**"
   ]
  },
  {
   "cell_type": "markdown",
   "metadata": {},
   "source": [
    "# Question 1\n",
    "\n",
    "现在，我们邀请你在厦门大学招生办公室工作。在查看大学申请者的数据集时，你会注意到一些学生用字母(`\"A\" `，`\"B\"`，`\"C\"`，`\"D\"`，`\"F\"`)来表示他们的成绩，而另一些学生用`0~100`之间的数字来表示他们的成绩。\n",
    "\n",
    "你意识到作为一个招生工作者，为了保持一致性，所有的成绩都应该使用相同的格式，于是你决定将它们都设置为字母格式。对于转换，你决定赋值:\n",
    "- `\"A\"`——90-100分\n",
    "- `\"B\"`——80-89分\n",
    "- `\"C\"`——70-79分\n",
    "- `\"D\"`——60-69分\n",
    "- `\"F\"`——60分以下\n",
    "\n",
    "你决定帮厦门大学招生办写一个函数。\n",
    "这个函数名为`get_grade()`，其中`score`作为输入:\n",
    "- `score`，其意义是0 ~ 100的整数，对应的数字等级\n",
    "\n",
    "它应该返回一个Python字符串，其中包含它对应的字母grade。例如,\n",
    "- 85分对应B级。换句话说，`get_grade(85)`应该返回`\"B\"`。\n",
    "- 49分对应F级。换句话说，`get_grade(49)`应该返回`\"F\"`。\n",
    "\n",
    "确保在提供函数返回的成绩时，它是用引号括起来的。(例如，如果你想返回`\"A\"`，你应该写`return \"A\"`而不是`return A`。)"
   ]
  },
  {
   "cell_type": "code",
   "execution_count": null,
   "metadata": {},
   "outputs": [],
   "source": [
    "# 编辑这个函数，让它对不同的分数返回正确的分数，并尝试调用自己的函数验证是否是正确的\n",
    "def get_grade(score):\n",
    "    grade = \"A\"\n",
    "    return grade"
   ]
  },
  {
   "cell_type": "markdown",
   "metadata": {},
   "source": [
    "# Question 2\n",
    "\n",
    "在前一课的练习中，你编写了一个函数`cost_of_project()`，它为一家销售带有定制雕刻的戒指的在线商店估计戒指的价格。这个函数没有使用条件语句。\n",
    "在这个练习中，你将使用条件语句重写这个函数。回想一下，网上商店的价格结构如下:\n",
    "- 镀金戒指的基本成本是\\\\$50，每刻一个戒指收费\\\\$7。\n",
    "- 纯金戒指的基本成本是\\\\$100，每只雕刻的戒指收费\\\\$10。\n",
    "- 空格和标点符号被视为刻字单位。\n",
    "\n",
    "你的函数`cost_of_project()`有两个参数:\n",
    "- `engraving `：一个Python字符串，包含雕刻作品的文本\n",
    "- `solid_gold`：布尔值，表示戒指是否为纯金\n",
    "\n",
    "它应该返回雕刻戒指的成本。\n",
    "该函数已部分完成，需要自行填空完成该函数。并尝试调用自己的函数验证是否是正确的。"
   ]
  },
  {
   "cell_type": "code",
   "execution_count": null,
   "metadata": {},
   "outputs": [],
   "source": [
    "def cost_of_project(engraving, solid_gold):\n",
    "    if solid_gold == True:\n",
    "        cost = ____\n",
    "    else:\n",
    "        cost = ____\n",
    "    return cost"
   ]
  },
  {
   "cell_type": "markdown",
   "metadata": {},
   "source": [
    "# Question 3\n",
    "\n",
    "因为你太棒了，现在被水务公司抢走当上了程序员。最近，你的任务是编写一个函数`get_water_bill()`，它接收输入:\n",
    "\n",
    "- `num_加仑`=用户当月使用的水加仑数。(这始终是一个没有小数部分的整数。)\n",
    "\n",
    "\n",
    "\n",
    "它应该输出水费单。\n",
    "\n",
    "水务机构采用层级定价结构：\n",
    "<table style=\"width: 100%;\">\n",
    "<tbody>\n",
    "<tr><th><b><center>层级</center></b></th><th><b><center>加仑量</center></b></th><th><b><center>每100加仑水的价格</center></b></th></tr>\n",
    "<tr>\n",
    "<td><center>一层<center></center></td>\n",
    "<td><center>0 - 8,000</center></td>\n",
    "<td><center>\\$5</center></td>\n",
    "</tr>\n",
    "<tr>\n",
    "<td><center>二层</center></td>\n",
    "<td><center>8,001 - 22,000</center></td>\n",
    "<td><center>\\$6</center></td>\n",
    "</tr>\n",
    "<tr>\n",
    "<td><center>三层</center></td>\n",
    "<td><center>22,001 - 30,000</center></td>\n",
    "<td><center>\\$7</center></td>\n",
    "</tr>\n",
    "<tr>\n",
    "<td><center>四层</center></td>\n",
    "<td><center>30,001+</center></td>\n",
    "<td><center>\\$10</center></td>\n",
    "</tr>\n",
    "</tbody>\n",
    "</table>\n",
    "\n",
    "例如:\n",
    "- 一个月使用10,000加仑水的人被列为第2级，需要支付水费\\\\$6 * 10 = \\\\$60。换句话说，`get_water_bill(10000)`应该返回`60.0`。\n",
    "- 一个月使用2.5万加仑水的人被列为第三级，需要支付水费\\\\$7 * 25 = \\\\$175。换句话说，`get_water_bill(25000)`应该返回`175.0`。\n",
    "\n",
    "并尝试调用自己的函数验证是否是正确的。\n",
    "\n",
    "**不要四舍五入。**"
   ]
  },
  {
   "cell_type": "code",
   "execution_count": null,
   "metadata": {
    "execution": {
     "iopub.execute_input": "2022-03-04T20:34:33.071427Z",
     "iopub.status.busy": "2022-03-04T20:34:33.070925Z",
     "iopub.status.idle": "2022-03-04T20:34:33.080441Z",
     "shell.execute_reply": "2022-03-04T20:34:33.079501Z",
     "shell.execute_reply.started": "2022-03-04T20:34:33.071383Z"
    }
   },
   "outputs": [],
   "source": [
    "# 编辑该函数，以返回不同的正确账单\n",
    "# 用水量的价格\n",
    "def get_water_bill(num_gallons):\n",
    "    bill = 1000\n",
    "    return bill"
   ]
  },
  {
   "cell_type": "markdown",
   "metadata": {},
   "source": [
    "# Question 4\n",
    "\n",
    "你现在厉害到人尽皆知了，被雇佣为一家提供数据服务的公司工作。当一个客户每月交100美元，您的公司提供15GB的数据服务。然后，任何额外的数据都以\\\\$0.10/MB(或\\\\$100/GB)计费。\n",
    "**这道题目表述过于书面，通俗的说，就是你交100元，通信公司给你15G流量。你超额使用的流量，每1G流量都要再交100元**\n",
    "\n",
    "使用下一个代码单元格编写函数' get_phone_bill() '，它接受输入:\n",
    "- `gb`=客户一个月内使用的gb数量\n",
    "\n",
    "它应该返回客户的总电话费。\n",
    "\n",
    "例如:\n",
    "- 一个月内使用10gb数据的客户只收取100美元，因为使用量保持在15gb以下。换句话说，` get_phone_bill(10)`应该返回`100`。\n",
    "- 一个在一个月内使用15.1 GB(或15 GB + 100 MB)数据的客户已经超过了0.1 GB，所以他们必须支付\\\\$100(计划成本)，加上\\\\$0.10 * 100 = \\\\$10，总共为\\\\$110的账单。换句话说，`get_phone_bill(15.1)`应该返回`110`。\n",
    "\n",
    "并尝试调用自己的函数验证是否是正确的。\n",
    "\n",
    "**不要四舍五入。**"
   ]
  },
  {
   "cell_type": "code",
   "execution_count": null,
   "metadata": {
    "execution": {
     "iopub.execute_input": "2022-03-04T20:34:33.092101Z",
     "iopub.status.busy": "2022-03-04T20:34:33.091745Z",
     "iopub.status.idle": "2022-03-04T20:34:33.101817Z",
     "shell.execute_reply": "2022-03-04T20:34:33.100994Z",
     "shell.execute_reply.started": "2022-03-04T20:34:33.092066Z"
    }
   },
   "outputs": [],
   "source": [
    "# 编辑该函数，以返回不同的正确账单\n",
    "# 用户使用的流量（GB）\n",
    "def get_phone_bill(gb):\n",
    "    bill = 100\n",
    "    return bill"
   ]
  },
  {
   "cell_type": "markdown",
   "metadata": {},
   "source": [
    "# ☆ Question 5\n",
    "\n",
    "在墨西哥，饱和脂肪、反式脂肪、糖、钠和卡路里含量高的食品和饮料都带有警告标签，旨在帮助消费者做出健康的食品选择。\n",
    "\n",
    "例如，下图中的饼干盒有两个标签(在右上角):\n",
    "。"
   ]
  },
  {
   "cell_type": "markdown",
   "metadata": {},
   "source": [
    "![title](bingganhe.png)"
   ]
  },
  {
   "cell_type": "markdown",
   "metadata": {},
   "source": [
    "- EXCESO CALORÍAS(超额卡路里)\n",
    "- EXCESO AZÚCARES(超额糖)\n",
    "\n",
    "在这个问题中，您将使用一个函数‘get_labels()’，它将获取食物的营养细节，并打印所需的警告标签。这个函数有几个输入:\n",
    "- `food_type` = `固体`或`液体`\n",
    "- `serving_size` = 一份食物的大小(如果是固体的，以克为单位;如为液体，单位为毫升)\n",
    "- `calories_per_serving` = 每份所含的卡路里\n",
    "- `饱和脂肪` = 每份含有的饱和脂肪克数\n",
    "- `反式脂肪` = 每份含有的反式脂肪克数\n",
    "- `钠_mg` = 每份含有的钠量\n",
    "- `sugars_g` = 每份糖的克数\n",
    "\n",
    "请注意，这里的一些代码你可能会感到陌生，因为没有分享一些函数的细节，如`excess_sugar()`或`excess_saturated_fat()`的工作原理。如果食物被认为含有过量的糖或饱和脂肪，这些函数分别返回`True`值。这些函数在`get_labels()`函数中使用，当有多余的(糖或饱和脂肪，但也有反式脂肪、钠或卡路里)时，它会打印相应的提示标签"
   ]
  },
  {
   "cell_type": "code",
   "execution_count": 1,
   "metadata": {},
   "outputs": [
    {
     "name": "stdout",
     "output_type": "stream",
     "text": [
      "hello\n"
     ]
    }
   ],
   "source": [
    "print(\"hello\")"
   ]
  },
  {
   "cell_type": "code",
   "execution_count": 7,
   "metadata": {},
   "outputs": [],
   "source": [
    "##导入第三方包（也就是别人写好的函数，给自己使用）\n",
    "from intro_to_food import excess_sugar, excess_saturated_fat, excess_trans_fat, excess_sodium, excess_calories\n"
   ]
  },
  {
   "cell_type": "code",
   "execution_count": 8,
   "metadata": {
    "execution": {
     "iopub.execute_input": "2022-03-04T20:34:33.158921Z",
     "iopub.status.busy": "2022-03-04T20:34:33.158584Z",
     "iopub.status.idle": "2022-03-04T20:34:33.170324Z",
     "shell.execute_reply": "2022-03-04T20:34:33.169459Z",
     "shell.execute_reply.started": "2022-03-04T20:34:33.158885Z"
    }
   },
   "outputs": [],
   "source": [
    "def get_labels(food_type, serving_size, calories_per_serving, saturated_fat_g, trans_fat_g, sodium_mg, sugars_g):\n",
    "    # Print messages based on findings\n",
    "    if excess_sugar(sugars_g, calories_per_serving) == True:\n",
    "        print(\"EXCESO AZÚCARES / EXCESS SUGAR\")\n",
    "    if excess_saturated_fat(saturated_fat_g, calories_per_serving) == True:\n",
    "        print(\"EXCESO GRASAS SATURADAS / EXCESS SATURATED FAT\")\n",
    "    if excess_trans_fat(trans_fat_g, calories_per_serving) == True:\n",
    "        print(\"EXCESO GRASAS TRANS / EXCESS TRANS FAT\")\n",
    "    if excess_sodium(calories_per_serving, sodium_mg) == True:\n",
    "        print(\"EXCESO SODIO / EXCESS SODIUM\")\n",
    "    if excess_calories(food_type, calories_per_serving, serving_size) == True:\n",
    "        print(\"EXCESO CALORÍAS / EXCESS CALORIES\")"
   ]
  },
  {
   "cell_type": "markdown",
   "metadata": {},
   "source": [
    "下一个代码单元演示了如何使用`get_labels()`来获取食品应该包含的警告标签。我们从假设一种食物的信息如下，对于这种食物，\n",
    "- `food_type = \"solid\"`(因为博洛尼亚是固体而不是液体)\n",
    "- `serving_size = 32`(食用量为32克)\n",
    "- `calories_per_serving = 110`(每份食物含有110卡路里)\n",
    "- `saturated_fat_g = 2.5`(每份含有2.5克饱和脂肪)\n",
    "- `trans_fat_g = 0`(每份反式脂肪含量为0克)\n",
    "- `sodium_mg = 400`(每份钠含量为400毫克)\n",
    "- `sugars_g = 1`(营养成分表明小于1克，但为了安全起见，我们将其四舍五入到1克)\n",
    "\n",
    "通过向函数提供所有这些值，计算机可以帮助我们打印出警告标签。"
   ]
  },
  {
   "cell_type": "code",
   "execution_count": 9,
   "metadata": {
    "execution": {
     "iopub.execute_input": "2022-03-04T20:34:33.183777Z",
     "iopub.status.busy": "2022-03-04T20:34:33.182839Z",
     "iopub.status.idle": "2022-03-04T20:34:33.192537Z",
     "shell.execute_reply": "2022-03-04T20:34:33.191709Z",
     "shell.execute_reply.started": "2022-03-04T20:34:33.18373Z"
    }
   },
   "outputs": [
    {
     "name": "stdout",
     "output_type": "stream",
     "text": [
      "EXCESO GRASAS SATURADAS / EXCESS SATURATED FAT\n",
      "EXCESO SODIO / EXCESS SODIUM\n",
      "EXCESO CALORÍAS / EXCESS CALORIES\n"
     ]
    }
   ],
   "source": [
    "# 博洛尼亚大红肠（一种大腊肠）https://world.openfoodfacts.org/product/4099100179378/bologna\n",
    "get_labels(\"solid\", 32, 110, 2.5, 0, 400, 1)"
   ]
  },
  {
   "cell_type": "markdown",
   "metadata": {},
   "source": [
    "这个腊肠有三个标签，运行上面的代码，输出中你可以看到。\n",
    "\n",
    "对于这个问题的其余部分，你将使用相同的`get_labels()`函数来确定更多食物的标签。这个问题的目的是帮助你练习熟悉别人编写的代码，并且在与他人交互之前没有时间检查每一行代码。例如，当你学习机器学习课程的时候，你将使用一个名为“scikit-learn”的Python包，这是一个庞大的代码集合，你将学习如何运行它，而无需详细审查所有代码(因为这将花费太长时间，并且你可以相信它是正确实现的)。\n",
    "\n",
    "一般来说，当你继续使用Python编写代码时，经常会运行其他人编写的代码，有的代码已经封装成库，可以使用anaconda中的特殊指令下载；有的没有封装，则需要代码源文件放在你的函数文件的固定位置进行调用。这是高级程序员的常见做法。\n",
    "\n",
    "在下一个代码单元格中，计算一种谷物的值。\n",
    "\n",
    "**注意**：直接运行下面的代码将返回一个错误。你得先填上营养价值。"
   ]
  },
  {
   "cell_type": "code",
   "execution_count": 10,
   "metadata": {
    "execution": {
     "iopub.execute_input": "2022-03-04T20:34:33.172866Z",
     "iopub.status.busy": "2022-03-04T20:34:33.172546Z",
     "iopub.status.idle": "2022-03-04T20:34:33.181281Z",
     "shell.execute_reply": "2022-03-04T20:34:33.180468Z",
     "shell.execute_reply.started": "2022-03-04T20:34:33.172839Z"
    }
   },
   "outputs": [],
   "source": [
    "# 谷物 https://world.openfoodfacts.org/product/7501008023624/zucaritas-kellogg-s\n",
    "# 取消下面这行注释，填入值，然后运行函数\n",
    "#get_labels()"
   ]
  },
  {
   "cell_type": "markdown",
   "metadata": {},
   "source": [
    "接下来，试试[马苏里拉奶酪棒](https://world-es.openfoodfacts.org/producto/0062325540104/mozzarella-cheese-sticks)。这里有一张包含所有营养信息的[图片](https://imgur.com/rcdB7VH)。"
   ]
  },
  {
   "cell_type": "code",
   "execution_count": null,
   "metadata": {
    "execution": {
     "iopub.execute_input": "2022-03-04T20:34:33.195521Z",
     "iopub.status.busy": "2022-03-04T20:34:33.194973Z",
     "iopub.status.idle": "2022-03-04T20:34:33.202652Z",
     "shell.execute_reply": "2022-03-04T20:34:33.20187Z",
     "shell.execute_reply.started": "2022-03-04T20:34:33.195486Z"
    }
   },
   "outputs": [],
   "source": [
    "# 马苏里拉奶酪棒 https://world-es.openfoodfacts.org/producto/0062325540104/mozzarella-cheese-sticks\n",
    "# \n",
    "#get_labels()"
   ]
  },
  {
   "cell_type": "markdown",
   "metadata": {},
   "source": [
    "如果你想尝试更多的食物，\n",
    "- 试试[这些饼干](https://world.openfoodfacts.org/product/0069700118545/biscuits-au-sucre-pretraches)。这里有一张包含所有营养信息的[图片](https://imgur.com/2Bc271o)。\n",
    "- 试试[这瓶汽水](https://world-es.openfoodfacts.org/producto/0078000113464/orange-soda-sunkist)。这里有一张包含所有营养信息的[图片](https://imgur.com/RsBYa8E)。\n",
    "\n",
    "使用下面的两个代码单元来运行你的代码。"
   ]
  },
  {
   "cell_type": "code",
   "execution_count": null,
   "metadata": {
    "execution": {
     "iopub.execute_input": "2022-03-04T20:34:33.204198Z",
     "iopub.status.busy": "2022-03-04T20:34:33.203725Z",
     "iopub.status.idle": "2022-03-04T20:34:33.21352Z",
     "shell.execute_reply": "2022-03-04T20:34:33.212498Z",
     "shell.execute_reply.started": "2022-03-04T20:34:33.204154Z"
    }
   },
   "outputs": [],
   "source": [
    "# 皮尔斯伯里的饼干 https://world.openfoodfacts.org/product/0069700118545/biscuits-au-sucre-pretraches\n",
    "# 取消下面这行注释，填入值，然后运行函数\n",
    "#get_labels()"
   ]
  },
  {
   "cell_type": "code",
   "execution_count": null,
   "metadata": {
    "execution": {
     "iopub.execute_input": "2022-03-04T20:34:33.216655Z",
     "iopub.status.busy": "2022-03-04T20:34:33.21632Z",
     "iopub.status.idle": "2022-03-04T20:34:33.223222Z",
     "shell.execute_reply": "2022-03-04T20:34:33.222331Z",
     "shell.execute_reply.started": "2022-03-04T20:34:33.216625Z"
    }
   },
   "outputs": [],
   "source": [
    "# 新奇士橙汽水 https://world-es.openfoodfacts.org/producto/0078000113464/orange-soda-sunkist\n",
    "# 取消下面这行注释，填入值，然后运行函数\n",
    "#get_labels()"
   ]
  },
  {
   "cell_type": "markdown",
   "metadata": {},
   "source": [
    "# 恭喜你!你刚刚完成了编程入门课程的第三个练习!"
   ]
  },
  {
   "cell_type": "code",
   "execution_count": null,
   "metadata": {},
   "outputs": [],
   "source": []
  }
 ],
 "metadata": {
  "kernelspec": {
   "display_name": "Python 3 (ipykernel)",
   "language": "python",
   "name": "python3"
  },
  "language_info": {
   "codemirror_mode": {
    "name": "ipython",
    "version": 3
   },
   "file_extension": ".py",
   "mimetype": "text/x-python",
   "name": "python",
   "nbconvert_exporter": "python",
   "pygments_lexer": "ipython3",
   "version": "3.9.13"
  }
 },
 "nbformat": 4,
 "nbformat_minor": 4
}
