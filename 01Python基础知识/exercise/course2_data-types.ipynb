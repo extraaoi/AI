{
 "cells": [
  {
   "cell_type": "markdown",
   "id": "78029dce",
   "metadata": {
    "papermill": {
     "duration": 0.014125,
     "end_time": "2022-06-06T19:02:34.547656",
     "exception": false,
     "start_time": "2022-06-06T19:02:34.533531",
     "status": "completed"
    },
    "tags": []
   },
   "source": [
    "# 实验介绍\n",
    "\n",
    "无论何时，在Python中创建变量，它都有一个具有相应数据类型的值。有许多不同的数据类型，如整数、浮点数、布尔值和字符串，这些都将在本课中介绍。(这只是可用数据类型的一小部分——还有字典、集合、列表、元组等。)\n",
    "\n",
    "数据类型很重要，因为它们决定了你可以用它们执行什么样的操作。举个例子，可以将两个浮点数相除，但不能将两个字符串相除。例如，`12.0/2.0`是有意义的，但`\"cat\"/\"dog\"`则不是。\n",
    "\n",
    "为了避免错误，我们需要确保操作与所需的数据类型匹配。"
   ]
  },
  {
   "cell_type": "markdown",
   "id": "826320d5",
   "metadata": {
    "papermill": {
     "duration": 0.009334,
     "end_time": "2022-06-06T19:02:34.567169",
     "exception": false,
     "start_time": "2022-06-06T19:02:34.557835",
     "status": "completed"
    },
    "tags": []
   },
   "source": [
    "# 整数 int\n",
    "\n",
    "整数是没有小数部分的数字，可以是正的(`1`，`2`，`3`，…)，负的(`-1`，`-2`，`-3`，…)或零(`0`)。\n",
    "\n",
    "在下面的代码单元中，我们将变量`x`设置为整数。然后，我们使用`type()`来验证数据类型，使用时只需要将变量名传递到括号中。"
   ]
  },
  {
   "cell_type": "code",
   "execution_count": 1,
   "id": "113ed235",
   "metadata": {
    "execution": {
     "iopub.execute_input": "2022-06-06T19:02:34.588019Z",
     "iopub.status.busy": "2022-06-06T19:02:34.587427Z",
     "iopub.status.idle": "2022-06-06T19:02:34.600518Z",
     "shell.execute_reply": "2022-06-06T19:02:34.599365Z"
    },
    "papermill": {
     "duration": 0.026373,
     "end_time": "2022-06-06T19:02:34.602922",
     "exception": false,
     "start_time": "2022-06-06T19:02:34.576549",
     "status": "completed"
    },
    "tags": []
   },
   "outputs": [
    {
     "name": "stdout",
     "output_type": "stream",
     "text": [
      "14\n",
      "<class 'int'>\n"
     ]
    }
   ],
   "source": [
    "x = 14\n",
    "print(x)\n",
    "print(type(x))"
   ]
  },
  {
   "cell_type": "markdown",
   "id": "5c73a5e1",
   "metadata": {
    "papermill": {
     "duration": 0.00967,
     "end_time": "2022-06-06T19:02:34.622786",
     "exception": false,
     "start_time": "2022-06-06T19:02:34.613116",
     "status": "completed"
    },
    "tags": []
   },
   "source": [
    "在上面的输出中，`<class 'int'>`指的是**int**eger（整数）类型。\n",
    "\n",
    "\n",
    "# 浮点数 float\n",
    "\n",
    "浮点数是带有小数部分的数字。"
   ]
  },
  {
   "cell_type": "code",
   "execution_count": 2,
   "id": "7dc6d257",
   "metadata": {
    "execution": {
     "iopub.execute_input": "2022-06-06T19:02:34.645007Z",
     "iopub.status.busy": "2022-06-06T19:02:34.643649Z",
     "iopub.status.idle": "2022-06-06T19:02:34.650550Z",
     "shell.execute_reply": "2022-06-06T19:02:34.649418Z"
    },
    "papermill": {
     "duration": 0.019906,
     "end_time": "2022-06-06T19:02:34.652764",
     "exception": false,
     "start_time": "2022-06-06T19:02:34.632858",
     "status": "completed"
    },
    "tags": []
   },
   "outputs": [
    {
     "name": "stdout",
     "output_type": "stream",
     "text": [
      "3.141592653589793\n",
      "<class 'float'>\n"
     ]
    }
   ],
   "source": [
    "nearly_pi = 3.141592653589793238462643383279502884197169399375105820974944\n",
    "print(nearly_pi)\n",
    "print(type(nearly_pi))"
   ]
  },
  {
   "cell_type": "markdown",
   "id": "93d0703c",
   "metadata": {
    "papermill": {
     "duration": 0.009124,
     "end_time": "2022-06-06T19:02:34.671853",
     "exception": false,
     "start_time": "2022-06-06T19:02:34.662729",
     "status": "completed"
    },
    "tags": []
   },
   "source": [
    "我们也可以用一个除法产生一个浮点数。"
   ]
  },
  {
   "cell_type": "code",
   "execution_count": 3,
   "id": "946e0e5a",
   "metadata": {
    "execution": {
     "iopub.execute_input": "2022-06-06T19:02:34.693844Z",
     "iopub.status.busy": "2022-06-06T19:02:34.693142Z",
     "iopub.status.idle": "2022-06-06T19:02:34.699014Z",
     "shell.execute_reply": "2022-06-06T19:02:34.697770Z"
    },
    "papermill": {
     "duration": 0.019415,
     "end_time": "2022-06-06T19:02:34.701361",
     "exception": false,
     "start_time": "2022-06-06T19:02:34.681946",
     "status": "completed"
    },
    "tags": []
   },
   "outputs": [
    {
     "name": "stdout",
     "output_type": "stream",
     "text": [
      "3.142857142857143\n",
      "<class 'float'>\n"
     ]
    }
   ],
   "source": [
    "almost_pi = 22/7\n",
    "print(almost_pi)\n",
    "print(type(almost_pi))"
   ]
  },
  {
   "cell_type": "markdown",
   "id": "8644da6b",
   "metadata": {
    "papermill": {
     "duration": 0.00946,
     "end_time": "2022-06-06T19:02:34.720728",
     "exception": false,
     "start_time": "2022-06-06T19:02:34.711268",
     "status": "completed"
    },
    "tags": []
   },
   "source": [
    "一个在分数方面特别有用的函数是`round()`。它允许将数字四舍五入到指定的小数位数。"
   ]
  },
  {
   "cell_type": "code",
   "execution_count": 4,
   "id": "5ace3fbd",
   "metadata": {
    "execution": {
     "iopub.execute_input": "2022-06-06T19:02:34.743010Z",
     "iopub.status.busy": "2022-06-06T19:02:34.742512Z",
     "iopub.status.idle": "2022-06-06T19:02:34.747942Z",
     "shell.execute_reply": "2022-06-06T19:02:34.747151Z"
    },
    "papermill": {
     "duration": 0.019961,
     "end_time": "2022-06-06T19:02:34.750697",
     "exception": false,
     "start_time": "2022-06-06T19:02:34.730736",
     "status": "completed"
    },
    "tags": []
   },
   "outputs": [
    {
     "name": "stdout",
     "output_type": "stream",
     "text": [
      "3.14286\n",
      "<class 'float'>\n"
     ]
    }
   ],
   "source": [
    "# 四舍五入到小数点后5位\n",
    "rounded_pi = round(almost_pi, 5)\n",
    "print(rounded_pi)\n",
    "print(type(rounded_pi))"
   ]
  },
  {
   "cell_type": "markdown",
   "id": "a2ffafe8",
   "metadata": {
    "papermill": {
     "duration": 0.00934,
     "end_time": "2022-06-06T19:02:34.769938",
     "exception": false,
     "start_time": "2022-06-06T19:02:34.760598",
     "status": "completed"
    },
    "tags": []
   },
   "source": [
    "只要数有小数点，Python就会把它识别为float数据类型。\n",
    "\n",
    "例如，`1.`(或`1.0`、`1.00`等)将被识别为浮点数。即使这些数字在技术上没有小数部分！"
   ]
  },
  {
   "cell_type": "code",
   "execution_count": 6,
   "id": "02476894",
   "metadata": {
    "execution": {
     "iopub.execute_input": "2022-06-06T19:02:34.792011Z",
     "iopub.status.busy": "2022-06-06T19:02:34.791022Z",
     "iopub.status.idle": "2022-06-06T19:02:34.797932Z",
     "shell.execute_reply": "2022-06-06T19:02:34.796554Z"
    },
    "papermill": {
     "duration": 0.020379,
     "end_time": "2022-06-06T19:02:34.800149",
     "exception": false,
     "start_time": "2022-06-06T19:02:34.779770",
     "status": "completed"
    },
    "tags": []
   },
   "outputs": [
    {
     "name": "stdout",
     "output_type": "stream",
     "text": [
      "1.0\n",
      "<class 'float'>\n"
     ]
    }
   ],
   "source": [
    "y_float = 1.\n",
    "print(y_float)\n",
    "print(type(y_float))"
   ]
  },
  {
   "cell_type": "markdown",
   "id": "421e80a5",
   "metadata": {
    "papermill": {
     "duration": 0.009472,
     "end_time": "2022-06-06T19:02:34.819472",
     "exception": false,
     "start_time": "2022-06-06T19:02:34.810000",
     "status": "completed"
    },
    "tags": []
   },
   "source": [
    "# 布尔值 bool\n",
    "\n",
    "布尔值表示`True`或`False`两个值之一。在下面的码元格中，`z_one`被设置为一个值为`True`的布尔值。"
   ]
  },
  {
   "cell_type": "code",
   "execution_count": 7,
   "id": "75ca20ac",
   "metadata": {
    "execution": {
     "iopub.execute_input": "2022-06-06T19:02:34.843356Z",
     "iopub.status.busy": "2022-06-06T19:02:34.842781Z",
     "iopub.status.idle": "2022-06-06T19:02:34.848114Z",
     "shell.execute_reply": "2022-06-06T19:02:34.847176Z"
    },
    "papermill": {
     "duration": 0.021627,
     "end_time": "2022-06-06T19:02:34.851420",
     "exception": false,
     "start_time": "2022-06-06T19:02:34.829793",
     "status": "completed"
    },
    "tags": []
   },
   "outputs": [
    {
     "name": "stdout",
     "output_type": "stream",
     "text": [
      "True\n",
      "<class 'bool'>\n"
     ]
    }
   ],
   "source": [
    "z_one = True\n",
    "print(z_one)\n",
    "print(type(z_one))"
   ]
  },
  {
   "cell_type": "markdown",
   "id": "b52c7445",
   "metadata": {
    "papermill": {
     "duration": 0.00979,
     "end_time": "2022-06-06T19:02:34.871957",
     "exception": false,
     "start_time": "2022-06-06T19:02:34.862167",
     "status": "completed"
    },
    "tags": []
   },
   "source": [
    "下面的`z_two`被设置为一个布尔值`False`。"
   ]
  },
  {
   "cell_type": "code",
   "execution_count": 8,
   "id": "7b8488f1",
   "metadata": {
    "execution": {
     "iopub.execute_input": "2022-06-06T19:02:34.893654Z",
     "iopub.status.busy": "2022-06-06T19:02:34.893148Z",
     "iopub.status.idle": "2022-06-06T19:02:34.898478Z",
     "shell.execute_reply": "2022-06-06T19:02:34.897532Z"
    },
    "papermill": {
     "duration": 0.019336,
     "end_time": "2022-06-06T19:02:34.901161",
     "exception": false,
     "start_time": "2022-06-06T19:02:34.881825",
     "status": "completed"
    },
    "tags": []
   },
   "outputs": [
    {
     "name": "stdout",
     "output_type": "stream",
     "text": [
      "False\n",
      "<class 'bool'>\n"
     ]
    }
   ],
   "source": [
    "z_two = False\n",
    "print(z_two)\n",
    "print(type(z_two))"
   ]
  },
  {
   "cell_type": "markdown",
   "id": "33d6da76",
   "metadata": {
    "papermill": {
     "duration": 0.009373,
     "end_time": "2022-06-06T19:02:34.920438",
     "exception": false,
     "start_time": "2022-06-06T19:02:34.911065",
     "status": "completed"
    },
    "tags": []
   },
   "source": [
    "布尔值用于表示表达式的真值。由于`1 < 2`是一个true语句，`z_three`的值为` true `。"
   ]
  },
  {
   "cell_type": "code",
   "execution_count": 9,
   "id": "22aa975f",
   "metadata": {
    "execution": {
     "iopub.execute_input": "2022-06-06T19:02:34.942667Z",
     "iopub.status.busy": "2022-06-06T19:02:34.942144Z",
     "iopub.status.idle": "2022-06-06T19:02:34.947253Z",
     "shell.execute_reply": "2022-06-06T19:02:34.946466Z"
    },
    "papermill": {
     "duration": 0.019863,
     "end_time": "2022-06-06T19:02:34.950252",
     "exception": false,
     "start_time": "2022-06-06T19:02:34.930389",
     "status": "completed"
    },
    "tags": []
   },
   "outputs": [
    {
     "name": "stdout",
     "output_type": "stream",
     "text": [
      "True\n",
      "<class 'bool'>\n"
     ]
    }
   ],
   "source": [
    "z_three = (1 < 2)\n",
    "print(z_three)\n",
    "print(type(z_three))"
   ]
  },
  {
   "cell_type": "markdown",
   "id": "da43d217",
   "metadata": {
    "papermill": {
     "duration": 0.009788,
     "end_time": "2022-06-06T19:02:34.969945",
     "exception": false,
     "start_time": "2022-06-06T19:02:34.960157",
     "status": "completed"
    },
    "tags": []
   },
   "source": [
    "类似地，由于`5 < 3`是一个false语句，`z_four`的值为` false `。"
   ]
  },
  {
   "cell_type": "code",
   "execution_count": 10,
   "id": "2559a45f",
   "metadata": {
    "execution": {
     "iopub.execute_input": "2022-06-06T19:02:34.993505Z",
     "iopub.status.busy": "2022-06-06T19:02:34.992785Z",
     "iopub.status.idle": "2022-06-06T19:02:34.998779Z",
     "shell.execute_reply": "2022-06-06T19:02:34.997622Z"
    },
    "papermill": {
     "duration": 0.020511,
     "end_time": "2022-06-06T19:02:35.001376",
     "exception": false,
     "start_time": "2022-06-06T19:02:34.980865",
     "status": "completed"
    },
    "tags": []
   },
   "outputs": [
    {
     "name": "stdout",
     "output_type": "stream",
     "text": [
      "False\n",
      "<class 'bool'>\n"
     ]
    }
   ],
   "source": [
    "z_four = (5 < 3)\n",
    "print(z_four)\n",
    "print(type(z_four))"
   ]
  },
  {
   "cell_type": "markdown",
   "id": "2dfc4a86",
   "metadata": {
    "papermill": {
     "duration": 0.009661,
     "end_time": "2022-06-06T19:02:35.021456",
     "exception": false,
     "start_time": "2022-06-06T19:02:35.011795",
     "status": "completed"
    },
    "tags": []
   },
   "source": [
    "我们可以使用`not`来切换布尔值。因此，`not True`等价于`False`， `not False`等价于`True`。"
   ]
  },
  {
   "cell_type": "code",
   "execution_count": 11,
   "id": "05e86779",
   "metadata": {
    "execution": {
     "iopub.execute_input": "2022-06-06T19:02:35.043609Z",
     "iopub.status.busy": "2022-06-06T19:02:35.043044Z",
     "iopub.status.idle": "2022-06-06T19:02:35.050487Z",
     "shell.execute_reply": "2022-06-06T19:02:35.049213Z"
    },
    "papermill": {
     "duration": 0.022489,
     "end_time": "2022-06-06T19:02:35.053993",
     "exception": false,
     "start_time": "2022-06-06T19:02:35.031504",
     "status": "completed"
    },
    "tags": []
   },
   "outputs": [
    {
     "name": "stdout",
     "output_type": "stream",
     "text": [
      "True\n",
      "<class 'bool'>\n"
     ]
    }
   ],
   "source": [
    "z_five = not z_four\n",
    "print(z_five)\n",
    "print(type(z_five))"
   ]
  },
  {
   "cell_type": "markdown",
   "id": "39a75d1e",
   "metadata": {
    "papermill": {
     "duration": 0.009724,
     "end_time": "2022-06-06T19:02:35.073895",
     "exception": false,
     "start_time": "2022-06-06T19:02:35.064171",
     "status": "completed"
    },
    "tags": []
   },
   "source": [
    "下一课学习条件和条件语句时，布尔值很重要。\n",
    "\n",
    "\n",
    "# 字符串 string\n",
    "\n",
    "string数据类型是包含在引号中的字符(如字母、标点、数字或符号)的集合。字符串通常用来表示文本。"
   ]
  },
  {
   "cell_type": "code",
   "execution_count": 12,
   "id": "0aacb6cc",
   "metadata": {
    "execution": {
     "iopub.execute_input": "2022-06-06T19:02:35.099630Z",
     "iopub.status.busy": "2022-06-06T19:02:35.098185Z",
     "iopub.status.idle": "2022-06-06T19:02:35.105853Z",
     "shell.execute_reply": "2022-06-06T19:02:35.104573Z"
    },
    "papermill": {
     "duration": 0.023962,
     "end_time": "2022-06-06T19:02:35.108722",
     "exception": false,
     "start_time": "2022-06-06T19:02:35.084760",
     "status": "completed"
    },
    "tags": []
   },
   "outputs": [
    {
     "name": "stdout",
     "output_type": "stream",
     "text": [
      "Hello, Python!\n",
      "<class 'str'>\n"
     ]
    }
   ],
   "source": [
    "w = \"Hello, Python!\"\n",
    "print(w)\n",
    "print(type(w))"
   ]
  },
  {
   "cell_type": "markdown",
   "id": "fe2b059a",
   "metadata": {
    "papermill": {
     "duration": 0.010024,
     "end_time": "2022-06-06T19:02:35.129117",
     "exception": false,
     "start_time": "2022-06-06T19:02:35.119093",
     "status": "completed"
    },
    "tags": []
   },
   "source": [
    "用`len()`得到字符串的长度。“你好,Python !”'的长度为14，因为它有14个字符，包括空格、逗号和感叹号。注意，在计算长度时不包括程序运行所必须的引号。"
   ]
  },
  {
   "cell_type": "code",
   "execution_count": 13,
   "id": "9feed400",
   "metadata": {
    "execution": {
     "iopub.execute_input": "2022-06-06T19:02:35.153439Z",
     "iopub.status.busy": "2022-06-06T19:02:35.152904Z",
     "iopub.status.idle": "2022-06-06T19:02:35.159348Z",
     "shell.execute_reply": "2022-06-06T19:02:35.158167Z"
    },
    "papermill": {
     "duration": 0.020865,
     "end_time": "2022-06-06T19:02:35.161577",
     "exception": false,
     "start_time": "2022-06-06T19:02:35.140712",
     "status": "completed"
    },
    "tags": []
   },
   "outputs": [
    {
     "name": "stdout",
     "output_type": "stream",
     "text": [
      "14\n"
     ]
    }
   ],
   "source": [
    "print(len(w))"
   ]
  },
  {
   "cell_type": "markdown",
   "id": "63fd8725",
   "metadata": {
    "papermill": {
     "duration": 0.01039,
     "end_time": "2022-06-06T19:02:35.182935",
     "exception": false,
     "start_time": "2022-06-06T19:02:35.172545",
     "status": "completed"
    },
    "tags": []
   },
   "source": [
    "空字符串是一种特殊的字符串，其长度为0。"
   ]
  },
  {
   "cell_type": "code",
   "execution_count": 14,
   "id": "d7f371f6",
   "metadata": {
    "execution": {
     "iopub.execute_input": "2022-06-06T19:02:35.206858Z",
     "iopub.status.busy": "2022-06-06T19:02:35.206386Z",
     "iopub.status.idle": "2022-06-06T19:02:35.212479Z",
     "shell.execute_reply": "2022-06-06T19:02:35.211375Z"
    },
    "papermill": {
     "duration": 0.021214,
     "end_time": "2022-06-06T19:02:35.215153",
     "exception": false,
     "start_time": "2022-06-06T19:02:35.193939",
     "status": "completed"
    },
    "tags": []
   },
   "outputs": [
    {
     "name": "stdout",
     "output_type": "stream",
     "text": [
      "<class 'str'>\n",
      "0\n"
     ]
    }
   ],
   "source": [
    "shortest_string = \"\"\n",
    "print(type(shortest_string))\n",
    "print(len(shortest_string))"
   ]
  },
  {
   "cell_type": "markdown",
   "id": "9c2ad6a9",
   "metadata": {
    "papermill": {
     "duration": 0.01063,
     "end_time": "2022-06-06T19:02:35.236818",
     "exception": false,
     "start_time": "2022-06-06T19:02:35.226188",
     "status": "completed"
    },
    "tags": []
   },
   "source": [
    "如果将数字放在引号中，则它是字符串数据类型。"
   ]
  },
  {
   "cell_type": "code",
   "execution_count": 15,
   "id": "ce5782d6",
   "metadata": {
    "execution": {
     "iopub.execute_input": "2022-06-06T19:02:35.261174Z",
     "iopub.status.busy": "2022-06-06T19:02:35.260665Z",
     "iopub.status.idle": "2022-06-06T19:02:35.267081Z",
     "shell.execute_reply": "2022-06-06T19:02:35.265998Z"
    },
    "papermill": {
     "duration": 0.021391,
     "end_time": "2022-06-06T19:02:35.269443",
     "exception": false,
     "start_time": "2022-06-06T19:02:35.248052",
     "status": "completed"
    },
    "tags": []
   },
   "outputs": [
    {
     "name": "stdout",
     "output_type": "stream",
     "text": [
      "1.12321\n",
      "<class 'str'>\n"
     ]
    }
   ],
   "source": [
    "my_number = \"1.12321\"\n",
    "print(my_number)\n",
    "print(type(my_number))"
   ]
  },
  {
   "cell_type": "markdown",
   "id": "b1627e6e",
   "metadata": {
    "papermill": {
     "duration": 0.010242,
     "end_time": "2022-06-06T19:02:35.290811",
     "exception": false,
     "start_time": "2022-06-06T19:02:35.280569",
     "status": "completed"
    },
    "tags": []
   },
   "source": [
    "如果我们有一个可以转换为浮点数的字符串，我们可以使用`float()`。\n",
    "\n",
    "这样的转换并不是一定有效的！例如，我们可以将`\"10.43430\"`和`\"3\"`转换为浮点数，但不能将`\"Hello, Python!\"`转换为浮点数。"
   ]
  },
  {
   "cell_type": "code",
   "execution_count": 16,
   "id": "49baee27",
   "metadata": {
    "execution": {
     "iopub.execute_input": "2022-06-06T19:02:35.313976Z",
     "iopub.status.busy": "2022-06-06T19:02:35.313437Z",
     "iopub.status.idle": "2022-06-06T19:02:35.319752Z",
     "shell.execute_reply": "2022-06-06T19:02:35.318383Z"
    },
    "papermill": {
     "duration": 0.02159,
     "end_time": "2022-06-06T19:02:35.323023",
     "exception": false,
     "start_time": "2022-06-06T19:02:35.301433",
     "status": "completed"
    },
    "tags": []
   },
   "outputs": [
    {
     "name": "stdout",
     "output_type": "stream",
     "text": [
      "1.12321\n",
      "<class 'float'>\n"
     ]
    }
   ],
   "source": [
    "also_my_number = float(my_number)\n",
    "print(also_my_number)\n",
    "print(type(also_my_number))"
   ]
  },
  {
   "cell_type": "markdown",
   "id": "f9e71c3f",
   "metadata": {
    "papermill": {
     "duration": 0.010048,
     "end_time": "2022-06-06T19:02:35.343701",
     "exception": false,
     "start_time": "2022-06-06T19:02:35.333653",
     "status": "completed"
    },
    "tags": []
   },
   "source": [
    "就像可以将两个数字(浮点数或整数)相加一样，也可以将两个字符串相加。它的结果是一个更长的字符串，它通过连接两个原始字符串来组合它们。"
   ]
  },
  {
   "cell_type": "code",
   "execution_count": 17,
   "id": "df0f3a78",
   "metadata": {
    "execution": {
     "iopub.execute_input": "2022-06-06T19:02:35.367386Z",
     "iopub.status.busy": "2022-06-06T19:02:35.366863Z",
     "iopub.status.idle": "2022-06-06T19:02:35.372721Z",
     "shell.execute_reply": "2022-06-06T19:02:35.371698Z"
    },
    "papermill": {
     "duration": 0.021224,
     "end_time": "2022-06-06T19:02:35.375312",
     "exception": false,
     "start_time": "2022-06-06T19:02:35.354088",
     "status": "completed"
    },
    "tags": []
   },
   "outputs": [
    {
     "name": "stdout",
     "output_type": "stream",
     "text": [
      "abcdef\n",
      "<class 'str'>\n"
     ]
    }
   ],
   "source": [
    "new_string = \"abc\" + \"def\"\n",
    "print(new_string)\n",
    "print(type(new_string))"
   ]
  },
  {
   "cell_type": "markdown",
   "id": "702b725c",
   "metadata": {
    "papermill": {
     "duration": 0.010356,
     "end_time": "2022-06-06T19:02:35.396412",
     "exception": false,
     "start_time": "2022-06-06T19:02:35.386056",
     "status": "completed"
    },
    "tags": []
   },
   "source": [
    "请注意，不能对两个字符串进行减法或除法运算。\n",
    "两个字符串不能相乘，但字符串可以乘以整数。你会得到字符串的重复，字符串乘的整数只是原始字符串与自己连接指定次数。"
   ]
  },
  {
   "cell_type": "code",
   "execution_count": 18,
   "id": "3eaabc77",
   "metadata": {
    "execution": {
     "iopub.execute_input": "2022-06-06T19:02:35.420913Z",
     "iopub.status.busy": "2022-06-06T19:02:35.420451Z",
     "iopub.status.idle": "2022-06-06T19:02:35.425370Z",
     "shell.execute_reply": "2022-06-06T19:02:35.424511Z"
    },
    "papermill": {
     "duration": 0.020352,
     "end_time": "2022-06-06T19:02:35.428134",
     "exception": false,
     "start_time": "2022-06-06T19:02:35.407782",
     "status": "completed"
    },
    "tags": []
   },
   "outputs": [
    {
     "name": "stdout",
     "output_type": "stream",
     "text": [
      "abcabcabc\n",
      "<class 'str'>\n"
     ]
    }
   ],
   "source": [
    "newest_string = \"abc\" * 3\n",
    "print(newest_string)\n",
    "print(type(newest_string))"
   ]
  },
  {
   "cell_type": "markdown",
   "id": "5efd245d",
   "metadata": {
    "papermill": {
     "duration": 0.010425,
     "end_time": "2022-06-06T19:02:35.449608",
     "exception": false,
     "start_time": "2022-06-06T19:02:35.439183",
     "status": "completed"
    },
    "tags": []
   },
   "source": [
    "注意，不能将字符串与浮点数相乘!这样做会报错。"
   ]
  },
  {
   "cell_type": "code",
   "execution_count": 19,
   "id": "68a1cbd2",
   "metadata": {
    "execution": {
     "iopub.execute_input": "2022-06-06T19:02:35.473054Z",
     "iopub.status.busy": "2022-06-06T19:02:35.472594Z",
     "iopub.status.idle": "2022-06-06T19:02:35.548811Z",
     "shell.execute_reply": "2022-06-06T19:02:35.547376Z"
    },
    "papermill": {
     "duration": 0.091309,
     "end_time": "2022-06-06T19:02:35.551571",
     "exception": false,
     "start_time": "2022-06-06T19:02:35.460262",
     "status": "completed"
    },
    "tags": []
   },
   "outputs": [
    {
     "ename": "TypeError",
     "evalue": "can't multiply sequence by non-int of type 'float'",
     "output_type": "error",
     "traceback": [
      "\u001b[1;31m---------------------------------------------------------------------------\u001b[0m",
      "\u001b[1;31mTypeError\u001b[0m                                 Traceback (most recent call last)",
      "\u001b[1;32m~\\AppData\\Local\\Temp\\ipykernel_11160\\2386798361.py\u001b[0m in \u001b[0;36m<module>\u001b[1;34m\u001b[0m\n\u001b[1;32m----> 1\u001b[1;33m \u001b[0mwill_not_work\u001b[0m \u001b[1;33m=\u001b[0m \u001b[1;34m\"abc\"\u001b[0m \u001b[1;33m*\u001b[0m \u001b[1;36m3.\u001b[0m\u001b[1;33m\u001b[0m\u001b[1;33m\u001b[0m\u001b[0m\n\u001b[0m",
      "\u001b[1;31mTypeError\u001b[0m: can't multiply sequence by non-int of type 'float'"
     ]
    }
   ],
   "source": [
    "will_not_work = \"abc\" * 3."
   ]
  },
  {
   "cell_type": "markdown",
   "id": "a5342ee5",
   "metadata": {
    "papermill": {
     "duration": 0.010631,
     "end_time": "2022-06-06T19:02:35.573136",
     "exception": false,
     "start_time": "2022-06-06T19:02:35.562505",
     "status": "completed"
    },
    "tags": []
   },
   "source": [
    "观察报错信息，`sequence`是字符串`\" abc\"`，而`非int类型的'float'`是浮点数` 3 `。因此，错误消息可以改写为“can't string by float”。\n",
    "\n",
    "\n",
    "# 课后练习\n",
    "\n",
    "自己尝试编程practice2_data-types.ipynb"
   ]
  },
  {
   "cell_type": "code",
   "execution_count": null,
   "id": "a84b057f",
   "metadata": {},
   "outputs": [],
   "source": []
  }
 ],
 "metadata": {
  "kernelspec": {
   "display_name": "Python 3 (ipykernel)",
   "language": "python",
   "name": "python3"
  },
  "language_info": {
   "codemirror_mode": {
    "name": "ipython",
    "version": 3
   },
   "file_extension": ".py",
   "mimetype": "text/x-python",
   "name": "python",
   "nbconvert_exporter": "python",
   "pygments_lexer": "ipython3",
   "version": "3.9.13"
  },
  "papermill": {
   "default_parameters": {},
   "duration": 14.375086,
   "end_time": "2022-06-06T19:02:36.530462",
   "environment_variables": {},
   "exception": null,
   "input_path": "__notebook__.ipynb",
   "output_path": "__notebook__.ipynb",
   "parameters": {},
   "start_time": "2022-06-06T19:02:22.155376",
   "version": "2.3.3"
  }
 },
 "nbformat": 4,
 "nbformat_minor": 5
}
